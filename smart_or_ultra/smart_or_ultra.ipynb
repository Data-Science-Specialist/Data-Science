{
 "cells": [
  {
   "cell_type": "markdown",
   "metadata": {},
   "source": [
    "# «Смарт» или «Ультра»"
   ]
  },
  {
   "cell_type": "markdown",
   "metadata": {},
   "source": [
    "Изучим данные, предоставленные сервисом для проекта."
   ]
  },
  {
   "cell_type": "markdown",
   "metadata": {},
   "source": [
    "## шаг. Открыть файл с данными и изучить его."
   ]
  },
  {
   "cell_type": "code",
   "execution_count": 1,
   "metadata": {},
   "outputs": [],
   "source": [
    "#импортируем необходимые библиотеки\n",
    "import pandas as pd\n",
    "import numpy as np\n",
    "import random\n",
    "from sklearn.model_selection import train_test_split\n",
    "from sklearn.tree import DecisionTreeClassifier\n",
    "from sklearn.metrics import accuracy_score\n",
    "from sklearn.ensemble import RandomForestClassifier\n",
    "from sklearn.dummy import DummyClassifier\n",
    "from sklearn.linear_model import LogisticRegression\n",
    "from sklearn.metrics import mean_squared_error\n",
    "from sklearn.ensemble import RandomForestRegressor\n",
    "from sklearn.tree import DecisionTreeRegressor\n",
    "from sklearn.linear_model import LinearRegression"
   ]
  },
  {
   "cell_type": "code",
   "execution_count": 2,
   "metadata": {},
   "outputs": [
    {
     "data": {
      "text/html": [
       "<div>\n",
       "<style scoped>\n",
       "    .dataframe tbody tr th:only-of-type {\n",
       "        vertical-align: middle;\n",
       "    }\n",
       "\n",
       "    .dataframe tbody tr th {\n",
       "        vertical-align: top;\n",
       "    }\n",
       "\n",
       "    .dataframe thead th {\n",
       "        text-align: right;\n",
       "    }\n",
       "</style>\n",
       "<table border=\"1\" class=\"dataframe\">\n",
       "  <thead>\n",
       "    <tr style=\"text-align: right;\">\n",
       "      <th></th>\n",
       "      <th>calls</th>\n",
       "      <th>minutes</th>\n",
       "      <th>messages</th>\n",
       "      <th>mb_used</th>\n",
       "      <th>is_ultra</th>\n",
       "    </tr>\n",
       "  </thead>\n",
       "  <tbody>\n",
       "    <tr>\n",
       "      <td>0</td>\n",
       "      <td>40.0</td>\n",
       "      <td>311.90</td>\n",
       "      <td>83.0</td>\n",
       "      <td>19915.42</td>\n",
       "      <td>0</td>\n",
       "    </tr>\n",
       "    <tr>\n",
       "      <td>1</td>\n",
       "      <td>85.0</td>\n",
       "      <td>516.75</td>\n",
       "      <td>56.0</td>\n",
       "      <td>22696.96</td>\n",
       "      <td>0</td>\n",
       "    </tr>\n",
       "    <tr>\n",
       "      <td>2</td>\n",
       "      <td>77.0</td>\n",
       "      <td>467.66</td>\n",
       "      <td>86.0</td>\n",
       "      <td>21060.45</td>\n",
       "      <td>0</td>\n",
       "    </tr>\n",
       "    <tr>\n",
       "      <td>3</td>\n",
       "      <td>106.0</td>\n",
       "      <td>745.53</td>\n",
       "      <td>81.0</td>\n",
       "      <td>8437.39</td>\n",
       "      <td>1</td>\n",
       "    </tr>\n",
       "    <tr>\n",
       "      <td>4</td>\n",
       "      <td>66.0</td>\n",
       "      <td>418.74</td>\n",
       "      <td>1.0</td>\n",
       "      <td>14502.75</td>\n",
       "      <td>0</td>\n",
       "    </tr>\n",
       "  </tbody>\n",
       "</table>\n",
       "</div>"
      ],
      "text/plain": [
       "   calls  minutes  messages   mb_used  is_ultra\n",
       "0   40.0   311.90      83.0  19915.42         0\n",
       "1   85.0   516.75      56.0  22696.96         0\n",
       "2   77.0   467.66      86.0  21060.45         0\n",
       "3  106.0   745.53      81.0   8437.39         1\n",
       "4   66.0   418.74       1.0  14502.75         0"
      ]
     },
     "execution_count": 2,
     "metadata": {},
     "output_type": "execute_result"
    }
   ],
   "source": [
    "# чтение файла с данными в случае локальной работы и сохранение в df\n",
    "try:\n",
    "    df = pd.read_csv(r'E:\\DS\\users_behavior.csv')\n",
    "# чтение файла с данными в случае работы online и сохранение в df\n",
    "except:\n",
    "    df = pd.read_csv('/datasets/users_behavior.csv') \n",
    "\n",
    "df.head()"
   ]
  },
  {
   "cell_type": "code",
   "execution_count": 3,
   "metadata": {},
   "outputs": [
    {
     "name": "stdout",
     "output_type": "stream",
     "text": [
      "<class 'pandas.core.frame.DataFrame'>\n",
      "RangeIndex: 3214 entries, 0 to 3213\n",
      "Data columns (total 5 columns):\n",
      "calls       3214 non-null float64\n",
      "minutes     3214 non-null float64\n",
      "messages    3214 non-null float64\n",
      "mb_used     3214 non-null float64\n",
      "is_ultra    3214 non-null int64\n",
      "dtypes: float64(4), int64(1)\n",
      "memory usage: 125.7 KB\n"
     ]
    }
   ],
   "source": [
    "df.info()"
   ]
  },
  {
   "cell_type": "markdown",
   "metadata": {},
   "source": [
    "В датасете 5 столбцов, пропусков в данных нет, стилистических и синтаксических нарушений нет.<br/>\n",
    "Обратимся к описанию данных:<br/>\n",
    "<b>сalls </b> — количество звонков;<br/>\n",
    "<b>minutes</b> — суммарная длительность звонков в минутах;<br/>\n",
    "<b>messages</b> — количество sms-сообщений;<br/>\n",
    "<b>mb_used</b> — израсходованный интернет-трафик в Мб;<br/>\n",
    "<b>is_ultra</b> — каким тарифом пользовался в течение месяца («Ультра» — 1, «Смарт» — 0). "
   ]
  },
  {
   "cell_type": "markdown",
   "metadata": {},
   "source": [
    "**Вывод.**<br/>\n",
    "Поскольку данные не нуждаются в предобработке, переходим к дальнейшему исследованию. "
   ]
  },
  {
   "cell_type": "markdown",
   "metadata": {},
   "source": [
    "## шаг. Разделить исходные данные на обучающую, валидационную и тестовую выборки."
   ]
  },
  {
   "cell_type": "markdown",
   "metadata": {},
   "source": [
    "Спрятанной тестовой выборки нет. Значит, данные нужно разбить на три части: обучающую, валидационную и тестовую. Размеры тестового и валидационного наборов обычно равны. Исходные данные разбивают в соотношении 3:1:1."
   ]
  },
  {
   "cell_type": "code",
   "execution_count": 4,
   "metadata": {},
   "outputs": [
    {
     "name": "stdout",
     "output_type": "stream",
     "text": [
      "(1928, 4)\n",
      "(1928,)\n",
      "(643, 4)\n",
      "(643,)\n",
      "(643, 4)\n",
      "(643,)\n",
      "None\n"
     ]
    }
   ],
   "source": [
    "#признаки и цели для исходного датасета\n",
    "features = df.drop(['is_ultra'], axis=1)\n",
    "target = df['is_ultra']\n",
    "\n",
    "#разделим исходные данные на три выборки\n",
    "train, validate, test = np.split(df.sample(frac=1, random_state=12345),  [int(.6*len(df)), int(.8*len(df))])\n",
    "\n",
    "#признаки и цель для обучающей выборки\n",
    "features_train = train.drop(['is_ultra'], axis=1)\n",
    "target_train = train['is_ultra']\n",
    "\n",
    "#признаки и цель для валидационной выборки\n",
    "features_validate = validate.drop(['is_ultra'], axis=1)\n",
    "target_validate = validate['is_ultra']\n",
    "\n",
    "#признаки и цель для тестовой выборки\n",
    "features_test = test.drop(['is_ultra'], axis=1)\n",
    "target_test = test['is_ultra']\n",
    "\n",
    "    \n",
    "#посмотрим на размер новых даатасетов\n",
    "def info_df(features_train, target_train, features_validate, target_validate, features_test, target_test): #на вход функция принимает все датасеты сразу\n",
    "    df_all = [features_train, target_train, features_validate, target_validate, features_test, target_test]\n",
    "    for i in df_all:\n",
    "        print(i.shape)\n",
    "                    \n",
    "print(info_df(features_train, target_train, features_validate, target_validate, features_test, target_test))"
   ]
  },
  {
   "cell_type": "markdown",
   "metadata": {},
   "source": [
    "### Исследовать качество разных моделей, меняя гиперпараметры. Кратко напишите выводы исследования."
   ]
  },
  {
   "cell_type": "markdown",
   "metadata": {},
   "source": [
    "Проверять на тестовой выборке пока не нужно, сначала найдём наилучшую модель."
   ]
  },
  {
   "cell_type": "code",
   "execution_count": 5,
   "metadata": {
    "scrolled": true
   },
   "outputs": [
    {
     "name": "stdout",
     "output_type": "stream",
     "text": [
      "0.7744945567651633\n",
      "   max_depth  accuracy\n",
      "3          4  0.774495\n",
      "4          5  0.772939\n",
      "2          3  0.766719\n",
      "1          2  0.751166\n",
      "0          1  0.721617\n"
     ]
    }
   ],
   "source": [
    "#Дерево решений\n",
    "ff = []\n",
    "\n",
    "for depth in range(1, 6):\n",
    "    model = DecisionTreeClassifier(random_state=12345, max_depth=depth) \n",
    "    \n",
    "    model.fit(features_train, target_train) #обучаем на тренировочной выборке,\n",
    "    \n",
    "    predictions_validate = model.predict(features_validate) #а предсказание - на валидационной\n",
    "           \n",
    "    ff.append({'max_depth': depth, 'accuracy': accuracy_score(target_validate, predictions_validate)})   \n",
    "        \n",
    "ff = pd.DataFrame(ff)\n",
    "print(max(ff['accuracy']))\n",
    "print(ff.sort_values('accuracy', ascending=False))"
   ]
  },
  {
   "cell_type": "code",
   "execution_count": 6,
   "metadata": {},
   "outputs": [
    {
     "name": "stdout",
     "output_type": "stream",
     "text": [
      "Accuracy модели случайный лес на валидационной выборке: 0.7807153965785381\n"
     ]
    }
   ],
   "source": [
    "#Случайный лес\n",
    "best_model = None\n",
    "best_result = 0\n",
    "for est in range(1, 11):\n",
    "    model = RandomForestClassifier(random_state=12345, n_estimators=est) #обучаем модель с заданным количеством деревьев\n",
    "    model.fit(features_train, target_train) #обучаем модель на тренировочной выборке\n",
    "    result = model.score(features_validate, target_validate) #посчитаем качество модели на валидационной выборке\n",
    "    if result > best_result:\n",
    "        best_model = model #сохраняем наилучшую модель\n",
    "        best_result = result #сохраняем наилучшее значение метрики accuracy на валидационных данных\n",
    "\n",
    "print(\"Accuracy модели случайный лес на валидационной выборке:\", best_result)"
   ]
  },
  {
   "cell_type": "code",
   "execution_count": 7,
   "metadata": {},
   "outputs": [
    {
     "name": "stdout",
     "output_type": "stream",
     "text": [
      "Accuracy модели случайный лес на валидационной выборке: 0.8040435458786936\n"
     ]
    }
   ],
   "source": [
    "#Случайный лес\n",
    "best_model = None\n",
    "best_result = 0\n",
    "for est in range(1, 11):\n",
    "    for n_samples in range(1, 20):\n",
    "        for depth in range(1, 15):\n",
    "            model = RandomForestClassifier(  #обучаем с заданными параметрами:\n",
    "                random_state=12345, \n",
    "                max_depth = depth, #максимальная глубина деревьев\n",
    "                n_estimators=est,  #число «деревьев» в «случайном лесу»\n",
    "                n_jobs = -1, #распараллеливание,используются все ядра, имеющиеся на машине \n",
    "                max_features = 'auto', #число признаков, по которым ищется разбиение\n",
    "                min_samples_leaf = n_samples)  #минимальное число объектов в листьях\n",
    "            model.fit(features_train, target_train) #обучаем модель на тренировочной выборке\n",
    "            result = model.score(features_validate, target_validate) #посчитаем кач-во модели на валидационной выборке\n",
    "            if result > best_result:\n",
    "                best_model = model #сохраняем наилучшую модель\n",
    "                best_result = result #сохраняем наилучшее значение метрики accuracy на валидационных данных\n",
    "\n",
    "print(\"Accuracy модели случайный лес на валидационной выборке:\", best_result)"
   ]
  },
  {
   "cell_type": "code",
   "execution_count": 8,
   "metadata": {},
   "outputs": [
    {
     "name": "stdout",
     "output_type": "stream",
     "text": [
      "Accuracy модели логистической регрессии на валидационной выборке: 0.6765163297045101\n"
     ]
    },
    {
     "name": "stderr",
     "output_type": "stream",
     "text": [
      "/opt/conda/lib/python3.7/site-packages/sklearn/linear_model/logistic.py:432: FutureWarning: Default solver will be changed to 'lbfgs' in 0.22. Specify a solver to silence this warning.\n",
      "  FutureWarning)\n"
     ]
    }
   ],
   "source": [
    "#Логистическая регрессия\n",
    "model = LogisticRegression(random_state=12345) #инициализируем модель логистической регрессии с параметром random_state=12345\n",
    "model.fit(features_train, target_train) #обучим модель на тренировочной выборке\n",
    "result = model.score(features_validate, target_validate) #получим метрику качества модели на валидационной выборке\n",
    " \n",
    "print(\"Accuracy модели логистической регрессии на валидационной выборке:\", result)"
   ]
  },
  {
   "cell_type": "markdown",
   "metadata": {},
   "source": [
    "Итак наилучшей моделью определён \"случайный лес\"."
   ]
  },
  {
   "cell_type": "markdown",
   "metadata": {},
   "source": [
    "### Проверить качество модели на тестовой выборке."
   ]
  },
  {
   "cell_type": "markdown",
   "metadata": {},
   "source": [
    "Чем выше качество модели, тем лучше. Но её внедрение должно быть оправданно. Очевидные границы: accuracy не может быть меньше нуля (все ответы неправильные) и больше единицы (все ответы правильные). "
   ]
  },
  {
   "cell_type": "code",
   "execution_count": 9,
   "metadata": {},
   "outputs": [
    {
     "name": "stdout",
     "output_type": "stream",
     "text": [
      "Accuracy модели случайный лес на тестовой выборке: 0.7993779160186625\n"
     ]
    }
   ],
   "source": [
    "model = RandomForestClassifier(random_state=12345, n_estimators=100) #обучаем модель с заданным количеством деревьев\n",
    "model.fit(features_train, target_train) #обучаем модель на тренировочной выборке\n",
    "target_predict = model.predict(features_test) #предсказание на тесте\n",
    "pred = model.score(features_test, target_test) #посчитаем качество модели на тестовой выборке\n",
    "print(\"Accuracy модели случайный лес на тестовой выборке:\", pred)"
   ]
  },
  {
   "cell_type": "markdown",
   "metadata": {},
   "source": [
    "Отличается ли accuracy на валидационной и тестовой выборках необходимо узнать."
   ]
  },
  {
   "cell_type": "code",
   "execution_count": 10,
   "metadata": {},
   "outputs": [
    {
     "name": "stdout",
     "output_type": "stream",
     "text": [
      "Accuracy\n",
      "Валидационная выборка: 0.71850699844479\n",
      "Тестовая выборка: 0.7402799377916018\n"
     ]
    }
   ],
   "source": [
    "#отличается ли accuracy на валидационной и тестовой выборках\n",
    "model = DecisionTreeClassifier(random_state=12345)\n",
    "model.fit(features_train, target_train)\n",
    " \n",
    "predictions_validate = model.predict(features_validate)\n",
    "accuracy = accuracy_score(target_validate, predictions_validate) \n",
    " \n",
    "predictions_test = model.predict(features_test)\n",
    "accuracy_test = accuracy_score(target_test, predictions_test) \n",
    " \n",
    "print(\"Accuracy\")\n",
    "print(\"Валидационная выборка:\", accuracy)\n",
    "print(\"Тестовая выборка:\", accuracy_test)"
   ]
  },
  {
   "cell_type": "markdown",
   "metadata": {},
   "source": [
    "**Вывод**"
   ]
  },
  {
   "cell_type": "markdown",
   "metadata": {},
   "source": [
    "Итак наилучшей моделью определён \"случайный лес\". Его Accuracy на валидационной выборке: 0.7807153965785381. Accuracy на обучающей и тестовой выборках немного разнятся."
   ]
  },
  {
   "cell_type": "markdown",
   "metadata": {},
   "source": [
    "## шаг. Дополнительное задание: проверить модели на вменяемость."
   ]
  },
  {
   "cell_type": "markdown",
   "metadata": {},
   "source": [
    "Чтобы оценить адекватность модели в задачах классификации, нужно сравнить её со случайной."
   ]
  },
  {
   "cell_type": "code",
   "execution_count": 11,
   "metadata": {},
   "outputs": [
    {
     "name": "stdout",
     "output_type": "stream",
     "text": [
      "<class 'pandas.core.frame.DataFrame'>\n",
      "RangeIndex: 3214 entries, 0 to 3213\n",
      "Data columns (total 6 columns):\n",
      "calls            3214 non-null float64\n",
      "minutes          3214 non-null float64\n",
      "messages         3214 non-null float64\n",
      "mb_used          3214 non-null float64\n",
      "is_ultra         3214 non-null int64\n",
      "random_column    3214 non-null int64\n",
      "dtypes: float64(4), int64(2)\n",
      "memory usage: 150.8 KB\n"
     ]
    }
   ],
   "source": [
    "#создадим столбец в исходном датасете с набором случайно распределенных значений (т.е. с вероятностью 0.5 получаем либо 1, либо 0)\n",
    "a = np.array([0, 1])\n",
    "\n",
    "df['random_column'] = np.random.choice(a, 3214, replace=True) \n",
    "\n",
    "df.info()"
   ]
  },
  {
   "cell_type": "code",
   "execution_count": 12,
   "metadata": {
    "scrolled": true
   },
   "outputs": [
    {
     "name": "stdout",
     "output_type": "stream",
     "text": [
      "(2410, 4)\n",
      "(2410,)\n",
      "(804, 4)\n",
      "(804,)\n",
      "None\n"
     ]
    }
   ],
   "source": [
    "#признаки и цели для нового датасета\n",
    "features_new = df.drop(['is_ultra', 'random_column'], axis=1)\n",
    "target_new = df['random_column']\n",
    "\n",
    "#разделим исходные данные на две выборки\n",
    "train_new, validate_new = train_test_split(df, test_size=0.25, random_state=12345)\n",
    "\n",
    "#признаки и цель для обучающей выборки\n",
    "features_train_new = train_new.drop(['is_ultra', 'random_column'], axis=1)\n",
    "target_train_new = train_new['random_column']\n",
    "\n",
    "#признаки и цель для валидационной выборки\n",
    "features_validate_new = validate_new.drop(['is_ultra', 'random_column'], axis=1)\n",
    "target_validate_new = validate_new['random_column']\n",
    "\n",
    "    \n",
    "#посмотрим на размер новых даатасетов\n",
    "def info_df(features_train_new, target_train_new, features_validate_new, target_validate_new): #на вход функция принимает все датасеты сразу\n",
    "    df_all = [features_train_new, target_train_new, features_validate_new, target_validate_new]\n",
    "    for i in df_all:\n",
    "        print(i.shape)\n",
    "                    \n",
    "print(info_df(features_train_new, target_train_new, features_validate_new, target_validate_new))"
   ]
  },
  {
   "cell_type": "markdown",
   "metadata": {},
   "source": [
    "Лучшей моделью был определён Случайный лес. Обучим её и проверим, а далее сравним полученное accuracy с accuracy предыдущим."
   ]
  },
  {
   "cell_type": "code",
   "execution_count": 13,
   "metadata": {},
   "outputs": [
    {
     "name": "stdout",
     "output_type": "stream",
     "text": [
      "Accuracy модели случайный лес на валидационной выборке: 0.5398009950248757\n"
     ]
    }
   ],
   "source": [
    "#Случайный лес\n",
    "best_model = None\n",
    "best_result = 0\n",
    "for est in range(1, 11):\n",
    "    model = RandomForestClassifier(random_state=12345, n_estimators=est) #обучаем модель с заданным количеством деревьев\n",
    "    model.fit(features_train_new, target_train_new) #обучаем модель на тренировочной выборке\n",
    "    result = model.score(features_validate_new, target_validate_new) #посчитаем качество модели на валидационной выборке\n",
    "    if result > best_result:\n",
    "        best_model = model #сохраняем наилучшую модель\n",
    "        best_result = result #сохраняем наилучшее значение метрики accuracy на валидационных данных\n",
    " \n",
    "print(\"Accuracy модели случайный лес на валидационной выборке:\", best_result)"
   ]
  },
  {
   "cell_type": "code",
   "execution_count": 14,
   "metadata": {},
   "outputs": [
    {
     "name": "stdout",
     "output_type": "stream",
     "text": [
      "Accuracy\n",
      "Обучающая выборка: 1.0\n",
      "Тестовая выборка: 0.48833592534992226\n"
     ]
    }
   ],
   "source": [
    "#отличается ли accuracy на обучающей и тестовой выборках\n",
    "model = DecisionTreeClassifier(random_state=12345)\n",
    "model.fit(features_new, target_new)\n",
    " \n",
    "predictions_train_new = model.predict(features_train_new)\n",
    "accuracy = accuracy_score(target_train_new, predictions_train_new) \n",
    " \n",
    "predictions_test = model.predict(features_test)\n",
    "accuracy_test = accuracy_score(target_test, predictions_test) \n",
    " \n",
    "print(\"Accuracy\")\n",
    "print(\"Обучающая выборка:\", accuracy)\n",
    "print(\"Тестовая выборка:\", accuracy_test)"
   ]
  },
  {
   "cell_type": "markdown",
   "metadata": {},
   "source": [
    "Accuracy тестовой выборки намного ниже чем Accuracy обучающей. Значит случайная модель хорошо справилась с обучающим набором данных, но с тестовым у неё возникли сложности. Получается, что выбранная наилучшая модель Случайный лес вполне вменяема и показала лучшие результаты по сравнению со случайной моделью."
   ]
  },
  {
   "cell_type": "markdown",
   "metadata": {},
   "source": [
    "Самый частотный класс - 0."
   ]
  },
  {
   "cell_type": "code",
   "execution_count": 19,
   "metadata": {},
   "outputs": [
    {
     "data": {
      "text/html": [
       "<div>\n",
       "<style scoped>\n",
       "    .dataframe tbody tr th:only-of-type {\n",
       "        vertical-align: middle;\n",
       "    }\n",
       "\n",
       "    .dataframe tbody tr th {\n",
       "        vertical-align: top;\n",
       "    }\n",
       "\n",
       "    .dataframe thead th {\n",
       "        text-align: right;\n",
       "    }\n",
       "</style>\n",
       "<table border=\"1\" class=\"dataframe\">\n",
       "  <thead>\n",
       "    <tr style=\"text-align: right;\">\n",
       "      <th></th>\n",
       "      <th>most_frequent</th>\n",
       "    </tr>\n",
       "  </thead>\n",
       "  <tbody>\n",
       "    <tr>\n",
       "      <td>0</td>\n",
       "      <td>0.693528</td>\n",
       "    </tr>\n",
       "  </tbody>\n",
       "</table>\n",
       "</div>"
      ],
      "text/plain": [
       "   most_frequent\n",
       "0       0.693528"
      ]
     },
     "execution_count": 19,
     "metadata": {},
     "output_type": "execute_result"
    }
   ],
   "source": [
    "strategies=['most_frequent']\n",
    "\n",
    "predictions_results = []\n",
    "for strategy in strategies:\n",
    "    random_model = DummyClassifier(strategy=strategy, random_state = 1235)\n",
    "    random_model.fit(features, target)\n",
    "    results = random_model.score(features, target)\n",
    "    predictions_results.append({strategy: results})\n",
    "    \n",
    "pd.DataFrame(predictions_results)"
   ]
  },
  {
   "cell_type": "code",
   "execution_count": 16,
   "metadata": {},
   "outputs": [
    {
     "data": {
      "text/plain": [
       "0    0.693528\n",
       "1    0.306472\n",
       "Name: is_ultra, dtype: float64"
      ]
     },
     "execution_count": 16,
     "metadata": {},
     "output_type": "execute_result"
    }
   ],
   "source": [
    "#посчитаем точность большего класса\n",
    "df['is_ultra'].value_counts() / df.shape[0]"
   ]
  },
  {
   "cell_type": "markdown",
   "metadata": {},
   "source": [
    "### шаг. Написать общий вывод."
   ]
  },
  {
   "cell_type": "markdown",
   "metadata": {},
   "source": [
    "<body>\n",
    "    Итак наилучшей моделью определён \"случайный лес\". Его Accuracy на валидационной выборке составило 0.78. После проверки выбранной модели Accuracy на обучающей и тестовой выборках оказались одинаковые. Предсказания и ответы совпали.<br/>\n",
    "    При проверки модели на вменяемость, мы сравнили её со случайной, и получили результаты:<br/>\n",
    "    Accuracy тестовой выборки намного ниже чем Accuracy обучающей. Значсит случайная модель хорошо справилась с обучающим набором данных, но с тестовым у неё возникли сложности.<br/>\n",
    "    Получается, что выбранная наилучшая модель Случайный лес вполне вменяема и показала лучшие результаты по сравнению со случайной моделью.\n",
    "    </body>"
   ]
  }
 ],
 "metadata": {
  "ExecuteTimeLog": [
   {
    "duration": 1535,
    "start_time": "2022-02-21T20:57:14.030Z"
   },
   {
    "duration": 4336,
    "start_time": "2022-02-21T20:57:15.569Z"
   },
   {
    "duration": -96,
    "start_time": "2022-02-21T20:57:20.005Z"
   },
   {
    "duration": -99,
    "start_time": "2022-02-21T20:57:20.010Z"
   },
   {
    "duration": -103,
    "start_time": "2022-02-21T20:57:20.016Z"
   },
   {
    "duration": -106,
    "start_time": "2022-02-21T20:57:20.020Z"
   },
   {
    "duration": -110,
    "start_time": "2022-02-21T20:57:20.026Z"
   },
   {
    "duration": -114,
    "start_time": "2022-02-21T20:57:20.031Z"
   },
   {
    "duration": -116,
    "start_time": "2022-02-21T20:57:20.035Z"
   },
   {
    "duration": -119,
    "start_time": "2022-02-21T20:57:20.039Z"
   },
   {
    "duration": -122,
    "start_time": "2022-02-21T20:57:20.044Z"
   },
   {
    "duration": -125,
    "start_time": "2022-02-21T20:57:20.048Z"
   },
   {
    "duration": -136,
    "start_time": "2022-02-21T20:57:20.060Z"
   },
   {
    "duration": -138,
    "start_time": "2022-02-21T20:57:20.064Z"
   },
   {
    "duration": -141,
    "start_time": "2022-02-21T20:57:20.068Z"
   },
   {
    "duration": -142,
    "start_time": "2022-02-21T20:57:20.071Z"
   },
   {
    "duration": 295,
    "start_time": "2022-02-21T20:57:42.163Z"
   },
   {
    "duration": 21,
    "start_time": "2022-02-21T20:57:44.855Z"
   },
   {
    "duration": 30,
    "start_time": "2022-02-21T20:57:46.083Z"
   },
   {
    "duration": 13,
    "start_time": "2022-02-21T20:57:46.925Z"
   },
   {
    "duration": 20,
    "start_time": "2022-02-21T20:57:47.147Z"
   },
   {
    "duration": 8,
    "start_time": "2022-02-21T20:57:47.600Z"
   },
   {
    "duration": 10,
    "start_time": "2022-02-21T20:57:47.992Z"
   },
   {
    "duration": 7,
    "start_time": "2022-02-21T20:57:48.598Z"
   },
   {
    "duration": 10,
    "start_time": "2022-02-21T20:57:49.037Z"
   },
   {
    "duration": 12,
    "start_time": "2022-02-21T20:57:50.129Z"
   },
   {
    "duration": 29,
    "start_time": "2022-02-21T20:57:50.341Z"
   },
   {
    "duration": 413,
    "start_time": "2022-02-21T20:57:51.010Z"
   },
   {
    "duration": 6,
    "start_time": "2022-02-21T20:57:51.623Z"
   },
   {
    "duration": 19,
    "start_time": "2022-02-21T20:57:51.861Z"
   },
   {
    "duration": 29,
    "start_time": "2022-02-21T20:57:55.036Z"
   },
   {
    "duration": 448,
    "start_time": "2022-02-21T20:57:55.761Z"
   },
   {
    "duration": 103,
    "start_time": "2022-02-21T20:58:10.749Z"
   },
   {
    "duration": 117,
    "start_time": "2022-02-21T21:00:54.745Z"
   },
   {
    "duration": 331,
    "start_time": "2022-02-21T21:01:18.439Z"
   },
   {
    "duration": 4,
    "start_time": "2022-02-21T21:01:37.958Z"
   },
   {
    "duration": 320,
    "start_time": "2022-02-21T21:01:38.723Z"
   },
   {
    "duration": 5,
    "start_time": "2022-02-21T21:01:55.839Z"
   },
   {
    "duration": 367,
    "start_time": "2022-02-21T21:01:56.388Z"
   },
   {
    "duration": 330,
    "start_time": "2022-02-21T21:03:15.162Z"
   },
   {
    "duration": 316,
    "start_time": "2022-02-21T21:03:24.166Z"
   },
   {
    "duration": 385,
    "start_time": "2022-02-21T21:04:01.680Z"
   },
   {
    "duration": 482,
    "start_time": "2022-02-21T21:04:44.106Z"
   },
   {
    "duration": 3,
    "start_time": "2022-02-21T21:05:45.993Z"
   },
   {
    "duration": 311,
    "start_time": "2022-02-22T06:46:53.614Z"
   },
   {
    "duration": 1545,
    "start_time": "2022-02-22T06:54:29.091Z"
   },
   {
    "duration": 241,
    "start_time": "2022-02-22T06:54:30.639Z"
   },
   {
    "duration": 14,
    "start_time": "2022-02-22T06:54:30.883Z"
   },
   {
    "duration": 32,
    "start_time": "2022-02-22T06:54:30.900Z"
   },
   {
    "duration": 28,
    "start_time": "2022-02-22T06:54:30.935Z"
   },
   {
    "duration": 19,
    "start_time": "2022-02-22T06:54:30.966Z"
   },
   {
    "duration": 9,
    "start_time": "2022-02-22T06:54:30.988Z"
   },
   {
    "duration": 28,
    "start_time": "2022-02-22T06:54:31.001Z"
   },
   {
    "duration": 7,
    "start_time": "2022-02-22T06:54:31.032Z"
   },
   {
    "duration": 12,
    "start_time": "2022-02-22T06:54:31.042Z"
   },
   {
    "duration": 14,
    "start_time": "2022-02-22T06:54:31.057Z"
   },
   {
    "duration": 360,
    "start_time": "2022-02-22T06:54:31.074Z"
   },
   {
    "duration": 39290,
    "start_time": "2022-02-22T06:53:52.149Z"
   },
   {
    "duration": 39287,
    "start_time": "2022-02-22T06:53:52.153Z"
   },
   {
    "duration": 39286,
    "start_time": "2022-02-22T06:53:52.156Z"
   },
   {
    "duration": 39283,
    "start_time": "2022-02-22T06:53:52.161Z"
   },
   {
    "duration": 39280,
    "start_time": "2022-02-22T06:53:52.165Z"
   },
   {
    "duration": 39279,
    "start_time": "2022-02-22T06:53:52.168Z"
   },
   {
    "duration": 39277,
    "start_time": "2022-02-22T06:53:52.171Z"
   },
   {
    "duration": 39276,
    "start_time": "2022-02-22T06:53:52.174Z"
   },
   {
    "duration": 39273,
    "start_time": "2022-02-22T06:53:52.179Z"
   },
   {
    "duration": 39272,
    "start_time": "2022-02-22T06:53:52.182Z"
   },
   {
    "duration": 39266,
    "start_time": "2022-02-22T06:53:52.190Z"
   },
   {
    "duration": 39263,
    "start_time": "2022-02-22T06:53:52.194Z"
   },
   {
    "duration": 39262,
    "start_time": "2022-02-22T06:53:52.197Z"
   },
   {
    "duration": 39263,
    "start_time": "2022-02-22T06:53:52.200Z"
   },
   {
    "duration": 39262,
    "start_time": "2022-02-22T06:53:52.203Z"
   },
   {
    "duration": 39259,
    "start_time": "2022-02-22T06:53:52.208Z"
   },
   {
    "duration": 39257,
    "start_time": "2022-02-22T06:53:52.211Z"
   },
   {
    "duration": 39257,
    "start_time": "2022-02-22T06:53:52.213Z"
   },
   {
    "duration": 39255,
    "start_time": "2022-02-22T06:53:52.216Z"
   },
   {
    "duration": 39254,
    "start_time": "2022-02-22T06:53:52.219Z"
   },
   {
    "duration": 39303,
    "start_time": "2022-02-22T06:53:52.223Z"
   },
   {
    "duration": 39302,
    "start_time": "2022-02-22T06:53:52.226Z"
   },
   {
    "duration": 39301,
    "start_time": "2022-02-22T06:53:52.229Z"
   },
   {
    "duration": 39299,
    "start_time": "2022-02-22T06:53:52.232Z"
   },
   {
    "duration": 39296,
    "start_time": "2022-02-22T06:53:52.237Z"
   },
   {
    "duration": 39294,
    "start_time": "2022-02-22T06:53:52.240Z"
   },
   {
    "duration": 39293,
    "start_time": "2022-02-22T06:53:52.243Z"
   },
   {
    "duration": 39293,
    "start_time": "2022-02-22T06:53:52.245Z"
   },
   {
    "duration": 39291,
    "start_time": "2022-02-22T06:53:52.248Z"
   },
   {
    "duration": 39290,
    "start_time": "2022-02-22T06:53:52.251Z"
   },
   {
    "duration": 39244,
    "start_time": "2022-02-22T06:53:52.299Z"
   },
   {
    "duration": 39079,
    "start_time": "2022-02-22T06:53:52.465Z"
   },
   {
    "duration": 38997,
    "start_time": "2022-02-22T06:53:52.548Z"
   },
   {
    "duration": 38996,
    "start_time": "2022-02-22T06:53:52.551Z"
   },
   {
    "duration": 38994,
    "start_time": "2022-02-22T06:53:52.554Z"
   },
   {
    "duration": 38993,
    "start_time": "2022-02-22T06:53:52.556Z"
   },
   {
    "duration": 38991,
    "start_time": "2022-02-22T06:53:52.560Z"
   },
   {
    "duration": 38991,
    "start_time": "2022-02-22T06:53:52.562Z"
   },
   {
    "duration": 38989,
    "start_time": "2022-02-22T06:53:52.565Z"
   },
   {
    "duration": 38987,
    "start_time": "2022-02-22T06:53:52.568Z"
   },
   {
    "duration": 38985,
    "start_time": "2022-02-22T06:53:52.571Z"
   },
   {
    "duration": 38978,
    "start_time": "2022-02-22T06:53:52.580Z"
   },
   {
    "duration": 38976,
    "start_time": "2022-02-22T06:53:52.583Z"
   },
   {
    "duration": 38975,
    "start_time": "2022-02-22T06:53:52.586Z"
   },
   {
    "duration": 38973,
    "start_time": "2022-02-22T06:53:52.589Z"
   },
   {
    "duration": 38971,
    "start_time": "2022-02-22T06:53:52.592Z"
   },
   {
    "duration": 38970,
    "start_time": "2022-02-22T06:53:52.595Z"
   },
   {
    "duration": 39028,
    "start_time": "2022-02-22T06:53:52.598Z"
   },
   {
    "duration": 38971,
    "start_time": "2022-02-22T06:53:52.656Z"
   },
   {
    "duration": 38889,
    "start_time": "2022-02-22T06:53:52.740Z"
   },
   {
    "duration": 38888,
    "start_time": "2022-02-22T06:53:52.743Z"
   },
   {
    "duration": 38884,
    "start_time": "2022-02-22T06:53:52.748Z"
   },
   {
    "duration": 38882,
    "start_time": "2022-02-22T06:53:52.752Z"
   },
   {
    "duration": 38881,
    "start_time": "2022-02-22T06:53:52.754Z"
   },
   {
    "duration": 38878,
    "start_time": "2022-02-22T06:53:52.758Z"
   },
   {
    "duration": 38878,
    "start_time": "2022-02-22T06:53:52.760Z"
   },
   {
    "duration": 38876,
    "start_time": "2022-02-22T06:53:52.763Z"
   },
   {
    "duration": 38874,
    "start_time": "2022-02-22T06:53:52.766Z"
   },
   {
    "duration": 10,
    "start_time": "2022-02-22T06:58:18.552Z"
   },
   {
    "duration": 15,
    "start_time": "2022-02-22T07:46:43.676Z"
   },
   {
    "duration": 7,
    "start_time": "2022-02-22T07:47:57.462Z"
   },
   {
    "duration": 14,
    "start_time": "2022-02-22T07:55:49.246Z"
   },
   {
    "duration": 7,
    "start_time": "2022-02-22T08:00:21.689Z"
   },
   {
    "duration": 21,
    "start_time": "2022-02-22T08:01:13.264Z"
   },
   {
    "duration": 6,
    "start_time": "2022-02-22T08:02:09.949Z"
   },
   {
    "duration": 36,
    "start_time": "2022-02-22T08:05:34.807Z"
   },
   {
    "duration": 7,
    "start_time": "2022-02-22T08:05:45.361Z"
   },
   {
    "duration": 10,
    "start_time": "2022-02-22T08:05:56.426Z"
   },
   {
    "duration": 11,
    "start_time": "2022-02-22T08:06:35.467Z"
   },
   {
    "duration": 11,
    "start_time": "2022-02-22T08:07:15.328Z"
   },
   {
    "duration": 8,
    "start_time": "2022-02-22T08:07:29.165Z"
   },
   {
    "duration": 26,
    "start_time": "2022-02-22T08:10:15.831Z"
   },
   {
    "duration": 7,
    "start_time": "2022-02-22T08:13:08.826Z"
   },
   {
    "duration": 7,
    "start_time": "2022-02-22T08:13:11.282Z"
   },
   {
    "duration": 5,
    "start_time": "2022-02-22T08:13:22.472Z"
   },
   {
    "duration": 221,
    "start_time": "2022-02-22T08:13:22.479Z"
   },
   {
    "duration": 13,
    "start_time": "2022-02-22T08:13:22.703Z"
   },
   {
    "duration": 21,
    "start_time": "2022-02-22T08:13:22.727Z"
   },
   {
    "duration": 31,
    "start_time": "2022-02-22T08:13:22.750Z"
   },
   {
    "duration": 39,
    "start_time": "2022-02-22T08:13:22.784Z"
   },
   {
    "duration": 6,
    "start_time": "2022-02-22T08:13:22.827Z"
   },
   {
    "duration": 29,
    "start_time": "2022-02-22T08:13:22.836Z"
   },
   {
    "duration": 6,
    "start_time": "2022-02-22T08:13:22.867Z"
   },
   {
    "duration": 28,
    "start_time": "2022-02-22T08:13:22.876Z"
   },
   {
    "duration": 27,
    "start_time": "2022-02-22T08:13:22.907Z"
   },
   {
    "duration": 995,
    "start_time": "2022-02-22T08:13:22.937Z"
   },
   {
    "duration": 39389,
    "start_time": "2022-02-22T08:12:44.548Z"
   },
   {
    "duration": 39387,
    "start_time": "2022-02-22T08:12:44.552Z"
   },
   {
    "duration": 39385,
    "start_time": "2022-02-22T08:12:44.555Z"
   },
   {
    "duration": 39384,
    "start_time": "2022-02-22T08:12:44.558Z"
   },
   {
    "duration": 39381,
    "start_time": "2022-02-22T08:12:44.562Z"
   },
   {
    "duration": 39380,
    "start_time": "2022-02-22T08:12:44.565Z"
   },
   {
    "duration": 39366,
    "start_time": "2022-02-22T08:12:44.580Z"
   },
   {
    "duration": 39365,
    "start_time": "2022-02-22T08:12:44.583Z"
   },
   {
    "duration": 39363,
    "start_time": "2022-02-22T08:12:44.586Z"
   },
   {
    "duration": 39362,
    "start_time": "2022-02-22T08:12:44.589Z"
   },
   {
    "duration": 39356,
    "start_time": "2022-02-22T08:12:44.596Z"
   },
   {
    "duration": 39353,
    "start_time": "2022-02-22T08:12:44.600Z"
   },
   {
    "duration": 39345,
    "start_time": "2022-02-22T08:12:44.610Z"
   },
   {
    "duration": 39343,
    "start_time": "2022-02-22T08:12:44.613Z"
   },
   {
    "duration": 39342,
    "start_time": "2022-02-22T08:12:44.616Z"
   },
   {
    "duration": 39329,
    "start_time": "2022-02-22T08:12:44.630Z"
   },
   {
    "duration": 39317,
    "start_time": "2022-02-22T08:12:44.644Z"
   },
   {
    "duration": 39303,
    "start_time": "2022-02-22T08:12:44.659Z"
   },
   {
    "duration": 39302,
    "start_time": "2022-02-22T08:12:44.662Z"
   },
   {
    "duration": 39288,
    "start_time": "2022-02-22T08:12:44.677Z"
   },
   {
    "duration": 39287,
    "start_time": "2022-02-22T08:12:44.680Z"
   },
   {
    "duration": 39275,
    "start_time": "2022-02-22T08:12:44.693Z"
   },
   {
    "duration": 39265,
    "start_time": "2022-02-22T08:12:44.705Z"
   },
   {
    "duration": 39262,
    "start_time": "2022-02-22T08:12:44.709Z"
   },
   {
    "duration": 39254,
    "start_time": "2022-02-22T08:12:44.719Z"
   },
   {
    "duration": 39302,
    "start_time": "2022-02-22T08:12:44.724Z"
   },
   {
    "duration": 39302,
    "start_time": "2022-02-22T08:12:44.726Z"
   },
   {
    "duration": 39290,
    "start_time": "2022-02-22T08:12:44.739Z"
   },
   {
    "duration": 39288,
    "start_time": "2022-02-22T08:12:44.743Z"
   },
   {
    "duration": 39280,
    "start_time": "2022-02-22T08:12:44.752Z"
   },
   {
    "duration": 39279,
    "start_time": "2022-02-22T08:12:44.755Z"
   },
   {
    "duration": 39278,
    "start_time": "2022-02-22T08:12:44.758Z"
   },
   {
    "duration": 39265,
    "start_time": "2022-02-22T08:12:44.772Z"
   },
   {
    "duration": 39113,
    "start_time": "2022-02-22T08:12:44.926Z"
   },
   {
    "duration": 39108,
    "start_time": "2022-02-22T08:12:44.932Z"
   },
   {
    "duration": 39107,
    "start_time": "2022-02-22T08:12:44.935Z"
   },
   {
    "duration": 39104,
    "start_time": "2022-02-22T08:12:44.939Z"
   },
   {
    "duration": 39085,
    "start_time": "2022-02-22T08:12:44.959Z"
   },
   {
    "duration": 39000,
    "start_time": "2022-02-22T08:12:45.046Z"
   },
   {
    "duration": 38999,
    "start_time": "2022-02-22T08:12:45.049Z"
   },
   {
    "duration": 38997,
    "start_time": "2022-02-22T08:12:45.052Z"
   },
   {
    "duration": 38972,
    "start_time": "2022-02-22T08:12:45.079Z"
   },
   {
    "duration": 38970,
    "start_time": "2022-02-22T08:12:45.082Z"
   },
   {
    "duration": 38969,
    "start_time": "2022-02-22T08:12:45.085Z"
   },
   {
    "duration": 38961,
    "start_time": "2022-02-22T08:12:45.094Z"
   },
   {
    "duration": 38956,
    "start_time": "2022-02-22T08:12:45.100Z"
   },
   {
    "duration": 38955,
    "start_time": "2022-02-22T08:12:45.103Z"
   },
   {
    "duration": 38914,
    "start_time": "2022-02-22T08:12:45.145Z"
   },
   {
    "duration": 38913,
    "start_time": "2022-02-22T08:12:45.148Z"
   },
   {
    "duration": 38903,
    "start_time": "2022-02-22T08:12:45.159Z"
   },
   {
    "duration": 38964,
    "start_time": "2022-02-22T08:12:45.162Z"
   },
   {
    "duration": 38957,
    "start_time": "2022-02-22T08:12:45.170Z"
   },
   {
    "duration": 38954,
    "start_time": "2022-02-22T08:12:45.175Z"
   },
   {
    "duration": 38951,
    "start_time": "2022-02-22T08:12:45.179Z"
   },
   {
    "duration": 38949,
    "start_time": "2022-02-22T08:12:45.182Z"
   },
   {
    "duration": 38944,
    "start_time": "2022-02-22T08:12:45.188Z"
   },
   {
    "duration": 38943,
    "start_time": "2022-02-22T08:12:45.191Z"
   },
   {
    "duration": 38940,
    "start_time": "2022-02-22T08:12:45.195Z"
   },
   {
    "duration": 18,
    "start_time": "2022-02-22T08:17:45.814Z"
   },
   {
    "duration": 14,
    "start_time": "2022-02-22T08:36:37.064Z"
   },
   {
    "duration": 1054,
    "start_time": "2022-02-22T08:38:22.251Z"
   },
   {
    "duration": 321,
    "start_time": "2022-02-22T08:38:40.095Z"
   },
   {
    "duration": 8,
    "start_time": "2022-02-22T08:56:04.009Z"
   },
   {
    "duration": 319,
    "start_time": "2022-02-22T08:57:23.086Z"
   },
   {
    "duration": 292,
    "start_time": "2022-02-22T09:14:17.864Z"
   },
   {
    "duration": 353,
    "start_time": "2022-02-22T09:15:15.964Z"
   },
   {
    "duration": 343,
    "start_time": "2022-02-22T09:24:46.621Z"
   },
   {
    "duration": 41,
    "start_time": "2022-02-22T09:53:26.031Z"
   },
   {
    "duration": 7,
    "start_time": "2022-02-22T09:53:32.461Z"
   },
   {
    "duration": 9,
    "start_time": "2022-02-22T09:53:38.469Z"
   },
   {
    "duration": 11,
    "start_time": "2022-02-22T09:53:45.391Z"
   },
   {
    "duration": 14,
    "start_time": "2022-02-22T09:53:48.905Z"
   },
   {
    "duration": 271,
    "start_time": "2022-02-22T09:54:48.279Z"
   },
   {
    "duration": 30,
    "start_time": "2022-02-22T09:56:54.963Z"
   },
   {
    "duration": 21,
    "start_time": "2022-02-22T09:56:56.972Z"
   },
   {
    "duration": 22,
    "start_time": "2022-02-22T09:57:46.501Z"
   },
   {
    "duration": 6,
    "start_time": "2022-02-22T09:58:18.971Z"
   },
   {
    "duration": 253,
    "start_time": "2022-02-22T09:58:18.981Z"
   },
   {
    "duration": 14,
    "start_time": "2022-02-22T09:58:19.237Z"
   },
   {
    "duration": 33,
    "start_time": "2022-02-22T09:58:19.255Z"
   },
   {
    "duration": 50,
    "start_time": "2022-02-22T09:58:19.291Z"
   },
   {
    "duration": 54,
    "start_time": "2022-02-22T09:58:19.345Z"
   },
   {
    "duration": 35,
    "start_time": "2022-02-22T09:58:19.404Z"
   },
   {
    "duration": 34,
    "start_time": "2022-02-22T09:58:19.443Z"
   },
   {
    "duration": 24,
    "start_time": "2022-02-22T09:58:19.480Z"
   },
   {
    "duration": 25,
    "start_time": "2022-02-22T09:58:19.507Z"
   },
   {
    "duration": 36,
    "start_time": "2022-02-22T09:58:19.535Z"
   },
   {
    "duration": 15,
    "start_time": "2022-02-22T09:58:19.575Z"
   },
   {
    "duration": 284,
    "start_time": "2022-02-22T09:58:19.594Z"
   },
   {
    "duration": 39441,
    "start_time": "2022-02-22T09:57:40.442Z"
   },
   {
    "duration": 39435,
    "start_time": "2022-02-22T09:57:40.449Z"
   },
   {
    "duration": 39433,
    "start_time": "2022-02-22T09:57:40.453Z"
   },
   {
    "duration": 39432,
    "start_time": "2022-02-22T09:57:40.456Z"
   },
   {
    "duration": 39429,
    "start_time": "2022-02-22T09:57:40.460Z"
   },
   {
    "duration": 39428,
    "start_time": "2022-02-22T09:57:40.463Z"
   },
   {
    "duration": 39419,
    "start_time": "2022-02-22T09:57:40.475Z"
   },
   {
    "duration": 39413,
    "start_time": "2022-02-22T09:57:40.483Z"
   },
   {
    "duration": 39408,
    "start_time": "2022-02-22T09:57:40.490Z"
   },
   {
    "duration": 39407,
    "start_time": "2022-02-22T09:57:40.493Z"
   },
   {
    "duration": 39406,
    "start_time": "2022-02-22T09:57:40.496Z"
   },
   {
    "duration": 39397,
    "start_time": "2022-02-22T09:57:40.507Z"
   },
   {
    "duration": 39396,
    "start_time": "2022-02-22T09:57:40.511Z"
   },
   {
    "duration": 39395,
    "start_time": "2022-02-22T09:57:40.514Z"
   },
   {
    "duration": 39394,
    "start_time": "2022-02-22T09:57:40.517Z"
   },
   {
    "duration": 39393,
    "start_time": "2022-02-22T09:57:40.520Z"
   },
   {
    "duration": 39392,
    "start_time": "2022-02-22T09:57:40.523Z"
   },
   {
    "duration": 39391,
    "start_time": "2022-02-22T09:57:40.526Z"
   },
   {
    "duration": 39397,
    "start_time": "2022-02-22T09:57:40.529Z"
   },
   {
    "duration": 39396,
    "start_time": "2022-02-22T09:57:40.532Z"
   },
   {
    "duration": 39395,
    "start_time": "2022-02-22T09:57:40.536Z"
   },
   {
    "duration": 39361,
    "start_time": "2022-02-22T09:57:40.572Z"
   },
   {
    "duration": 39360,
    "start_time": "2022-02-22T09:57:40.575Z"
   },
   {
    "duration": 39360,
    "start_time": "2022-02-22T09:57:40.578Z"
   },
   {
    "duration": 39359,
    "start_time": "2022-02-22T09:57:40.581Z"
   },
   {
    "duration": 39356,
    "start_time": "2022-02-22T09:57:40.586Z"
   },
   {
    "duration": 39355,
    "start_time": "2022-02-22T09:57:40.589Z"
   },
   {
    "duration": 39353,
    "start_time": "2022-02-22T09:57:40.592Z"
   },
   {
    "duration": 39221,
    "start_time": "2022-02-22T09:57:40.726Z"
   },
   {
    "duration": 39218,
    "start_time": "2022-02-22T09:57:40.730Z"
   },
   {
    "duration": 39216,
    "start_time": "2022-02-22T09:57:40.733Z"
   },
   {
    "duration": 39215,
    "start_time": "2022-02-22T09:57:40.736Z"
   },
   {
    "duration": 39213,
    "start_time": "2022-02-22T09:57:40.739Z"
   },
   {
    "duration": 39212,
    "start_time": "2022-02-22T09:57:40.741Z"
   },
   {
    "duration": 39059,
    "start_time": "2022-02-22T09:57:40.895Z"
   },
   {
    "duration": 38899,
    "start_time": "2022-02-22T09:57:41.057Z"
   },
   {
    "duration": 38810,
    "start_time": "2022-02-22T09:57:41.147Z"
   },
   {
    "duration": 38809,
    "start_time": "2022-02-22T09:57:41.150Z"
   },
   {
    "duration": 38805,
    "start_time": "2022-02-22T09:57:41.155Z"
   },
   {
    "duration": 38798,
    "start_time": "2022-02-22T09:57:41.164Z"
   },
   {
    "duration": 38857,
    "start_time": "2022-02-22T09:57:41.170Z"
   },
   {
    "duration": 38855,
    "start_time": "2022-02-22T09:57:41.174Z"
   },
   {
    "duration": 38852,
    "start_time": "2022-02-22T09:57:41.179Z"
   },
   {
    "duration": 38847,
    "start_time": "2022-02-22T09:57:41.185Z"
   },
   {
    "duration": 38845,
    "start_time": "2022-02-22T09:57:41.189Z"
   },
   {
    "duration": 38843,
    "start_time": "2022-02-22T09:57:41.193Z"
   },
   {
    "duration": 38834,
    "start_time": "2022-02-22T09:57:41.204Z"
   },
   {
    "duration": 38833,
    "start_time": "2022-02-22T09:57:41.207Z"
   },
   {
    "duration": 38830,
    "start_time": "2022-02-22T09:57:41.212Z"
   },
   {
    "duration": 38827,
    "start_time": "2022-02-22T09:57:41.216Z"
   },
   {
    "duration": 38825,
    "start_time": "2022-02-22T09:57:41.220Z"
   },
   {
    "duration": 38823,
    "start_time": "2022-02-22T09:57:41.224Z"
   },
   {
    "duration": 38820,
    "start_time": "2022-02-22T09:57:41.229Z"
   },
   {
    "duration": 38816,
    "start_time": "2022-02-22T09:57:41.234Z"
   },
   {
    "duration": 38814,
    "start_time": "2022-02-22T09:57:41.238Z"
   },
   {
    "duration": 38813,
    "start_time": "2022-02-22T09:57:41.241Z"
   },
   {
    "duration": 38809,
    "start_time": "2022-02-22T09:57:41.247Z"
   },
   {
    "duration": 38807,
    "start_time": "2022-02-22T09:57:41.251Z"
   },
   {
    "duration": 9,
    "start_time": "2022-02-22T09:59:38.979Z"
   },
   {
    "duration": 11,
    "start_time": "2022-02-22T09:59:43.336Z"
   },
   {
    "duration": 9,
    "start_time": "2022-02-22T09:59:48.337Z"
   },
   {
    "duration": 11,
    "start_time": "2022-02-22T10:00:07.878Z"
   },
   {
    "duration": 10,
    "start_time": "2022-02-22T10:00:37.910Z"
   },
   {
    "duration": 14,
    "start_time": "2022-02-22T10:01:02.595Z"
   },
   {
    "duration": 4,
    "start_time": "2022-02-22T10:01:38.323Z"
   },
   {
    "duration": 233,
    "start_time": "2022-02-22T10:01:38.330Z"
   },
   {
    "duration": 14,
    "start_time": "2022-02-22T10:01:38.566Z"
   },
   {
    "duration": 20,
    "start_time": "2022-02-22T10:01:38.583Z"
   },
   {
    "duration": 13,
    "start_time": "2022-02-22T10:01:38.627Z"
   },
   {
    "duration": 23,
    "start_time": "2022-02-22T10:01:38.643Z"
   },
   {
    "duration": 9,
    "start_time": "2022-02-22T10:01:38.669Z"
   },
   {
    "duration": 53,
    "start_time": "2022-02-22T10:01:38.681Z"
   },
   {
    "duration": 7,
    "start_time": "2022-02-22T10:01:38.741Z"
   },
   {
    "duration": 12,
    "start_time": "2022-02-22T10:01:38.753Z"
   },
   {
    "duration": 64,
    "start_time": "2022-02-22T10:01:38.768Z"
   },
   {
    "duration": 17,
    "start_time": "2022-02-22T10:01:38.835Z"
   },
   {
    "duration": 289,
    "start_time": "2022-02-22T10:01:38.856Z"
   },
   {
    "duration": 39378,
    "start_time": "2022-02-22T10:00:59.771Z"
   },
   {
    "duration": 39375,
    "start_time": "2022-02-22T10:00:59.776Z"
   },
   {
    "duration": 39369,
    "start_time": "2022-02-22T10:00:59.784Z"
   },
   {
    "duration": 39367,
    "start_time": "2022-02-22T10:00:59.787Z"
   },
   {
    "duration": 39366,
    "start_time": "2022-02-22T10:00:59.790Z"
   },
   {
    "duration": 39324,
    "start_time": "2022-02-22T10:00:59.833Z"
   },
   {
    "duration": 39323,
    "start_time": "2022-02-22T10:00:59.836Z"
   },
   {
    "duration": 39322,
    "start_time": "2022-02-22T10:00:59.839Z"
   },
   {
    "duration": 39320,
    "start_time": "2022-02-22T10:00:59.842Z"
   },
   {
    "duration": 39317,
    "start_time": "2022-02-22T10:00:59.847Z"
   },
   {
    "duration": 39313,
    "start_time": "2022-02-22T10:00:59.852Z"
   },
   {
    "duration": 39312,
    "start_time": "2022-02-22T10:00:59.855Z"
   },
   {
    "duration": 39310,
    "start_time": "2022-02-22T10:00:59.858Z"
   },
   {
    "duration": 39307,
    "start_time": "2022-02-22T10:00:59.863Z"
   },
   {
    "duration": 39303,
    "start_time": "2022-02-22T10:00:59.868Z"
   },
   {
    "duration": 39296,
    "start_time": "2022-02-22T10:00:59.877Z"
   },
   {
    "duration": 39294,
    "start_time": "2022-02-22T10:00:59.880Z"
   },
   {
    "duration": 39292,
    "start_time": "2022-02-22T10:00:59.883Z"
   },
   {
    "duration": 39290,
    "start_time": "2022-02-22T10:00:59.886Z"
   },
   {
    "duration": 39114,
    "start_time": "2022-02-22T10:01:00.064Z"
   },
   {
    "duration": 38742,
    "start_time": "2022-02-22T10:01:00.438Z"
   },
   {
    "duration": 38786,
    "start_time": "2022-02-22T10:01:00.442Z"
   },
   {
    "duration": 38786,
    "start_time": "2022-02-22T10:01:00.445Z"
   },
   {
    "duration": 38785,
    "start_time": "2022-02-22T10:01:00.448Z"
   },
   {
    "duration": 38784,
    "start_time": "2022-02-22T10:01:00.451Z"
   },
   {
    "duration": 38784,
    "start_time": "2022-02-22T10:01:00.454Z"
   },
   {
    "duration": 38783,
    "start_time": "2022-02-22T10:01:00.457Z"
   },
   {
    "duration": 38782,
    "start_time": "2022-02-22T10:01:00.460Z"
   },
   {
    "duration": 38781,
    "start_time": "2022-02-22T10:01:00.463Z"
   },
   {
    "duration": 38779,
    "start_time": "2022-02-22T10:01:00.466Z"
   },
   {
    "duration": 38779,
    "start_time": "2022-02-22T10:01:00.468Z"
   },
   {
    "duration": 38777,
    "start_time": "2022-02-22T10:01:00.471Z"
   },
   {
    "duration": 38775,
    "start_time": "2022-02-22T10:01:00.475Z"
   },
   {
    "duration": 38773,
    "start_time": "2022-02-22T10:01:00.478Z"
   },
   {
    "duration": 38771,
    "start_time": "2022-02-22T10:01:00.481Z"
   },
   {
    "duration": 38771,
    "start_time": "2022-02-22T10:01:00.483Z"
   },
   {
    "duration": 38769,
    "start_time": "2022-02-22T10:01:00.486Z"
   },
   {
    "duration": 38768,
    "start_time": "2022-02-22T10:01:00.489Z"
   },
   {
    "duration": 38766,
    "start_time": "2022-02-22T10:01:00.492Z"
   },
   {
    "duration": 38764,
    "start_time": "2022-02-22T10:01:00.495Z"
   },
   {
    "duration": 38763,
    "start_time": "2022-02-22T10:01:00.498Z"
   },
   {
    "duration": 38761,
    "start_time": "2022-02-22T10:01:00.501Z"
   },
   {
    "duration": 38760,
    "start_time": "2022-02-22T10:01:00.504Z"
   },
   {
    "duration": 38757,
    "start_time": "2022-02-22T10:01:00.508Z"
   },
   {
    "duration": 38810,
    "start_time": "2022-02-22T10:01:00.517Z"
   },
   {
    "duration": 38808,
    "start_time": "2022-02-22T10:01:00.521Z"
   },
   {
    "duration": 38806,
    "start_time": "2022-02-22T10:01:00.525Z"
   },
   {
    "duration": 38805,
    "start_time": "2022-02-22T10:01:00.528Z"
   },
   {
    "duration": 38804,
    "start_time": "2022-02-22T10:01:00.531Z"
   },
   {
    "duration": 38803,
    "start_time": "2022-02-22T10:01:00.534Z"
   },
   {
    "duration": 38801,
    "start_time": "2022-02-22T10:01:00.539Z"
   },
   {
    "duration": 38799,
    "start_time": "2022-02-22T10:01:00.543Z"
   },
   {
    "duration": 38798,
    "start_time": "2022-02-22T10:01:00.546Z"
   },
   {
    "duration": 38796,
    "start_time": "2022-02-22T10:01:00.550Z"
   },
   {
    "duration": 38795,
    "start_time": "2022-02-22T10:01:00.553Z"
   },
   {
    "duration": 38794,
    "start_time": "2022-02-22T10:01:00.556Z"
   },
   {
    "duration": 38792,
    "start_time": "2022-02-22T10:01:00.560Z"
   },
   {
    "duration": 38792,
    "start_time": "2022-02-22T10:01:00.564Z"
   },
   {
    "duration": 274,
    "start_time": "2022-02-22T10:06:19.900Z"
   },
   {
    "duration": 319,
    "start_time": "2022-02-22T10:07:16.785Z"
   },
   {
    "duration": 293,
    "start_time": "2022-02-22T10:08:20.241Z"
   },
   {
    "duration": 17,
    "start_time": "2022-02-22T10:09:31.643Z"
   },
   {
    "duration": 1215,
    "start_time": "2022-02-22T10:09:56.564Z"
   },
   {
    "duration": 14,
    "start_time": "2022-02-22T10:10:08.863Z"
   },
   {
    "duration": 270,
    "start_time": "2022-02-22T10:11:15.679Z"
   },
   {
    "duration": 16,
    "start_time": "2022-02-22T10:11:26.864Z"
   },
   {
    "duration": 310,
    "start_time": "2022-02-22T10:12:59.950Z"
   },
   {
    "duration": 301,
    "start_time": "2022-02-22T10:13:17.511Z"
   },
   {
    "duration": 4,
    "start_time": "2022-02-22T10:14:10.993Z"
   },
   {
    "duration": 225,
    "start_time": "2022-02-22T10:14:11.000Z"
   },
   {
    "duration": 14,
    "start_time": "2022-02-22T10:14:11.228Z"
   },
   {
    "duration": 20,
    "start_time": "2022-02-22T10:14:11.245Z"
   },
   {
    "duration": 26,
    "start_time": "2022-02-22T10:14:11.268Z"
   },
   {
    "duration": 44,
    "start_time": "2022-02-22T10:14:11.297Z"
   },
   {
    "duration": 7,
    "start_time": "2022-02-22T10:14:11.343Z"
   },
   {
    "duration": 10,
    "start_time": "2022-02-22T10:14:11.353Z"
   },
   {
    "duration": 8,
    "start_time": "2022-02-22T10:14:11.366Z"
   },
   {
    "duration": 55,
    "start_time": "2022-02-22T10:14:11.377Z"
   },
   {
    "duration": 17,
    "start_time": "2022-02-22T10:14:11.434Z"
   },
   {
    "duration": 19,
    "start_time": "2022-02-22T10:14:11.454Z"
   },
   {
    "duration": 318,
    "start_time": "2022-02-22T10:14:11.476Z"
   },
   {
    "duration": 39406,
    "start_time": "2022-02-22T10:13:32.393Z"
   },
   {
    "duration": 39404,
    "start_time": "2022-02-22T10:13:32.396Z"
   },
   {
    "duration": 39403,
    "start_time": "2022-02-22T10:13:32.399Z"
   },
   {
    "duration": 39400,
    "start_time": "2022-02-22T10:13:32.403Z"
   },
   {
    "duration": 39398,
    "start_time": "2022-02-22T10:13:32.407Z"
   },
   {
    "duration": 39397,
    "start_time": "2022-02-22T10:13:32.410Z"
   },
   {
    "duration": 39394,
    "start_time": "2022-02-22T10:13:32.414Z"
   },
   {
    "duration": 39375,
    "start_time": "2022-02-22T10:13:32.435Z"
   },
   {
    "duration": 39373,
    "start_time": "2022-02-22T10:13:32.439Z"
   },
   {
    "duration": 39371,
    "start_time": "2022-02-22T10:13:32.442Z"
   },
   {
    "duration": 39370,
    "start_time": "2022-02-22T10:13:32.445Z"
   },
   {
    "duration": 39368,
    "start_time": "2022-02-22T10:13:32.448Z"
   },
   {
    "duration": 39366,
    "start_time": "2022-02-22T10:13:32.452Z"
   },
   {
    "duration": 39364,
    "start_time": "2022-02-22T10:13:32.455Z"
   },
   {
    "duration": 39363,
    "start_time": "2022-02-22T10:13:32.458Z"
   },
   {
    "duration": 39362,
    "start_time": "2022-02-22T10:13:32.460Z"
   },
   {
    "duration": 39359,
    "start_time": "2022-02-22T10:13:32.465Z"
   },
   {
    "duration": 39357,
    "start_time": "2022-02-22T10:13:32.469Z"
   },
   {
    "duration": 39355,
    "start_time": "2022-02-22T10:13:32.473Z"
   },
   {
    "duration": 39353,
    "start_time": "2022-02-22T10:13:32.476Z"
   },
   {
    "duration": 39352,
    "start_time": "2022-02-22T10:13:32.479Z"
   },
   {
    "duration": 39350,
    "start_time": "2022-02-22T10:13:32.482Z"
   },
   {
    "duration": 39347,
    "start_time": "2022-02-22T10:13:32.487Z"
   },
   {
    "duration": 39344,
    "start_time": "2022-02-22T10:13:32.491Z"
   },
   {
    "duration": 39344,
    "start_time": "2022-02-22T10:13:32.493Z"
   },
   {
    "duration": 39341,
    "start_time": "2022-02-22T10:13:32.497Z"
   },
   {
    "duration": 39339,
    "start_time": "2022-02-22T10:13:32.500Z"
   },
   {
    "duration": 39337,
    "start_time": "2022-02-22T10:13:32.503Z"
   },
   {
    "duration": 39336,
    "start_time": "2022-02-22T10:13:32.506Z"
   },
   {
    "duration": 39334,
    "start_time": "2022-02-22T10:13:32.509Z"
   },
   {
    "duration": 39332,
    "start_time": "2022-02-22T10:13:32.513Z"
   },
   {
    "duration": 39330,
    "start_time": "2022-02-22T10:13:32.516Z"
   },
   {
    "duration": 39329,
    "start_time": "2022-02-22T10:13:32.518Z"
   },
   {
    "duration": 39327,
    "start_time": "2022-02-22T10:13:32.521Z"
   },
   {
    "duration": 39326,
    "start_time": "2022-02-22T10:13:32.524Z"
   },
   {
    "duration": 39319,
    "start_time": "2022-02-22T10:13:32.533Z"
   },
   {
    "duration": 39318,
    "start_time": "2022-02-22T10:13:32.536Z"
   },
   {
    "duration": 39316,
    "start_time": "2022-02-22T10:13:32.539Z"
   },
   {
    "duration": 39314,
    "start_time": "2022-02-22T10:13:32.543Z"
   },
   {
    "duration": 39311,
    "start_time": "2022-02-22T10:13:32.547Z"
   },
   {
    "duration": 39310,
    "start_time": "2022-02-22T10:13:32.550Z"
   },
   {
    "duration": 39309,
    "start_time": "2022-02-22T10:13:32.553Z"
   },
   {
    "duration": 39307,
    "start_time": "2022-02-22T10:13:32.556Z"
   },
   {
    "duration": 39306,
    "start_time": "2022-02-22T10:13:32.559Z"
   },
   {
    "duration": 39304,
    "start_time": "2022-02-22T10:13:32.562Z"
   },
   {
    "duration": 39363,
    "start_time": "2022-02-22T10:13:32.565Z"
   },
   {
    "duration": 39361,
    "start_time": "2022-02-22T10:13:32.568Z"
   },
   {
    "duration": 39360,
    "start_time": "2022-02-22T10:13:32.571Z"
   },
   {
    "duration": 39358,
    "start_time": "2022-02-22T10:13:32.574Z"
   },
   {
    "duration": 39356,
    "start_time": "2022-02-22T10:13:32.578Z"
   },
   {
    "duration": 39354,
    "start_time": "2022-02-22T10:13:32.581Z"
   },
   {
    "duration": 39353,
    "start_time": "2022-02-22T10:13:32.584Z"
   },
   {
    "duration": 39352,
    "start_time": "2022-02-22T10:13:32.586Z"
   },
   {
    "duration": 39333,
    "start_time": "2022-02-22T10:13:32.607Z"
   },
   {
    "duration": 39331,
    "start_time": "2022-02-22T10:13:32.610Z"
   },
   {
    "duration": 39330,
    "start_time": "2022-02-22T10:13:32.613Z"
   },
   {
    "duration": 39328,
    "start_time": "2022-02-22T10:13:32.616Z"
   },
   {
    "duration": 39327,
    "start_time": "2022-02-22T10:13:32.619Z"
   },
   {
    "duration": 330,
    "start_time": "2022-02-22T10:17:30.868Z"
   },
   {
    "duration": 282,
    "start_time": "2022-02-22T10:17:39.928Z"
   },
   {
    "duration": 314,
    "start_time": "2022-02-22T10:17:57.767Z"
   },
   {
    "duration": 353,
    "start_time": "2022-02-22T10:18:16.914Z"
   },
   {
    "duration": 16,
    "start_time": "2022-02-22T10:19:34.746Z"
   },
   {
    "duration": 289,
    "start_time": "2022-02-22T10:20:58.513Z"
   },
   {
    "duration": 5,
    "start_time": "2022-02-22T10:24:44.079Z"
   },
   {
    "duration": 286,
    "start_time": "2022-02-22T10:24:44.087Z"
   },
   {
    "duration": 16,
    "start_time": "2022-02-22T10:24:44.376Z"
   },
   {
    "duration": 38,
    "start_time": "2022-02-22T10:24:44.395Z"
   },
   {
    "duration": 18,
    "start_time": "2022-02-22T10:24:44.436Z"
   },
   {
    "duration": 21,
    "start_time": "2022-02-22T10:24:44.457Z"
   },
   {
    "duration": 15,
    "start_time": "2022-02-22T10:24:44.482Z"
   },
   {
    "duration": 35,
    "start_time": "2022-02-22T10:24:44.500Z"
   },
   {
    "duration": 13,
    "start_time": "2022-02-22T10:24:44.538Z"
   },
   {
    "duration": 15,
    "start_time": "2022-02-22T10:24:44.554Z"
   },
   {
    "duration": 23,
    "start_time": "2022-02-22T10:24:44.572Z"
   },
   {
    "duration": 879,
    "start_time": "2022-02-22T10:24:44.598Z"
   },
   {
    "duration": 6,
    "start_time": "2022-02-22T10:24:45.479Z"
   },
   {
    "duration": 47,
    "start_time": "2022-02-22T10:24:45.487Z"
   },
   {
    "duration": 22,
    "start_time": "2022-02-22T10:24:45.536Z"
   },
   {
    "duration": 473,
    "start_time": "2022-02-22T10:24:45.561Z"
   },
   {
    "duration": 3,
    "start_time": "2022-02-22T10:24:46.036Z"
   },
   {
    "duration": 24,
    "start_time": "2022-02-22T10:24:46.041Z"
   },
   {
    "duration": 55,
    "start_time": "2022-02-22T10:24:46.071Z"
   },
   {
    "duration": 31,
    "start_time": "2022-02-22T10:24:46.130Z"
   },
   {
    "duration": 435,
    "start_time": "2022-02-22T10:24:46.164Z"
   },
   {
    "duration": 414,
    "start_time": "2022-02-22T10:24:46.602Z"
   },
   {
    "duration": 426,
    "start_time": "2022-02-22T10:24:47.019Z"
   },
   {
    "duration": 424,
    "start_time": "2022-02-22T10:24:47.448Z"
   },
   {
    "duration": 499,
    "start_time": "2022-02-22T10:24:47.875Z"
   },
   {
    "duration": 24,
    "start_time": "2022-02-22T10:24:48.377Z"
   },
   {
    "duration": 41,
    "start_time": "2022-02-22T10:24:48.404Z"
   },
   {
    "duration": 262,
    "start_time": "2022-02-22T10:24:48.448Z"
   },
   {
    "duration": 363,
    "start_time": "2022-02-22T10:24:48.712Z"
   },
   {
    "duration": 239,
    "start_time": "2022-02-22T10:24:49.078Z"
   },
   {
    "duration": 247,
    "start_time": "2022-02-22T10:24:49.320Z"
   },
   {
    "duration": 242,
    "start_time": "2022-02-22T10:24:49.570Z"
   },
   {
    "duration": 476,
    "start_time": "2022-02-22T10:24:49.815Z"
   },
   {
    "duration": 1349,
    "start_time": "2022-02-22T10:24:50.294Z"
   },
   {
    "duration": 832,
    "start_time": "2022-02-22T10:24:51.645Z"
   },
   {
    "duration": 856,
    "start_time": "2022-02-22T10:24:52.479Z"
   },
   {
    "duration": 918,
    "start_time": "2022-02-22T10:24:53.337Z"
   },
   {
    "duration": 857,
    "start_time": "2022-02-22T10:24:54.257Z"
   },
   {
    "duration": 829,
    "start_time": "2022-02-22T10:24:55.116Z"
   },
   {
    "duration": 339,
    "start_time": "2022-02-22T10:24:55.948Z"
   },
   {
    "duration": 36,
    "start_time": "2022-02-22T10:24:56.290Z"
   },
   {
    "duration": 26,
    "start_time": "2022-02-22T10:24:56.329Z"
   },
   {
    "duration": 27,
    "start_time": "2022-02-22T10:24:56.357Z"
   },
   {
    "duration": 56,
    "start_time": "2022-02-22T10:24:56.387Z"
   },
   {
    "duration": 33,
    "start_time": "2022-02-22T10:24:56.446Z"
   },
   {
    "duration": 47,
    "start_time": "2022-02-22T10:24:56.481Z"
   },
   {
    "duration": 26,
    "start_time": "2022-02-22T10:24:56.531Z"
   },
   {
    "duration": 28,
    "start_time": "2022-02-22T10:24:56.560Z"
   },
   {
    "duration": 60,
    "start_time": "2022-02-22T10:24:56.591Z"
   },
   {
    "duration": 29,
    "start_time": "2022-02-22T10:24:56.654Z"
   },
   {
    "duration": 64,
    "start_time": "2022-02-22T10:24:56.685Z"
   },
   {
    "duration": 27,
    "start_time": "2022-02-22T10:24:56.751Z"
   },
   {
    "duration": 61,
    "start_time": "2022-02-22T10:24:56.781Z"
   },
   {
    "duration": 155,
    "start_time": "2022-02-22T10:24:56.845Z"
   },
   {
    "duration": 153,
    "start_time": "2022-02-22T10:24:57.006Z"
   },
   {
    "duration": 13,
    "start_time": "2022-02-22T10:24:57.162Z"
   },
   {
    "duration": 167,
    "start_time": "2022-02-22T10:24:57.177Z"
   },
   {
    "duration": 26,
    "start_time": "2022-02-22T10:24:57.347Z"
   },
   {
    "duration": 52,
    "start_time": "2022-02-22T10:24:57.376Z"
   },
   {
    "duration": 23,
    "start_time": "2022-02-22T10:24:57.431Z"
   },
   {
    "duration": 33,
    "start_time": "2022-02-22T10:24:57.457Z"
   },
   {
    "duration": 166,
    "start_time": "2022-02-22T10:24:57.493Z"
   },
   {
    "duration": 142,
    "start_time": "2022-02-22T10:24:57.663Z"
   },
   {
    "duration": 145,
    "start_time": "2022-02-22T10:24:57.807Z"
   },
   {
    "duration": 73,
    "start_time": "2022-02-22T10:24:57.955Z"
   },
   {
    "duration": 414,
    "start_time": "2022-02-22T10:24:58.030Z"
   },
   {
    "duration": 39473,
    "start_time": "2022-02-22T10:24:18.973Z"
   },
   {
    "duration": 39471,
    "start_time": "2022-02-22T10:24:18.977Z"
   },
   {
    "duration": 39469,
    "start_time": "2022-02-22T10:24:18.980Z"
   },
   {
    "duration": 309,
    "start_time": "2022-02-22T10:27:15.226Z"
   },
   {
    "duration": 282,
    "start_time": "2022-02-22T10:27:38.349Z"
   },
   {
    "duration": 1074,
    "start_time": "2022-02-22T13:01:06.090Z"
   },
   {
    "duration": 266,
    "start_time": "2022-02-22T13:01:20.078Z"
   },
   {
    "duration": 210,
    "start_time": "2022-02-23T16:37:55.787Z"
   },
   {
    "duration": 1528,
    "start_time": "2022-02-23T16:38:08.471Z"
   },
   {
    "duration": 160,
    "start_time": "2022-02-23T16:38:10.001Z"
   },
   {
    "duration": 10,
    "start_time": "2022-02-23T16:38:10.163Z"
   },
   {
    "duration": 13,
    "start_time": "2022-02-23T16:38:10.175Z"
   },
   {
    "duration": 12,
    "start_time": "2022-02-23T16:38:10.190Z"
   },
   {
    "duration": 36,
    "start_time": "2022-02-23T16:38:10.203Z"
   },
   {
    "duration": 5,
    "start_time": "2022-02-23T16:38:10.241Z"
   },
   {
    "duration": 14,
    "start_time": "2022-02-23T16:38:10.248Z"
   },
   {
    "duration": 8,
    "start_time": "2022-02-23T16:38:10.265Z"
   },
   {
    "duration": 8,
    "start_time": "2022-02-23T16:38:10.275Z"
   },
   {
    "duration": 10,
    "start_time": "2022-02-23T16:38:10.285Z"
   },
   {
    "duration": 252,
    "start_time": "2022-02-23T16:38:10.297Z"
   },
   {
    "duration": -2566,
    "start_time": "2022-02-23T16:38:13.118Z"
   },
   {
    "duration": -2574,
    "start_time": "2022-02-23T16:38:13.127Z"
   },
   {
    "duration": -2581,
    "start_time": "2022-02-23T16:38:13.135Z"
   },
   {
    "duration": -2590,
    "start_time": "2022-02-23T16:38:13.145Z"
   },
   {
    "duration": -2597,
    "start_time": "2022-02-23T16:38:13.154Z"
   },
   {
    "duration": -2605,
    "start_time": "2022-02-23T16:38:13.163Z"
   },
   {
    "duration": -2612,
    "start_time": "2022-02-23T16:38:13.171Z"
   },
   {
    "duration": -2620,
    "start_time": "2022-02-23T16:38:13.180Z"
   },
   {
    "duration": -2628,
    "start_time": "2022-02-23T16:38:13.189Z"
   },
   {
    "duration": -2636,
    "start_time": "2022-02-23T16:38:13.198Z"
   },
   {
    "duration": -2643,
    "start_time": "2022-02-23T16:38:13.206Z"
   },
   {
    "duration": -2662,
    "start_time": "2022-02-23T16:38:13.226Z"
   },
   {
    "duration": -2670,
    "start_time": "2022-02-23T16:38:13.235Z"
   },
   {
    "duration": -2677,
    "start_time": "2022-02-23T16:38:13.244Z"
   },
   {
    "duration": -2683,
    "start_time": "2022-02-23T16:38:13.251Z"
   },
   {
    "duration": -2691,
    "start_time": "2022-02-23T16:38:13.260Z"
   },
   {
    "duration": -2698,
    "start_time": "2022-02-23T16:38:13.268Z"
   },
   {
    "duration": -2706,
    "start_time": "2022-02-23T16:38:13.277Z"
   },
   {
    "duration": -2712,
    "start_time": "2022-02-23T16:38:13.285Z"
   },
   {
    "duration": -2720,
    "start_time": "2022-02-23T16:38:13.294Z"
   },
   {
    "duration": -2727,
    "start_time": "2022-02-23T16:38:13.302Z"
   },
   {
    "duration": -2735,
    "start_time": "2022-02-23T16:38:13.311Z"
   },
   {
    "duration": -2741,
    "start_time": "2022-02-23T16:38:13.319Z"
   },
   {
    "duration": -2760,
    "start_time": "2022-02-23T16:38:13.339Z"
   },
   {
    "duration": -2767,
    "start_time": "2022-02-23T16:38:13.347Z"
   },
   {
    "duration": -2775,
    "start_time": "2022-02-23T16:38:13.356Z"
   },
   {
    "duration": -2783,
    "start_time": "2022-02-23T16:38:13.365Z"
   },
   {
    "duration": -2791,
    "start_time": "2022-02-23T16:38:13.374Z"
   },
   {
    "duration": -2798,
    "start_time": "2022-02-23T16:38:13.382Z"
   },
   {
    "duration": -2805,
    "start_time": "2022-02-23T16:38:13.390Z"
   },
   {
    "duration": -2812,
    "start_time": "2022-02-23T16:38:13.399Z"
   },
   {
    "duration": -2820,
    "start_time": "2022-02-23T16:38:13.408Z"
   },
   {
    "duration": -2787,
    "start_time": "2022-02-23T16:38:13.417Z"
   },
   {
    "duration": -2794,
    "start_time": "2022-02-23T16:38:13.425Z"
   },
   {
    "duration": -2802,
    "start_time": "2022-02-23T16:38:13.434Z"
   },
   {
    "duration": -2818,
    "start_time": "2022-02-23T16:38:13.453Z"
   },
   {
    "duration": -2825,
    "start_time": "2022-02-23T16:38:13.461Z"
   },
   {
    "duration": -2834,
    "start_time": "2022-02-23T16:38:13.471Z"
   },
   {
    "duration": -2841,
    "start_time": "2022-02-23T16:38:13.479Z"
   },
   {
    "duration": -2848,
    "start_time": "2022-02-23T16:38:13.488Z"
   },
   {
    "duration": -2855,
    "start_time": "2022-02-23T16:38:13.496Z"
   },
   {
    "duration": -2862,
    "start_time": "2022-02-23T16:38:13.504Z"
   },
   {
    "duration": -2869,
    "start_time": "2022-02-23T16:38:13.512Z"
   },
   {
    "duration": -2876,
    "start_time": "2022-02-23T16:38:13.520Z"
   },
   {
    "duration": -2885,
    "start_time": "2022-02-23T16:38:13.529Z"
   },
   {
    "duration": -2892,
    "start_time": "2022-02-23T16:38:13.537Z"
   },
   {
    "duration": -2901,
    "start_time": "2022-02-23T16:38:13.547Z"
   },
   {
    "duration": -2919,
    "start_time": "2022-02-23T16:38:13.566Z"
   },
   {
    "duration": -2927,
    "start_time": "2022-02-23T16:38:13.575Z"
   },
   {
    "duration": -2934,
    "start_time": "2022-02-23T16:38:13.583Z"
   },
   {
    "duration": -2942,
    "start_time": "2022-02-23T16:38:13.592Z"
   },
   {
    "duration": -2951,
    "start_time": "2022-02-23T16:38:13.601Z"
   },
   {
    "duration": -2958,
    "start_time": "2022-02-23T16:38:13.609Z"
   },
   {
    "duration": -2965,
    "start_time": "2022-02-23T16:38:13.617Z"
   },
   {
    "duration": -2973,
    "start_time": "2022-02-23T16:38:13.626Z"
   },
   {
    "duration": -2980,
    "start_time": "2022-02-23T16:38:13.634Z"
   },
   {
    "duration": -2987,
    "start_time": "2022-02-23T16:38:13.641Z"
   },
   {
    "duration": -2995,
    "start_time": "2022-02-23T16:38:13.650Z"
   },
   {
    "duration": -3003,
    "start_time": "2022-02-23T16:38:13.659Z"
   },
   {
    "duration": 176,
    "start_time": "2022-02-23T16:38:59.247Z"
   },
   {
    "duration": 696,
    "start_time": "2022-02-23T16:39:12.546Z"
   },
   {
    "duration": 24,
    "start_time": "2022-02-23T16:46:53.892Z"
   },
   {
    "duration": 15,
    "start_time": "2022-02-23T16:48:55.077Z"
   },
   {
    "duration": 16,
    "start_time": "2022-02-23T16:50:28.446Z"
   },
   {
    "duration": 5,
    "start_time": "2022-02-23T16:51:34.149Z"
   },
   {
    "duration": 17,
    "start_time": "2022-02-23T16:51:37.572Z"
   },
   {
    "duration": 16,
    "start_time": "2022-02-23T16:56:00.492Z"
   },
   {
    "duration": 386,
    "start_time": "2022-02-23T16:57:41.595Z"
   },
   {
    "duration": 289,
    "start_time": "2022-02-23T16:58:03.754Z"
   },
   {
    "duration": 288,
    "start_time": "2022-02-23T16:58:34.604Z"
   },
   {
    "duration": 3,
    "start_time": "2022-02-23T16:59:21.995Z"
   },
   {
    "duration": 149,
    "start_time": "2022-02-23T16:59:22.003Z"
   },
   {
    "duration": 9,
    "start_time": "2022-02-23T16:59:22.154Z"
   },
   {
    "duration": 12,
    "start_time": "2022-02-23T16:59:22.165Z"
   },
   {
    "duration": 9,
    "start_time": "2022-02-23T16:59:22.179Z"
   },
   {
    "duration": 47,
    "start_time": "2022-02-23T16:59:22.190Z"
   },
   {
    "duration": 4,
    "start_time": "2022-02-23T16:59:22.239Z"
   },
   {
    "duration": 10,
    "start_time": "2022-02-23T16:59:22.245Z"
   },
   {
    "duration": 5,
    "start_time": "2022-02-23T16:59:22.257Z"
   },
   {
    "duration": 6,
    "start_time": "2022-02-23T16:59:22.264Z"
   },
   {
    "duration": 14,
    "start_time": "2022-02-23T16:59:22.272Z"
   },
   {
    "duration": 51,
    "start_time": "2022-02-23T16:59:22.288Z"
   },
   {
    "duration": 12,
    "start_time": "2022-02-23T16:59:22.340Z"
   },
   {
    "duration": 16,
    "start_time": "2022-02-23T16:59:22.354Z"
   },
   {
    "duration": 4,
    "start_time": "2022-02-23T16:59:22.371Z"
   },
   {
    "duration": 59,
    "start_time": "2022-02-23T16:59:22.377Z"
   },
   {
    "duration": 14,
    "start_time": "2022-02-23T16:59:22.438Z"
   },
   {
    "duration": 300,
    "start_time": "2022-02-23T16:59:22.454Z"
   },
   {
    "duration": 3,
    "start_time": "2022-02-23T16:59:22.756Z"
   },
   {
    "duration": 24,
    "start_time": "2022-02-23T16:59:22.761Z"
   },
   {
    "duration": 24,
    "start_time": "2022-02-23T16:59:22.787Z"
   },
   {
    "duration": 28,
    "start_time": "2022-02-23T16:59:22.830Z"
   },
   {
    "duration": 353,
    "start_time": "2022-02-23T16:59:22.860Z"
   },
   {
    "duration": 377,
    "start_time": "2022-02-23T16:59:23.217Z"
   },
   {
    "duration": 313,
    "start_time": "2022-02-23T16:59:23.596Z"
   },
   {
    "duration": 322,
    "start_time": "2022-02-23T16:59:23.911Z"
   },
   {
    "duration": 290,
    "start_time": "2022-02-23T16:59:24.235Z"
   },
   {
    "duration": 17,
    "start_time": "2022-02-23T16:59:24.530Z"
   },
   {
    "duration": 15,
    "start_time": "2022-02-23T16:59:24.548Z"
   },
   {
    "duration": 220,
    "start_time": "2022-02-23T16:59:24.564Z"
   },
   {
    "duration": 147,
    "start_time": "2022-02-23T16:59:24.785Z"
   },
   {
    "duration": 143,
    "start_time": "2022-02-23T16:59:24.933Z"
   },
   {
    "duration": 143,
    "start_time": "2022-02-23T16:59:25.078Z"
   },
   {
    "duration": 149,
    "start_time": "2022-02-23T16:59:25.223Z"
   },
   {
    "duration": 295,
    "start_time": "2022-02-23T16:59:25.374Z"
   },
   {
    "duration": 284,
    "start_time": "2022-02-23T16:59:25.670Z"
   },
   {
    "duration": 563,
    "start_time": "2022-02-23T16:59:25.956Z"
   },
   {
    "duration": 609,
    "start_time": "2022-02-23T16:59:26.521Z"
   },
   {
    "duration": 707,
    "start_time": "2022-02-23T16:59:27.132Z"
   },
   {
    "duration": 618,
    "start_time": "2022-02-23T16:59:27.841Z"
   },
   {
    "duration": 544,
    "start_time": "2022-02-23T16:59:28.461Z"
   },
   {
    "duration": 183,
    "start_time": "2022-02-23T16:59:29.007Z"
   },
   {
    "duration": 16,
    "start_time": "2022-02-23T16:59:29.193Z"
   },
   {
    "duration": 34,
    "start_time": "2022-02-23T16:59:29.211Z"
   },
   {
    "duration": 18,
    "start_time": "2022-02-23T16:59:29.246Z"
   },
   {
    "duration": 19,
    "start_time": "2022-02-23T16:59:29.265Z"
   },
   {
    "duration": 53,
    "start_time": "2022-02-23T16:59:29.285Z"
   },
   {
    "duration": 19,
    "start_time": "2022-02-23T16:59:29.340Z"
   },
   {
    "duration": 18,
    "start_time": "2022-02-23T16:59:29.361Z"
   },
   {
    "duration": 49,
    "start_time": "2022-02-23T16:59:29.382Z"
   },
   {
    "duration": 18,
    "start_time": "2022-02-23T16:59:29.433Z"
   },
   {
    "duration": 19,
    "start_time": "2022-02-23T16:59:29.453Z"
   },
   {
    "duration": 16,
    "start_time": "2022-02-23T16:59:29.474Z"
   },
   {
    "duration": 49,
    "start_time": "2022-02-23T16:59:29.492Z"
   },
   {
    "duration": 17,
    "start_time": "2022-02-23T16:59:29.543Z"
   },
   {
    "duration": 100,
    "start_time": "2022-02-23T16:59:29.561Z"
   },
   {
    "duration": 97,
    "start_time": "2022-02-23T16:59:29.663Z"
   },
   {
    "duration": 9,
    "start_time": "2022-02-23T16:59:29.761Z"
   },
   {
    "duration": 98,
    "start_time": "2022-02-23T16:59:29.771Z"
   },
   {
    "duration": 16,
    "start_time": "2022-02-23T16:59:29.871Z"
   },
   {
    "duration": 16,
    "start_time": "2022-02-23T16:59:29.888Z"
   },
   {
    "duration": 36,
    "start_time": "2022-02-23T16:59:29.906Z"
   },
   {
    "duration": 21,
    "start_time": "2022-02-23T16:59:29.944Z"
   },
   {
    "duration": 96,
    "start_time": "2022-02-23T16:59:29.966Z"
   },
   {
    "duration": 96,
    "start_time": "2022-02-23T16:59:30.064Z"
   },
   {
    "duration": 169,
    "start_time": "2022-02-23T16:59:30.162Z"
   },
   {
    "duration": 70,
    "start_time": "2022-02-23T16:59:30.333Z"
   },
   {
    "duration": 52,
    "start_time": "2022-02-23T16:59:30.404Z"
   },
   {
    "duration": 10,
    "start_time": "2022-02-23T16:59:30.460Z"
   },
   {
    "duration": 58,
    "start_time": "2022-02-23T16:59:30.472Z"
   },
   {
    "duration": 10,
    "start_time": "2022-02-23T16:59:30.532Z"
   },
   {
    "duration": 180,
    "start_time": "2022-02-23T17:01:17.594Z"
   },
   {
    "duration": 15,
    "start_time": "2022-02-23T17:01:32.126Z"
   },
   {
    "duration": 307,
    "start_time": "2022-02-23T17:02:04.354Z"
   },
   {
    "duration": 292,
    "start_time": "2022-02-23T17:03:28.205Z"
   },
   {
    "duration": 3,
    "start_time": "2022-02-23T17:03:40.978Z"
   },
   {
    "duration": 200,
    "start_time": "2022-02-23T17:03:40.987Z"
   },
   {
    "duration": 10,
    "start_time": "2022-02-23T17:03:41.189Z"
   },
   {
    "duration": 13,
    "start_time": "2022-02-23T17:03:41.201Z"
   },
   {
    "duration": 15,
    "start_time": "2022-02-23T17:03:41.216Z"
   },
   {
    "duration": 14,
    "start_time": "2022-02-23T17:03:41.233Z"
   },
   {
    "duration": 5,
    "start_time": "2022-02-23T17:03:41.249Z"
   },
   {
    "duration": 10,
    "start_time": "2022-02-23T17:03:41.256Z"
   },
   {
    "duration": 5,
    "start_time": "2022-02-23T17:03:41.269Z"
   },
   {
    "duration": 13,
    "start_time": "2022-02-23T17:03:41.276Z"
   },
   {
    "duration": 41,
    "start_time": "2022-02-23T17:03:41.291Z"
   },
   {
    "duration": 18,
    "start_time": "2022-02-23T17:03:41.334Z"
   },
   {
    "duration": 14,
    "start_time": "2022-02-23T17:03:41.354Z"
   },
   {
    "duration": 12,
    "start_time": "2022-02-23T17:03:41.370Z"
   },
   {
    "duration": 52,
    "start_time": "2022-02-23T17:03:41.384Z"
   },
   {
    "duration": 4,
    "start_time": "2022-02-23T17:03:41.438Z"
   },
   {
    "duration": 24,
    "start_time": "2022-02-23T17:03:41.443Z"
   },
   {
    "duration": 18,
    "start_time": "2022-02-23T17:03:41.469Z"
   },
   {
    "duration": 342,
    "start_time": "2022-02-23T17:03:41.489Z"
   },
   {
    "duration": 2,
    "start_time": "2022-02-23T17:03:41.833Z"
   },
   {
    "duration": 22,
    "start_time": "2022-02-23T17:03:41.837Z"
   },
   {
    "duration": 28,
    "start_time": "2022-02-23T17:03:41.860Z"
   },
   {
    "duration": 45,
    "start_time": "2022-02-23T17:03:41.889Z"
   },
   {
    "duration": 368,
    "start_time": "2022-02-23T17:03:41.939Z"
   },
   {
    "duration": 383,
    "start_time": "2022-02-23T17:03:42.311Z"
   },
   {
    "duration": 345,
    "start_time": "2022-02-23T17:03:42.696Z"
   },
   {
    "duration": 311,
    "start_time": "2022-02-23T17:03:43.043Z"
   },
   {
    "duration": 297,
    "start_time": "2022-02-23T17:03:43.355Z"
   },
   {
    "duration": 17,
    "start_time": "2022-02-23T17:03:43.653Z"
   },
   {
    "duration": 17,
    "start_time": "2022-02-23T17:03:43.671Z"
   },
   {
    "duration": 166,
    "start_time": "2022-02-23T17:03:43.689Z"
   },
   {
    "duration": 153,
    "start_time": "2022-02-23T17:03:43.856Z"
   },
   {
    "duration": 138,
    "start_time": "2022-02-23T17:03:44.010Z"
   },
   {
    "duration": 146,
    "start_time": "2022-02-23T17:03:44.150Z"
   },
   {
    "duration": 148,
    "start_time": "2022-02-23T17:03:44.298Z"
   },
   {
    "duration": 323,
    "start_time": "2022-02-23T17:03:44.448Z"
   },
   {
    "duration": 297,
    "start_time": "2022-02-23T17:03:44.773Z"
   },
   {
    "duration": 581,
    "start_time": "2022-02-23T17:03:45.072Z"
   },
   {
    "duration": 678,
    "start_time": "2022-02-23T17:03:45.656Z"
   },
   {
    "duration": 614,
    "start_time": "2022-02-23T17:03:46.336Z"
   },
   {
    "duration": 816,
    "start_time": "2022-02-23T17:03:46.951Z"
   },
   {
    "duration": 747,
    "start_time": "2022-02-23T17:03:47.769Z"
   },
   {
    "duration": 258,
    "start_time": "2022-02-23T17:03:48.519Z"
   },
   {
    "duration": 20,
    "start_time": "2022-02-23T17:03:48.779Z"
   },
   {
    "duration": 40,
    "start_time": "2022-02-23T17:03:48.801Z"
   },
   {
    "duration": 18,
    "start_time": "2022-02-23T17:03:48.843Z"
   },
   {
    "duration": 17,
    "start_time": "2022-02-23T17:03:48.863Z"
   },
   {
    "duration": 17,
    "start_time": "2022-02-23T17:03:48.882Z"
   },
   {
    "duration": 44,
    "start_time": "2022-02-23T17:03:48.901Z"
   },
   {
    "duration": 22,
    "start_time": "2022-02-23T17:03:48.947Z"
   },
   {
    "duration": 18,
    "start_time": "2022-02-23T17:03:48.971Z"
   },
   {
    "duration": 47,
    "start_time": "2022-02-23T17:03:48.991Z"
   },
   {
    "duration": 18,
    "start_time": "2022-02-23T17:03:49.040Z"
   },
   {
    "duration": 18,
    "start_time": "2022-02-23T17:03:49.060Z"
   },
   {
    "duration": 20,
    "start_time": "2022-02-23T17:03:49.080Z"
   },
   {
    "duration": 46,
    "start_time": "2022-02-23T17:03:49.102Z"
   },
   {
    "duration": 99,
    "start_time": "2022-02-23T17:03:49.150Z"
   },
   {
    "duration": 91,
    "start_time": "2022-02-23T17:03:49.251Z"
   },
   {
    "duration": 10,
    "start_time": "2022-02-23T17:03:49.343Z"
   },
   {
    "duration": 99,
    "start_time": "2022-02-23T17:03:49.354Z"
   },
   {
    "duration": 16,
    "start_time": "2022-02-23T17:03:49.454Z"
   },
   {
    "duration": 16,
    "start_time": "2022-02-23T17:03:49.472Z"
   },
   {
    "duration": 41,
    "start_time": "2022-02-23T17:03:49.490Z"
   },
   {
    "duration": 26,
    "start_time": "2022-02-23T17:03:49.533Z"
   },
   {
    "duration": 97,
    "start_time": "2022-02-23T17:03:49.561Z"
   },
   {
    "duration": 90,
    "start_time": "2022-02-23T17:03:49.660Z"
   },
   {
    "duration": 118,
    "start_time": "2022-02-23T17:03:49.752Z"
   },
   {
    "duration": 94,
    "start_time": "2022-02-23T17:03:49.872Z"
   },
   {
    "duration": 44,
    "start_time": "2022-02-23T17:03:49.970Z"
   },
   {
    "duration": 26,
    "start_time": "2022-02-23T17:03:50.016Z"
   },
   {
    "duration": 168,
    "start_time": "2022-02-23T17:03:50.043Z"
   },
   {
    "duration": 20,
    "start_time": "2022-02-23T17:03:50.214Z"
   },
   {
    "duration": 261,
    "start_time": "2022-02-23T17:21:34.290Z"
   },
   {
    "duration": 272,
    "start_time": "2022-02-23T17:22:52.210Z"
   },
   {
    "duration": 17,
    "start_time": "2022-02-23T17:32:30.472Z"
   },
   {
    "duration": 13,
    "start_time": "2022-02-23T17:33:40.724Z"
   },
   {
    "duration": 17,
    "start_time": "2022-02-23T17:33:44.568Z"
   },
   {
    "duration": 3,
    "start_time": "2022-02-23T17:40:35.509Z"
   },
   {
    "duration": 203,
    "start_time": "2022-02-23T17:40:35.517Z"
   },
   {
    "duration": 10,
    "start_time": "2022-02-23T17:40:35.722Z"
   },
   {
    "duration": 12,
    "start_time": "2022-02-23T17:40:35.735Z"
   },
   {
    "duration": 10,
    "start_time": "2022-02-23T17:40:35.749Z"
   },
   {
    "duration": 13,
    "start_time": "2022-02-23T17:40:35.761Z"
   },
   {
    "duration": 5,
    "start_time": "2022-02-23T17:40:35.776Z"
   },
   {
    "duration": 49,
    "start_time": "2022-02-23T17:40:35.783Z"
   },
   {
    "duration": 6,
    "start_time": "2022-02-23T17:40:35.836Z"
   },
   {
    "duration": 11,
    "start_time": "2022-02-23T17:40:35.844Z"
   },
   {
    "duration": 17,
    "start_time": "2022-02-23T17:40:35.857Z"
   },
   {
    "duration": 62,
    "start_time": "2022-02-23T17:40:35.876Z"
   },
   {
    "duration": 19,
    "start_time": "2022-02-23T17:40:35.940Z"
   },
   {
    "duration": 17,
    "start_time": "2022-02-23T17:40:35.961Z"
   },
   {
    "duration": 5,
    "start_time": "2022-02-23T17:40:35.980Z"
   },
   {
    "duration": 62,
    "start_time": "2022-02-23T17:40:35.987Z"
   },
   {
    "duration": 18,
    "start_time": "2022-02-23T17:40:36.051Z"
   },
   {
    "duration": 295,
    "start_time": "2022-02-23T17:40:36.071Z"
   },
   {
    "duration": 2,
    "start_time": "2022-02-23T17:40:36.368Z"
   },
   {
    "duration": 19,
    "start_time": "2022-02-23T17:40:36.372Z"
   },
   {
    "duration": 37,
    "start_time": "2022-02-23T17:40:36.393Z"
   },
   {
    "duration": 21,
    "start_time": "2022-02-23T17:40:36.432Z"
   },
   {
    "duration": 350,
    "start_time": "2022-02-23T17:40:36.455Z"
   },
   {
    "duration": 385,
    "start_time": "2022-02-23T17:40:36.810Z"
   },
   {
    "duration": 338,
    "start_time": "2022-02-23T17:40:37.199Z"
   },
   {
    "duration": 294,
    "start_time": "2022-02-23T17:40:37.539Z"
   },
   {
    "duration": 322,
    "start_time": "2022-02-23T17:40:37.835Z"
   },
   {
    "duration": 22,
    "start_time": "2022-02-23T17:40:38.159Z"
   },
   {
    "duration": 21,
    "start_time": "2022-02-23T17:40:38.183Z"
   },
   {
    "duration": 241,
    "start_time": "2022-02-23T17:40:38.206Z"
   },
   {
    "duration": 157,
    "start_time": "2022-02-23T17:40:38.449Z"
   },
   {
    "duration": 141,
    "start_time": "2022-02-23T17:40:38.608Z"
   },
   {
    "duration": 164,
    "start_time": "2022-02-23T17:40:38.751Z"
   },
   {
    "duration": 163,
    "start_time": "2022-02-23T17:40:38.917Z"
   },
   {
    "duration": 334,
    "start_time": "2022-02-23T17:40:39.082Z"
   },
   {
    "duration": 313,
    "start_time": "2022-02-23T17:40:39.418Z"
   },
   {
    "duration": 573,
    "start_time": "2022-02-23T17:40:39.733Z"
   },
   {
    "duration": 612,
    "start_time": "2022-02-23T17:40:40.308Z"
   },
   {
    "duration": 724,
    "start_time": "2022-02-23T17:40:40.922Z"
   },
   {
    "duration": 589,
    "start_time": "2022-02-23T17:40:41.648Z"
   },
   {
    "duration": 553,
    "start_time": "2022-02-23T17:40:42.239Z"
   },
   {
    "duration": 180,
    "start_time": "2022-02-23T17:40:42.793Z"
   },
   {
    "duration": 21,
    "start_time": "2022-02-23T17:40:42.975Z"
   },
   {
    "duration": 44,
    "start_time": "2022-02-23T17:40:42.999Z"
   },
   {
    "duration": 24,
    "start_time": "2022-02-23T17:40:43.045Z"
   },
   {
    "duration": 25,
    "start_time": "2022-02-23T17:40:43.071Z"
   },
   {
    "duration": 44,
    "start_time": "2022-02-23T17:40:43.098Z"
   },
   {
    "duration": 19,
    "start_time": "2022-02-23T17:40:43.144Z"
   },
   {
    "duration": 19,
    "start_time": "2022-02-23T17:40:43.165Z"
   },
   {
    "duration": 49,
    "start_time": "2022-02-23T17:40:43.186Z"
   },
   {
    "duration": 17,
    "start_time": "2022-02-23T17:40:43.237Z"
   },
   {
    "duration": 19,
    "start_time": "2022-02-23T17:40:43.256Z"
   },
   {
    "duration": 18,
    "start_time": "2022-02-23T17:40:43.277Z"
   },
   {
    "duration": 55,
    "start_time": "2022-02-23T17:40:43.297Z"
   },
   {
    "duration": 22,
    "start_time": "2022-02-23T17:40:43.354Z"
   },
   {
    "duration": 134,
    "start_time": "2022-02-23T17:40:43.378Z"
   },
   {
    "duration": 82,
    "start_time": "2022-02-23T17:40:43.514Z"
   },
   {
    "duration": 8,
    "start_time": "2022-02-23T17:40:43.598Z"
   },
   {
    "duration": 101,
    "start_time": "2022-02-23T17:40:43.608Z"
   },
   {
    "duration": 25,
    "start_time": "2022-02-23T17:40:43.712Z"
   },
   {
    "duration": 17,
    "start_time": "2022-02-23T17:40:43.739Z"
   },
   {
    "duration": 21,
    "start_time": "2022-02-23T17:40:43.758Z"
   },
   {
    "duration": 61,
    "start_time": "2022-02-23T17:40:43.781Z"
   },
   {
    "duration": 97,
    "start_time": "2022-02-23T17:40:43.844Z"
   },
   {
    "duration": 90,
    "start_time": "2022-02-23T17:40:43.944Z"
   },
   {
    "duration": 71,
    "start_time": "2022-02-23T17:40:44.036Z"
   },
   {
    "duration": 93,
    "start_time": "2022-02-23T17:40:44.109Z"
   },
   {
    "duration": 54,
    "start_time": "2022-02-23T17:40:44.204Z"
   },
   {
    "duration": 11,
    "start_time": "2022-02-23T17:40:44.263Z"
   },
   {
    "duration": 82,
    "start_time": "2022-02-23T17:40:44.277Z"
   },
   {
    "duration": 11,
    "start_time": "2022-02-23T17:40:44.361Z"
   },
   {
    "duration": 32,
    "start_time": "2022-02-23T17:42:11.900Z"
   },
   {
    "duration": 383,
    "start_time": "2022-02-23T17:48:04.621Z"
   },
   {
    "duration": 327,
    "start_time": "2022-02-23T17:50:20.214Z"
   },
   {
    "duration": 396,
    "start_time": "2022-02-23T17:50:27.356Z"
   },
   {
    "duration": 380,
    "start_time": "2022-02-23T17:51:49.784Z"
   },
   {
    "duration": 250,
    "start_time": "2022-02-23T17:52:28.689Z"
   },
   {
    "duration": 256,
    "start_time": "2022-02-23T17:57:30.975Z"
   },
   {
    "duration": 255,
    "start_time": "2022-02-23T17:59:41.403Z"
   },
   {
    "duration": 261,
    "start_time": "2022-02-23T18:03:13.153Z"
   },
   {
    "duration": 23,
    "start_time": "2022-02-23T18:11:38.946Z"
   },
   {
    "duration": 17,
    "start_time": "2022-02-23T18:17:32.051Z"
   },
   {
    "duration": 466,
    "start_time": "2022-02-23T18:33:43.342Z"
   },
   {
    "duration": 140,
    "start_time": "2022-02-23T18:33:50.821Z"
   },
   {
    "duration": 466,
    "start_time": "2022-02-23T19:00:41.885Z"
   },
   {
    "duration": 136,
    "start_time": "2022-02-23T19:00:58.353Z"
   },
   {
    "duration": 136,
    "start_time": "2022-02-23T19:01:19.271Z"
   },
   {
    "duration": 385,
    "start_time": "2022-02-23T19:11:50.170Z"
   },
   {
    "duration": 261,
    "start_time": "2022-02-23T19:13:02.910Z"
   },
   {
    "duration": 137,
    "start_time": "2022-02-23T19:27:37.387Z"
   },
   {
    "duration": 133,
    "start_time": "2022-02-23T19:27:52.162Z"
   },
   {
    "duration": 187,
    "start_time": "2022-02-23T19:28:06.918Z"
   },
   {
    "duration": 195,
    "start_time": "2022-02-23T19:28:22.356Z"
   },
   {
    "duration": 310,
    "start_time": "2022-02-23T19:30:29.103Z"
   },
   {
    "duration": 310,
    "start_time": "2022-02-23T19:30:31.023Z"
   },
   {
    "duration": 133,
    "start_time": "2022-02-23T19:39:31.473Z"
   },
   {
    "duration": 584,
    "start_time": "2022-02-23T19:40:22.793Z"
   },
   {
    "duration": 592,
    "start_time": "2022-02-23T19:43:52.896Z"
   },
   {
    "duration": 630,
    "start_time": "2022-02-23T19:44:59.813Z"
   },
   {
    "duration": 547,
    "start_time": "2022-02-23T19:46:09.573Z"
   },
   {
    "duration": 376,
    "start_time": "2022-02-23T19:47:16.056Z"
   },
   {
    "duration": 229,
    "start_time": "2022-02-23T19:58:19.262Z"
   },
   {
    "duration": 79,
    "start_time": "2022-02-23T20:01:12.274Z"
   },
   {
    "duration": 81,
    "start_time": "2022-02-23T20:02:18.445Z"
   },
   {
    "duration": 362,
    "start_time": "2022-02-24T05:46:13.339Z"
   },
   {
    "duration": 1074,
    "start_time": "2022-02-24T05:46:21.961Z"
   },
   {
    "duration": 256,
    "start_time": "2022-02-24T05:46:23.036Z"
   },
   {
    "duration": 9,
    "start_time": "2022-02-24T05:46:23.294Z"
   },
   {
    "duration": 11,
    "start_time": "2022-02-24T05:46:23.305Z"
   },
   {
    "duration": 8,
    "start_time": "2022-02-24T05:46:23.317Z"
   },
   {
    "duration": 12,
    "start_time": "2022-02-24T05:46:23.327Z"
   },
   {
    "duration": 4,
    "start_time": "2022-02-24T05:46:23.340Z"
   },
   {
    "duration": 6,
    "start_time": "2022-02-24T05:46:23.346Z"
   },
   {
    "duration": 4,
    "start_time": "2022-02-24T05:46:23.354Z"
   },
   {
    "duration": 8,
    "start_time": "2022-02-24T05:46:23.360Z"
   },
   {
    "duration": 10,
    "start_time": "2022-02-24T05:46:23.369Z"
   },
   {
    "duration": 16,
    "start_time": "2022-02-24T05:46:23.380Z"
   },
   {
    "duration": 40,
    "start_time": "2022-02-24T05:46:23.398Z"
   },
   {
    "duration": 13,
    "start_time": "2022-02-24T05:46:23.439Z"
   },
   {
    "duration": 8,
    "start_time": "2022-02-24T05:46:23.454Z"
   },
   {
    "duration": 15,
    "start_time": "2022-02-24T05:46:23.464Z"
   },
   {
    "duration": 14,
    "start_time": "2022-02-24T05:46:23.481Z"
   },
   {
    "duration": 279,
    "start_time": "2022-02-24T05:46:23.497Z"
   },
   {
    "duration": 2,
    "start_time": "2022-02-24T05:46:23.777Z"
   },
   {
    "duration": 13,
    "start_time": "2022-02-24T05:46:23.781Z"
   },
   {
    "duration": 15,
    "start_time": "2022-02-24T05:46:23.796Z"
   },
   {
    "duration": 36,
    "start_time": "2022-02-24T05:46:23.812Z"
   },
   {
    "duration": 237,
    "start_time": "2022-02-24T05:46:23.851Z"
   },
   {
    "duration": 241,
    "start_time": "2022-02-24T05:46:24.090Z"
   },
   {
    "duration": 242,
    "start_time": "2022-02-24T05:46:24.333Z"
   },
   {
    "duration": 248,
    "start_time": "2022-02-24T05:46:24.577Z"
   },
   {
    "duration": 237,
    "start_time": "2022-02-24T05:46:24.826Z"
   },
   {
    "duration": 15,
    "start_time": "2022-02-24T05:46:25.065Z"
   },
   {
    "duration": 13,
    "start_time": "2022-02-24T05:46:25.081Z"
   },
   {
    "duration": 197,
    "start_time": "2022-02-24T05:46:25.096Z"
   },
   {
    "duration": 129,
    "start_time": "2022-02-24T05:46:25.294Z"
   },
   {
    "duration": 132,
    "start_time": "2022-02-24T05:46:25.425Z"
   },
   {
    "duration": 123,
    "start_time": "2022-02-24T05:46:25.559Z"
   },
   {
    "duration": 129,
    "start_time": "2022-02-24T05:46:25.683Z"
   },
   {
    "duration": 506,
    "start_time": "2022-02-24T05:46:25.814Z"
   },
   {
    "duration": 41988,
    "start_time": "2022-02-24T05:45:44.335Z"
   },
   {
    "duration": 41992,
    "start_time": "2022-02-24T05:45:44.339Z"
   },
   {
    "duration": 41989,
    "start_time": "2022-02-24T05:45:44.343Z"
   },
   {
    "duration": 41987,
    "start_time": "2022-02-24T05:45:44.346Z"
   },
   {
    "duration": 41984,
    "start_time": "2022-02-24T05:45:44.350Z"
   },
   {
    "duration": 41983,
    "start_time": "2022-02-24T05:45:44.353Z"
   },
   {
    "duration": 41981,
    "start_time": "2022-02-24T05:45:44.356Z"
   },
   {
    "duration": 41979,
    "start_time": "2022-02-24T05:45:44.359Z"
   },
   {
    "duration": 41977,
    "start_time": "2022-02-24T05:45:44.362Z"
   },
   {
    "duration": 41975,
    "start_time": "2022-02-24T05:45:44.366Z"
   },
   {
    "duration": 41973,
    "start_time": "2022-02-24T05:45:44.369Z"
   },
   {
    "duration": 41971,
    "start_time": "2022-02-24T05:45:44.372Z"
   },
   {
    "duration": 41969,
    "start_time": "2022-02-24T05:45:44.376Z"
   },
   {
    "duration": 41967,
    "start_time": "2022-02-24T05:45:44.379Z"
   },
   {
    "duration": 41964,
    "start_time": "2022-02-24T05:45:44.383Z"
   },
   {
    "duration": 41963,
    "start_time": "2022-02-24T05:45:44.386Z"
   },
   {
    "duration": 41961,
    "start_time": "2022-02-24T05:45:44.389Z"
   },
   {
    "duration": 41958,
    "start_time": "2022-02-24T05:45:44.393Z"
   },
   {
    "duration": 41954,
    "start_time": "2022-02-24T05:45:44.398Z"
   },
   {
    "duration": 41953,
    "start_time": "2022-02-24T05:45:44.401Z"
   },
   {
    "duration": 41950,
    "start_time": "2022-02-24T05:45:44.405Z"
   },
   {
    "duration": 41947,
    "start_time": "2022-02-24T05:45:44.409Z"
   },
   {
    "duration": 41945,
    "start_time": "2022-02-24T05:45:44.413Z"
   },
   {
    "duration": 41936,
    "start_time": "2022-02-24T05:45:44.423Z"
   },
   {
    "duration": 41933,
    "start_time": "2022-02-24T05:45:44.427Z"
   },
   {
    "duration": 41932,
    "start_time": "2022-02-24T05:45:44.430Z"
   },
   {
    "duration": 41930,
    "start_time": "2022-02-24T05:45:44.433Z"
   },
   {
    "duration": 41928,
    "start_time": "2022-02-24T05:45:44.436Z"
   },
   {
    "duration": 41926,
    "start_time": "2022-02-24T05:45:44.439Z"
   },
   {
    "duration": 41924,
    "start_time": "2022-02-24T05:45:44.443Z"
   },
   {
    "duration": 41922,
    "start_time": "2022-02-24T05:45:44.446Z"
   },
   {
    "duration": 41920,
    "start_time": "2022-02-24T05:45:44.449Z"
   },
   {
    "duration": 41917,
    "start_time": "2022-02-24T05:45:44.454Z"
   },
   {
    "duration": 41915,
    "start_time": "2022-02-24T05:45:44.457Z"
   },
   {
    "duration": 41912,
    "start_time": "2022-02-24T05:45:44.461Z"
   },
   {
    "duration": 41910,
    "start_time": "2022-02-24T05:45:44.464Z"
   },
   {
    "duration": 41961,
    "start_time": "2022-02-24T05:45:44.471Z"
   },
   {
    "duration": 41959,
    "start_time": "2022-02-24T05:45:44.474Z"
   },
   {
    "duration": 41958,
    "start_time": "2022-02-24T05:45:44.477Z"
   },
   {
    "duration": 41956,
    "start_time": "2022-02-24T05:45:44.480Z"
   },
   {
    "duration": 497,
    "start_time": "2022-02-24T07:04:51.234Z"
   },
   {
    "duration": 352,
    "start_time": "2022-02-24T07:05:29.400Z"
   },
   {
    "duration": 128,
    "start_time": "2022-02-24T07:05:42.977Z"
   },
   {
    "duration": 133,
    "start_time": "2022-02-24T07:05:56.632Z"
   },
   {
    "duration": 123,
    "start_time": "2022-02-24T07:10:15.344Z"
   },
   {
    "duration": 121,
    "start_time": "2022-02-24T07:10:20.056Z"
   },
   {
    "duration": 312,
    "start_time": "2022-02-24T07:17:25.982Z"
   },
   {
    "duration": 361,
    "start_time": "2022-02-24T07:18:13.439Z"
   },
   {
    "duration": 360,
    "start_time": "2022-02-24T07:18:23.597Z"
   },
   {
    "duration": 355,
    "start_time": "2022-02-24T07:18:48.856Z"
   },
   {
    "duration": 484,
    "start_time": "2022-02-24T07:19:19.549Z"
   },
   {
    "duration": 364,
    "start_time": "2022-02-24T07:30:09.434Z"
   },
   {
    "duration": 333,
    "start_time": "2022-02-24T07:30:37.675Z"
   },
   {
    "duration": 251,
    "start_time": "2022-02-24T07:30:50.606Z"
   },
   {
    "duration": 678,
    "start_time": "2022-02-24T07:33:01.348Z"
   },
   {
    "duration": 576,
    "start_time": "2022-02-24T07:33:14.124Z"
   },
   {
    "duration": 245,
    "start_time": "2022-02-24T07:33:23.850Z"
   },
   {
    "duration": 282,
    "start_time": "2022-02-24T07:33:36.110Z"
   },
   {
    "duration": 241,
    "start_time": "2022-02-24T07:33:49.293Z"
   },
   {
    "duration": 519,
    "start_time": "2022-02-24T07:37:43.056Z"
   },
   {
    "duration": 328,
    "start_time": "2022-02-24T07:37:54.510Z"
   },
   {
    "duration": 467,
    "start_time": "2022-02-24T07:39:11.047Z"
   },
   {
    "duration": 112,
    "start_time": "2022-02-24T07:41:26.313Z"
   },
   {
    "duration": 469,
    "start_time": "2022-02-24T07:41:46.337Z"
   },
   {
    "duration": 473,
    "start_time": "2022-02-24T07:42:22.899Z"
   },
   {
    "duration": 466,
    "start_time": "2022-02-24T07:46:59.299Z"
   },
   {
    "duration": 535,
    "start_time": "2022-02-24T07:47:18.519Z"
   },
   {
    "duration": 462,
    "start_time": "2022-02-24T07:50:43.205Z"
   },
   {
    "duration": 796,
    "start_time": "2022-02-24T07:52:00.080Z"
   },
   {
    "duration": 824,
    "start_time": "2022-02-24T07:52:14.965Z"
   },
   {
    "duration": 461,
    "start_time": "2022-02-24T07:52:31.286Z"
   },
   {
    "duration": 818,
    "start_time": "2022-02-24T08:10:20.447Z"
   },
   {
    "duration": 3,
    "start_time": "2022-02-24T08:11:13.288Z"
   },
   {
    "duration": 269,
    "start_time": "2022-02-24T08:11:13.295Z"
   },
   {
    "duration": 9,
    "start_time": "2022-02-24T08:11:13.566Z"
   },
   {
    "duration": 28,
    "start_time": "2022-02-24T08:11:13.577Z"
   },
   {
    "duration": 38,
    "start_time": "2022-02-24T08:11:13.607Z"
   },
   {
    "duration": 26,
    "start_time": "2022-02-24T08:11:13.646Z"
   },
   {
    "duration": 13,
    "start_time": "2022-02-24T08:11:13.673Z"
   },
   {
    "duration": 12,
    "start_time": "2022-02-24T08:11:13.688Z"
   },
   {
    "duration": 88,
    "start_time": "2022-02-24T08:11:13.702Z"
   },
   {
    "duration": 10,
    "start_time": "2022-02-24T08:11:13.792Z"
   },
   {
    "duration": 21,
    "start_time": "2022-02-24T08:11:13.804Z"
   },
   {
    "duration": 20,
    "start_time": "2022-02-24T08:11:13.827Z"
   },
   {
    "duration": 14,
    "start_time": "2022-02-24T08:11:13.848Z"
   },
   {
    "duration": 16,
    "start_time": "2022-02-24T08:11:13.864Z"
   },
   {
    "duration": 3,
    "start_time": "2022-02-24T08:11:13.882Z"
   },
   {
    "duration": 26,
    "start_time": "2022-02-24T08:11:13.886Z"
   },
   {
    "duration": 26,
    "start_time": "2022-02-24T08:11:13.914Z"
   },
   {
    "duration": 265,
    "start_time": "2022-02-24T08:11:13.942Z"
   },
   {
    "duration": 2,
    "start_time": "2022-02-24T08:11:14.209Z"
   },
   {
    "duration": 36,
    "start_time": "2022-02-24T08:11:14.212Z"
   },
   {
    "duration": 16,
    "start_time": "2022-02-24T08:11:14.249Z"
   },
   {
    "duration": 21,
    "start_time": "2022-02-24T08:11:14.266Z"
   },
   {
    "duration": 363,
    "start_time": "2022-02-24T08:11:14.288Z"
   },
   {
    "duration": 248,
    "start_time": "2022-02-24T08:11:14.655Z"
   },
   {
    "duration": 256,
    "start_time": "2022-02-24T08:11:14.906Z"
   },
   {
    "duration": 244,
    "start_time": "2022-02-24T08:11:15.164Z"
   },
   {
    "duration": 248,
    "start_time": "2022-02-24T08:11:15.410Z"
   },
   {
    "duration": 16,
    "start_time": "2022-02-24T08:11:15.660Z"
   },
   {
    "duration": 15,
    "start_time": "2022-02-24T08:11:15.678Z"
   },
   {
    "duration": 504,
    "start_time": "2022-02-24T08:11:15.695Z"
   },
   {
    "duration": 783,
    "start_time": "2022-02-24T08:11:16.201Z"
   },
   {
    "duration": 41935,
    "start_time": "2022-02-24T08:10:35.050Z"
   },
   {
    "duration": 41932,
    "start_time": "2022-02-24T08:10:35.055Z"
   },
   {
    "duration": 41929,
    "start_time": "2022-02-24T08:10:35.059Z"
   },
   {
    "duration": 41926,
    "start_time": "2022-02-24T08:10:35.063Z"
   },
   {
    "duration": 41925,
    "start_time": "2022-02-24T08:10:35.066Z"
   },
   {
    "duration": 41923,
    "start_time": "2022-02-24T08:10:35.069Z"
   },
   {
    "duration": 41921,
    "start_time": "2022-02-24T08:10:35.073Z"
   },
   {
    "duration": 41887,
    "start_time": "2022-02-24T08:10:35.108Z"
   },
   {
    "duration": 41885,
    "start_time": "2022-02-24T08:10:35.111Z"
   },
   {
    "duration": 41883,
    "start_time": "2022-02-24T08:10:35.115Z"
   },
   {
    "duration": 41882,
    "start_time": "2022-02-24T08:10:35.117Z"
   },
   {
    "duration": 41879,
    "start_time": "2022-02-24T08:10:35.121Z"
   },
   {
    "duration": 41878,
    "start_time": "2022-02-24T08:10:35.124Z"
   },
   {
    "duration": 41904,
    "start_time": "2022-02-24T08:10:35.127Z"
   },
   {
    "duration": 41902,
    "start_time": "2022-02-24T08:10:35.130Z"
   },
   {
    "duration": 41899,
    "start_time": "2022-02-24T08:10:35.134Z"
   },
   {
    "duration": 41899,
    "start_time": "2022-02-24T08:10:35.136Z"
   },
   {
    "duration": 41897,
    "start_time": "2022-02-24T08:10:35.139Z"
   },
   {
    "duration": 41894,
    "start_time": "2022-02-24T08:10:35.143Z"
   },
   {
    "duration": 41893,
    "start_time": "2022-02-24T08:10:35.146Z"
   },
   {
    "duration": 41891,
    "start_time": "2022-02-24T08:10:35.149Z"
   },
   {
    "duration": 41889,
    "start_time": "2022-02-24T08:10:35.152Z"
   },
   {
    "duration": 41888,
    "start_time": "2022-02-24T08:10:35.155Z"
   },
   {
    "duration": 41886,
    "start_time": "2022-02-24T08:10:35.158Z"
   },
   {
    "duration": 41884,
    "start_time": "2022-02-24T08:10:35.161Z"
   },
   {
    "duration": 41881,
    "start_time": "2022-02-24T08:10:35.164Z"
   },
   {
    "duration": 41880,
    "start_time": "2022-02-24T08:10:35.167Z"
   },
   {
    "duration": 41878,
    "start_time": "2022-02-24T08:10:35.170Z"
   },
   {
    "duration": 41876,
    "start_time": "2022-02-24T08:10:35.173Z"
   },
   {
    "duration": 41858,
    "start_time": "2022-02-24T08:10:35.192Z"
   },
   {
    "duration": 41856,
    "start_time": "2022-02-24T08:10:35.195Z"
   },
   {
    "duration": 41853,
    "start_time": "2022-02-24T08:10:35.198Z"
   },
   {
    "duration": 41850,
    "start_time": "2022-02-24T08:10:35.202Z"
   },
   {
    "duration": 41848,
    "start_time": "2022-02-24T08:10:35.205Z"
   },
   {
    "duration": 41846,
    "start_time": "2022-02-24T08:10:35.208Z"
   },
   {
    "duration": 41843,
    "start_time": "2022-02-24T08:10:35.212Z"
   },
   {
    "duration": 41841,
    "start_time": "2022-02-24T08:10:35.215Z"
   },
   {
    "duration": 41839,
    "start_time": "2022-02-24T08:10:35.218Z"
   },
   {
    "duration": 41837,
    "start_time": "2022-02-24T08:10:35.221Z"
   },
   {
    "duration": 41835,
    "start_time": "2022-02-24T08:10:35.224Z"
   },
   {
    "duration": 896,
    "start_time": "2022-02-24T08:12:40.313Z"
   },
   {
    "duration": 3,
    "start_time": "2022-02-24T08:29:52.045Z"
   },
   {
    "duration": 293,
    "start_time": "2022-02-24T08:29:52.079Z"
   },
   {
    "duration": 9,
    "start_time": "2022-02-24T08:29:52.373Z"
   },
   {
    "duration": 11,
    "start_time": "2022-02-24T08:29:52.384Z"
   },
   {
    "duration": 8,
    "start_time": "2022-02-24T08:29:52.397Z"
   },
   {
    "duration": 32,
    "start_time": "2022-02-24T08:29:52.406Z"
   },
   {
    "duration": 4,
    "start_time": "2022-02-24T08:29:52.440Z"
   },
   {
    "duration": 6,
    "start_time": "2022-02-24T08:29:52.446Z"
   },
   {
    "duration": 5,
    "start_time": "2022-02-24T08:29:52.455Z"
   },
   {
    "duration": 6,
    "start_time": "2022-02-24T08:29:52.462Z"
   },
   {
    "duration": 10,
    "start_time": "2022-02-24T08:29:52.470Z"
   },
   {
    "duration": 17,
    "start_time": "2022-02-24T08:29:52.482Z"
   },
   {
    "duration": 41,
    "start_time": "2022-02-24T08:29:52.501Z"
   },
   {
    "duration": 15,
    "start_time": "2022-02-24T08:29:52.544Z"
   },
   {
    "duration": 4,
    "start_time": "2022-02-24T08:29:52.561Z"
   },
   {
    "duration": 16,
    "start_time": "2022-02-24T08:29:52.566Z"
   },
   {
    "duration": 53,
    "start_time": "2022-02-24T08:29:52.584Z"
   },
   {
    "duration": 262,
    "start_time": "2022-02-24T08:29:52.639Z"
   },
   {
    "duration": 2,
    "start_time": "2022-02-24T08:29:52.903Z"
   },
   {
    "duration": 14,
    "start_time": "2022-02-24T08:29:52.907Z"
   },
   {
    "duration": 16,
    "start_time": "2022-02-24T08:29:52.931Z"
   },
   {
    "duration": 20,
    "start_time": "2022-02-24T08:29:52.948Z"
   },
   {
    "duration": 262,
    "start_time": "2022-02-24T08:29:52.970Z"
   },
   {
    "duration": 244,
    "start_time": "2022-02-24T08:29:53.235Z"
   },
   {
    "duration": 253,
    "start_time": "2022-02-24T08:29:53.481Z"
   },
   {
    "duration": 241,
    "start_time": "2022-02-24T08:29:53.735Z"
   },
   {
    "duration": 243,
    "start_time": "2022-02-24T08:29:53.977Z"
   },
   {
    "duration": 24,
    "start_time": "2022-02-24T08:29:54.222Z"
   },
   {
    "duration": 15,
    "start_time": "2022-02-24T08:29:54.248Z"
   },
   {
    "duration": 482,
    "start_time": "2022-02-24T08:29:54.264Z"
   },
   {
    "duration": 787,
    "start_time": "2022-02-24T08:29:54.748Z"
   },
   {
    "duration": 42108,
    "start_time": "2022-02-24T08:29:13.429Z"
   },
   {
    "duration": 42106,
    "start_time": "2022-02-24T08:29:13.432Z"
   },
   {
    "duration": 42087,
    "start_time": "2022-02-24T08:29:13.452Z"
   },
   {
    "duration": 42080,
    "start_time": "2022-02-24T08:29:13.460Z"
   },
   {
    "duration": 42077,
    "start_time": "2022-02-24T08:29:13.464Z"
   },
   {
    "duration": 42075,
    "start_time": "2022-02-24T08:29:13.467Z"
   },
   {
    "duration": 42072,
    "start_time": "2022-02-24T08:29:13.471Z"
   },
   {
    "duration": 42070,
    "start_time": "2022-02-24T08:29:13.474Z"
   },
   {
    "duration": 42068,
    "start_time": "2022-02-24T08:29:13.477Z"
   },
   {
    "duration": 42064,
    "start_time": "2022-02-24T08:29:13.481Z"
   },
   {
    "duration": 42062,
    "start_time": "2022-02-24T08:29:13.484Z"
   },
   {
    "duration": 42060,
    "start_time": "2022-02-24T08:29:13.487Z"
   },
   {
    "duration": 42058,
    "start_time": "2022-02-24T08:29:13.490Z"
   },
   {
    "duration": 42056,
    "start_time": "2022-02-24T08:29:13.493Z"
   },
   {
    "duration": 42053,
    "start_time": "2022-02-24T08:29:13.497Z"
   },
   {
    "duration": 42051,
    "start_time": "2022-02-24T08:29:13.500Z"
   },
   {
    "duration": 42049,
    "start_time": "2022-02-24T08:29:13.503Z"
   },
   {
    "duration": 42041,
    "start_time": "2022-02-24T08:29:13.512Z"
   },
   {
    "duration": 42038,
    "start_time": "2022-02-24T08:29:13.516Z"
   },
   {
    "duration": 42036,
    "start_time": "2022-02-24T08:29:13.519Z"
   },
   {
    "duration": 42034,
    "start_time": "2022-02-24T08:29:13.522Z"
   },
   {
    "duration": 42032,
    "start_time": "2022-02-24T08:29:13.525Z"
   },
   {
    "duration": 42029,
    "start_time": "2022-02-24T08:29:13.529Z"
   },
   {
    "duration": 42027,
    "start_time": "2022-02-24T08:29:13.532Z"
   },
   {
    "duration": 42025,
    "start_time": "2022-02-24T08:29:13.535Z"
   },
   {
    "duration": 42022,
    "start_time": "2022-02-24T08:29:13.538Z"
   },
   {
    "duration": 42021,
    "start_time": "2022-02-24T08:29:13.541Z"
   },
   {
    "duration": 42018,
    "start_time": "2022-02-24T08:29:13.545Z"
   },
   {
    "duration": 42016,
    "start_time": "2022-02-24T08:29:13.548Z"
   },
   {
    "duration": 42014,
    "start_time": "2022-02-24T08:29:13.551Z"
   },
   {
    "duration": 42011,
    "start_time": "2022-02-24T08:29:13.554Z"
   },
   {
    "duration": 41981,
    "start_time": "2022-02-24T08:29:13.585Z"
   },
   {
    "duration": 41978,
    "start_time": "2022-02-24T08:29:13.589Z"
   },
   {
    "duration": 41976,
    "start_time": "2022-02-24T08:29:13.592Z"
   },
   {
    "duration": 41973,
    "start_time": "2022-02-24T08:29:13.596Z"
   },
   {
    "duration": 41972,
    "start_time": "2022-02-24T08:29:13.598Z"
   },
   {
    "duration": 41969,
    "start_time": "2022-02-24T08:29:13.602Z"
   },
   {
    "duration": 41967,
    "start_time": "2022-02-24T08:29:13.605Z"
   },
   {
    "duration": 41965,
    "start_time": "2022-02-24T08:29:13.608Z"
   },
   {
    "duration": 41963,
    "start_time": "2022-02-24T08:29:13.611Z"
   },
   {
    "duration": 875,
    "start_time": "2022-02-24T08:30:31.703Z"
   },
   {
    "duration": 3,
    "start_time": "2022-02-24T08:49:43.688Z"
   },
   {
    "duration": 264,
    "start_time": "2022-02-24T08:49:43.694Z"
   },
   {
    "duration": 8,
    "start_time": "2022-02-24T08:49:43.960Z"
   },
   {
    "duration": 12,
    "start_time": "2022-02-24T08:49:43.970Z"
   },
   {
    "duration": 8,
    "start_time": "2022-02-24T08:49:43.984Z"
   },
   {
    "duration": 41,
    "start_time": "2022-02-24T08:49:43.994Z"
   },
   {
    "duration": 4,
    "start_time": "2022-02-24T08:49:44.036Z"
   },
   {
    "duration": 6,
    "start_time": "2022-02-24T08:49:44.042Z"
   },
   {
    "duration": 6,
    "start_time": "2022-02-24T08:49:44.050Z"
   },
   {
    "duration": 10,
    "start_time": "2022-02-24T08:49:44.057Z"
   },
   {
    "duration": 9,
    "start_time": "2022-02-24T08:49:44.068Z"
   },
   {
    "duration": 17,
    "start_time": "2022-02-24T08:49:44.079Z"
   },
   {
    "duration": 41,
    "start_time": "2022-02-24T08:49:44.098Z"
   },
   {
    "duration": 15,
    "start_time": "2022-02-24T08:49:44.141Z"
   },
   {
    "duration": 3,
    "start_time": "2022-02-24T08:49:44.157Z"
   },
   {
    "duration": 16,
    "start_time": "2022-02-24T08:49:44.162Z"
   },
   {
    "duration": 15,
    "start_time": "2022-02-24T08:49:44.179Z"
   },
   {
    "duration": 280,
    "start_time": "2022-02-24T08:49:44.196Z"
   },
   {
    "duration": 2,
    "start_time": "2022-02-24T08:49:44.478Z"
   },
   {
    "duration": 19,
    "start_time": "2022-02-24T08:49:44.481Z"
   },
   {
    "duration": 31,
    "start_time": "2022-02-24T08:49:44.502Z"
   },
   {
    "duration": 20,
    "start_time": "2022-02-24T08:49:44.534Z"
   },
   {
    "duration": 248,
    "start_time": "2022-02-24T08:49:44.556Z"
   },
   {
    "duration": 248,
    "start_time": "2022-02-24T08:49:44.808Z"
   },
   {
    "duration": 254,
    "start_time": "2022-02-24T08:49:45.058Z"
   },
   {
    "duration": 240,
    "start_time": "2022-02-24T08:49:45.314Z"
   },
   {
    "duration": 250,
    "start_time": "2022-02-24T08:49:45.556Z"
   },
   {
    "duration": 24,
    "start_time": "2022-02-24T08:49:45.808Z"
   },
   {
    "duration": 13,
    "start_time": "2022-02-24T08:49:45.834Z"
   },
   {
    "duration": 488,
    "start_time": "2022-02-24T08:49:45.849Z"
   },
   {
    "duration": 807,
    "start_time": "2022-02-24T08:49:46.339Z"
   },
   {
    "duration": 41745,
    "start_time": "2022-02-24T08:49:05.403Z"
   },
   {
    "duration": 41719,
    "start_time": "2022-02-24T08:49:05.430Z"
   },
   {
    "duration": 41715,
    "start_time": "2022-02-24T08:49:05.434Z"
   },
   {
    "duration": 41713,
    "start_time": "2022-02-24T08:49:05.437Z"
   },
   {
    "duration": 41710,
    "start_time": "2022-02-24T08:49:05.441Z"
   },
   {
    "duration": 41706,
    "start_time": "2022-02-24T08:49:05.446Z"
   },
   {
    "duration": 41703,
    "start_time": "2022-02-24T08:49:05.450Z"
   },
   {
    "duration": 41699,
    "start_time": "2022-02-24T08:49:05.454Z"
   },
   {
    "duration": 41697,
    "start_time": "2022-02-24T08:49:05.457Z"
   },
   {
    "duration": 41681,
    "start_time": "2022-02-24T08:49:05.474Z"
   },
   {
    "duration": 41679,
    "start_time": "2022-02-24T08:49:05.477Z"
   },
   {
    "duration": 41676,
    "start_time": "2022-02-24T08:49:05.481Z"
   },
   {
    "duration": 41673,
    "start_time": "2022-02-24T08:49:05.485Z"
   },
   {
    "duration": 41672,
    "start_time": "2022-02-24T08:49:05.488Z"
   },
   {
    "duration": 41669,
    "start_time": "2022-02-24T08:49:05.492Z"
   },
   {
    "duration": 41667,
    "start_time": "2022-02-24T08:49:05.495Z"
   },
   {
    "duration": 41622,
    "start_time": "2022-02-24T08:49:05.542Z"
   },
   {
    "duration": 41546,
    "start_time": "2022-02-24T08:49:05.618Z"
   },
   {
    "duration": 41544,
    "start_time": "2022-02-24T08:49:05.622Z"
   },
   {
    "duration": 41540,
    "start_time": "2022-02-24T08:49:05.626Z"
   },
   {
    "duration": 41539,
    "start_time": "2022-02-24T08:49:05.629Z"
   },
   {
    "duration": 41536,
    "start_time": "2022-02-24T08:49:05.633Z"
   },
   {
    "duration": 41534,
    "start_time": "2022-02-24T08:49:05.636Z"
   },
   {
    "duration": 41385,
    "start_time": "2022-02-24T08:49:05.786Z"
   },
   {
    "duration": 41382,
    "start_time": "2022-02-24T08:49:05.790Z"
   },
   {
    "duration": 41380,
    "start_time": "2022-02-24T08:49:05.793Z"
   },
   {
    "duration": 41377,
    "start_time": "2022-02-24T08:49:05.797Z"
   },
   {
    "duration": 41375,
    "start_time": "2022-02-24T08:49:05.800Z"
   },
   {
    "duration": 41373,
    "start_time": "2022-02-24T08:49:05.803Z"
   },
   {
    "duration": 41370,
    "start_time": "2022-02-24T08:49:05.807Z"
   },
   {
    "duration": 41368,
    "start_time": "2022-02-24T08:49:05.810Z"
   },
   {
    "duration": 41365,
    "start_time": "2022-02-24T08:49:05.814Z"
   },
   {
    "duration": 41363,
    "start_time": "2022-02-24T08:49:05.817Z"
   },
   {
    "duration": 41360,
    "start_time": "2022-02-24T08:49:05.821Z"
   },
   {
    "duration": 41357,
    "start_time": "2022-02-24T08:49:05.824Z"
   },
   {
    "duration": 41355,
    "start_time": "2022-02-24T08:49:05.827Z"
   },
   {
    "duration": 41332,
    "start_time": "2022-02-24T08:49:05.850Z"
   },
   {
    "duration": 41370,
    "start_time": "2022-02-24T08:49:05.862Z"
   },
   {
    "duration": 41368,
    "start_time": "2022-02-24T08:49:05.865Z"
   },
   {
    "duration": 41365,
    "start_time": "2022-02-24T08:49:05.869Z"
   },
   {
    "duration": 942,
    "start_time": "2022-02-24T08:50:18.652Z"
   },
   {
    "duration": 838,
    "start_time": "2022-02-24T08:50:27.436Z"
   },
   {
    "duration": 465,
    "start_time": "2022-02-24T09:06:19.354Z"
   },
   {
    "duration": 813,
    "start_time": "2022-02-24T09:07:26.086Z"
   },
   {
    "duration": 510,
    "start_time": "2022-02-24T09:22:42.810Z"
   },
   {
    "duration": 839,
    "start_time": "2022-02-24T09:23:09.980Z"
   },
   {
    "duration": 619,
    "start_time": "2022-02-24T09:29:35.315Z"
   },
   {
    "duration": 1087,
    "start_time": "2022-02-24T09:44:45.409Z"
   },
   {
    "duration": 13,
    "start_time": "2022-02-24T09:54:29.907Z"
   },
   {
    "duration": 352,
    "start_time": "2022-02-24T09:59:32.911Z"
   },
   {
    "duration": 13,
    "start_time": "2022-02-24T10:00:24.981Z"
   },
   {
    "duration": 3,
    "start_time": "2022-02-24T11:03:13.811Z"
   },
   {
    "duration": 1342,
    "start_time": "2022-02-24T11:03:13.816Z"
   },
   {
    "duration": 8,
    "start_time": "2022-02-24T11:03:15.160Z"
   },
   {
    "duration": 29,
    "start_time": "2022-02-24T11:03:15.170Z"
   },
   {
    "duration": 22,
    "start_time": "2022-02-24T11:03:15.200Z"
   },
   {
    "duration": 23,
    "start_time": "2022-02-24T11:03:15.224Z"
   },
   {
    "duration": 4,
    "start_time": "2022-02-24T11:03:15.249Z"
   },
   {
    "duration": 11,
    "start_time": "2022-02-24T11:03:15.255Z"
   },
   {
    "duration": 8,
    "start_time": "2022-02-24T11:03:15.268Z"
   },
   {
    "duration": 23,
    "start_time": "2022-02-24T11:03:15.277Z"
   },
   {
    "duration": 31,
    "start_time": "2022-02-24T11:03:15.301Z"
   },
   {
    "duration": 18,
    "start_time": "2022-02-24T11:03:15.333Z"
   },
   {
    "duration": 19,
    "start_time": "2022-02-24T11:03:15.353Z"
   },
   {
    "duration": 33,
    "start_time": "2022-02-24T11:03:15.373Z"
   },
   {
    "duration": 4,
    "start_time": "2022-02-24T11:03:15.408Z"
   },
   {
    "duration": 25,
    "start_time": "2022-02-24T11:03:15.414Z"
   },
   {
    "duration": 24,
    "start_time": "2022-02-24T11:03:15.440Z"
   },
   {
    "duration": 285,
    "start_time": "2022-02-24T11:03:15.465Z"
   },
   {
    "duration": 3,
    "start_time": "2022-02-24T11:03:15.751Z"
   },
   {
    "duration": 43,
    "start_time": "2022-02-24T11:03:15.755Z"
   },
   {
    "duration": 22,
    "start_time": "2022-02-24T11:03:15.799Z"
   },
   {
    "duration": 23,
    "start_time": "2022-02-24T11:03:15.822Z"
   },
   {
    "duration": 262,
    "start_time": "2022-02-24T11:03:15.849Z"
   },
   {
    "duration": 245,
    "start_time": "2022-02-24T11:03:16.113Z"
   },
   {
    "duration": 243,
    "start_time": "2022-02-24T11:03:16.360Z"
   },
   {
    "duration": 251,
    "start_time": "2022-02-24T11:03:16.605Z"
   },
   {
    "duration": 242,
    "start_time": "2022-02-24T11:03:16.858Z"
   },
   {
    "duration": 14,
    "start_time": "2022-02-24T11:03:17.102Z"
   },
   {
    "duration": 24,
    "start_time": "2022-02-24T11:03:17.118Z"
   },
   {
    "duration": 549,
    "start_time": "2022-02-24T11:03:17.144Z"
   },
   {
    "duration": 983,
    "start_time": "2022-02-24T11:03:17.695Z"
   },
   {
    "duration": 42264,
    "start_time": "2022-02-24T11:02:36.415Z"
   },
   {
    "duration": 42262,
    "start_time": "2022-02-24T11:02:36.418Z"
   },
   {
    "duration": 42259,
    "start_time": "2022-02-24T11:02:36.422Z"
   },
   {
    "duration": 42257,
    "start_time": "2022-02-24T11:02:36.425Z"
   },
   {
    "duration": 42254,
    "start_time": "2022-02-24T11:02:36.429Z"
   },
   {
    "duration": 42251,
    "start_time": "2022-02-24T11:02:36.433Z"
   },
   {
    "duration": 42248,
    "start_time": "2022-02-24T11:02:36.437Z"
   },
   {
    "duration": 42246,
    "start_time": "2022-02-24T11:02:36.440Z"
   },
   {
    "duration": 42242,
    "start_time": "2022-02-24T11:02:36.444Z"
   },
   {
    "duration": 42239,
    "start_time": "2022-02-24T11:02:36.448Z"
   },
   {
    "duration": 42236,
    "start_time": "2022-02-24T11:02:36.452Z"
   },
   {
    "duration": 42234,
    "start_time": "2022-02-24T11:02:36.455Z"
   },
   {
    "duration": 42231,
    "start_time": "2022-02-24T11:02:36.459Z"
   },
   {
    "duration": 42227,
    "start_time": "2022-02-24T11:02:36.463Z"
   },
   {
    "duration": 42224,
    "start_time": "2022-02-24T11:02:36.467Z"
   },
   {
    "duration": 42222,
    "start_time": "2022-02-24T11:02:36.470Z"
   },
   {
    "duration": 42212,
    "start_time": "2022-02-24T11:02:36.481Z"
   },
   {
    "duration": 42209,
    "start_time": "2022-02-24T11:02:36.485Z"
   },
   {
    "duration": 42207,
    "start_time": "2022-02-24T11:02:36.488Z"
   },
   {
    "duration": 42205,
    "start_time": "2022-02-24T11:02:36.491Z"
   },
   {
    "duration": 42202,
    "start_time": "2022-02-24T11:02:36.495Z"
   },
   {
    "duration": 42200,
    "start_time": "2022-02-24T11:02:36.498Z"
   },
   {
    "duration": 42197,
    "start_time": "2022-02-24T11:02:36.501Z"
   },
   {
    "duration": 42194,
    "start_time": "2022-02-24T11:02:36.505Z"
   },
   {
    "duration": 42192,
    "start_time": "2022-02-24T11:02:36.508Z"
   },
   {
    "duration": 42188,
    "start_time": "2022-02-24T11:02:36.512Z"
   },
   {
    "duration": 42185,
    "start_time": "2022-02-24T11:02:36.516Z"
   },
   {
    "duration": 42182,
    "start_time": "2022-02-24T11:02:36.520Z"
   },
   {
    "duration": 42206,
    "start_time": "2022-02-24T11:02:36.525Z"
   },
   {
    "duration": 42204,
    "start_time": "2022-02-24T11:02:36.528Z"
   },
   {
    "duration": 42201,
    "start_time": "2022-02-24T11:02:36.532Z"
   },
   {
    "duration": 42199,
    "start_time": "2022-02-24T11:02:36.535Z"
   },
   {
    "duration": 42196,
    "start_time": "2022-02-24T11:02:36.539Z"
   },
   {
    "duration": 42194,
    "start_time": "2022-02-24T11:02:36.542Z"
   },
   {
    "duration": 42192,
    "start_time": "2022-02-24T11:02:36.545Z"
   },
   {
    "duration": 42189,
    "start_time": "2022-02-24T11:02:36.549Z"
   },
   {
    "duration": 42186,
    "start_time": "2022-02-24T11:02:36.553Z"
   },
   {
    "duration": 42184,
    "start_time": "2022-02-24T11:02:36.556Z"
   },
   {
    "duration": 42182,
    "start_time": "2022-02-24T11:02:36.559Z"
   },
   {
    "duration": 42180,
    "start_time": "2022-02-24T11:02:36.562Z"
   },
   {
    "duration": 14,
    "start_time": "2022-02-24T11:06:14.541Z"
   },
   {
    "duration": 270,
    "start_time": "2022-02-24T11:07:40.428Z"
   },
   {
    "duration": 17,
    "start_time": "2022-02-24T11:18:33.888Z"
   },
   {
    "duration": 18,
    "start_time": "2022-02-24T11:25:08.661Z"
   },
   {
    "duration": 397,
    "start_time": "2022-02-24T11:26:46.280Z"
   },
   {
    "duration": 330,
    "start_time": "2022-02-24T11:27:36.313Z"
   },
   {
    "duration": 328,
    "start_time": "2022-02-24T11:28:27.850Z"
   },
   {
    "duration": 17,
    "start_time": "2022-02-24T11:28:49.288Z"
   },
   {
    "duration": 16,
    "start_time": "2022-02-24T11:29:46.272Z"
   },
   {
    "duration": 344,
    "start_time": "2022-02-24T11:51:19.754Z"
   },
   {
    "duration": 364,
    "start_time": "2022-02-24T11:51:37.729Z"
   },
   {
    "duration": 18,
    "start_time": "2022-02-24T11:52:41.624Z"
   },
   {
    "duration": 2487,
    "start_time": "2022-02-24T11:53:51.069Z"
   },
   {
    "duration": 10,
    "start_time": "2022-02-24T11:54:18.776Z"
   },
   {
    "duration": 17,
    "start_time": "2022-02-24T11:54:51.142Z"
   },
   {
    "duration": 360,
    "start_time": "2022-02-24T11:55:25.092Z"
   },
   {
    "duration": 342,
    "start_time": "2022-02-24T11:56:11.854Z"
   },
   {
    "duration": 19,
    "start_time": "2022-02-24T11:56:30.706Z"
   },
   {
    "duration": 525,
    "start_time": "2022-02-24T12:03:45.655Z"
   },
   {
    "duration": 475,
    "start_time": "2022-02-24T12:05:45.796Z"
   },
   {
    "duration": 484,
    "start_time": "2022-02-24T12:07:10.605Z"
   },
   {
    "duration": 428,
    "start_time": "2022-02-24T12:07:24.780Z"
   },
   {
    "duration": 307,
    "start_time": "2022-02-24T12:18:52.994Z"
   },
   {
    "duration": 314,
    "start_time": "2022-02-24T12:19:49.714Z"
   },
   {
    "duration": 3,
    "start_time": "2022-02-24T12:20:04.324Z"
   },
   {
    "duration": 413,
    "start_time": "2022-02-24T12:20:04.328Z"
   },
   {
    "duration": 9,
    "start_time": "2022-02-24T12:20:04.743Z"
   },
   {
    "duration": 11,
    "start_time": "2022-02-24T12:20:04.753Z"
   },
   {
    "duration": 8,
    "start_time": "2022-02-24T12:20:04.766Z"
   },
   {
    "duration": 12,
    "start_time": "2022-02-24T12:20:04.775Z"
   },
   {
    "duration": 6,
    "start_time": "2022-02-24T12:20:04.789Z"
   },
   {
    "duration": 36,
    "start_time": "2022-02-24T12:20:04.797Z"
   },
   {
    "duration": 5,
    "start_time": "2022-02-24T12:20:04.834Z"
   },
   {
    "duration": 9,
    "start_time": "2022-02-24T12:20:04.840Z"
   },
   {
    "duration": 23,
    "start_time": "2022-02-24T12:20:04.850Z"
   },
   {
    "duration": 956,
    "start_time": "2022-02-24T12:20:04.874Z"
   },
   {
    "duration": 42308,
    "start_time": "2022-02-24T12:19:23.525Z"
   },
   {
    "duration": 42305,
    "start_time": "2022-02-24T12:19:23.529Z"
   },
   {
    "duration": 42303,
    "start_time": "2022-02-24T12:19:23.532Z"
   },
   {
    "duration": 42300,
    "start_time": "2022-02-24T12:19:23.536Z"
   },
   {
    "duration": 42298,
    "start_time": "2022-02-24T12:19:23.539Z"
   },
   {
    "duration": 42296,
    "start_time": "2022-02-24T12:19:23.542Z"
   },
   {
    "duration": 42294,
    "start_time": "2022-02-24T12:19:23.545Z"
   },
   {
    "duration": 42285,
    "start_time": "2022-02-24T12:19:23.555Z"
   },
   {
    "duration": 42281,
    "start_time": "2022-02-24T12:19:23.559Z"
   },
   {
    "duration": 42280,
    "start_time": "2022-02-24T12:19:23.562Z"
   },
   {
    "duration": 42278,
    "start_time": "2022-02-24T12:19:23.565Z"
   },
   {
    "duration": 42275,
    "start_time": "2022-02-24T12:19:23.569Z"
   },
   {
    "duration": 42273,
    "start_time": "2022-02-24T12:19:23.572Z"
   },
   {
    "duration": 42271,
    "start_time": "2022-02-24T12:19:23.575Z"
   },
   {
    "duration": 42269,
    "start_time": "2022-02-24T12:19:23.578Z"
   },
   {
    "duration": 42266,
    "start_time": "2022-02-24T12:19:23.582Z"
   },
   {
    "duration": 42258,
    "start_time": "2022-02-24T12:19:23.591Z"
   },
   {
    "duration": 42254,
    "start_time": "2022-02-24T12:19:23.596Z"
   },
   {
    "duration": 42252,
    "start_time": "2022-02-24T12:19:23.599Z"
   },
   {
    "duration": 42245,
    "start_time": "2022-02-24T12:19:23.607Z"
   },
   {
    "duration": 42242,
    "start_time": "2022-02-24T12:19:23.611Z"
   },
   {
    "duration": 42240,
    "start_time": "2022-02-24T12:19:23.614Z"
   },
   {
    "duration": 42238,
    "start_time": "2022-02-24T12:19:23.617Z"
   },
   {
    "duration": 42235,
    "start_time": "2022-02-24T12:19:23.621Z"
   },
   {
    "duration": 42233,
    "start_time": "2022-02-24T12:19:23.624Z"
   },
   {
    "duration": 42229,
    "start_time": "2022-02-24T12:19:23.629Z"
   },
   {
    "duration": 42222,
    "start_time": "2022-02-24T12:19:23.637Z"
   },
   {
    "duration": 42219,
    "start_time": "2022-02-24T12:19:23.641Z"
   },
   {
    "duration": 42217,
    "start_time": "2022-02-24T12:19:23.644Z"
   },
   {
    "duration": 42215,
    "start_time": "2022-02-24T12:19:23.647Z"
   },
   {
    "duration": 42213,
    "start_time": "2022-02-24T12:19:23.650Z"
   },
   {
    "duration": 42163,
    "start_time": "2022-02-24T12:19:23.701Z"
   },
   {
    "duration": 42161,
    "start_time": "2022-02-24T12:19:23.704Z"
   },
   {
    "duration": 42159,
    "start_time": "2022-02-24T12:19:23.707Z"
   },
   {
    "duration": 42157,
    "start_time": "2022-02-24T12:19:23.710Z"
   },
   {
    "duration": 42155,
    "start_time": "2022-02-24T12:19:23.713Z"
   },
   {
    "duration": 42153,
    "start_time": "2022-02-24T12:19:23.716Z"
   },
   {
    "duration": 42151,
    "start_time": "2022-02-24T12:19:23.719Z"
   },
   {
    "duration": 42149,
    "start_time": "2022-02-24T12:19:23.722Z"
   },
   {
    "duration": 41895,
    "start_time": "2022-02-24T12:19:24.036Z"
   },
   {
    "duration": 41893,
    "start_time": "2022-02-24T12:19:24.039Z"
   },
   {
    "duration": 41891,
    "start_time": "2022-02-24T12:19:24.042Z"
   },
   {
    "duration": 41889,
    "start_time": "2022-02-24T12:19:24.045Z"
   },
   {
    "duration": 41886,
    "start_time": "2022-02-24T12:19:24.049Z"
   },
   {
    "duration": 41885,
    "start_time": "2022-02-24T12:19:24.051Z"
   },
   {
    "duration": 41883,
    "start_time": "2022-02-24T12:19:24.054Z"
   },
   {
    "duration": 41881,
    "start_time": "2022-02-24T12:19:24.057Z"
   },
   {
    "duration": 41879,
    "start_time": "2022-02-24T12:19:24.060Z"
   },
   {
    "duration": 41877,
    "start_time": "2022-02-24T12:19:24.063Z"
   },
   {
    "duration": 41875,
    "start_time": "2022-02-24T12:19:24.066Z"
   },
   {
    "duration": 41873,
    "start_time": "2022-02-24T12:19:24.069Z"
   },
   {
    "duration": 41870,
    "start_time": "2022-02-24T12:19:24.073Z"
   },
   {
    "duration": 41869,
    "start_time": "2022-02-24T12:19:24.075Z"
   },
   {
    "duration": 41866,
    "start_time": "2022-02-24T12:19:24.079Z"
   },
   {
    "duration": 41864,
    "start_time": "2022-02-24T12:19:24.082Z"
   },
   {
    "duration": 41856,
    "start_time": "2022-02-24T12:19:24.091Z"
   },
   {
    "duration": 41853,
    "start_time": "2022-02-24T12:19:24.094Z"
   },
   {
    "duration": 41851,
    "start_time": "2022-02-24T12:19:24.097Z"
   },
   {
    "duration": 41849,
    "start_time": "2022-02-24T12:19:24.100Z"
   },
   {
    "duration": 41847,
    "start_time": "2022-02-24T12:19:24.103Z"
   },
   {
    "duration": 41845,
    "start_time": "2022-02-24T12:19:24.106Z"
   },
   {
    "duration": 41843,
    "start_time": "2022-02-24T12:19:24.109Z"
   },
   {
    "duration": 9,
    "start_time": "2022-02-24T12:21:54.307Z"
   },
   {
    "duration": 390,
    "start_time": "2022-02-24T12:22:06.419Z"
   },
   {
    "duration": 3,
    "start_time": "2022-02-24T12:22:37.643Z"
   },
   {
    "duration": 247,
    "start_time": "2022-02-24T12:22:37.648Z"
   },
   {
    "duration": 8,
    "start_time": "2022-02-24T12:22:37.897Z"
   },
   {
    "duration": 12,
    "start_time": "2022-02-24T12:22:37.907Z"
   },
   {
    "duration": 8,
    "start_time": "2022-02-24T12:22:37.921Z"
   },
   {
    "duration": 11,
    "start_time": "2022-02-24T12:22:37.930Z"
   },
   {
    "duration": 4,
    "start_time": "2022-02-24T12:22:37.942Z"
   },
   {
    "duration": 6,
    "start_time": "2022-02-24T12:22:37.948Z"
   },
   {
    "duration": 5,
    "start_time": "2022-02-24T12:22:37.956Z"
   },
   {
    "duration": 11,
    "start_time": "2022-02-24T12:22:37.962Z"
   },
   {
    "duration": 13,
    "start_time": "2022-02-24T12:22:37.975Z"
   },
   {
    "duration": 336,
    "start_time": "2022-02-24T12:22:37.989Z"
   },
   {
    "duration": 42207,
    "start_time": "2022-02-24T12:21:56.121Z"
   },
   {
    "duration": 42204,
    "start_time": "2022-02-24T12:21:56.125Z"
   },
   {
    "duration": 42202,
    "start_time": "2022-02-24T12:21:56.128Z"
   },
   {
    "duration": 42200,
    "start_time": "2022-02-24T12:21:56.131Z"
   },
   {
    "duration": 42198,
    "start_time": "2022-02-24T12:21:56.134Z"
   },
   {
    "duration": 42195,
    "start_time": "2022-02-24T12:21:56.137Z"
   },
   {
    "duration": 42193,
    "start_time": "2022-02-24T12:21:56.140Z"
   },
   {
    "duration": 42190,
    "start_time": "2022-02-24T12:21:56.144Z"
   },
   {
    "duration": 42188,
    "start_time": "2022-02-24T12:21:56.147Z"
   },
   {
    "duration": 42185,
    "start_time": "2022-02-24T12:21:56.150Z"
   },
   {
    "duration": 42183,
    "start_time": "2022-02-24T12:21:56.153Z"
   },
   {
    "duration": 42174,
    "start_time": "2022-02-24T12:21:56.163Z"
   },
   {
    "duration": 42171,
    "start_time": "2022-02-24T12:21:56.166Z"
   },
   {
    "duration": 42169,
    "start_time": "2022-02-24T12:21:56.169Z"
   },
   {
    "duration": 42167,
    "start_time": "2022-02-24T12:21:56.172Z"
   },
   {
    "duration": 42164,
    "start_time": "2022-02-24T12:21:56.176Z"
   },
   {
    "duration": 42161,
    "start_time": "2022-02-24T12:21:56.179Z"
   },
   {
    "duration": 42158,
    "start_time": "2022-02-24T12:21:56.183Z"
   },
   {
    "duration": 42156,
    "start_time": "2022-02-24T12:21:56.186Z"
   },
   {
    "duration": 42153,
    "start_time": "2022-02-24T12:21:56.189Z"
   },
   {
    "duration": 42149,
    "start_time": "2022-02-24T12:21:56.194Z"
   },
   {
    "duration": 42146,
    "start_time": "2022-02-24T12:21:56.198Z"
   },
   {
    "duration": 42144,
    "start_time": "2022-02-24T12:21:56.201Z"
   },
   {
    "duration": 42141,
    "start_time": "2022-02-24T12:21:56.204Z"
   },
   {
    "duration": 42138,
    "start_time": "2022-02-24T12:21:56.208Z"
   },
   {
    "duration": 42137,
    "start_time": "2022-02-24T12:21:56.211Z"
   },
   {
    "duration": 42135,
    "start_time": "2022-02-24T12:21:56.214Z"
   },
   {
    "duration": 42133,
    "start_time": "2022-02-24T12:21:56.217Z"
   },
   {
    "duration": 42132,
    "start_time": "2022-02-24T12:21:56.220Z"
   },
   {
    "duration": 42129,
    "start_time": "2022-02-24T12:21:56.224Z"
   },
   {
    "duration": 42127,
    "start_time": "2022-02-24T12:21:56.227Z"
   },
   {
    "duration": 42125,
    "start_time": "2022-02-24T12:21:56.230Z"
   },
   {
    "duration": 42124,
    "start_time": "2022-02-24T12:21:56.233Z"
   },
   {
    "duration": 42121,
    "start_time": "2022-02-24T12:21:56.237Z"
   },
   {
    "duration": 42119,
    "start_time": "2022-02-24T12:21:56.240Z"
   },
   {
    "duration": 42117,
    "start_time": "2022-02-24T12:21:56.243Z"
   },
   {
    "duration": 42116,
    "start_time": "2022-02-24T12:21:56.247Z"
   },
   {
    "duration": 42114,
    "start_time": "2022-02-24T12:21:56.250Z"
   },
   {
    "duration": 42112,
    "start_time": "2022-02-24T12:21:56.253Z"
   },
   {
    "duration": 42110,
    "start_time": "2022-02-24T12:21:56.256Z"
   },
   {
    "duration": 42108,
    "start_time": "2022-02-24T12:21:56.259Z"
   },
   {
    "duration": 42098,
    "start_time": "2022-02-24T12:21:56.270Z"
   },
   {
    "duration": 42096,
    "start_time": "2022-02-24T12:21:56.273Z"
   },
   {
    "duration": 42094,
    "start_time": "2022-02-24T12:21:56.276Z"
   },
   {
    "duration": 42152,
    "start_time": "2022-02-24T12:21:56.279Z"
   },
   {
    "duration": 42150,
    "start_time": "2022-02-24T12:21:56.282Z"
   },
   {
    "duration": 42147,
    "start_time": "2022-02-24T12:21:56.286Z"
   },
   {
    "duration": 42145,
    "start_time": "2022-02-24T12:21:56.289Z"
   },
   {
    "duration": 42143,
    "start_time": "2022-02-24T12:21:56.292Z"
   },
   {
    "duration": 42141,
    "start_time": "2022-02-24T12:21:56.295Z"
   },
   {
    "duration": 42138,
    "start_time": "2022-02-24T12:21:56.299Z"
   },
   {
    "duration": 42135,
    "start_time": "2022-02-24T12:21:56.303Z"
   },
   {
    "duration": 42133,
    "start_time": "2022-02-24T12:21:56.306Z"
   },
   {
    "duration": 42131,
    "start_time": "2022-02-24T12:21:56.309Z"
   },
   {
    "duration": 42129,
    "start_time": "2022-02-24T12:21:56.312Z"
   },
   {
    "duration": 42126,
    "start_time": "2022-02-24T12:21:56.316Z"
   },
   {
    "duration": 42124,
    "start_time": "2022-02-24T12:21:56.319Z"
   },
   {
    "duration": 42122,
    "start_time": "2022-02-24T12:21:56.322Z"
   },
   {
    "duration": 42120,
    "start_time": "2022-02-24T12:21:56.325Z"
   },
   {
    "duration": 42118,
    "start_time": "2022-02-24T12:21:56.328Z"
   },
   {
    "duration": 42116,
    "start_time": "2022-02-24T12:21:56.331Z"
   },
   {
    "duration": 42114,
    "start_time": "2022-02-24T12:21:56.334Z"
   },
   {
    "duration": 3,
    "start_time": "2022-02-24T12:41:09.961Z"
   },
   {
    "duration": 230,
    "start_time": "2022-02-24T12:41:09.966Z"
   },
   {
    "duration": 8,
    "start_time": "2022-02-24T12:41:10.198Z"
   },
   {
    "duration": 16,
    "start_time": "2022-02-24T12:41:10.208Z"
   },
   {
    "duration": 14,
    "start_time": "2022-02-24T12:41:10.226Z"
   },
   {
    "duration": 24,
    "start_time": "2022-02-24T12:41:10.241Z"
   },
   {
    "duration": 12,
    "start_time": "2022-02-24T12:41:10.266Z"
   },
   {
    "duration": 22,
    "start_time": "2022-02-24T12:41:10.280Z"
   },
   {
    "duration": 20,
    "start_time": "2022-02-24T12:41:10.303Z"
   },
   {
    "duration": 17,
    "start_time": "2022-02-24T12:41:10.325Z"
   },
   {
    "duration": 15,
    "start_time": "2022-02-24T12:41:10.344Z"
   },
   {
    "duration": 918,
    "start_time": "2022-02-24T12:41:10.361Z"
   },
   {
    "duration": 42339,
    "start_time": "2022-02-24T12:40:28.943Z"
   },
   {
    "duration": 42337,
    "start_time": "2022-02-24T12:40:28.947Z"
   },
   {
    "duration": 42334,
    "start_time": "2022-02-24T12:40:28.951Z"
   },
   {
    "duration": 42302,
    "start_time": "2022-02-24T12:40:28.984Z"
   },
   {
    "duration": 42298,
    "start_time": "2022-02-24T12:40:28.988Z"
   },
   {
    "duration": 42295,
    "start_time": "2022-02-24T12:40:28.992Z"
   },
   {
    "duration": 42293,
    "start_time": "2022-02-24T12:40:28.995Z"
   },
   {
    "duration": 42290,
    "start_time": "2022-02-24T12:40:28.999Z"
   },
   {
    "duration": 42287,
    "start_time": "2022-02-24T12:40:29.003Z"
   },
   {
    "duration": 42285,
    "start_time": "2022-02-24T12:40:29.006Z"
   },
   {
    "duration": 41871,
    "start_time": "2022-02-24T12:40:29.421Z"
   },
   {
    "duration": 41862,
    "start_time": "2022-02-24T12:40:29.430Z"
   },
   {
    "duration": 41860,
    "start_time": "2022-02-24T12:40:29.433Z"
   },
   {
    "duration": 41857,
    "start_time": "2022-02-24T12:40:29.437Z"
   },
   {
    "duration": 41855,
    "start_time": "2022-02-24T12:40:29.440Z"
   },
   {
    "duration": 41852,
    "start_time": "2022-02-24T12:40:29.444Z"
   },
   {
    "duration": 41849,
    "start_time": "2022-02-24T12:40:29.448Z"
   },
   {
    "duration": 41846,
    "start_time": "2022-02-24T12:40:29.452Z"
   },
   {
    "duration": 41843,
    "start_time": "2022-02-24T12:40:29.456Z"
   },
   {
    "duration": 41840,
    "start_time": "2022-02-24T12:40:29.460Z"
   },
   {
    "duration": 41838,
    "start_time": "2022-02-24T12:40:29.463Z"
   },
   {
    "duration": 41834,
    "start_time": "2022-02-24T12:40:29.467Z"
   },
   {
    "duration": 41832,
    "start_time": "2022-02-24T12:40:29.470Z"
   },
   {
    "duration": 41830,
    "start_time": "2022-02-24T12:40:29.473Z"
   },
   {
    "duration": 41827,
    "start_time": "2022-02-24T12:40:29.477Z"
   },
   {
    "duration": 41823,
    "start_time": "2022-02-24T12:40:29.482Z"
   },
   {
    "duration": 41821,
    "start_time": "2022-02-24T12:40:29.485Z"
   },
   {
    "duration": 41817,
    "start_time": "2022-02-24T12:40:29.489Z"
   },
   {
    "duration": 41815,
    "start_time": "2022-02-24T12:40:29.492Z"
   },
   {
    "duration": 41812,
    "start_time": "2022-02-24T12:40:29.496Z"
   },
   {
    "duration": 41810,
    "start_time": "2022-02-24T12:40:29.499Z"
   },
   {
    "duration": 41806,
    "start_time": "2022-02-24T12:40:29.503Z"
   },
   {
    "duration": 41804,
    "start_time": "2022-02-24T12:40:29.506Z"
   },
   {
    "duration": 41800,
    "start_time": "2022-02-24T12:40:29.510Z"
   },
   {
    "duration": 41798,
    "start_time": "2022-02-24T12:40:29.513Z"
   },
   {
    "duration": 41795,
    "start_time": "2022-02-24T12:40:29.517Z"
   },
   {
    "duration": 41793,
    "start_time": "2022-02-24T12:40:29.520Z"
   },
   {
    "duration": 41790,
    "start_time": "2022-02-24T12:40:29.524Z"
   },
   {
    "duration": 41788,
    "start_time": "2022-02-24T12:40:29.527Z"
   },
   {
    "duration": 41778,
    "start_time": "2022-02-24T12:40:29.537Z"
   },
   {
    "duration": 41775,
    "start_time": "2022-02-24T12:40:29.541Z"
   },
   {
    "duration": 41765,
    "start_time": "2022-02-24T12:40:29.552Z"
   },
   {
    "duration": 41760,
    "start_time": "2022-02-24T12:40:29.557Z"
   },
   {
    "duration": 41756,
    "start_time": "2022-02-24T12:40:29.562Z"
   },
   {
    "duration": 41753,
    "start_time": "2022-02-24T12:40:29.566Z"
   },
   {
    "duration": 41748,
    "start_time": "2022-02-24T12:40:29.571Z"
   },
   {
    "duration": 41744,
    "start_time": "2022-02-24T12:40:29.576Z"
   },
   {
    "duration": 41740,
    "start_time": "2022-02-24T12:40:29.581Z"
   },
   {
    "duration": 41737,
    "start_time": "2022-02-24T12:40:29.585Z"
   },
   {
    "duration": 41732,
    "start_time": "2022-02-24T12:40:29.591Z"
   },
   {
    "duration": 41727,
    "start_time": "2022-02-24T12:40:29.596Z"
   },
   {
    "duration": 41724,
    "start_time": "2022-02-24T12:40:29.600Z"
   },
   {
    "duration": 41719,
    "start_time": "2022-02-24T12:40:29.605Z"
   },
   {
    "duration": 41716,
    "start_time": "2022-02-24T12:40:29.609Z"
   },
   {
    "duration": 41712,
    "start_time": "2022-02-24T12:40:29.614Z"
   },
   {
    "duration": 41708,
    "start_time": "2022-02-24T12:40:29.618Z"
   },
   {
    "duration": 41708,
    "start_time": "2022-02-24T12:40:29.623Z"
   },
   {
    "duration": 41705,
    "start_time": "2022-02-24T12:40:29.627Z"
   },
   {
    "duration": 41702,
    "start_time": "2022-02-24T12:40:29.631Z"
   },
   {
    "duration": 41698,
    "start_time": "2022-02-24T12:40:29.636Z"
   },
   {
    "duration": 41689,
    "start_time": "2022-02-24T12:40:29.646Z"
   },
   {
    "duration": 41685,
    "start_time": "2022-02-24T12:40:29.651Z"
   },
   {
    "duration": 1101,
    "start_time": "2022-02-24T16:35:23.351Z"
   },
   {
    "duration": 218,
    "start_time": "2022-02-24T16:35:24.454Z"
   },
   {
    "duration": 9,
    "start_time": "2022-02-24T16:35:24.674Z"
   },
   {
    "duration": 14,
    "start_time": "2022-02-24T16:35:24.685Z"
   },
   {
    "duration": 11,
    "start_time": "2022-02-24T16:35:24.700Z"
   },
   {
    "duration": 16,
    "start_time": "2022-02-24T16:35:24.713Z"
   },
   {
    "duration": 6,
    "start_time": "2022-02-24T16:35:24.731Z"
   },
   {
    "duration": 6,
    "start_time": "2022-02-24T16:35:24.740Z"
   },
   {
    "duration": 5,
    "start_time": "2022-02-24T16:35:24.748Z"
   },
   {
    "duration": 7,
    "start_time": "2022-02-24T16:35:24.755Z"
   },
   {
    "duration": 12,
    "start_time": "2022-02-24T16:35:24.764Z"
   },
   {
    "duration": 322,
    "start_time": "2022-02-24T16:35:24.778Z"
   },
   {
    "duration": -1738,
    "start_time": "2022-02-24T16:35:26.842Z"
   },
   {
    "duration": -1749,
    "start_time": "2022-02-24T16:35:26.854Z"
   },
   {
    "duration": -1770,
    "start_time": "2022-02-24T16:35:26.876Z"
   },
   {
    "duration": -1782,
    "start_time": "2022-02-24T16:35:26.889Z"
   },
   {
    "duration": -1804,
    "start_time": "2022-02-24T16:35:26.912Z"
   },
   {
    "duration": -1878,
    "start_time": "2022-02-24T16:35:26.986Z"
   },
   {
    "duration": -1894,
    "start_time": "2022-02-24T16:35:27.003Z"
   },
   {
    "duration": -1906,
    "start_time": "2022-02-24T16:35:27.016Z"
   },
   {
    "duration": -1916,
    "start_time": "2022-02-24T16:35:27.027Z"
   },
   {
    "duration": -1925,
    "start_time": "2022-02-24T16:35:27.037Z"
   },
   {
    "duration": -1938,
    "start_time": "2022-02-24T16:35:27.051Z"
   },
   {
    "duration": -1951,
    "start_time": "2022-02-24T16:35:27.065Z"
   },
   {
    "duration": -1964,
    "start_time": "2022-02-24T16:35:27.079Z"
   },
   {
    "duration": -1994,
    "start_time": "2022-02-24T16:35:27.110Z"
   },
   {
    "duration": -2009,
    "start_time": "2022-02-24T16:35:27.126Z"
   },
   {
    "duration": -2020,
    "start_time": "2022-02-24T16:35:27.137Z"
   },
   {
    "duration": -2036,
    "start_time": "2022-02-24T16:35:27.154Z"
   },
   {
    "duration": -2047,
    "start_time": "2022-02-24T16:35:27.166Z"
   },
   {
    "duration": -2061,
    "start_time": "2022-02-24T16:35:27.181Z"
   },
   {
    "duration": -2070,
    "start_time": "2022-02-24T16:35:27.192Z"
   },
   {
    "duration": -2080,
    "start_time": "2022-02-24T16:35:27.203Z"
   },
   {
    "duration": -2108,
    "start_time": "2022-02-24T16:35:27.231Z"
   },
   {
    "duration": -2119,
    "start_time": "2022-02-24T16:35:27.243Z"
   },
   {
    "duration": -2127,
    "start_time": "2022-02-24T16:35:27.252Z"
   },
   {
    "duration": -2141,
    "start_time": "2022-02-24T16:35:27.267Z"
   },
   {
    "duration": -2151,
    "start_time": "2022-02-24T16:35:27.278Z"
   },
   {
    "duration": -2163,
    "start_time": "2022-02-24T16:35:27.291Z"
   },
   {
    "duration": -2179,
    "start_time": "2022-02-24T16:35:27.308Z"
   },
   {
    "duration": -2193,
    "start_time": "2022-02-24T16:35:27.322Z"
   },
   {
    "duration": -2219,
    "start_time": "2022-02-24T16:35:27.349Z"
   },
   {
    "duration": -2228,
    "start_time": "2022-02-24T16:35:27.359Z"
   },
   {
    "duration": -2242,
    "start_time": "2022-02-24T16:35:27.374Z"
   },
   {
    "duration": -2258,
    "start_time": "2022-02-24T16:35:27.391Z"
   },
   {
    "duration": -2270,
    "start_time": "2022-02-24T16:35:27.404Z"
   },
   {
    "duration": -2287,
    "start_time": "2022-02-24T16:35:27.422Z"
   },
   {
    "duration": -2298,
    "start_time": "2022-02-24T16:35:27.434Z"
   },
   {
    "duration": -2327,
    "start_time": "2022-02-24T16:35:27.464Z"
   },
   {
    "duration": -2336,
    "start_time": "2022-02-24T16:35:27.474Z"
   },
   {
    "duration": -2347,
    "start_time": "2022-02-24T16:35:27.486Z"
   },
   {
    "duration": -2361,
    "start_time": "2022-02-24T16:35:27.501Z"
   },
   {
    "duration": -2375,
    "start_time": "2022-02-24T16:35:27.516Z"
   },
   {
    "duration": -2386,
    "start_time": "2022-02-24T16:35:27.528Z"
   },
   {
    "duration": -2401,
    "start_time": "2022-02-24T16:35:27.544Z"
   },
   {
    "duration": -2410,
    "start_time": "2022-02-24T16:35:27.554Z"
   },
   {
    "duration": -2433,
    "start_time": "2022-02-24T16:35:27.578Z"
   },
   {
    "duration": -2443,
    "start_time": "2022-02-24T16:35:27.589Z"
   },
   {
    "duration": -2455,
    "start_time": "2022-02-24T16:35:27.602Z"
   },
   {
    "duration": -2465,
    "start_time": "2022-02-24T16:35:27.613Z"
   },
   {
    "duration": -2479,
    "start_time": "2022-02-24T16:35:27.627Z"
   },
   {
    "duration": -2489,
    "start_time": "2022-02-24T16:35:27.638Z"
   },
   {
    "duration": -2500,
    "start_time": "2022-02-24T16:35:27.650Z"
   },
   {
    "duration": -2513,
    "start_time": "2022-02-24T16:35:27.664Z"
   },
   {
    "duration": -2540,
    "start_time": "2022-02-24T16:35:27.692Z"
   },
   {
    "duration": -2549,
    "start_time": "2022-02-24T16:35:27.702Z"
   },
   {
    "duration": -2561,
    "start_time": "2022-02-24T16:35:27.714Z"
   },
   {
    "duration": -2570,
    "start_time": "2022-02-24T16:35:27.725Z"
   },
   {
    "duration": -2580,
    "start_time": "2022-02-24T16:35:27.735Z"
   },
   {
    "duration": -2590,
    "start_time": "2022-02-24T16:35:27.746Z"
   },
   {
    "duration": -2600,
    "start_time": "2022-02-24T16:35:27.757Z"
   },
   {
    "duration": -2609,
    "start_time": "2022-02-24T16:35:27.767Z"
   },
   {
    "duration": -2625,
    "start_time": "2022-02-24T16:35:27.784Z"
   },
   {
    "duration": -2652,
    "start_time": "2022-02-24T16:35:27.812Z"
   },
   {
    "duration": 215,
    "start_time": "2022-02-24T16:36:42.632Z"
   },
   {
    "duration": 11,
    "start_time": "2022-02-24T16:37:03.289Z"
   },
   {
    "duration": 189,
    "start_time": "2022-02-24T16:37:06.817Z"
   },
   {
    "duration": 579,
    "start_time": "2022-02-24T16:37:53.159Z"
   },
   {
    "duration": 201,
    "start_time": "2022-02-24T16:38:25.008Z"
   },
   {
    "duration": 191,
    "start_time": "2022-02-24T16:40:48.572Z"
   },
   {
    "duration": 3,
    "start_time": "2022-02-24T16:42:04.310Z"
   },
   {
    "duration": 172,
    "start_time": "2022-02-24T16:42:04.317Z"
   },
   {
    "duration": 10,
    "start_time": "2022-02-24T16:42:04.491Z"
   },
   {
    "duration": 13,
    "start_time": "2022-02-24T16:42:04.504Z"
   },
   {
    "duration": 9,
    "start_time": "2022-02-24T16:42:04.519Z"
   },
   {
    "duration": 14,
    "start_time": "2022-02-24T16:42:04.530Z"
   },
   {
    "duration": 5,
    "start_time": "2022-02-24T16:42:04.545Z"
   },
   {
    "duration": 7,
    "start_time": "2022-02-24T16:42:04.552Z"
   },
   {
    "duration": 4,
    "start_time": "2022-02-24T16:42:04.562Z"
   },
   {
    "duration": 52,
    "start_time": "2022-02-24T16:42:04.568Z"
   },
   {
    "duration": 11,
    "start_time": "2022-02-24T16:42:04.621Z"
   },
   {
    "duration": 212,
    "start_time": "2022-02-24T16:42:04.634Z"
   },
   {
    "duration": -770,
    "start_time": "2022-02-24T16:42:05.619Z"
   },
   {
    "duration": -780,
    "start_time": "2022-02-24T16:42:05.630Z"
   },
   {
    "duration": -790,
    "start_time": "2022-02-24T16:42:05.641Z"
   },
   {
    "duration": -798,
    "start_time": "2022-02-24T16:42:05.650Z"
   },
   {
    "duration": -812,
    "start_time": "2022-02-24T16:42:05.665Z"
   },
   {
    "duration": -821,
    "start_time": "2022-02-24T16:42:05.675Z"
   },
   {
    "duration": -832,
    "start_time": "2022-02-24T16:42:05.687Z"
   },
   {
    "duration": -839,
    "start_time": "2022-02-24T16:42:05.696Z"
   },
   {
    "duration": -866,
    "start_time": "2022-02-24T16:42:05.724Z"
   },
   {
    "duration": -877,
    "start_time": "2022-02-24T16:42:05.736Z"
   },
   {
    "duration": -885,
    "start_time": "2022-02-24T16:42:05.745Z"
   },
   {
    "duration": -895,
    "start_time": "2022-02-24T16:42:05.756Z"
   },
   {
    "duration": -903,
    "start_time": "2022-02-24T16:42:05.765Z"
   },
   {
    "duration": -912,
    "start_time": "2022-02-24T16:42:05.775Z"
   },
   {
    "duration": -921,
    "start_time": "2022-02-24T16:42:05.784Z"
   },
   {
    "duration": -931,
    "start_time": "2022-02-24T16:42:05.795Z"
   },
   {
    "duration": -940,
    "start_time": "2022-02-24T16:42:05.805Z"
   },
   {
    "duration": -951,
    "start_time": "2022-02-24T16:42:05.817Z"
   },
   {
    "duration": -977,
    "start_time": "2022-02-24T16:42:05.844Z"
   },
   {
    "duration": -989,
    "start_time": "2022-02-24T16:42:05.857Z"
   },
   {
    "duration": -1002,
    "start_time": "2022-02-24T16:42:05.871Z"
   },
   {
    "duration": -1013,
    "start_time": "2022-02-24T16:42:05.883Z"
   },
   {
    "duration": -1021,
    "start_time": "2022-02-24T16:42:05.892Z"
   },
   {
    "duration": -1030,
    "start_time": "2022-02-24T16:42:05.902Z"
   },
   {
    "duration": -1039,
    "start_time": "2022-02-24T16:42:05.912Z"
   },
   {
    "duration": -1049,
    "start_time": "2022-02-24T16:42:05.923Z"
   },
   {
    "duration": -1060,
    "start_time": "2022-02-24T16:42:05.934Z"
   },
   {
    "duration": -1080,
    "start_time": "2022-02-24T16:42:05.955Z"
   },
   {
    "duration": -1089,
    "start_time": "2022-02-24T16:42:05.965Z"
   },
   {
    "duration": -1100,
    "start_time": "2022-02-24T16:42:05.977Z"
   },
   {
    "duration": -1110,
    "start_time": "2022-02-24T16:42:05.988Z"
   },
   {
    "duration": -1120,
    "start_time": "2022-02-24T16:42:05.999Z"
   },
   {
    "duration": -1130,
    "start_time": "2022-02-24T16:42:06.010Z"
   },
   {
    "duration": -1140,
    "start_time": "2022-02-24T16:42:06.021Z"
   },
   {
    "duration": -1119,
    "start_time": "2022-02-24T16:42:06.037Z"
   },
   {
    "duration": -1130,
    "start_time": "2022-02-24T16:42:06.049Z"
   },
   {
    "duration": -1150,
    "start_time": "2022-02-24T16:42:06.070Z"
   },
   {
    "duration": -1163,
    "start_time": "2022-02-24T16:42:06.085Z"
   },
   {
    "duration": -1170,
    "start_time": "2022-02-24T16:42:06.095Z"
   },
   {
    "duration": 199,
    "start_time": "2022-02-24T16:42:04.926Z"
   },
   {
    "duration": -1012,
    "start_time": "2022-02-24T16:42:06.139Z"
   },
   {
    "duration": -1022,
    "start_time": "2022-02-24T16:42:06.150Z"
   },
   {
    "duration": -1031,
    "start_time": "2022-02-24T16:42:06.160Z"
   },
   {
    "duration": -1068,
    "start_time": "2022-02-24T16:42:06.198Z"
   },
   {
    "duration": -1077,
    "start_time": "2022-02-24T16:42:06.209Z"
   },
   {
    "duration": -1087,
    "start_time": "2022-02-24T16:42:06.220Z"
   },
   {
    "duration": -1097,
    "start_time": "2022-02-24T16:42:06.231Z"
   },
   {
    "duration": -1111,
    "start_time": "2022-02-24T16:42:06.246Z"
   },
   {
    "duration": -1125,
    "start_time": "2022-02-24T16:42:06.261Z"
   },
   {
    "duration": -1137,
    "start_time": "2022-02-24T16:42:06.274Z"
   },
   {
    "duration": -1147,
    "start_time": "2022-02-24T16:42:06.285Z"
   },
   {
    "duration": -1171,
    "start_time": "2022-02-24T16:42:06.310Z"
   },
   {
    "duration": -1180,
    "start_time": "2022-02-24T16:42:06.320Z"
   },
   {
    "duration": -1191,
    "start_time": "2022-02-24T16:42:06.332Z"
   },
   {
    "duration": -1199,
    "start_time": "2022-02-24T16:42:06.341Z"
   },
   {
    "duration": -1209,
    "start_time": "2022-02-24T16:42:06.352Z"
   },
   {
    "duration": -1219,
    "start_time": "2022-02-24T16:42:06.363Z"
   },
   {
    "duration": -1230,
    "start_time": "2022-02-24T16:42:06.375Z"
   },
   {
    "duration": -1241,
    "start_time": "2022-02-24T16:42:06.387Z"
   },
   {
    "duration": -1256,
    "start_time": "2022-02-24T16:42:06.403Z"
   },
   {
    "duration": -1281,
    "start_time": "2022-02-24T16:42:06.429Z"
   },
   {
    "duration": -1297,
    "start_time": "2022-02-24T16:42:06.447Z"
   },
   {
    "duration": 3,
    "start_time": "2022-02-24T16:42:21.892Z"
   },
   {
    "duration": 183,
    "start_time": "2022-02-24T16:42:38.204Z"
   },
   {
    "duration": 11,
    "start_time": "2022-02-24T16:42:44.749Z"
   },
   {
    "duration": 14,
    "start_time": "2022-02-24T16:42:49.576Z"
   },
   {
    "duration": 9,
    "start_time": "2022-02-24T16:42:53.933Z"
   },
   {
    "duration": 13,
    "start_time": "2022-02-24T16:42:56.693Z"
   },
   {
    "duration": 5,
    "start_time": "2022-02-24T16:43:00.118Z"
   },
   {
    "duration": 8,
    "start_time": "2022-02-24T16:43:03.602Z"
   },
   {
    "duration": 5,
    "start_time": "2022-02-24T16:43:06.419Z"
   },
   {
    "duration": 7,
    "start_time": "2022-02-24T16:43:08.788Z"
   },
   {
    "duration": 10,
    "start_time": "2022-02-24T16:43:14.936Z"
   },
   {
    "duration": 211,
    "start_time": "2022-02-24T16:43:20.579Z"
   },
   {
    "duration": 8,
    "start_time": "2022-02-24T16:47:45.000Z"
   },
   {
    "duration": 7,
    "start_time": "2022-02-24T16:47:53.796Z"
   },
   {
    "duration": 4,
    "start_time": "2022-02-24T16:49:52.700Z"
   },
   {
    "duration": 183,
    "start_time": "2022-02-24T16:49:52.707Z"
   },
   {
    "duration": 9,
    "start_time": "2022-02-24T16:49:52.891Z"
   },
   {
    "duration": 24,
    "start_time": "2022-02-24T16:49:52.902Z"
   },
   {
    "duration": 19,
    "start_time": "2022-02-24T16:49:52.928Z"
   },
   {
    "duration": 15,
    "start_time": "2022-02-24T16:49:52.948Z"
   },
   {
    "duration": 5,
    "start_time": "2022-02-24T16:49:52.964Z"
   },
   {
    "duration": 15,
    "start_time": "2022-02-24T16:49:52.970Z"
   },
   {
    "duration": 9,
    "start_time": "2022-02-24T16:49:52.987Z"
   },
   {
    "duration": 29,
    "start_time": "2022-02-24T16:49:52.998Z"
   },
   {
    "duration": 21,
    "start_time": "2022-02-24T16:49:53.029Z"
   },
   {
    "duration": 17,
    "start_time": "2022-02-24T16:49:53.052Z"
   },
   {
    "duration": 12,
    "start_time": "2022-02-24T16:49:53.071Z"
   },
   {
    "duration": 35,
    "start_time": "2022-02-24T16:49:53.085Z"
   },
   {
    "duration": 4,
    "start_time": "2022-02-24T16:49:53.122Z"
   },
   {
    "duration": 20,
    "start_time": "2022-02-24T16:49:53.128Z"
   },
   {
    "duration": 13,
    "start_time": "2022-02-24T16:49:53.150Z"
   },
   {
    "duration": 336,
    "start_time": "2022-02-24T16:49:53.164Z"
   },
   {
    "duration": 302,
    "start_time": "2022-02-24T16:49:53.502Z"
   },
   {
    "duration": 2,
    "start_time": "2022-02-24T16:49:53.806Z"
   },
   {
    "duration": 22,
    "start_time": "2022-02-24T16:49:53.818Z"
   },
   {
    "duration": 20,
    "start_time": "2022-02-24T16:49:53.841Z"
   },
   {
    "duration": 25,
    "start_time": "2022-02-24T16:49:53.863Z"
   },
   {
    "duration": 290,
    "start_time": "2022-02-24T16:49:53.892Z"
   },
   {
    "duration": 286,
    "start_time": "2022-02-24T16:49:54.186Z"
   },
   {
    "duration": 286,
    "start_time": "2022-02-24T16:49:54.474Z"
   },
   {
    "duration": 284,
    "start_time": "2022-02-24T16:49:54.762Z"
   },
   {
    "duration": 334,
    "start_time": "2022-02-24T16:49:55.047Z"
   },
   {
    "duration": 15,
    "start_time": "2022-02-24T16:49:55.383Z"
   },
   {
    "duration": 29,
    "start_time": "2022-02-24T16:49:55.400Z"
   },
   {
    "duration": 14,
    "start_time": "2022-02-24T16:49:55.431Z"
   },
   {
    "duration": 147,
    "start_time": "2022-02-24T16:49:55.447Z"
   },
   {
    "duration": 534,
    "start_time": "2022-02-24T16:49:55.596Z"
   },
   {
    "duration": 737,
    "start_time": "2022-02-24T16:49:56.132Z"
   },
   {
    "duration": -1282,
    "start_time": "2022-02-24T16:49:58.153Z"
   },
   {
    "duration": -1308,
    "start_time": "2022-02-24T16:49:58.180Z"
   },
   {
    "duration": -1329,
    "start_time": "2022-02-24T16:49:58.202Z"
   },
   {
    "duration": -1355,
    "start_time": "2022-02-24T16:49:58.229Z"
   },
   {
    "duration": -1376,
    "start_time": "2022-02-24T16:49:58.251Z"
   },
   {
    "duration": -1407,
    "start_time": "2022-02-24T16:49:58.283Z"
   },
   {
    "duration": -1435,
    "start_time": "2022-02-24T16:49:58.313Z"
   },
   {
    "duration": -1444,
    "start_time": "2022-02-24T16:49:58.323Z"
   },
   {
    "duration": -1452,
    "start_time": "2022-02-24T16:49:58.332Z"
   },
   {
    "duration": -1461,
    "start_time": "2022-02-24T16:49:58.342Z"
   },
   {
    "duration": -1469,
    "start_time": "2022-02-24T16:49:58.351Z"
   },
   {
    "duration": -1477,
    "start_time": "2022-02-24T16:49:58.360Z"
   },
   {
    "duration": -1485,
    "start_time": "2022-02-24T16:49:58.369Z"
   },
   {
    "duration": -1494,
    "start_time": "2022-02-24T16:49:58.379Z"
   },
   {
    "duration": -1502,
    "start_time": "2022-02-24T16:49:58.388Z"
   },
   {
    "duration": -1511,
    "start_time": "2022-02-24T16:49:58.398Z"
   },
   {
    "duration": -1488,
    "start_time": "2022-02-24T16:49:58.407Z"
   },
   {
    "duration": -1510,
    "start_time": "2022-02-24T16:49:58.430Z"
   },
   {
    "duration": -1518,
    "start_time": "2022-02-24T16:49:58.439Z"
   },
   {
    "duration": -1526,
    "start_time": "2022-02-24T16:49:58.448Z"
   },
   {
    "duration": -1534,
    "start_time": "2022-02-24T16:49:58.457Z"
   },
   {
    "duration": -1542,
    "start_time": "2022-02-24T16:49:58.466Z"
   },
   {
    "duration": -1552,
    "start_time": "2022-02-24T16:49:58.477Z"
   },
   {
    "duration": -1560,
    "start_time": "2022-02-24T16:49:58.486Z"
   },
   {
    "duration": -1569,
    "start_time": "2022-02-24T16:49:58.496Z"
   },
   {
    "duration": -1576,
    "start_time": "2022-02-24T16:49:58.504Z"
   },
   {
    "duration": -1586,
    "start_time": "2022-02-24T16:49:58.515Z"
   },
   {
    "duration": -1593,
    "start_time": "2022-02-24T16:49:58.523Z"
   },
   {
    "duration": -1616,
    "start_time": "2022-02-24T16:49:58.547Z"
   },
   {
    "duration": -1636,
    "start_time": "2022-02-24T16:49:58.568Z"
   },
   {
    "duration": -1668,
    "start_time": "2022-02-24T16:49:58.601Z"
   },
   {
    "duration": -1699,
    "start_time": "2022-02-24T16:49:58.633Z"
   },
   {
    "duration": -1726,
    "start_time": "2022-02-24T16:49:58.661Z"
   },
   {
    "duration": -1746,
    "start_time": "2022-02-24T16:49:58.682Z"
   },
   {
    "duration": -1755,
    "start_time": "2022-02-24T16:49:58.692Z"
   },
   {
    "duration": -1763,
    "start_time": "2022-02-24T16:49:58.701Z"
   },
   {
    "duration": -1772,
    "start_time": "2022-02-24T16:49:58.711Z"
   },
   {
    "duration": -1780,
    "start_time": "2022-02-24T16:49:58.720Z"
   },
   {
    "duration": -1788,
    "start_time": "2022-02-24T16:49:58.729Z"
   },
   {
    "duration": -1797,
    "start_time": "2022-02-24T16:49:58.739Z"
   },
   {
    "duration": 14,
    "start_time": "2022-02-24T17:02:22.634Z"
   },
   {
    "duration": 294,
    "start_time": "2022-02-24T17:13:58.089Z"
   },
   {
    "duration": 17,
    "start_time": "2022-02-24T17:15:08.720Z"
   },
   {
    "duration": 155,
    "start_time": "2022-02-24T17:23:21.700Z"
   },
   {
    "duration": 29,
    "start_time": "2022-02-24T17:23:56.012Z"
   },
   {
    "duration": 14,
    "start_time": "2022-02-24T17:25:57.008Z"
   },
   {
    "duration": 6,
    "start_time": "2022-02-24T17:27:17.773Z"
   },
   {
    "duration": 141,
    "start_time": "2022-02-24T17:31:53.783Z"
   },
   {
    "duration": 152,
    "start_time": "2022-02-24T17:32:27.756Z"
   },
   {
    "duration": 151,
    "start_time": "2022-02-24T17:32:41.296Z"
   },
   {
    "duration": 33,
    "start_time": "2022-02-24T17:33:03.062Z"
   },
   {
    "duration": 144,
    "start_time": "2022-02-24T17:35:02.953Z"
   },
   {
    "duration": 31,
    "start_time": "2022-02-24T17:35:54.809Z"
   },
   {
    "duration": 213,
    "start_time": "2022-02-24T17:37:15.165Z"
   },
   {
    "duration": 31,
    "start_time": "2022-02-24T17:37:41.281Z"
   },
   {
    "duration": 151,
    "start_time": "2022-02-24T17:38:07.325Z"
   },
   {
    "duration": 35,
    "start_time": "2022-02-24T17:38:22.481Z"
   },
   {
    "duration": 407,
    "start_time": "2022-02-24T17:57:30.774Z"
   },
   {
    "duration": 375,
    "start_time": "2022-02-24T17:59:07.536Z"
   },
   {
    "duration": 17,
    "start_time": "2022-02-24T18:04:36.810Z"
   },
   {
    "duration": 18,
    "start_time": "2022-02-24T18:05:32.256Z"
   },
   {
    "duration": 374,
    "start_time": "2022-02-24T18:06:56.582Z"
   },
   {
    "duration": 417,
    "start_time": "2022-02-24T18:07:24.312Z"
   },
   {
    "duration": 392,
    "start_time": "2022-02-24T18:07:50.306Z"
   },
   {
    "duration": 369,
    "start_time": "2022-02-24T18:07:57.465Z"
   },
   {
    "duration": 630,
    "start_time": "2022-02-24T18:11:00.693Z"
   },
   {
    "duration": 614,
    "start_time": "2022-02-24T18:11:38.166Z"
   },
   {
    "duration": 758,
    "start_time": "2022-02-24T18:12:16.296Z"
   },
   {
    "duration": 630,
    "start_time": "2022-02-24T18:13:00.659Z"
   },
   {
    "duration": 403,
    "start_time": "2022-02-24T18:13:33.755Z"
   },
   {
    "duration": 12,
    "start_time": "2022-02-24T18:14:47.608Z"
   },
   {
    "duration": 143,
    "start_time": "2022-02-24T18:18:01.206Z"
   },
   {
    "duration": 142,
    "start_time": "2022-02-24T18:23:57.858Z"
   },
   {
    "duration": 151,
    "start_time": "2022-02-24T18:30:29.274Z"
   },
   {
    "duration": 138,
    "start_time": "2022-02-24T18:30:46.200Z"
   },
   {
    "duration": 143,
    "start_time": "2022-02-24T18:31:00.712Z"
   },
   {
    "duration": 149,
    "start_time": "2022-02-24T18:31:05.293Z"
   },
   {
    "duration": 209,
    "start_time": "2022-02-24T18:34:53.977Z"
   },
   {
    "duration": 216,
    "start_time": "2022-02-24T18:35:01.927Z"
   },
   {
    "duration": 229,
    "start_time": "2022-02-24T18:35:13.532Z"
   },
   {
    "duration": 230,
    "start_time": "2022-02-24T18:35:26.378Z"
   },
   {
    "duration": 207,
    "start_time": "2022-02-24T18:38:15.041Z"
   },
   {
    "duration": 140,
    "start_time": "2022-02-24T18:38:23.012Z"
   },
   {
    "duration": 217,
    "start_time": "2022-02-24T18:38:30.256Z"
   },
   {
    "duration": 149,
    "start_time": "2022-02-24T18:47:41.119Z"
   },
   {
    "duration": 203,
    "start_time": "2022-02-24T18:56:51.109Z"
   },
   {
    "duration": 240,
    "start_time": "2022-02-24T18:57:15.716Z"
   },
   {
    "duration": 154,
    "start_time": "2022-02-24T18:57:35.111Z"
   },
   {
    "duration": 17,
    "start_time": "2022-02-24T19:06:28.873Z"
   },
   {
    "duration": 286,
    "start_time": "2022-02-24T19:06:34.345Z"
   },
   {
    "duration": 374,
    "start_time": "2022-02-24T19:11:58.727Z"
   },
   {
    "duration": 391,
    "start_time": "2022-02-24T19:12:07.452Z"
   },
   {
    "duration": 611,
    "start_time": "2022-02-24T19:12:15.083Z"
   },
   {
    "duration": 673,
    "start_time": "2022-02-24T19:12:24.265Z"
   },
   {
    "duration": 647,
    "start_time": "2022-02-24T19:12:33.314Z"
   },
   {
    "duration": 16,
    "start_time": "2022-02-24T19:12:46.089Z"
   },
   {
    "duration": 276,
    "start_time": "2022-02-24T19:12:56.700Z"
   },
   {
    "duration": 34,
    "start_time": "2022-02-24T19:18:16.746Z"
   },
   {
    "duration": 152,
    "start_time": "2022-02-24T19:24:25.287Z"
   },
   {
    "duration": 137,
    "start_time": "2022-02-24T19:25:15.239Z"
   },
   {
    "duration": 149,
    "start_time": "2022-02-24T19:25:59.608Z"
   },
   {
    "duration": 130,
    "start_time": "2022-02-24T19:26:19.870Z"
   },
   {
    "duration": 142,
    "start_time": "2022-02-24T19:34:19.080Z"
   },
   {
    "duration": 152,
    "start_time": "2022-02-24T19:34:27.583Z"
   },
   {
    "duration": 145,
    "start_time": "2022-02-24T19:34:47.365Z"
   },
   {
    "duration": 146,
    "start_time": "2022-02-24T19:46:09.864Z"
   },
   {
    "duration": 152,
    "start_time": "2022-02-24T19:46:24.109Z"
   },
   {
    "duration": 550,
    "start_time": "2022-02-24T19:48:58.492Z"
   },
   {
    "duration": 212,
    "start_time": "2022-02-24T19:52:52.752Z"
   },
   {
    "duration": 17,
    "start_time": "2022-02-24T19:54:42.168Z"
   },
   {
    "duration": 112,
    "start_time": "2022-02-24T19:55:11.227Z"
   },
   {
    "duration": 210,
    "start_time": "2022-02-24T19:55:34.861Z"
   },
   {
    "duration": 252,
    "start_time": "2022-02-24T19:55:50.764Z"
   },
   {
    "duration": 24,
    "start_time": "2022-02-24T19:55:58.250Z"
   },
   {
    "duration": 18,
    "start_time": "2022-02-24T19:56:44.994Z"
   },
   {
    "duration": 18,
    "start_time": "2022-02-24T19:57:24.460Z"
   },
   {
    "duration": 85,
    "start_time": "2022-02-24T19:58:46.880Z"
   },
   {
    "duration": 17,
    "start_time": "2022-02-24T20:00:03.067Z"
   },
   {
    "duration": 19,
    "start_time": "2022-02-24T20:00:12.360Z"
   },
   {
    "duration": 80,
    "start_time": "2022-02-24T20:02:21.484Z"
   },
   {
    "duration": 16,
    "start_time": "2022-02-24T20:02:34.324Z"
   },
   {
    "duration": 19,
    "start_time": "2022-02-24T20:02:38.586Z"
   },
   {
    "duration": 80,
    "start_time": "2022-02-24T20:03:18.925Z"
   },
   {
    "duration": 63,
    "start_time": "2022-02-24T20:05:55.475Z"
   },
   {
    "duration": 17,
    "start_time": "2022-02-24T20:06:17.856Z"
   },
   {
    "duration": 86,
    "start_time": "2022-02-24T20:06:24.878Z"
   },
   {
    "duration": 79,
    "start_time": "2022-02-24T20:06:48.082Z"
   },
   {
    "duration": 83,
    "start_time": "2022-02-24T20:10:24.066Z"
   },
   {
    "duration": 80,
    "start_time": "2022-02-24T20:11:08.595Z"
   },
   {
    "duration": 81,
    "start_time": "2022-02-24T20:12:17.920Z"
   },
   {
    "duration": 80,
    "start_time": "2022-02-24T20:12:32.820Z"
   },
   {
    "duration": 81,
    "start_time": "2022-02-24T20:12:41.690Z"
   },
   {
    "duration": 17,
    "start_time": "2022-02-24T20:13:42.065Z"
   },
   {
    "duration": 17,
    "start_time": "2022-02-24T20:13:46.152Z"
   },
   {
    "duration": 17,
    "start_time": "2022-02-24T20:13:48.990Z"
   },
   {
    "duration": 23,
    "start_time": "2022-02-24T20:14:23.185Z"
   },
   {
    "duration": 3,
    "start_time": "2022-02-24T20:19:02.444Z"
   },
   {
    "duration": 211,
    "start_time": "2022-02-24T20:19:02.450Z"
   },
   {
    "duration": 11,
    "start_time": "2022-02-24T20:19:02.663Z"
   },
   {
    "duration": 27,
    "start_time": "2022-02-24T20:19:02.676Z"
   },
   {
    "duration": 21,
    "start_time": "2022-02-24T20:19:02.705Z"
   },
   {
    "duration": 14,
    "start_time": "2022-02-24T20:19:02.728Z"
   },
   {
    "duration": 5,
    "start_time": "2022-02-24T20:19:02.743Z"
   },
   {
    "duration": 10,
    "start_time": "2022-02-24T20:19:02.751Z"
   },
   {
    "duration": 5,
    "start_time": "2022-02-24T20:19:02.763Z"
   },
   {
    "duration": 9,
    "start_time": "2022-02-24T20:19:02.770Z"
   },
   {
    "duration": 47,
    "start_time": "2022-02-24T20:19:02.780Z"
   },
   {
    "duration": 43,
    "start_time": "2022-02-24T20:19:02.829Z"
   },
   {
    "duration": 14,
    "start_time": "2022-02-24T20:19:02.874Z"
   },
   {
    "duration": 21,
    "start_time": "2022-02-24T20:19:02.889Z"
   },
   {
    "duration": 5,
    "start_time": "2022-02-24T20:19:02.919Z"
   },
   {
    "duration": 37,
    "start_time": "2022-02-24T20:19:02.925Z"
   },
   {
    "duration": 303,
    "start_time": "2022-02-24T20:19:02.964Z"
   },
   {
    "duration": 288,
    "start_time": "2022-02-24T20:19:03.269Z"
   },
   {
    "duration": 2,
    "start_time": "2022-02-24T20:19:03.558Z"
   },
   {
    "duration": 19,
    "start_time": "2022-02-24T20:19:03.562Z"
   },
   {
    "duration": 19,
    "start_time": "2022-02-24T20:19:03.582Z"
   },
   {
    "duration": 34,
    "start_time": "2022-02-24T20:19:03.603Z"
   },
   {
    "duration": 287,
    "start_time": "2022-02-24T20:19:03.639Z"
   },
   {
    "duration": 303,
    "start_time": "2022-02-24T20:19:03.930Z"
   },
   {
    "duration": 311,
    "start_time": "2022-02-24T20:19:04.236Z"
   },
   {
    "duration": 318,
    "start_time": "2022-02-24T20:19:04.549Z"
   },
   {
    "duration": 421,
    "start_time": "2022-02-24T20:19:04.869Z"
   },
   {
    "duration": 28,
    "start_time": "2022-02-24T20:19:05.292Z"
   },
   {
    "duration": 16,
    "start_time": "2022-02-24T20:19:05.322Z"
   },
   {
    "duration": 597,
    "start_time": "2022-02-24T20:19:05.340Z"
   },
   {
    "duration": 165,
    "start_time": "2022-02-24T20:19:05.939Z"
   },
   {
    "duration": 45,
    "start_time": "2022-02-24T20:19:06.106Z"
   },
   {
    "duration": 175,
    "start_time": "2022-02-24T20:19:06.153Z"
   },
   {
    "duration": 34,
    "start_time": "2022-02-24T20:19:06.329Z"
   },
   {
    "duration": 182,
    "start_time": "2022-02-24T20:19:06.365Z"
   },
   {
    "duration": 34,
    "start_time": "2022-02-24T20:19:06.549Z"
   },
   {
    "duration": 38,
    "start_time": "2022-02-24T20:19:06.585Z"
   },
   {
    "duration": 432,
    "start_time": "2022-02-24T20:19:06.625Z"
   },
   {
    "duration": -1076,
    "start_time": "2022-02-24T20:19:08.135Z"
   },
   {
    "duration": -1084,
    "start_time": "2022-02-24T20:19:08.144Z"
   },
   {
    "duration": -1092,
    "start_time": "2022-02-24T20:19:08.153Z"
   },
   {
    "duration": -1098,
    "start_time": "2022-02-24T20:19:08.161Z"
   },
   {
    "duration": -1107,
    "start_time": "2022-02-24T20:19:08.171Z"
   },
   {
    "duration": -1114,
    "start_time": "2022-02-24T20:19:08.179Z"
   },
   {
    "duration": -1122,
    "start_time": "2022-02-24T20:19:08.188Z"
   },
   {
    "duration": -1129,
    "start_time": "2022-02-24T20:19:08.197Z"
   },
   {
    "duration": -1138,
    "start_time": "2022-02-24T20:19:08.207Z"
   },
   {
    "duration": -1145,
    "start_time": "2022-02-24T20:19:08.216Z"
   },
   {
    "duration": -1165,
    "start_time": "2022-02-24T20:19:08.237Z"
   },
   {
    "duration": -1172,
    "start_time": "2022-02-24T20:19:08.245Z"
   },
   {
    "duration": -1181,
    "start_time": "2022-02-24T20:19:08.255Z"
   },
   {
    "duration": -1188,
    "start_time": "2022-02-24T20:19:08.264Z"
   },
   {
    "duration": -1198,
    "start_time": "2022-02-24T20:19:08.275Z"
   },
   {
    "duration": -1206,
    "start_time": "2022-02-24T20:19:08.284Z"
   },
   {
    "duration": -1215,
    "start_time": "2022-02-24T20:19:08.294Z"
   },
   {
    "duration": -1222,
    "start_time": "2022-02-24T20:19:08.302Z"
   },
   {
    "duration": -1194,
    "start_time": "2022-02-24T20:19:08.312Z"
   },
   {
    "duration": -1201,
    "start_time": "2022-02-24T20:19:08.320Z"
   },
   {
    "duration": -1208,
    "start_time": "2022-02-24T20:19:08.329Z"
   },
   {
    "duration": -1227,
    "start_time": "2022-02-24T20:19:08.349Z"
   },
   {
    "duration": -1235,
    "start_time": "2022-02-24T20:19:08.358Z"
   },
   {
    "duration": -1243,
    "start_time": "2022-02-24T20:19:08.367Z"
   },
   {
    "duration": -1251,
    "start_time": "2022-02-24T20:19:08.376Z"
   },
   {
    "duration": -1259,
    "start_time": "2022-02-24T20:19:08.385Z"
   },
   {
    "duration": -1267,
    "start_time": "2022-02-24T20:19:08.394Z"
   },
   {
    "duration": -1273,
    "start_time": "2022-02-24T20:19:08.402Z"
   },
   {
    "duration": -1282,
    "start_time": "2022-02-24T20:19:08.412Z"
   },
   {
    "duration": -1289,
    "start_time": "2022-02-24T20:19:08.420Z"
   },
   {
    "duration": -1297,
    "start_time": "2022-02-24T20:19:08.429Z"
   },
   {
    "duration": -1304,
    "start_time": "2022-02-24T20:19:08.437Z"
   },
   {
    "duration": -1313,
    "start_time": "2022-02-24T20:19:08.447Z"
   },
   {
    "duration": -1332,
    "start_time": "2022-02-24T20:19:08.467Z"
   },
   {
    "duration": -1344,
    "start_time": "2022-02-24T20:19:08.480Z"
   },
   {
    "duration": -1352,
    "start_time": "2022-02-24T20:19:08.489Z"
   },
   {
    "duration": 395,
    "start_time": "2022-02-24T20:20:18.195Z"
   },
   {
    "duration": 598,
    "start_time": "2022-02-24T20:20:23.938Z"
   },
   {
    "duration": 609,
    "start_time": "2022-02-24T20:20:35.897Z"
   },
   {
    "duration": 670,
    "start_time": "2022-02-24T20:20:42.783Z"
   },
   {
    "duration": 17,
    "start_time": "2022-02-24T20:20:51.572Z"
   },
   {
    "duration": 374,
    "start_time": "2022-02-24T20:20:54.492Z"
   },
   {
    "duration": 34,
    "start_time": "2022-02-24T20:20:59.412Z"
   },
   {
    "duration": 133,
    "start_time": "2022-02-24T20:21:02.875Z"
   },
   {
    "duration": 163,
    "start_time": "2022-02-24T20:21:06.038Z"
   },
   {
    "duration": 157,
    "start_time": "2022-02-24T20:21:08.578Z"
   },
   {
    "duration": 30,
    "start_time": "2022-02-24T20:21:19.689Z"
   },
   {
    "duration": 20,
    "start_time": "2022-02-24T20:21:22.738Z"
   },
   {
    "duration": 87,
    "start_time": "2022-02-24T20:21:25.174Z"
   },
   {
    "duration": 18,
    "start_time": "2022-02-24T20:21:28.503Z"
   },
   {
    "duration": 20,
    "start_time": "2022-02-24T20:21:30.984Z"
   },
   {
    "duration": 78,
    "start_time": "2022-02-24T20:21:34.163Z"
   },
   {
    "duration": 17,
    "start_time": "2022-02-24T20:21:38.974Z"
   },
   {
    "duration": 21,
    "start_time": "2022-02-24T20:21:41.972Z"
   },
   {
    "duration": 18,
    "start_time": "2022-02-24T20:21:51.027Z"
   },
   {
    "duration": 79,
    "start_time": "2022-02-24T20:21:53.179Z"
   },
   {
    "duration": 81,
    "start_time": "2022-02-24T20:21:56.555Z"
   },
   {
    "duration": 81,
    "start_time": "2022-02-24T20:22:02.986Z"
   },
   {
    "duration": 16,
    "start_time": "2022-02-24T20:22:09.673Z"
   },
   {
    "duration": 15,
    "start_time": "2022-02-24T20:22:12.471Z"
   },
   {
    "duration": 16,
    "start_time": "2022-02-24T20:22:14.088Z"
   },
   {
    "duration": 21,
    "start_time": "2022-02-24T20:22:18.975Z"
   },
   {
    "duration": 76,
    "start_time": "2022-02-24T20:22:48.500Z"
   },
   {
    "duration": 82,
    "start_time": "2022-02-24T20:23:49.570Z"
   },
   {
    "duration": 83,
    "start_time": "2022-02-24T20:30:24.296Z"
   },
   {
    "duration": 84,
    "start_time": "2022-02-24T20:30:39.088Z"
   },
   {
    "duration": 59,
    "start_time": "2022-02-24T20:35:43.800Z"
   },
   {
    "duration": 46,
    "start_time": "2022-02-24T20:47:34.848Z"
   },
   {
    "duration": 11,
    "start_time": "2022-02-24T20:48:18.705Z"
   },
   {
    "duration": 10,
    "start_time": "2022-02-24T20:50:30.629Z"
   },
   {
    "duration": 44,
    "start_time": "2022-02-24T20:50:50.128Z"
   },
   {
    "duration": 11,
    "start_time": "2022-02-24T20:51:13.014Z"
   },
   {
    "duration": 10,
    "start_time": "2022-02-24T20:52:12.868Z"
   },
   {
    "duration": 10,
    "start_time": "2022-02-24T20:56:03.854Z"
   },
   {
    "duration": 11,
    "start_time": "2022-02-24T20:56:16.086Z"
   },
   {
    "duration": 11,
    "start_time": "2022-02-24T20:56:24.053Z"
   },
   {
    "duration": 12,
    "start_time": "2022-02-24T20:57:13.156Z"
   },
   {
    "duration": 7,
    "start_time": "2022-02-24T21:13:01.949Z"
   },
   {
    "duration": 3742,
    "start_time": "2022-02-24T21:20:06.049Z"
   },
   {
    "duration": 10,
    "start_time": "2022-02-24T21:20:45.731Z"
   },
   {
    "duration": 8,
    "start_time": "2022-02-24T21:25:53.432Z"
   },
   {
    "duration": 20,
    "start_time": "2022-02-24T21:26:11.429Z"
   },
   {
    "duration": 9,
    "start_time": "2022-02-24T21:27:11.213Z"
   },
   {
    "duration": 10,
    "start_time": "2022-02-24T21:28:09.602Z"
   },
   {
    "duration": 182,
    "start_time": "2022-02-24T21:28:52.672Z"
   },
   {
    "duration": 9,
    "start_time": "2022-02-24T21:29:10.529Z"
   },
   {
    "duration": 9,
    "start_time": "2022-02-24T21:29:25.487Z"
   },
   {
    "duration": 14,
    "start_time": "2022-02-24T21:30:11.096Z"
   },
   {
    "duration": 6,
    "start_time": "2022-02-24T21:30:41.338Z"
   },
   {
    "duration": 16,
    "start_time": "2022-02-24T21:32:15.338Z"
   },
   {
    "duration": 6,
    "start_time": "2022-02-24T21:32:28.546Z"
   },
   {
    "duration": 14,
    "start_time": "2022-02-24T21:35:07.279Z"
   },
   {
    "duration": 14,
    "start_time": "2022-02-24T21:35:22.484Z"
   },
   {
    "duration": 218,
    "start_time": "2022-02-28T10:20:53.547Z"
   },
   {
    "duration": 1003,
    "start_time": "2022-02-28T10:21:03.984Z"
   },
   {
    "duration": 198,
    "start_time": "2022-02-28T10:21:04.989Z"
   },
   {
    "duration": 7,
    "start_time": "2022-02-28T10:21:05.189Z"
   },
   {
    "duration": 33,
    "start_time": "2022-02-28T10:21:05.197Z"
   },
   {
    "duration": 42,
    "start_time": "2022-02-28T10:21:05.232Z"
   },
   {
    "duration": 240,
    "start_time": "2022-02-28T10:21:05.276Z"
   },
   {
    "duration": 10,
    "start_time": "2022-02-28T10:21:05.518Z"
   },
   {
    "duration": 31,
    "start_time": "2022-02-28T10:21:05.538Z"
   },
   {
    "duration": 21,
    "start_time": "2022-02-28T10:21:05.571Z"
   },
   {
    "duration": 13,
    "start_time": "2022-02-28T10:21:05.593Z"
   },
   {
    "duration": 35,
    "start_time": "2022-02-28T10:21:05.608Z"
   },
   {
    "duration": 340,
    "start_time": "2022-02-28T10:21:05.646Z"
   },
   {
    "duration": 29,
    "start_time": "2022-02-28T10:21:05.988Z"
   },
   {
    "duration": 3,
    "start_time": "2022-02-28T10:21:17.884Z"
   },
   {
    "duration": 239,
    "start_time": "2022-02-28T10:29:18.830Z"
   },
   {
    "duration": 244,
    "start_time": "2022-02-28T10:29:31.848Z"
   },
   {
    "duration": 316,
    "start_time": "2022-02-28T11:53:42.897Z"
   },
   {
    "duration": 1272,
    "start_time": "2022-02-28T11:53:48.135Z"
   },
   {
    "duration": 187,
    "start_time": "2022-02-28T11:53:49.409Z"
   },
   {
    "duration": 9,
    "start_time": "2022-02-28T11:53:49.601Z"
   },
   {
    "duration": 37,
    "start_time": "2022-02-28T11:53:49.614Z"
   },
   {
    "duration": 53,
    "start_time": "2022-02-28T11:53:49.654Z"
   },
   {
    "duration": 351,
    "start_time": "2022-02-28T11:53:49.710Z"
   },
   {
    "duration": 26,
    "start_time": "2022-02-28T11:53:50.064Z"
   },
   {
    "duration": 345,
    "start_time": "2022-02-28T11:53:50.094Z"
   },
   {
    "duration": 58,
    "start_time": "2022-02-28T11:53:50.443Z"
   },
   {
    "duration": 29,
    "start_time": "2022-02-28T11:53:50.504Z"
   },
   {
    "duration": 11,
    "start_time": "2022-02-28T11:53:50.535Z"
   },
   {
    "duration": 42,
    "start_time": "2022-02-28T11:53:50.548Z"
   },
   {
    "duration": 428,
    "start_time": "2022-02-28T11:53:50.592Z"
   },
   {
    "duration": 36,
    "start_time": "2022-02-28T11:53:51.022Z"
   },
   {
    "duration": 103,
    "start_time": "2022-02-28T18:05:31.271Z"
   },
   {
    "duration": 324,
    "start_time": "2022-02-28T18:05:56.378Z"
   },
   {
    "duration": 1152,
    "start_time": "2022-02-28T18:06:05.281Z"
   },
   {
    "duration": 220,
    "start_time": "2022-02-28T18:06:06.435Z"
   },
   {
    "duration": 7,
    "start_time": "2022-02-28T18:06:06.658Z"
   },
   {
    "duration": 15,
    "start_time": "2022-02-28T18:06:06.668Z"
   },
   {
    "duration": 33,
    "start_time": "2022-02-28T18:06:06.685Z"
   },
   {
    "duration": 261,
    "start_time": "2022-02-28T18:06:06.719Z"
   },
   {
    "duration": 11,
    "start_time": "2022-02-28T18:06:06.981Z"
   },
   {
    "duration": 265,
    "start_time": "2022-02-28T18:06:06.994Z"
   },
   {
    "duration": 39,
    "start_time": "2022-02-28T18:06:07.260Z"
   },
   {
    "duration": 26,
    "start_time": "2022-02-28T18:06:07.301Z"
   },
   {
    "duration": 9,
    "start_time": "2022-02-28T18:06:07.329Z"
   },
   {
    "duration": 39,
    "start_time": "2022-02-28T18:06:07.339Z"
   },
   {
    "duration": 322,
    "start_time": "2022-02-28T18:06:07.380Z"
   },
   {
    "duration": 26,
    "start_time": "2022-02-28T18:06:07.704Z"
   },
   {
    "duration": 11,
    "start_time": "2022-02-28T18:06:07.732Z"
   },
   {
    "duration": 9,
    "start_time": "2022-02-28T18:06:19.043Z"
   },
   {
    "duration": 363,
    "start_time": "2022-02-28T18:08:44.502Z"
   },
   {
    "duration": 11,
    "start_time": "2022-02-28T18:09:15.097Z"
   },
   {
    "duration": 14,
    "start_time": "2022-02-28T18:10:28.308Z"
   },
   {
    "duration": 12,
    "start_time": "2022-02-28T18:10:53.394Z"
   },
   {
    "duration": 1051,
    "start_time": "2022-03-01T07:13:18.975Z"
   },
   {
    "duration": 426,
    "start_time": "2022-03-01T07:13:28.800Z"
   },
   {
    "duration": 215,
    "start_time": "2022-03-01T07:13:29.228Z"
   },
   {
    "duration": 7,
    "start_time": "2022-03-01T07:13:29.445Z"
   },
   {
    "duration": 13,
    "start_time": "2022-03-01T07:13:29.454Z"
   },
   {
    "duration": 29,
    "start_time": "2022-03-01T07:13:29.469Z"
   },
   {
    "duration": 254,
    "start_time": "2022-03-01T07:13:29.500Z"
   },
   {
    "duration": 10,
    "start_time": "2022-03-01T07:13:29.756Z"
   },
   {
    "duration": 259,
    "start_time": "2022-03-01T07:13:29.768Z"
   },
   {
    "duration": 30,
    "start_time": "2022-03-01T07:13:30.030Z"
   },
   {
    "duration": 37,
    "start_time": "2022-03-01T07:13:30.062Z"
   },
   {
    "duration": 8,
    "start_time": "2022-03-01T07:13:30.101Z"
   },
   {
    "duration": 10,
    "start_time": "2022-03-01T07:13:30.111Z"
   },
   {
    "duration": 342,
    "start_time": "2022-03-01T07:13:30.123Z"
   },
   {
    "duration": 35,
    "start_time": "2022-03-01T07:13:30.467Z"
   },
   {
    "duration": 12,
    "start_time": "2022-03-01T07:13:30.505Z"
   },
   {
    "duration": 82,
    "start_time": "2022-03-01T07:13:30.519Z"
   },
   {
    "duration": 14,
    "start_time": "2022-03-01T07:14:33.381Z"
   },
   {
    "duration": 327,
    "start_time": "2022-03-01T07:18:14.752Z"
   },
   {
    "duration": 59,
    "start_time": "2022-03-01T07:18:57.413Z"
   },
   {
    "duration": 17,
    "start_time": "2022-03-01T07:31:44.514Z"
   },
   {
    "duration": 14,
    "start_time": "2022-03-01T07:32:20.604Z"
   },
   {
    "duration": 4,
    "start_time": "2022-03-01T09:06:11.483Z"
   },
   {
    "duration": 227,
    "start_time": "2022-03-01T09:06:11.489Z"
   },
   {
    "duration": 7,
    "start_time": "2022-03-01T09:06:11.719Z"
   },
   {
    "duration": 15,
    "start_time": "2022-03-01T09:06:11.729Z"
   },
   {
    "duration": 34,
    "start_time": "2022-03-01T09:06:11.745Z"
   },
   {
    "duration": 251,
    "start_time": "2022-03-01T09:06:11.782Z"
   },
   {
    "duration": 10,
    "start_time": "2022-03-01T09:06:12.035Z"
   },
   {
    "duration": 263,
    "start_time": "2022-03-01T09:06:12.047Z"
   },
   {
    "duration": 29,
    "start_time": "2022-03-01T09:06:12.313Z"
   },
   {
    "duration": 41,
    "start_time": "2022-03-01T09:06:12.344Z"
   },
   {
    "duration": 8,
    "start_time": "2022-03-01T09:06:12.387Z"
   },
   {
    "duration": 10,
    "start_time": "2022-03-01T09:06:12.397Z"
   },
   {
    "duration": 352,
    "start_time": "2022-03-01T09:06:12.409Z"
   },
   {
    "duration": 37,
    "start_time": "2022-03-01T09:06:12.763Z"
   },
   {
    "duration": 15,
    "start_time": "2022-03-01T09:06:12.802Z"
   },
   {
    "duration": 87,
    "start_time": "2022-03-01T09:06:12.819Z"
   },
   {
    "duration": 285,
    "start_time": "2022-03-01T09:11:12.395Z"
   },
   {
    "duration": 4,
    "start_time": "2022-03-01T09:11:39.043Z"
   },
   {
    "duration": 206,
    "start_time": "2022-03-01T09:11:39.049Z"
   },
   {
    "duration": 6,
    "start_time": "2022-03-01T09:11:39.257Z"
   },
   {
    "duration": 14,
    "start_time": "2022-03-01T09:11:39.265Z"
   },
   {
    "duration": 29,
    "start_time": "2022-03-01T09:11:39.281Z"
   },
   {
    "duration": 252,
    "start_time": "2022-03-01T09:11:39.312Z"
   },
   {
    "duration": 14,
    "start_time": "2022-03-01T09:11:39.565Z"
   },
   {
    "duration": 263,
    "start_time": "2022-03-01T09:11:39.581Z"
   },
   {
    "duration": 37,
    "start_time": "2022-03-01T09:11:39.846Z"
   },
   {
    "duration": 25,
    "start_time": "2022-03-01T09:11:39.885Z"
   },
   {
    "duration": 8,
    "start_time": "2022-03-01T09:11:39.912Z"
   },
   {
    "duration": 23,
    "start_time": "2022-03-01T09:11:39.921Z"
   },
   {
    "duration": 356,
    "start_time": "2022-03-01T09:11:39.945Z"
   },
   {
    "duration": 30,
    "start_time": "2022-03-01T09:11:40.303Z"
   },
   {
    "duration": 345,
    "start_time": "2022-03-01T09:11:40.335Z"
   },
   {
    "duration": 48440,
    "start_time": "2022-03-01T09:10:52.242Z"
   },
   {
    "duration": 48437,
    "start_time": "2022-03-01T09:10:52.246Z"
   },
   {
    "duration": 307,
    "start_time": "2022-03-01T09:13:38.121Z"
   },
   {
    "duration": 275,
    "start_time": "2022-03-01T09:13:46.138Z"
   },
   {
    "duration": 5,
    "start_time": "2022-03-01T09:14:44.440Z"
   },
   {
    "duration": 506,
    "start_time": "2022-03-01T09:16:42.272Z"
   },
   {
    "duration": 4,
    "start_time": "2022-03-01T09:17:12.403Z"
   },
   {
    "duration": 6,
    "start_time": "2022-03-01T09:17:21.967Z"
   },
   {
    "duration": 15,
    "start_time": "2022-03-01T09:18:27.208Z"
   },
   {
    "duration": 63,
    "start_time": "2022-03-01T09:20:13.329Z"
   },
   {
    "duration": 18,
    "start_time": "2022-03-01T09:25:42.715Z"
   },
   {
    "duration": 16,
    "start_time": "2022-03-01T09:26:31.933Z"
   },
   {
    "duration": 59,
    "start_time": "2022-03-01T09:41:38.228Z"
   },
   {
    "duration": 16,
    "start_time": "2022-03-01T09:43:57.190Z"
   },
   {
    "duration": 16,
    "start_time": "2022-03-01T09:44:13.614Z"
   },
   {
    "duration": 9,
    "start_time": "2022-03-01T09:45:16.511Z"
   },
   {
    "duration": 9,
    "start_time": "2022-03-01T09:45:29.772Z"
   },
   {
    "duration": 17,
    "start_time": "2022-03-01T10:17:41.404Z"
   },
   {
    "duration": 17,
    "start_time": "2022-03-01T10:29:25.595Z"
   },
   {
    "duration": 4,
    "start_time": "2022-03-01T11:31:14.873Z"
   },
   {
    "duration": 220,
    "start_time": "2022-03-01T11:31:14.879Z"
   },
   {
    "duration": 6,
    "start_time": "2022-03-01T11:31:15.101Z"
   },
   {
    "duration": 12,
    "start_time": "2022-03-01T11:31:15.109Z"
   },
   {
    "duration": 33,
    "start_time": "2022-03-01T11:31:15.123Z"
   },
   {
    "duration": 252,
    "start_time": "2022-03-01T11:31:15.158Z"
   },
   {
    "duration": 9,
    "start_time": "2022-03-01T11:31:15.412Z"
   },
   {
    "duration": 260,
    "start_time": "2022-03-01T11:31:15.423Z"
   },
   {
    "duration": 27,
    "start_time": "2022-03-01T11:31:15.686Z"
   },
   {
    "duration": 24,
    "start_time": "2022-03-01T11:31:15.715Z"
   },
   {
    "duration": 8,
    "start_time": "2022-03-01T11:31:15.741Z"
   },
   {
    "duration": 37,
    "start_time": "2022-03-01T11:31:15.751Z"
   },
   {
    "duration": 358,
    "start_time": "2022-03-01T11:31:15.790Z"
   },
   {
    "duration": 35,
    "start_time": "2022-03-01T11:31:16.150Z"
   },
   {
    "duration": 8,
    "start_time": "2022-03-01T11:31:16.187Z"
   },
   {
    "duration": 11,
    "start_time": "2022-03-01T11:31:16.196Z"
   },
   {
    "duration": 16,
    "start_time": "2022-03-01T11:31:16.209Z"
   },
   {
    "duration": 8,
    "start_time": "2022-03-01T11:33:33.771Z"
   },
   {
    "duration": 7,
    "start_time": "2022-03-01T11:34:02.496Z"
   },
   {
    "duration": 1503,
    "start_time": "2022-03-01T11:35:12.546Z"
   },
   {
    "duration": 274,
    "start_time": "2022-03-01T11:36:15.905Z"
   },
   {
    "duration": 88,
    "start_time": "2022-03-01T11:39:47.313Z"
   },
   {
    "duration": 260,
    "start_time": "2022-03-01T11:40:00.862Z"
   },
   {
    "duration": 6,
    "start_time": "2022-03-01T11:46:22.585Z"
   },
   {
    "duration": 15,
    "start_time": "2022-03-01T11:46:53.314Z"
   },
   {
    "duration": 12,
    "start_time": "2022-03-01T11:46:59.604Z"
   },
   {
    "duration": 7,
    "start_time": "2022-03-01T11:47:14.546Z"
   },
   {
    "duration": 13,
    "start_time": "2022-03-01T11:57:59.186Z"
   },
   {
    "duration": 113,
    "start_time": "2022-03-01T11:59:02.163Z"
   },
   {
    "duration": 108,
    "start_time": "2022-03-01T11:59:57.301Z"
   },
   {
    "duration": 111,
    "start_time": "2022-03-01T12:00:03.487Z"
   },
   {
    "duration": 264,
    "start_time": "2022-03-01T12:01:58.096Z"
   },
   {
    "duration": 1343,
    "start_time": "2022-03-01T17:00:58.365Z"
   },
   {
    "duration": 7,
    "start_time": "2022-03-01T17:01:01.544Z"
   },
   {
    "duration": 219,
    "start_time": "2022-03-01T17:01:01.554Z"
   },
   {
    "duration": 8,
    "start_time": "2022-03-01T17:01:01.776Z"
   },
   {
    "duration": 32,
    "start_time": "2022-03-01T17:01:01.787Z"
   },
   {
    "duration": 52,
    "start_time": "2022-03-01T17:01:01.821Z"
   },
   {
    "duration": 335,
    "start_time": "2022-03-01T17:01:01.875Z"
   },
   {
    "duration": 15,
    "start_time": "2022-03-01T17:01:02.212Z"
   },
   {
    "duration": 347,
    "start_time": "2022-03-01T17:01:02.231Z"
   },
   {
    "duration": 40,
    "start_time": "2022-03-01T17:01:02.587Z"
   },
   {
    "duration": 30,
    "start_time": "2022-03-01T17:01:02.629Z"
   },
   {
    "duration": 31,
    "start_time": "2022-03-01T17:01:02.662Z"
   },
   {
    "duration": 25,
    "start_time": "2022-03-01T17:01:02.695Z"
   },
   {
    "duration": 401,
    "start_time": "2022-03-01T17:01:02.722Z"
   },
   {
    "duration": 34,
    "start_time": "2022-03-01T17:01:03.126Z"
   },
   {
    "duration": 43,
    "start_time": "2022-03-01T17:01:03.162Z"
   },
   {
    "duration": 9,
    "start_time": "2022-03-01T17:01:03.208Z"
   },
   {
    "duration": 12,
    "start_time": "2022-03-01T17:07:55.407Z"
   },
   {
    "duration": 9,
    "start_time": "2022-03-01T17:10:26.575Z"
   },
   {
    "duration": 46,
    "start_time": "2022-03-01T17:32:41.135Z"
   },
   {
    "duration": 42,
    "start_time": "2022-03-01T17:33:02.417Z"
   },
   {
    "duration": 350,
    "start_time": "2022-03-01T17:38:32.886Z"
   },
   {
    "duration": 239,
    "start_time": "2022-03-01T17:39:42.565Z"
   },
   {
    "duration": 236,
    "start_time": "2022-03-01T17:50:10.626Z"
   },
   {
    "duration": 233,
    "start_time": "2022-03-01T17:56:12.497Z"
   },
   {
    "duration": 220,
    "start_time": "2022-03-01T17:56:16.301Z"
   },
   {
    "duration": 230,
    "start_time": "2022-03-01T17:56:28.460Z"
   },
   {
    "duration": 231,
    "start_time": "2022-03-01T17:56:40.881Z"
   },
   {
    "duration": 255,
    "start_time": "2022-03-01T18:04:35.111Z"
   },
   {
    "duration": 292,
    "start_time": "2022-03-01T18:05:00.295Z"
   },
   {
    "duration": 291,
    "start_time": "2022-03-01T18:07:04.285Z"
   },
   {
    "duration": 255,
    "start_time": "2022-03-01T18:07:16.732Z"
   },
   {
    "duration": 215,
    "start_time": "2022-03-01T18:12:30.675Z"
   },
   {
    "duration": 231,
    "start_time": "2022-03-01T18:17:07.613Z"
   },
   {
    "duration": 81,
    "start_time": "2022-03-01T18:21:30.110Z"
   },
   {
    "duration": 83,
    "start_time": "2022-03-01T18:22:02.134Z"
   },
   {
    "duration": 256,
    "start_time": "2022-03-01T18:23:03.475Z"
   },
   {
    "duration": 216,
    "start_time": "2022-03-01T18:24:05.225Z"
   },
   {
    "duration": 223,
    "start_time": "2022-03-01T18:25:43.473Z"
   },
   {
    "duration": 230,
    "start_time": "2022-03-01T18:25:52.977Z"
   },
   {
    "duration": 226,
    "start_time": "2022-03-01T19:04:05.738Z"
   },
   {
    "duration": 251,
    "start_time": "2022-03-01T19:04:15.551Z"
   },
   {
    "duration": 1016,
    "start_time": "2022-03-02T05:24:25.762Z"
   },
   {
    "duration": 129,
    "start_time": "2022-03-02T05:24:26.780Z"
   },
   {
    "duration": 7,
    "start_time": "2022-03-02T05:24:26.911Z"
   },
   {
    "duration": 12,
    "start_time": "2022-03-02T05:24:26.920Z"
   },
   {
    "duration": 29,
    "start_time": "2022-03-02T05:24:26.935Z"
   },
   {
    "duration": 220,
    "start_time": "2022-03-02T05:24:26.965Z"
   },
   {
    "duration": 169,
    "start_time": "2022-03-02T05:24:27.186Z"
   },
   {
    "duration": 10,
    "start_time": "2022-03-02T05:24:27.356Z"
   },
   {
    "duration": 231,
    "start_time": "2022-03-02T05:24:27.369Z"
   },
   {
    "duration": 36,
    "start_time": "2022-03-02T05:24:27.602Z"
   },
   {
    "duration": 23,
    "start_time": "2022-03-02T05:24:27.639Z"
   },
   {
    "duration": 8,
    "start_time": "2022-03-02T05:24:27.663Z"
   },
   {
    "duration": 18,
    "start_time": "2022-03-02T05:24:27.672Z"
   },
   {
    "duration": 287,
    "start_time": "2022-03-02T05:24:27.692Z"
   },
   {
    "duration": 22,
    "start_time": "2022-03-02T05:24:27.980Z"
   },
   {
    "duration": 8,
    "start_time": "2022-03-02T05:24:28.004Z"
   },
   {
    "duration": 28,
    "start_time": "2022-03-02T05:24:28.014Z"
   },
   {
    "duration": 293,
    "start_time": "2022-03-02T05:50:10.634Z"
   },
   {
    "duration": 22,
    "start_time": "2022-03-02T05:53:45.926Z"
   },
   {
    "duration": 448,
    "start_time": "2022-03-02T05:54:32.110Z"
   },
   {
    "duration": 192,
    "start_time": "2022-03-02T05:54:41.185Z"
   },
   {
    "duration": 202,
    "start_time": "2022-03-02T05:55:03.996Z"
   },
   {
    "duration": 316,
    "start_time": "2022-03-02T05:56:34.017Z"
   },
   {
    "duration": 327,
    "start_time": "2022-03-02T06:10:30.690Z"
   },
   {
    "duration": 315,
    "start_time": "2022-03-02T06:11:27.406Z"
   },
   {
    "duration": 31,
    "start_time": "2022-03-02T06:11:46.230Z"
   },
   {
    "duration": 202,
    "start_time": "2022-03-02T06:12:12.564Z"
   },
   {
    "duration": 303,
    "start_time": "2022-03-02T06:12:23.903Z"
   },
   {
    "duration": 189,
    "start_time": "2022-03-02T06:12:56.806Z"
   },
   {
    "duration": 29,
    "start_time": "2022-03-02T06:13:04.382Z"
   },
   {
    "duration": 212,
    "start_time": "2022-03-02T06:13:31.030Z"
   },
   {
    "duration": 29,
    "start_time": "2022-03-02T06:13:42.151Z"
   },
   {
    "duration": 217,
    "start_time": "2022-03-02T06:23:26.932Z"
   },
   {
    "duration": 28,
    "start_time": "2022-03-02T06:23:43.943Z"
   },
   {
    "duration": 23,
    "start_time": "2022-03-02T06:24:03.235Z"
   },
   {
    "duration": 25,
    "start_time": "2022-03-02T06:24:17.716Z"
   },
   {
    "duration": 325,
    "start_time": "2022-03-02T06:25:16.786Z"
   },
   {
    "duration": 181,
    "start_time": "2022-03-02T06:28:22.029Z"
   },
   {
    "duration": 25,
    "start_time": "2022-03-02T06:30:50.753Z"
   },
   {
    "duration": 29,
    "start_time": "2022-03-02T06:31:10.015Z"
   },
   {
    "duration": 24,
    "start_time": "2022-03-02T06:31:26.881Z"
   },
   {
    "duration": 272,
    "start_time": "2022-03-02T06:41:01.476Z"
   },
   {
    "duration": 27,
    "start_time": "2022-03-02T06:45:00.342Z"
   },
   {
    "duration": 304,
    "start_time": "2022-03-02T06:46:03.189Z"
   },
   {
    "duration": 298,
    "start_time": "2022-03-02T06:46:24.151Z"
   },
   {
    "duration": 356,
    "start_time": "2022-03-02T06:46:38.142Z"
   },
   {
    "duration": 333,
    "start_time": "2022-03-02T06:56:29.891Z"
   },
   {
    "duration": 28,
    "start_time": "2022-03-02T07:02:21.273Z"
   },
   {
    "duration": 27,
    "start_time": "2022-03-02T07:02:35.307Z"
   },
   {
    "duration": 25,
    "start_time": "2022-03-02T07:03:31.484Z"
   },
   {
    "duration": 26,
    "start_time": "2022-03-02T07:03:37.078Z"
   },
   {
    "duration": 25,
    "start_time": "2022-03-02T07:03:51.144Z"
   },
   {
    "duration": 25,
    "start_time": "2022-03-02T07:04:12.355Z"
   },
   {
    "duration": 7,
    "start_time": "2022-03-02T07:22:15.782Z"
   },
   {
    "duration": 4,
    "start_time": "2022-03-02T07:27:28.435Z"
   },
   {
    "duration": 139,
    "start_time": "2022-03-02T07:27:28.479Z"
   },
   {
    "duration": 7,
    "start_time": "2022-03-02T07:27:28.620Z"
   },
   {
    "duration": 11,
    "start_time": "2022-03-02T07:27:28.629Z"
   },
   {
    "duration": 23,
    "start_time": "2022-03-02T07:27:28.642Z"
   },
   {
    "duration": 224,
    "start_time": "2022-03-02T07:27:28.666Z"
   },
   {
    "duration": 171,
    "start_time": "2022-03-02T07:27:28.893Z"
   },
   {
    "duration": 10,
    "start_time": "2022-03-02T07:27:29.067Z"
   },
   {
    "duration": 244,
    "start_time": "2022-03-02T07:27:29.079Z"
   },
   {
    "duration": 34,
    "start_time": "2022-03-02T07:27:29.327Z"
   },
   {
    "duration": 22,
    "start_time": "2022-03-02T07:27:29.362Z"
   },
   {
    "duration": 7,
    "start_time": "2022-03-02T07:27:29.385Z"
   },
   {
    "duration": 9,
    "start_time": "2022-03-02T07:27:29.394Z"
   },
   {
    "duration": 297,
    "start_time": "2022-03-02T07:27:29.404Z"
   },
   {
    "duration": 20,
    "start_time": "2022-03-02T07:27:29.702Z"
   },
   {
    "duration": 20,
    "start_time": "2022-03-02T07:27:29.724Z"
   },
   {
    "duration": 5,
    "start_time": "2022-03-02T07:27:29.745Z"
   },
   {
    "duration": 4,
    "start_time": "2022-03-02T07:34:05.411Z"
   },
   {
    "duration": 158,
    "start_time": "2022-03-02T07:34:05.417Z"
   },
   {
    "duration": 6,
    "start_time": "2022-03-02T07:34:05.577Z"
   },
   {
    "duration": 13,
    "start_time": "2022-03-02T07:34:05.584Z"
   },
   {
    "duration": 27,
    "start_time": "2022-03-02T07:34:05.599Z"
   },
   {
    "duration": 229,
    "start_time": "2022-03-02T07:34:05.628Z"
   },
   {
    "duration": 181,
    "start_time": "2022-03-02T07:34:05.858Z"
   },
   {
    "duration": 10,
    "start_time": "2022-03-02T07:34:06.041Z"
   },
   {
    "duration": 245,
    "start_time": "2022-03-02T07:34:06.053Z"
   },
   {
    "duration": 38,
    "start_time": "2022-03-02T07:34:06.300Z"
   },
   {
    "duration": 24,
    "start_time": "2022-03-02T07:34:06.340Z"
   },
   {
    "duration": 7,
    "start_time": "2022-03-02T07:34:06.365Z"
   },
   {
    "duration": 11,
    "start_time": "2022-03-02T07:34:06.374Z"
   },
   {
    "duration": 328,
    "start_time": "2022-03-02T07:34:06.386Z"
   },
   {
    "duration": 38,
    "start_time": "2022-03-02T07:34:06.715Z"
   },
   {
    "duration": 10,
    "start_time": "2022-03-02T07:34:06.755Z"
   },
   {
    "duration": 8,
    "start_time": "2022-03-02T07:34:06.766Z"
   },
   {
    "duration": 4,
    "start_time": "2022-03-02T07:40:23.197Z"
   },
   {
    "duration": 136,
    "start_time": "2022-03-02T07:40:23.242Z"
   },
   {
    "duration": 6,
    "start_time": "2022-03-02T07:40:23.380Z"
   },
   {
    "duration": 14,
    "start_time": "2022-03-02T07:40:23.389Z"
   },
   {
    "duration": 30,
    "start_time": "2022-03-02T07:40:23.406Z"
   },
   {
    "duration": 244,
    "start_time": "2022-03-02T07:40:23.438Z"
   },
   {
    "duration": 193,
    "start_time": "2022-03-02T07:40:23.684Z"
   },
   {
    "duration": 14,
    "start_time": "2022-03-02T07:40:23.879Z"
   },
   {
    "duration": 263,
    "start_time": "2022-03-02T07:40:23.895Z"
   },
   {
    "duration": 29,
    "start_time": "2022-03-02T07:40:24.161Z"
   },
   {
    "duration": 22,
    "start_time": "2022-03-02T07:40:24.192Z"
   },
   {
    "duration": 11,
    "start_time": "2022-03-02T07:40:24.237Z"
   },
   {
    "duration": 13,
    "start_time": "2022-03-02T07:40:24.250Z"
   },
   {
    "duration": 344,
    "start_time": "2022-03-02T07:40:24.265Z"
   },
   {
    "duration": 41,
    "start_time": "2022-03-02T07:40:24.611Z"
   },
   {
    "duration": 9,
    "start_time": "2022-03-02T07:40:24.654Z"
   },
   {
    "duration": 8,
    "start_time": "2022-03-02T07:40:24.665Z"
   },
   {
    "duration": 1396,
    "start_time": "2022-03-03T07:22:57.730Z"
   },
   {
    "duration": 181,
    "start_time": "2022-03-03T07:22:59.130Z"
   },
   {
    "duration": 12,
    "start_time": "2022-03-03T07:22:59.315Z"
   },
   {
    "duration": 20,
    "start_time": "2022-03-03T07:22:59.330Z"
   },
   {
    "duration": 57,
    "start_time": "2022-03-03T07:22:59.353Z"
   },
   {
    "duration": 367,
    "start_time": "2022-03-03T07:22:59.413Z"
   },
   {
    "duration": 266,
    "start_time": "2022-03-03T07:22:59.783Z"
   },
   {
    "duration": 26,
    "start_time": "2022-03-03T07:23:00.054Z"
   },
   {
    "duration": 365,
    "start_time": "2022-03-03T07:23:00.084Z"
   },
   {
    "duration": 57,
    "start_time": "2022-03-03T07:23:00.452Z"
   },
   {
    "duration": 32,
    "start_time": "2022-03-03T07:23:00.512Z"
   },
   {
    "duration": 36,
    "start_time": "2022-03-03T07:23:00.547Z"
   },
   {
    "duration": 16,
    "start_time": "2022-03-03T07:23:00.585Z"
   },
   {
    "duration": 479,
    "start_time": "2022-03-03T07:23:00.604Z"
   },
   {
    "duration": 41,
    "start_time": "2022-03-03T07:23:01.086Z"
   },
   {
    "duration": 12,
    "start_time": "2022-03-03T07:23:01.129Z"
   },
   {
    "duration": 39,
    "start_time": "2022-03-03T07:23:01.144Z"
   },
   {
    "duration": 39,
    "start_time": "2022-03-03T07:23:37.133Z"
   },
   {
    "duration": 40,
    "start_time": "2022-03-03T07:24:32.203Z"
   },
   {
    "duration": 534,
    "start_time": "2022-03-03T07:54:25.443Z"
   },
   {
    "duration": 539,
    "start_time": "2022-03-03T07:55:11.935Z"
   },
   {
    "duration": 567,
    "start_time": "2022-03-03T08:53:02.127Z"
   },
   {
    "duration": 555,
    "start_time": "2022-03-03T09:31:14.195Z"
   },
   {
    "duration": 542,
    "start_time": "2022-03-03T09:31:23.227Z"
   },
   {
    "duration": 567,
    "start_time": "2022-03-03T09:31:31.006Z"
   },
   {
    "duration": 561,
    "start_time": "2022-03-03T09:46:35.180Z"
   },
   {
    "duration": 43,
    "start_time": "2022-03-03T09:48:44.833Z"
   },
   {
    "duration": 396,
    "start_time": "2022-03-03T09:52:48.675Z"
   },
   {
    "duration": 275,
    "start_time": "2022-03-03T09:54:01.691Z"
   },
   {
    "duration": 32,
    "start_time": "2022-03-03T09:54:11.919Z"
   },
   {
    "duration": 309,
    "start_time": "2022-03-03T12:31:56.988Z"
   },
   {
    "duration": 1351,
    "start_time": "2022-03-03T12:32:06.828Z"
   },
   {
    "duration": 180,
    "start_time": "2022-03-03T12:32:08.183Z"
   },
   {
    "duration": 9,
    "start_time": "2022-03-03T12:32:08.367Z"
   },
   {
    "duration": 20,
    "start_time": "2022-03-03T12:32:08.379Z"
   },
   {
    "duration": 69,
    "start_time": "2022-03-03T12:32:08.402Z"
   },
   {
    "duration": 345,
    "start_time": "2022-03-03T12:32:08.474Z"
   },
   {
    "duration": 248,
    "start_time": "2022-03-03T12:32:08.822Z"
   },
   {
    "duration": 16,
    "start_time": "2022-03-03T12:32:09.072Z"
   },
   {
    "duration": 573,
    "start_time": "2022-03-03T12:32:09.091Z"
   },
   {
    "duration": 65,
    "start_time": "2022-03-03T12:32:09.667Z"
   },
   {
    "duration": 30,
    "start_time": "2022-03-03T12:32:09.751Z"
   },
   {
    "duration": 10,
    "start_time": "2022-03-03T12:32:09.784Z"
   },
   {
    "duration": 15,
    "start_time": "2022-03-03T12:32:09.796Z"
   },
   {
    "duration": 457,
    "start_time": "2022-03-03T12:32:09.813Z"
   },
   {
    "duration": 42,
    "start_time": "2022-03-03T12:32:10.272Z"
   },
   {
    "duration": 11,
    "start_time": "2022-03-03T12:32:10.316Z"
   },
   {
    "duration": 32,
    "start_time": "2022-03-03T12:32:10.329Z"
   },
   {
    "duration": 25,
    "start_time": "2022-03-03T12:36:28.701Z"
   },
   {
    "duration": 12,
    "start_time": "2022-03-03T13:35:40.227Z"
   },
   {
    "duration": 12,
    "start_time": "2022-03-03T13:36:12.063Z"
   },
   {
    "duration": 351,
    "start_time": "2022-03-04T10:50:40.539Z"
   },
   {
    "duration": 283,
    "start_time": "2022-03-04T10:55:28.379Z"
   },
   {
    "duration": 1020,
    "start_time": "2022-03-04T10:55:41.995Z"
   },
   {
    "duration": 225,
    "start_time": "2022-03-04T10:55:43.017Z"
   },
   {
    "duration": 6,
    "start_time": "2022-03-04T10:55:43.244Z"
   },
   {
    "duration": 20,
    "start_time": "2022-03-04T10:55:43.252Z"
   },
   {
    "duration": 23,
    "start_time": "2022-03-04T10:55:43.273Z"
   },
   {
    "duration": 202,
    "start_time": "2022-03-04T10:55:43.297Z"
   },
   {
    "duration": 8182,
    "start_time": "2022-03-04T10:55:43.501Z"
   },
   {
    "duration": 252,
    "start_time": "2022-03-04T10:55:51.685Z"
   },
   {
    "duration": 9,
    "start_time": "2022-03-04T10:55:51.939Z"
   },
   {
    "duration": 360,
    "start_time": "2022-03-04T10:55:51.950Z"
   },
   {
    "duration": 14,
    "start_time": "2022-03-04T10:55:52.312Z"
   },
   {
    "duration": 6,
    "start_time": "2022-03-04T10:55:52.328Z"
   },
   {
    "duration": 14,
    "start_time": "2022-03-04T10:55:52.335Z"
   },
   {
    "duration": 274,
    "start_time": "2022-03-04T10:55:52.350Z"
   },
   {
    "duration": 24,
    "start_time": "2022-03-04T10:55:52.625Z"
   },
   {
    "duration": 7,
    "start_time": "2022-03-04T10:55:52.650Z"
   },
   {
    "duration": 8,
    "start_time": "2022-03-04T10:55:52.658Z"
   },
   {
    "duration": 7983,
    "start_time": "2022-03-04T11:18:35.504Z"
   },
   {
    "duration": 3356,
    "start_time": "2022-03-04T11:28:15.185Z"
   },
   {
    "duration": 137,
    "start_time": "2022-03-04T11:44:50.595Z"
   },
   {
    "duration": 5471,
    "start_time": "2022-03-04T13:29:25.361Z"
   },
   {
    "duration": 12475,
    "start_time": "2022-03-04T13:29:39.951Z"
   },
   {
    "duration": 36318,
    "start_time": "2022-03-04T13:30:03.844Z"
   },
   {
    "duration": 342,
    "start_time": "2022-03-04T13:33:22.773Z"
   },
   {
    "duration": 15,
    "start_time": "2022-03-04T13:33:26.288Z"
   },
   {
    "duration": 7,
    "start_time": "2022-03-04T13:49:11.069Z"
   },
   {
    "duration": 15,
    "start_time": "2022-03-04T13:52:37.527Z"
   },
   {
    "duration": 14,
    "start_time": "2022-03-04T13:52:49.172Z"
   },
   {
    "duration": 489,
    "start_time": "2022-03-04T14:42:44.776Z"
   },
   {
    "duration": 8,
    "start_time": "2022-03-04T14:42:52.414Z"
   },
   {
    "duration": 8,
    "start_time": "2022-03-04T14:51:00.437Z"
   },
   {
    "duration": 473,
    "start_time": "2022-03-04T14:51:38.012Z"
   },
   {
    "duration": 1628,
    "start_time": "2022-03-04T14:51:54.524Z"
   },
   {
    "duration": 443,
    "start_time": "2022-03-04T14:52:23.330Z"
   },
   {
    "duration": 8,
    "start_time": "2022-03-04T14:52:44.529Z"
   },
   {
    "duration": 298,
    "start_time": "2022-03-05T07:54:43.911Z"
   },
   {
    "duration": 80,
    "start_time": "2022-03-05T08:08:54.831Z"
   },
   {
    "duration": 236,
    "start_time": "2022-03-05T08:09:07.771Z"
   },
   {
    "duration": 1301,
    "start_time": "2022-03-05T08:09:15.814Z"
   },
   {
    "duration": 185,
    "start_time": "2022-03-05T08:09:17.118Z"
   },
   {
    "duration": 11,
    "start_time": "2022-03-05T08:09:17.308Z"
   },
   {
    "duration": 19,
    "start_time": "2022-03-05T08:09:17.323Z"
   },
   {
    "duration": 67,
    "start_time": "2022-03-05T08:09:17.345Z"
   },
   {
    "duration": 330,
    "start_time": "2022-03-05T08:09:17.415Z"
   },
   {
    "duration": 59274,
    "start_time": "2022-03-05T08:09:17.747Z"
   },
   {
    "duration": 16,
    "start_time": "2022-03-05T08:10:17.024Z"
   },
   {
    "duration": 555,
    "start_time": "2022-03-05T08:10:17.044Z"
   },
   {
    "duration": 21,
    "start_time": "2022-03-05T08:10:17.601Z"
   },
   {
    "duration": 10,
    "start_time": "2022-03-05T08:10:17.625Z"
   },
   {
    "duration": 46,
    "start_time": "2022-03-05T08:10:17.638Z"
   },
   {
    "duration": 406,
    "start_time": "2022-03-05T08:10:17.686Z"
   },
   {
    "duration": 33,
    "start_time": "2022-03-05T08:10:18.094Z"
   },
   {
    "duration": 12,
    "start_time": "2022-03-05T08:10:18.129Z"
   },
   {
    "duration": 41,
    "start_time": "2022-03-05T08:10:18.143Z"
   },
   {
    "duration": 35,
    "start_time": "2022-03-05T08:10:18.234Z"
   },
   {
    "duration": 1429,
    "start_time": "2022-03-07T21:15:01.130Z"
   },
   {
    "duration": 259,
    "start_time": "2022-03-07T21:15:02.562Z"
   },
   {
    "duration": 10,
    "start_time": "2022-03-07T21:15:02.824Z"
   },
   {
    "duration": 20,
    "start_time": "2022-03-07T21:15:02.837Z"
   },
   {
    "duration": 45,
    "start_time": "2022-03-07T21:15:02.860Z"
   },
   {
    "duration": 360,
    "start_time": "2022-03-07T21:15:02.908Z"
   },
   {
    "duration": 63517,
    "start_time": "2022-03-07T21:15:03.274Z"
   },
   {
    "duration": 17,
    "start_time": "2022-03-07T21:16:06.794Z"
   },
   {
    "duration": 677,
    "start_time": "2022-03-07T21:16:06.814Z"
   },
   {
    "duration": 30,
    "start_time": "2022-03-07T21:16:07.493Z"
   },
   {
    "duration": 14,
    "start_time": "2022-03-07T21:16:07.526Z"
   },
   {
    "duration": 46,
    "start_time": "2022-03-07T21:16:07.542Z"
   },
   {
    "duration": 479,
    "start_time": "2022-03-07T21:16:07.590Z"
   },
   {
    "duration": 33,
    "start_time": "2022-03-07T21:16:08.073Z"
   },
   {
    "duration": 48,
    "start_time": "2022-03-07T21:16:08.127Z"
   },
   {
    "duration": 13,
    "start_time": "2022-03-07T21:16:08.214Z"
   }
  ],
  "kernelspec": {
   "display_name": "Python 3",
   "language": "python",
   "name": "python3"
  },
  "language_info": {
   "codemirror_mode": {
    "name": "ipython",
    "version": 3
   },
   "file_extension": ".py",
   "mimetype": "text/x-python",
   "name": "python",
   "nbconvert_exporter": "python",
   "pygments_lexer": "ipython3",
   "version": "3.7.8"
  },
  "toc": {
   "base_numbering": 1,
   "nav_menu": {},
   "number_sections": true,
   "sideBar": true,
   "skip_h1_title": true,
   "title_cell": "Table of Contents",
   "title_sidebar": "Contents",
   "toc_cell": false,
   "toc_position": {},
   "toc_section_display": true,
   "toc_window_display": false
  }
 },
 "nbformat": 4,
 "nbformat_minor": 5
}
