{
 "cells": [
  {
   "cell_type": "markdown",
   "metadata": {
    "toc": true
   },
   "source": [
    "<h1>Содержание<span class=\"tocSkip\"></span></h1>\n",
    "<div class=\"toc\"><ul class=\"toc-item\"><li><span><a href=\"#Подготовка\" data-toc-modified-id=\"Подготовка-1\"><span class=\"toc-item-num\">1&nbsp;&nbsp;</span>Подготовка</a></span><ul class=\"toc-item\"><li><span><a href=\"#Импорты\" data-toc-modified-id=\"Импорты-1.1\"><span class=\"toc-item-num\">1.1&nbsp;&nbsp;</span>Импорты</a></span></li><li><span><a href=\"#Открытие-и-изучение-файла\" data-toc-modified-id=\"Открытие-и-изучение-файла-1.2\"><span class=\"toc-item-num\">1.2&nbsp;&nbsp;</span>Открытие и изучение файла</a></span></li><li><span><a href=\"#Предобработка-текста\" data-toc-modified-id=\"Предобработка-текста-1.3\"><span class=\"toc-item-num\">1.3&nbsp;&nbsp;</span>Предобработка текста</a></span></li><li><span><a href=\"#Подготовка-к-обучению\" data-toc-modified-id=\"Подготовка-к-обучению-1.4\"><span class=\"toc-item-num\">1.4&nbsp;&nbsp;</span>Подготовка к обучению</a></span><ul class=\"toc-item\"><li><span><a href=\"#Дисбаланс-классов\" data-toc-modified-id=\"Дисбаланс-классов-1.4.1\"><span class=\"toc-item-num\">1.4.1&nbsp;&nbsp;</span>Дисбаланс классов</a></span></li><li><span><a href=\"#Разделение-выборок\" data-toc-modified-id=\"Разделение-выборок-1.4.2\"><span class=\"toc-item-num\">1.4.2&nbsp;&nbsp;</span>Разделение выборок</a></span></li><li><span><a href=\"#Подготовка-к-увеличению-выборки.\" data-toc-modified-id=\"Подготовка-к-увеличению-выборки.-1.4.3\"><span class=\"toc-item-num\">1.4.3&nbsp;&nbsp;</span>Подготовка к увеличению выборки.</a></span></li></ul></li></ul></li><li><span><a href=\"#Обучение\" data-toc-modified-id=\"Обучение-2\"><span class=\"toc-item-num\">2&nbsp;&nbsp;</span>Обучение</a></span><ul class=\"toc-item\"><li><span><a href=\"#Логистическая-регрессия\" data-toc-modified-id=\"Логистическая-регрессия-2.1\"><span class=\"toc-item-num\">2.1&nbsp;&nbsp;</span>Логистическая регрессия</a></span></li><li><span><a href=\"#LGBM\" data-toc-modified-id=\"LGBM-2.2\"><span class=\"toc-item-num\">2.2&nbsp;&nbsp;</span>LGBM</a></span></li><li><span><a href=\"#Случайный-лес\" data-toc-modified-id=\"Случайный-лес-2.3\"><span class=\"toc-item-num\">2.3&nbsp;&nbsp;</span>Случайный лес</a></span></li><li><span><a href=\"#Анализ-моделей\" data-toc-modified-id=\"Анализ-моделей-2.4\"><span class=\"toc-item-num\">2.4&nbsp;&nbsp;</span>Анализ моделей</a></span><ul class=\"toc-item\"><li><span><a href=\"#Логистическая-регрессия\" data-toc-modified-id=\"Логистическая-регрессия-2.4.1\"><span class=\"toc-item-num\">2.4.1&nbsp;&nbsp;</span>Логистическая регрессия</a></span></li><li><span><a href=\"#LGBM\" data-toc-modified-id=\"LGBM-2.4.2\"><span class=\"toc-item-num\">2.4.2&nbsp;&nbsp;</span>LGBM</a></span></li><li><span><a href=\"#Случайный-лес\" data-toc-modified-id=\"Случайный-лес-2.4.3\"><span class=\"toc-item-num\">2.4.3&nbsp;&nbsp;</span>Случайный лес</a></span></li><li><span><a href=\"#Наивная-моель\" data-toc-modified-id=\"Наивная-моель-2.4.4\"><span class=\"toc-item-num\">2.4.4&nbsp;&nbsp;</span>Наивная моель</a></span></li></ul></li></ul></li><li><span><a href=\"#Выводы\" data-toc-modified-id=\"Выводы-3\"><span class=\"toc-item-num\">3&nbsp;&nbsp;</span>Выводы</a></span></li><li><span><a href=\"#Чек-лист-проверки\" data-toc-modified-id=\"Чек-лист-проверки-4\"><span class=\"toc-item-num\">4&nbsp;&nbsp;</span>Чек-лист проверки</a></span></li></ul></div>"
   ]
  },
  {
   "cell_type": "markdown",
   "metadata": {},
   "source": [
    "# Проект для «Викишоп»"
   ]
  },
  {
   "cell_type": "markdown",
   "metadata": {},
   "source": [
    "Изучим данные, представленные сервисом."
   ]
  },
  {
   "cell_type": "markdown",
   "metadata": {},
   "source": [
    "## Подготовка"
   ]
  },
  {
   "cell_type": "markdown",
   "metadata": {},
   "source": [
    "### Импорты"
   ]
  },
  {
   "cell_type": "code",
   "execution_count": 16,
   "metadata": {},
   "outputs": [
    {
     "name": "stderr",
     "output_type": "stream",
     "text": [
      "[nltk_data] Downloading package stopwords to /home/jovyan/nltk_data...\n",
      "[nltk_data]   Package stopwords is already up-to-date!\n",
      "[nltk_data] Downloading package wordnet to /home/jovyan/nltk_data...\n",
      "[nltk_data]   Package wordnet is already up-to-date!\n"
     ]
    }
   ],
   "source": [
    "# импортируем необходимые библиотеки \n",
    "import pandas as pd\n",
    "import numpy as np\n",
    "import nltk\n",
    "nltk.download('stopwords')\n",
    "nltk.download('wordnet') \n",
    "from nltk.stem import WordNetLemmatizer\n",
    "from nltk.corpus import stopwords \n",
    "from sklearn.metrics import f1_score\n",
    "from sklearn.model_selection import train_test_split\n",
    "from sklearn.feature_extraction.text import TfidfVectorizer \n",
    "from sklearn.model_selection import GridSearchCV\n",
    "from sklearn.linear_model import LogisticRegression\n",
    "from lightgbm import LGBMClassifier\n",
    "from sklearn.ensemble import RandomForestClassifier\n",
    "from sklearn.utils import shuffle\n",
    "from sklearn.dummy import DummyClassifier\n",
    "\n",
    "import warnings\n",
    "warnings.filterwarnings('ignore')"
   ]
  },
  {
   "cell_type": "markdown",
   "metadata": {},
   "source": [
    "### Открытие и изучение файла"
   ]
  },
  {
   "cell_type": "code",
   "execution_count": 17,
   "metadata": {},
   "outputs": [
    {
     "data": {
      "text/html": [
       "<div>\n",
       "<style scoped>\n",
       "    .dataframe tbody tr th:only-of-type {\n",
       "        vertical-align: middle;\n",
       "    }\n",
       "\n",
       "    .dataframe tbody tr th {\n",
       "        vertical-align: top;\n",
       "    }\n",
       "\n",
       "    .dataframe thead th {\n",
       "        text-align: right;\n",
       "    }\n",
       "</style>\n",
       "<table border=\"1\" class=\"dataframe\">\n",
       "  <thead>\n",
       "    <tr style=\"text-align: right;\">\n",
       "      <th></th>\n",
       "      <th>text</th>\n",
       "      <th>toxic</th>\n",
       "    </tr>\n",
       "  </thead>\n",
       "  <tbody>\n",
       "    <tr>\n",
       "      <th>0</th>\n",
       "      <td>Explanation\\nWhy the edits made under my usern...</td>\n",
       "      <td>0</td>\n",
       "    </tr>\n",
       "    <tr>\n",
       "      <th>1</th>\n",
       "      <td>D'aww! He matches this background colour I'm s...</td>\n",
       "      <td>0</td>\n",
       "    </tr>\n",
       "    <tr>\n",
       "      <th>2</th>\n",
       "      <td>Hey man, I'm really not trying to edit war. It...</td>\n",
       "      <td>0</td>\n",
       "    </tr>\n",
       "    <tr>\n",
       "      <th>3</th>\n",
       "      <td>\"\\nMore\\nI can't make any real suggestions on ...</td>\n",
       "      <td>0</td>\n",
       "    </tr>\n",
       "    <tr>\n",
       "      <th>4</th>\n",
       "      <td>You, sir, are my hero. Any chance you remember...</td>\n",
       "      <td>0</td>\n",
       "    </tr>\n",
       "  </tbody>\n",
       "</table>\n",
       "</div>"
      ],
      "text/plain": [
       "                                                text  toxic\n",
       "0  Explanation\\nWhy the edits made under my usern...      0\n",
       "1  D'aww! He matches this background colour I'm s...      0\n",
       "2  Hey man, I'm really not trying to edit war. It...      0\n",
       "3  \"\\nMore\\nI can't make any real suggestions on ...      0\n",
       "4  You, sir, are my hero. Any chance you remember...      0"
      ]
     },
     "metadata": {},
     "output_type": "display_data"
    },
    {
     "name": "stdout",
     "output_type": "stream",
     "text": [
      "<class 'pandas.core.frame.DataFrame'>\n",
      "RangeIndex: 159571 entries, 0 to 159570\n",
      "Data columns (total 2 columns):\n",
      " #   Column  Non-Null Count   Dtype \n",
      "---  ------  --------------   ----- \n",
      " 0   text    159571 non-null  object\n",
      " 1   toxic   159571 non-null  int64 \n",
      "dtypes: int64(1), object(1)\n",
      "memory usage: 2.4+ MB\n"
     ]
    },
    {
     "data": {
      "text/plain": [
       "None"
      ]
     },
     "metadata": {},
     "output_type": "display_data"
    },
    {
     "data": {
      "text/plain": [
       "text     0\n",
       "toxic    0\n",
       "dtype: int64"
      ]
     },
     "metadata": {},
     "output_type": "display_data"
    },
    {
     "data": {
      "text/plain": [
       "0"
      ]
     },
     "metadata": {},
     "output_type": "display_data"
    },
    {
     "data": {
      "text/plain": [
       "None"
      ]
     },
     "metadata": {},
     "output_type": "display_data"
    }
   ],
   "source": [
    "# сохраним датасет и посмотрим всю информацию о нём \n",
    "df = pd.read_csv('/datasets/toxic_comments.csv') \n",
    "\n",
    "def info_df(df):  \n",
    "    display(df.head()) #первые пять строк \n",
    "    display(df.info()) #общую информацию \n",
    "    display(df.isna().sum()) #пропуски \n",
    "    display(df.duplicated().sum()) #дубликаты \n",
    "                     \n",
    "display(info_df(df)) "
   ]
  },
  {
   "cell_type": "markdown",
   "metadata": {},
   "source": [
    "Датасет представлен достаточно большой, пропусков и дубликатов нет. Синтаксических и стилистических нарушений в наименовании столбцов нет. "
   ]
  },
  {
   "cell_type": "markdown",
   "metadata": {},
   "source": [
    "### Предобработка текста"
   ]
  },
  {
   "cell_type": "markdown",
   "metadata": {},
   "source": [
    "Токенизируем, удалим стоп-слова и лемматизируем твиты."
   ]
  },
  {
   "cell_type": "code",
   "execution_count": 18,
   "metadata": {},
   "outputs": [
    {
     "data": {
      "text/html": [
       "<div>\n",
       "<style scoped>\n",
       "    .dataframe tbody tr th:only-of-type {\n",
       "        vertical-align: middle;\n",
       "    }\n",
       "\n",
       "    .dataframe tbody tr th {\n",
       "        vertical-align: top;\n",
       "    }\n",
       "\n",
       "    .dataframe thead th {\n",
       "        text-align: right;\n",
       "    }\n",
       "</style>\n",
       "<table border=\"1\" class=\"dataframe\">\n",
       "  <thead>\n",
       "    <tr style=\"text-align: right;\">\n",
       "      <th></th>\n",
       "      <th>text</th>\n",
       "      <th>toxic</th>\n",
       "      <th>tokens</th>\n",
       "      <th>wo_stopwords</th>\n",
       "      <th>lemmas</th>\n",
       "    </tr>\n",
       "  </thead>\n",
       "  <tbody>\n",
       "    <tr>\n",
       "      <th>0</th>\n",
       "      <td>Explanation\\nWhy the edits made under my usern...</td>\n",
       "      <td>0</td>\n",
       "      <td>[explanation, why, the, edits, made, under, my...</td>\n",
       "      <td>[explanation, edits, made, username, hardcore,...</td>\n",
       "      <td>explanation edits made username hardcore metal...</td>\n",
       "    </tr>\n",
       "    <tr>\n",
       "      <th>1</th>\n",
       "      <td>D'aww! He matches this background colour I'm s...</td>\n",
       "      <td>0</td>\n",
       "      <td>[d, aww, he, matches, this, background, colour...</td>\n",
       "      <td>[aww, matches, background, colour, seemingly, ...</td>\n",
       "      <td>aww match background colour seemingly stuck th...</td>\n",
       "    </tr>\n",
       "    <tr>\n",
       "      <th>2</th>\n",
       "      <td>Hey man, I'm really not trying to edit war. It...</td>\n",
       "      <td>0</td>\n",
       "      <td>[hey, man, i, m, really, not, trying, to, edit...</td>\n",
       "      <td>[hey, man, really, trying, edit, war, guy, con...</td>\n",
       "      <td>hey man really trying edit war guy constantly ...</td>\n",
       "    </tr>\n",
       "    <tr>\n",
       "      <th>3</th>\n",
       "      <td>\"\\nMore\\nI can't make any real suggestions on ...</td>\n",
       "      <td>0</td>\n",
       "      <td>[more, i, can, t, make, any, real, suggestions...</td>\n",
       "      <td>[make, real, suggestions, improvement, wondere...</td>\n",
       "      <td>make real suggestion improvement wondered sect...</td>\n",
       "    </tr>\n",
       "    <tr>\n",
       "      <th>4</th>\n",
       "      <td>You, sir, are my hero. Any chance you remember...</td>\n",
       "      <td>0</td>\n",
       "      <td>[you, sir, are, my, hero, any, chance, you, re...</td>\n",
       "      <td>[sir, hero, chance, remember, page]</td>\n",
       "      <td>sir hero chance remember page</td>\n",
       "    </tr>\n",
       "  </tbody>\n",
       "</table>\n",
       "</div>"
      ],
      "text/plain": [
       "                                                text  toxic  \\\n",
       "0  Explanation\\nWhy the edits made under my usern...      0   \n",
       "1  D'aww! He matches this background colour I'm s...      0   \n",
       "2  Hey man, I'm really not trying to edit war. It...      0   \n",
       "3  \"\\nMore\\nI can't make any real suggestions on ...      0   \n",
       "4  You, sir, are my hero. Any chance you remember...      0   \n",
       "\n",
       "                                              tokens  \\\n",
       "0  [explanation, why, the, edits, made, under, my...   \n",
       "1  [d, aww, he, matches, this, background, colour...   \n",
       "2  [hey, man, i, m, really, not, trying, to, edit...   \n",
       "3  [more, i, can, t, make, any, real, suggestions...   \n",
       "4  [you, sir, are, my, hero, any, chance, you, re...   \n",
       "\n",
       "                                        wo_stopwords  \\\n",
       "0  [explanation, edits, made, username, hardcore,...   \n",
       "1  [aww, matches, background, colour, seemingly, ...   \n",
       "2  [hey, man, really, trying, edit, war, guy, con...   \n",
       "3  [make, real, suggestions, improvement, wondere...   \n",
       "4                [sir, hero, chance, remember, page]   \n",
       "\n",
       "                                              lemmas  \n",
       "0  explanation edits made username hardcore metal...  \n",
       "1  aww match background colour seemingly stuck th...  \n",
       "2  hey man really trying edit war guy constantly ...  \n",
       "3  make real suggestion improvement wondered sect...  \n",
       "4                      sir hero chance remember page  "
      ]
     },
     "execution_count": 18,
     "metadata": {},
     "output_type": "execute_result"
    }
   ],
   "source": [
    "corpus = df['text']\n",
    "\n",
    "def tokenize(comment):\n",
    "    tokenizer = nltk.RegexpTokenizer(r\"\\w+\")\n",
    "    tokens = tokenizer.tokenize(comment)\n",
    "    return tokens\n",
    "\n",
    "df['tokens'] = corpus.apply(lambda x: tokenize(x.lower()))\n",
    "\n",
    "\n",
    "stop_words = set(stopwords.words('english')) \n",
    "\n",
    "def remove_stop_words(tokens):\n",
    "    filtered_comment = [w for w in tokens if not w in stop_words]\n",
    "    return filtered_comment\n",
    "\n",
    "df['wo_stopwords'] = df['tokens'].apply(lambda x: remove_stop_words(x))\n",
    "\n",
    "\n",
    "def lemmatize(tokens):\n",
    "    wnl = WordNetLemmatizer()\n",
    "    lemmas = [wnl.lemmatize(word) for word in tokens]\n",
    "    return lemmas\n",
    "\n",
    "df['lemmas'] = df['wo_stopwords'].apply(lambda x: ' '.join(lemmatize(x)))\n",
    "#то есть не работаем со списками и только потом к строке приводим (' '.join)\n",
    "\n",
    "df.head()"
   ]
  },
  {
   "cell_type": "markdown",
   "metadata": {},
   "source": [
    "Комментарии в датасете были разбиты на токены, очищены от стоп-слов и приведены к леммам."
   ]
  },
  {
   "cell_type": "code",
   "execution_count": 19,
   "metadata": {},
   "outputs": [
    {
     "name": "stdout",
     "output_type": "stream",
     "text": [
      "<class 'pandas.core.frame.DataFrame'>\n",
      "RangeIndex: 159571 entries, 0 to 159570\n",
      "Data columns (total 5 columns):\n",
      " #   Column        Non-Null Count   Dtype \n",
      "---  ------        --------------   ----- \n",
      " 0   text          159571 non-null  object\n",
      " 1   toxic         159571 non-null  int64 \n",
      " 2   tokens        159571 non-null  object\n",
      " 3   wo_stopwords  159571 non-null  object\n",
      " 4   lemmas        159571 non-null  object\n",
      "dtypes: int64(1), object(4)\n",
      "memory usage: 6.1+ MB\n"
     ]
    }
   ],
   "source": [
    "df.info()"
   ]
  },
  {
   "cell_type": "markdown",
   "metadata": {},
   "source": [
    "### Подготовка к обучению"
   ]
  },
  {
   "cell_type": "markdown",
   "metadata": {},
   "source": [
    "#### Дисбаланс классов"
   ]
  },
  {
   "cell_type": "markdown",
   "metadata": {},
   "source": [
    "Теперь посмотрим на баланс классов, это наш целевой признак."
   ]
  },
  {
   "cell_type": "code",
   "execution_count": 20,
   "metadata": {},
   "outputs": [
    {
     "name": "stdout",
     "output_type": "stream",
     "text": [
      "0    0.898321\n",
      "1    0.101679\n",
      "Name: toxic, dtype: float64\n"
     ]
    },
    {
     "data": {
      "text/plain": [
       "<AxesSubplot:>"
      ]
     },
     "execution_count": 20,
     "metadata": {},
     "output_type": "execute_result"
    },
    {
     "data": {
      "image/png": "[encoded data removed]",
      "text/plain": [
       "<Figure size 432x288 with 1 Axes>"
      ]
     },
     "metadata": {
      "needs_background": "light"
     },
     "output_type": "display_data"
    }
   ],
   "source": [
    "class_frequency = df['toxic'].value_counts(normalize=True)\n",
    "print(class_frequency)\n",
    "class_frequency.plot(kind='bar')"
   ]
  },
  {
   "cell_type": "markdown",
   "metadata": {},
   "source": [
    "Виден явный дисбаланс классов. Его будем устранять."
   ]
  },
  {
   "cell_type": "markdown",
   "metadata": {},
   "source": [
    "#### Разделение выборок"
   ]
  },
  {
   "cell_type": "code",
   "execution_count": 21,
   "metadata": {},
   "outputs": [
    {
     "name": "stdout",
     "output_type": "stream",
     "text": [
      "(95742,)\n",
      "(95742,)\n",
      "(63829,)\n",
      "(63829,)\n"
     ]
    },
    {
     "data": {
      "text/plain": [
       "None"
      ]
     },
     "metadata": {},
     "output_type": "display_data"
    }
   ],
   "source": [
    "features = df['lemmas']\n",
    "target = df['toxic']\n",
    "\n",
    "features_train, features_test, target_train, target_test = train_test_split(\n",
    "features, target, test_size=0.4, stratify=target, random_state=12345) # разделили выборки в пропорции 4 к 10\n",
    "\n",
    "#посмотрим на размер новых даатасетов\n",
    "def info_df(features_train, target_train, features_test, target_test): #на вход функция принимает все датасеты сразу\n",
    "    df_all = [features_train, target_train, features_test, target_test]\n",
    "    for i in df_all:\n",
    "        print(i.shape)\n",
    "                    \n",
    "display(info_df(features_train, target_train, features_test, target_test))"
   ]
  },
  {
   "cell_type": "markdown",
   "metadata": {},
   "source": []
  },
  {
   "cell_type": "markdown",
   "metadata": {},
   "source": [
    "#### Подготовка к увеличению выборки."
   ]
  },
  {
   "cell_type": "code",
   "execution_count": 22,
   "metadata": {},
   "outputs": [
    {
     "data": {
      "text/plain": [
       "(86007,)"
      ]
     },
     "metadata": {},
     "output_type": "display_data"
    },
    {
     "data": {
      "text/plain": [
       "(9735,)"
      ]
     },
     "metadata": {},
     "output_type": "display_data"
    },
    {
     "data": {
      "text/plain": [
       "(86007,)"
      ]
     },
     "metadata": {},
     "output_type": "display_data"
    },
    {
     "data": {
      "text/plain": [
       "(9735,)"
      ]
     },
     "metadata": {},
     "output_type": "display_data"
    }
   ],
   "source": [
    "features_zeros = features_train[target_train == 0]  \n",
    "\n",
    "features_ones = features_train[target_train == 1]  \n",
    "\n",
    "target_zeros = target_train[target_train == 0]  \n",
    "\n",
    "target_ones = target_train[target_train == 1]  \n",
    "\n",
    "display(features_zeros.shape) \n",
    "display(features_ones.shape) \n",
    "display(target_zeros.shape) \n",
    "display(target_ones.shape) "
   ]
  },
  {
   "cell_type": "code",
   "execution_count": 23,
   "metadata": {},
   "outputs": [
    {
     "data": {
      "text/plain": [
       "(183357,)"
      ]
     },
     "metadata": {},
     "output_type": "display_data"
    },
    {
     "data": {
      "text/plain": [
       "(183357,)"
      ]
     },
     "metadata": {},
     "output_type": "display_data"
    }
   ],
   "source": [
    "def upsample(features, target, repeat): \n",
    "    features_zeros = features[target == 0] \n",
    "    features_ones = features[target == 1] \n",
    "\n",
    "    target_zeros = target[target == 0] \n",
    "    target_ones = target[target == 1] \n",
    "\n",
    "    features_upsampled = pd.concat([features_zeros] + [features_ones] * repeat) \n",
    "    target_upsampled = pd.concat([target_zeros] + [target_ones] * repeat) \n",
    "\n",
    "    features_upsampled, target_upsampled = shuffle(features_upsampled, target_upsampled, random_state=12345) \n",
    "    return features_upsampled, target_upsampled  \n",
    "\n",
    "features_upsampled, target_upsampled = upsample(features_train, target_train, 10) \n",
    "\n",
    "\n",
    "display(features_upsampled.shape) \n",
    "display(target_upsampled.shape)"
   ]
  },
  {
   "cell_type": "markdown",
   "metadata": {},
   "source": [
    "Поготовим данные для обучения. Приводить тексты к юникоду (.astype('U')) не будем, так как они все на английском."
   ]
  },
  {
   "cell_type": "code",
   "execution_count": 24,
   "metadata": {},
   "outputs": [],
   "source": [
    "count_tf_idf = TfidfVectorizer()\n",
    "\n",
    "corpus_train = features_upsampled\n",
    "corpus_test = features_test\n",
    "\n",
    "tf_idf = count_tf_idf.fit_transform(corpus_train)"
   ]
  },
  {
   "cell_type": "markdown",
   "metadata": {},
   "source": [
    "**Вывод**"
   ]
  },
  {
   "cell_type": "markdown",
   "metadata": {},
   "source": [
    "В первом разделе провели первичный остмор файла, токенизацию, лематизацию текста, устранили дисбаланс классов и подггтовили данные к обучению."
   ]
  },
  {
   "cell_type": "markdown",
   "metadata": {},
   "source": [
    "## Обучение"
   ]
  },
  {
   "cell_type": "markdown",
   "metadata": {},
   "source": [
    "### Логистическая регрессия"
   ]
  },
  {
   "cell_type": "code",
   "execution_count": 25,
   "metadata": {},
   "outputs": [],
   "source": [
    "from sklearn.model_selection import KFold\n",
    "kf = KFold(n_splits=5, random_state=42, shuffle=True)"
   ]
  },
  {
   "cell_type": "code",
   "execution_count": 26,
   "metadata": {},
   "outputs": [
    {
     "name": "stdout",
     "output_type": "stream",
     "text": [
      "CPU times: user 3 µs, sys: 1e+03 ns, total: 4 µs\n",
      "Wall time: 6.91 µs\n"
     ]
    },
    {
     "data": {
      "text/plain": [
       "'f1 метрика на тренировочной выборке:'"
      ]
     },
     "metadata": {},
     "output_type": "display_data"
    },
    {
     "data": {
      "text/plain": [
       "0.9967969250480462"
      ]
     },
     "metadata": {},
     "output_type": "display_data"
    },
    {
     "data": {
      "text/plain": [
       "'Наилучшие подобранные параметры'"
      ]
     },
     "metadata": {},
     "output_type": "display_data"
    },
    {
     "data": {
      "text/plain": [
       "{'C': 100, 'max_iter': 100, 'penalty': 'l2', 'solver': 'lbfgs'}"
      ]
     },
     "metadata": {},
     "output_type": "display_data"
    }
   ],
   "source": [
    "%time\n",
    "\n",
    "lr = LogisticRegression(random_state=12345)\n",
    "parameters = {'penalty':['l1', 'l2'],\n",
    "              'C': [10,100],\n",
    "              'solver':['lbfgs', 'liblinear'],\n",
    "              'max_iter':[100,200]}\n",
    "\n",
    "grid_naive_up = GridSearchCV(lr, param_grid=parameters, cv=kf, scoring='f1').fit(tf_idf,target_upsampled)\n",
    "predictions_train = grid_naive_up.predict(tf_idf)\n",
    "\n",
    "f1 = f1_score(target_upsampled, predictions_train)\n",
    "display('f1 метрика на тренировочной выборке:', f1)\n",
    "display('Наилучшие подобранные параметры', grid_naive_up.best_params_)"
   ]
  },
  {
   "cell_type": "markdown",
   "metadata": {},
   "source": [
    "### LGBM"
   ]
  },
  {
   "cell_type": "code",
   "execution_count": 27,
   "metadata": {},
   "outputs": [
    {
     "name": "stdout",
     "output_type": "stream",
     "text": [
      "CPU times: user 3 µs, sys: 1e+03 ns, total: 4 µs\n",
      "Wall time: 9.78 µs\n"
     ]
    },
    {
     "data": {
      "text/plain": [
       "'f1 метрика на тренировочной выборке:'"
      ]
     },
     "metadata": {},
     "output_type": "display_data"
    },
    {
     "data": {
      "text/plain": [
       "0.8654816814371525"
      ]
     },
     "metadata": {},
     "output_type": "display_data"
    },
    {
     "data": {
      "text/plain": [
       "'Наилучшие подобранные параметры'"
      ]
     },
     "metadata": {},
     "output_type": "display_data"
    },
    {
     "data": {
      "text/plain": [
       "{'learning_rate': 0.04, 'n_jobs': 1, 'num_iterations': 100, 'num_leaves': 31}"
      ]
     },
     "metadata": {},
     "output_type": "display_data"
    }
   ],
   "source": [
    "%time\n",
    "\n",
    "lgbm = LGBMClassifier(random_state=12345)\n",
    "\n",
    "lgbm_params = {'n_jobs': range(1, 4), 'learning_rate':[0.01, 0.04], 'num_iterations':[10, 100], 'num_leaves':[5, 31]}\n",
    "\n",
    "grid_naive_up = GridSearchCV(lgbm, param_grid=lgbm_params, cv=kf, scoring='f1').fit(tf_idf,target_upsampled)\n",
    "predictions_train = grid_naive_up.predict(tf_idf)\n",
    "\n",
    "f1 = f1_score(target_upsampled, predictions_train)\n",
    "display('f1 метрика на тренировочной выборке:', f1)\n",
    "display('Наилучшие подобранные параметры', grid_naive_up.best_params_)"
   ]
  },
  {
   "cell_type": "markdown",
   "metadata": {},
   "source": [
    "### Случайный лес"
   ]
  },
  {
   "cell_type": "code",
   "execution_count": 28,
   "metadata": {},
   "outputs": [
    {
     "name": "stdout",
     "output_type": "stream",
     "text": [
      "CPU times: user 3 µs, sys: 0 ns, total: 3 µs\n",
      "Wall time: 6.2 µs\n"
     ]
    },
    {
     "data": {
      "text/plain": [
       "'f1 метрика на тренировочной выборке:'"
      ]
     },
     "metadata": {},
     "output_type": "display_data"
    },
    {
     "data": {
      "text/plain": [
       "0.7801706293479231"
      ]
     },
     "metadata": {},
     "output_type": "display_data"
    },
    {
     "data": {
      "text/plain": [
       "'Наилучшие подобранные параметры'"
      ]
     },
     "metadata": {},
     "output_type": "display_data"
    },
    {
     "data": {
      "text/plain": [
       "{'max_depth': 12, 'n_estimators': 200, 'random_state': 13}"
      ]
     },
     "metadata": {},
     "output_type": "display_data"
    }
   ],
   "source": [
    "%time\n",
    "\n",
    "forest = RandomForestClassifier(random_state=12345) \n",
    "\n",
    "forest_params = {'n_estimators': [50, 100, 200],\n",
    "                 'max_depth': [4, 6, 10, 12],\n",
    "                 'random_state': [13]}\n",
    "\n",
    "grid_naive_up = GridSearchCV(forest, param_grid=forest_params, cv=kf, scoring='f1').fit(tf_idf,target_upsampled)\n",
    "predictions_train = grid_naive_up.predict(tf_idf)\n",
    "\n",
    "f1 = f1_score(target_upsampled, predictions_train)\n",
    "display('f1 метрика на тренировочной выборке:', f1)\n",
    "display('Наилучшие подобранные параметры', grid_naive_up.best_params_)"
   ]
  },
  {
   "cell_type": "markdown",
   "metadata": {},
   "source": [
    "На тренировочной выборке у LGBM самые лучшие показатели, как по времени, так и по метрике. Теперь посмотрим как модели покажут себя на тестовой выборке."
   ]
  },
  {
   "cell_type": "markdown",
   "metadata": {},
   "source": [
    "### Анализ моделей"
   ]
  },
  {
   "cell_type": "code",
   "execution_count": 29,
   "metadata": {},
   "outputs": [],
   "source": [
    "tf_idf_test = count_tf_idf.transform(corpus_test)"
   ]
  },
  {
   "cell_type": "markdown",
   "metadata": {},
   "source": [
    "#### Логистическая регрессия"
   ]
  },
  {
   "cell_type": "code",
   "execution_count": 30,
   "metadata": {},
   "outputs": [
    {
     "name": "stdout",
     "output_type": "stream",
     "text": [
      "CPU times: user 3 µs, sys: 0 ns, total: 3 µs\n",
      "Wall time: 6.44 µs\n",
      "f1 метрика логистической регрессии на тестовой выборке: 0.7515584613045462\n"
     ]
    }
   ],
   "source": [
    "%time\n",
    "\n",
    "lr = LogisticRegression(random_state=12345, max_iter = 100, solver = 'lbfgs', C = 100, penalty = 'l2')\n",
    "lr.fit(tf_idf,target_upsampled)\n",
    "predictions_test = lr.predict(tf_idf_test)\n",
    "f1 = f1_score(target_test, predictions_test)\n",
    "\n",
    "print('f1 метрика логистической регрессии на тестовой выборке:', f1)"
   ]
  },
  {
   "cell_type": "markdown",
   "metadata": {},
   "source": [
    "#### LGBM"
   ]
  },
  {
   "cell_type": "code",
   "execution_count": 31,
   "metadata": {},
   "outputs": [
    {
     "name": "stdout",
     "output_type": "stream",
     "text": [
      "CPU times: user 2 µs, sys: 0 ns, total: 2 µs\n",
      "Wall time: 5.01 µs\n",
      "f1 метрика логистической регрессии на тестовой выборке: 0.6879668049792532\n"
     ]
    }
   ],
   "source": [
    "%time\n",
    "\n",
    "lgbm = LGBMClassifier(random_state=12345, n_jobs = 1, learning_rate = 0.04,  num_iterations = 100, num_leaves = 31)\n",
    "\n",
    "lgbm.fit(tf_idf,target_upsampled)\n",
    "predictions_test = lgbm.predict(tf_idf_test)\n",
    "f1 = f1_score(target_test, predictions_test)\n",
    "\n",
    "print('f1 метрика логистической регрессии на тестовой выборке:', f1)"
   ]
  },
  {
   "cell_type": "markdown",
   "metadata": {},
   "source": [
    "#### Случайный лес"
   ]
  },
  {
   "cell_type": "code",
   "execution_count": 33,
   "metadata": {},
   "outputs": [
    {
     "name": "stdout",
     "output_type": "stream",
     "text": [
      "CPU times: user 3 µs, sys: 0 ns, total: 3 µs\n",
      "Wall time: 6.2 µs\n",
      "f1 метрика логистической регрессии на тестовой выборке: 0.2559900166389351\n"
     ]
    }
   ],
   "source": [
    "%time\n",
    "\n",
    "forest = RandomForestClassifier(random_state=13, n_estimators = 200, max_depth = 12)\n",
    "\n",
    "forest.fit(tf_idf,target_upsampled)\n",
    "predictions_test = forest.predict(tf_idf_test)\n",
    "f1 = f1_score(target_test, predictions_test)\n",
    "\n",
    "print('f1 метрика логистической регрессии на тестовой выборке:', f1)"
   ]
  },
  {
   "cell_type": "markdown",
   "metadata": {},
   "source": [
    "#### Наивная моель"
   ]
  },
  {
   "cell_type": "code",
   "execution_count": 34,
   "metadata": {},
   "outputs": [
    {
     "name": "stdout",
     "output_type": "stream",
     "text": [
      "CPU times: user 3 µs, sys: 0 ns, total: 3 µs\n",
      "Wall time: 5.48 µs\n"
     ]
    },
    {
     "data": {
      "text/plain": [
       "'f1 метрика логистической регрессии на тестовой выборке:'"
      ]
     },
     "metadata": {},
     "output_type": "display_data"
    },
    {
     "data": {
      "text/plain": [
       "0.184587380366615"
      ]
     },
     "metadata": {},
     "output_type": "display_data"
    }
   ],
   "source": [
    "%time\n",
    "\n",
    "d = DummyClassifier()\n",
    "d.fit(tf_idf,target_upsampled) # учим модель\n",
    "d_predictions = d.predict(tf_idf_test) # предсказание \n",
    "f1 = f1_score(target_test, d_predictions)\n",
    "\n",
    "display('f1 метрика логистической регрессии на тестовой выборке:', f1)"
   ]
  },
  {
   "cell_type": "markdown",
   "metadata": {},
   "source": [
    "## Выводы"
   ]
  },
  {
   "cell_type": "code",
   "execution_count": 35,
   "metadata": {},
   "outputs": [
    {
     "data": {
      "text/html": [
       "<div>\n",
       "<style scoped>\n",
       "    .dataframe tbody tr th:only-of-type {\n",
       "        vertical-align: middle;\n",
       "    }\n",
       "\n",
       "    .dataframe tbody tr th {\n",
       "        vertical-align: top;\n",
       "    }\n",
       "\n",
       "    .dataframe thead th {\n",
       "        text-align: right;\n",
       "    }\n",
       "</style>\n",
       "<table border=\"1\" class=\"dataframe\">\n",
       "  <thead>\n",
       "    <tr style=\"text-align: right;\">\n",
       "      <th></th>\n",
       "      <th>f1</th>\n",
       "      <th>Wall_time_ms</th>\n",
       "    </tr>\n",
       "  </thead>\n",
       "  <tbody>\n",
       "    <tr>\n",
       "      <th>Логистическая регрессия</th>\n",
       "      <td>0.75</td>\n",
       "      <td>6.44</td>\n",
       "    </tr>\n",
       "    <tr>\n",
       "      <th>Случайный лес</th>\n",
       "      <td>0.25</td>\n",
       "      <td>6.2</td>\n",
       "    </tr>\n",
       "    <tr>\n",
       "      <th>LightGBM</th>\n",
       "      <td>0.68</td>\n",
       "      <td>5.01</td>\n",
       "    </tr>\n",
       "    <tr>\n",
       "      <th>Наивная модель</th>\n",
       "      <td>0.18</td>\n",
       "      <td>5.48</td>\n",
       "    </tr>\n",
       "  </tbody>\n",
       "</table>\n",
       "</div>"
      ],
      "text/plain": [
       "                           f1 Wall_time_ms\n",
       "Логистическая регрессия  0.75         6.44\n",
       "Случайный лес            0.25          6.2\n",
       "LightGBM                 0.68         5.01\n",
       "Наивная модель           0.18         5.48"
      ]
     },
     "metadata": {},
     "output_type": "display_data"
    }
   ],
   "source": [
    "#сделаем табличку, чтобы удобнее было делать выводы\n",
    "index =['Логистическая регрессия', \n",
    "        'Случайный лес', \n",
    "        'LightGBM',\n",
    "        'Наивная модель']\n",
    "\n",
    "f1 = ['0.75',\n",
    "        '0.25', \n",
    "        '0.68',\n",
    "        '0.18'] \n",
    " \n",
    "Wall_time_ms = ['6.44',\n",
    "                '6.2', \n",
    "                '5.01',\n",
    "                '5.48'] \n",
    "\n",
    "list_tuples = list(zip(f1, Wall_time_ms)) \n",
    " \n",
    "dframe = pd.DataFrame(list_tuples, index = index, columns=['f1', 'Wall_time_ms']) \n",
    " \n",
    "display(dframe) "
   ]
  },
  {
   "cell_type": "markdown",
   "metadata": {},
   "source": [
    "**Вывод**"
   ]
  },
  {
   "cell_type": "markdown",
   "metadata": {},
   "source": [
    "По мере - самая лучшая модель - Логистическая регрессия. По вермени чуть лучше LGBM. Всё же лучше применять вработе - Логистическую регрессию, её время не так далеко ушло от LGBM, а метрика больше."
   ]
  },
  {
   "cell_type": "code",
   "execution_count": null,
   "metadata": {},
   "outputs": [],
   "source": []
  }
 ],
 "metadata": {
  "ExecuteTimeLog": [
   {
    "duration": 1495,
    "start_time": "2022-05-29T15:57:16.533Z"
   },
   {
    "duration": 5411,
    "start_time": "2022-05-29T16:03:45.626Z"
   },
   {
    "duration": 1149,
    "start_time": "2022-05-29T16:05:18.313Z"
   },
   {
    "duration": 666,
    "start_time": "2022-05-29T16:16:42.181Z"
   },
   {
    "duration": 5,
    "start_time": "2022-05-29T16:21:42.076Z"
   },
   {
    "duration": 182,
    "start_time": "2022-05-29T16:26:41.371Z"
   },
   {
    "duration": 3,
    "start_time": "2022-05-29T16:27:02.326Z"
   },
   {
    "duration": 33,
    "start_time": "2022-05-29T16:27:06.434Z"
   },
   {
    "duration": 3772,
    "start_time": "2022-05-29T16:40:26.890Z"
   },
   {
    "duration": 3769,
    "start_time": "2022-05-29T16:40:34.047Z"
   },
   {
    "duration": 1898,
    "start_time": "2022-05-29T16:41:40.906Z"
   },
   {
    "duration": 3,
    "start_time": "2022-05-29T16:43:01.285Z"
   },
   {
    "duration": 1045,
    "start_time": "2022-05-29T16:43:01.295Z"
   },
   {
    "duration": 1311,
    "start_time": "2022-05-29T16:44:19.465Z"
   },
   {
    "duration": 3598,
    "start_time": "2022-05-29T16:44:20.778Z"
   },
   {
    "duration": 1946,
    "start_time": "2022-05-29T16:44:24.378Z"
   },
   {
    "duration": 1214,
    "start_time": "2022-05-29T17:01:18.405Z"
   },
   {
    "duration": 3780,
    "start_time": "2022-05-29T17:01:19.621Z"
   },
   {
    "duration": 1895,
    "start_time": "2022-05-29T17:01:23.403Z"
   },
   {
    "duration": 13,
    "start_time": "2022-05-29T17:01:25.301Z"
   },
   {
    "duration": 2149,
    "start_time": "2022-05-29T17:09:14.002Z"
   },
   {
    "duration": 1348,
    "start_time": "2022-05-29T17:09:41.182Z"
   },
   {
    "duration": 204,
    "start_time": "2022-05-29T17:10:21.534Z"
   },
   {
    "duration": 188,
    "start_time": "2022-05-29T17:12:06.611Z"
   },
   {
    "duration": 49,
    "start_time": "2022-05-29T17:13:06.775Z"
   },
   {
    "duration": 375,
    "start_time": "2022-05-29T17:13:24.466Z"
   },
   {
    "duration": 720,
    "start_time": "2022-05-29T17:14:42.061Z"
   },
   {
    "duration": 3,
    "start_time": "2022-05-29T17:15:47.631Z"
   },
   {
    "duration": 94,
    "start_time": "2022-05-29T17:18:34.787Z"
   },
   {
    "duration": 3169,
    "start_time": "2022-05-29T17:47:34.887Z"
   },
   {
    "duration": 9,
    "start_time": "2022-05-29T17:54:23.233Z"
   },
   {
    "duration": 64,
    "start_time": "2022-05-29T17:56:12.859Z"
   },
   {
    "duration": 4416,
    "start_time": "2022-05-29T17:56:24.808Z"
   },
   {
    "duration": 294,
    "start_time": "2022-05-29T17:56:32.252Z"
   },
   {
    "duration": 4042,
    "start_time": "2022-05-29T17:56:59.361Z"
   },
   {
    "duration": 3849,
    "start_time": "2022-05-29T17:57:03.410Z"
   },
   {
    "duration": 2299,
    "start_time": "2022-05-29T17:57:07.261Z"
   },
   {
    "duration": 201,
    "start_time": "2022-05-29T17:57:09.563Z"
   },
   {
    "duration": 197,
    "start_time": "2022-05-29T17:57:09.766Z"
   },
   {
    "duration": 422,
    "start_time": "2022-05-29T17:57:09.965Z"
   },
   {
    "duration": 32,
    "start_time": "2022-05-29T17:57:10.394Z"
   },
   {
    "duration": 6,
    "start_time": "2022-05-29T17:57:10.428Z"
   },
   {
    "duration": 40931,
    "start_time": "2022-05-29T17:57:10.436Z"
   },
   {
    "duration": 0,
    "start_time": "2022-05-29T17:57:51.369Z"
   },
   {
    "duration": 6,
    "start_time": "2022-05-29T17:58:04.052Z"
   },
   {
    "duration": 12223,
    "start_time": "2022-05-29T17:58:09.308Z"
   },
   {
    "duration": 29,
    "start_time": "2022-05-29T17:58:31.012Z"
   },
   {
    "duration": 6,
    "start_time": "2022-05-29T17:58:42.886Z"
   },
   {
    "duration": 5304,
    "start_time": "2022-05-29T18:16:08.846Z"
   },
   {
    "duration": 391,
    "start_time": "2022-05-29T18:16:30.883Z"
   },
   {
    "duration": 4925,
    "start_time": "2022-05-29T18:16:42.990Z"
   },
   {
    "duration": 4864,
    "start_time": "2022-05-29T18:16:47.920Z"
   },
   {
    "duration": 2478,
    "start_time": "2022-05-29T18:16:52.786Z"
   },
   {
    "duration": 218,
    "start_time": "2022-05-29T18:16:55.266Z"
   },
   {
    "duration": 258,
    "start_time": "2022-05-29T18:16:55.486Z"
   },
   {
    "duration": 421,
    "start_time": "2022-05-29T18:16:55.746Z"
   },
   {
    "duration": 507,
    "start_time": "2022-05-29T18:16:56.169Z"
   },
   {
    "duration": 0,
    "start_time": "2022-05-29T18:16:56.677Z"
   },
   {
    "duration": 27,
    "start_time": "2022-05-29T18:17:29.221Z"
   },
   {
    "duration": 4895,
    "start_time": "2022-05-29T20:11:31.014Z"
   },
   {
    "duration": 4245,
    "start_time": "2022-05-29T20:11:40.102Z"
   },
   {
    "duration": 18,
    "start_time": "2022-05-29T20:15:32.803Z"
   },
   {
    "duration": 19,
    "start_time": "2022-05-29T20:16:09.075Z"
   },
   {
    "duration": 31228,
    "start_time": "2022-05-29T20:20:00.051Z"
   },
   {
    "duration": 33732,
    "start_time": "2022-05-29T20:20:36.678Z"
   },
   {
    "duration": 514,
    "start_time": "2022-05-29T20:21:39.986Z"
   },
   {
    "duration": 19,
    "start_time": "2022-05-29T20:26:24.310Z"
   },
   {
    "duration": 35,
    "start_time": "2022-05-29T20:38:09.623Z"
   },
   {
    "duration": 236,
    "start_time": "2022-05-29T20:39:25.794Z"
   },
   {
    "duration": 62,
    "start_time": "2022-05-29T20:40:42.363Z"
   },
   {
    "duration": 7,
    "start_time": "2022-05-29T20:43:05.823Z"
   },
   {
    "duration": 6,
    "start_time": "2022-05-29T20:47:00.619Z"
   },
   {
    "duration": 3850,
    "start_time": "2022-05-29T20:47:52.930Z"
   },
   {
    "duration": 3769,
    "start_time": "2022-05-29T20:47:56.782Z"
   },
   {
    "duration": 2327,
    "start_time": "2022-05-29T20:48:00.553Z"
   },
   {
    "duration": 195,
    "start_time": "2022-05-29T20:48:02.886Z"
   },
   {
    "duration": 190,
    "start_time": "2022-05-29T20:48:03.083Z"
   },
   {
    "duration": 363,
    "start_time": "2022-05-29T20:48:03.275Z"
   },
   {
    "duration": 123,
    "start_time": "2022-05-29T20:48:03.640Z"
   },
   {
    "duration": 22,
    "start_time": "2022-05-29T20:48:03.776Z"
   },
   {
    "duration": 9,
    "start_time": "2022-05-29T20:48:03.800Z"
   },
   {
    "duration": 51,
    "start_time": "2022-05-29T20:49:09.283Z"
   },
   {
    "duration": 4045,
    "start_time": "2022-05-29T20:49:43.944Z"
   },
   {
    "duration": 3748,
    "start_time": "2022-05-29T20:49:47.992Z"
   },
   {
    "duration": 2336,
    "start_time": "2022-05-29T20:49:51.742Z"
   },
   {
    "duration": 193,
    "start_time": "2022-05-29T20:49:54.081Z"
   },
   {
    "duration": 186,
    "start_time": "2022-05-29T20:49:54.276Z"
   },
   {
    "duration": 412,
    "start_time": "2022-05-29T20:49:54.466Z"
   },
   {
    "duration": 122,
    "start_time": "2022-05-29T20:49:54.880Z"
   },
   {
    "duration": 20,
    "start_time": "2022-05-29T20:49:55.004Z"
   },
   {
    "duration": 18,
    "start_time": "2022-05-29T20:49:55.025Z"
   },
   {
    "duration": 82,
    "start_time": "2022-05-29T20:50:47.295Z"
   },
   {
    "duration": 10,
    "start_time": "2022-05-29T20:50:57.416Z"
   },
   {
    "duration": 6,
    "start_time": "2022-05-29T20:51:14.414Z"
   },
   {
    "duration": 7,
    "start_time": "2022-05-29T20:51:18.904Z"
   },
   {
    "duration": 8,
    "start_time": "2022-05-29T20:51:36.274Z"
   },
   {
    "duration": 3852,
    "start_time": "2022-05-29T21:03:33.659Z"
   },
   {
    "duration": 3873,
    "start_time": "2022-05-29T21:03:37.513Z"
   },
   {
    "duration": 2315,
    "start_time": "2022-05-29T21:03:41.388Z"
   },
   {
    "duration": 189,
    "start_time": "2022-05-29T21:03:43.705Z"
   },
   {
    "duration": 197,
    "start_time": "2022-05-29T21:03:43.896Z"
   },
   {
    "duration": 384,
    "start_time": "2022-05-29T21:03:44.094Z"
   },
   {
    "duration": 125,
    "start_time": "2022-05-29T21:03:44.481Z"
   },
   {
    "duration": 19,
    "start_time": "2022-05-29T21:03:44.608Z"
   },
   {
    "duration": 6,
    "start_time": "2022-05-29T21:03:44.629Z"
   },
   {
    "duration": 4536,
    "start_time": "2022-05-29T21:10:23.509Z"
   },
   {
    "duration": 4188,
    "start_time": "2022-05-29T21:10:28.047Z"
   },
   {
    "duration": 2614,
    "start_time": "2022-05-29T21:10:32.237Z"
   },
   {
    "duration": 209,
    "start_time": "2022-05-29T21:10:34.853Z"
   },
   {
    "duration": 232,
    "start_time": "2022-05-29T21:10:35.064Z"
   },
   {
    "duration": 421,
    "start_time": "2022-05-29T21:10:35.298Z"
   },
   {
    "duration": 152,
    "start_time": "2022-05-29T21:10:35.721Z"
   },
   {
    "duration": 27,
    "start_time": "2022-05-29T21:10:35.875Z"
   },
   {
    "duration": 9,
    "start_time": "2022-05-29T21:10:35.904Z"
   },
   {
    "duration": 5172,
    "start_time": "2022-05-30T20:19:10.125Z"
   },
   {
    "duration": 2806,
    "start_time": "2022-05-30T20:19:15.299Z"
   },
   {
    "duration": 7,
    "start_time": "2022-05-30T20:22:32.509Z"
   },
   {
    "duration": 1159,
    "start_time": "2022-05-30T20:22:32.522Z"
   },
   {
    "duration": 2296,
    "start_time": "2022-05-30T20:22:33.683Z"
   },
   {
    "duration": 186,
    "start_time": "2022-05-30T20:22:35.980Z"
   },
   {
    "duration": 200,
    "start_time": "2022-05-30T20:22:36.169Z"
   },
   {
    "duration": 400,
    "start_time": "2022-05-30T20:22:36.370Z"
   },
   {
    "duration": 473,
    "start_time": "2022-05-30T20:22:36.772Z"
   },
   {
    "duration": 21,
    "start_time": "2022-05-30T20:22:37.248Z"
   },
   {
    "duration": 25,
    "start_time": "2022-05-30T20:22:37.271Z"
   },
   {
    "duration": 4109,
    "start_time": "2022-05-31T18:09:42.816Z"
   },
   {
    "duration": 2497,
    "start_time": "2022-05-31T18:09:51.640Z"
   },
   {
    "duration": 2087,
    "start_time": "2022-05-31T18:10:00.592Z"
   },
   {
    "duration": 221,
    "start_time": "2022-05-31T18:10:17.569Z"
   },
   {
    "duration": 231,
    "start_time": "2022-05-31T18:10:20.415Z"
   },
   {
    "duration": 426,
    "start_time": "2022-05-31T18:10:22.369Z"
   },
   {
    "duration": 110,
    "start_time": "2022-05-31T18:10:29.463Z"
   },
   {
    "duration": 20,
    "start_time": "2022-05-31T18:10:42.468Z"
   },
   {
    "duration": 14773,
    "start_time": "2022-05-31T18:11:28.302Z"
   },
   {
    "duration": 17175,
    "start_time": "2022-05-31T18:12:18.233Z"
   },
   {
    "duration": 453,
    "start_time": "2022-05-31T18:13:00.040Z"
   },
   {
    "duration": 22,
    "start_time": "2022-05-31T18:14:24.348Z"
   },
   {
    "duration": 7,
    "start_time": "2022-05-31T18:16:14.391Z"
   },
   {
    "duration": 202262,
    "start_time": "2022-05-31T18:16:19.132Z"
   },
   {
    "duration": 0,
    "start_time": "2022-05-31T18:19:41.397Z"
   },
   {
    "duration": 16,
    "start_time": "2022-05-31T18:19:58.192Z"
   },
   {
    "duration": 11,
    "start_time": "2022-05-31T18:20:10.223Z"
   },
   {
    "duration": 7,
    "start_time": "2022-05-31T18:20:22.999Z"
   },
   {
    "duration": 66,
    "start_time": "2022-05-31T18:20:58.342Z"
   },
   {
    "duration": 7,
    "start_time": "2022-05-31T18:21:50.760Z"
   },
   {
    "duration": 7,
    "start_time": "2022-05-31T18:21:51.773Z"
   },
   {
    "duration": 7,
    "start_time": "2022-05-31T18:22:09.395Z"
   },
   {
    "duration": 4389,
    "start_time": "2022-05-31T18:22:19.169Z"
   },
   {
    "duration": 2645,
    "start_time": "2022-05-31T18:22:23.560Z"
   },
   {
    "duration": 2245,
    "start_time": "2022-05-31T18:22:26.206Z"
   },
   {
    "duration": 211,
    "start_time": "2022-05-31T18:22:28.453Z"
   },
   {
    "duration": 193,
    "start_time": "2022-05-31T18:22:28.665Z"
   },
   {
    "duration": 403,
    "start_time": "2022-05-31T18:22:28.859Z"
   },
   {
    "duration": 112,
    "start_time": "2022-05-31T18:22:29.264Z"
   },
   {
    "duration": 15,
    "start_time": "2022-05-31T18:22:29.378Z"
   },
   {
    "duration": 7,
    "start_time": "2022-05-31T18:22:29.395Z"
   },
   {
    "duration": 310681,
    "start_time": "2022-05-31T18:22:29.404Z"
   },
   {
    "duration": 0,
    "start_time": "2022-05-31T18:27:40.087Z"
   },
   {
    "duration": 0,
    "start_time": "2022-05-31T18:27:40.089Z"
   },
   {
    "duration": 15,
    "start_time": "2022-05-31T18:27:54.780Z"
   },
   {
    "duration": 12,
    "start_time": "2022-05-31T18:28:04.633Z"
   },
   {
    "duration": 3757,
    "start_time": "2022-05-31T18:28:38.580Z"
   },
   {
    "duration": 2479,
    "start_time": "2022-05-31T18:28:42.339Z"
   },
   {
    "duration": 1932,
    "start_time": "2022-05-31T18:28:44.826Z"
   },
   {
    "duration": 213,
    "start_time": "2022-05-31T18:28:46.760Z"
   },
   {
    "duration": 206,
    "start_time": "2022-05-31T18:28:46.975Z"
   },
   {
    "duration": 403,
    "start_time": "2022-05-31T18:28:47.183Z"
   },
   {
    "duration": 110,
    "start_time": "2022-05-31T18:28:47.588Z"
   },
   {
    "duration": 15,
    "start_time": "2022-05-31T18:28:47.700Z"
   },
   {
    "duration": 15,
    "start_time": "2022-05-31T18:28:47.716Z"
   },
   {
    "duration": 4107,
    "start_time": "2022-05-31T18:31:30.334Z"
   },
   {
    "duration": 2502,
    "start_time": "2022-05-31T18:31:34.443Z"
   },
   {
    "duration": 1932,
    "start_time": "2022-05-31T18:31:36.947Z"
   },
   {
    "duration": 195,
    "start_time": "2022-05-31T18:31:38.881Z"
   },
   {
    "duration": 206,
    "start_time": "2022-05-31T18:31:39.077Z"
   },
   {
    "duration": 397,
    "start_time": "2022-05-31T18:31:39.285Z"
   },
   {
    "duration": 111,
    "start_time": "2022-05-31T18:31:39.684Z"
   },
   {
    "duration": 14,
    "start_time": "2022-05-31T18:31:39.796Z"
   },
   {
    "duration": 18,
    "start_time": "2022-05-31T18:31:39.812Z"
   },
   {
    "duration": 57,
    "start_time": "2022-05-31T18:32:23.496Z"
   },
   {
    "duration": 3663,
    "start_time": "2022-05-31T18:32:33.180Z"
   },
   {
    "duration": 2421,
    "start_time": "2022-05-31T18:32:36.844Z"
   },
   {
    "duration": 1926,
    "start_time": "2022-05-31T18:32:39.267Z"
   },
   {
    "duration": 193,
    "start_time": "2022-05-31T18:32:41.196Z"
   },
   {
    "duration": 200,
    "start_time": "2022-05-31T18:32:41.391Z"
   },
   {
    "duration": 388,
    "start_time": "2022-05-31T18:32:41.592Z"
   },
   {
    "duration": 115,
    "start_time": "2022-05-31T18:32:41.981Z"
   },
   {
    "duration": 15,
    "start_time": "2022-05-31T18:32:42.097Z"
   },
   {
    "duration": 15,
    "start_time": "2022-05-31T18:32:42.113Z"
   },
   {
    "duration": 3821,
    "start_time": "2022-05-31T18:33:26.755Z"
   },
   {
    "duration": 2429,
    "start_time": "2022-05-31T18:33:30.578Z"
   },
   {
    "duration": 1868,
    "start_time": "2022-05-31T18:33:33.008Z"
   },
   {
    "duration": 187,
    "start_time": "2022-05-31T18:33:34.879Z"
   },
   {
    "duration": 197,
    "start_time": "2022-05-31T18:33:35.068Z"
   },
   {
    "duration": 402,
    "start_time": "2022-05-31T18:33:35.267Z"
   },
   {
    "duration": 144,
    "start_time": "2022-05-31T18:33:35.671Z"
   },
   {
    "duration": 15,
    "start_time": "2022-05-31T18:33:35.825Z"
   },
   {
    "duration": 7,
    "start_time": "2022-05-31T18:33:35.842Z"
   },
   {
    "duration": 569352,
    "start_time": "2022-05-31T18:33:35.852Z"
   },
   {
    "duration": 27,
    "start_time": "2022-05-31T18:43:05.207Z"
   },
   {
    "duration": 13,
    "start_time": "2022-05-31T18:43:05.236Z"
   },
   {
    "duration": 106,
    "start_time": "2022-05-31T18:45:58.071Z"
   },
   {
    "duration": 4,
    "start_time": "2022-05-31T19:00:12.968Z"
   },
   {
    "duration": 3,
    "start_time": "2022-05-31T20:13:17.315Z"
   },
   {
    "duration": 499,
    "start_time": "2022-05-31T20:14:05.784Z"
   },
   {
    "duration": 707,
    "start_time": "2022-05-31T20:14:38.803Z"
   },
   {
    "duration": 4234,
    "start_time": "2022-05-31T20:14:47.414Z"
   },
   {
    "duration": 3644,
    "start_time": "2022-05-31T20:15:02.014Z"
   },
   {
    "duration": 553,
    "start_time": "2022-05-31T20:15:45.692Z"
   },
   {
    "duration": 4155,
    "start_time": "2022-05-31T20:16:26.563Z"
   },
   {
    "duration": 20670,
    "start_time": "2022-05-31T20:18:38.414Z"
   },
   {
    "duration": 4606,
    "start_time": "2022-05-31T20:19:08.468Z"
   },
   {
    "duration": 457,
    "start_time": "2022-05-31T20:21:36.183Z"
   },
   {
    "duration": 6,
    "start_time": "2022-05-31T20:22:56.853Z"
   },
   {
    "duration": 2399,
    "start_time": "2022-05-31T20:22:56.863Z"
   },
   {
    "duration": 24495,
    "start_time": "2022-05-31T20:22:59.264Z"
   },
   {
    "duration": 448,
    "start_time": "2022-05-31T20:23:23.761Z"
   },
   {
    "duration": 0,
    "start_time": "2022-05-31T20:23:24.211Z"
   },
   {
    "duration": 0,
    "start_time": "2022-05-31T20:23:24.212Z"
   },
   {
    "duration": 79,
    "start_time": "2022-05-31T20:24:04.098Z"
   },
   {
    "duration": 116,
    "start_time": "2022-05-31T20:24:55.456Z"
   },
   {
    "duration": 27,
    "start_time": "2022-05-31T20:46:18.878Z"
   },
   {
    "duration": 161,
    "start_time": "2022-05-31T20:46:29.342Z"
   },
   {
    "duration": 36,
    "start_time": "2022-05-31T20:52:02.930Z"
   },
   {
    "duration": 43,
    "start_time": "2022-05-31T20:59:22.232Z"
   },
   {
    "duration": 18,
    "start_time": "2022-05-31T20:59:51.315Z"
   },
   {
    "duration": 76,
    "start_time": "2022-05-31T21:01:17.294Z"
   },
   {
    "duration": 6725,
    "start_time": "2022-05-31T21:04:06.345Z"
   },
   {
    "duration": 240458,
    "start_time": "2022-05-31T21:06:27.647Z"
   },
   {
    "duration": 44,
    "start_time": "2022-05-31T21:17:05.351Z"
   },
   {
    "duration": 138751,
    "start_time": "2022-05-31T21:18:40.415Z"
   },
   {
    "duration": 276642,
    "start_time": "2022-05-31T21:21:43.339Z"
   },
   {
    "duration": 134,
    "start_time": "2022-05-31T21:28:14.963Z"
   },
   {
    "duration": 113,
    "start_time": "2022-05-31T21:28:46.170Z"
   },
   {
    "duration": 22,
    "start_time": "2022-05-31T21:28:50.703Z"
   },
   {
    "duration": 69,
    "start_time": "2022-05-31T21:28:57.019Z"
   },
   {
    "duration": 6849,
    "start_time": "2022-05-31T21:29:00.718Z"
   },
   {
    "duration": 144799,
    "start_time": "2022-05-31T21:33:38.209Z"
   },
   {
    "duration": 3,
    "start_time": "2022-05-31T21:55:28.465Z"
   },
   {
    "duration": 38,
    "start_time": "2022-05-31T21:55:54.113Z"
   },
   {
    "duration": 27,
    "start_time": "2022-05-31T21:55:57.377Z"
   },
   {
    "duration": 7333,
    "start_time": "2022-05-31T21:56:03.913Z"
   },
   {
    "duration": 3,
    "start_time": "2022-05-31T21:56:23.852Z"
   },
   {
    "duration": 4530,
    "start_time": "2022-05-31T21:56:36.843Z"
   },
   {
    "duration": 4484,
    "start_time": "2022-05-31T21:56:48.497Z"
   },
   {
    "duration": 57094,
    "start_time": "2022-05-31T21:57:15.672Z"
   },
   {
    "duration": 24,
    "start_time": "2022-05-31T21:58:39.860Z"
   },
   {
    "duration": 103214,
    "start_time": "2022-05-31T22:01:39.639Z"
   },
   {
    "duration": 84,
    "start_time": "2022-05-31T22:06:43.859Z"
   },
   {
    "duration": 20,
    "start_time": "2022-05-31T22:06:46.806Z"
   },
   {
    "duration": 64,
    "start_time": "2022-05-31T22:06:48.990Z"
   },
   {
    "duration": 4277,
    "start_time": "2022-05-31T22:06:51.183Z"
   },
   {
    "duration": 28,
    "start_time": "2022-05-31T22:08:00.892Z"
   },
   {
    "duration": 6923,
    "start_time": "2022-05-31T22:08:57.514Z"
   },
   {
    "duration": 142429,
    "start_time": "2022-05-31T22:09:09.937Z"
   },
   {
    "duration": 2048,
    "start_time": "2022-05-31T22:20:08.864Z"
   },
   {
    "duration": 2622,
    "start_time": "2022-05-31T22:20:10.914Z"
   },
   {
    "duration": 16536,
    "start_time": "2022-05-31T22:20:13.538Z"
   },
   {
    "duration": 0,
    "start_time": "2022-05-31T22:20:30.077Z"
   },
   {
    "duration": 0,
    "start_time": "2022-05-31T22:20:30.078Z"
   },
   {
    "duration": 0,
    "start_time": "2022-05-31T22:20:30.079Z"
   },
   {
    "duration": 0,
    "start_time": "2022-05-31T22:20:30.081Z"
   },
   {
    "duration": 0,
    "start_time": "2022-05-31T22:20:30.082Z"
   },
   {
    "duration": 0,
    "start_time": "2022-05-31T22:20:30.083Z"
   },
   {
    "duration": 0,
    "start_time": "2022-05-31T22:20:30.084Z"
   },
   {
    "duration": 0,
    "start_time": "2022-05-31T22:20:30.085Z"
   },
   {
    "duration": 0,
    "start_time": "2022-05-31T22:20:30.086Z"
   },
   {
    "duration": 1372,
    "start_time": "2022-05-31T22:20:46.068Z"
   },
   {
    "duration": 1170,
    "start_time": "2022-05-31T22:20:47.442Z"
   },
   {
    "duration": 31022,
    "start_time": "2022-05-31T22:20:48.613Z"
   },
   {
    "duration": 104,
    "start_time": "2022-05-31T22:21:19.637Z"
   },
   {
    "duration": 264,
    "start_time": "2022-05-31T22:21:19.742Z"
   },
   {
    "duration": 89,
    "start_time": "2022-05-31T22:21:20.008Z"
   },
   {
    "duration": 31,
    "start_time": "2022-05-31T22:21:20.099Z"
   },
   {
    "duration": 168,
    "start_time": "2022-05-31T22:21:20.132Z"
   },
   {
    "duration": 0,
    "start_time": "2022-05-31T22:21:20.302Z"
   },
   {
    "duration": 0,
    "start_time": "2022-05-31T22:21:20.303Z"
   },
   {
    "duration": 0,
    "start_time": "2022-05-31T22:21:20.304Z"
   },
   {
    "duration": 0,
    "start_time": "2022-05-31T22:21:20.305Z"
   },
   {
    "duration": 6,
    "start_time": "2022-05-31T22:23:34.057Z"
   },
   {
    "duration": 70,
    "start_time": "2022-05-31T22:23:39.604Z"
   },
   {
    "duration": 6714,
    "start_time": "2022-05-31T22:23:43.096Z"
   },
   {
    "duration": 142304,
    "start_time": "2022-05-31T22:25:38.674Z"
   },
   {
    "duration": 4607482,
    "start_time": "2022-05-31T22:28:22.620Z"
   },
   {
    "duration": 2027,
    "start_time": "2022-05-31T23:45:10.104Z"
   },
   {
    "duration": 12362,
    "start_time": "2022-05-31T23:45:12.133Z"
   },
   {
    "duration": 34,
    "start_time": "2022-05-31T23:45:24.500Z"
   },
   {
    "duration": 175,
    "start_time": "2022-06-01T05:01:37.362Z"
   },
   {
    "duration": 101589,
    "start_time": "2022-06-01T05:01:51.556Z"
   },
   {
    "duration": 12675,
    "start_time": "2022-06-01T05:05:59.619Z"
   },
   {
    "duration": 171311,
    "start_time": "2022-06-01T05:08:25.059Z"
   },
   {
    "duration": 539,
    "start_time": "2022-06-01T05:13:36.125Z"
   },
   {
    "duration": 44,
    "start_time": "2022-06-01T05:14:44.910Z"
   },
   {
    "duration": 6,
    "start_time": "2022-06-01T05:15:40.447Z"
   },
   {
    "duration": 43,
    "start_time": "2022-06-01T05:15:45.147Z"
   },
   {
    "duration": 71,
    "start_time": "2022-06-01T05:17:11.997Z"
   },
   {
    "duration": 8,
    "start_time": "2022-06-01T05:17:19.380Z"
   },
   {
    "duration": 29,
    "start_time": "2022-06-01T05:17:27.424Z"
   },
   {
    "duration": 778147,
    "start_time": "2022-06-01T05:21:47.903Z"
   },
   {
    "duration": 65150,
    "start_time": "2022-06-01T05:43:54.426Z"
   },
   {
    "duration": 917778,
    "start_time": "2022-06-01T07:52:56.192Z"
   },
   {
    "duration": 15,
    "start_time": "2022-06-01T08:38:17.606Z"
   },
   {
    "duration": 68136,
    "start_time": "2022-06-01T08:38:41.396Z"
   },
   {
    "duration": 154,
    "start_time": "2022-06-01T10:12:58.478Z"
   },
   {
    "duration": 41,
    "start_time": "2022-06-01T10:13:24.468Z"
   },
   {
    "duration": 6,
    "start_time": "2022-06-01T10:13:59.127Z"
   },
   {
    "duration": 6,
    "start_time": "2022-06-01T10:14:09.369Z"
   },
   {
    "duration": 31,
    "start_time": "2022-06-01T10:14:29.695Z"
   },
   {
    "duration": 1879,
    "start_time": "2022-06-01T15:24:27.579Z"
   },
   {
    "duration": 2902,
    "start_time": "2022-06-01T15:24:31.489Z"
   },
   {
    "duration": 25788,
    "start_time": "2022-06-01T15:24:38.333Z"
   },
   {
    "duration": 490,
    "start_time": "2022-06-01T15:25:04.122Z"
   },
   {
    "duration": 210,
    "start_time": "2022-06-01T15:25:07.785Z"
   },
   {
    "duration": 95,
    "start_time": "2022-06-01T15:25:12.010Z"
   },
   {
    "duration": 67,
    "start_time": "2022-06-01T15:25:16.229Z"
   },
   {
    "duration": 17,
    "start_time": "2022-06-01T15:25:22.239Z"
   },
   {
    "duration": 80,
    "start_time": "2022-06-01T15:25:27.227Z"
   },
   {
    "duration": 6933,
    "start_time": "2022-06-01T15:25:30.385Z"
   },
   {
    "duration": 2413863,
    "start_time": "2022-06-01T15:25:37.526Z"
   },
   {
    "duration": 54012,
    "start_time": "2022-06-01T16:13:55.720Z"
   },
   {
    "duration": 1954,
    "start_time": "2022-06-01T16:15:07.060Z"
   },
   {
    "duration": 52246,
    "start_time": "2022-06-01T16:15:11.786Z"
   },
   {
    "duration": 9,
    "start_time": "2022-06-01T16:40:17.839Z"
   },
   {
    "duration": 1589,
    "start_time": "2022-06-05T02:59:48.440Z"
   },
   {
    "duration": 2784,
    "start_time": "2022-06-05T03:00:24.500Z"
   },
   {
    "duration": 26363,
    "start_time": "2022-06-05T03:00:38.580Z"
   },
   {
    "duration": 79,
    "start_time": "2022-06-05T03:01:04.945Z"
   },
   {
    "duration": 484,
    "start_time": "2022-06-05T03:01:14.648Z"
   },
   {
    "duration": 87,
    "start_time": "2022-06-05T03:01:23.729Z"
   },
   {
    "duration": 20,
    "start_time": "2022-06-05T03:01:35.949Z"
   },
   {
    "duration": 66,
    "start_time": "2022-06-05T03:01:43.182Z"
   },
   {
    "duration": 7218,
    "start_time": "2022-06-05T03:01:58.389Z"
   },
   {
    "duration": 188,
    "start_time": "2022-06-05T03:03:42.885Z"
   },
   {
    "duration": 25,
    "start_time": "2022-06-05T03:04:08.846Z"
   },
   {
    "duration": 7,
    "start_time": "2022-06-05T03:09:34.919Z"
   },
   {
    "duration": 1082,
    "start_time": "2022-06-05T03:09:42.204Z"
   },
   {
    "duration": 26979,
    "start_time": "2022-06-05T03:09:53.775Z"
   },
   {
    "duration": 83,
    "start_time": "2022-06-05T03:10:38.356Z"
   },
   {
    "duration": 93,
    "start_time": "2022-06-05T03:10:46.593Z"
   },
   {
    "duration": 78,
    "start_time": "2022-06-05T03:10:56.034Z"
   },
   {
    "duration": 18,
    "start_time": "2022-06-05T03:11:02.687Z"
   },
   {
    "duration": 63,
    "start_time": "2022-06-05T03:11:10.131Z"
   },
   {
    "duration": 16,
    "start_time": "2022-06-05T03:11:18.077Z"
   },
   {
    "duration": 13,
    "start_time": "2022-06-05T03:11:26.536Z"
   },
   {
    "duration": 4165,
    "start_time": "2022-06-05T03:40:07.272Z"
   },
   {
    "duration": 4253,
    "start_time": "2022-06-05T03:40:52.136Z"
   },
   {
    "duration": 98,
    "start_time": "2022-06-05T03:55:13.326Z"
   },
   {
    "duration": 108,
    "start_time": "2022-06-05T03:55:45.321Z"
   },
   {
    "duration": 30,
    "start_time": "2022-06-05T03:57:08.670Z"
   },
   {
    "duration": 110,
    "start_time": "2022-06-05T04:03:05.513Z"
   },
   {
    "duration": 138,
    "start_time": "2022-06-05T04:09:03.445Z"
   },
   {
    "duration": 4878,
    "start_time": "2022-06-05T04:10:02.313Z"
   },
   {
    "duration": 6377,
    "start_time": "2022-06-05T04:11:51.331Z"
   },
   {
    "duration": 4810,
    "start_time": "2022-06-05T04:15:18.497Z"
   },
   {
    "duration": 161,
    "start_time": "2022-06-05T04:16:39.591Z"
   },
   {
    "duration": 153,
    "start_time": "2022-06-05T04:16:59.223Z"
   },
   {
    "duration": 29,
    "start_time": "2022-06-05T04:20:05.021Z"
   },
   {
    "duration": 27,
    "start_time": "2022-06-05T04:21:12.110Z"
   },
   {
    "duration": 225,
    "start_time": "2022-06-05T04:28:00.007Z"
   },
   {
    "duration": 1224,
    "start_time": "2022-06-05T04:28:10.696Z"
   },
   {
    "duration": 25,
    "start_time": "2022-06-05T04:28:23.009Z"
   },
   {
    "duration": 24,
    "start_time": "2022-06-05T04:28:51.395Z"
   },
   {
    "duration": 130,
    "start_time": "2022-06-05T04:29:31.493Z"
   },
   {
    "duration": 73,
    "start_time": "2022-06-05T04:35:35.567Z"
   },
   {
    "duration": 1568,
    "start_time": "2022-06-05T04:35:56.826Z"
   },
   {
    "duration": 3018,
    "start_time": "2022-06-05T04:36:06.868Z"
   },
   {
    "duration": 30250,
    "start_time": "2022-06-05T04:36:23.803Z"
   },
   {
    "duration": 129,
    "start_time": "2022-06-05T04:39:54.651Z"
   },
   {
    "duration": 5,
    "start_time": "2022-06-05T04:49:47.180Z"
   },
   {
    "duration": 13,
    "start_time": "2022-06-05T04:50:35.521Z"
   },
   {
    "duration": 1507,
    "start_time": "2022-06-05T15:33:38.977Z"
   },
   {
    "duration": 3036,
    "start_time": "2022-06-05T15:33:43.601Z"
   },
   {
    "duration": 264,
    "start_time": "2022-06-05T15:37:29.049Z"
   },
   {
    "duration": 1592,
    "start_time": "2022-06-05T18:23:49.164Z"
   },
   {
    "duration": 4008,
    "start_time": "2022-06-05T18:23:52.258Z"
   },
   {
    "duration": 6,
    "start_time": "2022-06-05T18:24:02.189Z"
   },
   {
    "duration": 5309,
    "start_time": "2022-06-05T18:30:49.007Z"
   },
   {
    "duration": 5356,
    "start_time": "2022-06-05T18:31:42.705Z"
   },
   {
    "duration": 392,
    "start_time": "2022-06-05T18:35:43.367Z"
   },
   {
    "duration": 5994,
    "start_time": "2022-06-05T18:36:11.617Z"
   },
   {
    "duration": 6067,
    "start_time": "2022-06-05T18:36:37.612Z"
   },
   {
    "duration": 181,
    "start_time": "2022-06-05T18:37:17.743Z"
   },
   {
    "duration": 5108,
    "start_time": "2022-06-05T18:37:41.559Z"
   },
   {
    "duration": 15220,
    "start_time": "2022-06-05T18:39:03.437Z"
   },
   {
    "duration": 5997,
    "start_time": "2022-06-05T18:39:44.066Z"
   },
   {
    "duration": 159,
    "start_time": "2022-06-05T18:47:56.765Z"
   },
   {
    "duration": 910,
    "start_time": "2022-06-05T19:01:38.414Z"
   },
   {
    "duration": 49,
    "start_time": "2022-06-05T19:05:55.624Z"
   },
   {
    "duration": 27,
    "start_time": "2022-06-05T19:06:27.080Z"
   },
   {
    "duration": 72,
    "start_time": "2022-06-05T19:07:20.447Z"
   },
   {
    "duration": 45,
    "start_time": "2022-06-05T19:07:42.547Z"
   },
   {
    "duration": 61,
    "start_time": "2022-06-05T19:08:03.491Z"
   },
   {
    "duration": 7184,
    "start_time": "2022-06-05T19:08:12.166Z"
   },
   {
    "duration": 7,
    "start_time": "2022-06-05T19:08:46.180Z"
   },
   {
    "duration": 37,
    "start_time": "2022-06-05T19:26:08.990Z"
   },
   {
    "duration": 237,
    "start_time": "2022-06-05T19:26:15.462Z"
   },
   {
    "duration": 5113,
    "start_time": "2022-06-05T19:26:38.794Z"
   },
   {
    "duration": 6,
    "start_time": "2022-06-05T19:26:47.015Z"
   },
   {
    "duration": 132191,
    "start_time": "2022-06-05T19:27:22.408Z"
   },
   {
    "duration": 6,
    "start_time": "2022-06-05T19:29:59.347Z"
   },
   {
    "duration": 2,
    "start_time": "2022-06-05T19:30:00.395Z"
   },
   {
    "duration": 204394,
    "start_time": "2022-06-05T19:30:44.898Z"
   },
   {
    "duration": 101,
    "start_time": "2022-06-05T19:35:25.012Z"
   },
   {
    "duration": 595,
    "start_time": "2022-06-05T19:35:29.058Z"
   },
   {
    "duration": 137,
    "start_time": "2022-06-05T19:35:33.739Z"
   },
   {
    "duration": 23,
    "start_time": "2022-06-05T19:35:37.853Z"
   },
   {
    "duration": 82,
    "start_time": "2022-06-05T19:35:42.121Z"
   },
   {
    "duration": 6411,
    "start_time": "2022-06-05T19:35:45.062Z"
   },
   {
    "duration": 105082,
    "start_time": "2022-06-05T19:37:21.778Z"
   },
   {
    "duration": 90,
    "start_time": "2022-06-05T19:42:04.973Z"
   },
   {
    "duration": 95,
    "start_time": "2022-06-05T19:42:07.781Z"
   },
   {
    "duration": 66,
    "start_time": "2022-06-05T19:42:10.656Z"
   },
   {
    "duration": 20,
    "start_time": "2022-06-05T19:42:13.476Z"
   },
   {
    "duration": 48,
    "start_time": "2022-06-05T19:42:15.667Z"
   },
   {
    "duration": 5704,
    "start_time": "2022-06-05T19:42:17.784Z"
   },
   {
    "duration": 7,
    "start_time": "2022-06-05T19:42:57.645Z"
   },
   {
    "duration": 107087,
    "start_time": "2022-06-05T20:00:12.866Z"
   },
   {
    "duration": 113646,
    "start_time": "2022-06-05T20:02:57.771Z"
   },
   {
    "duration": 22,
    "start_time": "2022-06-05T20:17:03.477Z"
   },
   {
    "duration": 16,
    "start_time": "2022-06-05T20:20:01.177Z"
   },
   {
    "duration": 19,
    "start_time": "2022-06-05T20:20:29.703Z"
   },
   {
    "duration": 20,
    "start_time": "2022-06-05T20:22:44.273Z"
   },
   {
    "duration": 18,
    "start_time": "2022-06-05T20:23:45.190Z"
   },
   {
    "duration": 19,
    "start_time": "2022-06-05T20:25:27.484Z"
   },
   {
    "duration": 20,
    "start_time": "2022-06-05T20:26:42.665Z"
   },
   {
    "duration": 71,
    "start_time": "2022-06-05T20:27:29.861Z"
   },
   {
    "duration": 2571466,
    "start_time": "2022-06-05T20:28:41.357Z"
   },
   {
    "duration": 25,
    "start_time": "2022-06-05T21:11:32.828Z"
   },
   {
    "duration": 0,
    "start_time": "2022-06-05T21:11:32.855Z"
   },
   {
    "duration": 16,
    "start_time": "2022-06-06T00:02:41.679Z"
   },
   {
    "duration": 1628,
    "start_time": "2022-06-06T14:00:55.120Z"
   },
   {
    "duration": 3830,
    "start_time": "2022-06-06T14:01:01.553Z"
   },
   {
    "duration": 6,
    "start_time": "2022-06-06T14:01:09.556Z"
   },
   {
    "duration": 114295,
    "start_time": "2022-06-06T14:01:51.172Z"
   },
   {
    "duration": 3,
    "start_time": "2022-06-06T14:04:05.009Z"
   },
   {
    "duration": 82,
    "start_time": "2022-06-06T14:04:24.003Z"
   },
   {
    "duration": 561,
    "start_time": "2022-06-06T14:04:26.039Z"
   },
   {
    "duration": 93,
    "start_time": "2022-06-06T14:04:28.988Z"
   },
   {
    "duration": 22,
    "start_time": "2022-06-06T14:04:31.757Z"
   },
   {
    "duration": 64,
    "start_time": "2022-06-06T14:04:33.986Z"
   },
   {
    "duration": 5939,
    "start_time": "2022-06-06T14:04:36.137Z"
   },
   {
    "duration": 179,
    "start_time": "2022-06-06T14:04:43.407Z"
   },
   {
    "duration": 2377478,
    "start_time": "2022-06-06T14:05:05.342Z"
   },
   {
    "duration": 2368192,
    "start_time": "2022-06-06T14:58:28.255Z"
   },
   {
    "duration": 2468358,
    "start_time": "2022-06-06T17:43:08.697Z"
   },
   {
    "duration": 2667459,
    "start_time": "2022-06-06T19:06:07.548Z"
   },
   {
    "duration": 73,
    "start_time": "2022-06-06T19:54:08.487Z"
   },
   {
    "duration": 1443270,
    "start_time": "2022-06-06T19:57:31.854Z"
   },
   {
    "duration": 2236,
    "start_time": "2022-06-06T20:33:14.931Z"
   },
   {
    "duration": 7836,
    "start_time": "2022-06-06T20:35:25.566Z"
   },
   {
    "duration": 96717,
    "start_time": "2022-06-06T20:38:35.203Z"
   },
   {
    "duration": 17024,
    "start_time": "2022-06-06T20:41:04.439Z"
   },
   {
    "duration": 6559566,
    "start_time": "2022-06-06T21:00:54.682Z"
   },
   {
    "duration": 82101,
    "start_time": "2022-06-06T23:44:13.713Z"
   },
   {
    "duration": 27508805,
    "start_time": "2022-06-06T23:45:35.816Z"
   },
   {
    "duration": 1408,
    "start_time": "2022-06-07T11:19:15.393Z"
   },
   {
    "duration": 3587,
    "start_time": "2022-06-07T11:19:20.808Z"
   },
   {
    "duration": 7,
    "start_time": "2022-06-07T11:19:27.767Z"
   },
   {
    "duration": 100989,
    "start_time": "2022-06-07T11:19:37.142Z"
   },
   {
    "duration": 70,
    "start_time": "2022-06-07T11:21:35.554Z"
   },
   {
    "duration": 676,
    "start_time": "2022-06-07T11:21:39.963Z"
   },
   {
    "duration": 117,
    "start_time": "2022-06-07T11:21:44.114Z"
   },
   {
    "duration": 21,
    "start_time": "2022-06-07T11:21:47.240Z"
   },
   {
    "duration": 62,
    "start_time": "2022-06-07T11:21:50.384Z"
   },
   {
    "duration": 5158,
    "start_time": "2022-06-07T11:21:53.662Z"
   },
   {
    "duration": 175,
    "start_time": "2022-06-07T11:23:01.216Z"
   },
   {
    "duration": 3,
    "start_time": "2022-06-07T11:23:05.379Z"
   },
   {
    "duration": 4483640,
    "start_time": "2022-06-07T11:23:07.297Z"
   },
   {
    "duration": 2426858,
    "start_time": "2022-06-07T12:38:16.416Z"
   },
   {
    "duration": 87651,
    "start_time": "2022-06-07T13:18:43.276Z"
   },
   {
    "duration": 1742,
    "start_time": "2022-06-07T14:07:15.332Z"
   },
   {
    "duration": 77405,
    "start_time": "2022-06-07T14:07:20.731Z"
   },
   {
    "duration": 8,
    "start_time": "2022-06-07T14:18:58.280Z"
   },
   {
    "duration": 1558,
    "start_time": "2022-06-08T20:05:24.032Z"
   },
   {
    "duration": 2976,
    "start_time": "2022-06-08T20:05:28.239Z"
   },
   {
    "duration": 26257,
    "start_time": "2022-06-08T20:06:51.953Z"
   },
   {
    "duration": 4,
    "start_time": "2022-06-08T20:09:55.117Z"
   },
   {
    "duration": 1804,
    "start_time": "2022-06-09T05:28:54.113Z"
   },
   {
    "duration": 3262,
    "start_time": "2022-06-09T05:28:58.944Z"
   },
   {
    "duration": 26098,
    "start_time": "2022-06-09T05:29:33.371Z"
   },
   {
    "duration": 24208,
    "start_time": "2022-06-09T05:30:08.118Z"
   },
   {
    "duration": 23010,
    "start_time": "2022-06-09T05:30:55.398Z"
   },
   {
    "duration": 22633,
    "start_time": "2022-06-09T05:44:21.400Z"
   },
   {
    "duration": 86,
    "start_time": "2022-06-09T05:45:33.097Z"
   },
   {
    "duration": 547,
    "start_time": "2022-06-09T05:45:37.377Z"
   },
   {
    "duration": 96,
    "start_time": "2022-06-09T05:45:40.999Z"
   },
   {
    "duration": 21,
    "start_time": "2022-06-09T05:45:43.959Z"
   },
   {
    "duration": 66,
    "start_time": "2022-06-09T05:45:46.654Z"
   },
   {
    "duration": 4811,
    "start_time": "2022-06-09T05:45:50.934Z"
   },
   {
    "duration": 2,
    "start_time": "2022-06-09T05:46:02.301Z"
   },
   {
    "duration": 2461439,
    "start_time": "2022-06-09T05:46:12.067Z"
   },
   {
    "duration": 427,
    "start_time": "2022-06-09T10:06:50.486Z"
   },
   {
    "duration": 3619,
    "start_time": "2022-06-09T10:06:52.652Z"
   },
   {
    "duration": 28709,
    "start_time": "2022-06-09T10:08:14.686Z"
   },
   {
    "duration": 122,
    "start_time": "2022-06-09T10:08:47.651Z"
   },
   {
    "duration": 109,
    "start_time": "2022-06-09T10:08:51.340Z"
   },
   {
    "duration": 101,
    "start_time": "2022-06-09T10:08:54.403Z"
   },
   {
    "duration": 24,
    "start_time": "2022-06-09T10:08:57.492Z"
   },
   {
    "duration": 83,
    "start_time": "2022-06-09T10:08:59.767Z"
   },
   {
    "duration": 6004,
    "start_time": "2022-06-09T10:09:02.474Z"
   },
   {
    "duration": 4,
    "start_time": "2022-06-09T10:09:10.684Z"
   },
   {
    "duration": 2336201,
    "start_time": "2022-06-09T10:09:13.247Z"
   },
   {
    "duration": 14091554,
    "start_time": "2022-06-09T10:53:05.862Z"
   },
   {
    "duration": 1495846,
    "start_time": "2022-06-09T14:49:14.736Z"
   },
   {
    "duration": 1660,
    "start_time": "2022-06-09T15:17:17.444Z"
   },
   {
    "duration": 52418,
    "start_time": "2022-06-09T15:17:21.160Z"
   },
   {
    "duration": 161590,
    "start_time": "2022-06-09T15:19:18.127Z"
   },
   {
    "duration": 13261,
    "start_time": "2022-06-09T15:22:02.859Z"
   },
   {
    "duration": 13004,
    "start_time": "2022-06-09T15:23:15.495Z"
   },
   {
    "duration": 27,
    "start_time": "2022-06-09T15:26:58.187Z"
   },
   {
    "duration": 9,
    "start_time": "2022-06-09T15:29:47.712Z"
   }
  ],
  "kernelspec": {
   "display_name": "Python 3 (ipykernel)",
   "language": "python",
   "name": "python3"
  },
  "language_info": {
   "codemirror_mode": {
    "name": "ipython",
    "version": 3
   },
   "file_extension": ".py",
   "mimetype": "text/x-python",
   "name": "python",
   "nbconvert_exporter": "python",
   "pygments_lexer": "ipython3",
   "version": "3.9.5"
  },
  "toc": {
   "base_numbering": 1,
   "nav_menu": {},
   "number_sections": true,
   "sideBar": true,
   "skip_h1_title": true,
   "title_cell": "Содержание",
   "title_sidebar": "Contents",
   "toc_cell": true,
   "toc_position": {
    "height": "calc(100% - 180px)",
    "left": "10px",
    "top": "150px",
    "width": "302.391px"
   },
   "toc_section_display": true,
   "toc_window_display": false
  }
 },
 "nbformat": 4,
 "nbformat_minor": 2
}
