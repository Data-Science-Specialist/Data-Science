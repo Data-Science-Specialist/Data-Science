{
 "cells": [
  {
   "cell_type": "markdown",
   "metadata": {
    "toc": true
   },
   "source": [
    "<h1>Содержание<span class=\"tocSkip\"></span></h1>\n",
    "<div class=\"toc\"><ul class=\"toc-item\"><li><span><a href=\"#Подготовка-данных\" data-toc-modified-id=\"Подготовка-данных-1\"><span class=\"toc-item-num\">1&nbsp;&nbsp;</span>Подготовка данных</a></span></li><li><span><a href=\"#Исследование-задачи\" data-toc-modified-id=\"Исследование-задачи-2\"><span class=\"toc-item-num\">2&nbsp;&nbsp;</span>Исследование задачи</a></span></li><li><span><a href=\"#Борьба-с-дисбалансом\" data-toc-modified-id=\"Борьба-с-дисбалансом-3\"><span class=\"toc-item-num\">3&nbsp;&nbsp;</span>Борьба с дисбалансом</a></span></li><li><span><a href=\"#Тестирование-модели\" data-toc-modified-id=\"Тестирование-модели-4\"><span class=\"toc-item-num\">4&nbsp;&nbsp;</span>Тестирование модели</a></span></li><li><span><a href=\"#Чек-лист-готовности-проекта\" data-toc-modified-id=\"Чек-лист-готовности-проекта-5\"><span class=\"toc-item-num\">5&nbsp;&nbsp;</span>Чек-лист готовности проекта</a></span></li></ul></div>"
   ]
  },
  {
   "cell_type": "markdown",
   "metadata": {},
   "source": [
    "# Отток клиентов"
   ]
  },
  {
   "cell_type": "markdown",
   "metadata": {},
   "source": [
    "Изучим данные, предоставленные сервисом для проекта."
   ]
  },
  {
   "cell_type": "markdown",
   "metadata": {},
   "source": [
    "## Подготовка данных"
   ]
  },
  {
   "cell_type": "code",
   "execution_count": 1,
   "metadata": {},
   "outputs": [],
   "source": [
    "#импортируем необходимые библиотеки\n",
    "import pandas as pd\n",
    "import matplotlib.pyplot as plt\n",
    "import numpy as np\n",
    "import seaborn as sns\n",
    "from sklearn.preprocessing import StandardScaler  \n",
    "from sklearn.model_selection import train_test_split\n",
    "from sklearn.model_selection import GridSearchCV\n",
    "from sklearn.tree import DecisionTreeClassifier\n",
    "from sklearn.linear_model import LogisticRegression \n",
    "from sklearn.ensemble import RandomForestClassifier\n",
    "from sklearn.dummy import DummyClassifier\n",
    "from sklearn.metrics import accuracy_score \n",
    "from sklearn.metrics import confusion_matrix \n",
    "from sklearn.metrics import f1_score  \n",
    "from sklearn.metrics import roc_curve  \n",
    "from sklearn.metrics import roc_auc_score  \n",
    "from sklearn.utils import shuffle \n",
    "import warnings\n",
    "warnings.filterwarnings('ignore')"
   ]
  },
  {
   "cell_type": "code",
   "execution_count": 2,
   "metadata": {},
   "outputs": [
    {
     "data": {
      "text/html": [
       "<div>\n",
       "<style scoped>\n",
       "    .dataframe tbody tr th:only-of-type {\n",
       "        vertical-align: middle;\n",
       "    }\n",
       "\n",
       "    .dataframe tbody tr th {\n",
       "        vertical-align: top;\n",
       "    }\n",
       "\n",
       "    .dataframe thead th {\n",
       "        text-align: right;\n",
       "    }\n",
       "</style>\n",
       "<table border=\"1\" class=\"dataframe\">\n",
       "  <thead>\n",
       "    <tr style=\"text-align: right;\">\n",
       "      <th></th>\n",
       "      <th>RowNumber</th>\n",
       "      <th>CustomerId</th>\n",
       "      <th>Surname</th>\n",
       "      <th>CreditScore</th>\n",
       "      <th>Geography</th>\n",
       "      <th>Gender</th>\n",
       "      <th>Age</th>\n",
       "      <th>Tenure</th>\n",
       "      <th>Balance</th>\n",
       "      <th>NumOfProducts</th>\n",
       "      <th>HasCrCard</th>\n",
       "      <th>IsActiveMember</th>\n",
       "      <th>EstimatedSalary</th>\n",
       "      <th>Exited</th>\n",
       "    </tr>\n",
       "  </thead>\n",
       "  <tbody>\n",
       "    <tr>\n",
       "      <th>0</th>\n",
       "      <td>1</td>\n",
       "      <td>15634602</td>\n",
       "      <td>Hargrave</td>\n",
       "      <td>619</td>\n",
       "      <td>France</td>\n",
       "      <td>Female</td>\n",
       "      <td>42</td>\n",
       "      <td>2.0</td>\n",
       "      <td>0.00</td>\n",
       "      <td>1</td>\n",
       "      <td>1</td>\n",
       "      <td>1</td>\n",
       "      <td>101348.88</td>\n",
       "      <td>1</td>\n",
       "    </tr>\n",
       "    <tr>\n",
       "      <th>1</th>\n",
       "      <td>2</td>\n",
       "      <td>15647311</td>\n",
       "      <td>Hill</td>\n",
       "      <td>608</td>\n",
       "      <td>Spain</td>\n",
       "      <td>Female</td>\n",
       "      <td>41</td>\n",
       "      <td>1.0</td>\n",
       "      <td>83807.86</td>\n",
       "      <td>1</td>\n",
       "      <td>0</td>\n",
       "      <td>1</td>\n",
       "      <td>112542.58</td>\n",
       "      <td>0</td>\n",
       "    </tr>\n",
       "    <tr>\n",
       "      <th>2</th>\n",
       "      <td>3</td>\n",
       "      <td>15619304</td>\n",
       "      <td>Onio</td>\n",
       "      <td>502</td>\n",
       "      <td>France</td>\n",
       "      <td>Female</td>\n",
       "      <td>42</td>\n",
       "      <td>8.0</td>\n",
       "      <td>159660.80</td>\n",
       "      <td>3</td>\n",
       "      <td>1</td>\n",
       "      <td>0</td>\n",
       "      <td>113931.57</td>\n",
       "      <td>1</td>\n",
       "    </tr>\n",
       "    <tr>\n",
       "      <th>3</th>\n",
       "      <td>4</td>\n",
       "      <td>15701354</td>\n",
       "      <td>Boni</td>\n",
       "      <td>699</td>\n",
       "      <td>France</td>\n",
       "      <td>Female</td>\n",
       "      <td>39</td>\n",
       "      <td>1.0</td>\n",
       "      <td>0.00</td>\n",
       "      <td>2</td>\n",
       "      <td>0</td>\n",
       "      <td>0</td>\n",
       "      <td>93826.63</td>\n",
       "      <td>0</td>\n",
       "    </tr>\n",
       "    <tr>\n",
       "      <th>4</th>\n",
       "      <td>5</td>\n",
       "      <td>15737888</td>\n",
       "      <td>Mitchell</td>\n",
       "      <td>850</td>\n",
       "      <td>Spain</td>\n",
       "      <td>Female</td>\n",
       "      <td>43</td>\n",
       "      <td>2.0</td>\n",
       "      <td>125510.82</td>\n",
       "      <td>1</td>\n",
       "      <td>1</td>\n",
       "      <td>1</td>\n",
       "      <td>79084.10</td>\n",
       "      <td>0</td>\n",
       "    </tr>\n",
       "  </tbody>\n",
       "</table>\n",
       "</div>"
      ],
      "text/plain": [
       "   RowNumber  CustomerId   Surname  CreditScore Geography  Gender  Age  \\\n",
       "0          1    15634602  Hargrave          619    France  Female   42   \n",
       "1          2    15647311      Hill          608     Spain  Female   41   \n",
       "2          3    15619304      Onio          502    France  Female   42   \n",
       "3          4    15701354      Boni          699    France  Female   39   \n",
       "4          5    15737888  Mitchell          850     Spain  Female   43   \n",
       "\n",
       "   Tenure    Balance  NumOfProducts  HasCrCard  IsActiveMember  \\\n",
       "0     2.0       0.00              1          1               1   \n",
       "1     1.0   83807.86              1          0               1   \n",
       "2     8.0  159660.80              3          1               0   \n",
       "3     1.0       0.00              2          0               0   \n",
       "4     2.0  125510.82              1          1               1   \n",
       "\n",
       "   EstimatedSalary  Exited  \n",
       "0        101348.88       1  \n",
       "1        112542.58       0  \n",
       "2        113931.57       1  \n",
       "3         93826.63       0  \n",
       "4         79084.10       0  "
      ]
     },
     "metadata": {},
     "output_type": "display_data"
    },
    {
     "name": "stdout",
     "output_type": "stream",
     "text": [
      "<class 'pandas.core.frame.DataFrame'>\n",
      "RangeIndex: 10000 entries, 0 to 9999\n",
      "Data columns (total 14 columns):\n",
      " #   Column           Non-Null Count  Dtype  \n",
      "---  ------           --------------  -----  \n",
      " 0   RowNumber        10000 non-null  int64  \n",
      " 1   CustomerId       10000 non-null  int64  \n",
      " 2   Surname          10000 non-null  object \n",
      " 3   CreditScore      10000 non-null  int64  \n",
      " 4   Geography        10000 non-null  object \n",
      " 5   Gender           10000 non-null  object \n",
      " 6   Age              10000 non-null  int64  \n",
      " 7   Tenure           9091 non-null   float64\n",
      " 8   Balance          10000 non-null  float64\n",
      " 9   NumOfProducts    10000 non-null  int64  \n",
      " 10  HasCrCard        10000 non-null  int64  \n",
      " 11  IsActiveMember   10000 non-null  int64  \n",
      " 12  EstimatedSalary  10000 non-null  float64\n",
      " 13  Exited           10000 non-null  int64  \n",
      "dtypes: float64(3), int64(8), object(3)\n",
      "memory usage: 1.1+ MB\n"
     ]
    },
    {
     "data": {
      "text/plain": [
       "None"
      ]
     },
     "metadata": {},
     "output_type": "display_data"
    },
    {
     "data": {
      "text/html": [
       "<div>\n",
       "<style scoped>\n",
       "    .dataframe tbody tr th:only-of-type {\n",
       "        vertical-align: middle;\n",
       "    }\n",
       "\n",
       "    .dataframe tbody tr th {\n",
       "        vertical-align: top;\n",
       "    }\n",
       "\n",
       "    .dataframe thead th {\n",
       "        text-align: right;\n",
       "    }\n",
       "</style>\n",
       "<table border=\"1\" class=\"dataframe\">\n",
       "  <thead>\n",
       "    <tr style=\"text-align: right;\">\n",
       "      <th></th>\n",
       "      <th>RowNumber</th>\n",
       "      <th>CustomerId</th>\n",
       "      <th>CreditScore</th>\n",
       "      <th>Age</th>\n",
       "      <th>Tenure</th>\n",
       "      <th>Balance</th>\n",
       "      <th>NumOfProducts</th>\n",
       "      <th>HasCrCard</th>\n",
       "      <th>IsActiveMember</th>\n",
       "      <th>EstimatedSalary</th>\n",
       "      <th>Exited</th>\n",
       "    </tr>\n",
       "  </thead>\n",
       "  <tbody>\n",
       "    <tr>\n",
       "      <th>count</th>\n",
       "      <td>10000.00000</td>\n",
       "      <td>1.000000e+04</td>\n",
       "      <td>10000.000000</td>\n",
       "      <td>10000.000000</td>\n",
       "      <td>9091.000000</td>\n",
       "      <td>10000.000000</td>\n",
       "      <td>10000.000000</td>\n",
       "      <td>10000.00000</td>\n",
       "      <td>10000.000000</td>\n",
       "      <td>10000.000000</td>\n",
       "      <td>10000.000000</td>\n",
       "    </tr>\n",
       "    <tr>\n",
       "      <th>mean</th>\n",
       "      <td>5000.50000</td>\n",
       "      <td>1.569094e+07</td>\n",
       "      <td>650.528800</td>\n",
       "      <td>38.921800</td>\n",
       "      <td>4.997690</td>\n",
       "      <td>76485.889288</td>\n",
       "      <td>1.530200</td>\n",
       "      <td>0.70550</td>\n",
       "      <td>0.515100</td>\n",
       "      <td>100090.239881</td>\n",
       "      <td>0.203700</td>\n",
       "    </tr>\n",
       "    <tr>\n",
       "      <th>std</th>\n",
       "      <td>2886.89568</td>\n",
       "      <td>7.193619e+04</td>\n",
       "      <td>96.653299</td>\n",
       "      <td>10.487806</td>\n",
       "      <td>2.894723</td>\n",
       "      <td>62397.405202</td>\n",
       "      <td>0.581654</td>\n",
       "      <td>0.45584</td>\n",
       "      <td>0.499797</td>\n",
       "      <td>57510.492818</td>\n",
       "      <td>0.402769</td>\n",
       "    </tr>\n",
       "    <tr>\n",
       "      <th>min</th>\n",
       "      <td>1.00000</td>\n",
       "      <td>1.556570e+07</td>\n",
       "      <td>350.000000</td>\n",
       "      <td>18.000000</td>\n",
       "      <td>0.000000</td>\n",
       "      <td>0.000000</td>\n",
       "      <td>1.000000</td>\n",
       "      <td>0.00000</td>\n",
       "      <td>0.000000</td>\n",
       "      <td>11.580000</td>\n",
       "      <td>0.000000</td>\n",
       "    </tr>\n",
       "    <tr>\n",
       "      <th>25%</th>\n",
       "      <td>2500.75000</td>\n",
       "      <td>1.562853e+07</td>\n",
       "      <td>584.000000</td>\n",
       "      <td>32.000000</td>\n",
       "      <td>2.000000</td>\n",
       "      <td>0.000000</td>\n",
       "      <td>1.000000</td>\n",
       "      <td>0.00000</td>\n",
       "      <td>0.000000</td>\n",
       "      <td>51002.110000</td>\n",
       "      <td>0.000000</td>\n",
       "    </tr>\n",
       "    <tr>\n",
       "      <th>50%</th>\n",
       "      <td>5000.50000</td>\n",
       "      <td>1.569074e+07</td>\n",
       "      <td>652.000000</td>\n",
       "      <td>37.000000</td>\n",
       "      <td>5.000000</td>\n",
       "      <td>97198.540000</td>\n",
       "      <td>1.000000</td>\n",
       "      <td>1.00000</td>\n",
       "      <td>1.000000</td>\n",
       "      <td>100193.915000</td>\n",
       "      <td>0.000000</td>\n",
       "    </tr>\n",
       "    <tr>\n",
       "      <th>75%</th>\n",
       "      <td>7500.25000</td>\n",
       "      <td>1.575323e+07</td>\n",
       "      <td>718.000000</td>\n",
       "      <td>44.000000</td>\n",
       "      <td>7.000000</td>\n",
       "      <td>127644.240000</td>\n",
       "      <td>2.000000</td>\n",
       "      <td>1.00000</td>\n",
       "      <td>1.000000</td>\n",
       "      <td>149388.247500</td>\n",
       "      <td>0.000000</td>\n",
       "    </tr>\n",
       "    <tr>\n",
       "      <th>max</th>\n",
       "      <td>10000.00000</td>\n",
       "      <td>1.581569e+07</td>\n",
       "      <td>850.000000</td>\n",
       "      <td>92.000000</td>\n",
       "      <td>10.000000</td>\n",
       "      <td>250898.090000</td>\n",
       "      <td>4.000000</td>\n",
       "      <td>1.00000</td>\n",
       "      <td>1.000000</td>\n",
       "      <td>199992.480000</td>\n",
       "      <td>1.000000</td>\n",
       "    </tr>\n",
       "  </tbody>\n",
       "</table>\n",
       "</div>"
      ],
      "text/plain": [
       "         RowNumber    CustomerId   CreditScore           Age       Tenure  \\\n",
       "count  10000.00000  1.000000e+04  10000.000000  10000.000000  9091.000000   \n",
       "mean    5000.50000  1.569094e+07    650.528800     38.921800     4.997690   \n",
       "std     2886.89568  7.193619e+04     96.653299     10.487806     2.894723   \n",
       "min        1.00000  1.556570e+07    350.000000     18.000000     0.000000   \n",
       "25%     2500.75000  1.562853e+07    584.000000     32.000000     2.000000   \n",
       "50%     5000.50000  1.569074e+07    652.000000     37.000000     5.000000   \n",
       "75%     7500.25000  1.575323e+07    718.000000     44.000000     7.000000   \n",
       "max    10000.00000  1.581569e+07    850.000000     92.000000    10.000000   \n",
       "\n",
       "             Balance  NumOfProducts    HasCrCard  IsActiveMember  \\\n",
       "count   10000.000000   10000.000000  10000.00000    10000.000000   \n",
       "mean    76485.889288       1.530200      0.70550        0.515100   \n",
       "std     62397.405202       0.581654      0.45584        0.499797   \n",
       "min         0.000000       1.000000      0.00000        0.000000   \n",
       "25%         0.000000       1.000000      0.00000        0.000000   \n",
       "50%     97198.540000       1.000000      1.00000        1.000000   \n",
       "75%    127644.240000       2.000000      1.00000        1.000000   \n",
       "max    250898.090000       4.000000      1.00000        1.000000   \n",
       "\n",
       "       EstimatedSalary        Exited  \n",
       "count     10000.000000  10000.000000  \n",
       "mean     100090.239881      0.203700  \n",
       "std       57510.492818      0.402769  \n",
       "min          11.580000      0.000000  \n",
       "25%       51002.110000      0.000000  \n",
       "50%      100193.915000      0.000000  \n",
       "75%      149388.247500      0.000000  \n",
       "max      199992.480000      1.000000  "
      ]
     },
     "metadata": {},
     "output_type": "display_data"
    },
    {
     "data": {
      "text/plain": [
       "RowNumber            0\n",
       "CustomerId           0\n",
       "Surname              0\n",
       "CreditScore          0\n",
       "Geography            0\n",
       "Gender               0\n",
       "Age                  0\n",
       "Tenure             909\n",
       "Balance              0\n",
       "NumOfProducts        0\n",
       "HasCrCard            0\n",
       "IsActiveMember       0\n",
       "EstimatedSalary      0\n",
       "Exited               0\n",
       "dtype: int64"
      ]
     },
     "metadata": {},
     "output_type": "display_data"
    },
    {
     "data": {
      "text/plain": [
       "0"
      ]
     },
     "metadata": {},
     "output_type": "display_data"
    },
    {
     "data": {
      "text/plain": [
       "None"
      ]
     },
     "metadata": {},
     "output_type": "display_data"
    }
   ],
   "source": [
    "#сохраним датасет и посмотрим всю информацию о нём\n",
    "df = pd.read_csv('/datasets/Churn.csv')\n",
    "\n",
    "def info_df(df): \n",
    "    display(df.head()) #первые пять строк\n",
    "    display(df.info()) #общую информацию\n",
    "    display(df.describe()) #статистическую информацию\n",
    "    display(df.isna().sum()) #пропуски\n",
    "    display(df.duplicated().sum()) #дубликаты\n",
    "                     \n",
    "display(info_df(df))"
   ]
  },
  {
   "cell_type": "markdown",
   "metadata": {},
   "source": [
    "Изучив информацию о датасете, вдим: синтаксические и стилистические нарушения, пропуски в столбце Tenure, дубликатов нет. В столбце Баланс возможен выброс. Максимальное значение намного больше среднего. "
   ]
  },
  {
   "cell_type": "markdown",
   "metadata": {},
   "source": [
    "<body>\n",
    "Обратимся к описанию данных.<br/>\n",
    "\n",
    "Признаки:<br/> \n",
    "RowNumber — индекс строки в данных;<br/> \n",
    "CustomerId — уникальный идентификатор клиента;<br/> \n",
    "Surname — фамилия;<br/> \n",
    "CreditScore — кредитный рейтинг;<br/> \n",
    "Geography — страна проживания;<br/> \n",
    "Gender — пол;<br/> \n",
    "Age — возраст;<br/>\n",
    "Tenure — сколько лет человек является клиентом банка;<br/> \n",
    "Balance — баланс на счёте;<br/> \n",
    "NumOfProducts — количество продуктов банка, используемых клиентом;<br/> \n",
    "HasCrCard — наличие кредитной карты;<br/> \n",
    "IsActiveMember — активность клиента;<br/> \n",
    "EstimatedSalary — предполагаемая зарплата.<br/> \n",
    "\n",
    "Целевой признак:<br/> \n",
    "Exited — факт ухода клиента.<br/>\n",
    "    </body>"
   ]
  },
  {
   "cell_type": "markdown",
   "metadata": {},
   "source": [
    "Для дальнешего исследования необходимо подготовить данные: удалим лишние столбцы (они не нужны для исследования оттока клиентов), привести именования столбцов к нижнему регистру и к стилистическому и синтаксическому стилю, подумать что делать с пропусками."
   ]
  },
  {
   "cell_type": "code",
   "execution_count": 3,
   "metadata": {},
   "outputs": [
    {
     "name": "stdout",
     "output_type": "stream",
     "text": [
      "<class 'pandas.core.frame.DataFrame'>\n",
      "RangeIndex: 10000 entries, 0 to 9999\n",
      "Data columns (total 11 columns):\n",
      " #   Column           Non-Null Count  Dtype  \n",
      "---  ------           --------------  -----  \n",
      " 0   CreditScore      10000 non-null  int64  \n",
      " 1   Geography        10000 non-null  object \n",
      " 2   Gender           10000 non-null  object \n",
      " 3   Age              10000 non-null  int64  \n",
      " 4   Tenure           9091 non-null   float64\n",
      " 5   Balance          10000 non-null  float64\n",
      " 6   NumOfProducts    10000 non-null  int64  \n",
      " 7   HasCrCard        10000 non-null  int64  \n",
      " 8   IsActiveMember   10000 non-null  int64  \n",
      " 9   EstimatedSalary  10000 non-null  float64\n",
      " 10  Exited           10000 non-null  int64  \n",
      "dtypes: float64(3), int64(6), object(2)\n",
      "memory usage: 859.5+ KB\n"
     ]
    }
   ],
   "source": [
    "df = df.drop(columns = ['Surname', 'CustomerId', 'RowNumber'], axis = 1) \n",
    "df.info()"
   ]
  },
  {
   "cell_type": "code",
   "execution_count": 4,
   "metadata": {
    "scrolled": true
   },
   "outputs": [
    {
     "data": {
      "text/html": [
       "<div>\n",
       "<style scoped>\n",
       "    .dataframe tbody tr th:only-of-type {\n",
       "        vertical-align: middle;\n",
       "    }\n",
       "\n",
       "    .dataframe tbody tr th {\n",
       "        vertical-align: top;\n",
       "    }\n",
       "\n",
       "    .dataframe thead th {\n",
       "        text-align: right;\n",
       "    }\n",
       "</style>\n",
       "<table border=\"1\" class=\"dataframe\">\n",
       "  <thead>\n",
       "    <tr style=\"text-align: right;\">\n",
       "      <th></th>\n",
       "      <th>credit_score</th>\n",
       "      <th>geography</th>\n",
       "      <th>gender</th>\n",
       "      <th>age</th>\n",
       "      <th>tenure</th>\n",
       "      <th>balance</th>\n",
       "      <th>num_of_products</th>\n",
       "      <th>has_cr_card</th>\n",
       "      <th>is_active_member</th>\n",
       "      <th>estimated_salary</th>\n",
       "      <th>exited</th>\n",
       "    </tr>\n",
       "  </thead>\n",
       "  <tbody>\n",
       "    <tr>\n",
       "      <th>0</th>\n",
       "      <td>619</td>\n",
       "      <td>France</td>\n",
       "      <td>Female</td>\n",
       "      <td>42</td>\n",
       "      <td>2.0</td>\n",
       "      <td>0.00</td>\n",
       "      <td>1</td>\n",
       "      <td>1</td>\n",
       "      <td>1</td>\n",
       "      <td>101348.88</td>\n",
       "      <td>1</td>\n",
       "    </tr>\n",
       "    <tr>\n",
       "      <th>1</th>\n",
       "      <td>608</td>\n",
       "      <td>Spain</td>\n",
       "      <td>Female</td>\n",
       "      <td>41</td>\n",
       "      <td>1.0</td>\n",
       "      <td>83807.86</td>\n",
       "      <td>1</td>\n",
       "      <td>0</td>\n",
       "      <td>1</td>\n",
       "      <td>112542.58</td>\n",
       "      <td>0</td>\n",
       "    </tr>\n",
       "    <tr>\n",
       "      <th>2</th>\n",
       "      <td>502</td>\n",
       "      <td>France</td>\n",
       "      <td>Female</td>\n",
       "      <td>42</td>\n",
       "      <td>8.0</td>\n",
       "      <td>159660.80</td>\n",
       "      <td>3</td>\n",
       "      <td>1</td>\n",
       "      <td>0</td>\n",
       "      <td>113931.57</td>\n",
       "      <td>1</td>\n",
       "    </tr>\n",
       "    <tr>\n",
       "      <th>3</th>\n",
       "      <td>699</td>\n",
       "      <td>France</td>\n",
       "      <td>Female</td>\n",
       "      <td>39</td>\n",
       "      <td>1.0</td>\n",
       "      <td>0.00</td>\n",
       "      <td>2</td>\n",
       "      <td>0</td>\n",
       "      <td>0</td>\n",
       "      <td>93826.63</td>\n",
       "      <td>0</td>\n",
       "    </tr>\n",
       "    <tr>\n",
       "      <th>4</th>\n",
       "      <td>850</td>\n",
       "      <td>Spain</td>\n",
       "      <td>Female</td>\n",
       "      <td>43</td>\n",
       "      <td>2.0</td>\n",
       "      <td>125510.82</td>\n",
       "      <td>1</td>\n",
       "      <td>1</td>\n",
       "      <td>1</td>\n",
       "      <td>79084.10</td>\n",
       "      <td>0</td>\n",
       "    </tr>\n",
       "    <tr>\n",
       "      <th>5</th>\n",
       "      <td>645</td>\n",
       "      <td>Spain</td>\n",
       "      <td>Male</td>\n",
       "      <td>44</td>\n",
       "      <td>8.0</td>\n",
       "      <td>113755.78</td>\n",
       "      <td>2</td>\n",
       "      <td>1</td>\n",
       "      <td>0</td>\n",
       "      <td>149756.71</td>\n",
       "      <td>1</td>\n",
       "    </tr>\n",
       "    <tr>\n",
       "      <th>6</th>\n",
       "      <td>822</td>\n",
       "      <td>France</td>\n",
       "      <td>Male</td>\n",
       "      <td>50</td>\n",
       "      <td>7.0</td>\n",
       "      <td>0.00</td>\n",
       "      <td>2</td>\n",
       "      <td>1</td>\n",
       "      <td>1</td>\n",
       "      <td>10062.80</td>\n",
       "      <td>0</td>\n",
       "    </tr>\n",
       "    <tr>\n",
       "      <th>7</th>\n",
       "      <td>376</td>\n",
       "      <td>Germany</td>\n",
       "      <td>Female</td>\n",
       "      <td>29</td>\n",
       "      <td>4.0</td>\n",
       "      <td>115046.74</td>\n",
       "      <td>4</td>\n",
       "      <td>1</td>\n",
       "      <td>0</td>\n",
       "      <td>119346.88</td>\n",
       "      <td>1</td>\n",
       "    </tr>\n",
       "    <tr>\n",
       "      <th>8</th>\n",
       "      <td>501</td>\n",
       "      <td>France</td>\n",
       "      <td>Male</td>\n",
       "      <td>44</td>\n",
       "      <td>4.0</td>\n",
       "      <td>142051.07</td>\n",
       "      <td>2</td>\n",
       "      <td>0</td>\n",
       "      <td>1</td>\n",
       "      <td>74940.50</td>\n",
       "      <td>0</td>\n",
       "    </tr>\n",
       "    <tr>\n",
       "      <th>9</th>\n",
       "      <td>684</td>\n",
       "      <td>France</td>\n",
       "      <td>Male</td>\n",
       "      <td>27</td>\n",
       "      <td>2.0</td>\n",
       "      <td>134603.88</td>\n",
       "      <td>1</td>\n",
       "      <td>1</td>\n",
       "      <td>1</td>\n",
       "      <td>71725.73</td>\n",
       "      <td>0</td>\n",
       "    </tr>\n",
       "  </tbody>\n",
       "</table>\n",
       "</div>"
      ],
      "text/plain": [
       "   credit_score geography  gender  age  tenure    balance  num_of_products  \\\n",
       "0           619    France  Female   42     2.0       0.00                1   \n",
       "1           608     Spain  Female   41     1.0   83807.86                1   \n",
       "2           502    France  Female   42     8.0  159660.80                3   \n",
       "3           699    France  Female   39     1.0       0.00                2   \n",
       "4           850     Spain  Female   43     2.0  125510.82                1   \n",
       "5           645     Spain    Male   44     8.0  113755.78                2   \n",
       "6           822    France    Male   50     7.0       0.00                2   \n",
       "7           376   Germany  Female   29     4.0  115046.74                4   \n",
       "8           501    France    Male   44     4.0  142051.07                2   \n",
       "9           684    France    Male   27     2.0  134603.88                1   \n",
       "\n",
       "   has_cr_card  is_active_member  estimated_salary  exited  \n",
       "0            1                 1         101348.88       1  \n",
       "1            0                 1         112542.58       0  \n",
       "2            1                 0         113931.57       1  \n",
       "3            0                 0          93826.63       0  \n",
       "4            1                 1          79084.10       0  \n",
       "5            1                 0         149756.71       1  \n",
       "6            1                 1          10062.80       0  \n",
       "7            1                 0         119346.88       1  \n",
       "8            0                 1          74940.50       0  \n",
       "9            1                 1          71725.73       0  "
      ]
     },
     "execution_count": 4,
     "metadata": {},
     "output_type": "execute_result"
    }
   ],
   "source": [
    "#переименуем столбцы и приведём к нижнему регистру\n",
    "df = df.rename(columns={\n",
    "                  \"CreditScore\": \"Credit_Score\",\n",
    "                  \"NumOfProducts\": \"Num_Of_Products\",\n",
    "                  \"HasCrCard\": \"Has_Cr_Card\",\n",
    "                  \"IsActiveMember\": \"Is_Active_Member\",\n",
    "                  \"EstimatedSalary\": \"Estimated_Salary\"})\n",
    "\n",
    "df.columns = [x.lower() for x in df.columns]\n",
    "df.head(10)"
   ]
  },
  {
   "cell_type": "markdown",
   "metadata": {},
   "source": [
    "Теперь обдумаем как заменить пропуски в столбце tenure."
   ]
  },
  {
   "cell_type": "code",
   "execution_count": 5,
   "metadata": {
    "scrolled": true
   },
   "outputs": [
    {
     "data": {
      "text/plain": [
       "array([ 2.,  1.,  8.,  7.,  4.,  6.,  3., 10.,  5.,  9.,  0., nan])"
      ]
     },
     "execution_count": 5,
     "metadata": {},
     "output_type": "execute_result"
    }
   ],
   "source": [
    "df['tenure'].unique()"
   ]
  },
  {
   "cell_type": "code",
   "execution_count": 6,
   "metadata": {
    "scrolled": false
   },
   "outputs": [
    {
     "data": {
      "text/plain": [
       "<AxesSubplot:>"
      ]
     },
     "execution_count": 6,
     "metadata": {},
     "output_type": "execute_result"
    },
    {
     "data": {
      "image/png": "[encoded data removed]",
      "text/plain": [
       "<Figure size 720x720 with 2 Axes>"
      ]
     },
     "metadata": {
      "needs_background": "light"
     },
     "output_type": "display_data"
    }
   ],
   "source": [
    "fig, ax = plt.subplots(figsize=(10, 10))\n",
    "sns.heatmap(df.corr(), annot = True, fmt='.1g', vmin=-1, vmax=1, center= 0, cmap= 'coolwarm', square=True, ax = ax)"
   ]
  },
  {
   "cell_type": "markdown",
   "metadata": {},
   "source": [
    "Корреляция очень слабая и ничего сказать о зависимости нельзя. Поэтому заменим значения медианой и переведём в целочисленный тип данных. Всё таки скоько лет человек явялялся клиентом банка предполагает целое число лет."
   ]
  },
  {
   "cell_type": "code",
   "execution_count": 7,
   "metadata": {},
   "outputs": [
    {
     "data": {
      "text/plain": [
       "credit_score        0\n",
       "geography           0\n",
       "gender              0\n",
       "age                 0\n",
       "tenure              0\n",
       "balance             0\n",
       "num_of_products     0\n",
       "has_cr_card         0\n",
       "is_active_member    0\n",
       "estimated_salary    0\n",
       "exited              0\n",
       "dtype: int64"
      ]
     },
     "execution_count": 7,
     "metadata": {},
     "output_type": "execute_result"
    }
   ],
   "source": [
    "df['tenure'] = df['tenure'].fillna(df['tenure'].median())\n",
    "df.isna().sum()"
   ]
  },
  {
   "cell_type": "code",
   "execution_count": 8,
   "metadata": {},
   "outputs": [
    {
     "name": "stdout",
     "output_type": "stream",
     "text": [
      "<class 'pandas.core.frame.DataFrame'>\n",
      "RangeIndex: 10000 entries, 0 to 9999\n",
      "Data columns (total 11 columns):\n",
      " #   Column            Non-Null Count  Dtype  \n",
      "---  ------            --------------  -----  \n",
      " 0   credit_score      10000 non-null  int64  \n",
      " 1   geography         10000 non-null  object \n",
      " 2   gender            10000 non-null  object \n",
      " 3   age               10000 non-null  int64  \n",
      " 4   tenure            10000 non-null  int64  \n",
      " 5   balance           10000 non-null  float64\n",
      " 6   num_of_products   10000 non-null  int64  \n",
      " 7   has_cr_card       10000 non-null  int64  \n",
      " 8   is_active_member  10000 non-null  int64  \n",
      " 9   estimated_salary  10000 non-null  float64\n",
      " 10  exited            10000 non-null  int64  \n",
      "dtypes: float64(2), int64(7), object(2)\n",
      "memory usage: 859.5+ KB\n"
     ]
    }
   ],
   "source": [
    "df['tenure'] = df['tenure'].astype('int')\n",
    "df.info()"
   ]
  },
  {
   "cell_type": "markdown",
   "metadata": {},
   "source": [
    "Поскольку в датасете есть категориальны признаки, необходимо их преобразовать. Остановимся на технике One-Hot Encoding. Она подходит для решения нашей задачи: работает со всеми моделями."
   ]
  },
  {
   "cell_type": "code",
   "execution_count": 9,
   "metadata": {},
   "outputs": [
    {
     "data": {
      "text/plain": [
       "array(['France', 'Spain', 'Germany'], dtype=object)"
      ]
     },
     "execution_count": 9,
     "metadata": {},
     "output_type": "execute_result"
    }
   ],
   "source": [
    "#посмотрим какие страны есть в столбце\n",
    "df['geography'].unique()"
   ]
  },
  {
   "cell_type": "code",
   "execution_count": 10,
   "metadata": {},
   "outputs": [
    {
     "data": {
      "text/html": [
       "<div>\n",
       "<style scoped>\n",
       "    .dataframe tbody tr th:only-of-type {\n",
       "        vertical-align: middle;\n",
       "    }\n",
       "\n",
       "    .dataframe tbody tr th {\n",
       "        vertical-align: top;\n",
       "    }\n",
       "\n",
       "    .dataframe thead th {\n",
       "        text-align: right;\n",
       "    }\n",
       "</style>\n",
       "<table border=\"1\" class=\"dataframe\">\n",
       "  <thead>\n",
       "    <tr style=\"text-align: right;\">\n",
       "      <th></th>\n",
       "      <th>credit_score</th>\n",
       "      <th>age</th>\n",
       "      <th>tenure</th>\n",
       "      <th>balance</th>\n",
       "      <th>num_of_products</th>\n",
       "      <th>has_cr_card</th>\n",
       "      <th>is_active_member</th>\n",
       "      <th>estimated_salary</th>\n",
       "      <th>exited</th>\n",
       "      <th>geography_Germany</th>\n",
       "      <th>geography_Spain</th>\n",
       "      <th>gender_Male</th>\n",
       "    </tr>\n",
       "  </thead>\n",
       "  <tbody>\n",
       "    <tr>\n",
       "      <th>0</th>\n",
       "      <td>619</td>\n",
       "      <td>42</td>\n",
       "      <td>2</td>\n",
       "      <td>0.00</td>\n",
       "      <td>1</td>\n",
       "      <td>1</td>\n",
       "      <td>1</td>\n",
       "      <td>101348.88</td>\n",
       "      <td>1</td>\n",
       "      <td>0</td>\n",
       "      <td>0</td>\n",
       "      <td>0</td>\n",
       "    </tr>\n",
       "    <tr>\n",
       "      <th>1</th>\n",
       "      <td>608</td>\n",
       "      <td>41</td>\n",
       "      <td>1</td>\n",
       "      <td>83807.86</td>\n",
       "      <td>1</td>\n",
       "      <td>0</td>\n",
       "      <td>1</td>\n",
       "      <td>112542.58</td>\n",
       "      <td>0</td>\n",
       "      <td>0</td>\n",
       "      <td>1</td>\n",
       "      <td>0</td>\n",
       "    </tr>\n",
       "    <tr>\n",
       "      <th>2</th>\n",
       "      <td>502</td>\n",
       "      <td>42</td>\n",
       "      <td>8</td>\n",
       "      <td>159660.80</td>\n",
       "      <td>3</td>\n",
       "      <td>1</td>\n",
       "      <td>0</td>\n",
       "      <td>113931.57</td>\n",
       "      <td>1</td>\n",
       "      <td>0</td>\n",
       "      <td>0</td>\n",
       "      <td>0</td>\n",
       "    </tr>\n",
       "    <tr>\n",
       "      <th>3</th>\n",
       "      <td>699</td>\n",
       "      <td>39</td>\n",
       "      <td>1</td>\n",
       "      <td>0.00</td>\n",
       "      <td>2</td>\n",
       "      <td>0</td>\n",
       "      <td>0</td>\n",
       "      <td>93826.63</td>\n",
       "      <td>0</td>\n",
       "      <td>0</td>\n",
       "      <td>0</td>\n",
       "      <td>0</td>\n",
       "    </tr>\n",
       "    <tr>\n",
       "      <th>4</th>\n",
       "      <td>850</td>\n",
       "      <td>43</td>\n",
       "      <td>2</td>\n",
       "      <td>125510.82</td>\n",
       "      <td>1</td>\n",
       "      <td>1</td>\n",
       "      <td>1</td>\n",
       "      <td>79084.10</td>\n",
       "      <td>0</td>\n",
       "      <td>0</td>\n",
       "      <td>1</td>\n",
       "      <td>0</td>\n",
       "    </tr>\n",
       "    <tr>\n",
       "      <th>5</th>\n",
       "      <td>645</td>\n",
       "      <td>44</td>\n",
       "      <td>8</td>\n",
       "      <td>113755.78</td>\n",
       "      <td>2</td>\n",
       "      <td>1</td>\n",
       "      <td>0</td>\n",
       "      <td>149756.71</td>\n",
       "      <td>1</td>\n",
       "      <td>0</td>\n",
       "      <td>1</td>\n",
       "      <td>1</td>\n",
       "    </tr>\n",
       "    <tr>\n",
       "      <th>6</th>\n",
       "      <td>822</td>\n",
       "      <td>50</td>\n",
       "      <td>7</td>\n",
       "      <td>0.00</td>\n",
       "      <td>2</td>\n",
       "      <td>1</td>\n",
       "      <td>1</td>\n",
       "      <td>10062.80</td>\n",
       "      <td>0</td>\n",
       "      <td>0</td>\n",
       "      <td>0</td>\n",
       "      <td>1</td>\n",
       "    </tr>\n",
       "    <tr>\n",
       "      <th>7</th>\n",
       "      <td>376</td>\n",
       "      <td>29</td>\n",
       "      <td>4</td>\n",
       "      <td>115046.74</td>\n",
       "      <td>4</td>\n",
       "      <td>1</td>\n",
       "      <td>0</td>\n",
       "      <td>119346.88</td>\n",
       "      <td>1</td>\n",
       "      <td>1</td>\n",
       "      <td>0</td>\n",
       "      <td>0</td>\n",
       "    </tr>\n",
       "    <tr>\n",
       "      <th>8</th>\n",
       "      <td>501</td>\n",
       "      <td>44</td>\n",
       "      <td>4</td>\n",
       "      <td>142051.07</td>\n",
       "      <td>2</td>\n",
       "      <td>0</td>\n",
       "      <td>1</td>\n",
       "      <td>74940.50</td>\n",
       "      <td>0</td>\n",
       "      <td>0</td>\n",
       "      <td>0</td>\n",
       "      <td>1</td>\n",
       "    </tr>\n",
       "    <tr>\n",
       "      <th>9</th>\n",
       "      <td>684</td>\n",
       "      <td>27</td>\n",
       "      <td>2</td>\n",
       "      <td>134603.88</td>\n",
       "      <td>1</td>\n",
       "      <td>1</td>\n",
       "      <td>1</td>\n",
       "      <td>71725.73</td>\n",
       "      <td>0</td>\n",
       "      <td>0</td>\n",
       "      <td>0</td>\n",
       "      <td>1</td>\n",
       "    </tr>\n",
       "  </tbody>\n",
       "</table>\n",
       "</div>"
      ],
      "text/plain": [
       "   credit_score  age  tenure    balance  num_of_products  has_cr_card  \\\n",
       "0           619   42       2       0.00                1            1   \n",
       "1           608   41       1   83807.86                1            0   \n",
       "2           502   42       8  159660.80                3            1   \n",
       "3           699   39       1       0.00                2            0   \n",
       "4           850   43       2  125510.82                1            1   \n",
       "5           645   44       8  113755.78                2            1   \n",
       "6           822   50       7       0.00                2            1   \n",
       "7           376   29       4  115046.74                4            1   \n",
       "8           501   44       4  142051.07                2            0   \n",
       "9           684   27       2  134603.88                1            1   \n",
       "\n",
       "   is_active_member  estimated_salary  exited  geography_Germany  \\\n",
       "0                 1         101348.88       1                  0   \n",
       "1                 1         112542.58       0                  0   \n",
       "2                 0         113931.57       1                  0   \n",
       "3                 0          93826.63       0                  0   \n",
       "4                 1          79084.10       0                  0   \n",
       "5                 0         149756.71       1                  0   \n",
       "6                 1          10062.80       0                  0   \n",
       "7                 0         119346.88       1                  1   \n",
       "8                 1          74940.50       0                  0   \n",
       "9                 1          71725.73       0                  0   \n",
       "\n",
       "   geography_Spain  gender_Male  \n",
       "0                0            0  \n",
       "1                1            0  \n",
       "2                0            0  \n",
       "3                0            0  \n",
       "4                1            0  \n",
       "5                1            1  \n",
       "6                0            1  \n",
       "7                0            0  \n",
       "8                0            1  \n",
       "9                0            1  "
      ]
     },
     "metadata": {},
     "output_type": "display_data"
    }
   ],
   "source": [
    "#применяем технику OHE\n",
    "df_ohe = pd.get_dummies(df, drop_first=True) \n",
    "display(df_ohe.head(10))"
   ]
  },
  {
   "cell_type": "code",
   "execution_count": 11,
   "metadata": {},
   "outputs": [
    {
     "name": "stdout",
     "output_type": "stream",
     "text": [
      "<class 'pandas.core.frame.DataFrame'>\n",
      "RangeIndex: 10000 entries, 0 to 9999\n",
      "Data columns (total 12 columns):\n",
      " #   Column             Non-Null Count  Dtype  \n",
      "---  ------             --------------  -----  \n",
      " 0   credit_score       10000 non-null  int64  \n",
      " 1   age                10000 non-null  int64  \n",
      " 2   tenure             10000 non-null  int64  \n",
      " 3   balance            10000 non-null  float64\n",
      " 4   num_of_products    10000 non-null  int64  \n",
      " 5   has_cr_card        10000 non-null  int64  \n",
      " 6   is_active_member   10000 non-null  int64  \n",
      " 7   estimated_salary   10000 non-null  float64\n",
      " 8   exited             10000 non-null  int64  \n",
      " 9   geography_Germany  10000 non-null  uint8  \n",
      " 10  geography_Spain    10000 non-null  uint8  \n",
      " 11  gender_Male        10000 non-null  uint8  \n",
      "dtypes: float64(2), int64(7), uint8(3)\n",
      "memory usage: 732.5 KB\n"
     ]
    }
   ],
   "source": [
    "df_ohe.info()"
   ]
  },
  {
   "cell_type": "markdown",
   "metadata": {},
   "source": [
    "Из таблицы вылетел столбец Франция, ничего страшного, поскольку Францию можно опознать просто по отсутствию единиц в остальных столбцах."
   ]
  },
  {
   "cell_type": "markdown",
   "metadata": {},
   "source": [
    "Поскольку после кодирования в наименовании новых столбцов появились заглавные буквы, приведём еще раз всё в нижний регистр. А столбец gender_Male всё же лучше переименовать просто в gender. "
   ]
  },
  {
   "cell_type": "code",
   "execution_count": 12,
   "metadata": {},
   "outputs": [
    {
     "data": {
      "text/html": [
       "<div>\n",
       "<style scoped>\n",
       "    .dataframe tbody tr th:only-of-type {\n",
       "        vertical-align: middle;\n",
       "    }\n",
       "\n",
       "    .dataframe tbody tr th {\n",
       "        vertical-align: top;\n",
       "    }\n",
       "\n",
       "    .dataframe thead th {\n",
       "        text-align: right;\n",
       "    }\n",
       "</style>\n",
       "<table border=\"1\" class=\"dataframe\">\n",
       "  <thead>\n",
       "    <tr style=\"text-align: right;\">\n",
       "      <th></th>\n",
       "      <th>credit_score</th>\n",
       "      <th>age</th>\n",
       "      <th>tenure</th>\n",
       "      <th>balance</th>\n",
       "      <th>num_of_products</th>\n",
       "      <th>has_cr_card</th>\n",
       "      <th>is_active_member</th>\n",
       "      <th>estimated_salary</th>\n",
       "      <th>exited</th>\n",
       "      <th>geography_germany</th>\n",
       "      <th>geography_spain</th>\n",
       "      <th>gender</th>\n",
       "    </tr>\n",
       "  </thead>\n",
       "  <tbody>\n",
       "    <tr>\n",
       "      <th>0</th>\n",
       "      <td>619</td>\n",
       "      <td>42</td>\n",
       "      <td>2</td>\n",
       "      <td>0.00</td>\n",
       "      <td>1</td>\n",
       "      <td>1</td>\n",
       "      <td>1</td>\n",
       "      <td>101348.88</td>\n",
       "      <td>1</td>\n",
       "      <td>0</td>\n",
       "      <td>0</td>\n",
       "      <td>0</td>\n",
       "    </tr>\n",
       "    <tr>\n",
       "      <th>1</th>\n",
       "      <td>608</td>\n",
       "      <td>41</td>\n",
       "      <td>1</td>\n",
       "      <td>83807.86</td>\n",
       "      <td>1</td>\n",
       "      <td>0</td>\n",
       "      <td>1</td>\n",
       "      <td>112542.58</td>\n",
       "      <td>0</td>\n",
       "      <td>0</td>\n",
       "      <td>1</td>\n",
       "      <td>0</td>\n",
       "    </tr>\n",
       "    <tr>\n",
       "      <th>2</th>\n",
       "      <td>502</td>\n",
       "      <td>42</td>\n",
       "      <td>8</td>\n",
       "      <td>159660.80</td>\n",
       "      <td>3</td>\n",
       "      <td>1</td>\n",
       "      <td>0</td>\n",
       "      <td>113931.57</td>\n",
       "      <td>1</td>\n",
       "      <td>0</td>\n",
       "      <td>0</td>\n",
       "      <td>0</td>\n",
       "    </tr>\n",
       "    <tr>\n",
       "      <th>3</th>\n",
       "      <td>699</td>\n",
       "      <td>39</td>\n",
       "      <td>1</td>\n",
       "      <td>0.00</td>\n",
       "      <td>2</td>\n",
       "      <td>0</td>\n",
       "      <td>0</td>\n",
       "      <td>93826.63</td>\n",
       "      <td>0</td>\n",
       "      <td>0</td>\n",
       "      <td>0</td>\n",
       "      <td>0</td>\n",
       "    </tr>\n",
       "    <tr>\n",
       "      <th>4</th>\n",
       "      <td>850</td>\n",
       "      <td>43</td>\n",
       "      <td>2</td>\n",
       "      <td>125510.82</td>\n",
       "      <td>1</td>\n",
       "      <td>1</td>\n",
       "      <td>1</td>\n",
       "      <td>79084.10</td>\n",
       "      <td>0</td>\n",
       "      <td>0</td>\n",
       "      <td>1</td>\n",
       "      <td>0</td>\n",
       "    </tr>\n",
       "    <tr>\n",
       "      <th>5</th>\n",
       "      <td>645</td>\n",
       "      <td>44</td>\n",
       "      <td>8</td>\n",
       "      <td>113755.78</td>\n",
       "      <td>2</td>\n",
       "      <td>1</td>\n",
       "      <td>0</td>\n",
       "      <td>149756.71</td>\n",
       "      <td>1</td>\n",
       "      <td>0</td>\n",
       "      <td>1</td>\n",
       "      <td>1</td>\n",
       "    </tr>\n",
       "    <tr>\n",
       "      <th>6</th>\n",
       "      <td>822</td>\n",
       "      <td>50</td>\n",
       "      <td>7</td>\n",
       "      <td>0.00</td>\n",
       "      <td>2</td>\n",
       "      <td>1</td>\n",
       "      <td>1</td>\n",
       "      <td>10062.80</td>\n",
       "      <td>0</td>\n",
       "      <td>0</td>\n",
       "      <td>0</td>\n",
       "      <td>1</td>\n",
       "    </tr>\n",
       "    <tr>\n",
       "      <th>7</th>\n",
       "      <td>376</td>\n",
       "      <td>29</td>\n",
       "      <td>4</td>\n",
       "      <td>115046.74</td>\n",
       "      <td>4</td>\n",
       "      <td>1</td>\n",
       "      <td>0</td>\n",
       "      <td>119346.88</td>\n",
       "      <td>1</td>\n",
       "      <td>1</td>\n",
       "      <td>0</td>\n",
       "      <td>0</td>\n",
       "    </tr>\n",
       "    <tr>\n",
       "      <th>8</th>\n",
       "      <td>501</td>\n",
       "      <td>44</td>\n",
       "      <td>4</td>\n",
       "      <td>142051.07</td>\n",
       "      <td>2</td>\n",
       "      <td>0</td>\n",
       "      <td>1</td>\n",
       "      <td>74940.50</td>\n",
       "      <td>0</td>\n",
       "      <td>0</td>\n",
       "      <td>0</td>\n",
       "      <td>1</td>\n",
       "    </tr>\n",
       "    <tr>\n",
       "      <th>9</th>\n",
       "      <td>684</td>\n",
       "      <td>27</td>\n",
       "      <td>2</td>\n",
       "      <td>134603.88</td>\n",
       "      <td>1</td>\n",
       "      <td>1</td>\n",
       "      <td>1</td>\n",
       "      <td>71725.73</td>\n",
       "      <td>0</td>\n",
       "      <td>0</td>\n",
       "      <td>0</td>\n",
       "      <td>1</td>\n",
       "    </tr>\n",
       "  </tbody>\n",
       "</table>\n",
       "</div>"
      ],
      "text/plain": [
       "   credit_score  age  tenure    balance  num_of_products  has_cr_card  \\\n",
       "0           619   42       2       0.00                1            1   \n",
       "1           608   41       1   83807.86                1            0   \n",
       "2           502   42       8  159660.80                3            1   \n",
       "3           699   39       1       0.00                2            0   \n",
       "4           850   43       2  125510.82                1            1   \n",
       "5           645   44       8  113755.78                2            1   \n",
       "6           822   50       7       0.00                2            1   \n",
       "7           376   29       4  115046.74                4            1   \n",
       "8           501   44       4  142051.07                2            0   \n",
       "9           684   27       2  134603.88                1            1   \n",
       "\n",
       "   is_active_member  estimated_salary  exited  geography_germany  \\\n",
       "0                 1         101348.88       1                  0   \n",
       "1                 1         112542.58       0                  0   \n",
       "2                 0         113931.57       1                  0   \n",
       "3                 0          93826.63       0                  0   \n",
       "4                 1          79084.10       0                  0   \n",
       "5                 0         149756.71       1                  0   \n",
       "6                 1          10062.80       0                  0   \n",
       "7                 0         119346.88       1                  1   \n",
       "8                 1          74940.50       0                  0   \n",
       "9                 1          71725.73       0                  0   \n",
       "\n",
       "   geography_spain  gender  \n",
       "0                0       0  \n",
       "1                1       0  \n",
       "2                0       0  \n",
       "3                0       0  \n",
       "4                1       0  \n",
       "5                1       1  \n",
       "6                0       1  \n",
       "7                0       0  \n",
       "8                0       1  \n",
       "9                0       1  "
      ]
     },
     "execution_count": 12,
     "metadata": {},
     "output_type": "execute_result"
    }
   ],
   "source": [
    "df_ohe = df_ohe.rename(columns={\"gender_Male\": \"gender\"})\n",
    "\n",
    "df_ohe.columns = [x.lower() for x in df_ohe.columns]\n",
    "df_ohe.head(10)"
   ]
  },
  {
   "cell_type": "code",
   "execution_count": 13,
   "metadata": {},
   "outputs": [
    {
     "name": "stdout",
     "output_type": "stream",
     "text": [
      "(6000, 11)\n",
      "(6000,)\n",
      "(2000, 11)\n",
      "(2000,)\n",
      "(2000, 11)\n",
      "(2000,)\n"
     ]
    },
    {
     "data": {
      "text/plain": [
       "None"
      ]
     },
     "metadata": {},
     "output_type": "display_data"
    }
   ],
   "source": [
    "#признаки и цели для исходного датасета\n",
    "target = df_ohe['exited'] \n",
    "features = df_ohe.drop('exited', axis=1) \n",
    "\n",
    "train, validate, test = np.split(df_ohe.sample(frac=1, random_state=12345),  [int(.6*len(df)), int(.8*len(df))])\n",
    "\n",
    "#признаки и цель для обучающей выборки\n",
    "features_train = train.drop(['exited'], axis=1)\n",
    "target_train = train['exited']\n",
    "\n",
    "#признаки и цель для валидационной выборки\n",
    "features_validate = validate.drop(['exited'], axis=1)\n",
    "target_validate = validate['exited']\n",
    "\n",
    "#признаки и цель для тестовой выборки\n",
    "features_test = test.drop(['exited'], axis=1)\n",
    "target_test = test['exited']\n",
    "\n",
    "#посмотрим на размер новых даатасетов\n",
    "def info_df(features_train, target_train, features_validate, target_validate, features_test, target_test): #на вход функция принимает все датасеты сразу\n",
    "    df_all = [features_train, target_train, features_validate, target_validate, features_test, target_test]\n",
    "    for i in df_all:\n",
    "        print(i.shape)\n",
    "                    \n",
    "display(info_df(features_train, target_train, features_validate, target_validate, features_test, target_test))"
   ]
  },
  {
   "cell_type": "code",
   "execution_count": 14,
   "metadata": {},
   "outputs": [
    {
     "data": {
      "text/html": [
       "<div>\n",
       "<style scoped>\n",
       "    .dataframe tbody tr th:only-of-type {\n",
       "        vertical-align: middle;\n",
       "    }\n",
       "\n",
       "    .dataframe tbody tr th {\n",
       "        vertical-align: top;\n",
       "    }\n",
       "\n",
       "    .dataframe thead th {\n",
       "        text-align: right;\n",
       "    }\n",
       "</style>\n",
       "<table border=\"1\" class=\"dataframe\">\n",
       "  <thead>\n",
       "    <tr style=\"text-align: right;\">\n",
       "      <th></th>\n",
       "      <th>credit_score</th>\n",
       "      <th>age</th>\n",
       "      <th>tenure</th>\n",
       "      <th>balance</th>\n",
       "      <th>num_of_products</th>\n",
       "      <th>has_cr_card</th>\n",
       "      <th>is_active_member</th>\n",
       "      <th>estimated_salary</th>\n",
       "      <th>geography_germany</th>\n",
       "      <th>geography_spain</th>\n",
       "      <th>gender</th>\n",
       "    </tr>\n",
       "  </thead>\n",
       "  <tbody>\n",
       "    <tr>\n",
       "      <th>7867</th>\n",
       "      <td>-0.095446</td>\n",
       "      <td>0.692527</td>\n",
       "      <td>3</td>\n",
       "      <td>-1.207343</td>\n",
       "      <td>1</td>\n",
       "      <td>1</td>\n",
       "      <td>1</td>\n",
       "      <td>0.967598</td>\n",
       "      <td>0</td>\n",
       "      <td>1</td>\n",
       "      <td>0</td>\n",
       "    </tr>\n",
       "    <tr>\n",
       "      <th>1402</th>\n",
       "      <td>1.108213</td>\n",
       "      <td>-0.948724</td>\n",
       "      <td>8</td>\n",
       "      <td>0.869462</td>\n",
       "      <td>1</td>\n",
       "      <td>1</td>\n",
       "      <td>0</td>\n",
       "      <td>-0.403069</td>\n",
       "      <td>0</td>\n",
       "      <td>0</td>\n",
       "      <td>1</td>\n",
       "    </tr>\n",
       "    <tr>\n",
       "      <th>8606</th>\n",
       "      <td>1.622597</td>\n",
       "      <td>0.306351</td>\n",
       "      <td>5</td>\n",
       "      <td>-1.207343</td>\n",
       "      <td>2</td>\n",
       "      <td>1</td>\n",
       "      <td>1</td>\n",
       "      <td>-0.447751</td>\n",
       "      <td>0</td>\n",
       "      <td>1</td>\n",
       "      <td>1</td>\n",
       "    </tr>\n",
       "    <tr>\n",
       "      <th>8885</th>\n",
       "      <td>0.192609</td>\n",
       "      <td>0.595983</td>\n",
       "      <td>4</td>\n",
       "      <td>0.426066</td>\n",
       "      <td>2</td>\n",
       "      <td>1</td>\n",
       "      <td>1</td>\n",
       "      <td>1.004463</td>\n",
       "      <td>0</td>\n",
       "      <td>1</td>\n",
       "      <td>1</td>\n",
       "    </tr>\n",
       "    <tr>\n",
       "      <th>6494</th>\n",
       "      <td>0.511528</td>\n",
       "      <td>-1.045268</td>\n",
       "      <td>7</td>\n",
       "      <td>-1.207343</td>\n",
       "      <td>2</td>\n",
       "      <td>1</td>\n",
       "      <td>1</td>\n",
       "      <td>-1.356118</td>\n",
       "      <td>0</td>\n",
       "      <td>0</td>\n",
       "      <td>1</td>\n",
       "    </tr>\n",
       "  </tbody>\n",
       "</table>\n",
       "</div>"
      ],
      "text/plain": [
       "      credit_score       age  tenure   balance  num_of_products  has_cr_card  \\\n",
       "7867     -0.095446  0.692527       3 -1.207343                1            1   \n",
       "1402      1.108213 -0.948724       8  0.869462                1            1   \n",
       "8606      1.622597  0.306351       5 -1.207343                2            1   \n",
       "8885      0.192609  0.595983       4  0.426066                2            1   \n",
       "6494      0.511528 -1.045268       7 -1.207343                2            1   \n",
       "\n",
       "      is_active_member  estimated_salary  geography_germany  geography_spain  \\\n",
       "7867                 1          0.967598                  0                1   \n",
       "1402                 0         -0.403069                  0                0   \n",
       "8606                 1         -0.447751                  0                1   \n",
       "8885                 1          1.004463                  0                1   \n",
       "6494                 1         -1.356118                  0                0   \n",
       "\n",
       "      gender  \n",
       "7867       0  \n",
       "1402       1  \n",
       "8606       1  \n",
       "8885       1  \n",
       "6494       1  "
      ]
     },
     "metadata": {},
     "output_type": "display_data"
    }
   ],
   "source": [
    "#масштабирование\n",
    "numeric = ['estimated_salary', 'balance', 'age', 'credit_score'] \n",
    "\n",
    "scaler = StandardScaler() #Создадим объект этой структуры и настроим его на обучающих данных. Настройка — это вычисление среднего и дисперсии \n",
    "\n",
    "scaler.fit(features_train[numeric])  \n",
    "\n",
    "features_train[numeric] = scaler.transform(features_train[numeric]) \n",
    "\n",
    "features_validate[numeric] = scaler.transform(features_validate[numeric]) \n",
    "\n",
    "features_test[numeric] = scaler.transform(features_test[numeric]) \n",
    "\n",
    "display(features_train.head())"
   ]
  },
  {
   "cell_type": "markdown",
   "metadata": {},
   "source": [
    "## Исследование задачи"
   ]
  },
  {
   "cell_type": "markdown",
   "metadata": {},
   "source": [
    "<body>Обучим каждую модель и сразу посмотрим на всю необходимую информацию по каждой модели: Accuracy на валидационной и тестовой выборках, F1-меру, AUC-ROC и матрицу ошибок.<br/>\n",
    "* F1-мера (англ. F1-score). Это среднее гармоническое полноты и точности. Единица в F1 означает, что соотношение полноты и точности равно 1:1. Посмотрим эту метрику на каждой модели.<br/>\n",
    "* Чтобы выявить, как сильно наилучшая модель отличается от случайной, посчитаем AUC-ROC. Эта метрика качества изменяется от 0 до 1. AUC-ROC случайной модели равна 0.5. Чем график выше, тем больше значение TPR и лучше качество модели.<br/>\n",
    "* Наглядно представить результаты вычислений метрик точности и полноты позволяет матрица ошибок.\n",
    "    </body>"
   ]
  },
  {
   "cell_type": "code",
   "execution_count": 15,
   "metadata": {
    "scrolled": true
   },
   "outputs": [
    {
     "data": {
      "text/plain": [
       "'Accuracy модели дерево решений на валидационной выборке:'"
      ]
     },
     "metadata": {},
     "output_type": "display_data"
    },
    {
     "data": {
      "text/plain": [
       "0.8525"
      ]
     },
     "metadata": {},
     "output_type": "display_data"
    },
    {
     "data": {
      "text/html": [
       "<div>\n",
       "<style scoped>\n",
       "    .dataframe tbody tr th:only-of-type {\n",
       "        vertical-align: middle;\n",
       "    }\n",
       "\n",
       "    .dataframe tbody tr th {\n",
       "        vertical-align: top;\n",
       "    }\n",
       "\n",
       "    .dataframe thead th {\n",
       "        text-align: right;\n",
       "    }\n",
       "</style>\n",
       "<table border=\"1\" class=\"dataframe\">\n",
       "  <thead>\n",
       "    <tr style=\"text-align: right;\">\n",
       "      <th></th>\n",
       "      <th>max_depth</th>\n",
       "      <th>accuracy</th>\n",
       "    </tr>\n",
       "  </thead>\n",
       "  <tbody>\n",
       "    <tr>\n",
       "      <th>4</th>\n",
       "      <td>5</td>\n",
       "      <td>0.8525</td>\n",
       "    </tr>\n",
       "    <tr>\n",
       "      <th>3</th>\n",
       "      <td>4</td>\n",
       "      <td>0.8430</td>\n",
       "    </tr>\n",
       "    <tr>\n",
       "      <th>2</th>\n",
       "      <td>3</td>\n",
       "      <td>0.8370</td>\n",
       "    </tr>\n",
       "    <tr>\n",
       "      <th>1</th>\n",
       "      <td>2</td>\n",
       "      <td>0.8290</td>\n",
       "    </tr>\n",
       "    <tr>\n",
       "      <th>0</th>\n",
       "      <td>1</td>\n",
       "      <td>0.7965</td>\n",
       "    </tr>\n",
       "  </tbody>\n",
       "</table>\n",
       "</div>"
      ],
      "text/plain": [
       "   max_depth  accuracy\n",
       "4          5    0.8525\n",
       "3          4    0.8430\n",
       "2          3    0.8370\n",
       "1          2    0.8290\n",
       "0          1    0.7965"
      ]
     },
     "metadata": {},
     "output_type": "display_data"
    },
    {
     "data": {
      "text/plain": [
       "'Accuracy модели дерево решений на тестовой выборке:'"
      ]
     },
     "metadata": {},
     "output_type": "display_data"
    },
    {
     "data": {
      "text/plain": [
       "0.853"
      ]
     },
     "metadata": {},
     "output_type": "display_data"
    },
    {
     "data": {
      "text/plain": [
       "'F1-мера модели случайный лес на валидационной выборке:'"
      ]
     },
     "metadata": {},
     "output_type": "display_data"
    },
    {
     "data": {
      "text/plain": [
       "0.4741532976827094"
      ]
     },
     "metadata": {},
     "output_type": "display_data"
    },
    {
     "data": {
      "text/plain": [
       "'auc_roc:'"
      ]
     },
     "metadata": {},
     "output_type": "display_data"
    },
    {
     "data": {
      "text/plain": [
       "0.8088920970276903"
      ]
     },
     "metadata": {},
     "output_type": "display_data"
    },
    {
     "data": {
      "image/png": "[encoded data removed]",
      "text/plain": [
       "<Figure size 432x288 with 1 Axes>"
      ]
     },
     "metadata": {
      "needs_background": "light"
     },
     "output_type": "display_data"
    },
    {
     "data": {
      "text/plain": [
       "'Матрица ошибок: '"
      ]
     },
     "metadata": {},
     "output_type": "display_data"
    },
    {
     "data": {
      "text/plain": [
       "array([[1572,   21],\n",
       "       [ 274,  133]])"
      ]
     },
     "metadata": {},
     "output_type": "display_data"
    }
   ],
   "source": [
    "#Дерево решений\n",
    "ff = []\n",
    "\n",
    "for depth in range(1, 6):\n",
    "    model = DecisionTreeClassifier(random_state=12345, max_depth=depth) \n",
    "    \n",
    "    model.fit(features_train, target_train) #обучаем на тренировочной выборке,\n",
    "    \n",
    "    predictions_validate = model.predict(features_validate) #а предсказание - на валидационной\n",
    "           \n",
    "    ff.append({'max_depth': depth, 'accuracy': accuracy_score(target_validate, predictions_validate)})   \n",
    "        \n",
    "ff = pd.DataFrame(ff)\n",
    "display(\"Accuracy модели дерево решений на валидационной выборке:\", max(ff['accuracy']))\n",
    "display(ff.sort_values('accuracy', ascending=False))\n",
    "\n",
    "pred = model.score(features_test, target_test) #посчитаем качество модели на тестовой выборке\n",
    "display(\"Accuracy модели дерево решений на тестовой выборке:\", pred)\n",
    "\n",
    "f1 = f1_score(target_validate, predictions_validate)\n",
    "display(\"F1-мера модели случайный лес на валидационной выборке:\", f1) \n",
    "\n",
    "probabilities_valid = model.predict_proba(features_validate) \n",
    "probabilities_one_valid = probabilities_valid[:, 1] \n",
    "fpr, tpr, thresholds = roc_curve(target_validate, probabilities_one_valid)  \n",
    "auc_roc = roc_auc_score(target_validate, probabilities_one_valid) \n",
    "\n",
    "display(\"auc_roc:\", auc_roc)\n",
    "\n",
    "plt.figure() \n",
    "\n",
    "# ROC-кривая случайной модели (выглядит как прямая) \n",
    "plt.plot([0, 1], [0, 1], linestyle='--') \n",
    "plt.plot(fpr, tpr) \n",
    "plt.xlim([0.0, 1.0]) \n",
    "plt.ylim([0.0, 1.0]) \n",
    "plt.xlabel('False Positive Rate') \n",
    "plt.ylabel('True Positive Rate') \n",
    "plt.title('ROC-кривая')\n",
    "plt.legend(['Случайная модель', 'Исследуемая модель'], loc=0)\n",
    "plt.show() \n",
    "\n",
    "display(\"Матрица ошибок: \", confusion_matrix(target_validate,  predictions_validate))  "
   ]
  },
  {
   "cell_type": "code",
   "execution_count": null,
   "metadata": {},
   "outputs": [],
   "source": [
    "#Случайный лес\n",
    "best_model = None\n",
    "best_result = 0\n",
    "for est in range(1, 11):\n",
    "    for n_samples in range(1, 20):\n",
    "        for depth in range(1, 15):\n",
    "            model = RandomForestClassifier(  #обучаем с заданными параметрами:\n",
    "                random_state=12345, \n",
    "                max_depth = depth, #максимальная глубина деревьев\n",
    "                n_estimators=est,  #число «деревьев» в «случайном лесу»\n",
    "                n_jobs = -1, #распараллеливание,используются все ядра, имеющиеся на машине \n",
    "                max_features = 'auto', #число признаков, по которым ищется разбиение\n",
    "                min_samples_leaf = n_samples)  #минимальное число объектов в листьях\n",
    "            model.fit(features_train, target_train) #обучаем модель на тренировочной выборке\n",
    "            result = model.score(features_validate, target_validate) #посчитаем кач-во модели на валидационной выборке\n",
    "            if result > best_result:\n",
    "                best_model = model #сохраняем наилучшую модель\n",
    "                best_result = result #сохраняем наилучшее значение метрики accuracy на валидационных данных\n",
    "\n",
    "display(\"Accuracy модели случайный лес на валидационной выборке:\", best_result)\n",
    "\n",
    "pred = best_model.score(features_test, target_test) #посчитаем качество модели на тестовой выборке\n",
    "display(\"Accuracy модели случайный лес на тестовой выборке:\", pred)\n",
    "\n",
    "predicted_valid = best_model.predict(features_validate)\n",
    "f1 = f1_score(target_validate, predicted_valid)\n",
    "display(\"F1-мера модели случайный лес на валидационной выборке:\", f1) \n",
    "\n",
    "probabilities_valid = best_model.predict_proba(features_validate) \n",
    "probabilities_one_valid = probabilities_valid[:, 1] \n",
    "fpr, tpr, thresholds = roc_curve(target_validate, probabilities_one_valid)  \n",
    "auc_roc = roc_auc_score(target_validate, probabilities_one_valid) \n",
    "display(\"auc_roc:\", auc_roc)\n",
    "\n",
    "plt.figure() \n",
    "\n",
    "# ROC-кривая случайной модели (выглядит как прямая) \n",
    "plt.plot([0, 1], [0, 1], linestyle='--') \n",
    "plt.plot(fpr, tpr) \n",
    "plt.xlim([0.0, 1.0]) \n",
    "plt.ylim([0.0, 1.0]) \n",
    "plt.xlabel('False Positive Rate') \n",
    "plt.ylabel('True Positive Rate') \n",
    "plt.title('ROC-кривая') \n",
    "plt.legend(['Случайная модель', 'Исследуемая модель'], loc=0)\n",
    "plt.show() \n",
    "\n",
    "display(\"Матрица ошибок: \", confusion_matrix(target_validate, predicted_valid))"
   ]
  },
  {
   "cell_type": "code",
   "execution_count": 17,
   "metadata": {},
   "outputs": [
    {
     "data": {
      "text/plain": [
       "'Accuracy модели логистической регрессии на валидационной выборке:'"
      ]
     },
     "metadata": {},
     "output_type": "display_data"
    },
    {
     "data": {
      "text/plain": [
       "0.812"
      ]
     },
     "metadata": {},
     "output_type": "display_data"
    },
    {
     "data": {
      "text/plain": [
       "'Accuracy модели логистическая регрессия на тестовой выборке:'"
      ]
     },
     "metadata": {},
     "output_type": "display_data"
    },
    {
     "data": {
      "text/plain": [
       "0.795"
      ]
     },
     "metadata": {},
     "output_type": "display_data"
    },
    {
     "data": {
      "text/plain": [
       "'F1-мера модели случайный лес на валидационной выборке:'"
      ]
     },
     "metadata": {},
     "output_type": "display_data"
    },
    {
     "data": {
      "text/plain": [
       "0.2985074626865672"
      ]
     },
     "metadata": {},
     "output_type": "display_data"
    },
    {
     "data": {
      "text/plain": [
       "'auc_roc:'"
      ]
     },
     "metadata": {},
     "output_type": "display_data"
    },
    {
     "data": {
      "text/plain": [
       "0.7650979176402904"
      ]
     },
     "metadata": {},
     "output_type": "display_data"
    },
    {
     "data": {
      "image/png": "[encoded data removed]",
      "text/plain": [
       "<Figure size 432x288 with 1 Axes>"
      ]
     },
     "metadata": {
      "needs_background": "light"
     },
     "output_type": "display_data"
    },
    {
     "data": {
      "text/plain": [
       "'Матрица ошибок: '"
      ]
     },
     "metadata": {},
     "output_type": "display_data"
    },
    {
     "data": {
      "text/plain": [
       "array([[1544,   49],\n",
       "       [ 327,   80]])"
      ]
     },
     "metadata": {},
     "output_type": "display_data"
    }
   ],
   "source": [
    "#Логистическая регрессия\n",
    "model = LogisticRegression(random_state=12345) #инициализируем модель логистической регрессии с параметром random_state=12345\n",
    "model.fit(features_train, target_train) #обучим модель на тренировочной выборке\n",
    "result = model.score(features_validate, target_validate) #получим метрику качества модели на валидационной выборке\n",
    " \n",
    "display(\"Accuracy модели логистической регрессии на валидационной выборке:\", result)\n",
    "\n",
    "pred = model.score(features_test, target_test) #посчитаем качество модели на тестовой выборке\n",
    "display(\"Accuracy модели логистическая регрессия на тестовой выборке:\", pred)\n",
    "\n",
    "predicted_valid = model.predict(features_validate) \n",
    "f1 = f1_score(target_validate, predicted_valid)\n",
    "display(\"F1-мера модели случайный лес на валидационной выборке:\", f1) \n",
    "\n",
    "probabilities_valid = model.predict_proba(features_validate) \n",
    "probabilities_one_valid = probabilities_valid[:, 1] \n",
    "fpr, tpr, thresholds = roc_curve(target_validate, probabilities_one_valid)  \n",
    "auc_roc = roc_auc_score(target_validate, probabilities_one_valid) \n",
    "\n",
    "display(\"auc_roc:\", auc_roc)\n",
    "\n",
    "plt.figure() \n",
    "\n",
    "# ROC-кривая случайной модели (выглядит как прямая) \n",
    "plt.plot([0, 1], [0, 1], linestyle='--') \n",
    "plt.plot(fpr, tpr) \n",
    "plt.xlim([0.0, 1.0]) \n",
    "plt.ylim([0.0, 1.0]) \n",
    "plt.xlabel('False Positive Rate') \n",
    "plt.ylabel('True Positive Rate') \n",
    "plt.title('ROC-кривая') \n",
    "plt.legend(['Случайная модель', 'Исследуемая модель'], loc=0)\n",
    "plt.show() \n",
    "\n",
    "display(\"Матрица ошибок: \", confusion_matrix(target_validate, predicted_valid))  "
   ]
  },
  {
   "cell_type": "markdown",
   "metadata": {},
   "source": [
    "Чтобы оценить адекватность модели, проверим, как часто в целевом признаке встречается класс «1» или «0»."
   ]
  },
  {
   "cell_type": "code",
   "execution_count": 18,
   "metadata": {},
   "outputs": [
    {
     "data": {
      "text/plain": [
       "0    0.7963\n",
       "1    0.2037\n",
       "Name: exited, dtype: float64"
      ]
     },
     "metadata": {},
     "output_type": "display_data"
    },
    {
     "data": {
      "text/plain": [
       "<AxesSubplot:>"
      ]
     },
     "execution_count": 18,
     "metadata": {},
     "output_type": "execute_result"
    },
    {
     "data": {
      "image/png": "[encoded data removed]",
      "text/plain": [
       "<Figure size 432x288 with 1 Axes>"
      ]
     },
     "metadata": {
      "needs_background": "light"
     },
     "output_type": "display_data"
    }
   ],
   "source": [
    "class_frequency = df_ohe['exited'].value_counts(normalize=True) \n",
    "\n",
    "display(class_frequency) \n",
    "\n",
    "class_frequency.plot(kind='bar') "
   ]
  },
  {
   "cell_type": "markdown",
   "metadata": {},
   "source": [
    "Тут виден явный дисбаланс в классах. Положительных значений намного меньше чем отрицательных. "
   ]
  },
  {
   "cell_type": "code",
   "execution_count": 19,
   "metadata": {},
   "outputs": [
    {
     "data": {
      "text/plain": [
       "0.7963"
      ]
     },
     "metadata": {},
     "output_type": "display_data"
    }
   ],
   "source": [
    "#создадим константную модель.\n",
    "target_pred_constant = pd.Series(0, index=target.index) \n",
    "\n",
    "display(accuracy_score(target, target_pred_constant))"
   ]
  },
  {
   "cell_type": "markdown",
   "metadata": {},
   "source": [
    "Качество констатной модели равно 0.79, что равняется частотному классу."
   ]
  },
  {
   "cell_type": "markdown",
   "metadata": {},
   "source": [
    "**Вывод**"
   ]
  },
  {
   "cell_type": "markdown",
   "metadata": {},
   "source": [
    "По всей информации о трёх моделях можно сделать такие вывод: самый большой показатель F1-меры у модели случайный лес - 0,54, также как и auc-roc - 0.82. В матрице ошибок все значения у всех трёх моделей сместились в сторону TN - истинноотрицательных, то есть предсказание и фактическое значение класса отрицаельные. Далее по количеству значений видны ложноотрицательные , когда модель предсказала 0, а на самом деле 1. Истинно-положительных значений ещё меньше, это когда моедль отметила объект 1 и его фактическое значение 1. А ложноположительных значений меньше всего - модель предсказала 1, а на самом деле 0."
   ]
  },
  {
   "cell_type": "markdown",
   "metadata": {},
   "source": [
    "## Борьба с дисбалансом"
   ]
  },
  {
   "cell_type": "markdown",
   "metadata": {},
   "source": [
    "Классы несбалансированны, когда их соотношение далеко от 1:1. Баланс классов наблюдается, если их количество примерно равно. "
   ]
  },
  {
   "cell_type": "markdown",
   "metadata": {},
   "source": [
    "Посмотрим на классы и подготовим их к увеличению/ уменьшению выборки."
   ]
  },
  {
   "cell_type": "code",
   "execution_count": 20,
   "metadata": {},
   "outputs": [
    {
     "data": {
      "text/plain": [
       "(4807, 11)"
      ]
     },
     "metadata": {},
     "output_type": "display_data"
    },
    {
     "data": {
      "text/plain": [
       "(1193, 11)"
      ]
     },
     "metadata": {},
     "output_type": "display_data"
    },
    {
     "data": {
      "text/plain": [
       "(4807,)"
      ]
     },
     "metadata": {},
     "output_type": "display_data"
    },
    {
     "data": {
      "text/plain": [
       "(1193,)"
      ]
     },
     "metadata": {},
     "output_type": "display_data"
    }
   ],
   "source": [
    "features_zeros = features_train[target_train == 0]  \n",
    "\n",
    "features_ones = features_train[target_train == 1]  \n",
    "\n",
    "target_zeros = target_train[target_train == 0]  \n",
    "\n",
    "target_ones = target_train[target_train == 1]  \n",
    "\n",
    "display(features_zeros.shape) \n",
    "display(features_ones.shape) \n",
    "display(target_zeros.shape) \n",
    "display(target_ones.shape) "
   ]
  },
  {
   "cell_type": "markdown",
   "metadata": {},
   "source": [
    "Объектов для положительного класса намного меньше."
   ]
  },
  {
   "cell_type": "markdown",
   "metadata": {},
   "source": [
    "**Увеличение выборки.**"
   ]
  },
  {
   "cell_type": "code",
   "execution_count": 21,
   "metadata": {},
   "outputs": [
    {
     "data": {
      "text/plain": [
       "(16737, 11)"
      ]
     },
     "metadata": {},
     "output_type": "display_data"
    },
    {
     "data": {
      "text/plain": [
       "(16737,)"
      ]
     },
     "metadata": {},
     "output_type": "display_data"
    }
   ],
   "source": [
    "def upsample(features, target, repeat): \n",
    "    features_zeros = features[target == 0] \n",
    "    features_ones = features[target == 1] \n",
    "\n",
    "    target_zeros = target[target == 0] \n",
    "    target_ones = target[target == 1] \n",
    "\n",
    "    features_upsampled = pd.concat([features_zeros] + [features_ones] * repeat) \n",
    "    target_upsampled = pd.concat([target_zeros] + [target_ones] * repeat) \n",
    "\n",
    "    features_upsampled, target_upsampled = shuffle(features_upsampled, target_upsampled, random_state=12345) \n",
    "    return features_upsampled, target_upsampled  \n",
    "\n",
    "features_upsampled, target_upsampled = upsample(features_train, target_train, 10) \n",
    "\n",
    "\n",
    "display(features_upsampled.shape) \n",
    "display(target_upsampled.shape)"
   ]
  },
  {
   "cell_type": "markdown",
   "metadata": {},
   "source": [
    "Перед обучением, подберём наилучшие гиперпараметры для каждой модели методом GridSearchCV"
   ]
  },
  {
   "cell_type": "code",
   "execution_count": null,
   "metadata": {},
   "outputs": [],
   "source": [
    "#объявляем классификатор RandomForest, не внося в него никаких параметров\n",
    "clf = RandomForestClassifier()\n",
    "\n",
    "#создаем словарик, в который вписываем параметры, которые будем прогонять GridSearch’ем\n",
    "parametrs = {'n_estimators': range (10, 51, 10),\n",
    "            'max_depth': range (1,13, 2),\n",
    "            'min_samples_leaf': range (1,8),\n",
    "            'min_samples_split': range (2,10,2)}\n",
    "\n",
    "#Запускаем обучение\n",
    "grid = GridSearchCV(clf, parametrs, cv=5)\n",
    "grid.fit(features_upsampled, target_upsampled)\n",
    "\n",
    "#Выводим результат\n",
    "display(grid.best_params_)"
   ]
  },
  {
   "cell_type": "code",
   "execution_count": null,
   "metadata": {},
   "outputs": [],
   "source": [
    "#объявляем классификатор DecisionTreeClassifier, не внося в него никаких параметров\n",
    "clf = DecisionTreeClassifier()\n",
    "\n",
    "#создаем словарик, в который вписываем параметры, которые будем прогонять GridSearch’ем\n",
    "parametrs = {'max_depth': range (1,13, 2),\n",
    "            'min_samples_leaf': range (1,8),\n",
    "            'min_samples_split': range (2,10,2)}\n",
    "\n",
    "#Запускаем обучение\n",
    "grid = GridSearchCV(clf, parametrs, cv=5)\n",
    "grid.fit(features_upsampled, target_upsampled)\n",
    "\n",
    "#Выводим результат\n",
    "display(grid.best_params_)"
   ]
  },
  {
   "cell_type": "code",
   "execution_count": null,
   "metadata": {},
   "outputs": [],
   "source": [
    "#объявляем классификатор LogisticRegression, не внося в него никаких параметров\n",
    "clf = LogisticRegression()\n",
    "\n",
    "#создаем словарик, в который вписываем параметры, которые будем прогонять GridSearch’ем\n",
    "solver_options = ['newton-cg', 'lbfgs', 'liblinear', 'sag']\n",
    "multi_class_options = ['ovr', 'multinomial']\n",
    "\n",
    "parametrs = {'solver': solver_options, 'multi_class': multi_class_options}\n",
    "\n",
    "#Запускаем обучение\n",
    "grid = GridSearchCV(clf, parametrs, cv=5)\n",
    "grid.fit(features_upsampled, target_upsampled)\n",
    "\n",
    "#Выводим результат\n",
    "display(grid.best_params_)"
   ]
  },
  {
   "cell_type": "markdown",
   "metadata": {},
   "source": [
    "Обучим подготовленные данные на разных моделях и посмотрим F1-меру и auc_roc на графиках."
   ]
  },
  {
   "cell_type": "code",
   "execution_count": null,
   "metadata": {},
   "outputs": [],
   "source": [
    "#Дерево решений\n",
    "model = DecisionTreeClassifier(random_state=12345, max_depth = 11, min_samples_leaf = 1, min_samples_split = 6)  \n",
    "model.fit(features_upsampled, target_upsampled)  \n",
    "predicted_valid = model.predict(features_validate)  \n",
    "\n",
    "probabilities_valid = model.predict_proba(features_validate) \n",
    "probabilities_one_valid = probabilities_valid[:, 1]  \n",
    "fpr, tpr, thresholds = roc_curve(target_validate, probabilities_one_valid)  \n",
    "auc_roc = roc_auc_score(target_validate, probabilities_one_valid) \n",
    "\n",
    "display(\"F1:\", f1_score(target_validate, predicted_valid)) \n",
    "display(\"auc_roc:\", auc_roc)\n",
    "\n",
    "plt.figure() \n",
    "\n",
    "# ROC-кривая случайной модели (выглядит как прямая) \n",
    "plt.plot([0, 1], [0, 1], linestyle='--') \n",
    "plt.plot(fpr, tpr) \n",
    "plt.xlim([0.0, 1.0]) \n",
    "plt.ylim([0.0, 1.0]) \n",
    "plt.xlabel('False Positive Rate') \n",
    "plt.ylabel('True Positive Rate') \n",
    "plt.title('ROC-кривая') \n",
    "plt.legend(['Случайная модель', 'Исследуемая модель'], loc=0)\n",
    "plt.show()"
   ]
  },
  {
   "cell_type": "code",
   "execution_count": null,
   "metadata": {},
   "outputs": [],
   "source": [
    "#Случайный лес\n",
    "model = RandomForestClassifier(random_state=12345, max_depth = 11, min_samples_leaf = 1, min_samples_split = 2, n_estimators = 50)  \n",
    "model.fit(features_upsampled, target_upsampled)  \n",
    "predicted_valid = model.predict(features_validate)  \n",
    "probabilities_valid = model.predict_proba(features_validate) \n",
    "\n",
    "probabilities_one_valid = probabilities_valid[:, 1] \n",
    "fpr, tpr, thresholds = roc_curve(target_validate, probabilities_one_valid)  \n",
    "auc_roc = roc_auc_score(target_validate, probabilities_one_valid) \n",
    "\n",
    "display(\"F1:\", f1_score(target_validate, predicted_valid))\n",
    "display(\"auc_roc:\", auc_roc)\n",
    "\n",
    "plt.figure() \n",
    "\n",
    "# ROC-кривая случайной модели (выглядит как прямая) \n",
    "plt.plot([0, 1], [0, 1], linestyle='--') \n",
    "plt.plot(fpr, tpr) \n",
    "plt.xlim([0.0, 1.0]) \n",
    "plt.ylim([0.0, 1.0]) \n",
    "plt.xlabel('False Positive Rate') \n",
    "plt.ylabel('True Positive Rate') \n",
    "plt.title('ROC-кривая') \n",
    "plt.legend(['Случайная модель', 'Исследуемая модель'], loc=0)\n",
    "plt.show()  "
   ]
  },
  {
   "cell_type": "code",
   "execution_count": null,
   "metadata": {},
   "outputs": [],
   "source": [
    "#Логистическая регрессия\n",
    "model = LogisticRegression(random_state=12345, multi_class='multinomial', solver='newton-cg')  \n",
    "\n",
    "model.fit(features_upsampled, target_upsampled)  \n",
    "predicted_valid = model.predict(features_validate)  \n",
    "\n",
    "probabilities_valid = model.predict_proba(features_validate) \n",
    "probabilities_one_valid = probabilities_valid[:, 1] \n",
    "fpr, tpr, thresholds = roc_curve(target_validate, probabilities_one_valid)  \n",
    "auc_roc = roc_auc_score(target_validate, probabilities_one_valid) \n",
    "\n",
    "display(\"F1:\", f1_score(target_validate, predicted_valid))\n",
    "display(\"auc_roc:\", auc_roc)\n",
    "\n",
    "plt.figure() \n",
    "\n",
    "# ROC-кривая случайной модели (выглядит как прямая) \n",
    "plt.plot([0, 1], [0, 1], linestyle='--') \n",
    "plt.plot(fpr, tpr) \n",
    "plt.xlim([0.0, 1.0]) \n",
    "plt.ylim([0.0, 1.0]) \n",
    "plt.xlabel('False Positive Rate') \n",
    "plt.ylabel('True Positive Rate') \n",
    "plt.title('ROC-кривая') \n",
    "plt.legend(['Случайная модель', 'Исследуемая модель'], loc=0)\n",
    "plt.show() "
   ]
  },
  {
   "cell_type": "markdown",
   "metadata": {},
   "source": [
    "**Уменьшение выборки.**"
   ]
  },
  {
   "cell_type": "code",
   "execution_count": null,
   "metadata": {},
   "outputs": [],
   "source": [
    "def downsample(features, target, fraction): \n",
    "    features_zeros = features[target == 0] \n",
    "    features_ones = features[target == 1] \n",
    "    target_zeros = target[target == 0] \n",
    "    target_ones = target[target == 1] \n",
    "\n",
    "    features_downsampled = pd.concat( \n",
    "        [features_zeros.sample(frac=fraction, random_state=12345)] + [features_ones]) \n",
    "    \n",
    "    target_downsampled = pd.concat( \n",
    "        [target_zeros.sample(frac=fraction, random_state=12345)] + [target_ones]) \n",
    "    \n",
    "    features_downsampled, target_downsampled = shuffle( \n",
    "        features_downsampled, target_downsampled, random_state=12345) \n",
    "    \n",
    "    return features_downsampled, target_downsampled \n",
    " \n",
    "features_downsampled, target_downsampled = downsample(features_train, target_train, 0.1) \n",
    " \n",
    "\n",
    "display(features_downsampled.shape) \n",
    "display(target_downsampled.shape)"
   ]
  },
  {
   "cell_type": "markdown",
   "metadata": {},
   "source": [
    "Перед обучением, подберём наилучшие гиперпараметры для каждой модели методом GridSearchCV"
   ]
  },
  {
   "cell_type": "code",
   "execution_count": null,
   "metadata": {},
   "outputs": [],
   "source": [
    "#объявляем классификатор RandomForest, не внося в него никаких параметров\n",
    "clf = RandomForestClassifier()\n",
    "\n",
    "#создаем словарик, в который вписываем параметры, которые будем прогонять GridSearch’ем\n",
    "parametrs = {'n_estimators': range (10, 51, 10),\n",
    "            'max_depth': range (1,13, 2),\n",
    "            'min_samples_leaf': range (1,8),\n",
    "            'min_samples_split': range (2,10,2)}\n",
    "\n",
    "#Запускаем обучение\n",
    "grid = GridSearchCV(clf, parametrs, cv=5)\n",
    "grid.fit(features_downsampled, target_downsampled)\n",
    "\n",
    "#Выводим результат\n",
    "display(grid.best_params_)"
   ]
  },
  {
   "cell_type": "code",
   "execution_count": null,
   "metadata": {},
   "outputs": [],
   "source": [
    "#объявляем классификатор DecisionTreeClassifier, не внося в него никаких параметров\n",
    "clf = DecisionTreeClassifier()\n",
    "\n",
    "#создаем словарик, в который вписываем параметры, которые будем прогонять GridSearch’ем\n",
    "parametrs = {'max_depth': range (1,13, 2),\n",
    "            'min_samples_leaf': range (1,8),\n",
    "            'min_samples_split': range (2,10,2)}\n",
    "\n",
    "#Запускаем обучение\n",
    "grid = GridSearchCV(clf, parametrs, cv=5)\n",
    "grid.fit(features_downsampled, target_downsampled)\n",
    "\n",
    "#Выводим результат\n",
    "display(grid.best_params_)"
   ]
  },
  {
   "cell_type": "code",
   "execution_count": null,
   "metadata": {},
   "outputs": [],
   "source": [
    "#объявляем классификатор LogisticRegression, не внося в него никаких параметров\n",
    "clf = LogisticRegression()\n",
    "\n",
    "#создаем словарик, в который вписываем параметры, которые будем прогонять GridSearch’ем\n",
    "solver_options = ['newton-cg', 'lbfgs', 'liblinear', 'sag']\n",
    "multi_class_options = ['ovr', 'multinomial']\n",
    "\n",
    "parametrs = {'solver': solver_options, 'multi_class': multi_class_options}\n",
    "\n",
    "#Запускаем обучение\n",
    "grid = GridSearchCV(clf, parametrs, cv=5)\n",
    "grid.fit(features_downsampled, target_downsampled)\n",
    "\n",
    "#Выводим результат\n",
    "display(grid.best_params_)"
   ]
  },
  {
   "cell_type": "markdown",
   "metadata": {},
   "source": [
    "Обучим подготовленные данные на разных моделях и посмотрим F1-меру и auc_roc на графиках."
   ]
  },
  {
   "cell_type": "code",
   "execution_count": null,
   "metadata": {},
   "outputs": [],
   "source": [
    "#Дерево решений\n",
    "model = DecisionTreeClassifier(random_state=12345, max_depth=5, min_samples_leaf=1, min_samples_split=2)\n",
    "\n",
    "model.fit(features_downsampled, target_downsampled)  \n",
    "predicted_valid = model.predict(features_validate)  \n",
    "\n",
    "probabilities_valid = model.predict_proba(features_validate) \n",
    "probabilities_one_valid = probabilities_valid[:, 1]  \n",
    "fpr, tpr, thresholds = roc_curve(target_validate, probabilities_one_valid)  \n",
    "auc_roc = roc_auc_score(target_validate, probabilities_one_valid) \n",
    "\n",
    "display(\"F1:\", f1_score(target_validate, predicted_valid)) \n",
    "display(\"auc_roc:\", auc_roc)\n",
    "\n",
    "plt.figure() \n",
    "\n",
    "# ROC-кривая случайной модели (выглядит как прямая) \n",
    "plt.plot([0, 1], [0, 1], linestyle='--') \n",
    "plt.plot(fpr, tpr) \n",
    "plt.xlim([0.0, 1.0]) \n",
    "plt.ylim([0.0, 1.0]) \n",
    "plt.xlabel('False Positive Rate') \n",
    "plt.ylabel('True Positive Rate') \n",
    "plt.title('ROC-кривая') \n",
    "plt.legend(['Случайная модель', 'Исследуемая модель'], loc=0)\n",
    "plt.show() "
   ]
  },
  {
   "cell_type": "code",
   "execution_count": null,
   "metadata": {},
   "outputs": [],
   "source": [
    "#Случайный лес\n",
    "model = RandomForestClassifier(random_state=12345, max_depth=9, min_samples_leaf=5, min_samples_split=4, n_estimators=30) \n",
    "\n",
    "model.fit(features_downsampled, target_downsampled)  \n",
    "predicted_valid = model.predict(features_validate)  \n",
    "probabilities_valid = model.predict_proba(features_validate) \n",
    "\n",
    "probabilities_one_valid = probabilities_valid[:, 1] \n",
    "fpr, tpr, thresholds = roc_curve(target_validate, probabilities_one_valid)  \n",
    "auc_roc = roc_auc_score(target_validate, probabilities_one_valid) \n",
    "\n",
    "display(\"F1:\", f1_score(target_validate, predicted_valid))\n",
    "display(\"auc_roc:\", auc_roc)\n",
    "\n",
    "plt.figure() \n",
    "\n",
    "# ROC-кривая случайной модели (выглядит как прямая) \n",
    "plt.plot([0, 1], [0, 1], linestyle='--') \n",
    "plt.plot(fpr, tpr) \n",
    "plt.xlim([0.0, 1.0]) \n",
    "plt.ylim([0.0, 1.0]) \n",
    "plt.xlabel('False Positive Rate') \n",
    "plt.ylabel('True Positive Rate') \n",
    "plt.title('ROC-кривая') \n",
    "plt.legend(['Случайная модель', 'Исследуемая модель'], loc=0)\n",
    "plt.show() "
   ]
  },
  {
   "cell_type": "code",
   "execution_count": null,
   "metadata": {},
   "outputs": [],
   "source": [
    "#Логистическая регрессия\n",
    "model = LogisticRegression(random_state=12345, solver='liblinear', multi_class='ovr') \n",
    "\n",
    "model.fit(features_downsampled, target_downsampled)  \n",
    "predicted_valid = model.predict(features_validate)  \n",
    "\n",
    "probabilities_valid = model.predict_proba(features_validate) \n",
    "probabilities_one_valid = probabilities_valid[:, 1] \n",
    "fpr, tpr, thresholds = roc_curve(target_validate, probabilities_one_valid)  \n",
    "auc_roc = roc_auc_score(target_validate, probabilities_one_valid) \n",
    "\n",
    "display(\"F1:\", f1_score(target_validate, predicted_valid))\n",
    "display(\"auc_roc:\", auc_roc)\n",
    "\n",
    "plt.figure() \n",
    "\n",
    "# ROC-кривая случайной модели (выглядит как прямая) \n",
    "plt.plot([0, 1], [0, 1], linestyle='--') \n",
    "plt.plot(fpr, tpr) \n",
    "plt.xlim([0.0, 1.0]) \n",
    "plt.ylim([0.0, 1.0]) \n",
    "plt.xlabel('False Positive Rate') \n",
    "plt.ylabel('True Positive Rate') \n",
    "plt.title('ROC-кривая') \n",
    "plt.legend(['Случайная модель', 'Исследуемая модель'], loc=0)\n",
    "plt.show() "
   ]
  },
  {
   "cell_type": "markdown",
   "metadata": {},
   "source": [
    "**Вывод**"
   ]
  },
  {
   "cell_type": "markdown",
   "metadata": {},
   "source": [
    "Применили увеличение и уменьшение выборки. На увеличенной выборке у модели случайный лес значение f1-меры выше чем на уменьшенной выборке. Значит берём для тестирования увеличенную выборку и модель Случайный лес."
   ]
  },
  {
   "cell_type": "markdown",
   "metadata": {},
   "source": [
    "## Тестирование модели"
   ]
  },
  {
   "cell_type": "code",
   "execution_count": null,
   "metadata": {},
   "outputs": [],
   "source": [
    "#Случайный лес\n",
    "model = RandomForestClassifier(random_state=12345, max_depth = 11, min_samples_leaf = 1, min_samples_split = 2, n_estimators = 50) #обучаем модель с заданным количеством деревьев\n",
    "model.fit(features_upsampled, target_upsampled) #обучаем модель на тренировочной выборке\n",
    "target_predict = model.predict(features_test) #предсказание на тесте\n",
    "pred = model.score(features_test, target_test) #посчитаем качество модели на тестовой выборке\n",
    "f1 = f1_score(target_test, target_predict) #посчитаем  f1-меру модели на тестовой выборке\n",
    "\n",
    "probabilities_valid = model.predict_proba(features_validate) \n",
    "probabilities_one_valid = probabilities_valid[:, 1] \n",
    "fpr, tpr, thresholds = roc_curve(target_validate, probabilities_one_valid)  \n",
    "auc_roc = roc_auc_score(target_validate, probabilities_one_valid) \n",
    "\n",
    "display(\"Accuracy модели случайный лес на тестовой выборке:\", pred)\n",
    "display(\"F1-мера модели случайный лес на тестовой выборке:\", f1) \n",
    "display(\"Auc_roc модели случайный лес:\", auc_roc)\n",
    "\n",
    "plt.figure() \n",
    "\n",
    "# ROC-кривая случайной модели (выглядит как прямая) \n",
    "plt.plot([0, 1], [0, 1], linestyle='--') \n",
    "plt.plot(fpr, tpr) \n",
    "plt.xlim([0.0, 1.0]) \n",
    "plt.ylim([0.0, 1.0]) \n",
    "plt.xlabel('False Positive Rate') \n",
    "plt.ylabel('True Positive Rate') \n",
    "plt.title('ROC-кривая')\n",
    "plt.legend(['Случайная модель', 'Исследуемая модель'], loc=0)\n",
    "plt.show() \n",
    "\n",
    "target_prediction = model.predict(features_upsampled)\n",
    "display(\"Матрица ошибок: \", confusion_matrix(target_upsampled, target_prediction))  "
   ]
  },
  {
   "cell_type": "markdown",
   "metadata": {},
   "source": [
    "**Вывод**"
   ]
  },
  {
   "cell_type": "markdown",
   "metadata": {},
   "source": [
    "После изучения баланса классов, увеличили положительный класс и уменьшили отрицательный класс. Проанализировали, что лучше по показателям F1-меры показала  себя увеличенная выборка на модели Случайный лес. Провели финальное тестирование на выбранной модели. Accuracy модели на тестовой 0.78. F1-мера получилась 0.60, auc-roc - 0.82. "
   ]
  }
 ],
 "metadata": {
  "ExecuteTimeLog": [
   {
    "duration": 1216,
    "start_time": "2022-03-10T09:05:07.458Z"
   },
   {
    "duration": 87,
    "start_time": "2022-03-10T09:05:18.448Z"
   },
   {
    "duration": 388,
    "start_time": "2022-03-10T09:18:16.226Z"
   },
   {
    "duration": 423,
    "start_time": "2022-03-10T09:18:27.461Z"
   },
   {
    "duration": 233,
    "start_time": "2022-03-10T09:22:33.022Z"
   },
   {
    "duration": 232,
    "start_time": "2022-03-10T09:22:43.102Z"
   },
   {
    "duration": 26,
    "start_time": "2022-03-10T09:23:07.633Z"
   },
   {
    "duration": 286,
    "start_time": "2022-03-10T09:31:02.724Z"
   },
   {
    "duration": 43,
    "start_time": "2022-03-10T09:31:07.665Z"
   },
   {
    "duration": 71,
    "start_time": "2022-03-10T09:31:09.879Z"
   },
   {
    "duration": 13,
    "start_time": "2022-03-10T09:31:35.255Z"
   },
   {
    "duration": 62,
    "start_time": "2022-03-10T09:31:42.582Z"
   },
   {
    "duration": 9,
    "start_time": "2022-03-10T09:31:50.590Z"
   },
   {
    "duration": 16,
    "start_time": "2022-03-10T09:31:56.174Z"
   },
   {
    "duration": 3,
    "start_time": "2022-03-10T09:32:20.986Z"
   },
   {
    "duration": 28,
    "start_time": "2022-03-10T09:35:29.555Z"
   },
   {
    "duration": 104,
    "start_time": "2022-03-10T09:36:35.106Z"
   },
   {
    "duration": 29,
    "start_time": "2022-03-10T09:37:00.095Z"
   },
   {
    "duration": 241,
    "start_time": "2022-03-10T10:11:04.523Z"
   },
   {
    "duration": 229,
    "start_time": "2022-03-10T10:14:23.979Z"
   },
   {
    "duration": 35,
    "start_time": "2022-03-10T10:26:58.220Z"
   },
   {
    "duration": 276,
    "start_time": "2022-03-10T10:27:42.386Z"
   },
   {
    "duration": 37,
    "start_time": "2022-03-10T10:28:32.757Z"
   },
   {
    "duration": 7,
    "start_time": "2022-03-10T10:29:16.887Z"
   },
   {
    "duration": 24,
    "start_time": "2022-03-10T10:29:25.851Z"
   },
   {
    "duration": 25,
    "start_time": "2022-03-10T10:31:31.115Z"
   },
   {
    "duration": 7,
    "start_time": "2022-03-10T10:49:23.430Z"
   },
   {
    "duration": 7,
    "start_time": "2022-03-10T10:49:43.635Z"
   },
   {
    "duration": 476,
    "start_time": "2022-03-10T12:41:03.307Z"
   },
   {
    "duration": 458,
    "start_time": "2022-03-10T12:41:26.312Z"
   },
   {
    "duration": 157,
    "start_time": "2022-03-10T12:41:55.707Z"
   },
   {
    "duration": 137,
    "start_time": "2022-03-10T12:42:38.225Z"
   },
   {
    "duration": 169,
    "start_time": "2022-03-10T12:44:50.647Z"
   },
   {
    "duration": 253,
    "start_time": "2022-03-10T12:45:07.273Z"
   },
   {
    "duration": 133,
    "start_time": "2022-03-10T12:46:27.216Z"
   },
   {
    "duration": 6,
    "start_time": "2022-03-10T12:46:54.716Z"
   },
   {
    "duration": 7,
    "start_time": "2022-03-10T12:47:46.773Z"
   },
   {
    "duration": 8,
    "start_time": "2022-03-10T12:48:10.262Z"
   },
   {
    "duration": 6130,
    "start_time": "2022-03-10T13:00:04.902Z"
   },
   {
    "duration": 5714,
    "start_time": "2022-03-10T13:00:51.961Z"
   },
   {
    "duration": 3,
    "start_time": "2022-03-10T13:01:15.129Z"
   },
   {
    "duration": 152,
    "start_time": "2022-03-10T13:01:15.135Z"
   },
   {
    "duration": 21,
    "start_time": "2022-03-10T13:01:15.290Z"
   },
   {
    "duration": 8,
    "start_time": "2022-03-10T13:01:15.314Z"
   },
   {
    "duration": 6,
    "start_time": "2022-03-10T13:01:15.324Z"
   },
   {
    "duration": 5666,
    "start_time": "2022-03-10T13:01:46.042Z"
   },
   {
    "duration": 7,
    "start_time": "2022-03-10T13:02:06.549Z"
   },
   {
    "duration": 284,
    "start_time": "2022-03-10T13:55:04.569Z"
   },
   {
    "duration": 229,
    "start_time": "2022-03-10T13:56:05.358Z"
   },
   {
    "duration": 9,
    "start_time": "2022-03-10T13:56:18.001Z"
   },
   {
    "duration": 270,
    "start_time": "2022-03-10T13:56:40.756Z"
   },
   {
    "duration": 64,
    "start_time": "2022-03-10T13:56:55.963Z"
   },
   {
    "duration": 1621,
    "start_time": "2022-03-10T16:26:43.228Z"
   },
   {
    "duration": 908,
    "start_time": "2022-03-10T16:26:48.505Z"
   },
   {
    "duration": 4,
    "start_time": "2022-03-10T16:26:55.759Z"
   },
   {
    "duration": 244,
    "start_time": "2022-03-10T16:26:55.766Z"
   },
   {
    "duration": 25,
    "start_time": "2022-03-10T16:26:56.014Z"
   },
   {
    "duration": 8,
    "start_time": "2022-03-10T16:26:56.075Z"
   },
   {
    "duration": 8,
    "start_time": "2022-03-10T16:26:56.086Z"
   },
   {
    "duration": 8,
    "start_time": "2022-03-10T16:26:56.097Z"
   },
   {
    "duration": 1822,
    "start_time": "2022-03-10T16:26:56.109Z"
   },
   {
    "duration": 30,
    "start_time": "2022-03-10T16:55:31.759Z"
   },
   {
    "duration": 29,
    "start_time": "2022-03-10T16:55:55.388Z"
   },
   {
    "duration": 292,
    "start_time": "2022-03-10T17:06:32.968Z"
   },
   {
    "duration": 7,
    "start_time": "2022-03-10T17:08:35.218Z"
   },
   {
    "duration": 36,
    "start_time": "2022-03-10T17:10:49.644Z"
   },
   {
    "duration": 7,
    "start_time": "2022-03-10T17:11:14.581Z"
   },
   {
    "duration": 325,
    "start_time": "2022-03-10T17:11:29.101Z"
   },
   {
    "duration": 9,
    "start_time": "2022-03-10T17:11:42.859Z"
   },
   {
    "duration": 27,
    "start_time": "2022-03-10T17:12:01.633Z"
   },
   {
    "duration": 23,
    "start_time": "2022-03-10T17:14:23.156Z"
   },
   {
    "duration": 23,
    "start_time": "2022-03-10T17:14:38.552Z"
   },
   {
    "duration": 7,
    "start_time": "2022-03-10T17:24:34.514Z"
   },
   {
    "duration": 24,
    "start_time": "2022-03-10T17:27:21.874Z"
   },
   {
    "duration": 306,
    "start_time": "2022-03-10T17:29:53.022Z"
   },
   {
    "duration": 285,
    "start_time": "2022-03-10T17:32:01.273Z"
   },
   {
    "duration": 88,
    "start_time": "2022-03-10T17:33:48.808Z"
   },
   {
    "duration": 85,
    "start_time": "2022-03-10T17:38:28.971Z"
   },
   {
    "duration": 112,
    "start_time": "2022-03-10T17:38:35.074Z"
   },
   {
    "duration": 39,
    "start_time": "2022-03-10T17:38:46.161Z"
   },
   {
    "duration": 285,
    "start_time": "2022-03-10T17:39:22.738Z"
   },
   {
    "duration": 35,
    "start_time": "2022-03-10T17:39:31.905Z"
   },
   {
    "duration": 1278,
    "start_time": "2022-03-10T17:43:46.417Z"
   },
   {
    "duration": 29,
    "start_time": "2022-03-10T17:52:55.045Z"
   },
   {
    "duration": 30,
    "start_time": "2022-03-10T17:53:45.236Z"
   },
   {
    "duration": 19,
    "start_time": "2022-03-10T17:59:09.919Z"
   },
   {
    "duration": 29,
    "start_time": "2022-03-10T17:59:20.142Z"
   },
   {
    "duration": 17,
    "start_time": "2022-03-10T17:59:36.297Z"
   },
   {
    "duration": 12,
    "start_time": "2022-03-10T17:59:51.184Z"
   },
   {
    "duration": 989,
    "start_time": "2022-03-11T05:43:37.536Z"
   },
   {
    "duration": 84,
    "start_time": "2022-03-11T05:43:38.527Z"
   },
   {
    "duration": 16,
    "start_time": "2022-03-11T05:43:38.612Z"
   },
   {
    "duration": 4,
    "start_time": "2022-03-11T05:43:38.629Z"
   },
   {
    "duration": 15,
    "start_time": "2022-03-11T05:43:38.634Z"
   },
   {
    "duration": 8,
    "start_time": "2022-03-11T05:43:38.650Z"
   },
   {
    "duration": 7,
    "start_time": "2022-03-11T05:43:38.659Z"
   },
   {
    "duration": 765,
    "start_time": "2022-03-11T05:43:38.667Z"
   },
   {
    "duration": 11,
    "start_time": "2022-03-11T05:43:39.434Z"
   },
   {
    "duration": 18,
    "start_time": "2022-03-11T05:43:39.446Z"
   },
   {
    "duration": 11,
    "start_time": "2022-03-11T05:43:39.465Z"
   },
   {
    "duration": 5,
    "start_time": "2022-03-11T05:44:23.456Z"
   },
   {
    "duration": 11,
    "start_time": "2022-03-11T05:44:57.780Z"
   },
   {
    "duration": 394,
    "start_time": "2022-03-11T05:46:06.119Z"
   },
   {
    "duration": 11,
    "start_time": "2022-03-11T05:46:11.705Z"
   },
   {
    "duration": 54,
    "start_time": "2022-03-11T05:57:38.603Z"
   },
   {
    "duration": 22626,
    "start_time": "2022-03-11T05:58:06.483Z"
   },
   {
    "duration": 62354,
    "start_time": "2022-03-11T05:59:39.598Z"
   },
   {
    "duration": 23303,
    "start_time": "2022-03-11T06:02:03.310Z"
   },
   {
    "duration": 7572,
    "start_time": "2022-03-11T06:03:11.815Z"
   },
   {
    "duration": 806,
    "start_time": "2022-03-11T06:03:41.838Z"
   },
   {
    "duration": 1212,
    "start_time": "2022-03-11T06:17:48.197Z"
   },
   {
    "duration": 17,
    "start_time": "2022-03-11T06:34:06.854Z"
   },
   {
    "duration": 102,
    "start_time": "2022-03-11T06:46:53.909Z"
   },
   {
    "duration": 101,
    "start_time": "2022-03-11T06:48:53.288Z"
   },
   {
    "duration": 7,
    "start_time": "2022-03-11T06:49:03.219Z"
   },
   {
    "duration": 6,
    "start_time": "2022-03-11T07:02:18.073Z"
   },
   {
    "duration": 6,
    "start_time": "2022-03-11T07:02:32.485Z"
   },
   {
    "duration": 7,
    "start_time": "2022-03-11T07:48:13.549Z"
   },
   {
    "duration": 6,
    "start_time": "2022-03-11T09:47:56.385Z"
   },
   {
    "duration": 605,
    "start_time": "2022-03-11T10:00:00.622Z"
   },
   {
    "duration": 481,
    "start_time": "2022-03-11T10:02:49.975Z"
   },
   {
    "duration": 480,
    "start_time": "2022-03-11T10:04:18.294Z"
   },
   {
    "duration": 6,
    "start_time": "2022-03-11T10:05:37.733Z"
   },
   {
    "duration": 7,
    "start_time": "2022-03-11T10:06:11.517Z"
   },
   {
    "duration": 7,
    "start_time": "2022-03-11T11:29:26.988Z"
   },
   {
    "duration": 350,
    "start_time": "2022-03-11T12:16:24.700Z"
   },
   {
    "duration": 21,
    "start_time": "2022-03-11T12:21:14.024Z"
   },
   {
    "duration": 19,
    "start_time": "2022-03-11T12:21:41.793Z"
   },
   {
    "duration": 9,
    "start_time": "2022-03-11T12:22:24.294Z"
   },
   {
    "duration": 7,
    "start_time": "2022-03-11T13:34:33.297Z"
   },
   {
    "duration": 8,
    "start_time": "2022-03-11T13:50:17.908Z"
   },
   {
    "duration": 556,
    "start_time": "2022-03-11T13:53:40.438Z"
   },
   {
    "duration": 549,
    "start_time": "2022-03-11T13:54:21.721Z"
   },
   {
    "duration": 632,
    "start_time": "2022-03-11T13:54:30.652Z"
   },
   {
    "duration": 564,
    "start_time": "2022-03-11T13:57:48.663Z"
   },
   {
    "duration": 591,
    "start_time": "2022-03-11T13:58:59.990Z"
   },
   {
    "duration": 7,
    "start_time": "2022-03-11T14:03:07.241Z"
   },
   {
    "duration": 557,
    "start_time": "2022-03-11T14:11:11.531Z"
   },
   {
    "duration": 550,
    "start_time": "2022-03-11T14:11:22.262Z"
   },
   {
    "duration": 1722,
    "start_time": "2022-03-12T19:47:50.297Z"
   },
   {
    "duration": 170,
    "start_time": "2022-03-12T19:47:52.022Z"
   },
   {
    "duration": 33,
    "start_time": "2022-03-12T19:47:52.196Z"
   },
   {
    "duration": 9,
    "start_time": "2022-03-12T19:47:52.253Z"
   },
   {
    "duration": 3443,
    "start_time": "2022-03-12T19:47:52.266Z"
   },
   {
    "duration": 15,
    "start_time": "2022-03-12T19:47:55.712Z"
   },
   {
    "duration": 23,
    "start_time": "2022-03-12T19:47:55.730Z"
   },
   {
    "duration": 1350,
    "start_time": "2022-03-12T19:47:55.757Z"
   },
   {
    "duration": 7,
    "start_time": "2022-03-12T19:47:57.109Z"
   },
   {
    "duration": 35,
    "start_time": "2022-03-12T19:47:57.119Z"
   },
   {
    "duration": 30,
    "start_time": "2022-03-12T19:47:57.157Z"
   },
   {
    "duration": 11,
    "start_time": "2022-03-12T19:47:57.190Z"
   },
   {
    "duration": 47,
    "start_time": "2022-03-12T19:47:57.204Z"
   },
   {
    "duration": 9,
    "start_time": "2022-03-12T19:47:57.254Z"
   },
   {
    "duration": 20,
    "start_time": "2022-03-12T19:48:18.645Z"
   },
   {
    "duration": 12,
    "start_time": "2022-03-12T19:49:12.644Z"
   },
   {
    "duration": 1298,
    "start_time": "2022-03-12T19:51:55.779Z"
   },
   {
    "duration": 255,
    "start_time": "2022-03-12T19:54:08.382Z"
   },
   {
    "duration": 983,
    "start_time": "2022-03-12T19:54:33.394Z"
   },
   {
    "duration": 993,
    "start_time": "2022-03-12T19:55:27.113Z"
   },
   {
    "duration": 12,
    "start_time": "2022-03-12T19:55:51.702Z"
   },
   {
    "duration": 247,
    "start_time": "2022-03-12T19:56:27.351Z"
   },
   {
    "duration": 15,
    "start_time": "2022-03-12T19:57:00.771Z"
   },
   {
    "duration": 56,
    "start_time": "2022-03-12T19:57:55.312Z"
   },
   {
    "duration": 258,
    "start_time": "2022-03-12T19:58:50.889Z"
   },
   {
    "duration": 281,
    "start_time": "2022-03-12T20:00:24.314Z"
   },
   {
    "duration": 250,
    "start_time": "2022-03-12T20:01:44.830Z"
   },
   {
    "duration": 4,
    "start_time": "2022-03-12T20:01:58.572Z"
   },
   {
    "duration": 144,
    "start_time": "2022-03-12T20:01:58.579Z"
   },
   {
    "duration": 39,
    "start_time": "2022-03-12T20:01:58.726Z"
   },
   {
    "duration": 6,
    "start_time": "2022-03-12T20:01:58.768Z"
   },
   {
    "duration": 3017,
    "start_time": "2022-03-12T20:01:58.776Z"
   },
   {
    "duration": 13,
    "start_time": "2022-03-12T20:02:01.796Z"
   },
   {
    "duration": 6,
    "start_time": "2022-03-12T20:02:01.813Z"
   },
   {
    "duration": 1440,
    "start_time": "2022-03-12T20:02:01.822Z"
   },
   {
    "duration": 11,
    "start_time": "2022-03-12T20:02:03.265Z"
   },
   {
    "duration": 121,
    "start_time": "2022-03-12T20:02:03.278Z"
   },
   {
    "duration": 11,
    "start_time": "2022-03-12T20:02:03.452Z"
   },
   {
    "duration": 9,
    "start_time": "2022-03-12T20:02:03.466Z"
   },
   {
    "duration": 77,
    "start_time": "2022-03-12T20:02:03.478Z"
   },
   {
    "duration": 9,
    "start_time": "2022-03-12T20:02:03.558Z"
   },
   {
    "duration": 14,
    "start_time": "2022-03-12T20:02:03.570Z"
   },
   {
    "duration": 64,
    "start_time": "2022-03-12T20:02:03.587Z"
   },
   {
    "duration": 11,
    "start_time": "2022-03-12T20:02:28.566Z"
   },
   {
    "duration": 62,
    "start_time": "2022-03-12T20:02:31.182Z"
   },
   {
    "duration": 11,
    "start_time": "2022-03-12T20:02:47.195Z"
   },
   {
    "duration": 12,
    "start_time": "2022-03-12T20:04:44.184Z"
   },
   {
    "duration": 51,
    "start_time": "2022-03-12T20:30:27.379Z"
   },
   {
    "duration": 286,
    "start_time": "2022-03-12T20:35:56.912Z"
   },
   {
    "duration": 49,
    "start_time": "2022-03-12T20:37:05.388Z"
   },
   {
    "duration": 26,
    "start_time": "2022-03-12T20:37:11.932Z"
   },
   {
    "duration": 15,
    "start_time": "2022-03-12T20:44:28.552Z"
   },
   {
    "duration": 17,
    "start_time": "2022-03-12T20:44:54.226Z"
   },
   {
    "duration": 301,
    "start_time": "2022-03-12T20:47:19.646Z"
   },
   {
    "duration": 412,
    "start_time": "2022-03-12T21:00:55.440Z"
   },
   {
    "duration": 734,
    "start_time": "2022-03-12T21:05:31.069Z"
   },
   {
    "duration": 6,
    "start_time": "2022-03-12T21:42:17.239Z"
   },
   {
    "duration": 255,
    "start_time": "2022-03-12T21:49:47.913Z"
   },
   {
    "duration": 243,
    "start_time": "2022-03-12T21:50:49.975Z"
   },
   {
    "duration": 6,
    "start_time": "2022-03-12T21:51:05.670Z"
   },
   {
    "duration": 132,
    "start_time": "2022-03-12T21:51:05.678Z"
   },
   {
    "duration": 13,
    "start_time": "2022-03-12T21:51:05.813Z"
   },
   {
    "duration": 44,
    "start_time": "2022-03-12T21:51:05.829Z"
   },
   {
    "duration": 10506,
    "start_time": "2022-03-12T21:51:05.875Z"
   },
   {
    "duration": -295,
    "start_time": "2022-03-12T21:51:16.678Z"
   },
   {
    "duration": -296,
    "start_time": "2022-03-12T21:51:16.681Z"
   },
   {
    "duration": -297,
    "start_time": "2022-03-12T21:51:16.683Z"
   },
   {
    "duration": -299,
    "start_time": "2022-03-12T21:51:16.686Z"
   },
   {
    "duration": -300,
    "start_time": "2022-03-12T21:51:16.688Z"
   },
   {
    "duration": -301,
    "start_time": "2022-03-12T21:51:16.691Z"
   },
   {
    "duration": -302,
    "start_time": "2022-03-12T21:51:16.693Z"
   },
   {
    "duration": -304,
    "start_time": "2022-03-12T21:51:16.696Z"
   },
   {
    "duration": 23,
    "start_time": "2022-03-12T21:52:51.965Z"
   },
   {
    "duration": 8,
    "start_time": "2022-03-12T21:54:00.521Z"
   },
   {
    "duration": 1173,
    "start_time": "2022-03-12T21:54:03.128Z"
   },
   {
    "duration": 11,
    "start_time": "2022-03-12T21:54:08.934Z"
   },
   {
    "duration": 13,
    "start_time": "2022-03-12T21:54:12.759Z"
   },
   {
    "duration": 6721,
    "start_time": "2022-03-12T21:57:16.002Z"
   },
   {
    "duration": 10,
    "start_time": "2022-03-12T21:57:31.385Z"
   },
   {
    "duration": 28,
    "start_time": "2022-03-12T21:59:48.698Z"
   },
   {
    "duration": 37,
    "start_time": "2022-03-12T22:00:25.619Z"
   },
   {
    "duration": 30,
    "start_time": "2022-03-12T22:01:28.258Z"
   },
   {
    "duration": 11,
    "start_time": "2022-03-12T22:03:23.767Z"
   },
   {
    "duration": 36,
    "start_time": "2022-03-12T22:06:34.336Z"
   },
   {
    "duration": 4,
    "start_time": "2022-03-12T22:10:50.234Z"
   },
   {
    "duration": 275,
    "start_time": "2022-03-12T22:13:19.621Z"
   },
   {
    "duration": 6370,
    "start_time": "2022-03-12T22:21:34.339Z"
   },
   {
    "duration": 49,
    "start_time": "2022-03-12T22:22:33.025Z"
   },
   {
    "duration": 273,
    "start_time": "2022-03-12T22:28:59.970Z"
   },
   {
    "duration": 22,
    "start_time": "2022-03-12T22:29:18.315Z"
   },
   {
    "duration": 42,
    "start_time": "2022-03-12T22:30:28.254Z"
   },
   {
    "duration": 4,
    "start_time": "2022-03-12T22:40:24.143Z"
   },
   {
    "duration": 57,
    "start_time": "2022-03-12T22:41:34.044Z"
   },
   {
    "duration": 253,
    "start_time": "2022-03-12T22:44:28.360Z"
   },
   {
    "duration": 218,
    "start_time": "2022-03-12T22:44:57.717Z"
   },
   {
    "duration": 246,
    "start_time": "2022-03-12T22:46:42.836Z"
   },
   {
    "duration": 8,
    "start_time": "2022-03-12T22:48:38.760Z"
   },
   {
    "duration": 5,
    "start_time": "2022-03-12T22:56:42.788Z"
   },
   {
    "duration": 84,
    "start_time": "2022-03-12T23:01:01.427Z"
   },
   {
    "duration": 643,
    "start_time": "2022-03-12T23:01:44.125Z"
   },
   {
    "duration": 111612,
    "start_time": "2022-03-12T23:02:11.144Z"
   },
   {
    "duration": 27,
    "start_time": "2022-03-12T23:04:09.462Z"
   },
   {
    "duration": 323,
    "start_time": "2022-03-12T23:07:59.385Z"
   },
   {
    "duration": 5,
    "start_time": "2022-03-12T23:17:25.976Z"
   },
   {
    "duration": 126,
    "start_time": "2022-03-12T23:19:41.067Z"
   },
   {
    "duration": 285,
    "start_time": "2022-03-12T23:33:39.263Z"
   },
   {
    "duration": 6,
    "start_time": "2022-03-12T23:34:36.333Z"
   },
   {
    "duration": 679,
    "start_time": "2022-03-12T23:34:44.508Z"
   },
   {
    "duration": 296,
    "start_time": "2022-03-12T23:36:02.943Z"
   },
   {
    "duration": 6,
    "start_time": "2022-03-12T23:36:40.977Z"
   },
   {
    "duration": 42,
    "start_time": "2022-03-12T23:36:46.609Z"
   },
   {
    "duration": 297,
    "start_time": "2022-03-12T23:37:09.861Z"
   },
   {
    "duration": 613,
    "start_time": "2022-03-12T23:37:27.922Z"
   },
   {
    "duration": 277,
    "start_time": "2022-03-12T23:37:41.472Z"
   },
   {
    "duration": 128,
    "start_time": "2022-03-12T23:37:49.255Z"
   },
   {
    "duration": 600,
    "start_time": "2022-03-12T23:44:37.085Z"
   },
   {
    "duration": 1161,
    "start_time": "2022-03-12T23:54:52.876Z"
   },
   {
    "duration": 57,
    "start_time": "2022-03-12T23:55:21.671Z"
   },
   {
    "duration": 262,
    "start_time": "2022-03-12T23:57:30.435Z"
   },
   {
    "duration": 54,
    "start_time": "2022-03-12T23:58:11.989Z"
   },
   {
    "duration": 33,
    "start_time": "2022-03-12T23:58:52.049Z"
   },
   {
    "duration": 30,
    "start_time": "2022-03-12T23:59:16.649Z"
   },
   {
    "duration": 28,
    "start_time": "2022-03-12T23:59:30.568Z"
   },
   {
    "duration": 56,
    "start_time": "2022-03-13T00:02:11.640Z"
   },
   {
    "duration": 123,
    "start_time": "2022-03-13T00:02:45.075Z"
   },
   {
    "duration": 537,
    "start_time": "2022-03-13T00:04:21.805Z"
   },
   {
    "duration": 613,
    "start_time": "2022-03-13T00:04:52.142Z"
   },
   {
    "duration": 55,
    "start_time": "2022-03-13T00:11:14.073Z"
   },
   {
    "duration": 130,
    "start_time": "2022-03-13T00:12:28.558Z"
   },
   {
    "duration": 122,
    "start_time": "2022-03-13T00:12:32.186Z"
   },
   {
    "duration": 17,
    "start_time": "2022-03-13T00:36:16.027Z"
   },
   {
    "duration": 18,
    "start_time": "2022-03-13T00:37:38.463Z"
   },
   {
    "duration": 435,
    "start_time": "2022-03-13T00:39:04.529Z"
   },
   {
    "duration": 6,
    "start_time": "2022-03-13T00:39:25.893Z"
   },
   {
    "duration": 28,
    "start_time": "2022-03-13T00:39:32.772Z"
   },
   {
    "duration": 107,
    "start_time": "2022-03-13T00:41:03.551Z"
   },
   {
    "duration": 277,
    "start_time": "2022-03-13T00:42:27.864Z"
   },
   {
    "duration": 91,
    "start_time": "2022-03-13T00:42:34.505Z"
   },
   {
    "duration": 78,
    "start_time": "2022-03-13T00:43:13.580Z"
   },
   {
    "duration": 96,
    "start_time": "2022-03-13T00:45:19.344Z"
   },
   {
    "duration": 96,
    "start_time": "2022-03-13T00:45:26.661Z"
   },
   {
    "duration": 76,
    "start_time": "2022-03-13T00:45:33.084Z"
   },
   {
    "duration": 24,
    "start_time": "2022-03-13T00:45:46.065Z"
   },
   {
    "duration": 93,
    "start_time": "2022-03-13T00:45:51.561Z"
   },
   {
    "duration": 1484,
    "start_time": "2022-03-13T17:28:42.066Z"
   },
   {
    "duration": 153,
    "start_time": "2022-03-13T17:28:43.553Z"
   },
   {
    "duration": 33,
    "start_time": "2022-03-13T17:28:43.709Z"
   },
   {
    "duration": 26,
    "start_time": "2022-03-13T17:28:43.744Z"
   },
   {
    "duration": 7,
    "start_time": "2022-03-13T17:28:43.772Z"
   },
   {
    "duration": 913,
    "start_time": "2022-03-13T17:28:43.781Z"
   },
   {
    "duration": -63,
    "start_time": "2022-03-13T17:28:44.760Z"
   },
   {
    "duration": -71,
    "start_time": "2022-03-13T17:28:44.770Z"
   },
   {
    "duration": -73,
    "start_time": "2022-03-13T17:28:44.774Z"
   },
   {
    "duration": -77,
    "start_time": "2022-03-13T17:28:44.779Z"
   },
   {
    "duration": -80,
    "start_time": "2022-03-13T17:28:44.784Z"
   },
   {
    "duration": -83,
    "start_time": "2022-03-13T17:28:44.788Z"
   },
   {
    "duration": -85,
    "start_time": "2022-03-13T17:28:44.792Z"
   },
   {
    "duration": -89,
    "start_time": "2022-03-13T17:28:44.797Z"
   },
   {
    "duration": -98,
    "start_time": "2022-03-13T17:28:44.808Z"
   },
   {
    "duration": -103,
    "start_time": "2022-03-13T17:28:44.814Z"
   },
   {
    "duration": -107,
    "start_time": "2022-03-13T17:28:44.819Z"
   },
   {
    "duration": -110,
    "start_time": "2022-03-13T17:28:44.823Z"
   },
   {
    "duration": -113,
    "start_time": "2022-03-13T17:28:44.827Z"
   },
   {
    "duration": -118,
    "start_time": "2022-03-13T17:28:44.833Z"
   },
   {
    "duration": -104,
    "start_time": "2022-03-13T17:28:44.837Z"
   },
   {
    "duration": -106,
    "start_time": "2022-03-13T17:28:44.841Z"
   },
   {
    "duration": -110,
    "start_time": "2022-03-13T17:28:44.846Z"
   },
   {
    "duration": -112,
    "start_time": "2022-03-13T17:28:44.850Z"
   },
   {
    "duration": -121,
    "start_time": "2022-03-13T17:28:44.861Z"
   },
   {
    "duration": -124,
    "start_time": "2022-03-13T17:28:44.865Z"
   },
   {
    "duration": -150,
    "start_time": "2022-03-13T17:28:44.893Z"
   },
   {
    "duration": -179,
    "start_time": "2022-03-13T17:28:44.924Z"
   },
   {
    "duration": -182,
    "start_time": "2022-03-13T17:28:44.928Z"
   },
   {
    "duration": -185,
    "start_time": "2022-03-13T17:28:44.933Z"
   },
   {
    "duration": -188,
    "start_time": "2022-03-13T17:28:44.937Z"
   },
   {
    "duration": -190,
    "start_time": "2022-03-13T17:28:44.940Z"
   },
   {
    "duration": -201,
    "start_time": "2022-03-13T17:28:44.953Z"
   },
   {
    "duration": -203,
    "start_time": "2022-03-13T17:28:44.956Z"
   },
   {
    "duration": -205,
    "start_time": "2022-03-13T17:28:44.960Z"
   },
   {
    "duration": -225,
    "start_time": "2022-03-13T17:28:44.981Z"
   },
   {
    "duration": -229,
    "start_time": "2022-03-13T17:28:44.986Z"
   },
   {
    "duration": 334,
    "start_time": "2022-03-13T17:31:38.898Z"
   },
   {
    "duration": 5,
    "start_time": "2022-03-13T17:31:44.884Z"
   },
   {
    "duration": 187,
    "start_time": "2022-03-13T17:31:44.892Z"
   },
   {
    "duration": 14,
    "start_time": "2022-03-13T17:31:45.083Z"
   },
   {
    "duration": 46,
    "start_time": "2022-03-13T17:31:45.099Z"
   },
   {
    "duration": 7,
    "start_time": "2022-03-13T17:31:45.148Z"
   },
   {
    "duration": 754,
    "start_time": "2022-03-13T17:31:45.158Z"
   },
   {
    "duration": -78,
    "start_time": "2022-03-13T17:31:45.994Z"
   },
   {
    "duration": -80,
    "start_time": "2022-03-13T17:31:45.997Z"
   },
   {
    "duration": -82,
    "start_time": "2022-03-13T17:31:46.001Z"
   },
   {
    "duration": -72,
    "start_time": "2022-03-13T17:31:46.005Z"
   },
   {
    "duration": -75,
    "start_time": "2022-03-13T17:31:46.009Z"
   },
   {
    "duration": -79,
    "start_time": "2022-03-13T17:31:46.014Z"
   },
   {
    "duration": -80,
    "start_time": "2022-03-13T17:31:46.017Z"
   },
   {
    "duration": -83,
    "start_time": "2022-03-13T17:31:46.021Z"
   },
   {
    "duration": -86,
    "start_time": "2022-03-13T17:31:46.025Z"
   },
   {
    "duration": -88,
    "start_time": "2022-03-13T17:31:46.029Z"
   },
   {
    "duration": -91,
    "start_time": "2022-03-13T17:31:46.033Z"
   },
   {
    "duration": -93,
    "start_time": "2022-03-13T17:31:46.037Z"
   },
   {
    "duration": -95,
    "start_time": "2022-03-13T17:31:46.040Z"
   },
   {
    "duration": -97,
    "start_time": "2022-03-13T17:31:46.044Z"
   },
   {
    "duration": -107,
    "start_time": "2022-03-13T17:31:46.055Z"
   },
   {
    "duration": -109,
    "start_time": "2022-03-13T17:31:46.059Z"
   },
   {
    "duration": -113,
    "start_time": "2022-03-13T17:31:46.064Z"
   },
   {
    "duration": -116,
    "start_time": "2022-03-13T17:31:46.069Z"
   },
   {
    "duration": -119,
    "start_time": "2022-03-13T17:31:46.073Z"
   },
   {
    "duration": -121,
    "start_time": "2022-03-13T17:31:46.077Z"
   },
   {
    "duration": -124,
    "start_time": "2022-03-13T17:31:46.081Z"
   },
   {
    "duration": -138,
    "start_time": "2022-03-13T17:31:46.097Z"
   },
   {
    "duration": -141,
    "start_time": "2022-03-13T17:31:46.101Z"
   },
   {
    "duration": -143,
    "start_time": "2022-03-13T17:31:46.105Z"
   },
   {
    "duration": -145,
    "start_time": "2022-03-13T17:31:46.108Z"
   },
   {
    "duration": -148,
    "start_time": "2022-03-13T17:31:46.113Z"
   },
   {
    "duration": -151,
    "start_time": "2022-03-13T17:31:46.117Z"
   },
   {
    "duration": -154,
    "start_time": "2022-03-13T17:31:46.121Z"
   },
   {
    "duration": -164,
    "start_time": "2022-03-13T17:31:46.133Z"
   },
   {
    "duration": 93,
    "start_time": "2022-03-13T17:33:47.988Z"
   },
   {
    "duration": 1342,
    "start_time": "2022-03-13T17:33:53.357Z"
   },
   {
    "duration": 10,
    "start_time": "2022-03-13T17:34:01.293Z"
   },
   {
    "duration": 12,
    "start_time": "2022-03-13T17:34:03.914Z"
   },
   {
    "duration": 29,
    "start_time": "2022-03-13T17:34:09.569Z"
   },
   {
    "duration": 11,
    "start_time": "2022-03-13T17:34:11.729Z"
   },
   {
    "duration": 24,
    "start_time": "2022-03-13T17:34:15.639Z"
   },
   {
    "duration": 360,
    "start_time": "2022-03-13T17:34:18.592Z"
   },
   {
    "duration": 325,
    "start_time": "2022-03-13T17:34:36.125Z"
   },
   {
    "duration": 498,
    "start_time": "2022-03-13T17:35:25.422Z"
   },
   {
    "duration": 43,
    "start_time": "2022-03-13T17:35:35.364Z"
   },
   {
    "duration": 103,
    "start_time": "2022-03-13T17:37:07.965Z"
   },
   {
    "duration": 327,
    "start_time": "2022-03-13T17:37:16.180Z"
   },
   {
    "duration": 15,
    "start_time": "2022-03-13T17:40:11.592Z"
   },
   {
    "duration": 129753,
    "start_time": "2022-03-13T17:40:18.032Z"
   },
   {
    "duration": 29,
    "start_time": "2022-03-13T17:42:34.546Z"
   },
   {
    "duration": 37,
    "start_time": "2022-03-13T17:42:37.785Z"
   },
   {
    "duration": 1283,
    "start_time": "2022-03-13T17:42:41.297Z"
   },
   {
    "duration": 97,
    "start_time": "2022-03-13T17:42:50.535Z"
   },
   {
    "duration": 250,
    "start_time": "2022-03-13T17:42:53.782Z"
   },
   {
    "duration": 8,
    "start_time": "2022-03-13T17:42:58.693Z"
   },
   {
    "duration": 379,
    "start_time": "2022-03-13T17:43:01.421Z"
   },
   {
    "duration": 421,
    "start_time": "2022-03-13T17:43:30.872Z"
   },
   {
    "duration": 77,
    "start_time": "2022-03-13T17:43:37.383Z"
   },
   {
    "duration": 473,
    "start_time": "2022-03-13T17:44:00.579Z"
   },
   {
    "duration": 131,
    "start_time": "2022-03-13T17:44:17.969Z"
   },
   {
    "duration": 138,
    "start_time": "2022-03-13T17:44:30.870Z"
   },
   {
    "duration": 407,
    "start_time": "2022-03-13T17:44:40.316Z"
   },
   {
    "duration": 374,
    "start_time": "2022-03-13T17:44:52.395Z"
   },
   {
    "duration": 378,
    "start_time": "2022-03-13T17:45:04.299Z"
   },
   {
    "duration": 732,
    "start_time": "2022-03-13T17:45:23.302Z"
   },
   {
    "duration": 765,
    "start_time": "2022-03-13T17:45:45.331Z"
   },
   {
    "duration": 625,
    "start_time": "2022-03-13T17:46:07.688Z"
   },
   {
    "duration": 62,
    "start_time": "2022-03-13T17:46:30.412Z"
   },
   {
    "duration": 131,
    "start_time": "2022-03-13T17:46:52.879Z"
   },
   {
    "duration": 134,
    "start_time": "2022-03-13T17:47:23.738Z"
   },
   {
    "duration": 19,
    "start_time": "2022-03-13T17:54:00.853Z"
   },
   {
    "duration": 30,
    "start_time": "2022-03-13T17:54:08.965Z"
   },
   {
    "duration": 44,
    "start_time": "2022-03-13T17:54:14.321Z"
   },
   {
    "duration": 512,
    "start_time": "2022-03-13T17:54:24.417Z"
   },
   {
    "duration": 103,
    "start_time": "2022-03-13T17:54:38.651Z"
   },
   {
    "duration": 164,
    "start_time": "2022-03-13T17:54:48.773Z"
   },
   {
    "duration": 209,
    "start_time": "2022-03-13T17:54:58.931Z"
   },
   {
    "duration": 277,
    "start_time": "2022-03-13T18:12:37.556Z"
   },
   {
    "duration": 624,
    "start_time": "2022-03-13T18:17:28.821Z"
   },
   {
    "duration": 825,
    "start_time": "2022-03-13T18:18:03.728Z"
   },
   {
    "duration": 803,
    "start_time": "2022-03-13T18:18:41.762Z"
   },
   {
    "duration": 379,
    "start_time": "2022-03-13T18:20:07.397Z"
   },
   {
    "duration": 135,
    "start_time": "2022-03-13T18:23:30.716Z"
   },
   {
    "duration": 3523,
    "start_time": "2022-03-13T18:27:11.272Z"
   },
   {
    "duration": 941,
    "start_time": "2022-03-13T18:30:29.297Z"
   },
   {
    "duration": 301,
    "start_time": "2022-03-13T18:31:30.231Z"
   },
   {
    "duration": 109,
    "start_time": "2022-03-13T18:32:32.030Z"
   },
   {
    "duration": 277,
    "start_time": "2022-03-13T18:32:55.730Z"
   },
   {
    "duration": 838,
    "start_time": "2022-03-13T18:33:48.298Z"
   },
   {
    "duration": 226,
    "start_time": "2022-03-13T21:06:17.523Z"
   },
   {
    "duration": 1717,
    "start_time": "2022-03-14T08:05:54.685Z"
   },
   {
    "duration": 153,
    "start_time": "2022-03-14T08:05:56.405Z"
   },
   {
    "duration": 12,
    "start_time": "2022-03-14T08:05:56.561Z"
   },
   {
    "duration": 20,
    "start_time": "2022-03-14T08:05:56.576Z"
   },
   {
    "duration": 7,
    "start_time": "2022-03-14T08:05:56.598Z"
   },
   {
    "duration": 1172,
    "start_time": "2022-03-14T08:05:56.607Z"
   },
   {
    "duration": 13,
    "start_time": "2022-03-14T08:05:57.782Z"
   },
   {
    "duration": 13,
    "start_time": "2022-03-14T08:05:57.800Z"
   },
   {
    "duration": 64,
    "start_time": "2022-03-14T08:05:57.816Z"
   },
   {
    "duration": 13,
    "start_time": "2022-03-14T08:05:57.883Z"
   },
   {
    "duration": 64,
    "start_time": "2022-03-14T08:05:57.898Z"
   },
   {
    "duration": 41,
    "start_time": "2022-03-14T08:05:57.964Z"
   },
   {
    "duration": 117,
    "start_time": "2022-03-14T08:05:58.007Z"
   },
   {
    "duration": 61,
    "start_time": "2022-03-14T08:07:57.216Z"
   },
   {
    "duration": 117,
    "start_time": "2022-03-14T08:07:57.355Z"
   },
   {
    "duration": 1212,
    "start_time": "2022-03-14T08:07:57.475Z"
   },
   {
    "duration": 68,
    "start_time": "2022-03-14T08:07:58.690Z"
   },
   {
    "duration": 404,
    "start_time": "2022-03-14T08:07:58.761Z"
   },
   {
    "duration": 10,
    "start_time": "2022-03-14T08:07:59.168Z"
   },
   {
    "duration": 84,
    "start_time": "2022-03-14T08:07:59.180Z"
   },
   {
    "duration": 142,
    "start_time": "2022-03-14T08:07:59.266Z"
   },
   {
    "duration": 141,
    "start_time": "2022-03-14T08:07:59.413Z"
   },
   {
    "duration": 569,
    "start_time": "2022-03-14T08:07:59.557Z"
   },
   {
    "duration": 667,
    "start_time": "2022-03-14T08:08:00.129Z"
   },
   {
    "duration": 657,
    "start_time": "2022-03-14T08:08:00.798Z"
   },
   {
    "duration": 61,
    "start_time": "2022-03-14T08:08:01.458Z"
   },
   {
    "duration": 155,
    "start_time": "2022-03-14T08:08:01.521Z"
   },
   {
    "duration": 147,
    "start_time": "2022-03-14T08:08:01.679Z"
   },
   {
    "duration": 27,
    "start_time": "2022-03-14T08:08:01.829Z"
   },
   {
    "duration": 19,
    "start_time": "2022-03-14T08:08:01.859Z"
   },
   {
    "duration": 30,
    "start_time": "2022-03-14T08:08:01.881Z"
   },
   {
    "duration": 142,
    "start_time": "2022-03-14T08:08:01.914Z"
   },
   {
    "duration": 299,
    "start_time": "2022-03-14T08:08:02.059Z"
   },
   {
    "duration": 95,
    "start_time": "2022-03-14T08:08:02.360Z"
   },
   {
    "duration": 783,
    "start_time": "2022-03-14T08:08:02.459Z"
   },
   {
    "duration": 781,
    "start_time": "2022-03-14T08:08:03.252Z"
   },
   {
    "duration": 760,
    "start_time": "2022-03-14T08:08:04.036Z"
   },
   {
    "duration": 2501,
    "start_time": "2022-03-14T08:08:04.798Z"
   },
   {
    "duration": 270,
    "start_time": "2022-03-14T08:08:07.301Z"
   },
   {
    "duration": 767,
    "start_time": "2022-03-14T08:08:07.573Z"
   },
   {
    "duration": 71,
    "start_time": "2022-03-14T08:08:08.343Z"
   },
   {
    "duration": 371,
    "start_time": "2022-03-14T08:08:08.453Z"
   },
   {
    "duration": 755,
    "start_time": "2022-03-14T08:08:08.826Z"
   },
   {
    "duration": 118019,
    "start_time": "2022-03-14T08:08:09.583Z"
   },
   {
    "duration": 281,
    "start_time": "2022-03-14T10:25:27.598Z"
   },
   {
    "duration": 565,
    "start_time": "2022-03-14T10:39:01.207Z"
   },
   {
    "duration": 54,
    "start_time": "2022-03-14T10:39:13.052Z"
   },
   {
    "duration": 378,
    "start_time": "2022-03-14T10:40:13.751Z"
   },
   {
    "duration": 99,
    "start_time": "2022-03-14T10:40:18.793Z"
   },
   {
    "duration": 569,
    "start_time": "2022-03-14T10:46:43.812Z"
   },
   {
    "duration": 264,
    "start_time": "2022-03-14T10:46:50.675Z"
   },
   {
    "duration": 355,
    "start_time": "2022-03-14T10:52:18.642Z"
   },
   {
    "duration": 61,
    "start_time": "2022-03-14T10:52:22.961Z"
   },
   {
    "duration": 244804,
    "start_time": "2022-03-14T10:57:42.612Z"
   },
   {
    "duration": 2449,
    "start_time": "2022-03-14T12:16:36.986Z"
   },
   {
    "duration": 1319,
    "start_time": "2022-03-14T19:35:29.898Z"
   },
   {
    "duration": 132,
    "start_time": "2022-03-14T19:35:31.220Z"
   },
   {
    "duration": 11,
    "start_time": "2022-03-14T19:35:31.355Z"
   },
   {
    "duration": 49,
    "start_time": "2022-03-14T19:35:31.368Z"
   },
   {
    "duration": 31,
    "start_time": "2022-03-14T19:35:31.420Z"
   },
   {
    "duration": 899,
    "start_time": "2022-03-14T19:35:31.453Z"
   },
   {
    "duration": 10,
    "start_time": "2022-03-14T19:35:32.355Z"
   },
   {
    "duration": 10,
    "start_time": "2022-03-14T19:35:32.369Z"
   },
   {
    "duration": 58,
    "start_time": "2022-03-14T19:35:32.382Z"
   },
   {
    "duration": 8,
    "start_time": "2022-03-14T19:35:32.443Z"
   },
   {
    "duration": 17,
    "start_time": "2022-03-14T19:35:32.453Z"
   },
   {
    "duration": 32,
    "start_time": "2022-03-14T19:35:32.472Z"
   },
   {
    "duration": 94,
    "start_time": "2022-03-14T19:35:32.505Z"
   },
   {
    "duration": 93760,
    "start_time": "2022-03-14T19:35:32.601Z"
   },
   {
    "duration": 74,
    "start_time": "2022-03-14T19:37:06.364Z"
   },
   {
    "duration": 110,
    "start_time": "2022-03-14T19:37:06.441Z"
   },
   {
    "duration": 1049,
    "start_time": "2022-03-14T19:37:06.554Z"
   },
   {
    "duration": 47,
    "start_time": "2022-03-14T19:37:07.605Z"
   },
   {
    "duration": 269,
    "start_time": "2022-03-14T19:37:07.733Z"
   },
   {
    "duration": 6,
    "start_time": "2022-03-14T19:37:08.004Z"
   },
   {
    "duration": 64,
    "start_time": "2022-03-14T19:37:08.012Z"
   },
   {
    "duration": 118,
    "start_time": "2022-03-14T19:37:08.078Z"
   },
   {
    "duration": 111,
    "start_time": "2022-03-14T19:37:08.199Z"
   },
   {
    "duration": 457,
    "start_time": "2022-03-14T19:37:08.312Z"
   },
   {
    "duration": 495,
    "start_time": "2022-03-14T19:37:08.771Z"
   },
   {
    "duration": 500,
    "start_time": "2022-03-14T19:37:09.268Z"
   },
   {
    "duration": 48,
    "start_time": "2022-03-14T19:37:09.770Z"
   },
   {
    "duration": 130,
    "start_time": "2022-03-14T19:37:09.820Z"
   },
   {
    "duration": 114,
    "start_time": "2022-03-14T19:37:09.952Z"
   },
   {
    "duration": 13,
    "start_time": "2022-03-14T19:37:10.068Z"
   },
   {
    "duration": 14,
    "start_time": "2022-03-14T19:37:10.083Z"
   },
   {
    "duration": 60,
    "start_time": "2022-03-14T19:37:10.099Z"
   },
   {
    "duration": 82,
    "start_time": "2022-03-14T19:37:10.160Z"
   },
   {
    "duration": 206,
    "start_time": "2022-03-14T19:37:10.246Z"
   },
   {
    "duration": 84,
    "start_time": "2022-03-14T19:37:10.454Z"
   },
   {
    "duration": 528,
    "start_time": "2022-03-14T19:37:10.542Z"
   },
   {
    "duration": 577,
    "start_time": "2022-03-14T19:37:11.072Z"
   },
   {
    "duration": 547,
    "start_time": "2022-03-14T19:37:11.651Z"
   },
   {
    "duration": 1869,
    "start_time": "2022-03-14T19:37:12.200Z"
   },
   {
    "duration": 1783,
    "start_time": "2022-03-14T19:37:14.071Z"
   },
   {
    "duration": 626,
    "start_time": "2022-03-14T19:37:15.856Z"
   },
   {
    "duration": 262,
    "start_time": "2022-03-14T20:07:35.475Z"
   },
   {
    "duration": 521,
    "start_time": "2022-03-14T20:07:39.741Z"
   },
   {
    "duration": 344,
    "start_time": "2022-03-15T08:13:22.018Z"
   },
   {
    "duration": 1139,
    "start_time": "2022-03-15T08:13:25.542Z"
   },
   {
    "duration": 92,
    "start_time": "2022-03-15T08:13:26.683Z"
   },
   {
    "duration": 9,
    "start_time": "2022-03-15T08:13:26.777Z"
   },
   {
    "duration": 13,
    "start_time": "2022-03-15T08:13:26.801Z"
   },
   {
    "duration": 4,
    "start_time": "2022-03-15T08:13:26.815Z"
   },
   {
    "duration": 608,
    "start_time": "2022-03-15T08:13:26.821Z"
   },
   {
    "duration": 8,
    "start_time": "2022-03-15T08:13:27.430Z"
   },
   {
    "duration": 8,
    "start_time": "2022-03-15T08:13:27.440Z"
   },
   {
    "duration": 19,
    "start_time": "2022-03-15T08:13:27.450Z"
   },
   {
    "duration": 31,
    "start_time": "2022-03-15T08:13:27.471Z"
   },
   {
    "duration": 15,
    "start_time": "2022-03-15T08:13:27.504Z"
   },
   {
    "duration": 390,
    "start_time": "2022-03-15T08:13:27.521Z"
   },
   {
    "duration": 1819,
    "start_time": "2022-03-15T08:13:26.094Z"
   },
   {
    "duration": 1813,
    "start_time": "2022-03-15T08:13:26.101Z"
   },
   {
    "duration": 1812,
    "start_time": "2022-03-15T08:13:26.103Z"
   },
   {
    "duration": 1811,
    "start_time": "2022-03-15T08:13:26.105Z"
   },
   {
    "duration": 1811,
    "start_time": "2022-03-15T08:13:26.106Z"
   },
   {
    "duration": 1810,
    "start_time": "2022-03-15T08:13:26.108Z"
   },
   {
    "duration": 1808,
    "start_time": "2022-03-15T08:13:26.110Z"
   },
   {
    "duration": 1807,
    "start_time": "2022-03-15T08:13:26.112Z"
   },
   {
    "duration": 1806,
    "start_time": "2022-03-15T08:13:26.114Z"
   },
   {
    "duration": 1804,
    "start_time": "2022-03-15T08:13:26.117Z"
   },
   {
    "duration": 1803,
    "start_time": "2022-03-15T08:13:26.118Z"
   },
   {
    "duration": 1790,
    "start_time": "2022-03-15T08:13:26.132Z"
   },
   {
    "duration": 1789,
    "start_time": "2022-03-15T08:13:26.134Z"
   },
   {
    "duration": 1788,
    "start_time": "2022-03-15T08:13:26.136Z"
   },
   {
    "duration": 1787,
    "start_time": "2022-03-15T08:13:26.137Z"
   },
   {
    "duration": 1786,
    "start_time": "2022-03-15T08:13:26.139Z"
   },
   {
    "duration": 1786,
    "start_time": "2022-03-15T08:13:26.140Z"
   },
   {
    "duration": 1785,
    "start_time": "2022-03-15T08:13:26.142Z"
   },
   {
    "duration": 1783,
    "start_time": "2022-03-15T08:13:26.144Z"
   },
   {
    "duration": 1783,
    "start_time": "2022-03-15T08:13:26.145Z"
   },
   {
    "duration": 1782,
    "start_time": "2022-03-15T08:13:26.147Z"
   },
   {
    "duration": 1781,
    "start_time": "2022-03-15T08:13:26.149Z"
   },
   {
    "duration": 1780,
    "start_time": "2022-03-15T08:13:26.150Z"
   },
   {
    "duration": 1779,
    "start_time": "2022-03-15T08:13:26.152Z"
   },
   {
    "duration": 1779,
    "start_time": "2022-03-15T08:13:26.153Z"
   },
   {
    "duration": 1778,
    "start_time": "2022-03-15T08:13:26.155Z"
   },
   {
    "duration": 1776,
    "start_time": "2022-03-15T08:13:26.157Z"
   },
   {
    "duration": 1776,
    "start_time": "2022-03-15T08:13:26.158Z"
   },
   {
    "duration": 1775,
    "start_time": "2022-03-15T08:13:26.160Z"
   },
   {
    "duration": 106,
    "start_time": "2022-03-15T08:16:17.165Z"
   },
   {
    "duration": 14,
    "start_time": "2022-03-15T08:18:02.314Z"
   },
   {
    "duration": 5,
    "start_time": "2022-03-15T08:36:22.075Z"
   },
   {
    "duration": 5,
    "start_time": "2022-03-15T08:36:34.752Z"
   },
   {
    "duration": 19,
    "start_time": "2022-03-15T08:38:26.337Z"
   },
   {
    "duration": 8,
    "start_time": "2022-03-15T08:39:46.128Z"
   },
   {
    "duration": 11,
    "start_time": "2022-03-15T08:42:55.928Z"
   },
   {
    "duration": 1323,
    "start_time": "2022-03-15T08:43:31.503Z"
   },
   {
    "duration": 12,
    "start_time": "2022-03-15T08:43:53.016Z"
   },
   {
    "duration": 20,
    "start_time": "2022-03-15T09:17:08.753Z"
   },
   {
    "duration": 21,
    "start_time": "2022-03-15T09:21:41.098Z"
   },
   {
    "duration": 20,
    "start_time": "2022-03-15T09:24:17.315Z"
   },
   {
    "duration": 15,
    "start_time": "2022-03-15T09:24:33.212Z"
   },
   {
    "duration": 13,
    "start_time": "2022-03-15T09:25:14.243Z"
   },
   {
    "duration": 5,
    "start_time": "2022-03-15T09:25:32.795Z"
   },
   {
    "duration": 109,
    "start_time": "2022-03-15T09:25:32.802Z"
   },
   {
    "duration": 8,
    "start_time": "2022-03-15T09:25:32.913Z"
   },
   {
    "duration": 14,
    "start_time": "2022-03-15T09:25:32.923Z"
   },
   {
    "duration": 4,
    "start_time": "2022-03-15T09:25:32.939Z"
   },
   {
    "duration": 691,
    "start_time": "2022-03-15T09:25:32.945Z"
   },
   {
    "duration": 7,
    "start_time": "2022-03-15T09:25:33.639Z"
   },
   {
    "duration": 8,
    "start_time": "2022-03-15T09:25:33.649Z"
   },
   {
    "duration": 4,
    "start_time": "2022-03-15T09:25:33.660Z"
   },
   {
    "duration": 53,
    "start_time": "2022-03-15T09:25:33.666Z"
   },
   {
    "duration": 8,
    "start_time": "2022-03-15T09:25:33.721Z"
   },
   {
    "duration": 13,
    "start_time": "2022-03-15T09:25:33.730Z"
   },
   {
    "duration": 14,
    "start_time": "2022-03-15T09:25:33.745Z"
   },
   {
    "duration": 346,
    "start_time": "2022-03-15T09:25:33.760Z"
   },
   {
    "duration": 1844,
    "start_time": "2022-03-15T09:25:32.265Z"
   },
   {
    "duration": 1843,
    "start_time": "2022-03-15T09:25:32.267Z"
   },
   {
    "duration": 1842,
    "start_time": "2022-03-15T09:25:32.269Z"
   },
   {
    "duration": 1842,
    "start_time": "2022-03-15T09:25:32.270Z"
   },
   {
    "duration": 1841,
    "start_time": "2022-03-15T09:25:32.272Z"
   },
   {
    "duration": 1840,
    "start_time": "2022-03-15T09:25:32.274Z"
   },
   {
    "duration": 1807,
    "start_time": "2022-03-15T09:25:32.308Z"
   },
   {
    "duration": 1806,
    "start_time": "2022-03-15T09:25:32.310Z"
   },
   {
    "duration": 1805,
    "start_time": "2022-03-15T09:25:32.312Z"
   },
   {
    "duration": 1804,
    "start_time": "2022-03-15T09:25:32.314Z"
   },
   {
    "duration": 1803,
    "start_time": "2022-03-15T09:25:32.316Z"
   },
   {
    "duration": 1802,
    "start_time": "2022-03-15T09:25:32.318Z"
   },
   {
    "duration": 1801,
    "start_time": "2022-03-15T09:25:32.320Z"
   },
   {
    "duration": 1801,
    "start_time": "2022-03-15T09:25:32.322Z"
   },
   {
    "duration": 1800,
    "start_time": "2022-03-15T09:25:32.324Z"
   },
   {
    "duration": 1800,
    "start_time": "2022-03-15T09:25:32.326Z"
   },
   {
    "duration": 1799,
    "start_time": "2022-03-15T09:25:32.328Z"
   },
   {
    "duration": 1799,
    "start_time": "2022-03-15T09:25:32.329Z"
   },
   {
    "duration": 1799,
    "start_time": "2022-03-15T09:25:32.331Z"
   },
   {
    "duration": 1798,
    "start_time": "2022-03-15T09:25:32.333Z"
   },
   {
    "duration": 1798,
    "start_time": "2022-03-15T09:25:32.334Z"
   },
   {
    "duration": 1798,
    "start_time": "2022-03-15T09:25:32.336Z"
   },
   {
    "duration": 1792,
    "start_time": "2022-03-15T09:25:32.343Z"
   },
   {
    "duration": 1788,
    "start_time": "2022-03-15T09:25:32.349Z"
   },
   {
    "duration": 1787,
    "start_time": "2022-03-15T09:25:32.351Z"
   },
   {
    "duration": 1786,
    "start_time": "2022-03-15T09:25:32.353Z"
   },
   {
    "duration": 1786,
    "start_time": "2022-03-15T09:25:32.355Z"
   },
   {
    "duration": 1785,
    "start_time": "2022-03-15T09:25:32.357Z"
   },
   {
    "duration": 1785,
    "start_time": "2022-03-15T09:25:32.358Z"
   },
   {
    "duration": 103,
    "start_time": "2022-03-15T09:28:14.260Z"
   },
   {
    "duration": 15,
    "start_time": "2022-03-15T09:28:24.854Z"
   },
   {
    "duration": 336,
    "start_time": "2022-03-15T09:28:32.534Z"
   },
   {
    "duration": 115,
    "start_time": "2022-03-15T09:31:15.616Z"
   },
   {
    "duration": 25,
    "start_time": "2022-03-15T09:31:23.704Z"
   },
   {
    "duration": 53,
    "start_time": "2022-03-15T09:31:44.137Z"
   },
   {
    "duration": 67360,
    "start_time": "2022-03-15T09:31:47.814Z"
   },
   {
    "duration": 65,
    "start_time": "2022-03-15T09:42:26.636Z"
   },
   {
    "duration": 18,
    "start_time": "2022-03-15T09:42:41.183Z"
   },
   {
    "duration": 659,
    "start_time": "2022-03-15T09:42:44.132Z"
   },
   {
    "duration": 45,
    "start_time": "2022-03-15T09:42:47.357Z"
   },
   {
    "duration": 25,
    "start_time": "2022-03-15T09:43:35.525Z"
   },
   {
    "duration": 124,
    "start_time": "2022-03-15T09:43:57.836Z"
   },
   {
    "duration": 6,
    "start_time": "2022-03-15T09:49:45.577Z"
   },
   {
    "duration": 34,
    "start_time": "2022-03-15T09:49:59.643Z"
   },
   {
    "duration": 74,
    "start_time": "2022-03-15T09:50:01.760Z"
   },
   {
    "duration": 69,
    "start_time": "2022-03-15T09:50:04.184Z"
   },
   {
    "duration": 6,
    "start_time": "2022-03-15T09:50:45.745Z"
   },
   {
    "duration": 32,
    "start_time": "2022-03-15T09:50:57.904Z"
   },
   {
    "duration": 420,
    "start_time": "2022-03-15T09:51:18.017Z"
   },
   {
    "duration": 6,
    "start_time": "2022-03-15T09:51:37.593Z"
   },
   {
    "duration": 7,
    "start_time": "2022-03-15T09:51:45.016Z"
   },
   {
    "duration": 6,
    "start_time": "2022-03-15T09:51:51.249Z"
   },
   {
    "duration": 5,
    "start_time": "2022-03-15T09:51:54.689Z"
   },
   {
    "duration": 5,
    "start_time": "2022-03-15T09:51:56.434Z"
   },
   {
    "duration": 426,
    "start_time": "2022-03-15T09:52:12.657Z"
   },
   {
    "duration": 6,
    "start_time": "2022-03-15T09:52:18.897Z"
   },
   {
    "duration": 7,
    "start_time": "2022-03-15T09:53:21.553Z"
   },
   {
    "duration": 105,
    "start_time": "2022-03-15T09:53:27.650Z"
   },
   {
    "duration": 100,
    "start_time": "2022-03-15T09:53:33.210Z"
   },
   {
    "duration": 32,
    "start_time": "2022-03-15T09:53:41.849Z"
   },
   {
    "duration": 313,
    "start_time": "2022-03-15T09:56:04.756Z"
   },
   {
    "duration": 11,
    "start_time": "2022-03-15T09:56:13.196Z"
   },
   {
    "duration": 13,
    "start_time": "2022-03-15T09:56:15.867Z"
   },
   {
    "duration": 23,
    "start_time": "2022-03-15T09:56:18.187Z"
   },
   {
    "duration": 109,
    "start_time": "2022-03-15T09:58:30.587Z"
   },
   {
    "duration": 20,
    "start_time": "2022-03-15T10:01:02.072Z"
   },
   {
    "duration": 101,
    "start_time": "2022-03-15T10:04:42.992Z"
   },
   {
    "duration": 409,
    "start_time": "2022-03-15T10:04:53.096Z"
   },
   {
    "duration": 127,
    "start_time": "2022-03-15T10:05:07.887Z"
   },
   {
    "duration": 33,
    "start_time": "2022-03-15T10:05:22.311Z"
   },
   {
    "duration": 53,
    "start_time": "2022-03-15T10:05:51.687Z"
   },
   {
    "duration": 128,
    "start_time": "2022-03-15T10:05:53.900Z"
   },
   {
    "duration": 193,
    "start_time": "2022-03-15T10:05:56.111Z"
   },
   {
    "duration": 329,
    "start_time": "2022-03-15T10:05:58.415Z"
   },
   {
    "duration": 420,
    "start_time": "2022-03-15T10:06:01.193Z"
   },
   {
    "duration": 412,
    "start_time": "2022-03-15T10:06:04.513Z"
   },
   {
    "duration": 7,
    "start_time": "2022-03-15T10:47:50.685Z"
   },
   {
    "duration": 7,
    "start_time": "2022-03-15T10:48:01.186Z"
   },
   {
    "duration": 376,
    "start_time": "2022-03-15T10:48:28.436Z"
   },
   {
    "duration": 106,
    "start_time": "2022-03-15T10:48:50.949Z"
   },
   {
    "duration": 36,
    "start_time": "2022-03-15T10:49:10.254Z"
   },
   {
    "duration": 20,
    "start_time": "2022-03-15T11:04:14.394Z"
   },
   {
    "duration": 56,
    "start_time": "2022-03-15T11:05:16.397Z"
   },
   {
    "duration": 130,
    "start_time": "2022-03-15T11:05:24.933Z"
   },
   {
    "duration": 40,
    "start_time": "2022-03-15T11:05:30.588Z"
   },
   {
    "duration": 131,
    "start_time": "2022-03-15T11:49:48.489Z"
   },
   {
    "duration": 403,
    "start_time": "2022-03-15T11:50:27.379Z"
   },
   {
    "duration": 272,
    "start_time": "2022-03-15T11:52:07.884Z"
   },
   {
    "duration": 556,
    "start_time": "2022-03-15T11:55:24.138Z"
   },
   {
    "duration": 287,
    "start_time": "2022-03-15T11:55:33.740Z"
   },
   {
    "duration": 300,
    "start_time": "2022-03-15T12:00:29.242Z"
   },
   {
    "duration": 294,
    "start_time": "2022-03-15T12:00:35.726Z"
   },
   {
    "duration": 201,
    "start_time": "2022-03-15T12:00:47.439Z"
   },
   {
    "duration": 293,
    "start_time": "2022-03-15T12:00:53.591Z"
   },
   {
    "duration": 374,
    "start_time": "2022-03-15T12:01:13.939Z"
   },
   {
    "duration": 285,
    "start_time": "2022-03-15T12:01:33.894Z"
   },
   {
    "duration": 434,
    "start_time": "2022-03-15T12:02:02.615Z"
   },
   {
    "duration": 213,
    "start_time": "2022-03-15T12:02:23.704Z"
   },
   {
    "duration": 206,
    "start_time": "2022-03-15T12:02:45.175Z"
   },
   {
    "duration": 231,
    "start_time": "2022-03-15T12:03:32.392Z"
   },
   {
    "duration": 114,
    "start_time": "2022-03-15T12:03:41.368Z"
   },
   {
    "duration": 116,
    "start_time": "2022-03-15T12:03:47.240Z"
   },
   {
    "duration": 210,
    "start_time": "2022-03-15T12:03:54.472Z"
   },
   {
    "duration": 353,
    "start_time": "2022-03-15T12:09:24.946Z"
   },
   {
    "duration": 216,
    "start_time": "2022-03-15T12:10:26.928Z"
   },
   {
    "duration": 212,
    "start_time": "2022-03-15T12:11:06.573Z"
   },
   {
    "duration": 319,
    "start_time": "2022-03-15T12:20:20.353Z"
   },
   {
    "duration": 397,
    "start_time": "2022-03-15T12:21:03.071Z"
   },
   {
    "duration": 15,
    "start_time": "2022-03-15T12:36:12.291Z"
   },
   {
    "duration": 273,
    "start_time": "2022-03-15T12:40:08.313Z"
   },
   {
    "duration": 205,
    "start_time": "2022-03-15T12:41:13.288Z"
   },
   {
    "duration": 365,
    "start_time": "2022-03-15T12:42:02.882Z"
   },
   {
    "duration": 363,
    "start_time": "2022-03-15T12:42:25.578Z"
   },
   {
    "duration": 332,
    "start_time": "2022-03-15T12:42:31.533Z"
   },
   {
    "duration": 265,
    "start_time": "2022-03-15T12:42:55.786Z"
   },
   {
    "duration": 338,
    "start_time": "2022-03-15T12:43:12.821Z"
   },
   {
    "duration": 1187,
    "start_time": "2022-03-15T12:48:13.982Z"
   },
   {
    "duration": 1549,
    "start_time": "2022-03-15T12:50:05.175Z"
   },
   {
    "duration": 1210,
    "start_time": "2022-03-15T12:51:43.160Z"
   },
   {
    "duration": 1183,
    "start_time": "2022-03-15T12:51:58.470Z"
   },
   {
    "duration": 1453,
    "start_time": "2022-03-15T12:54:18.265Z"
   },
   {
    "duration": 19,
    "start_time": "2022-03-15T13:41:30.255Z"
   },
   {
    "duration": 55,
    "start_time": "2022-03-15T13:42:15.624Z"
   },
   {
    "duration": 309,
    "start_time": "2022-03-15T13:44:08.074Z"
   },
   {
    "duration": 70,
    "start_time": "2022-03-15T13:44:12.734Z"
   },
   {
    "duration": 74797,
    "start_time": "2022-03-15T13:47:49.744Z"
   },
   {
    "duration": 66316,
    "start_time": "2022-03-15T14:02:01.597Z"
   },
   {
    "duration": 66231,
    "start_time": "2022-03-15T14:14:01.656Z"
   },
   {
    "duration": 33,
    "start_time": "2022-03-15T14:17:12.776Z"
   },
   {
    "duration": 586,
    "start_time": "2022-03-15T14:20:59.480Z"
   },
   {
    "duration": 55,
    "start_time": "2022-03-15T14:23:23.800Z"
   },
   {
    "duration": 60,
    "start_time": "2022-03-15T14:24:40.210Z"
   },
   {
    "duration": 246,
    "start_time": "2022-03-15T14:28:06.180Z"
   },
   {
    "duration": 1225,
    "start_time": "2022-03-15T18:12:19.654Z"
   },
   {
    "duration": 121,
    "start_time": "2022-03-15T18:12:20.881Z"
   },
   {
    "duration": 28,
    "start_time": "2022-03-15T18:12:21.004Z"
   },
   {
    "duration": 17,
    "start_time": "2022-03-15T18:12:21.035Z"
   },
   {
    "duration": 7,
    "start_time": "2022-03-15T18:12:21.055Z"
   },
   {
    "duration": 871,
    "start_time": "2022-03-15T18:12:21.063Z"
   },
   {
    "duration": 12,
    "start_time": "2022-03-15T18:12:21.936Z"
   },
   {
    "duration": 12,
    "start_time": "2022-03-15T18:12:21.951Z"
   },
   {
    "duration": 10,
    "start_time": "2022-03-15T18:12:21.965Z"
   },
   {
    "duration": 60,
    "start_time": "2022-03-15T18:12:21.976Z"
   },
   {
    "duration": 9,
    "start_time": "2022-03-15T18:12:22.038Z"
   },
   {
    "duration": 23,
    "start_time": "2022-03-15T18:12:22.050Z"
   },
   {
    "duration": 18,
    "start_time": "2022-03-15T18:12:22.075Z"
   },
   {
    "duration": 63,
    "start_time": "2022-03-15T18:12:22.095Z"
   },
   {
    "duration": 349,
    "start_time": "2022-03-15T18:12:22.160Z"
   },
   {
    "duration": 82005,
    "start_time": "2022-03-15T18:12:22.511Z"
   },
   {
    "duration": 777,
    "start_time": "2022-03-15T18:13:44.518Z"
   },
   {
    "duration": 196,
    "start_time": "2022-03-15T18:13:45.298Z"
   },
   {
    "duration": 7,
    "start_time": "2022-03-15T18:13:45.497Z"
   },
   {
    "duration": 29,
    "start_time": "2022-03-15T18:13:45.506Z"
   },
   {
    "duration": 30,
    "start_time": "2022-03-15T18:13:45.538Z"
   },
   {
    "duration": 331,
    "start_time": "2022-03-15T18:13:45.570Z"
   },
   {
    "duration": 415,
    "start_time": "2022-03-15T18:13:45.905Z"
   },
   {
    "duration": 433,
    "start_time": "2022-03-15T18:13:46.322Z"
   },
   {
    "duration": 19,
    "start_time": "2022-03-15T18:13:46.757Z"
   },
   {
    "duration": 313,
    "start_time": "2022-03-15T18:13:46.778Z"
   },
   {
    "duration": 293,
    "start_time": "2022-03-15T18:13:47.093Z"
   },
   {
    "duration": 445,
    "start_time": "2022-03-15T18:13:47.388Z"
   },
   {
    "duration": 1816,
    "start_time": "2022-03-15T18:13:47.835Z"
   },
   {
    "duration": 92,
    "start_time": "2022-03-15T18:31:48.951Z"
   },
   {
    "duration": 2135,
    "start_time": "2022-03-15T18:46:56.813Z"
   },
   {
    "duration": 2252,
    "start_time": "2022-03-15T18:49:30.132Z"
   },
   {
    "duration": 2672,
    "start_time": "2022-03-18T07:03:02.185Z"
   },
   {
    "duration": 155,
    "start_time": "2022-03-18T07:03:04.860Z"
   },
   {
    "duration": 20,
    "start_time": "2022-03-18T07:03:05.017Z"
   },
   {
    "duration": 70,
    "start_time": "2022-03-18T07:03:05.041Z"
   },
   {
    "duration": 66,
    "start_time": "2022-03-18T07:03:05.113Z"
   },
   {
    "duration": 1371,
    "start_time": "2022-03-18T07:03:05.182Z"
   },
   {
    "duration": 27,
    "start_time": "2022-03-18T07:03:06.556Z"
   },
   {
    "duration": 19,
    "start_time": "2022-03-18T07:03:06.586Z"
   },
   {
    "duration": 7,
    "start_time": "2022-03-18T07:03:06.607Z"
   },
   {
    "duration": 36,
    "start_time": "2022-03-18T07:03:06.618Z"
   },
   {
    "duration": 18,
    "start_time": "2022-03-18T07:03:06.682Z"
   },
   {
    "duration": 19,
    "start_time": "2022-03-18T07:03:06.702Z"
   },
   {
    "duration": 23,
    "start_time": "2022-03-18T07:03:06.724Z"
   },
   {
    "duration": 49,
    "start_time": "2022-03-18T07:03:06.783Z"
   },
   {
    "duration": 404,
    "start_time": "2022-03-18T07:03:06.835Z"
   },
   {
    "duration": 122963,
    "start_time": "2022-03-18T07:03:07.241Z"
   },
   {
    "duration": 1410,
    "start_time": "2022-03-18T07:05:10.207Z"
   },
   {
    "duration": 228,
    "start_time": "2022-03-18T07:05:11.619Z"
   },
   {
    "duration": 8,
    "start_time": "2022-03-18T07:05:11.849Z"
   },
   {
    "duration": 62,
    "start_time": "2022-03-18T07:05:11.859Z"
   },
   {
    "duration": 45,
    "start_time": "2022-03-18T07:05:11.923Z"
   },
   {
    "duration": 569,
    "start_time": "2022-03-18T07:05:11.971Z"
   },
   {
    "duration": 2644,
    "start_time": "2022-03-18T07:05:12.542Z"
   },
   {
    "duration": 498,
    "start_time": "2022-03-18T07:05:15.189Z"
   },
   {
    "duration": 21,
    "start_time": "2022-03-18T07:05:15.689Z"
   },
   {
    "duration": 304,
    "start_time": "2022-03-18T07:05:15.713Z"
   },
   {
    "duration": 713,
    "start_time": "2022-03-18T07:05:16.019Z"
   },
   {
    "duration": 482,
    "start_time": "2022-03-18T07:05:16.737Z"
   },
   {
    "duration": 2948,
    "start_time": "2022-03-18T07:05:17.222Z"
   },
   {
    "duration": 6,
    "start_time": "2022-03-18T07:09:07.146Z"
   },
   {
    "duration": 9,
    "start_time": "2022-03-18T08:00:24.548Z"
   },
   {
    "duration": 159,
    "start_time": "2022-03-18T08:00:24.584Z"
   },
   {
    "duration": 49,
    "start_time": "2022-03-18T08:00:24.746Z"
   },
   {
    "duration": 32,
    "start_time": "2022-03-18T08:00:24.800Z"
   },
   {
    "duration": 9,
    "start_time": "2022-03-18T08:00:24.835Z"
   },
   {
    "duration": 1240,
    "start_time": "2022-03-18T08:00:24.847Z"
   },
   {
    "duration": 15,
    "start_time": "2022-03-18T08:00:26.090Z"
   },
   {
    "duration": 24,
    "start_time": "2022-03-18T08:00:26.108Z"
   },
   {
    "duration": 49,
    "start_time": "2022-03-18T08:00:26.135Z"
   },
   {
    "duration": 42,
    "start_time": "2022-03-18T08:00:26.187Z"
   },
   {
    "duration": 23,
    "start_time": "2022-03-18T08:00:26.231Z"
   },
   {
    "duration": 52,
    "start_time": "2022-03-18T08:00:26.256Z"
   },
   {
    "duration": 24,
    "start_time": "2022-03-18T08:00:26.310Z"
   },
   {
    "duration": 81,
    "start_time": "2022-03-18T08:00:26.336Z"
   },
   {
    "duration": 538,
    "start_time": "2022-03-18T08:00:26.419Z"
   },
   {
    "duration": 139929,
    "start_time": "2022-03-18T08:00:26.960Z"
   },
   {
    "duration": 973,
    "start_time": "2022-03-18T08:02:46.891Z"
   },
   {
    "duration": 300,
    "start_time": "2022-03-18T08:02:47.867Z"
   },
   {
    "duration": 13,
    "start_time": "2022-03-18T08:02:48.170Z"
   },
   {
    "duration": 19,
    "start_time": "2022-03-18T08:02:48.186Z"
   },
   {
    "duration": 26,
    "start_time": "2022-03-18T08:02:48.207Z"
   },
   {
    "duration": 2283,
    "start_time": "2022-03-18T08:13:00.272Z"
   },
   {
    "duration": 202,
    "start_time": "2022-03-18T08:13:02.558Z"
   },
   {
    "duration": 39,
    "start_time": "2022-03-18T08:13:02.763Z"
   },
   {
    "duration": 25,
    "start_time": "2022-03-18T08:13:02.807Z"
   },
   {
    "duration": 8,
    "start_time": "2022-03-18T08:13:02.834Z"
   },
   {
    "duration": 1640,
    "start_time": "2022-03-18T08:13:02.844Z"
   },
   {
    "duration": 16,
    "start_time": "2022-03-18T08:13:04.487Z"
   },
   {
    "duration": 24,
    "start_time": "2022-03-18T08:13:04.506Z"
   },
   {
    "duration": 8,
    "start_time": "2022-03-18T08:13:04.532Z"
   },
   {
    "duration": 68,
    "start_time": "2022-03-18T08:13:04.544Z"
   },
   {
    "duration": 18,
    "start_time": "2022-03-18T08:13:04.615Z"
   },
   {
    "duration": 55,
    "start_time": "2022-03-18T08:13:04.636Z"
   },
   {
    "duration": 28,
    "start_time": "2022-03-18T08:13:04.693Z"
   },
   {
    "duration": 80,
    "start_time": "2022-03-18T08:13:04.724Z"
   },
   {
    "duration": 408,
    "start_time": "2022-03-18T08:13:04.807Z"
   },
   {
    "duration": 130012,
    "start_time": "2022-03-18T08:13:05.218Z"
   },
   {
    "duration": 1774,
    "start_time": "2022-03-18T08:15:15.233Z"
   },
   {
    "duration": 216,
    "start_time": "2022-03-18T08:15:17.009Z"
   },
   {
    "duration": 12,
    "start_time": "2022-03-18T08:15:17.228Z"
   },
   {
    "duration": 45,
    "start_time": "2022-03-18T08:15:17.242Z"
   },
   {
    "duration": 30,
    "start_time": "2022-03-18T08:15:17.290Z"
   },
   {
    "duration": 7,
    "start_time": "2022-03-18T08:41:50.533Z"
   },
   {
    "duration": 215,
    "start_time": "2022-03-18T08:41:51.048Z"
   },
   {
    "duration": 21,
    "start_time": "2022-03-18T08:41:52.002Z"
   },
   {
    "duration": 0,
    "start_time": "2022-03-18T08:41:52.232Z"
   },
   {
    "duration": 0,
    "start_time": "2022-03-18T08:41:52.240Z"
   },
   {
    "duration": 0,
    "start_time": "2022-03-18T08:41:52.245Z"
   },
   {
    "duration": 0,
    "start_time": "2022-03-18T08:41:52.283Z"
   },
   {
    "duration": 0,
    "start_time": "2022-03-18T08:41:52.289Z"
   },
   {
    "duration": 1,
    "start_time": "2022-03-18T08:41:52.296Z"
   },
   {
    "duration": 0,
    "start_time": "2022-03-18T08:41:52.302Z"
   },
   {
    "duration": 0,
    "start_time": "2022-03-18T08:41:52.307Z"
   },
   {
    "duration": 0,
    "start_time": "2022-03-18T08:41:52.311Z"
   },
   {
    "duration": 0,
    "start_time": "2022-03-18T08:41:52.317Z"
   },
   {
    "duration": 0,
    "start_time": "2022-03-18T08:41:52.321Z"
   },
   {
    "duration": 0,
    "start_time": "2022-03-18T08:41:52.326Z"
   },
   {
    "duration": 0,
    "start_time": "2022-03-18T08:41:52.385Z"
   },
   {
    "duration": 0,
    "start_time": "2022-03-18T08:41:52.391Z"
   },
   {
    "duration": 0,
    "start_time": "2022-03-18T08:41:52.396Z"
   },
   {
    "duration": 0,
    "start_time": "2022-03-18T08:41:52.401Z"
   },
   {
    "duration": 0,
    "start_time": "2022-03-18T08:41:52.408Z"
   },
   {
    "duration": 0,
    "start_time": "2022-03-18T08:41:52.415Z"
   },
   {
    "duration": 0,
    "start_time": "2022-03-18T08:41:52.421Z"
   },
   {
    "duration": 0,
    "start_time": "2022-03-18T08:41:52.489Z"
   },
   {
    "duration": 0,
    "start_time": "2022-03-18T08:41:52.496Z"
   },
   {
    "duration": 0,
    "start_time": "2022-03-18T08:41:52.504Z"
   },
   {
    "duration": 0,
    "start_time": "2022-03-18T08:41:52.510Z"
   },
   {
    "duration": 0,
    "start_time": "2022-03-18T08:41:52.517Z"
   },
   {
    "duration": 0,
    "start_time": "2022-03-18T08:41:52.585Z"
   },
   {
    "duration": 0,
    "start_time": "2022-03-18T08:41:52.592Z"
   },
   {
    "duration": 0,
    "start_time": "2022-03-18T08:41:52.599Z"
   },
   {
    "duration": 2880,
    "start_time": "2022-03-18T08:43:02.913Z"
   },
   {
    "duration": 23,
    "start_time": "2022-03-18T08:43:07.089Z"
   },
   {
    "duration": 1163,
    "start_time": "2022-03-18T08:43:22.552Z"
   },
   {
    "duration": 12,
    "start_time": "2022-03-18T08:43:28.161Z"
   },
   {
    "duration": 24,
    "start_time": "2022-03-18T08:43:31.072Z"
   },
   {
    "duration": 7,
    "start_time": "2022-03-18T08:43:33.600Z"
   },
   {
    "duration": 30,
    "start_time": "2022-03-18T08:43:35.424Z"
   },
   {
    "duration": 18,
    "start_time": "2022-03-18T08:43:38.039Z"
   },
   {
    "duration": 21,
    "start_time": "2022-03-18T08:43:44.530Z"
   },
   {
    "duration": 28,
    "start_time": "2022-03-18T08:43:48.794Z"
   },
   {
    "duration": 49,
    "start_time": "2022-03-18T08:43:51.593Z"
   },
   {
    "duration": 410,
    "start_time": "2022-03-18T08:43:55.752Z"
   },
   {
    "duration": 121632,
    "start_time": "2022-03-18T08:44:01.154Z"
   },
   {
    "duration": 1640,
    "start_time": "2022-03-18T08:51:14.868Z"
   },
   {
    "duration": 179,
    "start_time": "2022-03-18T08:51:21.044Z"
   },
   {
    "duration": 9,
    "start_time": "2022-03-18T08:51:23.700Z"
   },
   {
    "duration": 19,
    "start_time": "2022-03-18T08:51:35.796Z"
   },
   {
    "duration": 26,
    "start_time": "2022-03-18T08:51:38.653Z"
   },
   {
    "duration": 1345099,
    "start_time": "2022-03-18T08:51:49.260Z"
   },
   {
    "duration": 337,
    "start_time": "2022-03-18T09:14:14.362Z"
   },
   {
    "duration": 1124,
    "start_time": "2022-03-18T09:36:17.623Z"
   },
   {
    "duration": 2416,
    "start_time": "2022-03-18T09:37:49.761Z"
   },
   {
    "duration": 19,
    "start_time": "2022-03-18T09:44:22.795Z"
   },
   {
    "duration": 323,
    "start_time": "2022-03-18T09:44:38.788Z"
   },
   {
    "duration": 317,
    "start_time": "2022-03-18T09:44:57.188Z"
   },
   {
    "duration": 319,
    "start_time": "2022-03-18T09:45:11.072Z"
   },
   {
    "duration": 496,
    "start_time": "2022-03-18T09:46:51.084Z"
   },
   {
    "duration": 32865,
    "start_time": "2022-03-18T10:13:27.240Z"
   },
   {
    "duration": 321,
    "start_time": "2022-03-18T10:19:10.708Z"
   },
   {
    "duration": 54,
    "start_time": "2022-03-18T10:23:25.756Z"
   },
   {
    "duration": 12,
    "start_time": "2022-03-18T10:24:32.021Z"
   },
   {
    "duration": 13,
    "start_time": "2022-03-18T10:33:56.754Z"
   },
   {
    "duration": 13,
    "start_time": "2022-03-18T10:34:08.746Z"
   },
   {
    "duration": 38,
    "start_time": "2022-03-18T10:34:23.990Z"
   },
   {
    "duration": 2488,
    "start_time": "2022-03-18T13:00:19.737Z"
   },
   {
    "duration": 241,
    "start_time": "2022-03-18T13:00:26.506Z"
   },
   {
    "duration": 22,
    "start_time": "2022-03-18T13:00:32.967Z"
   },
   {
    "duration": 22,
    "start_time": "2022-03-18T13:00:36.096Z"
   },
   {
    "duration": 7,
    "start_time": "2022-03-18T13:00:38.728Z"
   },
   {
    "duration": 1213,
    "start_time": "2022-03-18T13:00:42.539Z"
   },
   {
    "duration": 16,
    "start_time": "2022-03-18T13:00:47.592Z"
   },
   {
    "duration": 20,
    "start_time": "2022-03-18T13:00:49.895Z"
   },
   {
    "duration": 156,
    "start_time": "2022-03-18T13:00:55.976Z"
   },
   {
    "duration": 30,
    "start_time": "2022-03-18T13:01:02.337Z"
   },
   {
    "duration": 18,
    "start_time": "2022-03-18T13:01:04.840Z"
   },
   {
    "duration": 22,
    "start_time": "2022-03-18T13:01:07.753Z"
   },
   {
    "duration": 24,
    "start_time": "2022-03-18T13:01:11.593Z"
   },
   {
    "duration": 48,
    "start_time": "2022-03-18T13:01:15.075Z"
   },
   {
    "duration": 19,
    "start_time": "2022-03-18T13:01:27.813Z"
   },
   {
    "duration": 28,
    "start_time": "2022-03-18T13:01:30.788Z"
   },
   {
    "duration": 189,
    "start_time": "2022-03-18T13:08:11.262Z"
   },
   {
    "duration": 232,
    "start_time": "2022-03-18T13:10:42.202Z"
   },
   {
    "duration": 192,
    "start_time": "2022-03-18T13:11:26.741Z"
   },
   {
    "duration": 56176,
    "start_time": "2022-03-18T13:13:43.072Z"
   },
   {
    "duration": 56350,
    "start_time": "2022-03-18T13:16:02.193Z"
   },
   {
    "duration": 37,
    "start_time": "2022-03-18T13:36:18.333Z"
   },
   {
    "duration": 7,
    "start_time": "2022-03-18T13:37:15.497Z"
   },
   {
    "duration": 51035,
    "start_time": "2022-03-18T13:37:24.714Z"
   },
   {
    "duration": 3356,
    "start_time": "2022-03-18T13:40:37.514Z"
   },
   {
    "duration": 13,
    "start_time": "2022-03-18T13:49:14.782Z"
   },
   {
    "duration": 20,
    "start_time": "2022-03-18T13:49:21.117Z"
   },
   {
    "duration": 6,
    "start_time": "2022-03-18T13:55:43.365Z"
   },
   {
    "duration": 174,
    "start_time": "2022-03-18T13:55:43.396Z"
   },
   {
    "duration": 20,
    "start_time": "2022-03-18T13:55:48.522Z"
   },
   {
    "duration": 22,
    "start_time": "2022-03-18T13:55:51.729Z"
   },
   {
    "duration": 6,
    "start_time": "2022-03-18T13:55:54.386Z"
   },
   {
    "duration": 1144,
    "start_time": "2022-03-18T13:55:56.522Z"
   },
   {
    "duration": 13,
    "start_time": "2022-03-18T13:56:01.579Z"
   },
   {
    "duration": 18,
    "start_time": "2022-03-18T13:56:04.634Z"
   },
   {
    "duration": 6,
    "start_time": "2022-03-18T13:56:07.418Z"
   },
   {
    "duration": 29,
    "start_time": "2022-03-18T13:56:08.855Z"
   },
   {
    "duration": 18,
    "start_time": "2022-03-18T13:56:11.034Z"
   },
   {
    "duration": 20,
    "start_time": "2022-03-18T13:56:13.475Z"
   },
   {
    "duration": 22,
    "start_time": "2022-03-18T13:56:16.906Z"
   },
   {
    "duration": 46,
    "start_time": "2022-03-18T13:56:20.547Z"
   },
   {
    "duration": 17,
    "start_time": "2022-03-18T13:56:35.618Z"
   },
   {
    "duration": 27,
    "start_time": "2022-03-18T13:56:39.114Z"
   },
   {
    "duration": 21,
    "start_time": "2022-03-18T13:56:51.252Z"
   },
   {
    "duration": 384564,
    "start_time": "2022-03-18T13:56:55.315Z"
   },
   {
    "duration": 8964,
    "start_time": "2022-03-18T14:06:04.063Z"
   },
   {
    "duration": 4429,
    "start_time": "2022-03-18T14:07:06.495Z"
   },
   {
    "duration": 257,
    "start_time": "2022-03-18T14:08:00.586Z"
   },
   {
    "duration": 370,
    "start_time": "2022-03-18T14:08:47.689Z"
   },
   {
    "duration": 209,
    "start_time": "2022-03-18T14:09:02.281Z"
   },
   {
    "duration": 462,
    "start_time": "2022-03-18T14:09:14.504Z"
   },
   {
    "duration": 2856,
    "start_time": "2022-03-18T14:15:12.988Z"
   },
   {
    "duration": 1401,
    "start_time": "2022-03-18T14:15:38.171Z"
   },
   {
    "duration": 2369,
    "start_time": "2022-03-18T16:37:13.006Z"
   },
   {
    "duration": 164,
    "start_time": "2022-03-18T16:37:16.294Z"
   },
   {
    "duration": 19,
    "start_time": "2022-03-18T16:37:20.835Z"
   },
   {
    "duration": 22,
    "start_time": "2022-03-18T16:37:24.308Z"
   },
   {
    "duration": 7,
    "start_time": "2022-03-18T16:37:26.963Z"
   },
   {
    "duration": 1194,
    "start_time": "2022-03-18T16:37:29.122Z"
   },
   {
    "duration": 12,
    "start_time": "2022-03-18T16:37:34.114Z"
   },
   {
    "duration": 20,
    "start_time": "2022-03-18T16:37:37.425Z"
   },
   {
    "duration": 6,
    "start_time": "2022-03-18T16:37:39.881Z"
   },
   {
    "duration": 37,
    "start_time": "2022-03-18T16:37:42.505Z"
   },
   {
    "duration": 18,
    "start_time": "2022-03-18T16:37:45.552Z"
   },
   {
    "duration": 20,
    "start_time": "2022-03-18T16:37:51.495Z"
   },
   {
    "duration": 25,
    "start_time": "2022-03-18T16:38:38.928Z"
   },
   {
    "duration": 47,
    "start_time": "2022-03-18T16:38:41.894Z"
   },
   {
    "duration": 386,
    "start_time": "2022-03-18T16:38:46.535Z"
   },
   {
    "duration": 116845,
    "start_time": "2022-03-18T16:40:04.914Z"
   },
   {
    "duration": 213,
    "start_time": "2022-03-18T16:42:01.762Z"
   },
   {
    "duration": 8,
    "start_time": "2022-03-18T16:42:09.756Z"
   },
   {
    "duration": 18,
    "start_time": "2022-03-18T16:42:14.758Z"
   },
   {
    "duration": 30,
    "start_time": "2022-03-18T16:42:17.996Z"
   },
   {
    "duration": 4069,
    "start_time": "2022-03-18T16:58:11.423Z"
   },
   {
    "duration": 162,
    "start_time": "2022-03-18T16:58:15.494Z"
   },
   {
    "duration": 19,
    "start_time": "2022-03-18T16:58:15.660Z"
   },
   {
    "duration": 22,
    "start_time": "2022-03-18T16:58:15.681Z"
   },
   {
    "duration": 37,
    "start_time": "2022-03-18T16:58:15.707Z"
   },
   {
    "duration": 1243,
    "start_time": "2022-03-18T16:58:15.753Z"
   },
   {
    "duration": 11,
    "start_time": "2022-03-18T16:58:16.999Z"
   },
   {
    "duration": 45,
    "start_time": "2022-03-18T16:58:17.012Z"
   },
   {
    "duration": 6,
    "start_time": "2022-03-18T16:58:17.059Z"
   },
   {
    "duration": 34,
    "start_time": "2022-03-18T16:58:17.068Z"
   },
   {
    "duration": 63,
    "start_time": "2022-03-18T16:58:17.104Z"
   },
   {
    "duration": 22,
    "start_time": "2022-03-18T16:58:17.170Z"
   },
   {
    "duration": 68,
    "start_time": "2022-03-18T16:58:17.196Z"
   },
   {
    "duration": 78,
    "start_time": "2022-03-18T16:58:17.270Z"
   },
   {
    "duration": 413,
    "start_time": "2022-03-18T16:58:17.352Z"
   },
   {
    "duration": 2175,
    "start_time": "2022-03-18T17:29:10.832Z"
   },
   {
    "duration": 158,
    "start_time": "2022-03-18T17:29:13.011Z"
   },
   {
    "duration": 19,
    "start_time": "2022-03-18T17:29:13.171Z"
   },
   {
    "duration": 53,
    "start_time": "2022-03-18T17:29:13.194Z"
   },
   {
    "duration": 7,
    "start_time": "2022-03-18T17:29:13.250Z"
   },
   {
    "duration": 1244,
    "start_time": "2022-03-18T17:29:13.259Z"
   },
   {
    "duration": 13,
    "start_time": "2022-03-18T17:29:14.505Z"
   },
   {
    "duration": 38,
    "start_time": "2022-03-18T17:29:14.520Z"
   },
   {
    "duration": 7,
    "start_time": "2022-03-18T17:29:14.561Z"
   },
   {
    "duration": 29,
    "start_time": "2022-03-18T17:29:14.572Z"
   },
   {
    "duration": 55,
    "start_time": "2022-03-18T17:29:14.603Z"
   },
   {
    "duration": 19,
    "start_time": "2022-03-18T17:29:14.661Z"
   },
   {
    "duration": 22,
    "start_time": "2022-03-18T17:29:14.682Z"
   },
   {
    "duration": 78,
    "start_time": "2022-03-18T17:29:14.706Z"
   },
   {
    "duration": 388,
    "start_time": "2022-03-18T17:29:14.787Z"
   },
   {
    "duration": 1865,
    "start_time": "2022-03-18T17:31:19.761Z"
   },
   {
    "duration": 267,
    "start_time": "2022-03-18T17:31:21.628Z"
   },
   {
    "duration": 9,
    "start_time": "2022-03-18T17:31:21.898Z"
   },
   {
    "duration": 46,
    "start_time": "2022-03-18T17:31:21.910Z"
   },
   {
    "duration": 30,
    "start_time": "2022-03-18T17:31:21.959Z"
   },
   {
    "duration": 12,
    "start_time": "2022-03-18T18:04:59.536Z"
   },
   {
    "duration": 35,
    "start_time": "2022-03-18T18:05:09.221Z"
   },
   {
    "duration": 31,
    "start_time": "2022-03-18T18:05:09.682Z"
   },
   {
    "duration": 7,
    "start_time": "2022-03-18T18:05:10.263Z"
   },
   {
    "duration": 1201,
    "start_time": "2022-03-18T18:05:12.159Z"
   },
   {
    "duration": 19,
    "start_time": "2022-03-18T18:07:22.235Z"
   },
   {
    "duration": 2577,
    "start_time": "2022-03-18T18:08:26.747Z"
   },
   {
    "duration": 202,
    "start_time": "2022-03-18T18:08:29.327Z"
   },
   {
    "duration": 22,
    "start_time": "2022-03-18T18:08:29.550Z"
   },
   {
    "duration": 35,
    "start_time": "2022-03-18T18:08:29.577Z"
   },
   {
    "duration": 30,
    "start_time": "2022-03-18T18:08:29.615Z"
   },
   {
    "duration": 1338,
    "start_time": "2022-03-18T18:08:29.648Z"
   },
   {
    "duration": 16,
    "start_time": "2022-03-18T18:08:30.988Z"
   },
   {
    "duration": 65,
    "start_time": "2022-03-18T18:08:31.007Z"
   },
   {
    "duration": 23,
    "start_time": "2022-03-18T18:08:31.075Z"
   },
   {
    "duration": 89,
    "start_time": "2022-03-18T18:08:31.102Z"
   },
   {
    "duration": 18,
    "start_time": "2022-03-18T18:08:31.193Z"
   },
   {
    "duration": 47,
    "start_time": "2022-03-18T18:08:31.213Z"
   },
   {
    "duration": 27,
    "start_time": "2022-03-18T18:08:31.262Z"
   },
   {
    "duration": 87,
    "start_time": "2022-03-18T18:08:31.291Z"
   },
   {
    "duration": 399,
    "start_time": "2022-03-18T18:08:31.381Z"
   },
   {
    "duration": 132762,
    "start_time": "2022-03-18T18:08:31.782Z"
   },
   {
    "duration": 1638,
    "start_time": "2022-03-18T18:10:44.547Z"
   },
   {
    "duration": 220,
    "start_time": "2022-03-18T18:10:46.187Z"
   },
   {
    "duration": 10,
    "start_time": "2022-03-18T18:10:46.410Z"
   },
   {
    "duration": 43,
    "start_time": "2022-03-18T18:10:46.423Z"
   },
   {
    "duration": 31,
    "start_time": "2022-03-18T18:10:46.468Z"
   },
   {
    "duration": 34724,
    "start_time": "2022-03-18T18:34:48.772Z"
   },
   {
    "duration": 76645,
    "start_time": "2022-03-18T18:35:23.499Z"
   },
   {
    "duration": 431,
    "start_time": "2022-03-18T18:36:40.147Z"
   },
   {
    "duration": 1326,
    "start_time": "2022-03-18T18:36:40.581Z"
   },
   {
    "duration": 5957,
    "start_time": "2022-03-18T18:36:41.910Z"
   },
   {
    "duration": 22,
    "start_time": "2022-03-18T18:36:47.872Z"
   },
   {
    "duration": 382219,
    "start_time": "2022-03-18T18:36:47.896Z"
   },
   {
    "duration": 8925,
    "start_time": "2022-03-18T18:43:10.117Z"
   },
   {
    "duration": 9325,
    "start_time": "2022-03-18T18:43:19.046Z"
   },
   {
    "duration": 285,
    "start_time": "2022-03-18T18:43:28.373Z"
   },
   {
    "duration": 404,
    "start_time": "2022-03-18T18:43:28.661Z"
   },
   {
    "duration": 514,
    "start_time": "2022-03-18T18:43:29.067Z"
   },
   {
    "duration": 1526,
    "start_time": "2022-03-18T18:43:29.584Z"
   },
   {
    "duration": 2222,
    "start_time": "2022-04-04T06:38:03.888Z"
   },
   {
    "duration": 142,
    "start_time": "2022-04-04T06:38:06.112Z"
   },
   {
    "duration": 34,
    "start_time": "2022-04-04T06:38:06.256Z"
   },
   {
    "duration": 24,
    "start_time": "2022-04-04T06:38:06.293Z"
   },
   {
    "duration": 7,
    "start_time": "2022-04-04T06:38:06.318Z"
   },
   {
    "duration": 1214,
    "start_time": "2022-04-04T06:38:06.327Z"
   },
   {
    "duration": 12,
    "start_time": "2022-04-04T06:38:07.543Z"
   },
   {
    "duration": 19,
    "start_time": "2022-04-04T06:38:07.574Z"
   },
   {
    "duration": 10,
    "start_time": "2022-04-04T06:38:07.595Z"
   },
   {
    "duration": 30,
    "start_time": "2022-04-04T06:38:07.608Z"
   },
   {
    "duration": 17,
    "start_time": "2022-04-04T06:38:07.675Z"
   },
   {
    "duration": 20,
    "start_time": "2022-04-04T06:38:07.694Z"
   },
   {
    "duration": 58,
    "start_time": "2022-04-04T06:38:07.716Z"
   },
   {
    "duration": 46,
    "start_time": "2022-04-04T06:38:07.777Z"
   },
   {
    "duration": 402,
    "start_time": "2022-04-04T06:38:07.825Z"
   },
   {
    "duration": 965,
    "start_time": "2022-04-04T06:40:04.326Z"
   },
   {
    "duration": 223,
    "start_time": "2022-04-04T06:40:05.294Z"
   },
   {
    "duration": 8,
    "start_time": "2022-04-04T06:40:05.519Z"
   },
   {
    "duration": 18,
    "start_time": "2022-04-04T06:40:05.530Z"
   },
   {
    "duration": 30,
    "start_time": "2022-04-04T06:40:05.575Z"
   }
  ],
  "kernelspec": {
   "display_name": "Python 3 (ipykernel)",
   "language": "python",
   "name": "python3"
  },
  "language_info": {
   "codemirror_mode": {
    "name": "ipython",
    "version": 3
   },
   "file_extension": ".py",
   "mimetype": "text/x-python",
   "name": "python",
   "nbconvert_exporter": "python",
   "pygments_lexer": "ipython3",
   "version": "3.9.5"
  },
  "toc": {
   "base_numbering": 1,
   "nav_menu": {},
   "number_sections": true,
   "sideBar": true,
   "skip_h1_title": true,
   "title_cell": "Содержание",
   "title_sidebar": "Contents",
   "toc_cell": true,
   "toc_position": {
    "height": "calc(100% - 180px)",
    "left": "10px",
    "top": "150px",
    "width": "227.983px"
   },
   "toc_section_display": true,
   "toc_window_display": true
  }
 },
 "nbformat": 4,
 "nbformat_minor": 2
}
