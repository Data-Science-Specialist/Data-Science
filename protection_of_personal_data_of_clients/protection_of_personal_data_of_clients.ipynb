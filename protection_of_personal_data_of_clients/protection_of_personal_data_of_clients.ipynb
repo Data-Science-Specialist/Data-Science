{
 "cells": [
  {
   "cell_type": "markdown",
   "metadata": {
    "toc": true
   },
   "source": [
    "<h1>Содержание<span class=\"tocSkip\"></span></h1>\n",
    "<div class=\"toc\"><ul class=\"toc-item\"><li><span><a href=\"#Загрузка-данных\" data-toc-modified-id=\"Загрузка-данных-1\"><span class=\"toc-item-num\">1&nbsp;&nbsp;</span>Загрузка данных</a></span></li><li><span><a href=\"#Умножение-матриц\" data-toc-modified-id=\"Умножение-матриц-2\"><span class=\"toc-item-num\">2&nbsp;&nbsp;</span>Умножение матриц</a></span></li><li><span><a href=\"#Алгоритм-преобразования\" data-toc-modified-id=\"Алгоритм-преобразования-3\"><span class=\"toc-item-num\">3&nbsp;&nbsp;</span>Алгоритм преобразования</a></span></li><li><span><a href=\"#Проверка-алгоритма\" data-toc-modified-id=\"Проверка-алгоритма-4\"><span class=\"toc-item-num\">4&nbsp;&nbsp;</span>Проверка алгоритма</a></span></li><li><span><a href=\"#Чек-лист-проверки\" data-toc-modified-id=\"Чек-лист-проверки-5\"><span class=\"toc-item-num\">5&nbsp;&nbsp;</span>Чек-лист проверки</a></span></li></ul></div>"
   ]
  },
  {
   "cell_type": "markdown",
   "metadata": {},
   "source": [
    "# Защита персональных данных клиентов"
   ]
  },
  {
   "cell_type": "markdown",
   "metadata": {},
   "source": [
    "Изучим данные, представленные сервисом."
   ]
  },
  {
   "cell_type": "markdown",
   "metadata": {},
   "source": [
    "## Загрузка данных"
   ]
  },
  {
   "cell_type": "code",
   "execution_count": 1,
   "metadata": {},
   "outputs": [],
   "source": [
    "# импортируем нужные библиотеки\n",
    "import pandas as pd\n",
    "import matplotlib.pyplot as plt\n",
    "import numpy as np\n",
    "import scipy.stats as stats\n",
    "import plotly.express as px\n",
    "import plotly.graph_objects as go\n",
    "import seaborn as sns\n",
    "import warnings\n",
    "warnings.filterwarnings('ignore')\n",
    "from sklearn.linear_model import LinearRegression\n",
    "from sklearn.metrics import r2_score"
   ]
  },
  {
   "cell_type": "code",
   "execution_count": 2,
   "metadata": {},
   "outputs": [
    {
     "data": {
      "text/html": [
       "<div>\n",
       "<style scoped>\n",
       "    .dataframe tbody tr th:only-of-type {\n",
       "        vertical-align: middle;\n",
       "    }\n",
       "\n",
       "    .dataframe tbody tr th {\n",
       "        vertical-align: top;\n",
       "    }\n",
       "\n",
       "    .dataframe thead th {\n",
       "        text-align: right;\n",
       "    }\n",
       "</style>\n",
       "<table border=\"1\" class=\"dataframe\">\n",
       "  <thead>\n",
       "    <tr style=\"text-align: right;\">\n",
       "      <th></th>\n",
       "      <th>Пол</th>\n",
       "      <th>Возраст</th>\n",
       "      <th>Зарплата</th>\n",
       "      <th>Члены семьи</th>\n",
       "      <th>Страховые выплаты</th>\n",
       "    </tr>\n",
       "  </thead>\n",
       "  <tbody>\n",
       "    <tr>\n",
       "      <th>0</th>\n",
       "      <td>1</td>\n",
       "      <td>41.0</td>\n",
       "      <td>49600.0</td>\n",
       "      <td>1</td>\n",
       "      <td>0</td>\n",
       "    </tr>\n",
       "    <tr>\n",
       "      <th>1</th>\n",
       "      <td>0</td>\n",
       "      <td>46.0</td>\n",
       "      <td>38000.0</td>\n",
       "      <td>1</td>\n",
       "      <td>1</td>\n",
       "    </tr>\n",
       "    <tr>\n",
       "      <th>2</th>\n",
       "      <td>0</td>\n",
       "      <td>29.0</td>\n",
       "      <td>21000.0</td>\n",
       "      <td>0</td>\n",
       "      <td>0</td>\n",
       "    </tr>\n",
       "    <tr>\n",
       "      <th>3</th>\n",
       "      <td>0</td>\n",
       "      <td>21.0</td>\n",
       "      <td>41700.0</td>\n",
       "      <td>2</td>\n",
       "      <td>0</td>\n",
       "    </tr>\n",
       "    <tr>\n",
       "      <th>4</th>\n",
       "      <td>1</td>\n",
       "      <td>28.0</td>\n",
       "      <td>26100.0</td>\n",
       "      <td>0</td>\n",
       "      <td>0</td>\n",
       "    </tr>\n",
       "  </tbody>\n",
       "</table>\n",
       "</div>"
      ],
      "text/plain": [
       "   Пол  Возраст  Зарплата  Члены семьи  Страховые выплаты\n",
       "0    1     41.0   49600.0            1                  0\n",
       "1    0     46.0   38000.0            1                  1\n",
       "2    0     29.0   21000.0            0                  0\n",
       "3    0     21.0   41700.0            2                  0\n",
       "4    1     28.0   26100.0            0                  0"
      ]
     },
     "metadata": {},
     "output_type": "display_data"
    },
    {
     "name": "stdout",
     "output_type": "stream",
     "text": [
      "<class 'pandas.core.frame.DataFrame'>\n",
      "RangeIndex: 5000 entries, 0 to 4999\n",
      "Data columns (total 5 columns):\n",
      " #   Column             Non-Null Count  Dtype  \n",
      "---  ------             --------------  -----  \n",
      " 0   Пол                5000 non-null   int64  \n",
      " 1   Возраст            5000 non-null   float64\n",
      " 2   Зарплата           5000 non-null   float64\n",
      " 3   Члены семьи        5000 non-null   int64  \n",
      " 4   Страховые выплаты  5000 non-null   int64  \n",
      "dtypes: float64(2), int64(3)\n",
      "memory usage: 195.4 KB\n"
     ]
    },
    {
     "data": {
      "text/plain": [
       "None"
      ]
     },
     "metadata": {},
     "output_type": "display_data"
    },
    {
     "data": {
      "text/html": [
       "<div>\n",
       "<style scoped>\n",
       "    .dataframe tbody tr th:only-of-type {\n",
       "        vertical-align: middle;\n",
       "    }\n",
       "\n",
       "    .dataframe tbody tr th {\n",
       "        vertical-align: top;\n",
       "    }\n",
       "\n",
       "    .dataframe thead th {\n",
       "        text-align: right;\n",
       "    }\n",
       "</style>\n",
       "<table border=\"1\" class=\"dataframe\">\n",
       "  <thead>\n",
       "    <tr style=\"text-align: right;\">\n",
       "      <th></th>\n",
       "      <th>Пол</th>\n",
       "      <th>Возраст</th>\n",
       "      <th>Зарплата</th>\n",
       "      <th>Члены семьи</th>\n",
       "      <th>Страховые выплаты</th>\n",
       "    </tr>\n",
       "  </thead>\n",
       "  <tbody>\n",
       "    <tr>\n",
       "      <th>count</th>\n",
       "      <td>5000.000000</td>\n",
       "      <td>5000.000000</td>\n",
       "      <td>5000.000000</td>\n",
       "      <td>5000.000000</td>\n",
       "      <td>5000.000000</td>\n",
       "    </tr>\n",
       "    <tr>\n",
       "      <th>mean</th>\n",
       "      <td>0.499000</td>\n",
       "      <td>30.952800</td>\n",
       "      <td>39916.360000</td>\n",
       "      <td>1.194200</td>\n",
       "      <td>0.148000</td>\n",
       "    </tr>\n",
       "    <tr>\n",
       "      <th>std</th>\n",
       "      <td>0.500049</td>\n",
       "      <td>8.440807</td>\n",
       "      <td>9900.083569</td>\n",
       "      <td>1.091387</td>\n",
       "      <td>0.463183</td>\n",
       "    </tr>\n",
       "    <tr>\n",
       "      <th>min</th>\n",
       "      <td>0.000000</td>\n",
       "      <td>18.000000</td>\n",
       "      <td>5300.000000</td>\n",
       "      <td>0.000000</td>\n",
       "      <td>0.000000</td>\n",
       "    </tr>\n",
       "    <tr>\n",
       "      <th>25%</th>\n",
       "      <td>0.000000</td>\n",
       "      <td>24.000000</td>\n",
       "      <td>33300.000000</td>\n",
       "      <td>0.000000</td>\n",
       "      <td>0.000000</td>\n",
       "    </tr>\n",
       "    <tr>\n",
       "      <th>50%</th>\n",
       "      <td>0.000000</td>\n",
       "      <td>30.000000</td>\n",
       "      <td>40200.000000</td>\n",
       "      <td>1.000000</td>\n",
       "      <td>0.000000</td>\n",
       "    </tr>\n",
       "    <tr>\n",
       "      <th>75%</th>\n",
       "      <td>1.000000</td>\n",
       "      <td>37.000000</td>\n",
       "      <td>46600.000000</td>\n",
       "      <td>2.000000</td>\n",
       "      <td>0.000000</td>\n",
       "    </tr>\n",
       "    <tr>\n",
       "      <th>max</th>\n",
       "      <td>1.000000</td>\n",
       "      <td>65.000000</td>\n",
       "      <td>79000.000000</td>\n",
       "      <td>6.000000</td>\n",
       "      <td>5.000000</td>\n",
       "    </tr>\n",
       "  </tbody>\n",
       "</table>\n",
       "</div>"
      ],
      "text/plain": [
       "               Пол      Возраст      Зарплата  Члены семьи  Страховые выплаты\n",
       "count  5000.000000  5000.000000   5000.000000  5000.000000        5000.000000\n",
       "mean      0.499000    30.952800  39916.360000     1.194200           0.148000\n",
       "std       0.500049     8.440807   9900.083569     1.091387           0.463183\n",
       "min       0.000000    18.000000   5300.000000     0.000000           0.000000\n",
       "25%       0.000000    24.000000  33300.000000     0.000000           0.000000\n",
       "50%       0.000000    30.000000  40200.000000     1.000000           0.000000\n",
       "75%       1.000000    37.000000  46600.000000     2.000000           0.000000\n",
       "max       1.000000    65.000000  79000.000000     6.000000           5.000000"
      ]
     },
     "metadata": {},
     "output_type": "display_data"
    },
    {
     "data": {
      "text/plain": [
       "Пол                  0\n",
       "Возраст              0\n",
       "Зарплата             0\n",
       "Члены семьи          0\n",
       "Страховые выплаты    0\n",
       "dtype: int64"
      ]
     },
     "metadata": {},
     "output_type": "display_data"
    },
    {
     "data": {
      "text/plain": [
       "153"
      ]
     },
     "metadata": {},
     "output_type": "display_data"
    },
    {
     "data": {
      "text/plain": [
       "None"
      ]
     },
     "metadata": {},
     "output_type": "display_data"
    }
   ],
   "source": [
    "df = pd.read_csv('/datasets/insurance.csv')\n",
    "\n",
    "def info_df(df):  \n",
    "    display(df.head()) # первые пять строк \n",
    "    display(df.info()) # общую информацию \n",
    "    display(df.describe()) # статистическую информацию \n",
    "    display(df.isna().sum()) # пропуски \n",
    "    display(df.duplicated().sum()) # дубликаты \n",
    "                     \n",
    "display(info_df(df))"
   ]
  },
  {
   "cell_type": "markdown",
   "metadata": {},
   "source": [
    "После изучения данных, видим: данные представлены 5 столбцами в датасете по 500 значений в каждом. Возраст и зарплата предстиавлены числом с плавающей запятой. ДЛя более точных исчислений риведём их к целочисленному типу. Также стоит преименовать столбцы, поскольку написаны по русски и регистр не низкий. А также есть дубликаты, их стоит удалить.\n",
    "\n",
    "Признаки: пол, возраст и зарплата застрахованного, количество членов его семьи.\n",
    "Целевой признак: количество страховых выплат клиенту за последние 5 лет."
   ]
  },
  {
   "cell_type": "code",
   "execution_count": 3,
   "metadata": {},
   "outputs": [
    {
     "data": {
      "text/html": [
       "<div>\n",
       "<style scoped>\n",
       "    .dataframe tbody tr th:only-of-type {\n",
       "        vertical-align: middle;\n",
       "    }\n",
       "\n",
       "    .dataframe tbody tr th {\n",
       "        vertical-align: top;\n",
       "    }\n",
       "\n",
       "    .dataframe thead th {\n",
       "        text-align: right;\n",
       "    }\n",
       "</style>\n",
       "<table border=\"1\" class=\"dataframe\">\n",
       "  <thead>\n",
       "    <tr style=\"text-align: right;\">\n",
       "      <th></th>\n",
       "      <th>gender</th>\n",
       "      <th>age</th>\n",
       "      <th>salary</th>\n",
       "      <th>family_members</th>\n",
       "      <th>insurance_payments</th>\n",
       "    </tr>\n",
       "  </thead>\n",
       "  <tbody>\n",
       "    <tr>\n",
       "      <th>0</th>\n",
       "      <td>1</td>\n",
       "      <td>41.0</td>\n",
       "      <td>49600.0</td>\n",
       "      <td>1</td>\n",
       "      <td>0</td>\n",
       "    </tr>\n",
       "    <tr>\n",
       "      <th>1</th>\n",
       "      <td>0</td>\n",
       "      <td>46.0</td>\n",
       "      <td>38000.0</td>\n",
       "      <td>1</td>\n",
       "      <td>1</td>\n",
       "    </tr>\n",
       "    <tr>\n",
       "      <th>2</th>\n",
       "      <td>0</td>\n",
       "      <td>29.0</td>\n",
       "      <td>21000.0</td>\n",
       "      <td>0</td>\n",
       "      <td>0</td>\n",
       "    </tr>\n",
       "    <tr>\n",
       "      <th>3</th>\n",
       "      <td>0</td>\n",
       "      <td>21.0</td>\n",
       "      <td>41700.0</td>\n",
       "      <td>2</td>\n",
       "      <td>0</td>\n",
       "    </tr>\n",
       "    <tr>\n",
       "      <th>4</th>\n",
       "      <td>1</td>\n",
       "      <td>28.0</td>\n",
       "      <td>26100.0</td>\n",
       "      <td>0</td>\n",
       "      <td>0</td>\n",
       "    </tr>\n",
       "  </tbody>\n",
       "</table>\n",
       "</div>"
      ],
      "text/plain": [
       "   gender   age   salary  family_members  insurance_payments\n",
       "0       1  41.0  49600.0               1                   0\n",
       "1       0  46.0  38000.0               1                   1\n",
       "2       0  29.0  21000.0               0                   0\n",
       "3       0  21.0  41700.0               2                   0\n",
       "4       1  28.0  26100.0               0                   0"
      ]
     },
     "execution_count": 3,
     "metadata": {},
     "output_type": "execute_result"
    }
   ],
   "source": [
    "# переименуем столбцы и приведём к нижнему регистру \n",
    "df = df.rename(columns={ \n",
    "                  \"Пол\": \"gender\", \n",
    "                  \"Возраст\": \"age\", \n",
    "                  \"Зарплата\": \"salary\", \n",
    "                  \"Члены семьи\": \"family_members\", \n",
    "                  \"Страховые выплаты\": \"insurance_payments\"}) \n",
    " \n",
    "df.head()"
   ]
  },
  {
   "cell_type": "code",
   "execution_count": 4,
   "metadata": {},
   "outputs": [
    {
     "name": "stdout",
     "output_type": "stream",
     "text": [
      "<class 'pandas.core.frame.DataFrame'>\n",
      "RangeIndex: 5000 entries, 0 to 4999\n",
      "Data columns (total 5 columns):\n",
      " #   Column              Non-Null Count  Dtype\n",
      "---  ------              --------------  -----\n",
      " 0   gender              5000 non-null   int64\n",
      " 1   age                 5000 non-null   int64\n",
      " 2   salary              5000 non-null   int64\n",
      " 3   family_members      5000 non-null   int64\n",
      " 4   insurance_payments  5000 non-null   int64\n",
      "dtypes: int64(5)\n",
      "memory usage: 195.4 KB\n"
     ]
    }
   ],
   "source": [
    "df['age'] = df['age'].astype('int') \n",
    "df['salary'] = df['salary'].astype('int') \n",
    "  \n",
    "df.info() "
   ]
  },
  {
   "cell_type": "code",
   "execution_count": 5,
   "metadata": {},
   "outputs": [
    {
     "data": {
      "text/plain": [
       "0"
      ]
     },
     "execution_count": 5,
     "metadata": {},
     "output_type": "execute_result"
    }
   ],
   "source": [
    "df = df.drop_duplicates()\n",
    "df.duplicated().sum()"
   ]
  },
  {
   "cell_type": "code",
   "execution_count": 6,
   "metadata": {
    "scrolled": false
   },
   "outputs": [
    {
     "data": {
      "text/plain": [
       "<AxesSubplot:>"
      ]
     },
     "execution_count": 6,
     "metadata": {},
     "output_type": "execute_result"
    },
    {
     "data": {
      "image/png": "[encoded data removed]",
      "text/plain": [
       "<Figure size 720x720 with 2 Axes>"
      ]
     },
     "metadata": {
      "needs_background": "light"
     },
     "output_type": "display_data"
    }
   ],
   "source": [
    "# смотрим матрицу корреляции по всему датасету \n",
    "fig, ax = plt.subplots(figsize=(10, 10)) \n",
    "sns.heatmap(df.corr(), annot = True, fmt='.1g', vmin=-1, vmax=1, center= 0, cmap= 'coolwarm', square=True, ax = ax) "
   ]
  },
  {
   "cell_type": "code",
   "execution_count": 7,
   "metadata": {},
   "outputs": [
    {
     "data": {
      "image/png": "[encoded data removed]",
      "text/plain": [
       "<Figure size 576x432 with 1 Axes>"
      ]
     },
     "metadata": {
      "needs_background": "light"
     },
     "output_type": "display_data"
    }
   ],
   "source": [
    "# посмотрим на коррелирующие столбцы\n",
    "df.plot(x='insurance_payments', y='age', kind='scatter', figsize=(8, 6))\n",
    "plt.title(\"Зависимость возраста от кол-ва страховых выплат\") \n",
    "plt.show()"
   ]
  },
  {
   "cell_type": "markdown",
   "metadata": {},
   "source": [
    "Мы видим одну только пару коррелирующую: возраст и страховые выплаты. Страховые выплаты начинаются у клиентов старше 40 лет. Причём у клиентов до 40 лет выплат не было вообще."
   ]
  },
  {
   "cell_type": "code",
   "execution_count": 8,
   "metadata": {},
   "outputs": [],
   "source": [
    "# Построим графики чтобы посмотреть на распределение\n",
    "def dist_and_box(df,col):\n",
    "    global title\n",
    "    fig, axs = plt.subplots(ncols=2,figsize=(20,5))\n",
    "    sns.set(font_scale=1.10)\n",
    "    distplot = sns.distplot(df[col],ax=axs[0]).set_title(f'Признак {title}',fontsize=20);\n",
    "    sns.boxplot(df[col], ax=axs[1]).set_title(f'Признак {title}',fontsize=20)"
   ]
  },
  {
   "cell_type": "code",
   "execution_count": 9,
   "metadata": {},
   "outputs": [
    {
     "data": {
      "image/png": "[encoded data removed]",
      "text/plain": [
       "<Figure size 1440x360 with 2 Axes>"
      ]
     },
     "metadata": {
      "needs_background": "light"
     },
     "output_type": "display_data"
    }
   ],
   "source": [
    "# здесь и далее по каждому столбцу\n",
    "df = df\n",
    "title = 'gender'\n",
    "\n",
    "dist_and_box(df,'gender')"
   ]
  },
  {
   "cell_type": "markdown",
   "metadata": {},
   "source": [
    "Два пика с норальным распределением, выбросов нет. Это логично,у нас два признака только."
   ]
  },
  {
   "cell_type": "code",
   "execution_count": 10,
   "metadata": {},
   "outputs": [
    {
     "data": {
      "image/png": "[encoded data removed]",
      "text/plain": [
       "<Figure size 1440x360 with 2 Axes>"
      ]
     },
     "metadata": {},
     "output_type": "display_data"
    }
   ],
   "source": [
    "df = df\n",
    "title = 'age'\n",
    "\n",
    "dist_and_box(df,'age')"
   ]
  },
  {
   "cell_type": "markdown",
   "metadata": {},
   "source": [
    "У признака возраст распределение не совсем нормально и скошено вправо, о чём и свидетельствуют выбросы. Множественные пики в значениях от 20 до 50. Это какие-то немногочисленные клиенты."
   ]
  },
  {
   "cell_type": "code",
   "execution_count": 11,
   "metadata": {},
   "outputs": [
    {
     "data": {
      "image/png": "[encoded data removed]",
      "text/plain": [
       "<Figure size 1440x360 with 2 Axes>"
      ]
     },
     "metadata": {},
     "output_type": "display_data"
    }
   ],
   "source": [
    "df = df\n",
    "title = 'salary'\n",
    "\n",
    "dist_and_box(df,'salary')"
   ]
  },
  {
   "cell_type": "markdown",
   "metadata": {},
   "source": [
    "У признака зарплата нормальное распределение, однако есть выбросы. Но это можно описать как единичные клиенты с высокой зарплатой."
   ]
  },
  {
   "cell_type": "code",
   "execution_count": 12,
   "metadata": {},
   "outputs": [
    {
     "data": {
      "image/png": "[encoded data removed]",
      "text/plain": [
       "<Figure size 1440x360 with 2 Axes>"
      ]
     },
     "metadata": {},
     "output_type": "display_data"
    }
   ],
   "source": [
    "df = df\n",
    "title = 'family_members'\n",
    "\n",
    "dist_and_box(df,'family_members')"
   ]
  },
  {
   "cell_type": "markdown",
   "metadata": {},
   "source": [
    "Соответствующие пики в признаке члены семьи с нормальным распределением. Выброс есть в значении 6. Но это просто редкие случаи когда семья в составе 6 человек."
   ]
  },
  {
   "cell_type": "code",
   "execution_count": 13,
   "metadata": {
    "scrolled": false
   },
   "outputs": [
    {
     "data": {
      "image/png": "[encoded data removed]",
      "text/plain": [
       "<Figure size 1440x360 with 2 Axes>"
      ]
     },
     "metadata": {},
     "output_type": "display_data"
    }
   ],
   "source": [
    "df = df\n",
    "title = 'insurance_payments'\n",
    "\n",
    "dist_and_box(df,'insurance_payments')"
   ]
  },
  {
   "cell_type": "markdown",
   "metadata": {},
   "source": [
    "В признаке количестов страховых выплат за последние 5 лет, значимый пик на значении 0 - то есть страховых выплат было немного. Страховые выплаты представлены отдельными выбросами, потому что их немного."
   ]
  },
  {
   "cell_type": "markdown",
   "metadata": {},
   "source": [
    "**Вывод**"
   ]
  },
  {
   "cell_type": "markdown",
   "metadata": {},
   "source": [
    "По первому пункту, открыли и изучили данные. Удалили дубликаты, посмотрели распределение и описали его по каждому признаку. Нашли одну коррелирующую пару - возраст и кол-во страховых выплат. Страховые выплаты начинаются у клиентов старше 40 лет. Причём у клиентов до 40 лет выплат не было вообще."
   ]
  },
  {
   "cell_type": "markdown",
   "metadata": {},
   "source": [
    "## Умножение матриц"
   ]
  },
  {
   "cell_type": "markdown",
   "metadata": {},
   "source": [
    "В этом задании вы можете записывать формулы в *Jupyter Notebook.*\n",
    "\n",
    "Чтобы записать формулу внутри текста, окружите её символами доллара \\\\$; если снаружи —  двойными символами \\\\$\\\\$. Эти формулы записываются на языке вёрстки *LaTeX.* \n",
    "\n",
    "Для примера мы записали формулы линейной регрессии. Можете их скопировать и отредактировать, чтобы решить задачу.\n",
    "\n",
    "Работать в *LaTeX* необязательно.\n",
    "\n",
    "\n",
    "**Ответьте на вопрос и обоснуйте решение.**\n",
    "\n",
    "Признаки умножают на обратимую матрицу. Изменится ли качество линейной регрессии? (Её можно обучить заново.)\n",
    "\n",
    "a. Изменится. Приведите примеры матриц.\n",
    "\n",
    "b. Не изменится. Укажите, как связаны параметры линейной регрессии в исходной задаче и в преобразованной."
   ]
  },
  {
   "cell_type": "markdown",
   "metadata": {},
   "source": [
    "Обозначения:\n",
    "\n",
    "- $X$ — матрица признаков (нулевой столбец состоит из единиц)\n",
    "\n",
    "- $y$ — вектор целевого признака\n",
    "\n",
    "- $P$ — матрица, на которую умножаются признаки\n",
    "\n",
    "- $w$ — вектор весов линейной регрессии (нулевой элемент равен сдвигу)"
   ]
  },
  {
   "cell_type": "markdown",
   "metadata": {},
   "source": [
    "Предсказания:\n",
    "\n",
    "$$\n",
    "a = Xw\n",
    "$$\n",
    "\n",
    "Задача обучения:\n",
    "\n",
    "$$\n",
    "w = \\arg\\min_w MSE(Xw, y)\n",
    "$$\n",
    "\n",
    "Формула обучения:\n",
    "\n",
    "$$\n",
    "w = (X^T X)^{-1} X^T y\n",
    "$$"
   ]
  },
  {
   "cell_type": "markdown",
   "metadata": {},
   "source": [
    "**Ответ:** Качество линейной регрессии не меняется, но меняются веса для новых признаков (w1)."
   ]
  },
  {
   "cell_type": "markdown",
   "metadata": {},
   "source": [
    "**Обоснование:**\n",
    "\n",
    "Так как признаки $Х$ умножают на обратимую матрицу $Р$, то примем $X_1 = XP$ и подставим в формулу обучения:"
   ]
  },
  {
   "cell_type": "markdown",
   "metadata": {},
   "source": [
    "$$\n",
    "w_1 = ((XP)^TXP)^{-1}(XP)^Ty =>\n",
    "$$\n",
    "\n",
    "$$\n",
    "w_1 = (P^TX^TXP)^{-1}P^TX^Ty =>\n",
    "$$"
   ]
  },
  {
   "cell_type": "markdown",
   "metadata": {},
   "source": [
    "Матрицы $X$  и $X^T$ прямоугольные, поэтому для них не существует обратных матриц, а матрица $P$ квадратная. Вынести из формулы множители в виде обратимых матриц $Р$ можно."
   ]
  },
  {
   "cell_type": "markdown",
   "metadata": {},
   "source": [
    "$$\n",
    "w_1 = (P^T(X^TX)P)^{-1}P^TX^Ty =>\n",
    "$$\n",
    "\n",
    "$$\n",
    "w_1 = P^{-1}(X^TX)^{-1}(P^T)^{-1}P^TX^Ty =>\n",
    "$$"
   ]
  },
  {
   "cell_type": "markdown",
   "metadata": {},
   "source": [
    "Так как $(P^T)^{-1} P^T$ это единичная матрица и мы её сокращаем, то остаётся следующее"
   ]
  },
  {
   "cell_type": "markdown",
   "metadata": {},
   "source": [
    "$$\n",
    "w_1 = P^{-1}(X^TX)^{-1}X^Ty =>\n",
    "$$"
   ]
  },
  {
   "cell_type": "markdown",
   "metadata": {},
   "source": [
    "а так как $(X^TX)^{-1}X^Ty$ это веса, то"
   ]
  },
  {
   "cell_type": "markdown",
   "metadata": {},
   "source": [
    "$$\n",
    "w_1 = P^{-1}w\n",
    "$$"
   ]
  },
  {
   "cell_type": "markdown",
   "metadata": {},
   "source": [
    "**Подставим полученное выражние в формулу предсказания $a = Xw$:**"
   ]
  },
  {
   "cell_type": "markdown",
   "metadata": {},
   "source": [
    "$$\n",
    "a_1 = XPP^{-1}w\n",
    "$$\n",
    "\n",
    "так как $XP = X_1$, а $P^{-1}w = w1$, то\n",
    "\n",
    "\n",
    "$$\n",
    "a_1 = X_1w_1\n",
    "$$"
   ]
  },
  {
   "cell_type": "markdown",
   "metadata": {},
   "source": [
    "**Вывод**"
   ]
  },
  {
   "cell_type": "markdown",
   "metadata": {},
   "source": [
    "По пункту 2 ответили на вопрос про качество линейной регрессии и обосновали выводы. Качество линейной регрессии не меняется, но меняются веса для новых признаков ($w_1$)."
   ]
  },
  {
   "cell_type": "markdown",
   "metadata": {},
   "source": [
    "## Алгоритм преобразования"
   ]
  },
  {
   "cell_type": "markdown",
   "metadata": {},
   "source": [
    "Предложите алгоритм преобразования данных для решения задачи. Обоснуйте, почему качество линейной регрессии не поменяется."
   ]
  },
  {
   "cell_type": "markdown",
   "metadata": {},
   "source": [
    "**Алгоритм**\n",
    "\n",
    "Создадим квадратную матрицу А, и посмотрим, обратима ли она."
   ]
  },
  {
   "cell_type": "code",
   "execution_count": 14,
   "metadata": {},
   "outputs": [
    {
     "data": {
      "text/plain": [
       "array([[50, 48, 41, 33],\n",
       "       [65, 75, 85, 12],\n",
       "       [76,  5, 44, 21],\n",
       "       [26, 37, 68, 52]])"
      ]
     },
     "execution_count": 14,
     "metadata": {},
     "output_type": "execute_result"
    }
   ],
   "source": [
    "# рандомная матрица\n",
    "matrix_a = np.random.randint(100, size = (4,4))\n",
    "matrix_a"
   ]
  },
  {
   "cell_type": "code",
   "execution_count": 15,
   "metadata": {},
   "outputs": [
    {
     "data": {
      "text/plain": [
       "array([[ 0.01132308, -0.00243207,  0.0116667 , -0.0113361 ],\n",
       "       [ 0.02256627,  0.00440142, -0.01550617, -0.00907451],\n",
       "       [-0.03127864,  0.0122781 ,  0.00493781,  0.01502238],\n",
       "       [ 0.01918453, -0.01797172, -0.00125725,  0.01171103]])"
      ]
     },
     "execution_count": 15,
     "metadata": {},
     "output_type": "execute_result"
    }
   ],
   "source": [
    "# обратная матрица\n",
    "np.linalg.inv(matrix_a)"
   ]
  },
  {
   "cell_type": "markdown",
   "metadata": {},
   "source": [
    "**Обоснование**\n",
    "\n",
    "Чтобы убедиться, что качество линейной регрессии не изменится, рассчитаем a и a1 на наших данных."
   ]
  },
  {
   "cell_type": "markdown",
   "metadata": {},
   "source": [
    "$$\n",
    "a = Xw\n",
    "$$\n",
    "\n",
    "$$\n",
    "w = (X^T X)^{-1} X^T y\n",
    "$$\n",
    "\n",
    "$$\n",
    "a_1 = XPP^{-1}w\n",
    "$$\n",
    "\n",
    "$$\n",
    "w_1 = ((XP)^TXP)^{-1}(XP)^Ty\n",
    "$$"
   ]
  },
  {
   "cell_type": "code",
   "execution_count": 16,
   "metadata": {},
   "outputs": [
    {
     "data": {
      "text/plain": [
       "(4847, 4)"
      ]
     },
     "metadata": {},
     "output_type": "display_data"
    },
    {
     "data": {
      "text/plain": [
       "(4847,)"
      ]
     },
     "metadata": {},
     "output_type": "display_data"
    }
   ],
   "source": [
    "# выделям признаки и цель\n",
    "features = df.drop('insurance_payments', axis=1)\n",
    "target = df['insurance_payments']\n",
    "\n",
    "display(features.shape)\n",
    "display(target.shape)"
   ]
  },
  {
   "cell_type": "code",
   "execution_count": 17,
   "metadata": {},
   "outputs": [],
   "source": [
    "# считаем вектор весов и вектор предсказания до преобразования\n",
    "w = np.linalg.inv(np.dot(features.T,features)).dot(features.T).dot(target)\n",
    "a = features.dot(w)"
   ]
  },
  {
   "cell_type": "code",
   "execution_count": 18,
   "metadata": {},
   "outputs": [],
   "source": [
    "# считаем вектор весов и вектор предсказания после преобразования\n",
    "w1 = np.linalg.inv(np.dot(features.dot(matrix_a).T,features.dot(matrix_a))).dot(features.dot(matrix_a).T).dot(target)\n",
    "a1 = features.dot(matrix_a).dot(w1)"
   ]
  },
  {
   "cell_type": "markdown",
   "metadata": {},
   "source": [
    "Определим равны ли два массива по элементам в пределах заданного допуска методом NumPy allclose ().\n",
    "\n",
    "Возвращаемое значение: \n",
    "\n",
    "True, если два массива равны в пределах заданного допуска, иначе False."
   ]
  },
  {
   "cell_type": "code",
   "execution_count": 19,
   "metadata": {},
   "outputs": [
    {
     "data": {
      "text/plain": [
       "True"
      ]
     },
     "execution_count": 19,
     "metadata": {},
     "output_type": "execute_result"
    }
   ],
   "source": [
    "np.allclose(a, a1, .1)"
   ]
  },
  {
   "cell_type": "markdown",
   "metadata": {},
   "source": [
    "Использован относительный допуск как 0.1 и абсолютный допуск как 0.1. В заданном диапазоне допусков элементы массива получились одинаковы, и поэтому он возвращает True."
   ]
  },
  {
   "cell_type": "markdown",
   "metadata": {},
   "source": [
    "## Проверка алгоритма"
   ]
  },
  {
   "cell_type": "markdown",
   "metadata": {},
   "source": [
    "Запрограммируйте этот алгоритм, применив матричные операции. Проверьте, что качество линейной регрессии из sklearn не отличается до и после преобразования. Примените метрику R2."
   ]
  },
  {
   "cell_type": "code",
   "execution_count": 20,
   "metadata": {},
   "outputs": [
    {
     "name": "stdout",
     "output_type": "stream",
     "text": [
      "R2 метрика: 0.4302010046633359\n"
     ]
    }
   ],
   "source": [
    "model = LinearRegression()\n",
    "model.fit(features, target)\n",
    "predictions = model.predict(features)\n",
    "print(\"R2 метрика:\", r2_score(target, predictions)) "
   ]
  },
  {
   "cell_type": "code",
   "execution_count": 21,
   "metadata": {},
   "outputs": [
    {
     "name": "stdout",
     "output_type": "stream",
     "text": [
      "R2 метрика: 0.43020100466333544\n"
     ]
    }
   ],
   "source": [
    "features_transformed = features.dot(matrix_a)\n",
    "model = LinearRegression()\n",
    "model.fit(features_transformed, target)\n",
    "predictions = model.predict(features_transformed)\n",
    "print(\"R2 метрика:\", r2_score(target, predictions))"
   ]
  },
  {
   "cell_type": "markdown",
   "metadata": {},
   "source": [
    "Применили метрику  R2 и убедились, что качество линейной регрессии не отличается до и после преобразования."
   ]
  },
  {
   "cell_type": "markdown",
   "metadata": {},
   "source": [
    "**Вывод**"
   ]
  },
  {
   "cell_type": "markdown",
   "metadata": {},
   "source": [
    "В проекте необходимо было разработать такой метод преобразования данных, чтобы по ним было сложно восстановить персональную информацию и обосновать корректность его работы. В качестве преобразования признаки были умножены на обратимую матрицу. Корректность работы алгоритма была обоснована равенством предсказаний и проверкой R2 метрики. При преобразовании качество модели не ухудшилось."
   ]
  }
 ],
 "metadata": {
  "ExecuteTimeLog": [
   {
    "duration": 438,
    "start_time": "2022-04-24T15:03:31.510Z"
   },
   {
    "duration": 28,
    "start_time": "2022-04-24T15:04:15.084Z"
   },
   {
    "duration": 18,
    "start_time": "2022-04-24T15:04:27.939Z"
   },
   {
    "duration": 49,
    "start_time": "2022-04-24T15:06:22.296Z"
   },
   {
    "duration": 48,
    "start_time": "2022-04-24T17:23:30.037Z"
   },
   {
    "duration": 370,
    "start_time": "2022-04-24T17:23:35.711Z"
   },
   {
    "duration": 71,
    "start_time": "2022-04-24T17:23:36.083Z"
   },
   {
    "duration": 13,
    "start_time": "2022-04-24T17:23:36.156Z"
   },
   {
    "duration": 5,
    "start_time": "2022-04-24T17:25:38.526Z"
   },
   {
    "duration": 44,
    "start_time": "2022-04-24T17:26:18.623Z"
   },
   {
    "duration": 1030,
    "start_time": "2022-04-24T17:26:56.104Z"
   },
   {
    "duration": 248,
    "start_time": "2022-04-24T17:27:00.099Z"
   },
   {
    "duration": 5,
    "start_time": "2022-04-24T17:27:22.268Z"
   },
   {
    "duration": 458,
    "start_time": "2022-04-24T17:27:25.356Z"
   },
   {
    "duration": 140,
    "start_time": "2022-04-24T17:32:09.607Z"
   },
   {
    "duration": 87,
    "start_time": "2022-04-24T17:32:29.812Z"
   },
   {
    "duration": 491,
    "start_time": "2022-04-24T17:32:59.994Z"
   },
   {
    "duration": 9,
    "start_time": "2022-04-24T17:37:56.896Z"
   },
   {
    "duration": 8,
    "start_time": "2022-04-24T17:38:05.784Z"
   },
   {
    "duration": 15,
    "start_time": "2022-04-24T17:38:11.831Z"
   },
   {
    "duration": 580,
    "start_time": "2022-04-24T17:39:14.588Z"
   },
   {
    "duration": 11,
    "start_time": "2022-04-24T17:52:17.312Z"
   },
   {
    "duration": 9,
    "start_time": "2022-04-24T17:52:23.850Z"
   },
   {
    "duration": 10,
    "start_time": "2022-04-24T17:52:26.689Z"
   },
   {
    "duration": 12,
    "start_time": "2022-04-24T17:52:33.502Z"
   },
   {
    "duration": 372,
    "start_time": "2022-04-24T17:52:36.597Z"
   },
   {
    "duration": 4,
    "start_time": "2022-04-24T17:52:48.461Z"
   },
   {
    "duration": 54,
    "start_time": "2022-04-24T17:52:48.467Z"
   },
   {
    "duration": 9,
    "start_time": "2022-04-24T17:52:48.523Z"
   },
   {
    "duration": 25,
    "start_time": "2022-04-24T17:52:48.535Z"
   },
   {
    "duration": 410,
    "start_time": "2022-04-24T17:52:48.562Z"
   },
   {
    "duration": 4,
    "start_time": "2022-04-24T17:52:48.974Z"
   },
   {
    "duration": 2912,
    "start_time": "2022-04-24T17:52:48.980Z"
   },
   {
    "duration": 0,
    "start_time": "2022-04-24T17:52:51.894Z"
   },
   {
    "duration": 2265,
    "start_time": "2022-04-24T18:16:45.547Z"
   },
   {
    "duration": 2321,
    "start_time": "2022-04-24T18:17:02.511Z"
   },
   {
    "duration": 12,
    "start_time": "2022-04-24T18:17:34.345Z"
   },
   {
    "duration": 11,
    "start_time": "2022-04-24T18:20:50.633Z"
   },
   {
    "duration": 402,
    "start_time": "2022-04-24T18:20:52.770Z"
   },
   {
    "duration": 2634,
    "start_time": "2022-04-24T18:23:16.404Z"
   },
   {
    "duration": 286,
    "start_time": "2022-04-24T18:24:10.955Z"
   },
   {
    "duration": 297,
    "start_time": "2022-04-24T18:26:40.850Z"
   },
   {
    "duration": 319,
    "start_time": "2022-04-24T18:27:51.087Z"
   },
   {
    "duration": 419,
    "start_time": "2022-04-24T18:29:35.935Z"
   },
   {
    "duration": 518,
    "start_time": "2022-04-24T18:34:30.712Z"
   },
   {
    "duration": 1346,
    "start_time": "2022-04-25T05:59:11.664Z"
   },
   {
    "duration": 65,
    "start_time": "2022-04-25T05:59:13.012Z"
   },
   {
    "duration": 28,
    "start_time": "2022-04-25T05:59:13.079Z"
   },
   {
    "duration": 13,
    "start_time": "2022-04-25T05:59:13.109Z"
   },
   {
    "duration": 9,
    "start_time": "2022-04-25T05:59:13.125Z"
   },
   {
    "duration": 495,
    "start_time": "2022-04-25T05:59:13.136Z"
   },
   {
    "duration": 4,
    "start_time": "2022-04-25T05:59:13.633Z"
   },
   {
    "duration": 256,
    "start_time": "2022-04-25T05:59:13.638Z"
   },
   {
    "duration": 334,
    "start_time": "2022-04-25T05:59:13.896Z"
   },
   {
    "duration": 347,
    "start_time": "2022-04-25T05:59:14.232Z"
   },
   {
    "duration": 421,
    "start_time": "2022-04-25T05:59:14.581Z"
   },
   {
    "duration": 369,
    "start_time": "2022-04-25T05:59:15.003Z"
   },
   {
    "duration": 5,
    "start_time": "2022-04-25T07:15:52.526Z"
   },
   {
    "duration": 5,
    "start_time": "2022-04-25T07:16:12.848Z"
   },
   {
    "duration": 8,
    "start_time": "2022-04-25T07:16:40.463Z"
   },
   {
    "duration": 118,
    "start_time": "2022-04-25T07:17:00.998Z"
   },
   {
    "duration": 16,
    "start_time": "2022-04-25T07:17:04.900Z"
   },
   {
    "duration": 11,
    "start_time": "2022-04-25T07:17:12.373Z"
   },
   {
    "duration": 8,
    "start_time": "2022-04-25T07:17:26.903Z"
   },
   {
    "duration": 8,
    "start_time": "2022-04-25T07:35:52.532Z"
   },
   {
    "duration": 172,
    "start_time": "2022-04-25T07:36:01.334Z"
   },
   {
    "duration": 20,
    "start_time": "2022-04-25T08:16:25.825Z"
   },
   {
    "duration": 3,
    "start_time": "2022-04-25T08:16:40.180Z"
   },
   {
    "duration": 810,
    "start_time": "2022-04-25T08:17:57.526Z"
   },
   {
    "duration": 841,
    "start_time": "2022-04-25T08:18:14.624Z"
   },
   {
    "duration": 5,
    "start_time": "2022-04-25T08:20:27.781Z"
   },
   {
    "duration": 805,
    "start_time": "2022-04-25T08:32:03.952Z"
   },
   {
    "duration": 97,
    "start_time": "2022-04-25T08:33:31.451Z"
   },
   {
    "duration": 105,
    "start_time": "2022-04-25T08:33:57.450Z"
   },
   {
    "duration": 155,
    "start_time": "2022-04-25T08:34:39.027Z"
   },
   {
    "duration": 836,
    "start_time": "2022-04-25T08:36:20.830Z"
   },
   {
    "duration": 112,
    "start_time": "2022-04-25T08:38:45.956Z"
   },
   {
    "duration": 5,
    "start_time": "2022-04-25T09:16:49.278Z"
   },
   {
    "duration": 11,
    "start_time": "2022-04-25T09:17:05.376Z"
   },
   {
    "duration": 10,
    "start_time": "2022-04-25T09:17:20.781Z"
   },
   {
    "duration": 15,
    "start_time": "2022-04-25T09:20:32.763Z"
   },
   {
    "duration": 2,
    "start_time": "2022-04-25T09:27:14.229Z"
   },
   {
    "duration": 6,
    "start_time": "2022-04-25T09:28:57.854Z"
   },
   {
    "duration": 6,
    "start_time": "2022-04-25T09:29:39.277Z"
   },
   {
    "duration": 6,
    "start_time": "2022-04-25T09:35:52.399Z"
   },
   {
    "duration": 6,
    "start_time": "2022-04-25T09:36:05.679Z"
   },
   {
    "duration": 5,
    "start_time": "2022-04-25T09:36:13.328Z"
   },
   {
    "duration": 5,
    "start_time": "2022-04-25T09:38:51.096Z"
   },
   {
    "duration": 5,
    "start_time": "2022-04-25T09:39:04.077Z"
   },
   {
    "duration": 126,
    "start_time": "2022-04-25T09:39:24.513Z"
   },
   {
    "duration": 892,
    "start_time": "2022-04-25T09:43:04.399Z"
   },
   {
    "duration": 786,
    "start_time": "2022-04-25T09:45:22.863Z"
   },
   {
    "duration": 720,
    "start_time": "2022-04-25T09:47:46.285Z"
   },
   {
    "duration": 1133,
    "start_time": "2022-04-25T09:49:30.501Z"
   },
   {
    "duration": 1023,
    "start_time": "2022-04-25T09:50:31.943Z"
   },
   {
    "duration": 782,
    "start_time": "2022-04-25T09:50:51.894Z"
   },
   {
    "duration": 472,
    "start_time": "2022-04-25T09:51:22.943Z"
   },
   {
    "duration": 450,
    "start_time": "2022-04-25T09:52:52.803Z"
   },
   {
    "duration": 472,
    "start_time": "2022-04-25T09:53:33.674Z"
   },
   {
    "duration": 972,
    "start_time": "2022-04-25T09:53:46.779Z"
   },
   {
    "duration": 565,
    "start_time": "2022-04-25T09:54:04.096Z"
   },
   {
    "duration": 473,
    "start_time": "2022-04-25T09:54:50.125Z"
   },
   {
    "duration": 468,
    "start_time": "2022-04-25T09:54:57.394Z"
   },
   {
    "duration": 458,
    "start_time": "2022-04-25T09:58:07.169Z"
   },
   {
    "duration": 94,
    "start_time": "2022-04-25T10:00:23.644Z"
   },
   {
    "duration": 92,
    "start_time": "2022-04-25T10:00:55.981Z"
   },
   {
    "duration": 435,
    "start_time": "2022-04-25T10:01:05.219Z"
   },
   {
    "duration": 454,
    "start_time": "2022-04-25T10:01:29.379Z"
   },
   {
    "duration": 386,
    "start_time": "2022-04-25T10:01:40.812Z"
   },
   {
    "duration": 424,
    "start_time": "2022-04-25T10:01:49.258Z"
   },
   {
    "duration": 17,
    "start_time": "2022-04-25T10:18:04.930Z"
   },
   {
    "duration": 15,
    "start_time": "2022-04-25T10:18:48.766Z"
   },
   {
    "duration": 12,
    "start_time": "2022-04-25T10:19:51.255Z"
   },
   {
    "duration": 18,
    "start_time": "2022-04-25T10:23:02.082Z"
   },
   {
    "duration": 9,
    "start_time": "2022-04-25T10:23:08.398Z"
   },
   {
    "duration": 16,
    "start_time": "2022-04-25T10:23:17.831Z"
   },
   {
    "duration": 6,
    "start_time": "2022-04-25T12:02:22.597Z"
   },
   {
    "duration": 69,
    "start_time": "2022-04-25T12:02:22.606Z"
   },
   {
    "duration": 10,
    "start_time": "2022-04-25T12:02:22.677Z"
   },
   {
    "duration": 31,
    "start_time": "2022-04-25T12:02:22.689Z"
   },
   {
    "duration": 13,
    "start_time": "2022-04-25T12:02:22.723Z"
   },
   {
    "duration": 405,
    "start_time": "2022-04-25T12:02:22.738Z"
   },
   {
    "duration": 277,
    "start_time": "2022-04-25T12:02:23.145Z"
   },
   {
    "duration": 4,
    "start_time": "2022-04-25T12:02:23.423Z"
   },
   {
    "duration": 331,
    "start_time": "2022-04-25T12:02:23.429Z"
   },
   {
    "duration": 337,
    "start_time": "2022-04-25T12:02:23.762Z"
   },
   {
    "duration": 350,
    "start_time": "2022-04-25T12:02:24.101Z"
   },
   {
    "duration": 382,
    "start_time": "2022-04-25T12:02:24.453Z"
   },
   {
    "duration": 392,
    "start_time": "2022-04-25T12:02:24.837Z"
   },
   {
    "duration": 117,
    "start_time": "2022-04-25T12:02:25.232Z"
   },
   {
    "duration": 608,
    "start_time": "2022-04-25T12:02:25.351Z"
   },
   {
    "duration": 4,
    "start_time": "2022-04-25T13:24:47.498Z"
   },
   {
    "duration": 53,
    "start_time": "2022-04-25T13:24:47.504Z"
   },
   {
    "duration": 12,
    "start_time": "2022-04-25T13:24:47.559Z"
   },
   {
    "duration": 11,
    "start_time": "2022-04-25T13:24:47.573Z"
   },
   {
    "duration": 27,
    "start_time": "2022-04-25T13:24:47.586Z"
   },
   {
    "duration": 422,
    "start_time": "2022-04-25T13:24:47.615Z"
   },
   {
    "duration": 180,
    "start_time": "2022-04-25T13:24:48.039Z"
   },
   {
    "duration": 3,
    "start_time": "2022-04-25T13:24:48.222Z"
   },
   {
    "duration": 318,
    "start_time": "2022-04-25T13:24:48.227Z"
   },
   {
    "duration": 336,
    "start_time": "2022-04-25T13:24:48.547Z"
   },
   {
    "duration": 357,
    "start_time": "2022-04-25T13:24:48.885Z"
   },
   {
    "duration": 355,
    "start_time": "2022-04-25T13:24:49.244Z"
   },
   {
    "duration": 480,
    "start_time": "2022-04-25T13:24:49.602Z"
   },
   {
    "duration": 100,
    "start_time": "2022-04-25T13:24:50.085Z"
   },
   {
    "duration": 457,
    "start_time": "2022-04-25T13:24:50.187Z"
   },
   {
    "duration": 6,
    "start_time": "2022-04-25T13:59:54.988Z"
   },
   {
    "duration": 6,
    "start_time": "2022-04-25T14:00:09.229Z"
   },
   {
    "duration": 9,
    "start_time": "2022-04-25T14:00:42.377Z"
   },
   {
    "duration": 5,
    "start_time": "2022-04-25T14:00:54.429Z"
   },
   {
    "duration": 7,
    "start_time": "2022-04-25T14:00:55.598Z"
   },
   {
    "duration": 10,
    "start_time": "2022-04-25T14:08:10.193Z"
   },
   {
    "duration": 4,
    "start_time": "2022-04-25T14:08:21.265Z"
   },
   {
    "duration": 11,
    "start_time": "2022-04-25T14:10:05.845Z"
   },
   {
    "duration": 6,
    "start_time": "2022-04-25T14:10:13.856Z"
   },
   {
    "duration": 7,
    "start_time": "2022-04-25T14:10:50.660Z"
   },
   {
    "duration": 8,
    "start_time": "2022-04-25T14:11:36.585Z"
   },
   {
    "duration": 8,
    "start_time": "2022-04-25T14:13:30.726Z"
   },
   {
    "duration": 5,
    "start_time": "2022-04-25T14:16:53.717Z"
   },
   {
    "duration": 6,
    "start_time": "2022-04-25T14:22:07.641Z"
   },
   {
    "duration": 5,
    "start_time": "2022-04-25T14:22:55.170Z"
   },
   {
    "duration": 5,
    "start_time": "2022-04-25T14:23:08.127Z"
   },
   {
    "duration": 6,
    "start_time": "2022-04-25T14:23:45.435Z"
   },
   {
    "duration": 6,
    "start_time": "2022-04-25T14:23:46.779Z"
   },
   {
    "duration": 7,
    "start_time": "2022-04-25T14:23:49.153Z"
   },
   {
    "duration": 8,
    "start_time": "2022-04-25T14:23:51.023Z"
   },
   {
    "duration": 8,
    "start_time": "2022-04-25T14:23:52.062Z"
   },
   {
    "duration": 4,
    "start_time": "2022-04-25T14:23:53.849Z"
   },
   {
    "duration": 5,
    "start_time": "2022-04-25T14:24:04.831Z"
   },
   {
    "duration": 6,
    "start_time": "2022-04-25T14:24:06.126Z"
   },
   {
    "duration": 6,
    "start_time": "2022-04-25T14:24:08.674Z"
   },
   {
    "duration": 11,
    "start_time": "2022-04-25T14:24:09.917Z"
   },
   {
    "duration": 8,
    "start_time": "2022-04-25T14:24:11.190Z"
   },
   {
    "duration": 5,
    "start_time": "2022-04-25T14:24:12.819Z"
   },
   {
    "duration": 5,
    "start_time": "2022-04-25T14:25:44.364Z"
   },
   {
    "duration": 10,
    "start_time": "2022-04-25T14:28:48.493Z"
   },
   {
    "duration": 282,
    "start_time": "2022-04-25T14:29:41.382Z"
   },
   {
    "duration": 21,
    "start_time": "2022-04-25T14:29:45.646Z"
   },
   {
    "duration": 4,
    "start_time": "2022-04-25T14:30:25.430Z"
   },
   {
    "duration": 11,
    "start_time": "2022-04-25T14:30:30.468Z"
   },
   {
    "duration": 11,
    "start_time": "2022-04-25T14:30:32.738Z"
   },
   {
    "duration": 2000,
    "start_time": "2022-04-25T16:54:25.929Z"
   },
   {
    "duration": 73,
    "start_time": "2022-04-25T16:54:27.931Z"
   },
   {
    "duration": 10,
    "start_time": "2022-04-25T16:54:28.006Z"
   },
   {
    "duration": 26,
    "start_time": "2022-04-25T16:54:28.018Z"
   },
   {
    "duration": 22,
    "start_time": "2022-04-25T16:54:28.045Z"
   },
   {
    "duration": 501,
    "start_time": "2022-04-25T16:54:28.069Z"
   },
   {
    "duration": 191,
    "start_time": "2022-04-25T16:54:28.572Z"
   },
   {
    "duration": 4,
    "start_time": "2022-04-25T16:54:28.765Z"
   },
   {
    "duration": 299,
    "start_time": "2022-04-25T16:54:28.771Z"
   },
   {
    "duration": 450,
    "start_time": "2022-04-25T16:54:29.072Z"
   },
   {
    "duration": 427,
    "start_time": "2022-04-25T16:54:29.524Z"
   },
   {
    "duration": 425,
    "start_time": "2022-04-25T16:54:29.953Z"
   },
   {
    "duration": 428,
    "start_time": "2022-04-25T16:54:30.380Z"
   },
   {
    "duration": 120,
    "start_time": "2022-04-25T16:54:30.809Z"
   },
   {
    "duration": 617,
    "start_time": "2022-04-25T16:54:30.933Z"
   },
   {
    "duration": 6,
    "start_time": "2022-04-25T16:54:31.559Z"
   },
   {
    "duration": 34,
    "start_time": "2022-04-25T16:54:31.567Z"
   },
   {
    "duration": 40,
    "start_time": "2022-04-25T16:54:31.604Z"
   },
   {
    "duration": 203,
    "start_time": "2022-04-25T16:54:31.647Z"
   },
   {
    "duration": 105,
    "start_time": "2022-04-25T16:54:31.851Z"
   },
   {
    "duration": 80,
    "start_time": "2022-04-25T16:54:31.958Z"
   },
   {
    "duration": 35,
    "start_time": "2022-04-25T16:54:32.046Z"
   },
   {
    "duration": 121,
    "start_time": "2022-04-25T16:54:32.154Z"
   },
   {
    "duration": 180,
    "start_time": "2022-04-25T17:07:40.726Z"
   },
   {
    "duration": 268,
    "start_time": "2022-04-25T17:07:52.858Z"
   },
   {
    "duration": 255,
    "start_time": "2022-04-25T17:08:04.945Z"
   },
   {
    "duration": 12,
    "start_time": "2022-04-25T17:39:27.110Z"
   },
   {
    "duration": 10,
    "start_time": "2022-04-25T17:39:30.630Z"
   },
   {
    "duration": 455,
    "start_time": "2022-04-25T17:39:33.719Z"
   },
   {
    "duration": 178,
    "start_time": "2022-04-25T17:39:37.045Z"
   },
   {
    "duration": 4,
    "start_time": "2022-04-25T17:39:42.733Z"
   },
   {
    "duration": 330,
    "start_time": "2022-04-25T17:39:46.898Z"
   },
   {
    "duration": 358,
    "start_time": "2022-04-25T17:39:49.828Z"
   },
   {
    "duration": 381,
    "start_time": "2022-04-25T17:39:52.562Z"
   },
   {
    "duration": 356,
    "start_time": "2022-04-25T17:39:55.770Z"
   },
   {
    "duration": 467,
    "start_time": "2022-04-25T17:39:57.993Z"
   },
   {
    "duration": 4,
    "start_time": "2022-04-25T17:40:03.561Z"
   },
   {
    "duration": 6,
    "start_time": "2022-04-25T17:40:05.215Z"
   },
   {
    "duration": 6,
    "start_time": "2022-04-25T17:40:11.023Z"
   },
   {
    "duration": 6,
    "start_time": "2022-04-25T17:40:12.431Z"
   },
   {
    "duration": 8,
    "start_time": "2022-04-25T17:40:13.742Z"
   },
   {
    "duration": 5,
    "start_time": "2022-04-25T17:40:15.750Z"
   },
   {
    "duration": 9,
    "start_time": "2022-04-25T17:40:20.886Z"
   },
   {
    "duration": 12,
    "start_time": "2022-04-25T17:40:22.541Z"
   },
   {
    "duration": 3447,
    "start_time": "2022-04-27T08:26:37.958Z"
   },
   {
    "duration": 104,
    "start_time": "2022-04-27T08:26:41.408Z"
   },
   {
    "duration": 14,
    "start_time": "2022-04-27T08:26:41.514Z"
   },
   {
    "duration": 20,
    "start_time": "2022-04-27T08:26:41.530Z"
   },
   {
    "duration": 37,
    "start_time": "2022-04-27T08:26:41.553Z"
   },
   {
    "duration": 655,
    "start_time": "2022-04-27T08:26:41.592Z"
   },
   {
    "duration": 343,
    "start_time": "2022-04-27T08:26:42.250Z"
   },
   {
    "duration": 8,
    "start_time": "2022-04-27T08:26:42.596Z"
   },
   {
    "duration": 437,
    "start_time": "2022-04-27T08:26:42.606Z"
   },
   {
    "duration": 624,
    "start_time": "2022-04-27T08:26:43.045Z"
   },
   {
    "duration": 678,
    "start_time": "2022-04-27T08:26:43.672Z"
   },
   {
    "duration": 761,
    "start_time": "2022-04-27T08:26:44.352Z"
   },
   {
    "duration": 577,
    "start_time": "2022-04-27T08:26:45.115Z"
   },
   {
    "duration": 7,
    "start_time": "2022-04-27T08:26:45.695Z"
   },
   {
    "duration": 8,
    "start_time": "2022-04-27T08:26:45.704Z"
   },
   {
    "duration": 73,
    "start_time": "2022-04-27T08:26:45.716Z"
   },
   {
    "duration": 91,
    "start_time": "2022-04-27T08:26:45.792Z"
   },
   {
    "duration": 103,
    "start_time": "2022-04-27T08:26:45.886Z"
   },
   {
    "duration": 101,
    "start_time": "2022-04-27T08:26:46.081Z"
   },
   {
    "duration": 22,
    "start_time": "2022-04-27T08:26:46.185Z"
   },
   {
    "duration": 176,
    "start_time": "2022-04-27T08:26:46.211Z"
   }
  ],
  "kernelspec": {
   "display_name": "Python 3 (ipykernel)",
   "language": "python",
   "name": "python3"
  },
  "language_info": {
   "codemirror_mode": {
    "name": "ipython",
    "version": 3
   },
   "file_extension": ".py",
   "mimetype": "text/x-python",
   "name": "python",
   "nbconvert_exporter": "python",
   "pygments_lexer": "ipython3",
   "version": "3.9.5"
  },
  "toc": {
   "base_numbering": 1,
   "nav_menu": {},
   "number_sections": true,
   "sideBar": true,
   "skip_h1_title": true,
   "title_cell": "Содержание",
   "title_sidebar": "Contents",
   "toc_cell": true,
   "toc_position": {
    "height": "calc(100% - 180px)",
    "left": "10px",
    "top": "150px",
    "width": "222.76px"
   },
   "toc_section_display": true,
   "toc_window_display": true
  }
 },
 "nbformat": 4,
 "nbformat_minor": 2
}
