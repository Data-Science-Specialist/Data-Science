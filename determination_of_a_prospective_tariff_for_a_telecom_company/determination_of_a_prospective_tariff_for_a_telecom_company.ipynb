{
 "cells": [
  {
   "cell_type": "markdown",
   "metadata": {},
   "source": [
    "# Определение перспективного тарифа для телеком-компании"
   ]
  },
  {
   "cell_type": "markdown",
   "metadata": {},
   "source": [
    "Изучим данные, предоставленные сервисом для проекта."
   ]
  },
  {
   "cell_type": "markdown",
   "metadata": {},
   "source": [
    "## Шаг. Открыть файл с данными и изучить общую информацию."
   ]
  },
  {
   "cell_type": "code",
   "execution_count": 2,
   "metadata": {},
   "outputs": [],
   "source": [
    "#импортируем необходимые библиотеки\n",
    "import pandas as pd\n",
    "import numpy as np\n",
    "from scipy import stats as st\n",
    "import matplotlib.pyplot as plt\n",
    "import seaborn as sns\n",
    "\n",
    "#сохраняем каждый файл в датафрейм с соответствующим названием\n",
    "calls = pd.read_csv('/datasets/calls.csv')\n",
    "internet = pd.read_csv('/datasets/internet.csv')\n",
    "messages = pd.read_csv('/datasets/messages.csv')\n",
    "tariffs = pd.read_csv('/datasets/tariffs.csv')\n",
    "users = pd.read_csv('/datasets/users.csv')"
   ]
  },
  {
   "cell_type": "markdown",
   "metadata": {},
   "source": [
    "Откроем каждый датафрейм и посторим на первые пять строк и общую информацию о нём."
   ]
  },
  {
   "cell_type": "code",
   "execution_count": 71,
   "metadata": {},
   "outputs": [
    {
     "data": {
      "text/html": [
       "<div>\n",
       "<style scoped>\n",
       "    .dataframe tbody tr th:only-of-type {\n",
       "        vertical-align: middle;\n",
       "    }\n",
       "\n",
       "    .dataframe tbody tr th {\n",
       "        vertical-align: top;\n",
       "    }\n",
       "\n",
       "    .dataframe thead th {\n",
       "        text-align: right;\n",
       "    }\n",
       "</style>\n",
       "<table border=\"1\" class=\"dataframe\">\n",
       "  <thead>\n",
       "    <tr style=\"text-align: right;\">\n",
       "      <th></th>\n",
       "      <th>id</th>\n",
       "      <th>call_date</th>\n",
       "      <th>duration</th>\n",
       "      <th>user_id</th>\n",
       "      <th>month</th>\n",
       "    </tr>\n",
       "  </thead>\n",
       "  <tbody>\n",
       "    <tr>\n",
       "      <td>0</td>\n",
       "      <td>1000_0</td>\n",
       "      <td>2018-07-25</td>\n",
       "      <td>0</td>\n",
       "      <td>1000</td>\n",
       "      <td>7</td>\n",
       "    </tr>\n",
       "    <tr>\n",
       "      <td>1</td>\n",
       "      <td>1000_1</td>\n",
       "      <td>2018-08-17</td>\n",
       "      <td>0</td>\n",
       "      <td>1000</td>\n",
       "      <td>8</td>\n",
       "    </tr>\n",
       "    <tr>\n",
       "      <td>2</td>\n",
       "      <td>1000_2</td>\n",
       "      <td>2018-06-11</td>\n",
       "      <td>3</td>\n",
       "      <td>1000</td>\n",
       "      <td>6</td>\n",
       "    </tr>\n",
       "    <tr>\n",
       "      <td>3</td>\n",
       "      <td>1000_3</td>\n",
       "      <td>2018-09-21</td>\n",
       "      <td>14</td>\n",
       "      <td>1000</td>\n",
       "      <td>9</td>\n",
       "    </tr>\n",
       "    <tr>\n",
       "      <td>4</td>\n",
       "      <td>1000_4</td>\n",
       "      <td>2018-12-15</td>\n",
       "      <td>6</td>\n",
       "      <td>1000</td>\n",
       "      <td>12</td>\n",
       "    </tr>\n",
       "  </tbody>\n",
       "</table>\n",
       "</div>"
      ],
      "text/plain": [
       "       id   call_date  duration  user_id  month\n",
       "0  1000_0  2018-07-25         0     1000      7\n",
       "1  1000_1  2018-08-17         0     1000      8\n",
       "2  1000_2  2018-06-11         3     1000      6\n",
       "3  1000_3  2018-09-21        14     1000      9\n",
       "4  1000_4  2018-12-15         6     1000     12"
      ]
     },
     "metadata": {},
     "output_type": "display_data"
    },
    {
     "name": "stdout",
     "output_type": "stream",
     "text": [
      "<class 'pandas.core.frame.DataFrame'>\n",
      "RangeIndex: 202607 entries, 0 to 202606\n",
      "Data columns (total 5 columns):\n",
      "id           202607 non-null object\n",
      "call_date    202607 non-null object\n",
      "duration     202607 non-null int64\n",
      "user_id      202607 non-null int64\n",
      "month        202607 non-null int64\n",
      "dtypes: int64(3), object(2)\n",
      "memory usage: 7.7+ MB\n"
     ]
    },
    {
     "data": {
      "text/plain": [
       "None"
      ]
     },
     "metadata": {},
     "output_type": "display_data"
    },
    {
     "data": {
      "text/html": [
       "<div>\n",
       "<style scoped>\n",
       "    .dataframe tbody tr th:only-of-type {\n",
       "        vertical-align: middle;\n",
       "    }\n",
       "\n",
       "    .dataframe tbody tr th {\n",
       "        vertical-align: top;\n",
       "    }\n",
       "\n",
       "    .dataframe thead th {\n",
       "        text-align: right;\n",
       "    }\n",
       "</style>\n",
       "<table border=\"1\" class=\"dataframe\">\n",
       "  <thead>\n",
       "    <tr style=\"text-align: right;\">\n",
       "      <th></th>\n",
       "      <th>Unnamed: 0</th>\n",
       "      <th>id</th>\n",
       "      <th>mb_used</th>\n",
       "      <th>session_date</th>\n",
       "      <th>user_id</th>\n",
       "      <th>month</th>\n",
       "    </tr>\n",
       "  </thead>\n",
       "  <tbody>\n",
       "    <tr>\n",
       "      <td>0</td>\n",
       "      <td>0</td>\n",
       "      <td>1000_0</td>\n",
       "      <td>112</td>\n",
       "      <td>2018-11-25</td>\n",
       "      <td>1000</td>\n",
       "      <td>11</td>\n",
       "    </tr>\n",
       "    <tr>\n",
       "      <td>1</td>\n",
       "      <td>1</td>\n",
       "      <td>1000_1</td>\n",
       "      <td>1052</td>\n",
       "      <td>2018-09-07</td>\n",
       "      <td>1000</td>\n",
       "      <td>9</td>\n",
       "    </tr>\n",
       "    <tr>\n",
       "      <td>2</td>\n",
       "      <td>2</td>\n",
       "      <td>1000_2</td>\n",
       "      <td>1197</td>\n",
       "      <td>2018-06-25</td>\n",
       "      <td>1000</td>\n",
       "      <td>6</td>\n",
       "    </tr>\n",
       "    <tr>\n",
       "      <td>3</td>\n",
       "      <td>3</td>\n",
       "      <td>1000_3</td>\n",
       "      <td>550</td>\n",
       "      <td>2018-08-22</td>\n",
       "      <td>1000</td>\n",
       "      <td>8</td>\n",
       "    </tr>\n",
       "    <tr>\n",
       "      <td>4</td>\n",
       "      <td>4</td>\n",
       "      <td>1000_4</td>\n",
       "      <td>302</td>\n",
       "      <td>2018-09-24</td>\n",
       "      <td>1000</td>\n",
       "      <td>9</td>\n",
       "    </tr>\n",
       "  </tbody>\n",
       "</table>\n",
       "</div>"
      ],
      "text/plain": [
       "   Unnamed: 0      id  mb_used session_date  user_id  month\n",
       "0           0  1000_0      112   2018-11-25     1000     11\n",
       "1           1  1000_1     1052   2018-09-07     1000      9\n",
       "2           2  1000_2     1197   2018-06-25     1000      6\n",
       "3           3  1000_3      550   2018-08-22     1000      8\n",
       "4           4  1000_4      302   2018-09-24     1000      9"
      ]
     },
     "metadata": {},
     "output_type": "display_data"
    },
    {
     "name": "stdout",
     "output_type": "stream",
     "text": [
      "<class 'pandas.core.frame.DataFrame'>\n",
      "RangeIndex: 149396 entries, 0 to 149395\n",
      "Data columns (total 6 columns):\n",
      "Unnamed: 0      149396 non-null int64\n",
      "id              149396 non-null object\n",
      "mb_used         149396 non-null int64\n",
      "session_date    149396 non-null object\n",
      "user_id         149396 non-null int64\n",
      "month           149396 non-null int64\n",
      "dtypes: int64(4), object(2)\n",
      "memory usage: 6.8+ MB\n"
     ]
    },
    {
     "data": {
      "text/plain": [
       "None"
      ]
     },
     "metadata": {},
     "output_type": "display_data"
    },
    {
     "data": {
      "text/html": [
       "<div>\n",
       "<style scoped>\n",
       "    .dataframe tbody tr th:only-of-type {\n",
       "        vertical-align: middle;\n",
       "    }\n",
       "\n",
       "    .dataframe tbody tr th {\n",
       "        vertical-align: top;\n",
       "    }\n",
       "\n",
       "    .dataframe thead th {\n",
       "        text-align: right;\n",
       "    }\n",
       "</style>\n",
       "<table border=\"1\" class=\"dataframe\">\n",
       "  <thead>\n",
       "    <tr style=\"text-align: right;\">\n",
       "      <th></th>\n",
       "      <th>id</th>\n",
       "      <th>message_date</th>\n",
       "      <th>user_id</th>\n",
       "      <th>month</th>\n",
       "    </tr>\n",
       "  </thead>\n",
       "  <tbody>\n",
       "    <tr>\n",
       "      <td>0</td>\n",
       "      <td>1000_0</td>\n",
       "      <td>2018-06-27</td>\n",
       "      <td>1000</td>\n",
       "      <td>6</td>\n",
       "    </tr>\n",
       "    <tr>\n",
       "      <td>1</td>\n",
       "      <td>1000_1</td>\n",
       "      <td>2018-10-08</td>\n",
       "      <td>1000</td>\n",
       "      <td>10</td>\n",
       "    </tr>\n",
       "    <tr>\n",
       "      <td>2</td>\n",
       "      <td>1000_2</td>\n",
       "      <td>2018-08-04</td>\n",
       "      <td>1000</td>\n",
       "      <td>8</td>\n",
       "    </tr>\n",
       "    <tr>\n",
       "      <td>3</td>\n",
       "      <td>1000_3</td>\n",
       "      <td>2018-06-16</td>\n",
       "      <td>1000</td>\n",
       "      <td>6</td>\n",
       "    </tr>\n",
       "    <tr>\n",
       "      <td>4</td>\n",
       "      <td>1000_4</td>\n",
       "      <td>2018-12-05</td>\n",
       "      <td>1000</td>\n",
       "      <td>12</td>\n",
       "    </tr>\n",
       "  </tbody>\n",
       "</table>\n",
       "</div>"
      ],
      "text/plain": [
       "       id message_date  user_id  month\n",
       "0  1000_0   2018-06-27     1000      6\n",
       "1  1000_1   2018-10-08     1000     10\n",
       "2  1000_2   2018-08-04     1000      8\n",
       "3  1000_3   2018-06-16     1000      6\n",
       "4  1000_4   2018-12-05     1000     12"
      ]
     },
     "metadata": {},
     "output_type": "display_data"
    },
    {
     "name": "stdout",
     "output_type": "stream",
     "text": [
      "<class 'pandas.core.frame.DataFrame'>\n",
      "RangeIndex: 123036 entries, 0 to 123035\n",
      "Data columns (total 4 columns):\n",
      "id              123036 non-null object\n",
      "message_date    123036 non-null object\n",
      "user_id         123036 non-null int64\n",
      "month           123036 non-null int64\n",
      "dtypes: int64(2), object(2)\n",
      "memory usage: 3.8+ MB\n"
     ]
    },
    {
     "data": {
      "text/plain": [
       "None"
      ]
     },
     "metadata": {},
     "output_type": "display_data"
    },
    {
     "data": {
      "text/html": [
       "<div>\n",
       "<style scoped>\n",
       "    .dataframe tbody tr th:only-of-type {\n",
       "        vertical-align: middle;\n",
       "    }\n",
       "\n",
       "    .dataframe tbody tr th {\n",
       "        vertical-align: top;\n",
       "    }\n",
       "\n",
       "    .dataframe thead th {\n",
       "        text-align: right;\n",
       "    }\n",
       "</style>\n",
       "<table border=\"1\" class=\"dataframe\">\n",
       "  <thead>\n",
       "    <tr style=\"text-align: right;\">\n",
       "      <th></th>\n",
       "      <th>messages_included</th>\n",
       "      <th>mb_per_month_included</th>\n",
       "      <th>minutes_included</th>\n",
       "      <th>rub_monthly_fee</th>\n",
       "      <th>rub_per_gb</th>\n",
       "      <th>rub_per_message</th>\n",
       "      <th>rub_per_minute</th>\n",
       "      <th>tariff</th>\n",
       "    </tr>\n",
       "  </thead>\n",
       "  <tbody>\n",
       "    <tr>\n",
       "      <td>0</td>\n",
       "      <td>50</td>\n",
       "      <td>15360</td>\n",
       "      <td>500</td>\n",
       "      <td>550</td>\n",
       "      <td>200</td>\n",
       "      <td>3</td>\n",
       "      <td>3</td>\n",
       "      <td>smart</td>\n",
       "    </tr>\n",
       "    <tr>\n",
       "      <td>1</td>\n",
       "      <td>1000</td>\n",
       "      <td>30720</td>\n",
       "      <td>3000</td>\n",
       "      <td>1950</td>\n",
       "      <td>150</td>\n",
       "      <td>1</td>\n",
       "      <td>1</td>\n",
       "      <td>ultra</td>\n",
       "    </tr>\n",
       "  </tbody>\n",
       "</table>\n",
       "</div>"
      ],
      "text/plain": [
       "   messages_included  mb_per_month_included  minutes_included  \\\n",
       "0                 50                  15360               500   \n",
       "1               1000                  30720              3000   \n",
       "\n",
       "   rub_monthly_fee  rub_per_gb  rub_per_message  rub_per_minute tariff  \n",
       "0              550         200                3               3  smart  \n",
       "1             1950         150                1               1  ultra  "
      ]
     },
     "metadata": {},
     "output_type": "display_data"
    },
    {
     "name": "stdout",
     "output_type": "stream",
     "text": [
      "<class 'pandas.core.frame.DataFrame'>\n",
      "RangeIndex: 2 entries, 0 to 1\n",
      "Data columns (total 8 columns):\n",
      "messages_included        2 non-null int64\n",
      "mb_per_month_included    2 non-null int64\n",
      "minutes_included         2 non-null int64\n",
      "rub_monthly_fee          2 non-null int64\n",
      "rub_per_gb               2 non-null int64\n",
      "rub_per_message          2 non-null int64\n",
      "rub_per_minute           2 non-null int64\n",
      "tariff                   2 non-null object\n",
      "dtypes: int64(7), object(1)\n",
      "memory usage: 256.0+ bytes\n"
     ]
    },
    {
     "data": {
      "text/plain": [
       "None"
      ]
     },
     "metadata": {},
     "output_type": "display_data"
    },
    {
     "data": {
      "text/html": [
       "<div>\n",
       "<style scoped>\n",
       "    .dataframe tbody tr th:only-of-type {\n",
       "        vertical-align: middle;\n",
       "    }\n",
       "\n",
       "    .dataframe tbody tr th {\n",
       "        vertical-align: top;\n",
       "    }\n",
       "\n",
       "    .dataframe thead th {\n",
       "        text-align: right;\n",
       "    }\n",
       "</style>\n",
       "<table border=\"1\" class=\"dataframe\">\n",
       "  <thead>\n",
       "    <tr style=\"text-align: right;\">\n",
       "      <th></th>\n",
       "      <th>user_id</th>\n",
       "      <th>city</th>\n",
       "      <th>tariff</th>\n",
       "    </tr>\n",
       "  </thead>\n",
       "  <tbody>\n",
       "    <tr>\n",
       "      <td>0</td>\n",
       "      <td>1000</td>\n",
       "      <td>Краснодар</td>\n",
       "      <td>ultra</td>\n",
       "    </tr>\n",
       "    <tr>\n",
       "      <td>1</td>\n",
       "      <td>1001</td>\n",
       "      <td>Москва</td>\n",
       "      <td>smart</td>\n",
       "    </tr>\n",
       "    <tr>\n",
       "      <td>2</td>\n",
       "      <td>1002</td>\n",
       "      <td>Стерлитамак</td>\n",
       "      <td>smart</td>\n",
       "    </tr>\n",
       "    <tr>\n",
       "      <td>3</td>\n",
       "      <td>1003</td>\n",
       "      <td>Москва</td>\n",
       "      <td>ultra</td>\n",
       "    </tr>\n",
       "    <tr>\n",
       "      <td>4</td>\n",
       "      <td>1004</td>\n",
       "      <td>Новокузнецк</td>\n",
       "      <td>ultra</td>\n",
       "    </tr>\n",
       "  </tbody>\n",
       "</table>\n",
       "</div>"
      ],
      "text/plain": [
       "   user_id         city tariff\n",
       "0     1000    Краснодар  ultra\n",
       "1     1001       Москва  smart\n",
       "2     1002  Стерлитамак  smart\n",
       "3     1003       Москва  ultra\n",
       "4     1004  Новокузнецк  ultra"
      ]
     },
     "metadata": {},
     "output_type": "display_data"
    },
    {
     "name": "stdout",
     "output_type": "stream",
     "text": [
      "<class 'pandas.core.frame.DataFrame'>\n",
      "RangeIndex: 500 entries, 0 to 499\n",
      "Data columns (total 3 columns):\n",
      "user_id    500 non-null int64\n",
      "city       500 non-null object\n",
      "tariff     500 non-null object\n",
      "dtypes: int64(1), object(2)\n",
      "memory usage: 11.8+ KB\n"
     ]
    },
    {
     "data": {
      "text/plain": [
       "None"
      ]
     },
     "metadata": {},
     "output_type": "display_data"
    },
    {
     "data": {
      "text/plain": [
       "None"
      ]
     },
     "metadata": {},
     "output_type": "display_data"
    }
   ],
   "source": [
    "#откроем все датасеты одной функцией.\n",
    "def info_df(calls, internet, messages, tariffs, users): #на вход функция принимает все датасеты сразу\n",
    "    df_all = [calls, internet, messages, tariffs, users]\n",
    "    for i in df_all:\n",
    "        display(i.head()) #и выводит нужную нам информацию  них\n",
    "        display(i.info())\n",
    "             \n",
    "       \n",
    "display(info_df(calls, internet, messages, tariffs, users))"
   ]
  },
  {
   "cell_type": "markdown",
   "metadata": {},
   "source": [
    "Синтаксических и стилистических нарушений в написании столбцов не обнаружено. В датафрейме users видны пропуски в значениях столбца churn_date. Посмотрим каждый датафрейм методом .info()"
   ]
  },
  {
   "cell_type": "markdown",
   "metadata": {},
   "source": [
    "Во всех датафремах значения одинаковы, кроме users - значение в столбце churn_date снамного меньше, чем во всех остальных. Значения в столбце duration датафрейма calls и столбце mb_used в датафрейме internet представлены типом float64. Судя из описания проекта, значения этих столбцов необходимо округлить в потолок и перевести в целочисленный тип данных. Обратимся к описанию данных датафреймов."
   ]
  },
  {
   "cell_type": "markdown",
   "metadata": {},
   "source": [
    "<div>\n",
    "    <body>\n",
    "<b>Таблица users (информация о пользователях)</b>:<br/>\n",
    "user_id — уникальный идентификатор пользователя,<br/>\n",
    "first_name — имя пользователя,<br/>\n",
    "last_name — фамилия пользователя,<br/>\n",
    "age — возраст пользователя (годы),<br/>\n",
    "reg_date — дата подключения тарифа (день, месяц, год),<br/>\n",
    "churn_date — дата прекращения пользования тарифом (если значение пропущено, то тариф ещё действовал на момент выгрузки данных),<br/>\n",
    "city — город проживания пользователя,<br/>\n",
    "tarif — название тарифного плана.<br/>\n",
    "\n",
    "<b>Таблица calls (информация о звонках)</b>:<br/>\n",
    "id — уникальный номер звонка,<br/>\n",
    "call_date — дата звонка,<br/>\n",
    "duration — длительность звонка в минутах,<br/>\n",
    "user_id — идентификатор пользователя, сделавшего звонок.<br/>\n",
    "\n",
    "<b>Таблица messages (информация о сообщениях)</b>:<br/>\n",
    "id — уникальный номер сообщения,<br/>\n",
    "message_date — дата сообщения,<br/>\n",
    "user_id — идентификатор пользователя, отправившего сообщение.<br/>\n",
    "\n",
    "<b>Таблица internet (информация об интернет-сессиях)</b>:<br/>\n",
    "id — уникальный номер сессии<br/>\n",
    "mb_used — объём потраченного за сессию интернет-трафика (в мегабайтах)<br/>\n",
    "session_date — дата интернет-сессии<br/>\n",
    "user_id — идентификатор пользователя<br/>\n",
    "\n",
    "<b>Таблица tariffs (информация о тарифах)</b>:<br/>\n",
    "tariff_name — название тарифа<br/>\n",
    "rub_monthly_fee — ежемесячная абонентская плата в рублях<br/>\n",
    "minutes_included — количество минут разговора в месяц, включённых в абонентскую плату<br/>\n",
    "messages_included — количество сообщений в месяц, включённых в абонентскую плату<br/>\n",
    "mb_per_month_included — объём интернет-трафика, включённого в абонентскую плату (в мегабайтах)<br/>\n",
    "rub_per_minute — стоимость минуты разговора сверх тарифного пакета (например, если в тарифе 100 минут разговора в месяц, то со 101 минуты будет взиматься плата)<br/>\n",
    "rub_per_message — стоимость отправки сообщения сверх тарифного пакета<br/>\n",
    "rub_per_gb — стоимость дополнительного гигабайта интернет-трафика сверх тарифного пакета (1 гигабайт = 1024 мегабайта)<br/>\n",
    "    </body>\n",
    "    </div>"
   ]
  },
  {
   "cell_type": "markdown",
   "metadata": {},
   "source": [
    "**Вывод**"
   ]
  },
  {
   "cell_type": "markdown",
   "metadata": {},
   "source": [
    "Таким образом, стоит округлить и привести указанные данные в целочисленный тип. Пропуски в столбце churn_date заменять не будем, поскольку в описании - это действующий тариф. Соответственно оставим как есть."
   ]
  },
  {
   "cell_type": "markdown",
   "metadata": {},
   "source": [
    "## Шаг. Предобработка данных."
   ]
  },
  {
   "cell_type": "markdown",
   "metadata": {},
   "source": [
    "### Привести данные к нужным типам."
   ]
  },
  {
   "cell_type": "code",
   "execution_count": 14,
   "metadata": {},
   "outputs": [
    {
     "data": {
      "text/html": [
       "<div>\n",
       "<style scoped>\n",
       "    .dataframe tbody tr th:only-of-type {\n",
       "        vertical-align: middle;\n",
       "    }\n",
       "\n",
       "    .dataframe tbody tr th {\n",
       "        vertical-align: top;\n",
       "    }\n",
       "\n",
       "    .dataframe thead th {\n",
       "        text-align: right;\n",
       "    }\n",
       "</style>\n",
       "<table border=\"1\" class=\"dataframe\">\n",
       "  <thead>\n",
       "    <tr style=\"text-align: right;\">\n",
       "      <th></th>\n",
       "      <th>id</th>\n",
       "      <th>call_date</th>\n",
       "      <th>duration</th>\n",
       "      <th>user_id</th>\n",
       "    </tr>\n",
       "  </thead>\n",
       "  <tbody>\n",
       "    <tr>\n",
       "      <td>0</td>\n",
       "      <td>1000_0</td>\n",
       "      <td>2018-07-25</td>\n",
       "      <td>0</td>\n",
       "      <td>1000</td>\n",
       "    </tr>\n",
       "    <tr>\n",
       "      <td>1</td>\n",
       "      <td>1000_1</td>\n",
       "      <td>2018-08-17</td>\n",
       "      <td>0</td>\n",
       "      <td>1000</td>\n",
       "    </tr>\n",
       "    <tr>\n",
       "      <td>2</td>\n",
       "      <td>1000_2</td>\n",
       "      <td>2018-06-11</td>\n",
       "      <td>3</td>\n",
       "      <td>1000</td>\n",
       "    </tr>\n",
       "    <tr>\n",
       "      <td>3</td>\n",
       "      <td>1000_3</td>\n",
       "      <td>2018-09-21</td>\n",
       "      <td>14</td>\n",
       "      <td>1000</td>\n",
       "    </tr>\n",
       "    <tr>\n",
       "      <td>4</td>\n",
       "      <td>1000_4</td>\n",
       "      <td>2018-12-15</td>\n",
       "      <td>6</td>\n",
       "      <td>1000</td>\n",
       "    </tr>\n",
       "  </tbody>\n",
       "</table>\n",
       "</div>"
      ],
      "text/plain": [
       "       id   call_date  duration  user_id\n",
       "0  1000_0  2018-07-25         0     1000\n",
       "1  1000_1  2018-08-17         0     1000\n",
       "2  1000_2  2018-06-11         3     1000\n",
       "3  1000_3  2018-09-21        14     1000\n",
       "4  1000_4  2018-12-15         6     1000"
      ]
     },
     "execution_count": 14,
     "metadata": {},
     "output_type": "execute_result"
    }
   ],
   "source": [
    "#округляем в потолок и приводим в целочисленный тип столбец duration датафрейма calls\n",
    "calls['duration'] = (np.ceil(calls['duration'])).astype('int')\n",
    "calls.head()"
   ]
  },
  {
   "cell_type": "code",
   "execution_count": 15,
   "metadata": {},
   "outputs": [
    {
     "data": {
      "text/html": [
       "<div>\n",
       "<style scoped>\n",
       "    .dataframe tbody tr th:only-of-type {\n",
       "        vertical-align: middle;\n",
       "    }\n",
       "\n",
       "    .dataframe tbody tr th {\n",
       "        vertical-align: top;\n",
       "    }\n",
       "\n",
       "    .dataframe thead th {\n",
       "        text-align: right;\n",
       "    }\n",
       "</style>\n",
       "<table border=\"1\" class=\"dataframe\">\n",
       "  <thead>\n",
       "    <tr style=\"text-align: right;\">\n",
       "      <th></th>\n",
       "      <th>Unnamed: 0</th>\n",
       "      <th>id</th>\n",
       "      <th>mb_used</th>\n",
       "      <th>session_date</th>\n",
       "      <th>user_id</th>\n",
       "    </tr>\n",
       "  </thead>\n",
       "  <tbody>\n",
       "    <tr>\n",
       "      <td>0</td>\n",
       "      <td>0</td>\n",
       "      <td>1000_0</td>\n",
       "      <td>112</td>\n",
       "      <td>2018-11-25</td>\n",
       "      <td>1000</td>\n",
       "    </tr>\n",
       "    <tr>\n",
       "      <td>1</td>\n",
       "      <td>1</td>\n",
       "      <td>1000_1</td>\n",
       "      <td>1052</td>\n",
       "      <td>2018-09-07</td>\n",
       "      <td>1000</td>\n",
       "    </tr>\n",
       "    <tr>\n",
       "      <td>2</td>\n",
       "      <td>2</td>\n",
       "      <td>1000_2</td>\n",
       "      <td>1197</td>\n",
       "      <td>2018-06-25</td>\n",
       "      <td>1000</td>\n",
       "    </tr>\n",
       "    <tr>\n",
       "      <td>3</td>\n",
       "      <td>3</td>\n",
       "      <td>1000_3</td>\n",
       "      <td>550</td>\n",
       "      <td>2018-08-22</td>\n",
       "      <td>1000</td>\n",
       "    </tr>\n",
       "    <tr>\n",
       "      <td>4</td>\n",
       "      <td>4</td>\n",
       "      <td>1000_4</td>\n",
       "      <td>302</td>\n",
       "      <td>2018-09-24</td>\n",
       "      <td>1000</td>\n",
       "    </tr>\n",
       "  </tbody>\n",
       "</table>\n",
       "</div>"
      ],
      "text/plain": [
       "   Unnamed: 0      id  mb_used session_date  user_id\n",
       "0           0  1000_0      112   2018-11-25     1000\n",
       "1           1  1000_1     1052   2018-09-07     1000\n",
       "2           2  1000_2     1197   2018-06-25     1000\n",
       "3           3  1000_3      550   2018-08-22     1000\n",
       "4           4  1000_4      302   2018-09-24     1000"
      ]
     },
     "execution_count": 15,
     "metadata": {},
     "output_type": "execute_result"
    }
   ],
   "source": [
    "#приводим в целочисленный тип столбец mb_used датафрейма internet\n",
    "internet['mb_used'] = (internet['mb_used']).astype('int')\n",
    "internet.head()"
   ]
  },
  {
   "cell_type": "markdown",
   "metadata": {},
   "source": [
    "### Найти и исправить ошибки в данных."
   ]
  },
  {
   "cell_type": "markdown",
   "metadata": {},
   "source": [
    "Когда просматривали все датафреймы, было видно, что есть сведения о тарифах. Но в разных датафреймах он названы по разному. Поскольку нам предстоит объединять датафремы, следует и назвать эти столбцы одинаково."
   ]
  },
  {
   "cell_type": "code",
   "execution_count": 16,
   "metadata": {},
   "outputs": [
    {
     "data": {
      "text/html": [
       "<div>\n",
       "<style scoped>\n",
       "    .dataframe tbody tr th:only-of-type {\n",
       "        vertical-align: middle;\n",
       "    }\n",
       "\n",
       "    .dataframe tbody tr th {\n",
       "        vertical-align: top;\n",
       "    }\n",
       "\n",
       "    .dataframe thead th {\n",
       "        text-align: right;\n",
       "    }\n",
       "</style>\n",
       "<table border=\"1\" class=\"dataframe\">\n",
       "  <thead>\n",
       "    <tr style=\"text-align: right;\">\n",
       "      <th></th>\n",
       "      <th>messages_included</th>\n",
       "      <th>mb_per_month_included</th>\n",
       "      <th>minutes_included</th>\n",
       "      <th>rub_monthly_fee</th>\n",
       "      <th>rub_per_gb</th>\n",
       "      <th>rub_per_message</th>\n",
       "      <th>rub_per_minute</th>\n",
       "      <th>tariff</th>\n",
       "    </tr>\n",
       "  </thead>\n",
       "  <tbody>\n",
       "    <tr>\n",
       "      <td>0</td>\n",
       "      <td>50</td>\n",
       "      <td>15360</td>\n",
       "      <td>500</td>\n",
       "      <td>550</td>\n",
       "      <td>200</td>\n",
       "      <td>3</td>\n",
       "      <td>3</td>\n",
       "      <td>smart</td>\n",
       "    </tr>\n",
       "    <tr>\n",
       "      <td>1</td>\n",
       "      <td>1000</td>\n",
       "      <td>30720</td>\n",
       "      <td>3000</td>\n",
       "      <td>1950</td>\n",
       "      <td>150</td>\n",
       "      <td>1</td>\n",
       "      <td>1</td>\n",
       "      <td>ultra</td>\n",
       "    </tr>\n",
       "  </tbody>\n",
       "</table>\n",
       "</div>"
      ],
      "text/plain": [
       "   messages_included  mb_per_month_included  minutes_included  \\\n",
       "0                 50                  15360               500   \n",
       "1               1000                  30720              3000   \n",
       "\n",
       "   rub_monthly_fee  rub_per_gb  rub_per_message  rub_per_minute tariff  \n",
       "0              550         200                3               3  smart  \n",
       "1             1950         150                1               1  ultra  "
      ]
     },
     "execution_count": 16,
     "metadata": {},
     "output_type": "execute_result"
    }
   ],
   "source": [
    "#переименовываем столбец\n",
    "tariffs = tariffs.rename(columns={'tariff_name':'tariff'})\n",
    "tariffs"
   ]
  },
  {
   "cell_type": "markdown",
   "metadata": {},
   "source": [
    "### Необходимо посчитать для каждого пользователя:"
   ]
  },
  {
   "cell_type": "markdown",
   "metadata": {},
   "source": [
    "#### Количество сделанных звонков и израсходованных минут разговора по месяцам."
   ]
  },
  {
   "cell_type": "markdown",
   "metadata": {},
   "source": [
    "Подготовим данные для дальнейших подсчётов."
   ]
  },
  {
   "cell_type": "code",
   "execution_count": 17,
   "metadata": {},
   "outputs": [
    {
     "data": {
      "text/html": [
       "<div>\n",
       "<style scoped>\n",
       "    .dataframe tbody tr th:only-of-type {\n",
       "        vertical-align: middle;\n",
       "    }\n",
       "\n",
       "    .dataframe tbody tr th {\n",
       "        vertical-align: top;\n",
       "    }\n",
       "\n",
       "    .dataframe thead th {\n",
       "        text-align: right;\n",
       "    }\n",
       "</style>\n",
       "<table border=\"1\" class=\"dataframe\">\n",
       "  <thead>\n",
       "    <tr style=\"text-align: right;\">\n",
       "      <th></th>\n",
       "      <th>id</th>\n",
       "      <th>call_date</th>\n",
       "      <th>duration</th>\n",
       "      <th>user_id</th>\n",
       "      <th>month</th>\n",
       "    </tr>\n",
       "  </thead>\n",
       "  <tbody>\n",
       "    <tr>\n",
       "      <td>0</td>\n",
       "      <td>1000_0</td>\n",
       "      <td>2018-07-25</td>\n",
       "      <td>0</td>\n",
       "      <td>1000</td>\n",
       "      <td>7</td>\n",
       "    </tr>\n",
       "    <tr>\n",
       "      <td>1</td>\n",
       "      <td>1000_1</td>\n",
       "      <td>2018-08-17</td>\n",
       "      <td>0</td>\n",
       "      <td>1000</td>\n",
       "      <td>8</td>\n",
       "    </tr>\n",
       "    <tr>\n",
       "      <td>2</td>\n",
       "      <td>1000_2</td>\n",
       "      <td>2018-06-11</td>\n",
       "      <td>3</td>\n",
       "      <td>1000</td>\n",
       "      <td>6</td>\n",
       "    </tr>\n",
       "    <tr>\n",
       "      <td>3</td>\n",
       "      <td>1000_3</td>\n",
       "      <td>2018-09-21</td>\n",
       "      <td>14</td>\n",
       "      <td>1000</td>\n",
       "      <td>9</td>\n",
       "    </tr>\n",
       "    <tr>\n",
       "      <td>4</td>\n",
       "      <td>1000_4</td>\n",
       "      <td>2018-12-15</td>\n",
       "      <td>6</td>\n",
       "      <td>1000</td>\n",
       "      <td>12</td>\n",
       "    </tr>\n",
       "  </tbody>\n",
       "</table>\n",
       "</div>"
      ],
      "text/plain": [
       "       id   call_date  duration  user_id  month\n",
       "0  1000_0  2018-07-25         0     1000      7\n",
       "1  1000_1  2018-08-17         0     1000      8\n",
       "2  1000_2  2018-06-11         3     1000      6\n",
       "3  1000_3  2018-09-21        14     1000      9\n",
       "4  1000_4  2018-12-15         6     1000     12"
      ]
     },
     "execution_count": 17,
     "metadata": {},
     "output_type": "execute_result"
    }
   ],
   "source": [
    "calls['month'] = pd.DatetimeIndex(calls['call_date']).month #выделим месяц\n",
    "calls.head()"
   ]
  },
  {
   "cell_type": "code",
   "execution_count": 18,
   "metadata": {
    "scrolled": true
   },
   "outputs": [
    {
     "name": "stdout",
     "output_type": "stream",
     "text": [
      "<class 'pandas.core.frame.DataFrame'>\n",
      "RangeIndex: 202607 entries, 0 to 202606\n",
      "Data columns (total 5 columns):\n",
      "id           202607 non-null object\n",
      "call_date    202607 non-null object\n",
      "duration     202607 non-null int64\n",
      "user_id      202607 non-null int64\n",
      "month        202607 non-null int64\n",
      "dtypes: int64(3), object(2)\n",
      "memory usage: 7.7+ MB\n"
     ]
    }
   ],
   "source": [
    "#проверим тип данныхх у новых столбцов\n",
    "calls.info()"
   ]
  },
  {
   "cell_type": "code",
   "execution_count": 19,
   "metadata": {},
   "outputs": [
    {
     "data": {
      "text/html": [
       "<div>\n",
       "<style scoped>\n",
       "    .dataframe tbody tr th:only-of-type {\n",
       "        vertical-align: middle;\n",
       "    }\n",
       "\n",
       "    .dataframe tbody tr th {\n",
       "        vertical-align: top;\n",
       "    }\n",
       "\n",
       "    .dataframe thead th {\n",
       "        text-align: right;\n",
       "    }\n",
       "</style>\n",
       "<table border=\"1\" class=\"dataframe\">\n",
       "  <thead>\n",
       "    <tr style=\"text-align: right;\">\n",
       "      <th></th>\n",
       "      <th>user_id</th>\n",
       "      <th>month</th>\n",
       "      <th>call_count</th>\n",
       "    </tr>\n",
       "  </thead>\n",
       "  <tbody>\n",
       "    <tr>\n",
       "      <td>0</td>\n",
       "      <td>1000</td>\n",
       "      <td>5</td>\n",
       "      <td>22</td>\n",
       "    </tr>\n",
       "    <tr>\n",
       "      <td>1</td>\n",
       "      <td>1000</td>\n",
       "      <td>6</td>\n",
       "      <td>43</td>\n",
       "    </tr>\n",
       "    <tr>\n",
       "      <td>2</td>\n",
       "      <td>1000</td>\n",
       "      <td>7</td>\n",
       "      <td>47</td>\n",
       "    </tr>\n",
       "    <tr>\n",
       "      <td>3</td>\n",
       "      <td>1000</td>\n",
       "      <td>8</td>\n",
       "      <td>52</td>\n",
       "    </tr>\n",
       "    <tr>\n",
       "      <td>4</td>\n",
       "      <td>1000</td>\n",
       "      <td>9</td>\n",
       "      <td>58</td>\n",
       "    </tr>\n",
       "  </tbody>\n",
       "</table>\n",
       "</div>"
      ],
      "text/plain": [
       "   user_id  month  call_count\n",
       "0     1000      5          22\n",
       "1     1000      6          43\n",
       "2     1000      7          47\n",
       "3     1000      8          52\n",
       "4     1000      9          58"
      ]
     },
     "execution_count": 19,
     "metadata": {},
     "output_type": "execute_result"
    }
   ],
   "source": [
    "calls_p = calls.pivot_table(index=['user_id', 'month'], values='id', aggfunc='count')\n",
    "calls_p.reset_index(drop=False, inplace=True)\n",
    "calls_p = calls_p.rename(columns={'id':'call_count'})\n",
    "calls_p.head()"
   ]
  },
  {
   "cell_type": "code",
   "execution_count": 20,
   "metadata": {},
   "outputs": [
    {
     "name": "stdout",
     "output_type": "stream",
     "text": [
      "<class 'pandas.core.frame.DataFrame'>\n",
      "RangeIndex: 3174 entries, 0 to 3173\n",
      "Data columns (total 3 columns):\n",
      "user_id       3174 non-null int64\n",
      "month         3174 non-null int64\n",
      "call_count    3174 non-null int64\n",
      "dtypes: int64(3)\n",
      "memory usage: 74.5 KB\n"
     ]
    }
   ],
   "source": [
    "calls_p.info()"
   ]
  },
  {
   "cell_type": "code",
   "execution_count": 21,
   "metadata": {},
   "outputs": [
    {
     "data": {
      "text/html": [
       "<div>\n",
       "<style scoped>\n",
       "    .dataframe tbody tr th:only-of-type {\n",
       "        vertical-align: middle;\n",
       "    }\n",
       "\n",
       "    .dataframe tbody tr th {\n",
       "        vertical-align: top;\n",
       "    }\n",
       "\n",
       "    .dataframe thead th {\n",
       "        text-align: right;\n",
       "    }\n",
       "</style>\n",
       "<table border=\"1\" class=\"dataframe\">\n",
       "  <thead>\n",
       "    <tr style=\"text-align: right;\">\n",
       "      <th></th>\n",
       "      <th>user_id</th>\n",
       "      <th>month</th>\n",
       "      <th>duration_count</th>\n",
       "    </tr>\n",
       "  </thead>\n",
       "  <tbody>\n",
       "    <tr>\n",
       "      <td>0</td>\n",
       "      <td>1000</td>\n",
       "      <td>5</td>\n",
       "      <td>159</td>\n",
       "    </tr>\n",
       "    <tr>\n",
       "      <td>1</td>\n",
       "      <td>1000</td>\n",
       "      <td>6</td>\n",
       "      <td>172</td>\n",
       "    </tr>\n",
       "    <tr>\n",
       "      <td>2</td>\n",
       "      <td>1000</td>\n",
       "      <td>7</td>\n",
       "      <td>340</td>\n",
       "    </tr>\n",
       "    <tr>\n",
       "      <td>3</td>\n",
       "      <td>1000</td>\n",
       "      <td>8</td>\n",
       "      <td>408</td>\n",
       "    </tr>\n",
       "    <tr>\n",
       "      <td>4</td>\n",
       "      <td>1000</td>\n",
       "      <td>9</td>\n",
       "      <td>466</td>\n",
       "    </tr>\n",
       "  </tbody>\n",
       "</table>\n",
       "</div>"
      ],
      "text/plain": [
       "   user_id  month  duration_count\n",
       "0     1000      5             159\n",
       "1     1000      6             172\n",
       "2     1000      7             340\n",
       "3     1000      8             408\n",
       "4     1000      9             466"
      ]
     },
     "execution_count": 21,
     "metadata": {},
     "output_type": "execute_result"
    }
   ],
   "source": [
    "calls_pp = calls.pivot_table(index=['user_id', 'month'], values='duration', aggfunc='sum')\n",
    "calls_pp.reset_index(drop=False, inplace=True)\n",
    "calls_pp = calls_pp.rename(columns={'duration':'duration_count'})\n",
    "calls_pp.head()"
   ]
  },
  {
   "cell_type": "code",
   "execution_count": 22,
   "metadata": {},
   "outputs": [
    {
     "name": "stdout",
     "output_type": "stream",
     "text": [
      "<class 'pandas.core.frame.DataFrame'>\n",
      "RangeIndex: 3174 entries, 0 to 3173\n",
      "Data columns (total 3 columns):\n",
      "user_id           3174 non-null int64\n",
      "month             3174 non-null int64\n",
      "duration_count    3174 non-null int64\n",
      "dtypes: int64(3)\n",
      "memory usage: 74.5 KB\n"
     ]
    }
   ],
   "source": [
    "calls_pp.info()"
   ]
  },
  {
   "cell_type": "code",
   "execution_count": 23,
   "metadata": {
    "scrolled": true
   },
   "outputs": [
    {
     "data": {
      "text/html": [
       "<div>\n",
       "<style scoped>\n",
       "    .dataframe tbody tr th:only-of-type {\n",
       "        vertical-align: middle;\n",
       "    }\n",
       "\n",
       "    .dataframe tbody tr th {\n",
       "        vertical-align: top;\n",
       "    }\n",
       "\n",
       "    .dataframe thead th {\n",
       "        text-align: right;\n",
       "    }\n",
       "</style>\n",
       "<table border=\"1\" class=\"dataframe\">\n",
       "  <thead>\n",
       "    <tr style=\"text-align: right;\">\n",
       "      <th></th>\n",
       "      <th>user_id</th>\n",
       "      <th>month</th>\n",
       "      <th>call_count</th>\n",
       "      <th>duration_count</th>\n",
       "    </tr>\n",
       "  </thead>\n",
       "  <tbody>\n",
       "    <tr>\n",
       "      <td>0</td>\n",
       "      <td>1000</td>\n",
       "      <td>5</td>\n",
       "      <td>22</td>\n",
       "      <td>159</td>\n",
       "    </tr>\n",
       "    <tr>\n",
       "      <td>1</td>\n",
       "      <td>1000</td>\n",
       "      <td>6</td>\n",
       "      <td>43</td>\n",
       "      <td>172</td>\n",
       "    </tr>\n",
       "    <tr>\n",
       "      <td>2</td>\n",
       "      <td>1000</td>\n",
       "      <td>7</td>\n",
       "      <td>47</td>\n",
       "      <td>340</td>\n",
       "    </tr>\n",
       "    <tr>\n",
       "      <td>3</td>\n",
       "      <td>1000</td>\n",
       "      <td>8</td>\n",
       "      <td>52</td>\n",
       "      <td>408</td>\n",
       "    </tr>\n",
       "    <tr>\n",
       "      <td>4</td>\n",
       "      <td>1000</td>\n",
       "      <td>9</td>\n",
       "      <td>58</td>\n",
       "      <td>466</td>\n",
       "    </tr>\n",
       "  </tbody>\n",
       "</table>\n",
       "</div>"
      ],
      "text/plain": [
       "   user_id  month  call_count  duration_count\n",
       "0     1000      5          22             159\n",
       "1     1000      6          43             172\n",
       "2     1000      7          47             340\n",
       "3     1000      8          52             408\n",
       "4     1000      9          58             466"
      ]
     },
     "execution_count": 23,
     "metadata": {},
     "output_type": "execute_result"
    }
   ],
   "source": [
    "calls_pv = calls_p.merge(calls_pp, on=['user_id', 'month'], how='outer') #соединили таблички по кол-ву звонков и продолжительности минут\n",
    "calls_pv.head()             "
   ]
  },
  {
   "cell_type": "code",
   "execution_count": 24,
   "metadata": {},
   "outputs": [
    {
     "name": "stdout",
     "output_type": "stream",
     "text": [
      "<class 'pandas.core.frame.DataFrame'>\n",
      "Int64Index: 3174 entries, 0 to 3173\n",
      "Data columns (total 4 columns):\n",
      "user_id           3174 non-null int64\n",
      "month             3174 non-null int64\n",
      "call_count        3174 non-null int64\n",
      "duration_count    3174 non-null int64\n",
      "dtypes: int64(4)\n",
      "memory usage: 124.0 KB\n"
     ]
    }
   ],
   "source": [
    "calls_pv.info()"
   ]
  },
  {
   "cell_type": "markdown",
   "metadata": {},
   "source": [
    "#### Количество отправленных сообщений по месяцам."
   ]
  },
  {
   "cell_type": "code",
   "execution_count": 25,
   "metadata": {},
   "outputs": [
    {
     "data": {
      "text/html": [
       "<div>\n",
       "<style scoped>\n",
       "    .dataframe tbody tr th:only-of-type {\n",
       "        vertical-align: middle;\n",
       "    }\n",
       "\n",
       "    .dataframe tbody tr th {\n",
       "        vertical-align: top;\n",
       "    }\n",
       "\n",
       "    .dataframe thead th {\n",
       "        text-align: right;\n",
       "    }\n",
       "</style>\n",
       "<table border=\"1\" class=\"dataframe\">\n",
       "  <thead>\n",
       "    <tr style=\"text-align: right;\">\n",
       "      <th></th>\n",
       "      <th>id</th>\n",
       "      <th>message_date</th>\n",
       "      <th>user_id</th>\n",
       "      <th>month</th>\n",
       "    </tr>\n",
       "  </thead>\n",
       "  <tbody>\n",
       "    <tr>\n",
       "      <td>0</td>\n",
       "      <td>1000_0</td>\n",
       "      <td>2018-06-27</td>\n",
       "      <td>1000</td>\n",
       "      <td>6</td>\n",
       "    </tr>\n",
       "    <tr>\n",
       "      <td>1</td>\n",
       "      <td>1000_1</td>\n",
       "      <td>2018-10-08</td>\n",
       "      <td>1000</td>\n",
       "      <td>10</td>\n",
       "    </tr>\n",
       "    <tr>\n",
       "      <td>2</td>\n",
       "      <td>1000_2</td>\n",
       "      <td>2018-08-04</td>\n",
       "      <td>1000</td>\n",
       "      <td>8</td>\n",
       "    </tr>\n",
       "    <tr>\n",
       "      <td>3</td>\n",
       "      <td>1000_3</td>\n",
       "      <td>2018-06-16</td>\n",
       "      <td>1000</td>\n",
       "      <td>6</td>\n",
       "    </tr>\n",
       "    <tr>\n",
       "      <td>4</td>\n",
       "      <td>1000_4</td>\n",
       "      <td>2018-12-05</td>\n",
       "      <td>1000</td>\n",
       "      <td>12</td>\n",
       "    </tr>\n",
       "  </tbody>\n",
       "</table>\n",
       "</div>"
      ],
      "text/plain": [
       "       id message_date  user_id  month\n",
       "0  1000_0   2018-06-27     1000      6\n",
       "1  1000_1   2018-10-08     1000     10\n",
       "2  1000_2   2018-08-04     1000      8\n",
       "3  1000_3   2018-06-16     1000      6\n",
       "4  1000_4   2018-12-05     1000     12"
      ]
     },
     "execution_count": 25,
     "metadata": {},
     "output_type": "execute_result"
    }
   ],
   "source": [
    "messages['month'] = pd.DatetimeIndex(messages['message_date']).month #также выделяем месяц\n",
    "messages.head()"
   ]
  },
  {
   "cell_type": "code",
   "execution_count": 26,
   "metadata": {},
   "outputs": [
    {
     "name": "stdout",
     "output_type": "stream",
     "text": [
      "<class 'pandas.core.frame.DataFrame'>\n",
      "RangeIndex: 123036 entries, 0 to 123035\n",
      "Data columns (total 4 columns):\n",
      "id              123036 non-null object\n",
      "message_date    123036 non-null object\n",
      "user_id         123036 non-null int64\n",
      "month           123036 non-null int64\n",
      "dtypes: int64(2), object(2)\n",
      "memory usage: 3.8+ MB\n"
     ]
    }
   ],
   "source": [
    "messages.info()"
   ]
  },
  {
   "cell_type": "code",
   "execution_count": 27,
   "metadata": {},
   "outputs": [
    {
     "name": "stdout",
     "output_type": "stream",
     "text": [
      "<class 'pandas.core.frame.DataFrame'>\n",
      "Int64Index: 426 entries, 1000 to 1499\n",
      "Data columns (total 1 columns):\n",
      "id    426 non-null int64\n",
      "dtypes: int64(1)\n",
      "memory usage: 6.7 KB\n"
     ]
    }
   ],
   "source": [
    "messages_p = messages.pivot_table(index=['user_id'], values='id', aggfunc='count')\n",
    "messages_p.info()"
   ]
  },
  {
   "cell_type": "code",
   "execution_count": 28,
   "metadata": {
    "scrolled": true
   },
   "outputs": [
    {
     "data": {
      "text/html": [
       "<div>\n",
       "<style scoped>\n",
       "    .dataframe tbody tr th:only-of-type {\n",
       "        vertical-align: middle;\n",
       "    }\n",
       "\n",
       "    .dataframe tbody tr th {\n",
       "        vertical-align: top;\n",
       "    }\n",
       "\n",
       "    .dataframe thead th {\n",
       "        text-align: right;\n",
       "    }\n",
       "</style>\n",
       "<table border=\"1\" class=\"dataframe\">\n",
       "  <thead>\n",
       "    <tr style=\"text-align: right;\">\n",
       "      <th></th>\n",
       "      <th>user_id</th>\n",
       "      <th>month</th>\n",
       "      <th>message_count</th>\n",
       "    </tr>\n",
       "  </thead>\n",
       "  <tbody>\n",
       "    <tr>\n",
       "      <td>0</td>\n",
       "      <td>1000</td>\n",
       "      <td>5</td>\n",
       "      <td>22</td>\n",
       "    </tr>\n",
       "    <tr>\n",
       "      <td>1</td>\n",
       "      <td>1000</td>\n",
       "      <td>6</td>\n",
       "      <td>60</td>\n",
       "    </tr>\n",
       "    <tr>\n",
       "      <td>2</td>\n",
       "      <td>1000</td>\n",
       "      <td>7</td>\n",
       "      <td>75</td>\n",
       "    </tr>\n",
       "    <tr>\n",
       "      <td>3</td>\n",
       "      <td>1000</td>\n",
       "      <td>8</td>\n",
       "      <td>81</td>\n",
       "    </tr>\n",
       "    <tr>\n",
       "      <td>4</td>\n",
       "      <td>1000</td>\n",
       "      <td>9</td>\n",
       "      <td>57</td>\n",
       "    </tr>\n",
       "  </tbody>\n",
       "</table>\n",
       "</div>"
      ],
      "text/plain": [
       "   user_id  month  message_count\n",
       "0     1000      5             22\n",
       "1     1000      6             60\n",
       "2     1000      7             75\n",
       "3     1000      8             81\n",
       "4     1000      9             57"
      ]
     },
     "execution_count": 28,
     "metadata": {},
     "output_type": "execute_result"
    }
   ],
   "source": [
    "messages_p = messages.pivot_table(index=['user_id', 'month'], values='id', aggfunc='count') #делаем табличку с кол-м сообщений\n",
    "messages_p.reset_index(drop=False, inplace=True)\n",
    "messages_p = messages_p.rename(columns={'id':'message_count'})\n",
    "messages_p.head()"
   ]
  },
  {
   "cell_type": "code",
   "execution_count": 29,
   "metadata": {},
   "outputs": [
    {
     "name": "stdout",
     "output_type": "stream",
     "text": [
      "<class 'pandas.core.frame.DataFrame'>\n",
      "RangeIndex: 2717 entries, 0 to 2716\n",
      "Data columns (total 3 columns):\n",
      "user_id          2717 non-null int64\n",
      "month            2717 non-null int64\n",
      "message_count    2717 non-null int64\n",
      "dtypes: int64(3)\n",
      "memory usage: 63.8 KB\n"
     ]
    }
   ],
   "source": [
    "messages_p.info()"
   ]
  },
  {
   "cell_type": "markdown",
   "metadata": {},
   "source": [
    "#### Объем израсходованного интернет-трафика по месяцам."
   ]
  },
  {
   "cell_type": "code",
   "execution_count": 30,
   "metadata": {},
   "outputs": [
    {
     "data": {
      "text/html": [
       "<div>\n",
       "<style scoped>\n",
       "    .dataframe tbody tr th:only-of-type {\n",
       "        vertical-align: middle;\n",
       "    }\n",
       "\n",
       "    .dataframe tbody tr th {\n",
       "        vertical-align: top;\n",
       "    }\n",
       "\n",
       "    .dataframe thead th {\n",
       "        text-align: right;\n",
       "    }\n",
       "</style>\n",
       "<table border=\"1\" class=\"dataframe\">\n",
       "  <thead>\n",
       "    <tr style=\"text-align: right;\">\n",
       "      <th></th>\n",
       "      <th>Unnamed: 0</th>\n",
       "      <th>id</th>\n",
       "      <th>mb_used</th>\n",
       "      <th>session_date</th>\n",
       "      <th>user_id</th>\n",
       "      <th>month</th>\n",
       "    </tr>\n",
       "  </thead>\n",
       "  <tbody>\n",
       "    <tr>\n",
       "      <td>0</td>\n",
       "      <td>0</td>\n",
       "      <td>1000_0</td>\n",
       "      <td>112</td>\n",
       "      <td>2018-11-25</td>\n",
       "      <td>1000</td>\n",
       "      <td>11</td>\n",
       "    </tr>\n",
       "    <tr>\n",
       "      <td>1</td>\n",
       "      <td>1</td>\n",
       "      <td>1000_1</td>\n",
       "      <td>1052</td>\n",
       "      <td>2018-09-07</td>\n",
       "      <td>1000</td>\n",
       "      <td>9</td>\n",
       "    </tr>\n",
       "    <tr>\n",
       "      <td>2</td>\n",
       "      <td>2</td>\n",
       "      <td>1000_2</td>\n",
       "      <td>1197</td>\n",
       "      <td>2018-06-25</td>\n",
       "      <td>1000</td>\n",
       "      <td>6</td>\n",
       "    </tr>\n",
       "    <tr>\n",
       "      <td>3</td>\n",
       "      <td>3</td>\n",
       "      <td>1000_3</td>\n",
       "      <td>550</td>\n",
       "      <td>2018-08-22</td>\n",
       "      <td>1000</td>\n",
       "      <td>8</td>\n",
       "    </tr>\n",
       "    <tr>\n",
       "      <td>4</td>\n",
       "      <td>4</td>\n",
       "      <td>1000_4</td>\n",
       "      <td>302</td>\n",
       "      <td>2018-09-24</td>\n",
       "      <td>1000</td>\n",
       "      <td>9</td>\n",
       "    </tr>\n",
       "  </tbody>\n",
       "</table>\n",
       "</div>"
      ],
      "text/plain": [
       "   Unnamed: 0      id  mb_used session_date  user_id  month\n",
       "0           0  1000_0      112   2018-11-25     1000     11\n",
       "1           1  1000_1     1052   2018-09-07     1000      9\n",
       "2           2  1000_2     1197   2018-06-25     1000      6\n",
       "3           3  1000_3      550   2018-08-22     1000      8\n",
       "4           4  1000_4      302   2018-09-24     1000      9"
      ]
     },
     "execution_count": 30,
     "metadata": {},
     "output_type": "execute_result"
    }
   ],
   "source": [
    "internet['month'] = pd.DatetimeIndex(internet['session_date']).month #также выделяем месяц для дальнейших действий\n",
    "internet.head()"
   ]
  },
  {
   "cell_type": "code",
   "execution_count": 31,
   "metadata": {},
   "outputs": [
    {
     "name": "stdout",
     "output_type": "stream",
     "text": [
      "<class 'pandas.core.frame.DataFrame'>\n",
      "RangeIndex: 149396 entries, 0 to 149395\n",
      "Data columns (total 6 columns):\n",
      "Unnamed: 0      149396 non-null int64\n",
      "id              149396 non-null object\n",
      "mb_used         149396 non-null int64\n",
      "session_date    149396 non-null object\n",
      "user_id         149396 non-null int64\n",
      "month           149396 non-null int64\n",
      "dtypes: int64(4), object(2)\n",
      "memory usage: 6.8+ MB\n"
     ]
    }
   ],
   "source": [
    "internet.info()"
   ]
  },
  {
   "cell_type": "code",
   "execution_count": 32,
   "metadata": {
    "scrolled": true
   },
   "outputs": [
    {
     "data": {
      "text/html": [
       "<div>\n",
       "<style scoped>\n",
       "    .dataframe tbody tr th:only-of-type {\n",
       "        vertical-align: middle;\n",
       "    }\n",
       "\n",
       "    .dataframe tbody tr th {\n",
       "        vertical-align: top;\n",
       "    }\n",
       "\n",
       "    .dataframe thead th {\n",
       "        text-align: right;\n",
       "    }\n",
       "</style>\n",
       "<table border=\"1\" class=\"dataframe\">\n",
       "  <thead>\n",
       "    <tr style=\"text-align: right;\">\n",
       "      <th></th>\n",
       "      <th>user_id</th>\n",
       "      <th>month</th>\n",
       "      <th>mb_used</th>\n",
       "    </tr>\n",
       "  </thead>\n",
       "  <tbody>\n",
       "    <tr>\n",
       "      <td>0</td>\n",
       "      <td>1000</td>\n",
       "      <td>5</td>\n",
       "      <td>2252</td>\n",
       "    </tr>\n",
       "    <tr>\n",
       "      <td>1</td>\n",
       "      <td>1000</td>\n",
       "      <td>6</td>\n",
       "      <td>23213</td>\n",
       "    </tr>\n",
       "    <tr>\n",
       "      <td>2</td>\n",
       "      <td>1000</td>\n",
       "      <td>7</td>\n",
       "      <td>13988</td>\n",
       "    </tr>\n",
       "    <tr>\n",
       "      <td>3</td>\n",
       "      <td>1000</td>\n",
       "      <td>8</td>\n",
       "      <td>14043</td>\n",
       "    </tr>\n",
       "    <tr>\n",
       "      <td>4</td>\n",
       "      <td>1000</td>\n",
       "      <td>9</td>\n",
       "      <td>14556</td>\n",
       "    </tr>\n",
       "  </tbody>\n",
       "</table>\n",
       "</div>"
      ],
      "text/plain": [
       "   user_id  month  mb_used\n",
       "0     1000      5     2252\n",
       "1     1000      6    23213\n",
       "2     1000      7    13988\n",
       "3     1000      8    14043\n",
       "4     1000      9    14556"
      ]
     },
     "execution_count": 32,
     "metadata": {},
     "output_type": "execute_result"
    }
   ],
   "source": [
    "internet_p = internet.pivot_table(index=['user_id', 'month'], values='mb_used', aggfunc='sum') #делаем таличку с кол-м израасходованного трафика\n",
    "internet_p.reset_index(drop=False, inplace=True)\n",
    "internet_p = internet_p.rename(columns={'id':'mb_used'})\n",
    "internet_p.head()"
   ]
  },
  {
   "cell_type": "code",
   "execution_count": 33,
   "metadata": {},
   "outputs": [
    {
     "name": "stdout",
     "output_type": "stream",
     "text": [
      "<class 'pandas.core.frame.DataFrame'>\n",
      "RangeIndex: 3203 entries, 0 to 3202\n",
      "Data columns (total 3 columns):\n",
      "user_id    3203 non-null int64\n",
      "month      3203 non-null int64\n",
      "mb_used    3203 non-null int64\n",
      "dtypes: int64(3)\n",
      "memory usage: 75.2 KB\n"
     ]
    }
   ],
   "source": [
    "internet_p.info()"
   ]
  },
  {
   "cell_type": "markdown",
   "metadata": {},
   "source": [
    "#### Помесячную выручку с каждого пользователя."
   ]
  },
  {
   "cell_type": "markdown",
   "metadata": {},
   "source": [
    "Для подсчётов нам нужно соединить подготовленные таблички в единый датафрейм. А для этого нужно подготовить табличку с пользователями, к ней мы будем крпеить все остальные таблички"
   ]
  },
  {
   "cell_type": "code",
   "execution_count": 34,
   "metadata": {},
   "outputs": [
    {
     "data": {
      "text/html": [
       "<div>\n",
       "<style scoped>\n",
       "    .dataframe tbody tr th:only-of-type {\n",
       "        vertical-align: middle;\n",
       "    }\n",
       "\n",
       "    .dataframe tbody tr th {\n",
       "        vertical-align: top;\n",
       "    }\n",
       "\n",
       "    .dataframe thead th {\n",
       "        text-align: right;\n",
       "    }\n",
       "</style>\n",
       "<table border=\"1\" class=\"dataframe\">\n",
       "  <thead>\n",
       "    <tr style=\"text-align: right;\">\n",
       "      <th></th>\n",
       "      <th>user_id</th>\n",
       "      <th>city</th>\n",
       "      <th>tariff</th>\n",
       "    </tr>\n",
       "  </thead>\n",
       "  <tbody>\n",
       "    <tr>\n",
       "      <td>0</td>\n",
       "      <td>1000</td>\n",
       "      <td>Краснодар</td>\n",
       "      <td>ultra</td>\n",
       "    </tr>\n",
       "    <tr>\n",
       "      <td>1</td>\n",
       "      <td>1001</td>\n",
       "      <td>Москва</td>\n",
       "      <td>smart</td>\n",
       "    </tr>\n",
       "    <tr>\n",
       "      <td>2</td>\n",
       "      <td>1002</td>\n",
       "      <td>Стерлитамак</td>\n",
       "      <td>smart</td>\n",
       "    </tr>\n",
       "    <tr>\n",
       "      <td>3</td>\n",
       "      <td>1003</td>\n",
       "      <td>Москва</td>\n",
       "      <td>ultra</td>\n",
       "    </tr>\n",
       "    <tr>\n",
       "      <td>4</td>\n",
       "      <td>1004</td>\n",
       "      <td>Новокузнецк</td>\n",
       "      <td>ultra</td>\n",
       "    </tr>\n",
       "  </tbody>\n",
       "</table>\n",
       "</div>"
      ],
      "text/plain": [
       "   user_id         city tariff\n",
       "0     1000    Краснодар  ultra\n",
       "1     1001       Москва  smart\n",
       "2     1002  Стерлитамак  smart\n",
       "3     1003       Москва  ultra\n",
       "4     1004  Новокузнецк  ultra"
      ]
     },
     "execution_count": 34,
     "metadata": {},
     "output_type": "execute_result"
    }
   ],
   "source": [
    "users = users.drop(columns=['first_name', 'last_name', 'churn_date', 'reg_date', 'age'], axis=1)\n",
    "users.head()"
   ]
  },
  {
   "cell_type": "code",
   "execution_count": 35,
   "metadata": {},
   "outputs": [
    {
     "name": "stdout",
     "output_type": "stream",
     "text": [
      "<class 'pandas.core.frame.DataFrame'>\n",
      "RangeIndex: 500 entries, 0 to 499\n",
      "Data columns (total 3 columns):\n",
      "user_id    500 non-null int64\n",
      "city       500 non-null object\n",
      "tariff     500 non-null object\n",
      "dtypes: int64(1), object(2)\n",
      "memory usage: 11.8+ KB\n"
     ]
    }
   ],
   "source": [
    "users.info()"
   ]
  },
  {
   "cell_type": "code",
   "execution_count": 36,
   "metadata": {
    "scrolled": false
   },
   "outputs": [
    {
     "data": {
      "text/html": [
       "<div>\n",
       "<style scoped>\n",
       "    .dataframe tbody tr th:only-of-type {\n",
       "        vertical-align: middle;\n",
       "    }\n",
       "\n",
       "    .dataframe tbody tr th {\n",
       "        vertical-align: top;\n",
       "    }\n",
       "\n",
       "    .dataframe thead th {\n",
       "        text-align: right;\n",
       "    }\n",
       "</style>\n",
       "<table border=\"1\" class=\"dataframe\">\n",
       "  <thead>\n",
       "    <tr style=\"text-align: right;\">\n",
       "      <th></th>\n",
       "      <th>user_id</th>\n",
       "      <th>city</th>\n",
       "      <th>tariff</th>\n",
       "      <th>month</th>\n",
       "      <th>call_count</th>\n",
       "      <th>duration_count</th>\n",
       "      <th>mb_used</th>\n",
       "      <th>message_count</th>\n",
       "      <th>messages_included</th>\n",
       "      <th>mb_per_month_included</th>\n",
       "      <th>minutes_included</th>\n",
       "      <th>rub_monthly_fee</th>\n",
       "      <th>rub_per_gb</th>\n",
       "      <th>rub_per_message</th>\n",
       "      <th>rub_per_minute</th>\n",
       "    </tr>\n",
       "  </thead>\n",
       "  <tbody>\n",
       "    <tr>\n",
       "      <td>0</td>\n",
       "      <td>1000</td>\n",
       "      <td>Краснодар</td>\n",
       "      <td>ultra</td>\n",
       "      <td>5.0</td>\n",
       "      <td>22.0</td>\n",
       "      <td>159.0</td>\n",
       "      <td>2252.0</td>\n",
       "      <td>22.0</td>\n",
       "      <td>1000.0</td>\n",
       "      <td>30720.0</td>\n",
       "      <td>3000.0</td>\n",
       "      <td>1950.0</td>\n",
       "      <td>150.0</td>\n",
       "      <td>1.0</td>\n",
       "      <td>1.0</td>\n",
       "    </tr>\n",
       "    <tr>\n",
       "      <td>1</td>\n",
       "      <td>1000</td>\n",
       "      <td>Краснодар</td>\n",
       "      <td>ultra</td>\n",
       "      <td>6.0</td>\n",
       "      <td>43.0</td>\n",
       "      <td>172.0</td>\n",
       "      <td>23213.0</td>\n",
       "      <td>60.0</td>\n",
       "      <td>1000.0</td>\n",
       "      <td>30720.0</td>\n",
       "      <td>3000.0</td>\n",
       "      <td>1950.0</td>\n",
       "      <td>150.0</td>\n",
       "      <td>1.0</td>\n",
       "      <td>1.0</td>\n",
       "    </tr>\n",
       "    <tr>\n",
       "      <td>2</td>\n",
       "      <td>1000</td>\n",
       "      <td>Краснодар</td>\n",
       "      <td>ultra</td>\n",
       "      <td>7.0</td>\n",
       "      <td>47.0</td>\n",
       "      <td>340.0</td>\n",
       "      <td>13988.0</td>\n",
       "      <td>75.0</td>\n",
       "      <td>1000.0</td>\n",
       "      <td>30720.0</td>\n",
       "      <td>3000.0</td>\n",
       "      <td>1950.0</td>\n",
       "      <td>150.0</td>\n",
       "      <td>1.0</td>\n",
       "      <td>1.0</td>\n",
       "    </tr>\n",
       "    <tr>\n",
       "      <td>3</td>\n",
       "      <td>1000</td>\n",
       "      <td>Краснодар</td>\n",
       "      <td>ultra</td>\n",
       "      <td>8.0</td>\n",
       "      <td>52.0</td>\n",
       "      <td>408.0</td>\n",
       "      <td>14043.0</td>\n",
       "      <td>81.0</td>\n",
       "      <td>1000.0</td>\n",
       "      <td>30720.0</td>\n",
       "      <td>3000.0</td>\n",
       "      <td>1950.0</td>\n",
       "      <td>150.0</td>\n",
       "      <td>1.0</td>\n",
       "      <td>1.0</td>\n",
       "    </tr>\n",
       "    <tr>\n",
       "      <td>4</td>\n",
       "      <td>1000</td>\n",
       "      <td>Краснодар</td>\n",
       "      <td>ultra</td>\n",
       "      <td>9.0</td>\n",
       "      <td>58.0</td>\n",
       "      <td>466.0</td>\n",
       "      <td>14556.0</td>\n",
       "      <td>57.0</td>\n",
       "      <td>1000.0</td>\n",
       "      <td>30720.0</td>\n",
       "      <td>3000.0</td>\n",
       "      <td>1950.0</td>\n",
       "      <td>150.0</td>\n",
       "      <td>1.0</td>\n",
       "      <td>1.0</td>\n",
       "    </tr>\n",
       "  </tbody>\n",
       "</table>\n",
       "</div>"
      ],
      "text/plain": [
       "   user_id       city tariff  month  call_count  duration_count  mb_used  \\\n",
       "0     1000  Краснодар  ultra    5.0        22.0           159.0   2252.0   \n",
       "1     1000  Краснодар  ultra    6.0        43.0           172.0  23213.0   \n",
       "2     1000  Краснодар  ultra    7.0        47.0           340.0  13988.0   \n",
       "3     1000  Краснодар  ultra    8.0        52.0           408.0  14043.0   \n",
       "4     1000  Краснодар  ultra    9.0        58.0           466.0  14556.0   \n",
       "\n",
       "   message_count  messages_included  mb_per_month_included  minutes_included  \\\n",
       "0           22.0             1000.0                30720.0            3000.0   \n",
       "1           60.0             1000.0                30720.0            3000.0   \n",
       "2           75.0             1000.0                30720.0            3000.0   \n",
       "3           81.0             1000.0                30720.0            3000.0   \n",
       "4           57.0             1000.0                30720.0            3000.0   \n",
       "\n",
       "   rub_monthly_fee  rub_per_gb  rub_per_message  rub_per_minute  \n",
       "0           1950.0       150.0              1.0             1.0  \n",
       "1           1950.0       150.0              1.0             1.0  \n",
       "2           1950.0       150.0              1.0             1.0  \n",
       "3           1950.0       150.0              1.0             1.0  \n",
       "4           1950.0       150.0              1.0             1.0  "
      ]
     },
     "execution_count": 36,
     "metadata": {},
     "output_type": "execute_result"
    }
   ],
   "source": [
    "df = users.merge(calls_pv, on=['user_id'], how='outer')\n",
    "df = df.merge(internet_p, on=['user_id', 'month'], how='outer')\n",
    "df = df.merge(messages_p, on=['user_id', 'month'], how='outer')\n",
    "df = df.merge(tariffs, on=['tariff'], how='left')\n",
    "df.head()"
   ]
  },
  {
   "cell_type": "code",
   "execution_count": 37,
   "metadata": {},
   "outputs": [
    {
     "name": "stdout",
     "output_type": "stream",
     "text": [
      "<class 'pandas.core.frame.DataFrame'>\n",
      "Int64Index: 3222 entries, 0 to 3221\n",
      "Data columns (total 15 columns):\n",
      "user_id                  3222 non-null int64\n",
      "city                     3182 non-null object\n",
      "tariff                   3182 non-null object\n",
      "month                    3214 non-null float64\n",
      "call_count               3174 non-null float64\n",
      "duration_count           3174 non-null float64\n",
      "mb_used                  3203 non-null float64\n",
      "message_count            2717 non-null float64\n",
      "messages_included        3182 non-null float64\n",
      "mb_per_month_included    3182 non-null float64\n",
      "minutes_included         3182 non-null float64\n",
      "rub_monthly_fee          3182 non-null float64\n",
      "rub_per_gb               3182 non-null float64\n",
      "rub_per_message          3182 non-null float64\n",
      "rub_per_minute           3182 non-null float64\n",
      "dtypes: float64(12), int64(1), object(2)\n",
      "memory usage: 402.8+ KB\n"
     ]
    }
   ],
   "source": [
    "df.info()"
   ]
  },
  {
   "cell_type": "code",
   "execution_count": 38,
   "metadata": {},
   "outputs": [
    {
     "data": {
      "text/plain": [
       "user_id                    0\n",
       "city                      40\n",
       "tariff                    40\n",
       "month                      8\n",
       "call_count                48\n",
       "duration_count            48\n",
       "mb_used                   19\n",
       "message_count            505\n",
       "messages_included         40\n",
       "mb_per_month_included     40\n",
       "minutes_included          40\n",
       "rub_monthly_fee           40\n",
       "rub_per_gb                40\n",
       "rub_per_message           40\n",
       "rub_per_minute            40\n",
       "dtype: int64"
      ]
     },
     "execution_count": 38,
     "metadata": {},
     "output_type": "execute_result"
    }
   ],
   "source": [
    "df.isna().sum()"
   ]
  },
  {
   "cell_type": "markdown",
   "metadata": {},
   "source": [
    "Как видим есть пропуски, устраним их и перейдём к подсчёту"
   ]
  },
  {
   "cell_type": "code",
   "execution_count": 39,
   "metadata": {},
   "outputs": [
    {
     "data": {
      "text/plain": [
       "user_id                  0\n",
       "city                     0\n",
       "tariff                   0\n",
       "month                    0\n",
       "call_count               0\n",
       "duration_count           0\n",
       "mb_used                  0\n",
       "message_count            0\n",
       "messages_included        0\n",
       "mb_per_month_included    0\n",
       "minutes_included         0\n",
       "rub_monthly_fee          0\n",
       "rub_per_gb               0\n",
       "rub_per_message          0\n",
       "rub_per_minute           0\n",
       "dtype: int64"
      ]
     },
     "execution_count": 39,
     "metadata": {},
     "output_type": "execute_result"
    }
   ],
   "source": [
    "columns = ['city', 'tariff']\n",
    "\n",
    "for i in columns:\n",
    "    df[i] = df[i].fillna('')\n",
    "    \n",
    "    \n",
    "columns = ['month', \n",
    "           'call_count', \n",
    "           'duration_count', \n",
    "           'mb_used', \n",
    "           'message_count', \n",
    "           'messages_included', \n",
    "           'mb_per_month_included', \n",
    "           'minutes_included', \n",
    "           'rub_monthly_fee', \n",
    "           'rub_per_gb', \n",
    "           'rub_per_message', \n",
    "           'rub_per_minute']\n",
    "\n",
    "for i in columns:\n",
    "    df[i] = df[i].fillna(0)\n",
    "    \n",
    "df.isna().sum()"
   ]
  },
  {
   "cell_type": "code",
   "execution_count": 40,
   "metadata": {
    "scrolled": true
   },
   "outputs": [
    {
     "name": "stdout",
     "output_type": "stream",
     "text": [
      "<class 'pandas.core.frame.DataFrame'>\n",
      "Int64Index: 3222 entries, 0 to 3221\n",
      "Data columns (total 15 columns):\n",
      "user_id                  3222 non-null int64\n",
      "city                     3222 non-null object\n",
      "tariff                   3222 non-null object\n",
      "month                    3222 non-null int64\n",
      "call_count               3222 non-null int64\n",
      "duration_count           3222 non-null int64\n",
      "mb_used                  3222 non-null int64\n",
      "message_count            3222 non-null int64\n",
      "messages_included        3222 non-null int64\n",
      "mb_per_month_included    3222 non-null int64\n",
      "minutes_included         3222 non-null int64\n",
      "rub_monthly_fee          3222 non-null int64\n",
      "rub_per_gb               3222 non-null int64\n",
      "rub_per_message          3222 non-null int64\n",
      "rub_per_minute           3222 non-null int64\n",
      "dtypes: int64(13), object(2)\n",
      "memory usage: 402.8+ KB\n"
     ]
    }
   ],
   "source": [
    "columns = ['month', \n",
    "           'call_count', \n",
    "           'duration_count', \n",
    "           'mb_used', \n",
    "           'message_count', \n",
    "           'messages_included', \n",
    "           'mb_per_month_included', \n",
    "           'minutes_included', \n",
    "           'rub_monthly_fee', \n",
    "           'rub_per_gb', \n",
    "           'rub_per_message', \n",
    "           'rub_per_minute']\n",
    "\n",
    "for i in columns:\n",
    "    df[i] = df[i].astype('int')\n",
    "    \n",
    "df.info()"
   ]
  },
  {
   "cell_type": "code",
   "execution_count": 41,
   "metadata": {
    "scrolled": true
   },
   "outputs": [
    {
     "data": {
      "text/html": [
       "<div>\n",
       "<style scoped>\n",
       "    .dataframe tbody tr th:only-of-type {\n",
       "        vertical-align: middle;\n",
       "    }\n",
       "\n",
       "    .dataframe tbody tr th {\n",
       "        vertical-align: top;\n",
       "    }\n",
       "\n",
       "    .dataframe thead th {\n",
       "        text-align: right;\n",
       "    }\n",
       "</style>\n",
       "<table border=\"1\" class=\"dataframe\">\n",
       "  <thead>\n",
       "    <tr style=\"text-align: right;\">\n",
       "      <th></th>\n",
       "      <th>user_id</th>\n",
       "      <th>city</th>\n",
       "      <th>tariff</th>\n",
       "      <th>month</th>\n",
       "      <th>call_count</th>\n",
       "      <th>duration_count</th>\n",
       "      <th>mb_used</th>\n",
       "      <th>message_count</th>\n",
       "      <th>messages_included</th>\n",
       "      <th>mb_per_month_included</th>\n",
       "      <th>minutes_included</th>\n",
       "      <th>rub_monthly_fee</th>\n",
       "      <th>rub_per_gb</th>\n",
       "      <th>rub_per_message</th>\n",
       "      <th>rub_per_minute</th>\n",
       "      <th>monthly_revenue</th>\n",
       "    </tr>\n",
       "  </thead>\n",
       "  <tbody>\n",
       "    <tr>\n",
       "      <td>0</td>\n",
       "      <td>1000</td>\n",
       "      <td>Краснодар</td>\n",
       "      <td>ultra</td>\n",
       "      <td>5</td>\n",
       "      <td>22</td>\n",
       "      <td>159</td>\n",
       "      <td>2252</td>\n",
       "      <td>22</td>\n",
       "      <td>1000</td>\n",
       "      <td>30720</td>\n",
       "      <td>3000</td>\n",
       "      <td>1950</td>\n",
       "      <td>150</td>\n",
       "      <td>1</td>\n",
       "      <td>1</td>\n",
       "      <td>0</td>\n",
       "    </tr>\n",
       "    <tr>\n",
       "      <td>1</td>\n",
       "      <td>1000</td>\n",
       "      <td>Краснодар</td>\n",
       "      <td>ultra</td>\n",
       "      <td>6</td>\n",
       "      <td>43</td>\n",
       "      <td>172</td>\n",
       "      <td>23213</td>\n",
       "      <td>60</td>\n",
       "      <td>1000</td>\n",
       "      <td>30720</td>\n",
       "      <td>3000</td>\n",
       "      <td>1950</td>\n",
       "      <td>150</td>\n",
       "      <td>1</td>\n",
       "      <td>1</td>\n",
       "      <td>0</td>\n",
       "    </tr>\n",
       "    <tr>\n",
       "      <td>2</td>\n",
       "      <td>1000</td>\n",
       "      <td>Краснодар</td>\n",
       "      <td>ultra</td>\n",
       "      <td>7</td>\n",
       "      <td>47</td>\n",
       "      <td>340</td>\n",
       "      <td>13988</td>\n",
       "      <td>75</td>\n",
       "      <td>1000</td>\n",
       "      <td>30720</td>\n",
       "      <td>3000</td>\n",
       "      <td>1950</td>\n",
       "      <td>150</td>\n",
       "      <td>1</td>\n",
       "      <td>1</td>\n",
       "      <td>0</td>\n",
       "    </tr>\n",
       "    <tr>\n",
       "      <td>3</td>\n",
       "      <td>1000</td>\n",
       "      <td>Краснодар</td>\n",
       "      <td>ultra</td>\n",
       "      <td>8</td>\n",
       "      <td>52</td>\n",
       "      <td>408</td>\n",
       "      <td>14043</td>\n",
       "      <td>81</td>\n",
       "      <td>1000</td>\n",
       "      <td>30720</td>\n",
       "      <td>3000</td>\n",
       "      <td>1950</td>\n",
       "      <td>150</td>\n",
       "      <td>1</td>\n",
       "      <td>1</td>\n",
       "      <td>0</td>\n",
       "    </tr>\n",
       "    <tr>\n",
       "      <td>4</td>\n",
       "      <td>1000</td>\n",
       "      <td>Краснодар</td>\n",
       "      <td>ultra</td>\n",
       "      <td>9</td>\n",
       "      <td>58</td>\n",
       "      <td>466</td>\n",
       "      <td>14556</td>\n",
       "      <td>57</td>\n",
       "      <td>1000</td>\n",
       "      <td>30720</td>\n",
       "      <td>3000</td>\n",
       "      <td>1950</td>\n",
       "      <td>150</td>\n",
       "      <td>1</td>\n",
       "      <td>1</td>\n",
       "      <td>0</td>\n",
       "    </tr>\n",
       "    <tr>\n",
       "      <td>5</td>\n",
       "      <td>1000</td>\n",
       "      <td>Краснодар</td>\n",
       "      <td>ultra</td>\n",
       "      <td>10</td>\n",
       "      <td>57</td>\n",
       "      <td>350</td>\n",
       "      <td>14690</td>\n",
       "      <td>73</td>\n",
       "      <td>1000</td>\n",
       "      <td>30720</td>\n",
       "      <td>3000</td>\n",
       "      <td>1950</td>\n",
       "      <td>150</td>\n",
       "      <td>1</td>\n",
       "      <td>1</td>\n",
       "      <td>0</td>\n",
       "    </tr>\n",
       "    <tr>\n",
       "      <td>6</td>\n",
       "      <td>1000</td>\n",
       "      <td>Краснодар</td>\n",
       "      <td>ultra</td>\n",
       "      <td>11</td>\n",
       "      <td>43</td>\n",
       "      <td>338</td>\n",
       "      <td>14745</td>\n",
       "      <td>58</td>\n",
       "      <td>1000</td>\n",
       "      <td>30720</td>\n",
       "      <td>3000</td>\n",
       "      <td>1950</td>\n",
       "      <td>150</td>\n",
       "      <td>1</td>\n",
       "      <td>1</td>\n",
       "      <td>0</td>\n",
       "    </tr>\n",
       "    <tr>\n",
       "      <td>7</td>\n",
       "      <td>1000</td>\n",
       "      <td>Краснодар</td>\n",
       "      <td>ultra</td>\n",
       "      <td>12</td>\n",
       "      <td>46</td>\n",
       "      <td>333</td>\n",
       "      <td>9808</td>\n",
       "      <td>70</td>\n",
       "      <td>1000</td>\n",
       "      <td>30720</td>\n",
       "      <td>3000</td>\n",
       "      <td>1950</td>\n",
       "      <td>150</td>\n",
       "      <td>1</td>\n",
       "      <td>1</td>\n",
       "      <td>0</td>\n",
       "    </tr>\n",
       "    <tr>\n",
       "      <td>8</td>\n",
       "      <td>1001</td>\n",
       "      <td>Москва</td>\n",
       "      <td>smart</td>\n",
       "      <td>11</td>\n",
       "      <td>59</td>\n",
       "      <td>430</td>\n",
       "      <td>18405</td>\n",
       "      <td>0</td>\n",
       "      <td>50</td>\n",
       "      <td>15360</td>\n",
       "      <td>500</td>\n",
       "      <td>550</td>\n",
       "      <td>200</td>\n",
       "      <td>3</td>\n",
       "      <td>3</td>\n",
       "      <td>790</td>\n",
       "    </tr>\n",
       "    <tr>\n",
       "      <td>9</td>\n",
       "      <td>1001</td>\n",
       "      <td>Москва</td>\n",
       "      <td>smart</td>\n",
       "      <td>12</td>\n",
       "      <td>63</td>\n",
       "      <td>414</td>\n",
       "      <td>14018</td>\n",
       "      <td>0</td>\n",
       "      <td>50</td>\n",
       "      <td>15360</td>\n",
       "      <td>500</td>\n",
       "      <td>550</td>\n",
       "      <td>200</td>\n",
       "      <td>3</td>\n",
       "      <td>3</td>\n",
       "      <td>0</td>\n",
       "    </tr>\n",
       "  </tbody>\n",
       "</table>\n",
       "</div>"
      ],
      "text/plain": [
       "   user_id       city tariff  month  call_count  duration_count  mb_used  \\\n",
       "0     1000  Краснодар  ultra      5          22             159     2252   \n",
       "1     1000  Краснодар  ultra      6          43             172    23213   \n",
       "2     1000  Краснодар  ultra      7          47             340    13988   \n",
       "3     1000  Краснодар  ultra      8          52             408    14043   \n",
       "4     1000  Краснодар  ultra      9          58             466    14556   \n",
       "5     1000  Краснодар  ultra     10          57             350    14690   \n",
       "6     1000  Краснодар  ultra     11          43             338    14745   \n",
       "7     1000  Краснодар  ultra     12          46             333     9808   \n",
       "8     1001     Москва  smart     11          59             430    18405   \n",
       "9     1001     Москва  smart     12          63             414    14018   \n",
       "\n",
       "   message_count  messages_included  mb_per_month_included  minutes_included  \\\n",
       "0             22               1000                  30720              3000   \n",
       "1             60               1000                  30720              3000   \n",
       "2             75               1000                  30720              3000   \n",
       "3             81               1000                  30720              3000   \n",
       "4             57               1000                  30720              3000   \n",
       "5             73               1000                  30720              3000   \n",
       "6             58               1000                  30720              3000   \n",
       "7             70               1000                  30720              3000   \n",
       "8              0                 50                  15360               500   \n",
       "9              0                 50                  15360               500   \n",
       "\n",
       "   rub_monthly_fee  rub_per_gb  rub_per_message  rub_per_minute  \\\n",
       "0             1950         150                1               1   \n",
       "1             1950         150                1               1   \n",
       "2             1950         150                1               1   \n",
       "3             1950         150                1               1   \n",
       "4             1950         150                1               1   \n",
       "5             1950         150                1               1   \n",
       "6             1950         150                1               1   \n",
       "7             1950         150                1               1   \n",
       "8              550         200                3               3   \n",
       "9              550         200                3               3   \n",
       "\n",
       "  monthly_revenue  \n",
       "0               0  \n",
       "1               0  \n",
       "2               0  \n",
       "3               0  \n",
       "4               0  \n",
       "5               0  \n",
       "6               0  \n",
       "7               0  \n",
       "8             790  \n",
       "9               0  "
      ]
     },
     "execution_count": 41,
     "metadata": {},
     "output_type": "execute_result"
    }
   ],
   "source": [
    "#вычесть бесплатный лимит из суммарного количества звонков, сообщений и интернет-трафика\n",
    "#остаток умножить на значение из тарифного плана\n",
    "#прибавить абонентскую плату, соответствующую тарифному плану\n",
    "\n",
    "def monthly_revenue(row):\n",
    "    sms = (row['message_count'] - row['messages_included']) * row['rub_per_message']\n",
    "    min = (row['duration_count'] - row['minutes_included']) * row['rub_per_minute']\n",
    "    gb = (row['mb_used'] - row['mb_per_month_included']) / 1024\n",
    "    gb = np.ceil(gb) * row['rub_per_gb']\n",
    "    total = sms + min + gb + row['rub_monthly_fee']\n",
    "    total = (np.where((total < 0), 0, total)).astype('int')    \n",
    "        \n",
    "    return total\n",
    "\n",
    "df['monthly_revenue'] = df.apply(monthly_revenue, axis=1)\n",
    "\n",
    "df.head(10)"
   ]
  },
  {
   "cell_type": "markdown",
   "metadata": {},
   "source": [
    "**Вывод**"
   ]
  },
  {
   "cell_type": "markdown",
   "metadata": {},
   "source": [
    "Подсчитали необходимые значения, добавив столбец в итоговый датафрейм."
   ]
  },
  {
   "cell_type": "markdown",
   "metadata": {},
   "source": [
    "## Шаг. Проанализировать данные."
   ]
  },
  {
   "cell_type": "markdown",
   "metadata": {},
   "source": [
    "### Необходимо описать поведение клиентов оператора, исходя из выборки."
   ]
  },
  {
   "cell_type": "markdown",
   "metadata": {},
   "source": [
    "Подготовим данные к выборке. Для этого сделаем другой датафрем тем же способом, слепив его из разных табличек. Теперь разбивать по месяцу не нужно. Усредним значения."
   ]
  },
  {
   "cell_type": "code",
   "execution_count": 42,
   "metadata": {},
   "outputs": [
    {
     "data": {
      "text/html": [
       "<div>\n",
       "<style scoped>\n",
       "    .dataframe tbody tr th:only-of-type {\n",
       "        vertical-align: middle;\n",
       "    }\n",
       "\n",
       "    .dataframe tbody tr th {\n",
       "        vertical-align: top;\n",
       "    }\n",
       "\n",
       "    .dataframe thead th {\n",
       "        text-align: right;\n",
       "    }\n",
       "</style>\n",
       "<table border=\"1\" class=\"dataframe\">\n",
       "  <thead>\n",
       "    <tr style=\"text-align: right;\">\n",
       "      <th></th>\n",
       "      <th>duration_count</th>\n",
       "    </tr>\n",
       "    <tr>\n",
       "      <th>user_id</th>\n",
       "      <th></th>\n",
       "    </tr>\n",
       "  </thead>\n",
       "  <tbody>\n",
       "    <tr>\n",
       "      <td>1000</td>\n",
       "      <td>320.750000</td>\n",
       "    </tr>\n",
       "    <tr>\n",
       "      <td>1001</td>\n",
       "      <td>422.000000</td>\n",
       "    </tr>\n",
       "    <tr>\n",
       "      <td>1002</td>\n",
       "      <td>216.714286</td>\n",
       "    </tr>\n",
       "    <tr>\n",
       "      <td>1003</td>\n",
       "      <td>764.400000</td>\n",
       "    </tr>\n",
       "    <tr>\n",
       "      <td>1004</td>\n",
       "      <td>123.375000</td>\n",
       "    </tr>\n",
       "  </tbody>\n",
       "</table>\n",
       "</div>"
      ],
      "text/plain": [
       "         duration_count\n",
       "user_id                \n",
       "1000         320.750000\n",
       "1001         422.000000\n",
       "1002         216.714286\n",
       "1003         764.400000\n",
       "1004         123.375000"
      ]
     },
     "execution_count": 42,
     "metadata": {},
     "output_type": "execute_result"
    }
   ],
   "source": [
    "calls_ppm = calls_pp.pivot_table(index=['user_id'], values='duration_count', aggfunc='mean')\n",
    "calls_pp.reset_index(drop=False, inplace=True)\n",
    "calls_ppm.head()"
   ]
  },
  {
   "cell_type": "code",
   "execution_count": 43,
   "metadata": {},
   "outputs": [
    {
     "name": "stdout",
     "output_type": "stream",
     "text": [
      "<class 'pandas.core.frame.DataFrame'>\n",
      "Int64Index: 492 entries, 1000 to 1499\n",
      "Data columns (total 1 columns):\n",
      "duration_count    492 non-null float64\n",
      "dtypes: float64(1)\n",
      "memory usage: 7.7 KB\n"
     ]
    }
   ],
   "source": [
    "calls_ppm.info()"
   ]
  },
  {
   "cell_type": "code",
   "execution_count": 44,
   "metadata": {
    "scrolled": true
   },
   "outputs": [
    {
     "data": {
      "text/html": [
       "<div>\n",
       "<style scoped>\n",
       "    .dataframe tbody tr th:only-of-type {\n",
       "        vertical-align: middle;\n",
       "    }\n",
       "\n",
       "    .dataframe tbody tr th {\n",
       "        vertical-align: top;\n",
       "    }\n",
       "\n",
       "    .dataframe thead th {\n",
       "        text-align: right;\n",
       "    }\n",
       "</style>\n",
       "<table border=\"1\" class=\"dataframe\">\n",
       "  <thead>\n",
       "    <tr style=\"text-align: right;\">\n",
       "      <th></th>\n",
       "      <th>user_id</th>\n",
       "      <th>message_count</th>\n",
       "    </tr>\n",
       "  </thead>\n",
       "  <tbody>\n",
       "    <tr>\n",
       "      <td>0</td>\n",
       "      <td>1000</td>\n",
       "      <td>62.0</td>\n",
       "    </tr>\n",
       "    <tr>\n",
       "      <td>1</td>\n",
       "      <td>1002</td>\n",
       "      <td>10.0</td>\n",
       "    </tr>\n",
       "    <tr>\n",
       "      <td>2</td>\n",
       "      <td>1003</td>\n",
       "      <td>76.0</td>\n",
       "    </tr>\n",
       "    <tr>\n",
       "      <td>3</td>\n",
       "      <td>1004</td>\n",
       "      <td>149.0</td>\n",
       "    </tr>\n",
       "    <tr>\n",
       "      <td>4</td>\n",
       "      <td>1005</td>\n",
       "      <td>46.0</td>\n",
       "    </tr>\n",
       "  </tbody>\n",
       "</table>\n",
       "</div>"
      ],
      "text/plain": [
       "   user_id  message_count\n",
       "0     1000           62.0\n",
       "1     1002           10.0\n",
       "2     1003           76.0\n",
       "3     1004          149.0\n",
       "4     1005           46.0"
      ]
     },
     "execution_count": 44,
     "metadata": {},
     "output_type": "execute_result"
    }
   ],
   "source": [
    "messages_pm = messages_p.pivot_table(index=['user_id'], values='message_count', aggfunc='mean')\n",
    "messages_pm.reset_index(drop=False, inplace=True)\n",
    "messages_pm.head()"
   ]
  },
  {
   "cell_type": "code",
   "execution_count": 45,
   "metadata": {},
   "outputs": [
    {
     "name": "stdout",
     "output_type": "stream",
     "text": [
      "<class 'pandas.core.frame.DataFrame'>\n",
      "RangeIndex: 426 entries, 0 to 425\n",
      "Data columns (total 2 columns):\n",
      "user_id          426 non-null int64\n",
      "message_count    426 non-null float64\n",
      "dtypes: float64(1), int64(1)\n",
      "memory usage: 6.8 KB\n"
     ]
    }
   ],
   "source": [
    "messages_pm.info()"
   ]
  },
  {
   "cell_type": "code",
   "execution_count": 46,
   "metadata": {
    "scrolled": true
   },
   "outputs": [
    {
     "data": {
      "text/html": [
       "<div>\n",
       "<style scoped>\n",
       "    .dataframe tbody tr th:only-of-type {\n",
       "        vertical-align: middle;\n",
       "    }\n",
       "\n",
       "    .dataframe tbody tr th {\n",
       "        vertical-align: top;\n",
       "    }\n",
       "\n",
       "    .dataframe thead th {\n",
       "        text-align: right;\n",
       "    }\n",
       "</style>\n",
       "<table border=\"1\" class=\"dataframe\">\n",
       "  <thead>\n",
       "    <tr style=\"text-align: right;\">\n",
       "      <th></th>\n",
       "      <th>user_id</th>\n",
       "      <th>mb_used</th>\n",
       "    </tr>\n",
       "  </thead>\n",
       "  <tbody>\n",
       "    <tr>\n",
       "      <td>0</td>\n",
       "      <td>1000</td>\n",
       "      <td>13411.875000</td>\n",
       "    </tr>\n",
       "    <tr>\n",
       "      <td>1</td>\n",
       "      <td>1001</td>\n",
       "      <td>16211.500000</td>\n",
       "    </tr>\n",
       "    <tr>\n",
       "      <td>2</td>\n",
       "      <td>1002</td>\n",
       "      <td>16555.714286</td>\n",
       "    </tr>\n",
       "    <tr>\n",
       "      <td>3</td>\n",
       "      <td>1003</td>\n",
       "      <td>11445.400000</td>\n",
       "    </tr>\n",
       "    <tr>\n",
       "      <td>4</td>\n",
       "      <td>1004</td>\n",
       "      <td>18612.125000</td>\n",
       "    </tr>\n",
       "  </tbody>\n",
       "</table>\n",
       "</div>"
      ],
      "text/plain": [
       "   user_id       mb_used\n",
       "0     1000  13411.875000\n",
       "1     1001  16211.500000\n",
       "2     1002  16555.714286\n",
       "3     1003  11445.400000\n",
       "4     1004  18612.125000"
      ]
     },
     "execution_count": 46,
     "metadata": {},
     "output_type": "execute_result"
    }
   ],
   "source": [
    "internet_pm = internet_p.pivot_table(index=['user_id'], values='mb_used', aggfunc='mean')\n",
    "internet_pm.reset_index(drop=False, inplace=True)\n",
    "internet_pm.head()"
   ]
  },
  {
   "cell_type": "code",
   "execution_count": 47,
   "metadata": {
    "scrolled": true
   },
   "outputs": [
    {
     "name": "stdout",
     "output_type": "stream",
     "text": [
      "<class 'pandas.core.frame.DataFrame'>\n",
      "RangeIndex: 497 entries, 0 to 496\n",
      "Data columns (total 2 columns):\n",
      "user_id    497 non-null int64\n",
      "mb_used    497 non-null float64\n",
      "dtypes: float64(1), int64(1)\n",
      "memory usage: 7.9 KB\n"
     ]
    }
   ],
   "source": [
    "internet_pm.info()"
   ]
  },
  {
   "cell_type": "code",
   "execution_count": 48,
   "metadata": {
    "scrolled": true
   },
   "outputs": [
    {
     "data": {
      "text/html": [
       "<div>\n",
       "<style scoped>\n",
       "    .dataframe tbody tr th:only-of-type {\n",
       "        vertical-align: middle;\n",
       "    }\n",
       "\n",
       "    .dataframe tbody tr th {\n",
       "        vertical-align: top;\n",
       "    }\n",
       "\n",
       "    .dataframe thead th {\n",
       "        text-align: right;\n",
       "    }\n",
       "</style>\n",
       "<table border=\"1\" class=\"dataframe\">\n",
       "  <thead>\n",
       "    <tr style=\"text-align: right;\">\n",
       "      <th></th>\n",
       "      <th>user_id</th>\n",
       "      <th>city</th>\n",
       "      <th>tariff</th>\n",
       "      <th>duration_count</th>\n",
       "      <th>mb_used</th>\n",
       "      <th>message_count</th>\n",
       "      <th>messages_included</th>\n",
       "      <th>mb_per_month_included</th>\n",
       "      <th>minutes_included</th>\n",
       "      <th>rub_monthly_fee</th>\n",
       "      <th>rub_per_gb</th>\n",
       "      <th>rub_per_message</th>\n",
       "      <th>rub_per_minute</th>\n",
       "    </tr>\n",
       "  </thead>\n",
       "  <tbody>\n",
       "    <tr>\n",
       "      <td>0</td>\n",
       "      <td>1000</td>\n",
       "      <td>Краснодар</td>\n",
       "      <td>ultra</td>\n",
       "      <td>320.750000</td>\n",
       "      <td>13411.875000</td>\n",
       "      <td>62.0</td>\n",
       "      <td>1000</td>\n",
       "      <td>30720</td>\n",
       "      <td>3000</td>\n",
       "      <td>1950</td>\n",
       "      <td>150</td>\n",
       "      <td>1</td>\n",
       "      <td>1</td>\n",
       "    </tr>\n",
       "    <tr>\n",
       "      <td>1</td>\n",
       "      <td>1001</td>\n",
       "      <td>Москва</td>\n",
       "      <td>smart</td>\n",
       "      <td>422.000000</td>\n",
       "      <td>16211.500000</td>\n",
       "      <td>NaN</td>\n",
       "      <td>50</td>\n",
       "      <td>15360</td>\n",
       "      <td>500</td>\n",
       "      <td>550</td>\n",
       "      <td>200</td>\n",
       "      <td>3</td>\n",
       "      <td>3</td>\n",
       "    </tr>\n",
       "    <tr>\n",
       "      <td>2</td>\n",
       "      <td>1002</td>\n",
       "      <td>Стерлитамак</td>\n",
       "      <td>smart</td>\n",
       "      <td>216.714286</td>\n",
       "      <td>16555.714286</td>\n",
       "      <td>10.0</td>\n",
       "      <td>50</td>\n",
       "      <td>15360</td>\n",
       "      <td>500</td>\n",
       "      <td>550</td>\n",
       "      <td>200</td>\n",
       "      <td>3</td>\n",
       "      <td>3</td>\n",
       "    </tr>\n",
       "    <tr>\n",
       "      <td>3</td>\n",
       "      <td>1003</td>\n",
       "      <td>Москва</td>\n",
       "      <td>ultra</td>\n",
       "      <td>764.400000</td>\n",
       "      <td>11445.400000</td>\n",
       "      <td>76.0</td>\n",
       "      <td>1000</td>\n",
       "      <td>30720</td>\n",
       "      <td>3000</td>\n",
       "      <td>1950</td>\n",
       "      <td>150</td>\n",
       "      <td>1</td>\n",
       "      <td>1</td>\n",
       "    </tr>\n",
       "    <tr>\n",
       "      <td>4</td>\n",
       "      <td>1004</td>\n",
       "      <td>Новокузнецк</td>\n",
       "      <td>ultra</td>\n",
       "      <td>123.375000</td>\n",
       "      <td>18612.125000</td>\n",
       "      <td>149.0</td>\n",
       "      <td>1000</td>\n",
       "      <td>30720</td>\n",
       "      <td>3000</td>\n",
       "      <td>1950</td>\n",
       "      <td>150</td>\n",
       "      <td>1</td>\n",
       "      <td>1</td>\n",
       "    </tr>\n",
       "  </tbody>\n",
       "</table>\n",
       "</div>"
      ],
      "text/plain": [
       "   user_id         city tariff  duration_count       mb_used  message_count  \\\n",
       "0     1000    Краснодар  ultra      320.750000  13411.875000           62.0   \n",
       "1     1001       Москва  smart      422.000000  16211.500000            NaN   \n",
       "2     1002  Стерлитамак  smart      216.714286  16555.714286           10.0   \n",
       "3     1003       Москва  ultra      764.400000  11445.400000           76.0   \n",
       "4     1004  Новокузнецк  ultra      123.375000  18612.125000          149.0   \n",
       "\n",
       "   messages_included  mb_per_month_included  minutes_included  \\\n",
       "0               1000                  30720              3000   \n",
       "1                 50                  15360               500   \n",
       "2                 50                  15360               500   \n",
       "3               1000                  30720              3000   \n",
       "4               1000                  30720              3000   \n",
       "\n",
       "   rub_monthly_fee  rub_per_gb  rub_per_message  rub_per_minute  \n",
       "0             1950         150                1               1  \n",
       "1              550         200                3               3  \n",
       "2              550         200                3               3  \n",
       "3             1950         150                1               1  \n",
       "4             1950         150                1               1  "
      ]
     },
     "execution_count": 48,
     "metadata": {},
     "output_type": "execute_result"
    }
   ],
   "source": [
    "df_m = users.merge(calls_ppm, on=['user_id'], how='outer')\n",
    "df_m = df_m.merge(internet_pm, on=['user_id'], how='outer')\n",
    "df_m = df_m.merge(messages_pm, on=['user_id'], how='outer')\n",
    "df_m = df_m.merge(tariffs, on=['tariff'], how='left')\n",
    "df_m.head()"
   ]
  },
  {
   "cell_type": "code",
   "execution_count": 49,
   "metadata": {
    "scrolled": false
   },
   "outputs": [
    {
     "name": "stdout",
     "output_type": "stream",
     "text": [
      "<class 'pandas.core.frame.DataFrame'>\n",
      "Int64Index: 500 entries, 0 to 499\n",
      "Data columns (total 13 columns):\n",
      "user_id                  500 non-null int64\n",
      "city                     500 non-null object\n",
      "tariff                   500 non-null object\n",
      "duration_count           492 non-null float64\n",
      "mb_used                  497 non-null float64\n",
      "message_count            426 non-null float64\n",
      "messages_included        500 non-null int64\n",
      "mb_per_month_included    500 non-null int64\n",
      "minutes_included         500 non-null int64\n",
      "rub_monthly_fee          500 non-null int64\n",
      "rub_per_gb               500 non-null int64\n",
      "rub_per_message          500 non-null int64\n",
      "rub_per_minute           500 non-null int64\n",
      "dtypes: float64(3), int64(8), object(2)\n",
      "memory usage: 54.7+ KB\n"
     ]
    }
   ],
   "source": [
    "df_m.info()"
   ]
  },
  {
   "cell_type": "code",
   "execution_count": 50,
   "metadata": {},
   "outputs": [
    {
     "name": "stdout",
     "output_type": "stream",
     "text": [
      "<class 'pandas.core.frame.DataFrame'>\n",
      "Int64Index: 500 entries, 0 to 499\n",
      "Data columns (total 13 columns):\n",
      "user_id                  500 non-null int64\n",
      "city                     500 non-null object\n",
      "tariff                   500 non-null object\n",
      "duration_count           500 non-null int64\n",
      "mb_used                  500 non-null int64\n",
      "message_count            500 non-null int64\n",
      "messages_included        500 non-null int64\n",
      "mb_per_month_included    500 non-null int64\n",
      "minutes_included         500 non-null int64\n",
      "rub_monthly_fee          500 non-null int64\n",
      "rub_per_gb               500 non-null int64\n",
      "rub_per_message          500 non-null int64\n",
      "rub_per_minute           500 non-null int64\n",
      "dtypes: int64(11), object(2)\n",
      "memory usage: 54.7+ KB\n"
     ]
    }
   ],
   "source": [
    "columns = ['duration_count', \n",
    "           'mb_used', \n",
    "           'message_count']\n",
    "\n",
    "for i in columns:\n",
    "    df_m[i] = df_m[i].fillna(0)\n",
    "    df_m[i] = df_m[i].astype('int')\n",
    "    \n",
    "df_m.info()"
   ]
  },
  {
   "cell_type": "markdown",
   "metadata": {},
   "source": [
    "### Сколько минут разговора, сколько сообщений и какой объём интернет-трафика требуется пользователям каждого тарифа в месяц?"
   ]
  },
  {
   "cell_type": "code",
   "execution_count": 51,
   "metadata": {},
   "outputs": [
    {
     "data": {
      "text/html": [
       "<div>\n",
       "<style scoped>\n",
       "    .dataframe tbody tr th:only-of-type {\n",
       "        vertical-align: middle;\n",
       "    }\n",
       "\n",
       "    .dataframe tbody tr th {\n",
       "        vertical-align: top;\n",
       "    }\n",
       "\n",
       "    .dataframe thead th {\n",
       "        text-align: right;\n",
       "    }\n",
       "</style>\n",
       "<table border=\"1\" class=\"dataframe\">\n",
       "  <thead>\n",
       "    <tr style=\"text-align: right;\">\n",
       "      <th></th>\n",
       "      <th>tariff</th>\n",
       "      <th>duration_count</th>\n",
       "      <th>mb_used</th>\n",
       "      <th>message_count</th>\n",
       "    </tr>\n",
       "  </thead>\n",
       "  <tbody>\n",
       "    <tr>\n",
       "      <td>0</td>\n",
       "      <td>smart</td>\n",
       "      <td>418.068376</td>\n",
       "      <td>16123.222222</td>\n",
       "      <td>32.299145</td>\n",
       "    </tr>\n",
       "    <tr>\n",
       "      <td>1</td>\n",
       "      <td>ultra</td>\n",
       "      <td>524.288591</td>\n",
       "      <td>19443.315436</td>\n",
       "      <td>53.691275</td>\n",
       "    </tr>\n",
       "  </tbody>\n",
       "</table>\n",
       "</div>"
      ],
      "text/plain": [
       "  tariff  duration_count       mb_used  message_count\n",
       "0  smart      418.068376  16123.222222      32.299145\n",
       "1  ultra      524.288591  19443.315436      53.691275"
      ]
     },
     "execution_count": 51,
     "metadata": {},
     "output_type": "execute_result"
    }
   ],
   "source": [
    "df_mf = df_m.pivot_table(index='tariff', values=['duration_count', 'message_count', 'mb_used'])\n",
    "df_mf.reset_index(drop=False, inplace=True)\n",
    "df_mf.head()"
   ]
  },
  {
   "cell_type": "markdown",
   "metadata": {},
   "source": [
    "Из общих выводов видно, что продолжительность минут, количество сообщений и потраченный трафик больше у тарифа Ультра."
   ]
  },
  {
   "cell_type": "markdown",
   "metadata": {},
   "source": [
    "### Посчитать среднее количество, дисперсию и стандартное отклонение."
   ]
  },
  {
   "cell_type": "code",
   "execution_count": 52,
   "metadata": {},
   "outputs": [
    {
     "data": {
      "text/html": [
       "<div>\n",
       "<style scoped>\n",
       "    .dataframe tbody tr th:only-of-type {\n",
       "        vertical-align: middle;\n",
       "    }\n",
       "\n",
       "    .dataframe tbody tr th {\n",
       "        vertical-align: top;\n",
       "    }\n",
       "\n",
       "    .dataframe thead tr th {\n",
       "        text-align: left;\n",
       "    }\n",
       "</style>\n",
       "<table border=\"1\" class=\"dataframe\">\n",
       "  <thead>\n",
       "    <tr>\n",
       "      <th></th>\n",
       "      <th>tariff</th>\n",
       "      <th colspan=\"3\" halign=\"left\">mean</th>\n",
       "      <th colspan=\"3\" halign=\"left\">var</th>\n",
       "      <th colspan=\"3\" halign=\"left\">std</th>\n",
       "    </tr>\n",
       "    <tr>\n",
       "      <th></th>\n",
       "      <th></th>\n",
       "      <th>duration_count</th>\n",
       "      <th>mb_used</th>\n",
       "      <th>message_count</th>\n",
       "      <th>duration_count</th>\n",
       "      <th>mb_used</th>\n",
       "      <th>message_count</th>\n",
       "      <th>duration_count</th>\n",
       "      <th>mb_used</th>\n",
       "      <th>message_count</th>\n",
       "    </tr>\n",
       "  </thead>\n",
       "  <tbody>\n",
       "    <tr>\n",
       "      <td>0</td>\n",
       "      <td>smart</td>\n",
       "      <td>418.068376</td>\n",
       "      <td>16123.222222</td>\n",
       "      <td>32.299145</td>\n",
       "      <td>21471.269597</td>\n",
       "      <td>1.347398e+07</td>\n",
       "      <td>702.033114</td>\n",
       "      <td>146.530780</td>\n",
       "      <td>3670.691395</td>\n",
       "      <td>26.495907</td>\n",
       "    </tr>\n",
       "    <tr>\n",
       "      <td>1</td>\n",
       "      <td>ultra</td>\n",
       "      <td>524.288591</td>\n",
       "      <td>19443.315436</td>\n",
       "      <td>53.691275</td>\n",
       "      <td>80691.409396</td>\n",
       "      <td>7.091698e+07</td>\n",
       "      <td>2151.458099</td>\n",
       "      <td>284.062334</td>\n",
       "      <td>8421.221856</td>\n",
       "      <td>46.383813</td>\n",
       "    </tr>\n",
       "  </tbody>\n",
       "</table>\n",
       "</div>"
      ],
      "text/plain": [
       "  tariff           mean                                        var  \\\n",
       "         duration_count       mb_used message_count duration_count   \n",
       "0  smart     418.068376  16123.222222     32.299145   21471.269597   \n",
       "1  ultra     524.288591  19443.315436     53.691275   80691.409396   \n",
       "\n",
       "                                         std                             \n",
       "        mb_used message_count duration_count      mb_used message_count  \n",
       "0  1.347398e+07    702.033114     146.530780  3670.691395     26.495907  \n",
       "1  7.091698e+07   2151.458099     284.062334  8421.221856     46.383813  "
      ]
     },
     "execution_count": 52,
     "metadata": {},
     "output_type": "execute_result"
    }
   ],
   "source": [
    "df_mff = df_m.pivot_table(index='tariff', values=['duration_count', 'message_count', 'mb_used'], aggfunc= ['mean', 'var','std'])\n",
    "df_mff.reset_index(drop=False, inplace=True)\n",
    "df_mff.head()"
   ]
  },
  {
   "cell_type": "markdown",
   "metadata": {},
   "source": [
    "У тарифа Ультра дисперсия и стандартное отклонение больше, чем у тарифа Смарт."
   ]
  },
  {
   "cell_type": "markdown",
   "metadata": {},
   "source": [
    "Для построения дальнейших гистограмм, выведим по новому датафрейму выручку."
   ]
  },
  {
   "cell_type": "code",
   "execution_count": 53,
   "metadata": {
    "scrolled": true
   },
   "outputs": [
    {
     "data": {
      "text/html": [
       "<div>\n",
       "<style scoped>\n",
       "    .dataframe tbody tr th:only-of-type {\n",
       "        vertical-align: middle;\n",
       "    }\n",
       "\n",
       "    .dataframe tbody tr th {\n",
       "        vertical-align: top;\n",
       "    }\n",
       "\n",
       "    .dataframe thead th {\n",
       "        text-align: right;\n",
       "    }\n",
       "</style>\n",
       "<table border=\"1\" class=\"dataframe\">\n",
       "  <thead>\n",
       "    <tr style=\"text-align: right;\">\n",
       "      <th></th>\n",
       "      <th>user_id</th>\n",
       "      <th>city</th>\n",
       "      <th>tariff</th>\n",
       "      <th>duration_count</th>\n",
       "      <th>mb_used</th>\n",
       "      <th>message_count</th>\n",
       "      <th>messages_included</th>\n",
       "      <th>mb_per_month_included</th>\n",
       "      <th>minutes_included</th>\n",
       "      <th>rub_monthly_fee</th>\n",
       "      <th>rub_per_gb</th>\n",
       "      <th>rub_per_message</th>\n",
       "      <th>rub_per_minute</th>\n",
       "      <th>monthly_revenue</th>\n",
       "    </tr>\n",
       "  </thead>\n",
       "  <tbody>\n",
       "    <tr>\n",
       "      <td>0</td>\n",
       "      <td>1000</td>\n",
       "      <td>Краснодар</td>\n",
       "      <td>ultra</td>\n",
       "      <td>320</td>\n",
       "      <td>13411</td>\n",
       "      <td>62</td>\n",
       "      <td>1000</td>\n",
       "      <td>30720</td>\n",
       "      <td>3000</td>\n",
       "      <td>1950</td>\n",
       "      <td>150</td>\n",
       "      <td>1</td>\n",
       "      <td>1</td>\n",
       "      <td>0</td>\n",
       "    </tr>\n",
       "    <tr>\n",
       "      <td>1</td>\n",
       "      <td>1001</td>\n",
       "      <td>Москва</td>\n",
       "      <td>smart</td>\n",
       "      <td>422</td>\n",
       "      <td>16211</td>\n",
       "      <td>0</td>\n",
       "      <td>50</td>\n",
       "      <td>15360</td>\n",
       "      <td>500</td>\n",
       "      <td>550</td>\n",
       "      <td>200</td>\n",
       "      <td>3</td>\n",
       "      <td>3</td>\n",
       "      <td>366</td>\n",
       "    </tr>\n",
       "    <tr>\n",
       "      <td>2</td>\n",
       "      <td>1002</td>\n",
       "      <td>Стерлитамак</td>\n",
       "      <td>smart</td>\n",
       "      <td>216</td>\n",
       "      <td>16555</td>\n",
       "      <td>10</td>\n",
       "      <td>50</td>\n",
       "      <td>15360</td>\n",
       "      <td>500</td>\n",
       "      <td>550</td>\n",
       "      <td>200</td>\n",
       "      <td>3</td>\n",
       "      <td>3</td>\n",
       "      <td>0</td>\n",
       "    </tr>\n",
       "    <tr>\n",
       "      <td>3</td>\n",
       "      <td>1003</td>\n",
       "      <td>Москва</td>\n",
       "      <td>ultra</td>\n",
       "      <td>764</td>\n",
       "      <td>11445</td>\n",
       "      <td>76</td>\n",
       "      <td>1000</td>\n",
       "      <td>30720</td>\n",
       "      <td>3000</td>\n",
       "      <td>1950</td>\n",
       "      <td>150</td>\n",
       "      <td>1</td>\n",
       "      <td>1</td>\n",
       "      <td>0</td>\n",
       "    </tr>\n",
       "    <tr>\n",
       "      <td>4</td>\n",
       "      <td>1004</td>\n",
       "      <td>Новокузнецк</td>\n",
       "      <td>ultra</td>\n",
       "      <td>123</td>\n",
       "      <td>18612</td>\n",
       "      <td>149</td>\n",
       "      <td>1000</td>\n",
       "      <td>30720</td>\n",
       "      <td>3000</td>\n",
       "      <td>1950</td>\n",
       "      <td>150</td>\n",
       "      <td>1</td>\n",
       "      <td>1</td>\n",
       "      <td>0</td>\n",
       "    </tr>\n",
       "    <tr>\n",
       "      <td>5</td>\n",
       "      <td>1005</td>\n",
       "      <td>Набережные Челны</td>\n",
       "      <td>smart</td>\n",
       "      <td>550</td>\n",
       "      <td>8296</td>\n",
       "      <td>46</td>\n",
       "      <td>50</td>\n",
       "      <td>15360</td>\n",
       "      <td>500</td>\n",
       "      <td>550</td>\n",
       "      <td>200</td>\n",
       "      <td>3</td>\n",
       "      <td>3</td>\n",
       "      <td>0</td>\n",
       "    </tr>\n",
       "    <tr>\n",
       "      <td>6</td>\n",
       "      <td>1006</td>\n",
       "      <td>Ульяновск</td>\n",
       "      <td>smart</td>\n",
       "      <td>318</td>\n",
       "      <td>14908</td>\n",
       "      <td>0</td>\n",
       "      <td>50</td>\n",
       "      <td>15360</td>\n",
       "      <td>500</td>\n",
       "      <td>550</td>\n",
       "      <td>200</td>\n",
       "      <td>3</td>\n",
       "      <td>3</td>\n",
       "      <td>0</td>\n",
       "    </tr>\n",
       "    <tr>\n",
       "      <td>7</td>\n",
       "      <td>1007</td>\n",
       "      <td>Москва</td>\n",
       "      <td>smart</td>\n",
       "      <td>486</td>\n",
       "      <td>14605</td>\n",
       "      <td>25</td>\n",
       "      <td>50</td>\n",
       "      <td>15360</td>\n",
       "      <td>500</td>\n",
       "      <td>550</td>\n",
       "      <td>200</td>\n",
       "      <td>3</td>\n",
       "      <td>3</td>\n",
       "      <td>433</td>\n",
       "    </tr>\n",
       "    <tr>\n",
       "      <td>8</td>\n",
       "      <td>1008</td>\n",
       "      <td>Челябинск</td>\n",
       "      <td>smart</td>\n",
       "      <td>339</td>\n",
       "      <td>13199</td>\n",
       "      <td>56</td>\n",
       "      <td>50</td>\n",
       "      <td>15360</td>\n",
       "      <td>500</td>\n",
       "      <td>550</td>\n",
       "      <td>200</td>\n",
       "      <td>3</td>\n",
       "      <td>3</td>\n",
       "      <td>0</td>\n",
       "    </tr>\n",
       "    <tr>\n",
       "      <td>9</td>\n",
       "      <td>1009</td>\n",
       "      <td>Пермь</td>\n",
       "      <td>smart</td>\n",
       "      <td>218</td>\n",
       "      <td>17718</td>\n",
       "      <td>11</td>\n",
       "      <td>50</td>\n",
       "      <td>15360</td>\n",
       "      <td>500</td>\n",
       "      <td>550</td>\n",
       "      <td>200</td>\n",
       "      <td>3</td>\n",
       "      <td>3</td>\n",
       "      <td>187</td>\n",
       "    </tr>\n",
       "  </tbody>\n",
       "</table>\n",
       "</div>"
      ],
      "text/plain": [
       "   user_id              city tariff  duration_count  mb_used  message_count  \\\n",
       "0     1000         Краснодар  ultra             320    13411             62   \n",
       "1     1001            Москва  smart             422    16211              0   \n",
       "2     1002       Стерлитамак  smart             216    16555             10   \n",
       "3     1003            Москва  ultra             764    11445             76   \n",
       "4     1004       Новокузнецк  ultra             123    18612            149   \n",
       "5     1005  Набережные Челны  smart             550     8296             46   \n",
       "6     1006         Ульяновск  smart             318    14908              0   \n",
       "7     1007            Москва  smart             486    14605             25   \n",
       "8     1008         Челябинск  smart             339    13199             56   \n",
       "9     1009             Пермь  smart             218    17718             11   \n",
       "\n",
       "   messages_included  mb_per_month_included  minutes_included  \\\n",
       "0               1000                  30720              3000   \n",
       "1                 50                  15360               500   \n",
       "2                 50                  15360               500   \n",
       "3               1000                  30720              3000   \n",
       "4               1000                  30720              3000   \n",
       "5                 50                  15360               500   \n",
       "6                 50                  15360               500   \n",
       "7                 50                  15360               500   \n",
       "8                 50                  15360               500   \n",
       "9                 50                  15360               500   \n",
       "\n",
       "   rub_monthly_fee  rub_per_gb  rub_per_message  rub_per_minute  \\\n",
       "0             1950         150                1               1   \n",
       "1              550         200                3               3   \n",
       "2              550         200                3               3   \n",
       "3             1950         150                1               1   \n",
       "4             1950         150                1               1   \n",
       "5              550         200                3               3   \n",
       "6              550         200                3               3   \n",
       "7              550         200                3               3   \n",
       "8              550         200                3               3   \n",
       "9              550         200                3               3   \n",
       "\n",
       "  monthly_revenue  \n",
       "0               0  \n",
       "1             366  \n",
       "2               0  \n",
       "3               0  \n",
       "4               0  \n",
       "5               0  \n",
       "6               0  \n",
       "7             433  \n",
       "8               0  \n",
       "9             187  "
      ]
     },
     "execution_count": 53,
     "metadata": {},
     "output_type": "execute_result"
    }
   ],
   "source": [
    "#вычесть бесплатный лимит из суммарного количества звонков, сообщений и интернет-трафика\n",
    "#остаток умножить на значение из тарифного плана\n",
    "#прибавить абонентскую плату, соответствующую тарифному плану\n",
    "\n",
    "def monthly_revenue(row):\n",
    "    sms = (row['message_count'] - row['messages_included']) * row['rub_per_message']\n",
    "    min = (row['duration_count'] - row['minutes_included']) * row['rub_per_minute']\n",
    "    gb = (row['mb_used'] - row['mb_per_month_included']) / 1024\n",
    "    gb = np.ceil(gb) * row['rub_per_gb']\n",
    "    total = sms + min + gb + row['rub_monthly_fee']\n",
    "    total = (np.where((total < 0), 0, total)).astype('int')    \n",
    "        \n",
    "    return total\n",
    "\n",
    "df_m['monthly_revenue'] = df_m.apply(monthly_revenue, axis=1)\n",
    "\n",
    "df_m.head(10)"
   ]
  },
  {
   "cell_type": "code",
   "execution_count": 54,
   "metadata": {
    "scrolled": true
   },
   "outputs": [
    {
     "name": "stdout",
     "output_type": "stream",
     "text": [
      "<class 'pandas.core.frame.DataFrame'>\n",
      "Int64Index: 500 entries, 0 to 499\n",
      "Data columns (total 14 columns):\n",
      "user_id                  500 non-null int64\n",
      "city                     500 non-null object\n",
      "tariff                   500 non-null object\n",
      "duration_count           500 non-null int64\n",
      "mb_used                  500 non-null int64\n",
      "message_count            500 non-null int64\n",
      "messages_included        500 non-null int64\n",
      "mb_per_month_included    500 non-null int64\n",
      "minutes_included         500 non-null int64\n",
      "rub_monthly_fee          500 non-null int64\n",
      "rub_per_gb               500 non-null int64\n",
      "rub_per_message          500 non-null int64\n",
      "rub_per_minute           500 non-null int64\n",
      "monthly_revenue          500 non-null object\n",
      "dtypes: int64(11), object(3)\n",
      "memory usage: 58.6+ KB\n"
     ]
    }
   ],
   "source": [
    "df_m.info()"
   ]
  },
  {
   "cell_type": "markdown",
   "metadata": {},
   "source": [
    "### Построить гистограммы. Описать распределения."
   ]
  },
  {
   "cell_type": "markdown",
   "metadata": {},
   "source": [
    "Построим гистограммы по каждой услуге."
   ]
  },
  {
   "cell_type": "code",
   "execution_count": 55,
   "metadata": {
    "scrolled": false
   },
   "outputs": [
    {
     "data": {
      "text/plain": [
       "<function matplotlib.pyplot.show(*args, **kw)>"
      ]
     },
     "execution_count": 55,
     "metadata": {},
     "output_type": "execute_result"
    },
    {
     "data": {
      "image/png": "[encoded data removed]",
      "text/plain": [
       "<Figure size 432x288 with 1 Axes>"
      ]
     },
     "metadata": {
      "needs_background": "light"
     },
     "output_type": "display_data"
    }
   ],
   "source": [
    "plt.hist(df_m[df_m['tariff'] == 'smart']['message_count'], label = 'smart')\n",
    "plt.hist(df_m[df_m['tariff'] == 'ultra']['message_count'], label = 'ultra')\n",
    "plt.legend(loc='upper right')\n",
    "plt.title('Среднее количество сообщений в месяц')\n",
    "plt.show"
   ]
  },
  {
   "cell_type": "markdown",
   "metadata": {},
   "source": [
    "Как видно из графика распределение не нормально, а скошено вправо."
   ]
  },
  {
   "cell_type": "code",
   "execution_count": 56,
   "metadata": {
    "scrolled": true
   },
   "outputs": [
    {
     "data": {
      "text/plain": [
       "<function matplotlib.pyplot.show(*args, **kw)>"
      ]
     },
     "execution_count": 56,
     "metadata": {},
     "output_type": "execute_result"
    },
    {
     "data": {
      "image/png": "[encoded data removed]",
      "text/plain": [
       "<Figure size 432x288 with 1 Axes>"
      ]
     },
     "metadata": {
      "needs_background": "light"
     },
     "output_type": "display_data"
    }
   ],
   "source": [
    "plt.hist(df_m[df_m['tariff'] == 'smart']['duration_count'], label = 'smart')\n",
    "plt.hist(df_m[df_m['tariff'] == 'ultra']['duration_count'], label = 'ultra')\n",
    "plt.legend(loc='upper right')\n",
    "plt.title('Среднее количество минут в месяц')\n",
    "plt.show"
   ]
  },
  {
   "cell_type": "markdown",
   "metadata": {},
   "source": [
    "У тарифа Смарт распределение выглядит нормально, а у тарифа Ультра значения немного совсем скосилисьв отрицательную сторону."
   ]
  },
  {
   "cell_type": "code",
   "execution_count": 57,
   "metadata": {
    "scrolled": true
   },
   "outputs": [
    {
     "data": {
      "text/plain": [
       "<function matplotlib.pyplot.show(*args, **kw)>"
      ]
     },
     "execution_count": 57,
     "metadata": {},
     "output_type": "execute_result"
    },
    {
     "data": {
      "image/png": "[encoded data removed]",
      "text/plain": [
       "<Figure size 432x288 with 1 Axes>"
      ]
     },
     "metadata": {
      "needs_background": "light"
     },
     "output_type": "display_data"
    }
   ],
   "source": [
    "plt.hist(df_m[df_m['tariff'] == 'smart']['mb_used'], label = 'smart')\n",
    "plt.hist(df_m[df_m['tariff'] == 'ultra']['mb_used'], label = 'ultra')\n",
    "plt.legend(loc='upper right')\n",
    "plt.title('Потрачено трафика в месяц')\n",
    "plt.show"
   ]
  },
  {
   "cell_type": "markdown",
   "metadata": {},
   "source": [
    "У тарифа Смарт график распредлён нлормально, а у тарифа Ультра значения скошены немного вправо."
   ]
  },
  {
   "cell_type": "markdown",
   "metadata": {},
   "source": [
    "**Вывод**"
   ]
  },
  {
   "cell_type": "markdown",
   "metadata": {},
   "source": [
    "Как видно, по всем услугам тариф Смарт лидирует, на него больше тратят деньги."
   ]
  },
  {
   "cell_type": "markdown",
   "metadata": {},
   "source": [
    "## Шаг. Проверить гипотезы:"
   ]
  },
  {
   "cell_type": "markdown",
   "metadata": {},
   "source": [
    "### Средняя выручка пользователей тарифов «Ультра» и «Смарт» различаются."
   ]
  },
  {
   "cell_type": "markdown",
   "metadata": {},
   "source": [
    "<body>\n",
    "Сформулируем гипотезы.<br/>\n",
    "Нулевая гипотеза: \"Средняя выручка пользователей тарифов \"Ультра\" и \"Смарт\" равна.<br/> \n",
    "Альтернативная гипотеза: \"Средняя выручка пользователей тарифов \"Ультра\" и \"Смарт\" не равна.\"<br/>\n",
    "Возьмём обычный уровень статистической значимости P≤0,05. Его можно интерпретировать так: \"получен статистически значимый результат\".\n",
    "    </body>"
   ]
  },
  {
   "cell_type": "code",
   "execution_count": 58,
   "metadata": {
    "scrolled": true
   },
   "outputs": [
    {
     "data": {
      "text/html": [
       "<div>\n",
       "<style scoped>\n",
       "    .dataframe tbody tr th:only-of-type {\n",
       "        vertical-align: middle;\n",
       "    }\n",
       "\n",
       "    .dataframe tbody tr th {\n",
       "        vertical-align: top;\n",
       "    }\n",
       "\n",
       "    .dataframe thead th {\n",
       "        text-align: right;\n",
       "    }\n",
       "</style>\n",
       "<table border=\"1\" class=\"dataframe\">\n",
       "  <thead>\n",
       "    <tr style=\"text-align: right;\">\n",
       "      <th></th>\n",
       "      <th>tariff</th>\n",
       "      <th>monthly_revenue</th>\n",
       "    </tr>\n",
       "  </thead>\n",
       "  <tbody>\n",
       "    <tr>\n",
       "      <td>0</td>\n",
       "      <td>smart</td>\n",
       "      <td>229565</td>\n",
       "    </tr>\n",
       "    <tr>\n",
       "      <td>1</td>\n",
       "      <td>ultra</td>\n",
       "      <td>0</td>\n",
       "    </tr>\n",
       "  </tbody>\n",
       "</table>\n",
       "</div>"
      ],
      "text/plain": [
       "  tariff  monthly_revenue\n",
       "0  smart           229565\n",
       "1  ultra                0"
      ]
     },
     "execution_count": 58,
     "metadata": {},
     "output_type": "execute_result"
    }
   ],
   "source": [
    "#Подготовим данные \n",
    "df_mm = df_m.groupby(['tariff']).agg({'monthly_revenue':'sum'}).reset_index()\n",
    "df_mm.columns = ['tariff', 'monthly_revenue']\n",
    "df_mm"
   ]
  },
  {
   "cell_type": "code",
   "execution_count": 59,
   "metadata": {},
   "outputs": [
    {
     "name": "stdout",
     "output_type": "stream",
     "text": [
      "р-значение: 1.7104493456972405e-55\n",
      "Отвергаем нулевую гипотезу\n"
     ]
    }
   ],
   "source": [
    "v_ultra = df_m[(df_m['tariff'] == 'ultra')]['monthly_revenue'] #выборка по тарифу Ультра\n",
    "\n",
    "v_smart = df_m[(df_m['tariff'] == 'smart')]['monthly_revenue'] #выборка по тарифу Смарт\n",
    "\n",
    "alpha = .05 #критический уровень статистической значимости\n",
    "\n",
    "res = st.ttest_ind(\n",
    "      v_ultra,\n",
    "      v_smart,\n",
    "      equal_var = False) #параметр, задающий не считать равными дисперсии выборок\n",
    "\n",
    "print('р-значение:', res.pvalue)\n",
    "\n",
    "if res.pvalue < alpha:\n",
    "    print('Отвергаем нулевую гипотезу')\n",
    "else:\n",
    "    print('Не получилось отвергнуть нулевую гипотезу')"
   ]
  },
  {
   "cell_type": "markdown",
   "metadata": {},
   "source": [
    "Получается мы видим разные совершенно значения, и нулевая гипотеза отвергнута. Мы видим, что по тарифу Ультра нет выручки. Чтобы в этом разобраться, можно более детально посмотреть на датафрейм с заданными параметрами, превышающими абонентские значения (3000 минут, 1000 сообщений и 30 Гб)."
   ]
  },
  {
   "cell_type": "code",
   "execution_count": 60,
   "metadata": {
    "scrolled": true
   },
   "outputs": [
    {
     "data": {
      "text/html": [
       "<div>\n",
       "<style scoped>\n",
       "    .dataframe tbody tr th:only-of-type {\n",
       "        vertical-align: middle;\n",
       "    }\n",
       "\n",
       "    .dataframe tbody tr th {\n",
       "        vertical-align: top;\n",
       "    }\n",
       "\n",
       "    .dataframe thead th {\n",
       "        text-align: right;\n",
       "    }\n",
       "</style>\n",
       "<table border=\"1\" class=\"dataframe\">\n",
       "  <thead>\n",
       "    <tr style=\"text-align: right;\">\n",
       "      <th></th>\n",
       "      <th>user_id</th>\n",
       "      <th>city</th>\n",
       "      <th>tariff</th>\n",
       "      <th>month</th>\n",
       "      <th>call_count</th>\n",
       "      <th>duration_count</th>\n",
       "      <th>mb_used</th>\n",
       "      <th>message_count</th>\n",
       "      <th>messages_included</th>\n",
       "      <th>mb_per_month_included</th>\n",
       "      <th>minutes_included</th>\n",
       "      <th>rub_monthly_fee</th>\n",
       "      <th>rub_per_gb</th>\n",
       "      <th>rub_per_message</th>\n",
       "      <th>rub_per_minute</th>\n",
       "      <th>monthly_revenue</th>\n",
       "    </tr>\n",
       "  </thead>\n",
       "  <tbody>\n",
       "    <tr>\n",
       "      <td>0</td>\n",
       "      <td>1000</td>\n",
       "      <td>Краснодар</td>\n",
       "      <td>ultra</td>\n",
       "      <td>5</td>\n",
       "      <td>22</td>\n",
       "      <td>159</td>\n",
       "      <td>2252</td>\n",
       "      <td>22</td>\n",
       "      <td>1000</td>\n",
       "      <td>30720</td>\n",
       "      <td>3000</td>\n",
       "      <td>1950</td>\n",
       "      <td>150</td>\n",
       "      <td>1</td>\n",
       "      <td>1</td>\n",
       "      <td>0</td>\n",
       "    </tr>\n",
       "    <tr>\n",
       "      <td>1</td>\n",
       "      <td>1000</td>\n",
       "      <td>Краснодар</td>\n",
       "      <td>ultra</td>\n",
       "      <td>6</td>\n",
       "      <td>43</td>\n",
       "      <td>172</td>\n",
       "      <td>23213</td>\n",
       "      <td>60</td>\n",
       "      <td>1000</td>\n",
       "      <td>30720</td>\n",
       "      <td>3000</td>\n",
       "      <td>1950</td>\n",
       "      <td>150</td>\n",
       "      <td>1</td>\n",
       "      <td>1</td>\n",
       "      <td>0</td>\n",
       "    </tr>\n",
       "    <tr>\n",
       "      <td>2</td>\n",
       "      <td>1000</td>\n",
       "      <td>Краснодар</td>\n",
       "      <td>ultra</td>\n",
       "      <td>7</td>\n",
       "      <td>47</td>\n",
       "      <td>340</td>\n",
       "      <td>13988</td>\n",
       "      <td>75</td>\n",
       "      <td>1000</td>\n",
       "      <td>30720</td>\n",
       "      <td>3000</td>\n",
       "      <td>1950</td>\n",
       "      <td>150</td>\n",
       "      <td>1</td>\n",
       "      <td>1</td>\n",
       "      <td>0</td>\n",
       "    </tr>\n",
       "    <tr>\n",
       "      <td>3</td>\n",
       "      <td>1000</td>\n",
       "      <td>Краснодар</td>\n",
       "      <td>ultra</td>\n",
       "      <td>8</td>\n",
       "      <td>52</td>\n",
       "      <td>408</td>\n",
       "      <td>14043</td>\n",
       "      <td>81</td>\n",
       "      <td>1000</td>\n",
       "      <td>30720</td>\n",
       "      <td>3000</td>\n",
       "      <td>1950</td>\n",
       "      <td>150</td>\n",
       "      <td>1</td>\n",
       "      <td>1</td>\n",
       "      <td>0</td>\n",
       "    </tr>\n",
       "    <tr>\n",
       "      <td>4</td>\n",
       "      <td>1000</td>\n",
       "      <td>Краснодар</td>\n",
       "      <td>ultra</td>\n",
       "      <td>9</td>\n",
       "      <td>58</td>\n",
       "      <td>466</td>\n",
       "      <td>14556</td>\n",
       "      <td>57</td>\n",
       "      <td>1000</td>\n",
       "      <td>30720</td>\n",
       "      <td>3000</td>\n",
       "      <td>1950</td>\n",
       "      <td>150</td>\n",
       "      <td>1</td>\n",
       "      <td>1</td>\n",
       "      <td>0</td>\n",
       "    </tr>\n",
       "  </tbody>\n",
       "</table>\n",
       "</div>"
      ],
      "text/plain": [
       "   user_id       city tariff  month  call_count  duration_count  mb_used  \\\n",
       "0     1000  Краснодар  ultra      5          22             159     2252   \n",
       "1     1000  Краснодар  ultra      6          43             172    23213   \n",
       "2     1000  Краснодар  ultra      7          47             340    13988   \n",
       "3     1000  Краснодар  ultra      8          52             408    14043   \n",
       "4     1000  Краснодар  ultra      9          58             466    14556   \n",
       "\n",
       "   message_count  messages_included  mb_per_month_included  minutes_included  \\\n",
       "0             22               1000                  30720              3000   \n",
       "1             60               1000                  30720              3000   \n",
       "2             75               1000                  30720              3000   \n",
       "3             81               1000                  30720              3000   \n",
       "4             57               1000                  30720              3000   \n",
       "\n",
       "   rub_monthly_fee  rub_per_gb  rub_per_message  rub_per_minute  \\\n",
       "0             1950         150                1               1   \n",
       "1             1950         150                1               1   \n",
       "2             1950         150                1               1   \n",
       "3             1950         150                1               1   \n",
       "4             1950         150                1               1   \n",
       "\n",
       "  monthly_revenue  \n",
       "0               0  \n",
       "1               0  \n",
       "2               0  \n",
       "3               0  \n",
       "4               0  "
      ]
     },
     "execution_count": 60,
     "metadata": {},
     "output_type": "execute_result"
    }
   ],
   "source": [
    "#Сначала создадим датафрейм с тарифом Ультра из датафрейма с помесячной выручкой по каждому пользователю.\n",
    "df_1 = df.query(\"tariff == 'ultra'\")\n",
    "df_1.head()"
   ]
  },
  {
   "cell_type": "code",
   "execution_count": 61,
   "metadata": {},
   "outputs": [
    {
     "name": "stderr",
     "output_type": "stream",
     "text": [
      "/opt/conda/lib/python3.7/site-packages/ipykernel_launcher.py:2: UserWarning: Boolean Series key will be reindexed to match DataFrame index.\n",
      "  \n"
     ]
    },
    {
     "data": {
      "text/html": [
       "<div>\n",
       "<style scoped>\n",
       "    .dataframe tbody tr th:only-of-type {\n",
       "        vertical-align: middle;\n",
       "    }\n",
       "\n",
       "    .dataframe tbody tr th {\n",
       "        vertical-align: top;\n",
       "    }\n",
       "\n",
       "    .dataframe thead th {\n",
       "        text-align: right;\n",
       "    }\n",
       "</style>\n",
       "<table border=\"1\" class=\"dataframe\">\n",
       "  <thead>\n",
       "    <tr style=\"text-align: right;\">\n",
       "      <th></th>\n",
       "      <th>user_id</th>\n",
       "      <th>city</th>\n",
       "      <th>tariff</th>\n",
       "      <th>month</th>\n",
       "      <th>call_count</th>\n",
       "      <th>duration_count</th>\n",
       "      <th>mb_used</th>\n",
       "      <th>message_count</th>\n",
       "      <th>messages_included</th>\n",
       "      <th>mb_per_month_included</th>\n",
       "      <th>minutes_included</th>\n",
       "      <th>rub_monthly_fee</th>\n",
       "      <th>rub_per_gb</th>\n",
       "      <th>rub_per_message</th>\n",
       "      <th>rub_per_minute</th>\n",
       "      <th>monthly_revenue</th>\n",
       "    </tr>\n",
       "  </thead>\n",
       "  <tbody>\n",
       "  </tbody>\n",
       "</table>\n",
       "</div>"
      ],
      "text/plain": [
       "Empty DataFrame\n",
       "Columns: [user_id, city, tariff, month, call_count, duration_count, mb_used, message_count, messages_included, mb_per_month_included, minutes_included, rub_monthly_fee, rub_per_gb, rub_per_message, rub_per_minute, monthly_revenue]\n",
       "Index: []"
      ]
     },
     "execution_count": 61,
     "metadata": {},
     "output_type": "execute_result"
    }
   ],
   "source": [
    "#Отсортируем по значениям больше чем параметры абонентской платы.\n",
    "df_2 = df_1[(df_1['duration_count'] > 3000)&(df['message_count'] > 1000)&(df['mb_used'] > 30)]\n",
    "df_2.head()"
   ]
  },
  {
   "cell_type": "markdown",
   "metadata": {},
   "source": [
    "Вывод: получается правильно поставились нулевые значения, в датафрейме ни одного пользователя с выручкой по тарифу Ультра."
   ]
  },
  {
   "cell_type": "markdown",
   "metadata": {},
   "source": [
    "### Средняя выручка пользователей из Москвы отличается от выручки пользователей из других регионов."
   ]
  },
  {
   "cell_type": "markdown",
   "metadata": {},
   "source": [
    "<body>\n",
    "Сформулируем гипотезы.<br/>\n",
    "Нулевая гипотеза: \"Средняя выручка пользователей из Москвы равна выручке пользователей из других городов\".<br/>\n",
    "Альтернативная гипотеза: \"Средняя выручка пользователей из Москвы отличается от выручки пользователей из других городов\".<br/>\n",
    "Возьмём обычный уровень статистической значимости P≤0,05. Его можно интерпретировать так: \"получен статистически значимый результат\"."
   ]
  },
  {
   "cell_type": "code",
   "execution_count": 62,
   "metadata": {},
   "outputs": [
    {
     "name": "stdout",
     "output_type": "stream",
     "text": [
      "<class 'pandas.core.frame.DataFrame'>\n",
      "Int64Index: 99 entries, 1 to 490\n",
      "Data columns (total 14 columns):\n",
      "user_id                  99 non-null int64\n",
      "city                     99 non-null object\n",
      "tariff                   99 non-null object\n",
      "duration_count           99 non-null int64\n",
      "mb_used                  99 non-null int64\n",
      "message_count            99 non-null int64\n",
      "messages_included        99 non-null int64\n",
      "mb_per_month_included    99 non-null int64\n",
      "minutes_included         99 non-null int64\n",
      "rub_monthly_fee          99 non-null int64\n",
      "rub_per_gb               99 non-null int64\n",
      "rub_per_message          99 non-null int64\n",
      "rub_per_minute           99 non-null int64\n",
      "monthly_revenue          99 non-null object\n",
      "dtypes: int64(11), object(3)\n",
      "memory usage: 11.6+ KB\n"
     ]
    }
   ],
   "source": [
    "df_gm = df_m.query(\"city == 'Москва'\") #Выделяем город Москва\n",
    "df_gm.info()"
   ]
  },
  {
   "cell_type": "code",
   "execution_count": 63,
   "metadata": {},
   "outputs": [
    {
     "data": {
      "text/html": [
       "<div>\n",
       "<style scoped>\n",
       "    .dataframe tbody tr th:only-of-type {\n",
       "        vertical-align: middle;\n",
       "    }\n",
       "\n",
       "    .dataframe tbody tr th {\n",
       "        vertical-align: top;\n",
       "    }\n",
       "\n",
       "    .dataframe thead th {\n",
       "        text-align: right;\n",
       "    }\n",
       "</style>\n",
       "<table border=\"1\" class=\"dataframe\">\n",
       "  <thead>\n",
       "    <tr style=\"text-align: right;\">\n",
       "      <th></th>\n",
       "      <th>tariff</th>\n",
       "      <th>monthly_revenue</th>\n",
       "    </tr>\n",
       "  </thead>\n",
       "  <tbody>\n",
       "    <tr>\n",
       "      <td>0</td>\n",
       "      <td>smart</td>\n",
       "      <td>37735</td>\n",
       "    </tr>\n",
       "    <tr>\n",
       "      <td>1</td>\n",
       "      <td>ultra</td>\n",
       "      <td>0</td>\n",
       "    </tr>\n",
       "  </tbody>\n",
       "</table>\n",
       "</div>"
      ],
      "text/plain": [
       "  tariff  monthly_revenue\n",
       "0  smart            37735\n",
       "1  ultra                0"
      ]
     },
     "execution_count": 63,
     "metadata": {},
     "output_type": "execute_result"
    }
   ],
   "source": [
    "df_gmf = df_gm.groupby(['tariff']).agg({'monthly_revenue':'sum'}).reset_index()\n",
    "df_gmf.columns = ['tariff', 'monthly_revenue']\n",
    "df_gmf"
   ]
  },
  {
   "cell_type": "code",
   "execution_count": 64,
   "metadata": {},
   "outputs": [
    {
     "name": "stdout",
     "output_type": "stream",
     "text": [
      "<class 'pandas.core.frame.DataFrame'>\n",
      "Int64Index: 401 entries, 0 to 499\n",
      "Data columns (total 14 columns):\n",
      "user_id                  401 non-null int64\n",
      "city                     401 non-null object\n",
      "tariff                   401 non-null object\n",
      "duration_count           401 non-null int64\n",
      "mb_used                  401 non-null int64\n",
      "message_count            401 non-null int64\n",
      "messages_included        401 non-null int64\n",
      "mb_per_month_included    401 non-null int64\n",
      "minutes_included         401 non-null int64\n",
      "rub_monthly_fee          401 non-null int64\n",
      "rub_per_gb               401 non-null int64\n",
      "rub_per_message          401 non-null int64\n",
      "rub_per_minute           401 non-null int64\n",
      "monthly_revenue          401 non-null object\n",
      "dtypes: int64(11), object(3)\n",
      "memory usage: 47.0+ KB\n"
     ]
    }
   ],
   "source": [
    "df_nm = df_m.query(\"city != 'Москва'\") #Выделяем остальные города\n",
    "df_nm.info()"
   ]
  },
  {
   "cell_type": "code",
   "execution_count": 65,
   "metadata": {},
   "outputs": [
    {
     "data": {
      "text/html": [
       "<div>\n",
       "<style scoped>\n",
       "    .dataframe tbody tr th:only-of-type {\n",
       "        vertical-align: middle;\n",
       "    }\n",
       "\n",
       "    .dataframe tbody tr th {\n",
       "        vertical-align: top;\n",
       "    }\n",
       "\n",
       "    .dataframe thead th {\n",
       "        text-align: right;\n",
       "    }\n",
       "</style>\n",
       "<table border=\"1\" class=\"dataframe\">\n",
       "  <thead>\n",
       "    <tr style=\"text-align: right;\">\n",
       "      <th></th>\n",
       "      <th>tariff</th>\n",
       "      <th>monthly_revenue</th>\n",
       "    </tr>\n",
       "  </thead>\n",
       "  <tbody>\n",
       "    <tr>\n",
       "      <td>0</td>\n",
       "      <td>smart</td>\n",
       "      <td>191830</td>\n",
       "    </tr>\n",
       "    <tr>\n",
       "      <td>1</td>\n",
       "      <td>ultra</td>\n",
       "      <td>0</td>\n",
       "    </tr>\n",
       "  </tbody>\n",
       "</table>\n",
       "</div>"
      ],
      "text/plain": [
       "  tariff  monthly_revenue\n",
       "0  smart           191830\n",
       "1  ultra                0"
      ]
     },
     "execution_count": 65,
     "metadata": {},
     "output_type": "execute_result"
    }
   ],
   "source": [
    "df_nmf = df_nm.groupby(['tariff']).agg({'monthly_revenue':'sum'}).reset_index()\n",
    "df_nmf.columns = ['tariff', 'monthly_revenue']\n",
    "df_nmf"
   ]
  },
  {
   "cell_type": "markdown",
   "metadata": {},
   "source": [
    "Тест проведём только по тарифу Смарт, поскольку у тарифа Ультра нулевые значения. "
   ]
  },
  {
   "cell_type": "code",
   "execution_count": 66,
   "metadata": {},
   "outputs": [
    {
     "name": "stdout",
     "output_type": "stream",
     "text": [
      "р-значение: 0.2033135608740658\n",
      "Не получилось отвергнуть нулевую гипотезу\n"
     ]
    }
   ],
   "source": [
    "#Проверяем на тарифе Смарт\n",
    "v_smart_gm = df_gm[(df_gm['tariff'] == 'smart')]['monthly_revenue']\n",
    "\n",
    "v_smart_nm = df_nm[(df_nm['tariff'] == 'smart')]['monthly_revenue']\n",
    "\n",
    "alpha = .05 #критический уровень статистической значимости\n",
    "\n",
    "res = st.ttest_ind(\n",
    "      v_smart_gm,\n",
    "      v_smart_nm,\n",
    "      )\n",
    "\n",
    "print('р-значение:', res.pvalue)\n",
    "\n",
    "if res.pvalue < alpha:\n",
    "    print('Отвергаем нулевую гипотезу')\n",
    "else:\n",
    "    print('Не получилось отвергнуть нулевую гипотезу')"
   ]
  },
  {
   "cell_type": "markdown",
   "metadata": {},
   "source": [
    "Тест показал результат, что средние выручки равны, хотя разброс в значениях достаточно большой: около 38 000 и около 200 000."
   ]
  },
  {
   "cell_type": "markdown",
   "metadata": {},
   "source": [
    "Дополнительное исследование."
   ]
  },
  {
   "cell_type": "markdown",
   "metadata": {},
   "source": [
    "Данные показывают, что пользователи тарифа Смарт дают выручку. Посмотрим какие это пользователи, из каких городов."
   ]
  },
  {
   "cell_type": "code",
   "execution_count": 67,
   "metadata": {
    "scrolled": true
   },
   "outputs": [
    {
     "data": {
      "text/html": [
       "<div>\n",
       "<style scoped>\n",
       "    .dataframe tbody tr th:only-of-type {\n",
       "        vertical-align: middle;\n",
       "    }\n",
       "\n",
       "    .dataframe tbody tr th {\n",
       "        vertical-align: top;\n",
       "    }\n",
       "\n",
       "    .dataframe thead th {\n",
       "        text-align: right;\n",
       "    }\n",
       "</style>\n",
       "<table border=\"1\" class=\"dataframe\">\n",
       "  <thead>\n",
       "    <tr style=\"text-align: right;\">\n",
       "      <th></th>\n",
       "      <th>user_id</th>\n",
       "      <th>city</th>\n",
       "      <th>tariff</th>\n",
       "      <th>duration_count</th>\n",
       "      <th>mb_used</th>\n",
       "      <th>message_count</th>\n",
       "      <th>messages_included</th>\n",
       "      <th>mb_per_month_included</th>\n",
       "      <th>minutes_included</th>\n",
       "      <th>rub_monthly_fee</th>\n",
       "      <th>rub_per_gb</th>\n",
       "      <th>rub_per_message</th>\n",
       "      <th>rub_per_minute</th>\n",
       "      <th>monthly_revenue</th>\n",
       "    </tr>\n",
       "  </thead>\n",
       "  <tbody>\n",
       "    <tr>\n",
       "      <td>1</td>\n",
       "      <td>1001</td>\n",
       "      <td>Москва</td>\n",
       "      <td>smart</td>\n",
       "      <td>422</td>\n",
       "      <td>16211</td>\n",
       "      <td>0</td>\n",
       "      <td>50</td>\n",
       "      <td>15360</td>\n",
       "      <td>500</td>\n",
       "      <td>550</td>\n",
       "      <td>200</td>\n",
       "      <td>3</td>\n",
       "      <td>3</td>\n",
       "      <td>366</td>\n",
       "    </tr>\n",
       "    <tr>\n",
       "      <td>2</td>\n",
       "      <td>1002</td>\n",
       "      <td>Стерлитамак</td>\n",
       "      <td>smart</td>\n",
       "      <td>216</td>\n",
       "      <td>16555</td>\n",
       "      <td>10</td>\n",
       "      <td>50</td>\n",
       "      <td>15360</td>\n",
       "      <td>500</td>\n",
       "      <td>550</td>\n",
       "      <td>200</td>\n",
       "      <td>3</td>\n",
       "      <td>3</td>\n",
       "      <td>0</td>\n",
       "    </tr>\n",
       "    <tr>\n",
       "      <td>5</td>\n",
       "      <td>1005</td>\n",
       "      <td>Набережные Челны</td>\n",
       "      <td>smart</td>\n",
       "      <td>550</td>\n",
       "      <td>8296</td>\n",
       "      <td>46</td>\n",
       "      <td>50</td>\n",
       "      <td>15360</td>\n",
       "      <td>500</td>\n",
       "      <td>550</td>\n",
       "      <td>200</td>\n",
       "      <td>3</td>\n",
       "      <td>3</td>\n",
       "      <td>0</td>\n",
       "    </tr>\n",
       "    <tr>\n",
       "      <td>6</td>\n",
       "      <td>1006</td>\n",
       "      <td>Ульяновск</td>\n",
       "      <td>smart</td>\n",
       "      <td>318</td>\n",
       "      <td>14908</td>\n",
       "      <td>0</td>\n",
       "      <td>50</td>\n",
       "      <td>15360</td>\n",
       "      <td>500</td>\n",
       "      <td>550</td>\n",
       "      <td>200</td>\n",
       "      <td>3</td>\n",
       "      <td>3</td>\n",
       "      <td>0</td>\n",
       "    </tr>\n",
       "    <tr>\n",
       "      <td>7</td>\n",
       "      <td>1007</td>\n",
       "      <td>Москва</td>\n",
       "      <td>smart</td>\n",
       "      <td>486</td>\n",
       "      <td>14605</td>\n",
       "      <td>25</td>\n",
       "      <td>50</td>\n",
       "      <td>15360</td>\n",
       "      <td>500</td>\n",
       "      <td>550</td>\n",
       "      <td>200</td>\n",
       "      <td>3</td>\n",
       "      <td>3</td>\n",
       "      <td>433</td>\n",
       "    </tr>\n",
       "  </tbody>\n",
       "</table>\n",
       "</div>"
      ],
      "text/plain": [
       "   user_id              city tariff  duration_count  mb_used  message_count  \\\n",
       "1     1001            Москва  smart             422    16211              0   \n",
       "2     1002       Стерлитамак  smart             216    16555             10   \n",
       "5     1005  Набережные Челны  smart             550     8296             46   \n",
       "6     1006         Ульяновск  smart             318    14908              0   \n",
       "7     1007            Москва  smart             486    14605             25   \n",
       "\n",
       "   messages_included  mb_per_month_included  minutes_included  \\\n",
       "1                 50                  15360               500   \n",
       "2                 50                  15360               500   \n",
       "5                 50                  15360               500   \n",
       "6                 50                  15360               500   \n",
       "7                 50                  15360               500   \n",
       "\n",
       "   rub_monthly_fee  rub_per_gb  rub_per_message  rub_per_minute  \\\n",
       "1              550         200                3               3   \n",
       "2              550         200                3               3   \n",
       "5              550         200                3               3   \n",
       "6              550         200                3               3   \n",
       "7              550         200                3               3   \n",
       "\n",
       "  monthly_revenue  \n",
       "1             366  \n",
       "2               0  \n",
       "5               0  \n",
       "6               0  \n",
       "7             433  "
      ]
     },
     "execution_count": 67,
     "metadata": {},
     "output_type": "execute_result"
    }
   ],
   "source": [
    "df_smart = df_m.query(\"tariff == 'smart'\") #сделаем датафрейм с тарифом только Смарт\n",
    "df_smart.head()"
   ]
  },
  {
   "cell_type": "code",
   "execution_count": 68,
   "metadata": {
    "scrolled": true
   },
   "outputs": [
    {
     "data": {
      "text/html": [
       "<div>\n",
       "<style scoped>\n",
       "    .dataframe tbody tr th:only-of-type {\n",
       "        vertical-align: middle;\n",
       "    }\n",
       "\n",
       "    .dataframe tbody tr th {\n",
       "        vertical-align: top;\n",
       "    }\n",
       "\n",
       "    .dataframe thead th {\n",
       "        text-align: right;\n",
       "    }\n",
       "</style>\n",
       "<table border=\"1\" class=\"dataframe\">\n",
       "  <thead>\n",
       "    <tr style=\"text-align: right;\">\n",
       "      <th></th>\n",
       "      <th>city</th>\n",
       "      <th>user_id</th>\n",
       "      <th>monthly_revenue</th>\n",
       "    </tr>\n",
       "  </thead>\n",
       "  <tbody>\n",
       "    <tr>\n",
       "      <td>0</td>\n",
       "      <td>Архангельск</td>\n",
       "      <td>1</td>\n",
       "      <td>596</td>\n",
       "    </tr>\n",
       "    <tr>\n",
       "      <td>1</td>\n",
       "      <td>Астрахань</td>\n",
       "      <td>3</td>\n",
       "      <td>2385</td>\n",
       "    </tr>\n",
       "    <tr>\n",
       "      <td>2</td>\n",
       "      <td>Балашиха</td>\n",
       "      <td>4</td>\n",
       "      <td>2085</td>\n",
       "    </tr>\n",
       "    <tr>\n",
       "      <td>3</td>\n",
       "      <td>Барнаул</td>\n",
       "      <td>2</td>\n",
       "      <td>0</td>\n",
       "    </tr>\n",
       "    <tr>\n",
       "      <td>4</td>\n",
       "      <td>Белгород</td>\n",
       "      <td>2</td>\n",
       "      <td>585</td>\n",
       "    </tr>\n",
       "  </tbody>\n",
       "</table>\n",
       "</div>"
      ],
      "text/plain": [
       "          city  user_id  monthly_revenue\n",
       "0  Архангельск        1              596\n",
       "1    Астрахань        3             2385\n",
       "2     Балашиха        4             2085\n",
       "3      Барнаул        2                0\n",
       "4     Белгород        2              585"
      ]
     },
     "execution_count": 68,
     "metadata": {},
     "output_type": "execute_result"
    }
   ],
   "source": [
    "#Сгруппируем по городу и посчитаем значения по выручке и количестве пользователей тарифа.\n",
    "df_analyz = df_smart.groupby(['city']).agg({'user_id':'count', 'monthly_revenue':'sum'}).reset_index()\n",
    "df_analyz.columns = ['city', 'user_id', 'monthly_revenue']\n",
    "df_analyz.head() "
   ]
  },
  {
   "cell_type": "code",
   "execution_count": 69,
   "metadata": {
    "scrolled": true
   },
   "outputs": [
    {
     "data": {
      "text/html": [
       "<div>\n",
       "<style scoped>\n",
       "    .dataframe tbody tr th:only-of-type {\n",
       "        vertical-align: middle;\n",
       "    }\n",
       "\n",
       "    .dataframe tbody tr th {\n",
       "        vertical-align: top;\n",
       "    }\n",
       "\n",
       "    .dataframe thead th {\n",
       "        text-align: right;\n",
       "    }\n",
       "</style>\n",
       "<table border=\"1\" class=\"dataframe\">\n",
       "  <thead>\n",
       "    <tr style=\"text-align: right;\">\n",
       "      <th></th>\n",
       "      <th>city</th>\n",
       "      <th>user_id</th>\n",
       "      <th>monthly_revenue</th>\n",
       "    </tr>\n",
       "  </thead>\n",
       "  <tbody>\n",
       "    <tr>\n",
       "      <td>29</td>\n",
       "      <td>Москва</td>\n",
       "      <td>67</td>\n",
       "      <td>37735</td>\n",
       "    </tr>\n",
       "    <tr>\n",
       "      <td>47</td>\n",
       "      <td>Санкт-Петербург</td>\n",
       "      <td>30</td>\n",
       "      <td>22003</td>\n",
       "    </tr>\n",
       "    <tr>\n",
       "      <td>16</td>\n",
       "      <td>Казань</td>\n",
       "      <td>13</td>\n",
       "      <td>7483</td>\n",
       "    </tr>\n",
       "    <tr>\n",
       "      <td>36</td>\n",
       "      <td>Новосибирск</td>\n",
       "      <td>11</td>\n",
       "      <td>9281</td>\n",
       "    </tr>\n",
       "    <tr>\n",
       "      <td>62</td>\n",
       "      <td>Ульяновск</td>\n",
       "      <td>10</td>\n",
       "      <td>6669</td>\n",
       "    </tr>\n",
       "  </tbody>\n",
       "</table>\n",
       "</div>"
      ],
      "text/plain": [
       "               city  user_id  monthly_revenue\n",
       "29           Москва       67            37735\n",
       "47  Санкт-Петербург       30            22003\n",
       "16           Казань       13             7483\n",
       "36      Новосибирск       11             9281\n",
       "62        Ульяновск       10             6669"
      ]
     },
     "execution_count": 69,
     "metadata": {},
     "output_type": "execute_result"
    }
   ],
   "source": [
    "#отсортируем по пользователям и выручке по убыванию\n",
    "df_analyz.sort_values(by=['user_id', 'monthly_revenue'], ascending=False).head()"
   ]
  },
  {
   "cell_type": "markdown",
   "metadata": {},
   "source": [
    "Из анализа видно, лидирует Москва и Санкт-Петербург по количеству пользователей и выручке."
   ]
  },
  {
   "cell_type": "markdown",
   "metadata": {},
   "source": [
    "## Шаг. Написать общий вывод."
   ]
  },
  {
   "cell_type": "markdown",
   "metadata": {},
   "source": [
    "По итогам проведённого исследования можно сделать вывод такой: Выручку приносит тариф Смарт, а у тарифа Ультра ни с одного клиента не получено выручки. Пользователи тарифа Смарт из городов Москва и Санкт-Петербург лидируют и по количеству и по выручке. Из логических рассуждений, пользователям проще купить тариф с невысокой абонентской платой, и при необходимости доплатить за перерасходованные услуги. Абонентская плата тарифа Ультра достаточно высокая (1950 рублей в месяц!), хотя и включает большой набор услуг. Далеко не каждый человек будет платить такие деньги каждый месяц. Если и дальше не снижать абонентскую плату за тариф Ультра, тогда и не будет дохода у фирмы. Клиентам лучше предлагать услуги с минимальным набором и невысокой платой. Спрос возрастёт, а перерасход за услуги появится, что и приведёт к получнию прибыли."
   ]
  }
 ],
 "metadata": {
  "ExecuteTimeLog": [
   {
    "duration": 2014,
    "start_time": "2022-01-29T21:19:47.296Z"
   },
   {
    "duration": 533,
    "start_time": "2022-01-29T21:28:16.972Z"
   },
   {
    "duration": 645,
    "start_time": "2022-01-29T21:30:51.065Z"
   },
   {
    "duration": 13,
    "start_time": "2022-01-29T21:30:53.569Z"
   },
   {
    "duration": 10,
    "start_time": "2022-01-29T21:30:55.446Z"
   },
   {
    "duration": 12,
    "start_time": "2022-01-29T21:30:57.645Z"
   },
   {
    "duration": 16,
    "start_time": "2022-01-29T21:30:58.917Z"
   },
   {
    "duration": 12,
    "start_time": "2022-01-29T21:32:07.531Z"
   },
   {
    "duration": 12,
    "start_time": "2022-01-29T21:32:14.058Z"
   },
   {
    "duration": 497,
    "start_time": "2022-01-29T21:39:05.976Z"
   },
   {
    "duration": 12,
    "start_time": "2022-01-29T21:39:09.023Z"
   },
   {
    "duration": 27,
    "start_time": "2022-01-29T21:47:51.950Z"
   },
   {
    "duration": 23,
    "start_time": "2022-01-29T21:47:54.539Z"
   },
   {
    "duration": 23,
    "start_time": "2022-01-29T21:47:56.348Z"
   },
   {
    "duration": 9,
    "start_time": "2022-01-29T21:47:57.731Z"
   },
   {
    "duration": 9,
    "start_time": "2022-01-29T21:47:59.658Z"
   },
   {
    "duration": 104,
    "start_time": "2022-01-29T22:14:27.222Z"
   },
   {
    "duration": 423,
    "start_time": "2022-01-30T14:57:58.032Z"
   },
   {
    "duration": 2061,
    "start_time": "2022-01-30T14:58:06.049Z"
   },
   {
    "duration": 16,
    "start_time": "2022-01-30T14:58:08.657Z"
   },
   {
    "duration": 11,
    "start_time": "2022-01-30T14:58:10.401Z"
   },
   {
    "duration": 11,
    "start_time": "2022-01-30T14:58:12.409Z"
   },
   {
    "duration": 12,
    "start_time": "2022-01-30T14:58:13.801Z"
   },
   {
    "duration": 14,
    "start_time": "2022-01-30T14:58:15.600Z"
   },
   {
    "duration": 27,
    "start_time": "2022-01-30T14:58:17.320Z"
   },
   {
    "duration": 29,
    "start_time": "2022-01-30T14:58:18.983Z"
   },
   {
    "duration": 20,
    "start_time": "2022-01-30T14:58:20.711Z"
   },
   {
    "duration": 10,
    "start_time": "2022-01-30T14:58:22.943Z"
   },
   {
    "duration": 12,
    "start_time": "2022-01-30T14:58:25.376Z"
   },
   {
    "duration": 628,
    "start_time": "2022-01-30T14:58:28.960Z"
   },
   {
    "duration": 385,
    "start_time": "2022-01-30T14:58:42.868Z"
   },
   {
    "duration": 363,
    "start_time": "2022-01-30T15:02:26.560Z"
   },
   {
    "duration": 411,
    "start_time": "2022-01-30T15:18:46.380Z"
   },
   {
    "duration": 718,
    "start_time": "2022-01-30T15:19:10.383Z"
   },
   {
    "duration": 12,
    "start_time": "2022-01-30T15:19:12.319Z"
   },
   {
    "duration": 18,
    "start_time": "2022-01-30T15:19:13.879Z"
   },
   {
    "duration": 14,
    "start_time": "2022-01-30T15:19:15.374Z"
   },
   {
    "duration": 14,
    "start_time": "2022-01-30T15:19:16.877Z"
   },
   {
    "duration": 20,
    "start_time": "2022-01-30T15:19:18.583Z"
   },
   {
    "duration": 46,
    "start_time": "2022-01-30T15:19:20.342Z"
   },
   {
    "duration": 36,
    "start_time": "2022-01-30T15:19:22.238Z"
   },
   {
    "duration": 29,
    "start_time": "2022-01-30T15:19:23.581Z"
   },
   {
    "duration": 10,
    "start_time": "2022-01-30T15:19:25.085Z"
   },
   {
    "duration": 10,
    "start_time": "2022-01-30T15:19:26.997Z"
   },
   {
    "duration": 6,
    "start_time": "2022-01-30T15:20:01.112Z"
   },
   {
    "duration": 12,
    "start_time": "2022-01-30T15:20:14.925Z"
   },
   {
    "duration": 13,
    "start_time": "2022-01-30T15:21:06.167Z"
   },
   {
    "duration": 15,
    "start_time": "2022-01-30T15:22:10.565Z"
   },
   {
    "duration": 20,
    "start_time": "2022-01-30T15:24:09.562Z"
   },
   {
    "duration": 21,
    "start_time": "2022-01-30T15:24:31.325Z"
   },
   {
    "duration": 367,
    "start_time": "2022-01-30T15:25:15.654Z"
   },
   {
    "duration": 496,
    "start_time": "2022-01-30T15:25:26.484Z"
   },
   {
    "duration": 389,
    "start_time": "2022-01-30T15:26:10.165Z"
   },
   {
    "duration": 31,
    "start_time": "2022-01-30T15:30:37.418Z"
   },
   {
    "duration": 411,
    "start_time": "2022-01-30T15:49:30.540Z"
   },
   {
    "duration": 13,
    "start_time": "2022-01-30T15:49:38.579Z"
   },
   {
    "duration": 125,
    "start_time": "2022-01-30T15:50:47.777Z"
   },
   {
    "duration": 137,
    "start_time": "2022-01-30T15:51:08.285Z"
   },
   {
    "duration": 13,
    "start_time": "2022-01-30T15:51:29.546Z"
   },
   {
    "duration": 13,
    "start_time": "2022-01-30T15:54:05.955Z"
   },
   {
    "duration": 15,
    "start_time": "2022-01-30T15:54:24.917Z"
   },
   {
    "duration": 14,
    "start_time": "2022-01-30T15:55:59.390Z"
   },
   {
    "duration": 13,
    "start_time": "2022-01-30T15:56:06.573Z"
   },
   {
    "duration": 12,
    "start_time": "2022-01-30T15:57:14.084Z"
   },
   {
    "duration": 25,
    "start_time": "2022-01-30T15:57:50.133Z"
   },
   {
    "duration": 8,
    "start_time": "2022-01-30T15:58:28.551Z"
   },
   {
    "duration": 18,
    "start_time": "2022-01-30T15:59:45.411Z"
   },
   {
    "duration": 28,
    "start_time": "2022-01-30T15:59:47.522Z"
   },
   {
    "duration": 7,
    "start_time": "2022-01-30T15:59:48.938Z"
   },
   {
    "duration": 14,
    "start_time": "2022-01-30T16:07:23.370Z"
   },
   {
    "duration": 4,
    "start_time": "2022-01-30T16:11:13.541Z"
   },
   {
    "duration": 3,
    "start_time": "2022-01-30T16:11:48.647Z"
   },
   {
    "duration": 446,
    "start_time": "2022-01-30T16:39:58.251Z"
   },
   {
    "duration": 401,
    "start_time": "2022-01-30T16:59:01.005Z"
   },
   {
    "duration": 194,
    "start_time": "2022-01-30T17:01:55.536Z"
   },
   {
    "duration": 44,
    "start_time": "2022-01-30T17:09:42.588Z"
   },
   {
    "duration": 20,
    "start_time": "2022-01-30T17:10:03.466Z"
   },
   {
    "duration": 367,
    "start_time": "2022-01-30T17:21:20.508Z"
   },
   {
    "duration": 13,
    "start_time": "2022-01-30T17:23:37.135Z"
   },
   {
    "duration": 14,
    "start_time": "2022-01-30T17:23:44.380Z"
   },
   {
    "duration": 14,
    "start_time": "2022-01-30T17:23:50.028Z"
   },
   {
    "duration": 13,
    "start_time": "2022-01-30T17:23:52.467Z"
   },
   {
    "duration": 124,
    "start_time": "2022-01-30T17:23:55.798Z"
   },
   {
    "duration": 25,
    "start_time": "2022-01-30T17:23:58.035Z"
   },
   {
    "duration": 485,
    "start_time": "2022-01-30T17:24:00.754Z"
   },
   {
    "duration": 543,
    "start_time": "2022-01-30T17:24:31.677Z"
   },
   {
    "duration": 11,
    "start_time": "2022-01-30T17:24:33.263Z"
   },
   {
    "duration": 12,
    "start_time": "2022-01-30T17:24:35.040Z"
   },
   {
    "duration": 10,
    "start_time": "2022-01-30T17:24:36.533Z"
   },
   {
    "duration": 12,
    "start_time": "2022-01-30T17:24:38.004Z"
   },
   {
    "duration": 14,
    "start_time": "2022-01-30T17:24:39.829Z"
   },
   {
    "duration": 28,
    "start_time": "2022-01-30T17:24:41.756Z"
   },
   {
    "duration": 24,
    "start_time": "2022-01-30T17:24:43.812Z"
   },
   {
    "duration": 21,
    "start_time": "2022-01-30T17:24:46.412Z"
   },
   {
    "duration": 9,
    "start_time": "2022-01-30T17:24:47.947Z"
   },
   {
    "duration": 9,
    "start_time": "2022-01-30T17:24:49.922Z"
   },
   {
    "duration": 14,
    "start_time": "2022-01-30T17:24:53.986Z"
   },
   {
    "duration": 14,
    "start_time": "2022-01-30T17:24:55.858Z"
   },
   {
    "duration": 13,
    "start_time": "2022-01-30T17:24:58.529Z"
   },
   {
    "duration": 136,
    "start_time": "2022-01-30T17:25:01.322Z"
   },
   {
    "duration": 32,
    "start_time": "2022-01-30T17:25:03.608Z"
   },
   {
    "duration": 375,
    "start_time": "2022-01-30T17:25:08.911Z"
   },
   {
    "duration": 434,
    "start_time": "2022-01-30T17:26:01.161Z"
   },
   {
    "duration": 390,
    "start_time": "2022-01-30T17:41:29.994Z"
   },
   {
    "duration": 1031,
    "start_time": "2022-01-30T18:02:11.893Z"
   },
   {
    "duration": 704,
    "start_time": "2022-01-30T18:05:53.961Z"
   },
   {
    "duration": 134,
    "start_time": "2022-01-30T18:21:03.360Z"
   },
   {
    "duration": 21,
    "start_time": "2022-01-30T18:21:37.137Z"
   },
   {
    "duration": 22,
    "start_time": "2022-01-30T18:30:52.602Z"
   },
   {
    "duration": 28,
    "start_time": "2022-01-30T18:36:20.668Z"
   },
   {
    "duration": 26,
    "start_time": "2022-01-30T18:46:02.966Z"
   },
   {
    "duration": 30,
    "start_time": "2022-01-30T18:47:03.399Z"
   },
   {
    "duration": 360,
    "start_time": "2022-01-30T19:03:39.370Z"
   },
   {
    "duration": 362,
    "start_time": "2022-01-30T19:05:36.450Z"
   },
   {
    "duration": 303,
    "start_time": "2022-01-31T06:54:25.409Z"
   },
   {
    "duration": 1977,
    "start_time": "2022-01-31T07:21:36.004Z"
   },
   {
    "duration": 15,
    "start_time": "2022-01-31T07:21:37.983Z"
   },
   {
    "duration": 12,
    "start_time": "2022-01-31T07:21:39.970Z"
   },
   {
    "duration": 10,
    "start_time": "2022-01-31T07:21:41.814Z"
   },
   {
    "duration": 12,
    "start_time": "2022-01-31T07:21:43.943Z"
   },
   {
    "duration": 15,
    "start_time": "2022-01-31T07:21:45.690Z"
   },
   {
    "duration": 28,
    "start_time": "2022-01-31T07:21:47.374Z"
   },
   {
    "duration": 23,
    "start_time": "2022-01-31T07:21:49.249Z"
   },
   {
    "duration": 19,
    "start_time": "2022-01-31T07:21:50.815Z"
   },
   {
    "duration": 10,
    "start_time": "2022-01-31T07:21:52.886Z"
   },
   {
    "duration": 10,
    "start_time": "2022-01-31T07:21:54.923Z"
   },
   {
    "duration": 15,
    "start_time": "2022-01-31T07:21:59.315Z"
   },
   {
    "duration": 14,
    "start_time": "2022-01-31T07:22:06.106Z"
   },
   {
    "duration": 13,
    "start_time": "2022-01-31T07:22:08.646Z"
   },
   {
    "duration": 16,
    "start_time": "2022-01-31T07:22:10.626Z"
   },
   {
    "duration": 2041,
    "start_time": "2022-01-31T07:22:17.687Z"
   },
   {
    "duration": 1789,
    "start_time": "2022-01-31T07:22:27.747Z"
   },
   {
    "duration": 3,
    "start_time": "2022-01-31T07:23:02.064Z"
   },
   {
    "duration": 2229,
    "start_time": "2022-01-31T07:23:04.047Z"
   },
   {
    "duration": 20,
    "start_time": "2022-01-31T07:23:25.255Z"
   },
   {
    "duration": 1985,
    "start_time": "2022-01-31T07:23:28.359Z"
   },
   {
    "duration": 15,
    "start_time": "2022-01-31T07:24:12.087Z"
   },
   {
    "duration": 1652,
    "start_time": "2022-01-31T07:24:53.259Z"
   },
   {
    "duration": 497,
    "start_time": "2022-01-31T07:25:33.984Z"
   },
   {
    "duration": 12,
    "start_time": "2022-01-31T07:25:37.236Z"
   },
   {
    "duration": 13,
    "start_time": "2022-01-31T07:25:39.047Z"
   },
   {
    "duration": 10,
    "start_time": "2022-01-31T07:25:40.836Z"
   },
   {
    "duration": 13,
    "start_time": "2022-01-31T07:25:42.832Z"
   },
   {
    "duration": 15,
    "start_time": "2022-01-31T07:25:44.572Z"
   },
   {
    "duration": 27,
    "start_time": "2022-01-31T07:25:46.484Z"
   },
   {
    "duration": 23,
    "start_time": "2022-01-31T07:25:47.963Z"
   },
   {
    "duration": 20,
    "start_time": "2022-01-31T07:25:49.900Z"
   },
   {
    "duration": 10,
    "start_time": "2022-01-31T07:25:52.484Z"
   },
   {
    "duration": 10,
    "start_time": "2022-01-31T07:25:54.605Z"
   },
   {
    "duration": 15,
    "start_time": "2022-01-31T07:25:59.472Z"
   },
   {
    "duration": 13,
    "start_time": "2022-01-31T07:26:02.396Z"
   },
   {
    "duration": 15,
    "start_time": "2022-01-31T07:26:05.984Z"
   },
   {
    "duration": 17,
    "start_time": "2022-01-31T07:26:08.991Z"
   },
   {
    "duration": 1845,
    "start_time": "2022-01-31T07:26:12.451Z"
   },
   {
    "duration": 506,
    "start_time": "2022-01-31T07:27:13.040Z"
   },
   {
    "duration": 10,
    "start_time": "2022-01-31T07:27:13.549Z"
   },
   {
    "duration": 14,
    "start_time": "2022-01-31T07:27:13.561Z"
   },
   {
    "duration": 11,
    "start_time": "2022-01-31T07:27:13.577Z"
   },
   {
    "duration": 13,
    "start_time": "2022-01-31T07:27:13.590Z"
   },
   {
    "duration": 37,
    "start_time": "2022-01-31T07:27:13.605Z"
   },
   {
    "duration": 29,
    "start_time": "2022-01-31T07:27:13.644Z"
   },
   {
    "duration": 22,
    "start_time": "2022-01-31T07:27:13.675Z"
   },
   {
    "duration": 47,
    "start_time": "2022-01-31T07:27:13.701Z"
   },
   {
    "duration": 8,
    "start_time": "2022-01-31T07:27:13.751Z"
   },
   {
    "duration": 12,
    "start_time": "2022-01-31T07:27:13.761Z"
   },
   {
    "duration": 15,
    "start_time": "2022-01-31T07:27:13.775Z"
   },
   {
    "duration": 45,
    "start_time": "2022-01-31T07:27:13.792Z"
   },
   {
    "duration": 12,
    "start_time": "2022-01-31T07:27:13.840Z"
   },
   {
    "duration": 17,
    "start_time": "2022-01-31T07:27:13.854Z"
   },
   {
    "duration": 1742,
    "start_time": "2022-01-31T07:27:13.873Z"
   },
   {
    "duration": 14216,
    "start_time": "2022-01-31T07:27:01.402Z"
   },
   {
    "duration": 14144,
    "start_time": "2022-01-31T07:27:01.475Z"
   },
   {
    "duration": 14134,
    "start_time": "2022-01-31T07:27:01.487Z"
   },
   {
    "duration": 14134,
    "start_time": "2022-01-31T07:27:01.488Z"
   },
   {
    "duration": 14135,
    "start_time": "2022-01-31T07:27:01.489Z"
   },
   {
    "duration": 497,
    "start_time": "2022-01-31T07:27:36.377Z"
   },
   {
    "duration": 11,
    "start_time": "2022-01-31T07:27:38.080Z"
   },
   {
    "duration": 12,
    "start_time": "2022-01-31T07:27:39.977Z"
   },
   {
    "duration": 11,
    "start_time": "2022-01-31T07:27:41.812Z"
   },
   {
    "duration": 12,
    "start_time": "2022-01-31T07:27:43.453Z"
   },
   {
    "duration": 15,
    "start_time": "2022-01-31T07:27:46.316Z"
   },
   {
    "duration": 26,
    "start_time": "2022-01-31T07:27:49.409Z"
   },
   {
    "duration": 24,
    "start_time": "2022-01-31T07:27:51.133Z"
   },
   {
    "duration": 20,
    "start_time": "2022-01-31T07:27:53.252Z"
   },
   {
    "duration": 10,
    "start_time": "2022-01-31T07:27:55.441Z"
   },
   {
    "duration": 9,
    "start_time": "2022-01-31T07:27:57.356Z"
   },
   {
    "duration": 15,
    "start_time": "2022-01-31T07:28:01.773Z"
   },
   {
    "duration": 13,
    "start_time": "2022-01-31T07:28:04.217Z"
   },
   {
    "duration": 13,
    "start_time": "2022-01-31T07:28:06.717Z"
   },
   {
    "duration": 16,
    "start_time": "2022-01-31T07:28:08.837Z"
   },
   {
    "duration": 2586,
    "start_time": "2022-01-31T07:28:14.937Z"
   },
   {
    "duration": 1654,
    "start_time": "2022-01-31T07:28:53.297Z"
   },
   {
    "duration": 4,
    "start_time": "2022-01-31T07:29:17.305Z"
   },
   {
    "duration": 258,
    "start_time": "2022-01-31T07:29:20.374Z"
   },
   {
    "duration": 1753,
    "start_time": "2022-01-31T07:29:33.961Z"
   },
   {
    "duration": 1709,
    "start_time": "2022-01-31T07:29:50.433Z"
   },
   {
    "duration": 3255,
    "start_time": "2022-01-31T07:58:28.395Z"
   },
   {
    "duration": 525,
    "start_time": "2022-01-31T08:08:39.683Z"
   },
   {
    "duration": 12,
    "start_time": "2022-01-31T08:08:41.590Z"
   },
   {
    "duration": 13,
    "start_time": "2022-01-31T08:08:43.366Z"
   },
   {
    "duration": 11,
    "start_time": "2022-01-31T08:08:45.142Z"
   },
   {
    "duration": 12,
    "start_time": "2022-01-31T08:08:46.895Z"
   },
   {
    "duration": 15,
    "start_time": "2022-01-31T08:08:48.638Z"
   },
   {
    "duration": 28,
    "start_time": "2022-01-31T08:08:50.190Z"
   },
   {
    "duration": 24,
    "start_time": "2022-01-31T08:08:51.958Z"
   },
   {
    "duration": 20,
    "start_time": "2022-01-31T08:08:53.673Z"
   },
   {
    "duration": 10,
    "start_time": "2022-01-31T08:08:55.210Z"
   },
   {
    "duration": 13,
    "start_time": "2022-01-31T08:08:57.042Z"
   },
   {
    "duration": 13,
    "start_time": "2022-01-31T08:09:02.890Z"
   },
   {
    "duration": 14,
    "start_time": "2022-01-31T08:09:05.059Z"
   },
   {
    "duration": 14,
    "start_time": "2022-01-31T08:09:08.129Z"
   },
   {
    "duration": 2776,
    "start_time": "2022-01-31T08:09:13.466Z"
   },
   {
    "duration": 272,
    "start_time": "2022-01-31T08:09:28.863Z"
   },
   {
    "duration": 1788,
    "start_time": "2022-01-31T08:10:12.304Z"
   },
   {
    "duration": 142,
    "start_time": "2022-01-31T08:10:54.167Z"
   },
   {
    "duration": 274,
    "start_time": "2022-01-31T08:11:28.664Z"
   },
   {
    "duration": 10,
    "start_time": "2022-01-31T08:16:23.918Z"
   },
   {
    "duration": 124,
    "start_time": "2022-01-31T08:16:39.723Z"
   },
   {
    "duration": 29,
    "start_time": "2022-01-31T08:16:50.565Z"
   },
   {
    "duration": 278,
    "start_time": "2022-01-31T09:11:06.225Z"
   },
   {
    "duration": 303,
    "start_time": "2022-01-31T09:12:16.340Z"
   },
   {
    "duration": 99,
    "start_time": "2022-01-31T09:28:18.153Z"
   },
   {
    "duration": 35,
    "start_time": "2022-01-31T09:28:32.087Z"
   },
   {
    "duration": 32,
    "start_time": "2022-01-31T09:28:54.676Z"
   },
   {
    "duration": 33,
    "start_time": "2022-01-31T09:29:05.320Z"
   },
   {
    "duration": 40,
    "start_time": "2022-01-31T09:46:15.788Z"
   },
   {
    "duration": 14,
    "start_time": "2022-01-31T09:46:50.143Z"
   },
   {
    "duration": 17,
    "start_time": "2022-01-31T09:46:52.107Z"
   },
   {
    "duration": 42,
    "start_time": "2022-01-31T09:46:54.603Z"
   },
   {
    "duration": 485,
    "start_time": "2022-01-31T09:47:16.445Z"
   },
   {
    "duration": 10,
    "start_time": "2022-01-31T09:47:16.933Z"
   },
   {
    "duration": 14,
    "start_time": "2022-01-31T09:47:16.947Z"
   },
   {
    "duration": 11,
    "start_time": "2022-01-31T09:47:16.964Z"
   },
   {
    "duration": 11,
    "start_time": "2022-01-31T09:47:16.977Z"
   },
   {
    "duration": 48,
    "start_time": "2022-01-31T09:47:16.991Z"
   },
   {
    "duration": 28,
    "start_time": "2022-01-31T09:47:17.041Z"
   },
   {
    "duration": 21,
    "start_time": "2022-01-31T09:47:17.073Z"
   },
   {
    "duration": 43,
    "start_time": "2022-01-31T09:47:17.097Z"
   },
   {
    "duration": 8,
    "start_time": "2022-01-31T09:47:17.142Z"
   },
   {
    "duration": 14,
    "start_time": "2022-01-31T09:47:17.153Z"
   },
   {
    "duration": 20,
    "start_time": "2022-01-31T09:47:17.170Z"
   },
   {
    "duration": 56,
    "start_time": "2022-01-31T09:47:17.193Z"
   },
   {
    "duration": 12,
    "start_time": "2022-01-31T09:47:17.252Z"
   },
   {
    "duration": 18,
    "start_time": "2022-01-31T09:47:17.266Z"
   },
   {
    "duration": 115,
    "start_time": "2022-01-31T09:47:17.286Z"
   },
   {
    "duration": 41,
    "start_time": "2022-01-31T09:47:17.403Z"
   },
   {
    "duration": 30,
    "start_time": "2022-01-31T09:47:17.446Z"
   },
   {
    "duration": 24,
    "start_time": "2022-01-31T09:47:17.479Z"
   },
   {
    "duration": 259,
    "start_time": "2022-01-31T09:47:17.505Z"
   },
   {
    "duration": 14557,
    "start_time": "2022-01-31T09:47:03.210Z"
   },
   {
    "duration": 503,
    "start_time": "2022-01-31T09:47:57.012Z"
   },
   {
    "duration": 12,
    "start_time": "2022-01-31T09:47:59.640Z"
   },
   {
    "duration": 12,
    "start_time": "2022-01-31T09:48:02.060Z"
   },
   {
    "duration": 10,
    "start_time": "2022-01-31T09:48:04.924Z"
   },
   {
    "duration": 12,
    "start_time": "2022-01-31T09:48:07.844Z"
   },
   {
    "duration": 15,
    "start_time": "2022-01-31T09:48:10.784Z"
   },
   {
    "duration": 27,
    "start_time": "2022-01-31T09:48:13.647Z"
   },
   {
    "duration": 24,
    "start_time": "2022-01-31T09:48:16.352Z"
   },
   {
    "duration": 18,
    "start_time": "2022-01-31T09:48:18.992Z"
   },
   {
    "duration": 9,
    "start_time": "2022-01-31T09:48:21.687Z"
   },
   {
    "duration": 8,
    "start_time": "2022-01-31T09:48:24.108Z"
   },
   {
    "duration": 14,
    "start_time": "2022-01-31T09:48:32.916Z"
   },
   {
    "duration": 15,
    "start_time": "2022-01-31T09:48:37.780Z"
   },
   {
    "duration": 13,
    "start_time": "2022-01-31T09:48:42.904Z"
   },
   {
    "duration": 16,
    "start_time": "2022-01-31T09:48:45.424Z"
   },
   {
    "duration": 79,
    "start_time": "2022-01-31T09:48:57.490Z"
   },
   {
    "duration": 32,
    "start_time": "2022-01-31T09:49:26.523Z"
   },
   {
    "duration": 53,
    "start_time": "2022-01-31T09:55:43.679Z"
   },
   {
    "duration": 52,
    "start_time": "2022-01-31T09:55:59.340Z"
   },
   {
    "duration": 22,
    "start_time": "2022-01-31T09:56:33.804Z"
   },
   {
    "duration": 38,
    "start_time": "2022-01-31T10:01:33.430Z"
   },
   {
    "duration": 36,
    "start_time": "2022-01-31T10:04:53.333Z"
   },
   {
    "duration": 37,
    "start_time": "2022-01-31T10:05:18.237Z"
   },
   {
    "duration": 39,
    "start_time": "2022-01-31T10:05:42.116Z"
   },
   {
    "duration": 3,
    "start_time": "2022-01-31T10:13:32.848Z"
   },
   {
    "duration": 3,
    "start_time": "2022-01-31T10:13:39.024Z"
   },
   {
    "duration": 3,
    "start_time": "2022-01-31T10:13:53.351Z"
   },
   {
    "duration": 50,
    "start_time": "2022-01-31T10:14:24.880Z"
   },
   {
    "duration": 21,
    "start_time": "2022-01-31T10:14:46.024Z"
   },
   {
    "duration": 39,
    "start_time": "2022-01-31T10:14:59.149Z"
   },
   {
    "duration": 239,
    "start_time": "2022-01-31T10:16:18.921Z"
   },
   {
    "duration": 77,
    "start_time": "2022-01-31T10:16:41.041Z"
   },
   {
    "duration": 78,
    "start_time": "2022-01-31T10:21:55.620Z"
   },
   {
    "duration": 35,
    "start_time": "2022-01-31T10:21:59.271Z"
   },
   {
    "duration": 73,
    "start_time": "2022-01-31T10:22:19.959Z"
   },
   {
    "duration": 73,
    "start_time": "2022-01-31T10:23:04.576Z"
   },
   {
    "duration": 72,
    "start_time": "2022-01-31T10:24:19.033Z"
   },
   {
    "duration": 88,
    "start_time": "2022-01-31T10:24:25.921Z"
   },
   {
    "duration": 21,
    "start_time": "2022-01-31T10:24:29.748Z"
   },
   {
    "duration": 60,
    "start_time": "2022-01-31T10:24:44.345Z"
   },
   {
    "duration": 521,
    "start_time": "2022-01-31T10:35:43.293Z"
   },
   {
    "duration": 13,
    "start_time": "2022-01-31T10:35:45.890Z"
   },
   {
    "duration": 12,
    "start_time": "2022-01-31T10:35:48.641Z"
   },
   {
    "duration": 11,
    "start_time": "2022-01-31T10:35:51.105Z"
   },
   {
    "duration": 13,
    "start_time": "2022-01-31T10:35:52.557Z"
   },
   {
    "duration": 16,
    "start_time": "2022-01-31T10:35:54.513Z"
   },
   {
    "duration": 32,
    "start_time": "2022-01-31T10:35:56.961Z"
   },
   {
    "duration": 24,
    "start_time": "2022-01-31T10:35:58.714Z"
   },
   {
    "duration": 21,
    "start_time": "2022-01-31T10:36:00.489Z"
   },
   {
    "duration": 10,
    "start_time": "2022-01-31T10:36:01.786Z"
   },
   {
    "duration": 9,
    "start_time": "2022-01-31T10:36:03.713Z"
   },
   {
    "duration": 13,
    "start_time": "2022-01-31T10:36:10.510Z"
   },
   {
    "duration": 15,
    "start_time": "2022-01-31T10:36:12.838Z"
   },
   {
    "duration": 13,
    "start_time": "2022-01-31T10:36:15.621Z"
   },
   {
    "duration": 18,
    "start_time": "2022-01-31T10:36:18.124Z"
   },
   {
    "duration": 82,
    "start_time": "2022-01-31T10:36:21.082Z"
   },
   {
    "duration": 29,
    "start_time": "2022-01-31T10:36:23.132Z"
   },
   {
    "duration": 77,
    "start_time": "2022-01-31T10:36:29.346Z"
   },
   {
    "duration": 53,
    "start_time": "2022-01-31T10:36:34.199Z"
   },
   {
    "duration": 20,
    "start_time": "2022-01-31T10:36:41.233Z"
   },
   {
    "duration": 40,
    "start_time": "2022-01-31T10:37:51.844Z"
   },
   {
    "duration": 14551,
    "start_time": "2022-01-31T10:45:26.930Z"
   },
   {
    "duration": 309,
    "start_time": "2022-01-31T10:47:05.587Z"
   },
   {
    "duration": 6270,
    "start_time": "2022-01-31T10:47:13.350Z"
   },
   {
    "duration": 64,
    "start_time": "2022-01-31T10:47:41.906Z"
   },
   {
    "duration": 27,
    "start_time": "2022-01-31T10:47:47.474Z"
   },
   {
    "duration": 45,
    "start_time": "2022-01-31T10:47:57.917Z"
   },
   {
    "duration": 269,
    "start_time": "2022-01-31T10:58:53.544Z"
   },
   {
    "duration": 51,
    "start_time": "2022-01-31T10:59:18.109Z"
   },
   {
    "duration": 42,
    "start_time": "2022-01-31T10:59:25.332Z"
   },
   {
    "duration": 44,
    "start_time": "2022-01-31T10:59:36.568Z"
   },
   {
    "duration": 79,
    "start_time": "2022-01-31T11:00:50.161Z"
   },
   {
    "duration": 524,
    "start_time": "2022-01-31T11:00:59.263Z"
   },
   {
    "duration": 11,
    "start_time": "2022-01-31T11:00:59.790Z"
   },
   {
    "duration": 13,
    "start_time": "2022-01-31T11:00:59.804Z"
   },
   {
    "duration": 15,
    "start_time": "2022-01-31T11:00:59.820Z"
   },
   {
    "duration": 16,
    "start_time": "2022-01-31T11:00:59.838Z"
   },
   {
    "duration": 22,
    "start_time": "2022-01-31T11:00:59.857Z"
   },
   {
    "duration": 64,
    "start_time": "2022-01-31T11:00:59.882Z"
   },
   {
    "duration": 22,
    "start_time": "2022-01-31T11:00:59.950Z"
   },
   {
    "duration": 20,
    "start_time": "2022-01-31T11:00:59.976Z"
   },
   {
    "duration": 37,
    "start_time": "2022-01-31T11:00:59.998Z"
   },
   {
    "duration": 14,
    "start_time": "2022-01-31T11:01:00.038Z"
   },
   {
    "duration": 27,
    "start_time": "2022-01-31T11:01:00.055Z"
   },
   {
    "duration": 50,
    "start_time": "2022-01-31T11:01:00.085Z"
   },
   {
    "duration": 15,
    "start_time": "2022-01-31T11:01:00.138Z"
   },
   {
    "duration": 33,
    "start_time": "2022-01-31T11:01:00.156Z"
   },
   {
    "duration": 121,
    "start_time": "2022-01-31T11:01:00.192Z"
   },
   {
    "duration": 39,
    "start_time": "2022-01-31T11:01:00.316Z"
   },
   {
    "duration": 349,
    "start_time": "2022-01-31T11:01:00.359Z"
   },
   {
    "duration": 14562,
    "start_time": "2022-01-31T11:00:46.148Z"
   },
   {
    "duration": 14560,
    "start_time": "2022-01-31T11:00:46.151Z"
   },
   {
    "duration": 14560,
    "start_time": "2022-01-31T11:00:46.153Z"
   },
   {
    "duration": 14560,
    "start_time": "2022-01-31T11:00:46.154Z"
   },
   {
    "duration": 14559,
    "start_time": "2022-01-31T11:00:46.156Z"
   },
   {
    "duration": 14559,
    "start_time": "2022-01-31T11:00:46.158Z"
   },
   {
    "duration": 14558,
    "start_time": "2022-01-31T11:00:46.160Z"
   },
   {
    "duration": 14531,
    "start_time": "2022-01-31T11:00:46.188Z"
   },
   {
    "duration": 14526,
    "start_time": "2022-01-31T11:00:46.194Z"
   },
   {
    "duration": 14527,
    "start_time": "2022-01-31T11:00:46.195Z"
   },
   {
    "duration": 472,
    "start_time": "2022-01-31T11:01:09.217Z"
   },
   {
    "duration": 12,
    "start_time": "2022-01-31T11:01:11.237Z"
   },
   {
    "duration": 12,
    "start_time": "2022-01-31T11:01:13.074Z"
   },
   {
    "duration": 10,
    "start_time": "2022-01-31T11:01:14.965Z"
   },
   {
    "duration": 12,
    "start_time": "2022-01-31T11:01:17.149Z"
   },
   {
    "duration": 14,
    "start_time": "2022-01-31T11:01:19.257Z"
   },
   {
    "duration": 28,
    "start_time": "2022-01-31T11:01:22.445Z"
   },
   {
    "duration": 22,
    "start_time": "2022-01-31T11:01:24.132Z"
   },
   {
    "duration": 20,
    "start_time": "2022-01-31T11:01:25.797Z"
   },
   {
    "duration": 10,
    "start_time": "2022-01-31T11:01:27.516Z"
   },
   {
    "duration": 10,
    "start_time": "2022-01-31T11:01:29.492Z"
   },
   {
    "duration": 14,
    "start_time": "2022-01-31T11:01:44.061Z"
   },
   {
    "duration": 14,
    "start_time": "2022-01-31T11:01:47.313Z"
   },
   {
    "duration": 15,
    "start_time": "2022-01-31T11:01:51.221Z"
   },
   {
    "duration": 17,
    "start_time": "2022-01-31T11:01:53.253Z"
   },
   {
    "duration": 82,
    "start_time": "2022-01-31T11:01:56.061Z"
   },
   {
    "duration": 30,
    "start_time": "2022-01-31T11:01:58.281Z"
   },
   {
    "duration": 77,
    "start_time": "2022-01-31T11:02:18.517Z"
   },
   {
    "duration": 51,
    "start_time": "2022-01-31T11:02:28.365Z"
   },
   {
    "duration": 21,
    "start_time": "2022-01-31T11:02:30.261Z"
   },
   {
    "duration": 41,
    "start_time": "2022-01-31T11:02:43.897Z"
   },
   {
    "duration": 64,
    "start_time": "2022-01-31T11:02:51.197Z"
   },
   {
    "duration": 25,
    "start_time": "2022-01-31T11:02:54.081Z"
   },
   {
    "duration": 45,
    "start_time": "2022-01-31T11:03:05.405Z"
   },
   {
    "duration": 26,
    "start_time": "2022-01-31T11:03:44.062Z"
   },
   {
    "duration": 39,
    "start_time": "2022-01-31T11:04:49.621Z"
   },
   {
    "duration": 37,
    "start_time": "2022-01-31T11:04:57.574Z"
   },
   {
    "duration": 322,
    "start_time": "2022-01-31T11:20:37.042Z"
   },
   {
    "duration": 35,
    "start_time": "2022-01-31T11:23:05.855Z"
   },
   {
    "duration": 25,
    "start_time": "2022-01-31T11:59:57.720Z"
   },
   {
    "duration": 6004,
    "start_time": "2022-01-31T12:01:18.737Z"
   },
   {
    "duration": 65,
    "start_time": "2022-01-31T12:02:05.930Z"
   },
   {
    "duration": 60,
    "start_time": "2022-01-31T12:02:18.381Z"
   },
   {
    "duration": 300,
    "start_time": "2022-01-31T12:03:53.802Z"
   },
   {
    "duration": 61,
    "start_time": "2022-01-31T12:08:41.716Z"
   },
   {
    "duration": 63,
    "start_time": "2022-01-31T12:09:39.092Z"
   },
   {
    "duration": 254,
    "start_time": "2022-01-31T12:14:41.940Z"
   },
   {
    "duration": 289,
    "start_time": "2022-01-31T12:16:55.296Z"
   },
   {
    "duration": 81,
    "start_time": "2022-01-31T12:18:16.421Z"
   },
   {
    "duration": 143,
    "start_time": "2022-01-31T12:18:35.918Z"
   },
   {
    "duration": 80,
    "start_time": "2022-01-31T12:19:06.105Z"
   },
   {
    "duration": 243,
    "start_time": "2022-01-31T12:19:13.396Z"
   },
   {
    "duration": 249,
    "start_time": "2022-01-31T12:19:38.178Z"
   },
   {
    "duration": 80,
    "start_time": "2022-01-31T12:19:55.094Z"
   },
   {
    "duration": 666,
    "start_time": "2022-01-31T12:20:01.450Z"
   },
   {
    "duration": 12,
    "start_time": "2022-01-31T12:20:02.119Z"
   },
   {
    "duration": 34,
    "start_time": "2022-01-31T12:20:02.135Z"
   },
   {
    "duration": 18,
    "start_time": "2022-01-31T12:20:02.172Z"
   },
   {
    "duration": 26,
    "start_time": "2022-01-31T12:20:02.192Z"
   },
   {
    "duration": 34,
    "start_time": "2022-01-31T12:20:02.221Z"
   },
   {
    "duration": 49,
    "start_time": "2022-01-31T12:20:02.259Z"
   },
   {
    "duration": 32,
    "start_time": "2022-01-31T12:20:02.313Z"
   },
   {
    "duration": 19,
    "start_time": "2022-01-31T12:20:02.348Z"
   },
   {
    "duration": 23,
    "start_time": "2022-01-31T12:20:02.370Z"
   },
   {
    "duration": 37,
    "start_time": "2022-01-31T12:20:02.397Z"
   },
   {
    "duration": 18,
    "start_time": "2022-01-31T12:20:02.437Z"
   },
   {
    "duration": 19,
    "start_time": "2022-01-31T12:20:02.458Z"
   },
   {
    "duration": 55,
    "start_time": "2022-01-31T12:20:02.480Z"
   },
   {
    "duration": 21,
    "start_time": "2022-01-31T12:20:02.538Z"
   },
   {
    "duration": 97,
    "start_time": "2022-01-31T12:20:02.562Z"
   },
   {
    "duration": 31,
    "start_time": "2022-01-31T12:20:02.662Z"
   },
   {
    "duration": 99,
    "start_time": "2022-01-31T12:20:02.696Z"
   },
   {
    "duration": 61,
    "start_time": "2022-01-31T12:20:02.797Z"
   },
   {
    "duration": 20,
    "start_time": "2022-01-31T12:20:02.860Z"
   },
   {
    "duration": 76,
    "start_time": "2022-01-31T12:20:02.882Z"
   },
   {
    "duration": 72,
    "start_time": "2022-01-31T12:20:02.960Z"
   },
   {
    "duration": 28,
    "start_time": "2022-01-31T12:20:03.036Z"
   },
   {
    "duration": 78,
    "start_time": "2022-01-31T12:20:03.067Z"
   },
   {
    "duration": 3,
    "start_time": "2022-01-31T12:20:03.147Z"
   },
   {
    "duration": 95,
    "start_time": "2022-01-31T12:20:03.152Z"
   },
   {
    "duration": 14645,
    "start_time": "2022-01-31T12:19:48.605Z"
   },
   {
    "duration": 14641,
    "start_time": "2022-01-31T12:19:48.611Z"
   },
   {
    "duration": 14640,
    "start_time": "2022-01-31T12:19:48.614Z"
   },
   {
    "duration": 477,
    "start_time": "2022-01-31T12:20:14.113Z"
   },
   {
    "duration": 11,
    "start_time": "2022-01-31T12:20:16.321Z"
   },
   {
    "duration": 12,
    "start_time": "2022-01-31T12:20:18.493Z"
   },
   {
    "duration": 9,
    "start_time": "2022-01-31T12:20:20.117Z"
   },
   {
    "duration": 12,
    "start_time": "2022-01-31T12:20:21.885Z"
   },
   {
    "duration": 14,
    "start_time": "2022-01-31T12:20:23.561Z"
   },
   {
    "duration": 27,
    "start_time": "2022-01-31T12:20:25.521Z"
   },
   {
    "duration": 23,
    "start_time": "2022-01-31T12:20:27.349Z"
   },
   {
    "duration": 10,
    "start_time": "2022-01-31T12:20:29.181Z"
   },
   {
    "duration": 9,
    "start_time": "2022-01-31T12:20:31.014Z"
   },
   {
    "duration": 14,
    "start_time": "2022-01-31T12:20:36.785Z"
   },
   {
    "duration": 15,
    "start_time": "2022-01-31T12:20:38.758Z"
   },
   {
    "duration": 13,
    "start_time": "2022-01-31T12:20:41.685Z"
   },
   {
    "duration": 17,
    "start_time": "2022-01-31T12:20:44.165Z"
   },
   {
    "duration": 80,
    "start_time": "2022-01-31T12:20:46.561Z"
   },
   {
    "duration": 28,
    "start_time": "2022-01-31T12:20:48.813Z"
   },
   {
    "duration": 79,
    "start_time": "2022-01-31T12:20:52.734Z"
   },
   {
    "duration": 81,
    "start_time": "2022-01-31T12:20:55.885Z"
   },
   {
    "duration": 20,
    "start_time": "2022-01-31T12:20:58.382Z"
   },
   {
    "duration": 58,
    "start_time": "2022-01-31T12:21:00.669Z"
   },
   {
    "duration": 105,
    "start_time": "2022-01-31T12:21:02.766Z"
   },
   {
    "duration": 35,
    "start_time": "2022-01-31T12:21:04.798Z"
   },
   {
    "duration": 47,
    "start_time": "2022-01-31T12:21:08.001Z"
   },
   {
    "duration": 88,
    "start_time": "2022-01-31T12:21:11.966Z"
   },
   {
    "duration": 65,
    "start_time": "2022-01-31T12:21:26.557Z"
   },
   {
    "duration": 273,
    "start_time": "2022-01-31T12:21:41.906Z"
   },
   {
    "duration": 266,
    "start_time": "2022-01-31T12:22:12.934Z"
   },
   {
    "duration": 317,
    "start_time": "2022-01-31T12:22:36.028Z"
   },
   {
    "duration": 516,
    "start_time": "2022-01-31T12:22:59.151Z"
   },
   {
    "duration": 14,
    "start_time": "2022-01-31T12:22:59.670Z"
   },
   {
    "duration": 19,
    "start_time": "2022-01-31T12:22:59.687Z"
   },
   {
    "duration": 23,
    "start_time": "2022-01-31T12:22:59.710Z"
   },
   {
    "duration": 16,
    "start_time": "2022-01-31T12:22:59.736Z"
   },
   {
    "duration": 21,
    "start_time": "2022-01-31T12:22:59.755Z"
   },
   {
    "duration": 63,
    "start_time": "2022-01-31T12:22:59.779Z"
   },
   {
    "duration": 34,
    "start_time": "2022-01-31T12:22:59.847Z"
   },
   {
    "duration": 54,
    "start_time": "2022-01-31T12:22:59.886Z"
   },
   {
    "duration": 10,
    "start_time": "2022-01-31T12:22:59.942Z"
   },
   {
    "duration": 14,
    "start_time": "2022-01-31T12:22:59.955Z"
   },
   {
    "duration": 18,
    "start_time": "2022-01-31T12:22:59.972Z"
   },
   {
    "duration": 53,
    "start_time": "2022-01-31T12:22:59.993Z"
   },
   {
    "duration": 14,
    "start_time": "2022-01-31T12:23:00.049Z"
   },
   {
    "duration": 36,
    "start_time": "2022-01-31T12:23:00.066Z"
   },
   {
    "duration": 113,
    "start_time": "2022-01-31T12:23:00.105Z"
   },
   {
    "duration": 59,
    "start_time": "2022-01-31T12:23:00.221Z"
   },
   {
    "duration": 97,
    "start_time": "2022-01-31T12:23:00.285Z"
   },
   {
    "duration": 84,
    "start_time": "2022-01-31T12:23:00.384Z"
   },
   {
    "duration": 22,
    "start_time": "2022-01-31T12:23:00.470Z"
   },
   {
    "duration": 70,
    "start_time": "2022-01-31T12:23:00.496Z"
   },
   {
    "duration": 91,
    "start_time": "2022-01-31T12:23:00.569Z"
   },
   {
    "duration": 28,
    "start_time": "2022-01-31T12:23:00.664Z"
   },
   {
    "duration": 75,
    "start_time": "2022-01-31T12:23:00.695Z"
   },
   {
    "duration": 4,
    "start_time": "2022-01-31T12:23:00.773Z"
   },
   {
    "duration": 124,
    "start_time": "2022-01-31T12:23:00.780Z"
   },
   {
    "duration": 56,
    "start_time": "2022-01-31T12:23:00.907Z"
   },
   {
    "duration": 4,
    "start_time": "2022-01-31T12:23:00.966Z"
   },
   {
    "duration": 15,
    "start_time": "2022-01-31T12:23:00.973Z"
   },
   {
    "duration": 83,
    "start_time": "2022-01-31T12:25:45.163Z"
   },
   {
    "duration": 312,
    "start_time": "2022-01-31T12:28:34.297Z"
   },
   {
    "duration": 463,
    "start_time": "2022-01-31T12:38:46.103Z"
   },
   {
    "duration": 19,
    "start_time": "2022-01-31T12:41:14.857Z"
   },
   {
    "duration": 18,
    "start_time": "2022-01-31T12:41:36.590Z"
   },
   {
    "duration": 535,
    "start_time": "2022-01-31T12:41:46.359Z"
   },
   {
    "duration": 12,
    "start_time": "2022-01-31T12:41:46.897Z"
   },
   {
    "duration": 12,
    "start_time": "2022-01-31T12:41:46.912Z"
   },
   {
    "duration": 16,
    "start_time": "2022-01-31T12:41:46.927Z"
   },
   {
    "duration": 21,
    "start_time": "2022-01-31T12:41:46.946Z"
   },
   {
    "duration": 17,
    "start_time": "2022-01-31T12:41:46.969Z"
   },
   {
    "duration": 28,
    "start_time": "2022-01-31T12:41:46.989Z"
   },
   {
    "duration": 28,
    "start_time": "2022-01-31T12:41:47.042Z"
   },
   {
    "duration": 19,
    "start_time": "2022-01-31T12:41:47.073Z"
   },
   {
    "duration": 8,
    "start_time": "2022-01-31T12:41:47.095Z"
   },
   {
    "duration": 15,
    "start_time": "2022-01-31T12:41:47.134Z"
   },
   {
    "duration": 25,
    "start_time": "2022-01-31T12:41:47.152Z"
   },
   {
    "duration": 13,
    "start_time": "2022-01-31T12:41:47.180Z"
   },
   {
    "duration": 39,
    "start_time": "2022-01-31T12:41:47.195Z"
   },
   {
    "duration": 21,
    "start_time": "2022-01-31T12:41:47.236Z"
   },
   {
    "duration": 103,
    "start_time": "2022-01-31T12:41:47.260Z"
   },
   {
    "duration": 31,
    "start_time": "2022-01-31T12:41:47.366Z"
   },
   {
    "duration": 105,
    "start_time": "2022-01-31T12:41:47.399Z"
   },
   {
    "duration": 72,
    "start_time": "2022-01-31T12:41:47.507Z"
   },
   {
    "duration": 21,
    "start_time": "2022-01-31T12:41:47.581Z"
   },
   {
    "duration": 70,
    "start_time": "2022-01-31T12:41:47.605Z"
   },
   {
    "duration": 77,
    "start_time": "2022-01-31T12:41:47.678Z"
   },
   {
    "duration": 25,
    "start_time": "2022-01-31T12:41:47.760Z"
   },
   {
    "duration": 82,
    "start_time": "2022-01-31T12:41:47.788Z"
   },
   {
    "duration": 3,
    "start_time": "2022-01-31T12:41:47.873Z"
   },
   {
    "duration": 86,
    "start_time": "2022-01-31T12:41:47.879Z"
   },
   {
    "duration": 826,
    "start_time": "2022-01-31T12:41:47.968Z"
   },
   {
    "duration": 14629,
    "start_time": "2022-01-31T12:41:34.168Z"
   },
   {
    "duration": 14628,
    "start_time": "2022-01-31T12:41:34.170Z"
   },
   {
    "duration": 116,
    "start_time": "2022-01-31T12:42:36.472Z"
   },
   {
    "duration": 61,
    "start_time": "2022-01-31T13:10:16.617Z"
   },
   {
    "duration": 35,
    "start_time": "2022-01-31T13:17:56.576Z"
   },
   {
    "duration": 53,
    "start_time": "2022-01-31T13:18:51.201Z"
   },
   {
    "duration": 32,
    "start_time": "2022-01-31T13:19:10.988Z"
   },
   {
    "duration": 524,
    "start_time": "2022-01-31T13:19:32.784Z"
   },
   {
    "duration": 12,
    "start_time": "2022-01-31T13:19:33.310Z"
   },
   {
    "duration": 46,
    "start_time": "2022-01-31T13:19:33.325Z"
   },
   {
    "duration": 12,
    "start_time": "2022-01-31T13:19:33.374Z"
   },
   {
    "duration": 35,
    "start_time": "2022-01-31T13:19:33.389Z"
   },
   {
    "duration": 41,
    "start_time": "2022-01-31T13:19:33.427Z"
   },
   {
    "duration": 29,
    "start_time": "2022-01-31T13:19:33.471Z"
   },
   {
    "duration": 28,
    "start_time": "2022-01-31T13:19:33.505Z"
   },
   {
    "duration": 28,
    "start_time": "2022-01-31T13:19:33.537Z"
   },
   {
    "duration": 9,
    "start_time": "2022-01-31T13:19:33.568Z"
   },
   {
    "duration": 14,
    "start_time": "2022-01-31T13:19:33.579Z"
   },
   {
    "duration": 52,
    "start_time": "2022-01-31T13:19:33.596Z"
   },
   {
    "duration": 17,
    "start_time": "2022-01-31T13:19:33.652Z"
   },
   {
    "duration": 16,
    "start_time": "2022-01-31T13:19:33.672Z"
   },
   {
    "duration": 58,
    "start_time": "2022-01-31T13:19:33.691Z"
   },
   {
    "duration": 140,
    "start_time": "2022-01-31T13:19:33.752Z"
   },
   {
    "duration": 48,
    "start_time": "2022-01-31T13:19:33.895Z"
   },
   {
    "duration": 54,
    "start_time": "2022-01-31T13:19:33.945Z"
   },
   {
    "duration": 58,
    "start_time": "2022-01-31T13:19:34.002Z"
   },
   {
    "duration": 53,
    "start_time": "2022-01-31T13:19:34.063Z"
   },
   {
    "duration": 22,
    "start_time": "2022-01-31T13:19:34.131Z"
   },
   {
    "duration": 45,
    "start_time": "2022-01-31T13:19:34.155Z"
   },
   {
    "duration": 101,
    "start_time": "2022-01-31T13:19:34.205Z"
   },
   {
    "duration": 53,
    "start_time": "2022-01-31T13:19:34.308Z"
   },
   {
    "duration": 68,
    "start_time": "2022-01-31T13:19:34.364Z"
   },
   {
    "duration": 9,
    "start_time": "2022-01-31T13:19:34.435Z"
   },
   {
    "duration": 75,
    "start_time": "2022-01-31T13:19:34.446Z"
   },
   {
    "duration": 66,
    "start_time": "2022-01-31T13:19:34.523Z"
   },
   {
    "duration": 3,
    "start_time": "2022-01-31T13:19:34.592Z"
   },
   {
    "duration": 5,
    "start_time": "2022-01-31T13:19:34.598Z"
   },
   {
    "duration": 3,
    "start_time": "2022-01-31T13:19:34.638Z"
   },
   {
    "duration": 751,
    "start_time": "2022-01-31T13:21:33.962Z"
   },
   {
    "duration": 55,
    "start_time": "2022-01-31T13:22:04.274Z"
   },
   {
    "duration": 44,
    "start_time": "2022-01-31T13:22:29.558Z"
   },
   {
    "duration": 66,
    "start_time": "2022-01-31T13:29:03.030Z"
   },
   {
    "duration": 35,
    "start_time": "2022-01-31T13:30:14.318Z"
   },
   {
    "duration": 38,
    "start_time": "2022-01-31T13:30:50.023Z"
   },
   {
    "duration": 102,
    "start_time": "2022-01-31T13:51:56.975Z"
   },
   {
    "duration": 96,
    "start_time": "2022-01-31T13:52:15.985Z"
   },
   {
    "duration": 18,
    "start_time": "2022-01-31T13:52:44.688Z"
   },
   {
    "duration": 250,
    "start_time": "2022-01-31T13:53:37.142Z"
   },
   {
    "duration": 29,
    "start_time": "2022-01-31T13:53:57.384Z"
   },
   {
    "duration": 54,
    "start_time": "2022-01-31T13:54:06.658Z"
   },
   {
    "duration": 13,
    "start_time": "2022-01-31T13:54:46.094Z"
   },
   {
    "duration": 1508,
    "start_time": "2022-02-01T07:55:40.023Z"
   },
   {
    "duration": 10,
    "start_time": "2022-02-01T07:55:41.533Z"
   },
   {
    "duration": 9,
    "start_time": "2022-02-01T07:55:41.545Z"
   },
   {
    "duration": 8,
    "start_time": "2022-02-01T07:55:41.556Z"
   },
   {
    "duration": 9,
    "start_time": "2022-02-01T07:55:41.565Z"
   },
   {
    "duration": 10,
    "start_time": "2022-02-01T07:55:41.576Z"
   },
   {
    "duration": 25,
    "start_time": "2022-02-01T07:55:41.587Z"
   },
   {
    "duration": 17,
    "start_time": "2022-02-01T07:55:41.615Z"
   },
   {
    "duration": 14,
    "start_time": "2022-02-01T07:55:41.634Z"
   },
   {
    "duration": 6,
    "start_time": "2022-02-01T07:55:41.650Z"
   },
   {
    "duration": 12,
    "start_time": "2022-02-01T07:55:41.657Z"
   },
   {
    "duration": 41,
    "start_time": "2022-02-01T07:55:41.671Z"
   },
   {
    "duration": 9,
    "start_time": "2022-02-01T07:55:41.714Z"
   },
   {
    "duration": 8,
    "start_time": "2022-02-01T07:55:41.725Z"
   },
   {
    "duration": 12,
    "start_time": "2022-02-01T07:55:41.735Z"
   },
   {
    "duration": 90,
    "start_time": "2022-02-01T07:55:41.749Z"
   },
   {
    "duration": 27,
    "start_time": "2022-02-01T07:55:41.841Z"
   },
   {
    "duration": 65,
    "start_time": "2022-02-01T07:55:41.870Z"
   },
   {
    "duration": 34,
    "start_time": "2022-02-01T07:55:41.937Z"
   },
   {
    "duration": 10,
    "start_time": "2022-02-01T07:55:41.973Z"
   },
   {
    "duration": 67,
    "start_time": "2022-02-01T07:55:41.985Z"
   },
   {
    "duration": 16,
    "start_time": "2022-02-01T07:55:42.054Z"
   },
   {
    "duration": 50,
    "start_time": "2022-02-01T07:55:42.074Z"
   },
   {
    "duration": 50,
    "start_time": "2022-02-01T07:55:42.127Z"
   },
   {
    "duration": 40,
    "start_time": "2022-02-01T07:55:42.178Z"
   },
   {
    "duration": 36,
    "start_time": "2022-02-01T07:55:42.221Z"
   },
   {
    "duration": 60,
    "start_time": "2022-02-01T07:55:42.259Z"
   },
   {
    "duration": 35,
    "start_time": "2022-02-01T07:55:42.321Z"
   },
   {
    "duration": 8,
    "start_time": "2022-02-01T07:55:42.358Z"
   },
   {
    "duration": 70,
    "start_time": "2022-02-01T07:55:42.367Z"
   },
   {
    "duration": 15393,
    "start_time": "2022-02-01T07:55:27.046Z"
   },
   {
    "duration": 15386,
    "start_time": "2022-02-01T07:55:27.054Z"
   },
   {
    "duration": 431,
    "start_time": "2022-02-01T08:10:35.876Z"
   },
   {
    "duration": 6,
    "start_time": "2022-02-01T08:12:31.556Z"
   },
   {
    "duration": 227,
    "start_time": "2022-02-01T08:13:34.495Z"
   },
   {
    "duration": 210,
    "start_time": "2022-02-01T08:13:45.004Z"
   },
   {
    "duration": 7,
    "start_time": "2022-02-01T08:14:10.629Z"
   },
   {
    "duration": 71,
    "start_time": "2022-02-01T08:24:24.770Z"
   },
   {
    "duration": 5649,
    "start_time": "2022-02-01T08:24:43.090Z"
   },
   {
    "duration": 5136,
    "start_time": "2022-02-01T08:25:28.930Z"
   },
   {
    "duration": 6,
    "start_time": "2022-02-01T08:44:15.244Z"
   },
   {
    "duration": 15,
    "start_time": "2022-02-01T08:45:36.765Z"
   },
   {
    "duration": 226,
    "start_time": "2022-02-01T09:40:17.591Z"
   },
   {
    "duration": 1569,
    "start_time": "2022-02-01T09:40:22.242Z"
   },
   {
    "duration": 12,
    "start_time": "2022-02-01T09:40:23.813Z"
   },
   {
    "duration": 11,
    "start_time": "2022-02-01T09:40:23.827Z"
   },
   {
    "duration": 9,
    "start_time": "2022-02-01T09:40:23.840Z"
   },
   {
    "duration": 10,
    "start_time": "2022-02-01T09:40:23.851Z"
   },
   {
    "duration": 11,
    "start_time": "2022-02-01T09:40:23.863Z"
   },
   {
    "duration": 24,
    "start_time": "2022-02-01T09:40:23.875Z"
   },
   {
    "duration": 17,
    "start_time": "2022-02-01T09:40:23.900Z"
   },
   {
    "duration": 14,
    "start_time": "2022-02-01T09:40:23.919Z"
   },
   {
    "duration": 30,
    "start_time": "2022-02-01T09:40:23.935Z"
   },
   {
    "duration": 11,
    "start_time": "2022-02-01T09:40:23.967Z"
   },
   {
    "duration": 14,
    "start_time": "2022-02-01T09:40:23.979Z"
   },
   {
    "duration": 8,
    "start_time": "2022-02-01T09:40:23.995Z"
   },
   {
    "duration": 8,
    "start_time": "2022-02-01T09:40:24.005Z"
   },
   {
    "duration": 44,
    "start_time": "2022-02-01T09:40:24.015Z"
   },
   {
    "duration": 56,
    "start_time": "2022-02-01T09:40:24.061Z"
   },
   {
    "duration": 41,
    "start_time": "2022-02-01T09:40:24.119Z"
   },
   {
    "duration": 46,
    "start_time": "2022-02-01T09:40:24.162Z"
   },
   {
    "duration": 50,
    "start_time": "2022-02-01T09:40:24.210Z"
   },
   {
    "duration": 11,
    "start_time": "2022-02-01T09:40:24.261Z"
   },
   {
    "duration": 37,
    "start_time": "2022-02-01T09:40:24.274Z"
   },
   {
    "duration": 15,
    "start_time": "2022-02-01T09:40:24.313Z"
   },
   {
    "duration": 56,
    "start_time": "2022-02-01T09:40:24.330Z"
   },
   {
    "duration": 41,
    "start_time": "2022-02-01T09:40:24.388Z"
   },
   {
    "duration": 39,
    "start_time": "2022-02-01T09:40:24.431Z"
   },
   {
    "duration": 35,
    "start_time": "2022-02-01T09:40:24.472Z"
   },
   {
    "duration": 56,
    "start_time": "2022-02-01T09:40:24.510Z"
   },
   {
    "duration": 33,
    "start_time": "2022-02-01T09:40:24.568Z"
   },
   {
    "duration": 7,
    "start_time": "2022-02-01T09:40:24.603Z"
   },
   {
    "duration": 6,
    "start_time": "2022-02-01T09:40:24.612Z"
   },
   {
    "duration": 11,
    "start_time": "2022-02-01T09:40:24.619Z"
   },
   {
    "duration": 14,
    "start_time": "2022-02-01T09:40:24.659Z"
   },
   {
    "duration": 59,
    "start_time": "2022-02-01T09:40:24.675Z"
   },
   {
    "duration": 15442,
    "start_time": "2022-02-01T09:40:09.294Z"
   },
   {
    "duration": 15441,
    "start_time": "2022-02-01T09:40:09.296Z"
   },
   {
    "duration": 6,
    "start_time": "2022-02-01T09:41:20.326Z"
   },
   {
    "duration": 8,
    "start_time": "2022-02-01T09:41:33.510Z"
   },
   {
    "duration": 9,
    "start_time": "2022-02-01T09:41:46.189Z"
   },
   {
    "duration": 15,
    "start_time": "2022-02-01T09:42:37.727Z"
   },
   {
    "duration": 15,
    "start_time": "2022-02-01T09:43:29.303Z"
   },
   {
    "duration": 2,
    "start_time": "2022-02-01T09:44:08.090Z"
   },
   {
    "duration": 15,
    "start_time": "2022-02-01T09:45:02.119Z"
   },
   {
    "duration": 14,
    "start_time": "2022-02-01T09:45:48.623Z"
   },
   {
    "duration": 14,
    "start_time": "2022-02-01T09:46:13.350Z"
   },
   {
    "duration": 10,
    "start_time": "2022-02-01T10:17:03.907Z"
   },
   {
    "duration": 22,
    "start_time": "2022-02-01T10:20:12.943Z"
   },
   {
    "duration": 23,
    "start_time": "2022-02-01T10:20:44.919Z"
   },
   {
    "duration": 35,
    "start_time": "2022-02-01T10:21:14.583Z"
   },
   {
    "duration": 9,
    "start_time": "2022-02-01T10:21:21.343Z"
   },
   {
    "duration": 7,
    "start_time": "2022-02-01T10:21:38.615Z"
   },
   {
    "duration": 15,
    "start_time": "2022-02-01T10:21:57.328Z"
   },
   {
    "duration": 16,
    "start_time": "2022-02-01T10:22:16.104Z"
   },
   {
    "duration": 355,
    "start_time": "2022-02-01T10:22:23.273Z"
   },
   {
    "duration": 291,
    "start_time": "2022-02-01T10:24:14.503Z"
   },
   {
    "duration": 224,
    "start_time": "2022-02-01T10:25:26.089Z"
   },
   {
    "duration": 227,
    "start_time": "2022-02-01T10:25:44.091Z"
   },
   {
    "duration": 55,
    "start_time": "2022-02-01T10:37:14.878Z"
   },
   {
    "duration": 8,
    "start_time": "2022-02-01T10:37:33.430Z"
   },
   {
    "duration": 364,
    "start_time": "2022-02-01T10:39:20.951Z"
   },
   {
    "duration": 346,
    "start_time": "2022-02-01T10:39:57.760Z"
   },
   {
    "duration": 385,
    "start_time": "2022-02-01T10:41:51.472Z"
   },
   {
    "duration": 200,
    "start_time": "2022-02-01T10:47:37.818Z"
   },
   {
    "duration": 222,
    "start_time": "2022-02-01T10:47:58.226Z"
   },
   {
    "duration": 205,
    "start_time": "2022-02-01T10:48:12.667Z"
   },
   {
    "duration": 221,
    "start_time": "2022-02-01T11:43:40.064Z"
   },
   {
    "duration": 410,
    "start_time": "2022-02-01T11:44:05.083Z"
   },
   {
    "duration": 9,
    "start_time": "2022-02-01T11:44:05.495Z"
   },
   {
    "duration": 49,
    "start_time": "2022-02-01T11:44:05.505Z"
   },
   {
    "duration": 23,
    "start_time": "2022-02-01T11:44:05.556Z"
   },
   {
    "duration": 21,
    "start_time": "2022-02-01T11:44:05.581Z"
   },
   {
    "duration": 17,
    "start_time": "2022-02-01T11:44:05.604Z"
   },
   {
    "duration": 24,
    "start_time": "2022-02-01T11:44:05.623Z"
   },
   {
    "duration": 25,
    "start_time": "2022-02-01T11:44:05.650Z"
   },
   {
    "duration": 15,
    "start_time": "2022-02-01T11:44:05.677Z"
   },
   {
    "duration": 11,
    "start_time": "2022-02-01T11:44:05.694Z"
   },
   {
    "duration": 11,
    "start_time": "2022-02-01T11:44:05.707Z"
   },
   {
    "duration": 13,
    "start_time": "2022-02-01T11:44:05.719Z"
   },
   {
    "duration": 8,
    "start_time": "2022-02-01T11:44:05.734Z"
   },
   {
    "duration": 10,
    "start_time": "2022-02-01T11:44:05.759Z"
   },
   {
    "duration": 29,
    "start_time": "2022-02-01T11:44:05.770Z"
   },
   {
    "duration": 66,
    "start_time": "2022-02-01T11:44:05.801Z"
   },
   {
    "duration": 32,
    "start_time": "2022-02-01T11:44:05.869Z"
   },
   {
    "duration": 45,
    "start_time": "2022-02-01T11:44:05.902Z"
   },
   {
    "duration": 32,
    "start_time": "2022-02-01T11:44:05.959Z"
   },
   {
    "duration": 11,
    "start_time": "2022-02-01T11:44:05.992Z"
   },
   {
    "duration": 57,
    "start_time": "2022-02-01T11:44:06.004Z"
   },
   {
    "duration": 15,
    "start_time": "2022-02-01T11:44:06.063Z"
   },
   {
    "duration": 37,
    "start_time": "2022-02-01T11:44:06.081Z"
   },
   {
    "duration": 59,
    "start_time": "2022-02-01T11:44:06.120Z"
   },
   {
    "duration": 22,
    "start_time": "2022-02-01T11:44:06.181Z"
   },
   {
    "duration": 28,
    "start_time": "2022-02-01T11:44:06.205Z"
   },
   {
    "duration": 59,
    "start_time": "2022-02-01T11:44:06.235Z"
   },
   {
    "duration": 32,
    "start_time": "2022-02-01T11:44:06.296Z"
   },
   {
    "duration": 8,
    "start_time": "2022-02-01T11:44:06.330Z"
   },
   {
    "duration": 24,
    "start_time": "2022-02-01T11:44:06.339Z"
   },
   {
    "duration": 24,
    "start_time": "2022-02-01T11:44:06.365Z"
   },
   {
    "duration": 55,
    "start_time": "2022-02-01T11:44:06.391Z"
   },
   {
    "duration": 218,
    "start_time": "2022-02-01T11:44:06.448Z"
   },
   {
    "duration": 220,
    "start_time": "2022-02-01T11:44:32.569Z"
   },
   {
    "duration": 305,
    "start_time": "2022-02-01T13:03:21.006Z"
   },
   {
    "duration": 2067,
    "start_time": "2022-02-01T13:03:25.956Z"
   },
   {
    "duration": 21,
    "start_time": "2022-02-01T13:03:28.027Z"
   },
   {
    "duration": 17,
    "start_time": "2022-02-01T13:03:28.052Z"
   },
   {
    "duration": 13,
    "start_time": "2022-02-01T13:03:28.072Z"
   },
   {
    "duration": 12,
    "start_time": "2022-02-01T13:03:28.087Z"
   },
   {
    "duration": 45,
    "start_time": "2022-02-01T13:03:28.101Z"
   },
   {
    "duration": 30,
    "start_time": "2022-02-01T13:03:28.148Z"
   },
   {
    "duration": 23,
    "start_time": "2022-02-01T13:03:28.180Z"
   },
   {
    "duration": 19,
    "start_time": "2022-02-01T13:03:28.235Z"
   },
   {
    "duration": 8,
    "start_time": "2022-02-01T13:03:28.258Z"
   },
   {
    "duration": 11,
    "start_time": "2022-02-01T13:03:28.268Z"
   },
   {
    "duration": 56,
    "start_time": "2022-02-01T13:03:28.282Z"
   },
   {
    "duration": 14,
    "start_time": "2022-02-01T13:03:28.340Z"
   },
   {
    "duration": 17,
    "start_time": "2022-02-01T13:03:28.357Z"
   },
   {
    "duration": 58,
    "start_time": "2022-02-01T13:03:28.377Z"
   },
   {
    "duration": 96,
    "start_time": "2022-02-01T13:03:28.438Z"
   },
   {
    "duration": 32,
    "start_time": "2022-02-01T13:03:28.536Z"
   },
   {
    "duration": 82,
    "start_time": "2022-02-01T13:03:28.571Z"
   },
   {
    "duration": 45,
    "start_time": "2022-02-01T13:03:28.655Z"
   },
   {
    "duration": 36,
    "start_time": "2022-02-01T13:03:28.702Z"
   },
   {
    "duration": 51,
    "start_time": "2022-02-01T13:03:28.740Z"
   },
   {
    "duration": 49,
    "start_time": "2022-02-01T13:03:28.794Z"
   },
   {
    "duration": 43,
    "start_time": "2022-02-01T13:03:28.846Z"
   },
   {
    "duration": 90,
    "start_time": "2022-02-01T13:03:28.891Z"
   },
   {
    "duration": 24,
    "start_time": "2022-02-01T13:03:28.983Z"
   },
   {
    "duration": 36,
    "start_time": "2022-02-01T13:03:29.033Z"
   },
   {
    "duration": 86,
    "start_time": "2022-02-01T13:03:29.075Z"
   },
   {
    "duration": 74,
    "start_time": "2022-02-01T13:03:29.165Z"
   },
   {
    "duration": 14,
    "start_time": "2022-02-01T13:03:29.242Z"
   },
   {
    "duration": 8,
    "start_time": "2022-02-01T13:03:29.259Z"
   },
   {
    "duration": 24,
    "start_time": "2022-02-01T13:03:29.270Z"
   },
   {
    "duration": 23,
    "start_time": "2022-02-01T13:03:29.333Z"
   },
   {
    "duration": 413,
    "start_time": "2022-02-01T13:03:29.358Z"
   },
   {
    "duration": 408,
    "start_time": "2022-02-01T13:03:54.783Z"
   },
   {
    "duration": 406,
    "start_time": "2022-02-01T13:11:25.826Z"
   },
   {
    "duration": 409,
    "start_time": "2022-02-01T13:13:18.225Z"
   },
   {
    "duration": 387,
    "start_time": "2022-02-01T13:14:18.394Z"
   },
   {
    "duration": 408,
    "start_time": "2022-02-01T13:15:29.411Z"
   },
   {
    "duration": 400,
    "start_time": "2022-02-01T13:18:55.516Z"
   },
   {
    "duration": 392,
    "start_time": "2022-02-01T13:19:06.217Z"
   },
   {
    "duration": 12,
    "start_time": "2022-02-01T13:25:09.084Z"
   },
   {
    "duration": 9,
    "start_time": "2022-02-01T13:26:17.622Z"
   },
   {
    "duration": 9,
    "start_time": "2022-02-01T13:26:51.935Z"
   },
   {
    "duration": 342,
    "start_time": "2022-02-01T13:40:25.003Z"
   },
   {
    "duration": 496,
    "start_time": "2022-02-01T13:46:41.238Z"
   },
   {
    "duration": 503,
    "start_time": "2022-02-01T13:47:12.321Z"
   },
   {
    "duration": 14,
    "start_time": "2022-02-01T13:47:12.827Z"
   },
   {
    "duration": 14,
    "start_time": "2022-02-01T13:47:12.845Z"
   },
   {
    "duration": 12,
    "start_time": "2022-02-01T13:47:12.862Z"
   },
   {
    "duration": 14,
    "start_time": "2022-02-01T13:47:12.876Z"
   },
   {
    "duration": 47,
    "start_time": "2022-02-01T13:47:12.892Z"
   },
   {
    "duration": 28,
    "start_time": "2022-02-01T13:47:12.942Z"
   },
   {
    "duration": 22,
    "start_time": "2022-02-01T13:47:12.973Z"
   },
   {
    "duration": 53,
    "start_time": "2022-02-01T13:47:12.998Z"
   },
   {
    "duration": 11,
    "start_time": "2022-02-01T13:47:13.055Z"
   },
   {
    "duration": 14,
    "start_time": "2022-02-01T13:47:13.069Z"
   },
   {
    "duration": 16,
    "start_time": "2022-02-01T13:47:13.085Z"
   },
   {
    "duration": 13,
    "start_time": "2022-02-01T13:47:13.133Z"
   },
   {
    "duration": 11,
    "start_time": "2022-02-01T13:47:13.149Z"
   },
   {
    "duration": 20,
    "start_time": "2022-02-01T13:47:13.163Z"
   },
   {
    "duration": 107,
    "start_time": "2022-02-01T13:47:13.185Z"
   },
   {
    "duration": 44,
    "start_time": "2022-02-01T13:47:13.295Z"
   },
   {
    "duration": 54,
    "start_time": "2022-02-01T13:47:13.341Z"
   },
   {
    "duration": 60,
    "start_time": "2022-02-01T13:47:13.398Z"
   },
   {
    "duration": 15,
    "start_time": "2022-02-01T13:47:13.461Z"
   },
   {
    "duration": 71,
    "start_time": "2022-02-01T13:47:13.479Z"
   },
   {
    "duration": 19,
    "start_time": "2022-02-01T13:47:13.552Z"
   },
   {
    "duration": 61,
    "start_time": "2022-02-01T13:47:13.574Z"
   },
   {
    "duration": 62,
    "start_time": "2022-02-01T13:47:13.637Z"
   },
   {
    "duration": 45,
    "start_time": "2022-02-01T13:47:13.701Z"
   },
   {
    "duration": 33,
    "start_time": "2022-02-01T13:47:13.748Z"
   },
   {
    "duration": 79,
    "start_time": "2022-02-01T13:47:13.785Z"
   },
   {
    "duration": 67,
    "start_time": "2022-02-01T13:47:13.867Z"
   },
   {
    "duration": 11,
    "start_time": "2022-02-01T13:47:13.937Z"
   },
   {
    "duration": 8,
    "start_time": "2022-02-01T13:47:13.950Z"
   },
   {
    "duration": 21,
    "start_time": "2022-02-01T13:47:13.961Z"
   },
   {
    "duration": 57,
    "start_time": "2022-02-01T13:47:13.984Z"
   },
   {
    "duration": 460,
    "start_time": "2022-02-01T13:47:14.043Z"
   },
   {
    "duration": 407,
    "start_time": "2022-02-01T13:59:17.828Z"
   },
   {
    "duration": 446,
    "start_time": "2022-02-01T14:08:38.066Z"
   },
   {
    "duration": 476,
    "start_time": "2022-02-01T14:16:20.611Z"
   },
   {
    "duration": 96,
    "start_time": "2022-02-01T14:17:02.549Z"
   },
   {
    "duration": 424,
    "start_time": "2022-02-01T14:17:09.533Z"
   },
   {
    "duration": 408,
    "start_time": "2022-02-01T14:18:47.886Z"
   },
   {
    "duration": 409,
    "start_time": "2022-02-01T14:19:55.502Z"
   },
   {
    "duration": 647,
    "start_time": "2022-02-01T14:21:43.200Z"
   },
   {
    "duration": 421,
    "start_time": "2022-02-01T14:22:28.052Z"
   },
   {
    "duration": 401,
    "start_time": "2022-02-01T14:28:23.579Z"
   },
   {
    "duration": 500,
    "start_time": "2022-02-01T14:29:28.508Z"
   },
   {
    "duration": 415,
    "start_time": "2022-02-01T14:29:38.155Z"
   },
   {
    "duration": 370,
    "start_time": "2022-02-01T14:30:10.862Z"
   },
   {
    "duration": 406,
    "start_time": "2022-02-01T14:30:25.020Z"
   },
   {
    "duration": 405,
    "start_time": "2022-02-01T14:31:25.468Z"
   },
   {
    "duration": 915,
    "start_time": "2022-02-01T14:33:50.444Z"
   },
   {
    "duration": 892,
    "start_time": "2022-02-01T14:34:29.077Z"
   },
   {
    "duration": 267,
    "start_time": "2022-02-01T16:57:11.071Z"
   },
   {
    "duration": 1668,
    "start_time": "2022-02-01T16:57:19.516Z"
   },
   {
    "duration": 11,
    "start_time": "2022-02-01T16:57:21.186Z"
   },
   {
    "duration": 11,
    "start_time": "2022-02-01T16:57:21.199Z"
   },
   {
    "duration": 12,
    "start_time": "2022-02-01T16:57:21.212Z"
   },
   {
    "duration": 9,
    "start_time": "2022-02-01T16:57:21.227Z"
   },
   {
    "duration": 12,
    "start_time": "2022-02-01T16:57:21.238Z"
   },
   {
    "duration": 30,
    "start_time": "2022-02-01T16:57:21.252Z"
   },
   {
    "duration": 44,
    "start_time": "2022-02-01T16:57:21.284Z"
   },
   {
    "duration": 19,
    "start_time": "2022-02-01T16:57:21.330Z"
   },
   {
    "duration": 6,
    "start_time": "2022-02-01T16:57:21.352Z"
   },
   {
    "duration": 9,
    "start_time": "2022-02-01T16:57:21.361Z"
   },
   {
    "duration": 43,
    "start_time": "2022-02-01T16:57:21.371Z"
   },
   {
    "duration": 12,
    "start_time": "2022-02-01T16:57:21.416Z"
   },
   {
    "duration": 11,
    "start_time": "2022-02-01T16:57:21.430Z"
   },
   {
    "duration": 26,
    "start_time": "2022-02-01T16:57:21.443Z"
   },
   {
    "duration": 86,
    "start_time": "2022-02-01T16:57:21.470Z"
   },
   {
    "duration": 33,
    "start_time": "2022-02-01T16:57:21.558Z"
   },
   {
    "duration": 65,
    "start_time": "2022-02-01T16:57:21.593Z"
   },
   {
    "duration": 34,
    "start_time": "2022-02-01T16:57:21.660Z"
   },
   {
    "duration": 29,
    "start_time": "2022-02-01T16:57:21.696Z"
   },
   {
    "duration": 45,
    "start_time": "2022-02-01T16:57:21.728Z"
   },
   {
    "duration": 55,
    "start_time": "2022-02-01T16:57:21.775Z"
   },
   {
    "duration": 37,
    "start_time": "2022-02-01T16:57:21.835Z"
   },
   {
    "duration": 59,
    "start_time": "2022-02-01T16:57:21.874Z"
   },
   {
    "duration": 33,
    "start_time": "2022-02-01T16:57:21.935Z"
   },
   {
    "duration": 54,
    "start_time": "2022-02-01T16:57:21.970Z"
   },
   {
    "duration": 48,
    "start_time": "2022-02-01T16:57:22.026Z"
   },
   {
    "duration": 56,
    "start_time": "2022-02-01T16:57:22.076Z"
   },
   {
    "duration": 10,
    "start_time": "2022-02-01T16:57:22.134Z"
   },
   {
    "duration": 7,
    "start_time": "2022-02-01T16:57:22.147Z"
   },
   {
    "duration": 20,
    "start_time": "2022-02-01T16:57:22.156Z"
   },
   {
    "duration": 54,
    "start_time": "2022-02-01T16:57:22.177Z"
   },
   {
    "duration": 566,
    "start_time": "2022-02-01T16:57:22.233Z"
   },
   {
    "duration": 271,
    "start_time": "2022-02-01T16:57:22.801Z"
   },
   {
    "duration": 483,
    "start_time": "2022-02-01T16:59:40.067Z"
   },
   {
    "duration": 36,
    "start_time": "2022-02-01T17:00:02.089Z"
   },
   {
    "duration": 32,
    "start_time": "2022-02-01T17:03:06.817Z"
   },
   {
    "duration": 30,
    "start_time": "2022-02-01T17:03:22.144Z"
   },
   {
    "duration": 36,
    "start_time": "2022-02-01T17:05:14.686Z"
   },
   {
    "duration": 39,
    "start_time": "2022-02-01T17:06:54.278Z"
   },
   {
    "duration": 36,
    "start_time": "2022-02-01T17:07:18.643Z"
   },
   {
    "duration": 38,
    "start_time": "2022-02-01T17:07:31.232Z"
   },
   {
    "duration": 38,
    "start_time": "2022-02-01T17:07:46.669Z"
   },
   {
    "duration": 37,
    "start_time": "2022-02-01T17:08:00.428Z"
   },
   {
    "duration": 39,
    "start_time": "2022-02-01T17:08:21.303Z"
   },
   {
    "duration": 35,
    "start_time": "2022-02-01T17:08:31.943Z"
   },
   {
    "duration": 34,
    "start_time": "2022-02-01T17:08:40.037Z"
   },
   {
    "duration": 35,
    "start_time": "2022-02-01T17:08:49.731Z"
   },
   {
    "duration": 39,
    "start_time": "2022-02-01T17:09:29.380Z"
   },
   {
    "duration": 35,
    "start_time": "2022-02-01T17:09:46.081Z"
   },
   {
    "duration": 37,
    "start_time": "2022-02-01T17:10:04.856Z"
   },
   {
    "duration": 41,
    "start_time": "2022-02-01T17:10:26.691Z"
   },
   {
    "duration": 1141,
    "start_time": "2022-02-01T17:16:53.573Z"
   },
   {
    "duration": 4640,
    "start_time": "2022-02-01T17:23:45.091Z"
   },
   {
    "duration": 10,
    "start_time": "2022-02-01T17:25:52.712Z"
   },
   {
    "duration": 23,
    "start_time": "2022-02-01T17:26:16.380Z"
   },
   {
    "duration": 20,
    "start_time": "2022-02-01T17:28:11.857Z"
   },
   {
    "duration": 20,
    "start_time": "2022-02-01T17:32:00.876Z"
   },
   {
    "duration": 4683,
    "start_time": "2022-02-01T17:38:20.073Z"
   },
   {
    "duration": 386,
    "start_time": "2022-02-01T17:40:06.687Z"
   },
   {
    "duration": 288,
    "start_time": "2022-02-01T17:40:31.148Z"
   },
   {
    "duration": 228,
    "start_time": "2022-02-01T17:41:37.367Z"
   },
   {
    "duration": 238,
    "start_time": "2022-02-01T17:41:55.548Z"
   },
   {
    "duration": 20,
    "start_time": "2022-02-01T17:46:25.345Z"
   },
   {
    "duration": 22,
    "start_time": "2022-02-01T18:11:14.748Z"
   },
   {
    "duration": 17,
    "start_time": "2022-02-01T18:11:41.024Z"
   },
   {
    "duration": 18,
    "start_time": "2022-02-01T18:11:50.053Z"
   },
   {
    "duration": 19,
    "start_time": "2022-02-01T18:28:38.597Z"
   },
   {
    "duration": 4606,
    "start_time": "2022-02-01T18:34:32.916Z"
   },
   {
    "duration": 6026,
    "start_time": "2022-02-01T18:34:48.938Z"
   },
   {
    "duration": 239,
    "start_time": "2022-02-01T18:35:13.302Z"
   },
   {
    "duration": 4800,
    "start_time": "2022-02-01T18:40:57.231Z"
   },
   {
    "duration": 17,
    "start_time": "2022-02-01T18:41:30.441Z"
   },
   {
    "duration": 20,
    "start_time": "2022-02-01T18:42:13.554Z"
   },
   {
    "duration": 18,
    "start_time": "2022-02-01T18:42:52.924Z"
   },
   {
    "duration": 15,
    "start_time": "2022-02-01T18:45:41.657Z"
   },
   {
    "duration": 197,
    "start_time": "2022-02-01T18:51:33.818Z"
   },
   {
    "duration": 232,
    "start_time": "2022-02-01T18:56:01.319Z"
   },
   {
    "duration": 230,
    "start_time": "2022-02-01T18:56:25.650Z"
   },
   {
    "duration": 191,
    "start_time": "2022-02-01T18:59:16.127Z"
   },
   {
    "duration": 2806,
    "start_time": "2022-02-01T19:01:33.217Z"
   },
   {
    "duration": 17,
    "start_time": "2022-02-01T19:02:55.244Z"
   },
   {
    "duration": 17,
    "start_time": "2022-02-01T19:03:23.559Z"
   },
   {
    "duration": 19,
    "start_time": "2022-02-01T19:04:19.496Z"
   },
   {
    "duration": 20,
    "start_time": "2022-02-01T19:04:21.358Z"
   },
   {
    "duration": 4566,
    "start_time": "2022-02-01T19:04:37.308Z"
   },
   {
    "duration": 4909,
    "start_time": "2022-02-01T19:05:17.621Z"
   },
   {
    "duration": 4589,
    "start_time": "2022-02-01T19:05:48.680Z"
   },
   {
    "duration": 19,
    "start_time": "2022-02-01T19:07:26.760Z"
   },
   {
    "duration": 18,
    "start_time": "2022-02-01T19:07:34.863Z"
   },
   {
    "duration": 229,
    "start_time": "2022-02-01T19:07:39.798Z"
   },
   {
    "duration": 228,
    "start_time": "2022-02-01T19:09:30.963Z"
   },
   {
    "duration": 233,
    "start_time": "2022-02-01T19:09:53.887Z"
   },
   {
    "duration": 270,
    "start_time": "2022-02-01T19:10:07.246Z"
   },
   {
    "duration": 269,
    "start_time": "2022-02-01T19:10:17.972Z"
   },
   {
    "duration": 341,
    "start_time": "2022-02-02T04:07:18.110Z"
   },
   {
    "duration": 286,
    "start_time": "2022-02-02T06:02:43.788Z"
   },
   {
    "duration": 1592,
    "start_time": "2022-02-02T06:02:55.529Z"
   },
   {
    "duration": 12,
    "start_time": "2022-02-02T06:02:57.123Z"
   },
   {
    "duration": 14,
    "start_time": "2022-02-02T06:02:57.137Z"
   },
   {
    "duration": 14,
    "start_time": "2022-02-02T06:02:57.153Z"
   },
   {
    "duration": 13,
    "start_time": "2022-02-02T06:02:57.168Z"
   },
   {
    "duration": 24,
    "start_time": "2022-02-02T06:02:57.183Z"
   },
   {
    "duration": 24,
    "start_time": "2022-02-02T06:02:57.209Z"
   },
   {
    "duration": 26,
    "start_time": "2022-02-02T06:02:57.235Z"
   },
   {
    "duration": 15,
    "start_time": "2022-02-02T06:02:57.264Z"
   },
   {
    "duration": 32,
    "start_time": "2022-02-02T06:02:57.282Z"
   },
   {
    "duration": 15,
    "start_time": "2022-02-02T06:02:57.316Z"
   },
   {
    "duration": 19,
    "start_time": "2022-02-02T06:02:57.333Z"
   },
   {
    "duration": 13,
    "start_time": "2022-02-02T06:02:57.354Z"
   },
   {
    "duration": 10,
    "start_time": "2022-02-02T06:02:57.369Z"
   },
   {
    "duration": 30,
    "start_time": "2022-02-02T06:02:57.380Z"
   },
   {
    "duration": 68,
    "start_time": "2022-02-02T06:02:57.413Z"
   },
   {
    "duration": 40,
    "start_time": "2022-02-02T06:02:57.483Z"
   },
   {
    "duration": 49,
    "start_time": "2022-02-02T06:02:57.525Z"
   },
   {
    "duration": 6,
    "start_time": "2022-02-02T06:02:57.576Z"
   },
   {
    "duration": 34,
    "start_time": "2022-02-02T06:02:57.608Z"
   },
   {
    "duration": 11,
    "start_time": "2022-02-02T06:02:57.644Z"
   },
   {
    "duration": 60,
    "start_time": "2022-02-02T06:02:57.657Z"
   },
   {
    "duration": 18,
    "start_time": "2022-02-02T06:02:57.720Z"
   },
   {
    "duration": 34,
    "start_time": "2022-02-02T06:02:57.740Z"
   },
   {
    "duration": 74,
    "start_time": "2022-02-02T06:02:57.777Z"
   },
   {
    "duration": 22,
    "start_time": "2022-02-02T06:02:57.853Z"
   },
   {
    "duration": 44,
    "start_time": "2022-02-02T06:02:57.879Z"
   },
   {
    "duration": 42,
    "start_time": "2022-02-02T06:02:57.926Z"
   },
   {
    "duration": 60,
    "start_time": "2022-02-02T06:02:57.970Z"
   },
   {
    "duration": 9,
    "start_time": "2022-02-02T06:02:58.032Z"
   },
   {
    "duration": 15,
    "start_time": "2022-02-02T06:02:58.043Z"
   },
   {
    "duration": 21,
    "start_time": "2022-02-02T06:02:58.060Z"
   },
   {
    "duration": 32,
    "start_time": "2022-02-02T06:02:58.083Z"
   },
   {
    "duration": 491,
    "start_time": "2022-02-02T06:02:58.117Z"
   },
   {
    "duration": 21,
    "start_time": "2022-02-02T06:02:58.610Z"
   },
   {
    "duration": 37,
    "start_time": "2022-02-02T06:02:58.633Z"
   },
   {
    "duration": 39,
    "start_time": "2022-02-02T06:02:58.672Z"
   },
   {
    "duration": 18,
    "start_time": "2022-02-02T06:02:58.713Z"
   },
   {
    "duration": 15,
    "start_time": "2022-02-02T06:02:58.733Z"
   },
   {
    "duration": 20,
    "start_time": "2022-02-02T06:02:58.750Z"
   },
   {
    "duration": 50,
    "start_time": "2022-02-02T06:02:58.772Z"
   },
   {
    "duration": 293,
    "start_time": "2022-02-02T06:02:58.824Z"
   },
   {
    "duration": 16192,
    "start_time": "2022-02-02T06:02:42.927Z"
   },
   {
    "duration": 6,
    "start_time": "2022-02-02T06:04:23.409Z"
   },
   {
    "duration": 7,
    "start_time": "2022-02-02T06:04:46.864Z"
   },
   {
    "duration": 7,
    "start_time": "2022-02-02T06:05:11.681Z"
   },
   {
    "duration": 6,
    "start_time": "2022-02-02T06:06:45.818Z"
   },
   {
    "duration": 6,
    "start_time": "2022-02-02T06:08:03.508Z"
   },
   {
    "duration": 7,
    "start_time": "2022-02-02T06:10:11.372Z"
   },
   {
    "duration": 18,
    "start_time": "2022-02-02T06:43:11.159Z"
   },
   {
    "duration": 18,
    "start_time": "2022-02-02T06:43:43.503Z"
   },
   {
    "duration": 18,
    "start_time": "2022-02-02T06:43:45.369Z"
   },
   {
    "duration": 18,
    "start_time": "2022-02-02T06:43:55.186Z"
   },
   {
    "duration": 18,
    "start_time": "2022-02-02T06:44:02.802Z"
   },
   {
    "duration": 18,
    "start_time": "2022-02-02T06:44:20.914Z"
   },
   {
    "duration": 18,
    "start_time": "2022-02-02T06:44:57.899Z"
   },
   {
    "duration": 20,
    "start_time": "2022-02-02T06:45:11.577Z"
   },
   {
    "duration": 6,
    "start_time": "2022-02-02T06:45:28.379Z"
   },
   {
    "duration": 288,
    "start_time": "2022-02-02T06:48:27.563Z"
   },
   {
    "duration": 16,
    "start_time": "2022-02-02T06:49:52.892Z"
   },
   {
    "duration": 19,
    "start_time": "2022-02-02T06:50:45.934Z"
   },
   {
    "duration": 6,
    "start_time": "2022-02-02T06:51:12.021Z"
   },
   {
    "duration": 651,
    "start_time": "2022-02-02T06:53:04.307Z"
   },
   {
    "duration": 17,
    "start_time": "2022-02-02T06:53:14.661Z"
   },
   {
    "duration": 6,
    "start_time": "2022-02-02T06:53:32.485Z"
   },
   {
    "duration": 43,
    "start_time": "2022-02-02T07:06:37.996Z"
   },
   {
    "duration": 9,
    "start_time": "2022-02-02T07:07:18.085Z"
   },
   {
    "duration": 7,
    "start_time": "2022-02-02T07:08:50.855Z"
   },
   {
    "duration": 7138,
    "start_time": "2022-02-02T07:10:27.476Z"
   },
   {
    "duration": 7157,
    "start_time": "2022-02-02T07:10:43.071Z"
   },
   {
    "duration": 12,
    "start_time": "2022-02-02T07:11:40.184Z"
   },
   {
    "duration": 12,
    "start_time": "2022-02-02T07:12:39.712Z"
   },
   {
    "duration": 30,
    "start_time": "2022-02-02T07:13:54.217Z"
   },
   {
    "duration": 42,
    "start_time": "2022-02-02T07:15:36.306Z"
   },
   {
    "duration": 3,
    "start_time": "2022-02-02T07:18:29.698Z"
   },
   {
    "duration": 20,
    "start_time": "2022-02-02T07:26:26.372Z"
   },
   {
    "duration": 90,
    "start_time": "2022-02-02T07:33:15.510Z"
   },
   {
    "duration": 21,
    "start_time": "2022-02-02T07:33:24.729Z"
   },
   {
    "duration": 664,
    "start_time": "2022-02-02T07:34:03.890Z"
   },
   {
    "duration": 18,
    "start_time": "2022-02-02T07:34:19.498Z"
   },
   {
    "duration": 231,
    "start_time": "2022-02-02T07:35:17.354Z"
   },
   {
    "duration": 221,
    "start_time": "2022-02-02T07:35:35.290Z"
   },
   {
    "duration": 204,
    "start_time": "2022-02-02T07:35:48.698Z"
   },
   {
    "duration": 187,
    "start_time": "2022-02-02T07:37:05.690Z"
   },
   {
    "duration": 18,
    "start_time": "2022-02-02T07:56:34.538Z"
   },
   {
    "duration": 14,
    "start_time": "2022-02-02T07:57:00.083Z"
   },
   {
    "duration": 267,
    "start_time": "2022-02-02T07:57:51.708Z"
   },
   {
    "duration": 17,
    "start_time": "2022-02-02T07:58:23.437Z"
   },
   {
    "duration": 24,
    "start_time": "2022-02-02T07:59:05.349Z"
   },
   {
    "duration": 24,
    "start_time": "2022-02-02T08:06:01.384Z"
   },
   {
    "duration": 33,
    "start_time": "2022-02-02T08:07:58.810Z"
   },
   {
    "duration": 30,
    "start_time": "2022-02-02T08:08:16.089Z"
   },
   {
    "duration": 24,
    "start_time": "2022-02-02T08:08:27.659Z"
   },
   {
    "duration": 17,
    "start_time": "2022-02-02T08:10:34.106Z"
   },
   {
    "duration": 23,
    "start_time": "2022-02-02T08:12:35.683Z"
   },
   {
    "duration": 29,
    "start_time": "2022-02-02T08:12:51.172Z"
   },
   {
    "duration": 36,
    "start_time": "2022-02-02T08:13:06.922Z"
   },
   {
    "duration": 35,
    "start_time": "2022-02-02T08:13:29.634Z"
   },
   {
    "duration": 40,
    "start_time": "2022-02-02T08:15:04.828Z"
   },
   {
    "duration": 21,
    "start_time": "2022-02-02T08:15:32.365Z"
   },
   {
    "duration": 3,
    "start_time": "2022-02-02T08:51:10.218Z"
   },
   {
    "duration": 266,
    "start_time": "2022-02-02T08:53:58.341Z"
   },
   {
    "duration": 456,
    "start_time": "2022-02-02T08:54:24.148Z"
   },
   {
    "duration": 9,
    "start_time": "2022-02-02T08:54:24.606Z"
   },
   {
    "duration": 23,
    "start_time": "2022-02-02T08:54:24.617Z"
   },
   {
    "duration": 10,
    "start_time": "2022-02-02T08:54:24.642Z"
   },
   {
    "duration": 17,
    "start_time": "2022-02-02T08:54:24.654Z"
   },
   {
    "duration": 15,
    "start_time": "2022-02-02T08:54:24.673Z"
   },
   {
    "duration": 39,
    "start_time": "2022-02-02T08:54:24.690Z"
   },
   {
    "duration": 20,
    "start_time": "2022-02-02T08:54:24.732Z"
   },
   {
    "duration": 16,
    "start_time": "2022-02-02T08:54:24.755Z"
   },
   {
    "duration": 35,
    "start_time": "2022-02-02T08:54:24.773Z"
   },
   {
    "duration": 7,
    "start_time": "2022-02-02T08:54:24.810Z"
   },
   {
    "duration": 16,
    "start_time": "2022-02-02T08:54:24.819Z"
   },
   {
    "duration": 22,
    "start_time": "2022-02-02T08:54:24.837Z"
   },
   {
    "duration": 14,
    "start_time": "2022-02-02T08:54:24.860Z"
   },
   {
    "duration": 14,
    "start_time": "2022-02-02T08:54:24.876Z"
   },
   {
    "duration": 64,
    "start_time": "2022-02-02T08:54:24.908Z"
   },
   {
    "duration": 48,
    "start_time": "2022-02-02T08:54:24.973Z"
   },
   {
    "duration": 49,
    "start_time": "2022-02-02T08:54:25.023Z"
   },
   {
    "duration": 6,
    "start_time": "2022-02-02T08:54:25.075Z"
   },
   {
    "duration": 49,
    "start_time": "2022-02-02T08:54:25.084Z"
   },
   {
    "duration": 7,
    "start_time": "2022-02-02T08:54:25.135Z"
   },
   {
    "duration": 26,
    "start_time": "2022-02-02T08:54:25.144Z"
   },
   {
    "duration": 34,
    "start_time": "2022-02-02T08:54:25.175Z"
   },
   {
    "duration": 64,
    "start_time": "2022-02-02T08:54:25.213Z"
   },
   {
    "duration": 31,
    "start_time": "2022-02-02T08:54:25.279Z"
   },
   {
    "duration": 32,
    "start_time": "2022-02-02T08:54:25.312Z"
   },
   {
    "duration": 14,
    "start_time": "2022-02-02T08:54:25.347Z"
   },
   {
    "duration": 77,
    "start_time": "2022-02-02T08:54:25.363Z"
   },
   {
    "duration": 21,
    "start_time": "2022-02-02T08:54:25.442Z"
   },
   {
    "duration": 34,
    "start_time": "2022-02-02T08:54:25.465Z"
   },
   {
    "duration": 7,
    "start_time": "2022-02-02T08:54:25.508Z"
   },
   {
    "duration": 30,
    "start_time": "2022-02-02T08:54:25.517Z"
   },
   {
    "duration": 34,
    "start_time": "2022-02-02T08:54:25.550Z"
   },
   {
    "duration": 70,
    "start_time": "2022-02-02T08:54:25.586Z"
   },
   {
    "duration": 100,
    "start_time": "2022-02-02T08:54:25.658Z"
   },
   {
    "duration": 8,
    "start_time": "2022-02-02T08:54:25.760Z"
   },
   {
    "duration": 16,
    "start_time": "2022-02-02T08:54:25.770Z"
   },
   {
    "duration": 7167,
    "start_time": "2022-02-02T08:54:25.788Z"
   },
   {
    "duration": 16296,
    "start_time": "2022-02-02T08:54:16.662Z"
   },
   {
    "duration": 16295,
    "start_time": "2022-02-02T08:54:16.664Z"
   },
   {
    "duration": 16296,
    "start_time": "2022-02-02T08:54:16.665Z"
   },
   {
    "duration": 16296,
    "start_time": "2022-02-02T08:54:16.667Z"
   },
   {
    "duration": 16264,
    "start_time": "2022-02-02T08:54:16.700Z"
   },
   {
    "duration": 16261,
    "start_time": "2022-02-02T08:54:16.705Z"
   },
   {
    "duration": 16260,
    "start_time": "2022-02-02T08:54:16.708Z"
   },
   {
    "duration": 16260,
    "start_time": "2022-02-02T08:54:16.709Z"
   },
   {
    "duration": 16260,
    "start_time": "2022-02-02T08:54:16.711Z"
   },
   {
    "duration": 16260,
    "start_time": "2022-02-02T08:54:16.713Z"
   },
   {
    "duration": 16259,
    "start_time": "2022-02-02T08:54:16.715Z"
   },
   {
    "duration": 16255,
    "start_time": "2022-02-02T08:54:16.721Z"
   },
   {
    "duration": 16255,
    "start_time": "2022-02-02T08:54:16.723Z"
   },
   {
    "duration": 16254,
    "start_time": "2022-02-02T08:54:16.725Z"
   },
   {
    "duration": 16254,
    "start_time": "2022-02-02T08:54:16.727Z"
   },
   {
    "duration": 16253,
    "start_time": "2022-02-02T08:54:16.729Z"
   },
   {
    "duration": 21,
    "start_time": "2022-02-02T08:55:50.666Z"
   },
   {
    "duration": 25,
    "start_time": "2022-02-02T08:56:22.362Z"
   },
   {
    "duration": 12,
    "start_time": "2022-02-02T09:01:41.493Z"
   },
   {
    "duration": 19,
    "start_time": "2022-02-02T09:02:27.548Z"
   },
   {
    "duration": 11,
    "start_time": "2022-02-02T09:02:48.054Z"
   },
   {
    "duration": 271,
    "start_time": "2022-02-02T09:06:18.528Z"
   },
   {
    "duration": 11,
    "start_time": "2022-02-02T09:06:35.696Z"
   },
   {
    "duration": 36,
    "start_time": "2022-02-02T09:15:31.693Z"
   },
   {
    "duration": 25,
    "start_time": "2022-02-02T09:15:42.901Z"
   },
   {
    "duration": 235,
    "start_time": "2022-02-02T15:20:53.262Z"
   },
   {
    "duration": 1461,
    "start_time": "2022-02-02T15:21:00.283Z"
   },
   {
    "duration": 12,
    "start_time": "2022-02-02T15:21:01.746Z"
   },
   {
    "duration": 8,
    "start_time": "2022-02-02T15:21:01.761Z"
   },
   {
    "duration": 7,
    "start_time": "2022-02-02T15:21:01.772Z"
   },
   {
    "duration": 9,
    "start_time": "2022-02-02T15:21:01.781Z"
   },
   {
    "duration": 16,
    "start_time": "2022-02-02T15:21:01.792Z"
   },
   {
    "duration": 22,
    "start_time": "2022-02-02T15:21:01.812Z"
   },
   {
    "duration": 18,
    "start_time": "2022-02-02T15:21:01.837Z"
   },
   {
    "duration": 15,
    "start_time": "2022-02-02T15:21:01.858Z"
   },
   {
    "duration": 8,
    "start_time": "2022-02-02T15:21:01.875Z"
   },
   {
    "duration": 7,
    "start_time": "2022-02-02T15:21:01.913Z"
   },
   {
    "duration": 16,
    "start_time": "2022-02-02T15:21:01.922Z"
   },
   {
    "duration": 9,
    "start_time": "2022-02-02T15:21:01.940Z"
   },
   {
    "duration": 9,
    "start_time": "2022-02-02T15:21:01.951Z"
   },
   {
    "duration": 26,
    "start_time": "2022-02-02T15:21:01.961Z"
   },
   {
    "duration": 79,
    "start_time": "2022-02-02T15:21:01.988Z"
   },
   {
    "duration": 26,
    "start_time": "2022-02-02T15:21:02.069Z"
   },
   {
    "duration": 30,
    "start_time": "2022-02-02T15:21:02.112Z"
   },
   {
    "duration": 39,
    "start_time": "2022-02-02T15:21:02.144Z"
   },
   {
    "duration": 29,
    "start_time": "2022-02-02T15:21:02.185Z"
   },
   {
    "duration": 34,
    "start_time": "2022-02-02T15:21:02.215Z"
   },
   {
    "duration": 5,
    "start_time": "2022-02-02T15:21:02.250Z"
   },
   {
    "duration": 22,
    "start_time": "2022-02-02T15:21:02.258Z"
   },
   {
    "duration": 10,
    "start_time": "2022-02-02T15:21:02.282Z"
   },
   {
    "duration": 46,
    "start_time": "2022-02-02T15:21:02.293Z"
   },
   {
    "duration": 16,
    "start_time": "2022-02-02T15:21:02.341Z"
   },
   {
    "duration": 20,
    "start_time": "2022-02-02T15:21:02.359Z"
   },
   {
    "duration": 53,
    "start_time": "2022-02-02T15:21:02.380Z"
   },
   {
    "duration": 4,
    "start_time": "2022-02-02T15:21:02.435Z"
   },
   {
    "duration": 46,
    "start_time": "2022-02-02T15:21:02.441Z"
   },
   {
    "duration": 31,
    "start_time": "2022-02-02T15:21:02.488Z"
   },
   {
    "duration": 23,
    "start_time": "2022-02-02T15:21:02.520Z"
   },
   {
    "duration": 4,
    "start_time": "2022-02-02T15:21:02.545Z"
   },
   {
    "duration": 10,
    "start_time": "2022-02-02T15:21:02.551Z"
   },
   {
    "duration": 6,
    "start_time": "2022-02-02T15:21:02.563Z"
   },
   {
    "duration": 10,
    "start_time": "2022-02-02T15:21:02.571Z"
   },
   {
    "duration": 63,
    "start_time": "2022-02-02T15:21:02.582Z"
   },
   {
    "duration": 6,
    "start_time": "2022-02-02T15:21:02.646Z"
   },
   {
    "duration": 9,
    "start_time": "2022-02-02T15:21:02.654Z"
   },
   {
    "duration": 4917,
    "start_time": "2022-02-02T15:21:02.664Z"
   },
   {
    "duration": -722,
    "start_time": "2022-02-02T15:21:08.305Z"
   },
   {
    "duration": -727,
    "start_time": "2022-02-02T15:21:08.311Z"
   },
   {
    "duration": -732,
    "start_time": "2022-02-02T15:21:08.317Z"
   },
   {
    "duration": -737,
    "start_time": "2022-02-02T15:21:08.323Z"
   },
   {
    "duration": -742,
    "start_time": "2022-02-02T15:21:08.329Z"
   },
   {
    "duration": -746,
    "start_time": "2022-02-02T15:21:08.334Z"
   },
   {
    "duration": -751,
    "start_time": "2022-02-02T15:21:08.340Z"
   },
   {
    "duration": -756,
    "start_time": "2022-02-02T15:21:08.346Z"
   },
   {
    "duration": -760,
    "start_time": "2022-02-02T15:21:08.351Z"
   },
   {
    "duration": -765,
    "start_time": "2022-02-02T15:21:08.357Z"
   },
   {
    "duration": -769,
    "start_time": "2022-02-02T15:21:08.362Z"
   },
   {
    "duration": -772,
    "start_time": "2022-02-02T15:21:08.366Z"
   },
   {
    "duration": -777,
    "start_time": "2022-02-02T15:21:08.372Z"
   },
   {
    "duration": -791,
    "start_time": "2022-02-02T15:21:08.387Z"
   },
   {
    "duration": -795,
    "start_time": "2022-02-02T15:21:08.392Z"
   },
   {
    "duration": -797,
    "start_time": "2022-02-02T15:21:08.395Z"
   },
   {
    "duration": 208,
    "start_time": "2022-02-02T15:21:52.160Z"
   },
   {
    "duration": 28,
    "start_time": "2022-02-02T15:22:15.261Z"
   },
   {
    "duration": 5372,
    "start_time": "2022-02-02T15:31:14.833Z"
   },
   {
    "duration": -723,
    "start_time": "2022-02-02T15:31:20.930Z"
   },
   {
    "duration": 12,
    "start_time": "2022-02-02T15:31:57.331Z"
   },
   {
    "duration": 14,
    "start_time": "2022-02-02T15:32:11.421Z"
   },
   {
    "duration": 500,
    "start_time": "2022-02-02T15:35:25.229Z"
   },
   {
    "duration": 13,
    "start_time": "2022-02-02T15:35:50.178Z"
   },
   {
    "duration": 195,
    "start_time": "2022-02-02T15:38:58.533Z"
   },
   {
    "duration": 14,
    "start_time": "2022-02-02T15:39:02.820Z"
   },
   {
    "duration": 6,
    "start_time": "2022-02-02T15:39:04.613Z"
   },
   {
    "duration": 15,
    "start_time": "2022-02-02T15:39:06.794Z"
   },
   {
    "duration": 6,
    "start_time": "2022-02-02T15:39:13.834Z"
   },
   {
    "duration": 14,
    "start_time": "2022-02-02T15:39:17.291Z"
   },
   {
    "duration": 6,
    "start_time": "2022-02-02T15:39:19.161Z"
   },
   {
    "duration": 23,
    "start_time": "2022-02-02T15:39:20.913Z"
   },
   {
    "duration": 9,
    "start_time": "2022-02-02T15:39:29.263Z"
   },
   {
    "duration": 11,
    "start_time": "2022-02-02T15:39:46.837Z"
   },
   {
    "duration": 17,
    "start_time": "2022-02-02T15:40:14.183Z"
   },
   {
    "duration": 36,
    "start_time": "2022-02-02T15:40:29.167Z"
   },
   {
    "duration": 181,
    "start_time": "2022-02-02T15:40:45.300Z"
   },
   {
    "duration": 204,
    "start_time": "2022-02-02T15:50:05.667Z"
   },
   {
    "duration": 231,
    "start_time": "2022-02-02T15:50:25.073Z"
   },
   {
    "duration": 220,
    "start_time": "2022-02-02T15:51:33.373Z"
   },
   {
    "duration": 224,
    "start_time": "2022-02-02T15:52:04.681Z"
   },
   {
    "duration": 9,
    "start_time": "2022-02-02T15:53:58.159Z"
   },
   {
    "duration": 12,
    "start_time": "2022-02-02T15:54:07.765Z"
   },
   {
    "duration": 65,
    "start_time": "2022-02-02T18:08:15.601Z"
   },
   {
    "duration": 16,
    "start_time": "2022-02-02T18:14:30.851Z"
   },
   {
    "duration": 205,
    "start_time": "2022-02-02T18:25:38.385Z"
   },
   {
    "duration": 426,
    "start_time": "2022-02-02T18:28:02.694Z"
   },
   {
    "duration": 9,
    "start_time": "2022-02-02T18:28:03.122Z"
   },
   {
    "duration": 12,
    "start_time": "2022-02-02T18:28:03.133Z"
   },
   {
    "duration": 14,
    "start_time": "2022-02-02T18:28:03.148Z"
   },
   {
    "duration": 9,
    "start_time": "2022-02-02T18:28:03.165Z"
   },
   {
    "duration": 38,
    "start_time": "2022-02-02T18:28:03.176Z"
   },
   {
    "duration": 37,
    "start_time": "2022-02-02T18:28:03.216Z"
   },
   {
    "duration": 17,
    "start_time": "2022-02-02T18:28:03.256Z"
   },
   {
    "duration": 42,
    "start_time": "2022-02-02T18:28:03.275Z"
   },
   {
    "duration": 6,
    "start_time": "2022-02-02T18:28:03.319Z"
   },
   {
    "duration": 9,
    "start_time": "2022-02-02T18:28:03.327Z"
   },
   {
    "duration": 13,
    "start_time": "2022-02-02T18:28:03.337Z"
   },
   {
    "duration": 10,
    "start_time": "2022-02-02T18:28:03.352Z"
   },
   {
    "duration": 55,
    "start_time": "2022-02-02T18:28:03.363Z"
   },
   {
    "duration": 15,
    "start_time": "2022-02-02T18:28:03.420Z"
   },
   {
    "duration": 75,
    "start_time": "2022-02-02T18:28:03.437Z"
   },
   {
    "duration": 27,
    "start_time": "2022-02-02T18:28:03.514Z"
   },
   {
    "duration": 69,
    "start_time": "2022-02-02T18:28:03.543Z"
   },
   {
    "duration": 6,
    "start_time": "2022-02-02T18:28:03.614Z"
   },
   {
    "duration": 31,
    "start_time": "2022-02-02T18:28:03.622Z"
   },
   {
    "duration": 10,
    "start_time": "2022-02-02T18:28:03.656Z"
   },
   {
    "duration": 9,
    "start_time": "2022-02-02T18:28:03.672Z"
   },
   {
    "duration": 31,
    "start_time": "2022-02-02T18:28:03.685Z"
   },
   {
    "duration": 40,
    "start_time": "2022-02-02T18:28:03.718Z"
   },
   {
    "duration": 16,
    "start_time": "2022-02-02T18:28:03.760Z"
   },
   {
    "duration": 52,
    "start_time": "2022-02-02T18:28:03.779Z"
   },
   {
    "duration": 45,
    "start_time": "2022-02-02T18:28:03.834Z"
   },
   {
    "duration": 5,
    "start_time": "2022-02-02T18:28:03.882Z"
   },
   {
    "duration": 75,
    "start_time": "2022-02-02T18:28:03.913Z"
   },
   {
    "duration": 47,
    "start_time": "2022-02-02T18:28:03.991Z"
   },
   {
    "duration": 36,
    "start_time": "2022-02-02T18:28:04.041Z"
   },
   {
    "duration": 8,
    "start_time": "2022-02-02T18:28:04.079Z"
   },
   {
    "duration": 30,
    "start_time": "2022-02-02T18:28:04.089Z"
   },
   {
    "duration": 7,
    "start_time": "2022-02-02T18:28:04.122Z"
   },
   {
    "duration": 52,
    "start_time": "2022-02-02T18:28:04.131Z"
   },
   {
    "duration": 34,
    "start_time": "2022-02-02T18:28:04.185Z"
   },
   {
    "duration": 12,
    "start_time": "2022-02-02T18:28:04.220Z"
   },
   {
    "duration": 14,
    "start_time": "2022-02-02T18:28:04.233Z"
   },
   {
    "duration": 13,
    "start_time": "2022-02-02T18:28:04.249Z"
   },
   {
    "duration": 552,
    "start_time": "2022-02-02T18:28:04.263Z"
   },
   {
    "duration": 16,
    "start_time": "2022-02-02T18:28:04.817Z"
   },
   {
    "duration": 5,
    "start_time": "2022-02-02T18:28:04.834Z"
   },
   {
    "duration": 16,
    "start_time": "2022-02-02T18:28:04.841Z"
   },
   {
    "duration": 6,
    "start_time": "2022-02-02T18:28:04.859Z"
   },
   {
    "duration": 51,
    "start_time": "2022-02-02T18:28:04.867Z"
   },
   {
    "duration": 8,
    "start_time": "2022-02-02T18:28:04.921Z"
   },
   {
    "duration": 36,
    "start_time": "2022-02-02T18:28:04.931Z"
   },
   {
    "duration": 8,
    "start_time": "2022-02-02T18:28:04.969Z"
   },
   {
    "duration": 42,
    "start_time": "2022-02-02T18:28:04.979Z"
   },
   {
    "duration": 16,
    "start_time": "2022-02-02T18:28:05.023Z"
   },
   {
    "duration": 36,
    "start_time": "2022-02-02T18:28:05.040Z"
   },
   {
    "duration": 274,
    "start_time": "2022-02-02T18:28:05.078Z"
   },
   {
    "duration": 318,
    "start_time": "2022-02-02T18:28:05.354Z"
   },
   {
    "duration": 243,
    "start_time": "2022-02-02T18:28:05.674Z"
   },
   {
    "duration": 13,
    "start_time": "2022-02-02T18:28:05.919Z"
   },
   {
    "duration": 18,
    "start_time": "2022-02-02T18:28:05.935Z"
   },
   {
    "duration": 11,
    "start_time": "2022-02-02T18:28:05.955Z"
   },
   {
    "duration": 18,
    "start_time": "2022-02-02T18:44:12.672Z"
   },
   {
    "duration": 18,
    "start_time": "2022-02-02T18:48:27.928Z"
   },
   {
    "duration": 13,
    "start_time": "2022-02-02T18:49:23.359Z"
   },
   {
    "duration": 13,
    "start_time": "2022-02-02T18:52:33.625Z"
   },
   {
    "duration": 71,
    "start_time": "2022-02-02T18:57:31.304Z"
   },
   {
    "duration": 20,
    "start_time": "2022-02-02T18:57:58.228Z"
   },
   {
    "duration": 196,
    "start_time": "2022-02-02T18:59:09.217Z"
   },
   {
    "duration": 25,
    "start_time": "2022-02-02T19:00:36.291Z"
   },
   {
    "duration": 41,
    "start_time": "2022-02-02T19:00:50.426Z"
   },
   {
    "duration": 5,
    "start_time": "2022-02-02T19:03:09.109Z"
   },
   {
    "duration": 191,
    "start_time": "2022-02-02T19:06:06.382Z"
   },
   {
    "duration": 205,
    "start_time": "2022-02-02T19:06:17.144Z"
   },
   {
    "duration": 201,
    "start_time": "2022-02-02T19:06:32.174Z"
   },
   {
    "duration": 58,
    "start_time": "2022-02-02T19:08:21.826Z"
   },
   {
    "duration": 37,
    "start_time": "2022-02-02T19:09:22.616Z"
   },
   {
    "duration": 61,
    "start_time": "2022-02-02T19:12:49.847Z"
   },
   {
    "duration": 4993,
    "start_time": "2022-02-02T19:12:55.502Z"
   },
   {
    "duration": 189,
    "start_time": "2022-02-02T19:22:22.973Z"
   },
   {
    "duration": 179,
    "start_time": "2022-02-02T19:22:39.545Z"
   },
   {
    "duration": 209,
    "start_time": "2022-02-02T19:23:29.426Z"
   },
   {
    "duration": 194,
    "start_time": "2022-02-02T19:23:50.949Z"
   },
   {
    "duration": 26,
    "start_time": "2022-02-02T19:24:16.747Z"
   },
   {
    "duration": 17,
    "start_time": "2022-02-02T19:29:44.838Z"
   },
   {
    "duration": 46,
    "start_time": "2022-02-02T19:30:59.810Z"
   },
   {
    "duration": 52,
    "start_time": "2022-02-02T19:31:42.716Z"
   },
   {
    "duration": 24,
    "start_time": "2022-02-02T19:32:12.423Z"
   },
   {
    "duration": 60,
    "start_time": "2022-02-02T19:46:20.957Z"
   },
   {
    "duration": 60,
    "start_time": "2022-02-02T19:47:12.271Z"
   },
   {
    "duration": 18,
    "start_time": "2022-02-02T19:48:02.007Z"
   },
   {
    "duration": 63,
    "start_time": "2022-02-02T19:50:01.562Z"
   },
   {
    "duration": 11,
    "start_time": "2022-02-02T20:13:38.441Z"
   },
   {
    "duration": 15,
    "start_time": "2022-02-02T20:13:54.806Z"
   },
   {
    "duration": 17,
    "start_time": "2022-02-02T20:14:34.927Z"
   },
   {
    "duration": 15,
    "start_time": "2022-02-02T20:15:27.696Z"
   },
   {
    "duration": 388,
    "start_time": "2022-02-02T20:16:37.380Z"
   },
   {
    "duration": 7,
    "start_time": "2022-02-02T20:16:37.770Z"
   },
   {
    "duration": 9,
    "start_time": "2022-02-02T20:16:37.779Z"
   },
   {
    "duration": 8,
    "start_time": "2022-02-02T20:16:37.790Z"
   },
   {
    "duration": 14,
    "start_time": "2022-02-02T20:16:37.799Z"
   },
   {
    "duration": 11,
    "start_time": "2022-02-02T20:16:37.814Z"
   },
   {
    "duration": 21,
    "start_time": "2022-02-02T20:16:37.827Z"
   },
   {
    "duration": 17,
    "start_time": "2022-02-02T20:16:37.850Z"
   },
   {
    "duration": 46,
    "start_time": "2022-02-02T20:16:37.870Z"
   },
   {
    "duration": 5,
    "start_time": "2022-02-02T20:16:37.918Z"
   },
   {
    "duration": 8,
    "start_time": "2022-02-02T20:16:37.924Z"
   },
   {
    "duration": 9,
    "start_time": "2022-02-02T20:16:37.934Z"
   },
   {
    "duration": 9,
    "start_time": "2022-02-02T20:16:37.945Z"
   },
   {
    "duration": 8,
    "start_time": "2022-02-02T20:16:37.955Z"
   },
   {
    "duration": 102,
    "start_time": "2022-02-02T20:16:37.965Z"
   },
   {
    "duration": 25,
    "start_time": "2022-02-02T20:16:38.069Z"
   },
   {
    "duration": 51,
    "start_time": "2022-02-02T20:16:38.095Z"
   },
   {
    "duration": 5,
    "start_time": "2022-02-02T20:16:38.148Z"
   },
   {
    "duration": 26,
    "start_time": "2022-02-02T20:16:38.155Z"
   },
   {
    "duration": 5,
    "start_time": "2022-02-02T20:16:38.183Z"
   },
   {
    "duration": 32,
    "start_time": "2022-02-02T20:16:38.189Z"
   },
   {
    "duration": 5,
    "start_time": "2022-02-02T20:16:38.223Z"
   },
   {
    "duration": 36,
    "start_time": "2022-02-02T20:16:38.233Z"
   },
   {
    "duration": 44,
    "start_time": "2022-02-02T20:16:38.272Z"
   },
   {
    "duration": 20,
    "start_time": "2022-02-02T20:16:38.319Z"
   },
   {
    "duration": 27,
    "start_time": "2022-02-02T20:16:38.341Z"
   },
   {
    "duration": 5,
    "start_time": "2022-02-02T20:16:38.369Z"
   },
   {
    "duration": 73,
    "start_time": "2022-02-02T20:16:38.376Z"
   },
   {
    "duration": 18,
    "start_time": "2022-02-02T20:16:38.451Z"
   },
   {
    "duration": 23,
    "start_time": "2022-02-02T20:16:38.471Z"
   },
   {
    "duration": 6,
    "start_time": "2022-02-02T20:16:38.512Z"
   },
   {
    "duration": 10,
    "start_time": "2022-02-02T20:16:38.520Z"
   },
   {
    "duration": 5,
    "start_time": "2022-02-02T20:16:38.532Z"
   },
   {
    "duration": 31,
    "start_time": "2022-02-02T20:16:38.539Z"
   },
   {
    "duration": 7,
    "start_time": "2022-02-02T20:16:38.571Z"
   },
   {
    "duration": 37,
    "start_time": "2022-02-02T20:16:38.580Z"
   },
   {
    "duration": 13,
    "start_time": "2022-02-02T20:16:38.619Z"
   },
   {
    "duration": 14,
    "start_time": "2022-02-02T20:16:38.633Z"
   },
   {
    "duration": 508,
    "start_time": "2022-02-02T20:16:38.648Z"
   },
   {
    "duration": 13,
    "start_time": "2022-02-02T20:16:39.158Z"
   },
   {
    "duration": 12,
    "start_time": "2022-02-02T20:16:39.173Z"
   },
   {
    "duration": 31,
    "start_time": "2022-02-02T20:16:39.186Z"
   },
   {
    "duration": 5,
    "start_time": "2022-02-02T20:16:39.219Z"
   },
   {
    "duration": 15,
    "start_time": "2022-02-02T20:16:39.225Z"
   },
   {
    "duration": 5,
    "start_time": "2022-02-02T20:16:39.241Z"
   },
   {
    "duration": 25,
    "start_time": "2022-02-02T20:16:39.247Z"
   },
   {
    "duration": 42,
    "start_time": "2022-02-02T20:16:39.273Z"
   },
   {
    "duration": 12,
    "start_time": "2022-02-02T20:16:39.317Z"
   },
   {
    "duration": 22,
    "start_time": "2022-02-02T20:16:39.331Z"
   },
   {
    "duration": 62,
    "start_time": "2022-02-02T20:16:39.355Z"
   },
   {
    "duration": 240,
    "start_time": "2022-02-02T20:16:39.418Z"
   },
   {
    "duration": 239,
    "start_time": "2022-02-02T20:16:39.660Z"
   },
   {
    "duration": 261,
    "start_time": "2022-02-02T20:16:39.901Z"
   },
   {
    "duration": 15,
    "start_time": "2022-02-02T20:16:40.163Z"
   },
   {
    "duration": 34,
    "start_time": "2022-02-02T20:16:40.179Z"
   },
   {
    "duration": 11,
    "start_time": "2022-02-02T20:16:40.215Z"
   },
   {
    "duration": 16,
    "start_time": "2022-02-02T20:16:40.228Z"
   },
   {
    "duration": 15,
    "start_time": "2022-02-02T20:16:40.245Z"
   },
   {
    "duration": 51,
    "start_time": "2022-02-02T20:16:40.261Z"
   },
   {
    "duration": 779,
    "start_time": "2022-02-02T20:20:29.656Z"
   },
   {
    "duration": 13,
    "start_time": "2022-02-02T20:21:09.137Z"
   },
   {
    "duration": 32,
    "start_time": "2022-02-02T20:21:15.002Z"
   },
   {
    "duration": 194,
    "start_time": "2022-02-02T20:21:58.136Z"
   },
   {
    "duration": 12,
    "start_time": "2022-02-02T20:22:04.649Z"
   },
   {
    "duration": 809,
    "start_time": "2022-02-02T20:23:14.197Z"
   },
   {
    "duration": 14,
    "start_time": "2022-02-02T20:23:35.753Z"
   },
   {
    "duration": 14,
    "start_time": "2022-02-02T20:24:43.160Z"
   },
   {
    "duration": 4692,
    "start_time": "2022-02-02T20:32:56.679Z"
   },
   {
    "duration": 314,
    "start_time": "2022-02-02T20:34:32.186Z"
   },
   {
    "duration": 8,
    "start_time": "2022-02-02T20:35:03.844Z"
   },
   {
    "duration": 17,
    "start_time": "2022-02-02T20:35:59.389Z"
   },
   {
    "duration": 4412,
    "start_time": "2022-02-02T20:37:21.624Z"
   },
   {
    "duration": 14,
    "start_time": "2022-02-02T20:38:25.837Z"
   },
   {
    "duration": 10,
    "start_time": "2022-02-02T20:38:52.921Z"
   },
   {
    "duration": 9,
    "start_time": "2022-02-02T20:39:08.318Z"
   },
   {
    "duration": 12,
    "start_time": "2022-02-02T20:40:18.851Z"
   },
   {
    "duration": 8,
    "start_time": "2022-02-02T20:40:53.925Z"
   },
   {
    "duration": 29,
    "start_time": "2022-02-02T20:41:14.962Z"
   },
   {
    "duration": 10,
    "start_time": "2022-02-02T20:42:22.774Z"
   },
   {
    "duration": 199,
    "start_time": "2022-02-02T20:43:01.523Z"
   },
   {
    "duration": 234,
    "start_time": "2022-02-02T20:43:26.804Z"
   },
   {
    "duration": 11,
    "start_time": "2022-02-02T20:43:30.956Z"
   },
   {
    "duration": 187,
    "start_time": "2022-02-02T20:43:32.483Z"
   },
   {
    "duration": 17,
    "start_time": "2022-02-02T20:43:45.594Z"
   },
   {
    "duration": 8,
    "start_time": "2022-02-02T20:44:18.075Z"
   },
   {
    "duration": 5,
    "start_time": "2022-02-02T20:48:01.736Z"
   },
   {
    "duration": 13,
    "start_time": "2022-02-02T20:48:46.146Z"
   },
   {
    "duration": 9,
    "start_time": "2022-02-02T20:49:37.218Z"
   },
   {
    "duration": 12,
    "start_time": "2022-02-02T20:49:41.336Z"
   },
   {
    "duration": 12,
    "start_time": "2022-02-02T20:51:01.084Z"
   },
   {
    "duration": 6,
    "start_time": "2022-02-02T20:52:08.297Z"
   },
   {
    "duration": 195,
    "start_time": "2022-02-02T20:52:31.630Z"
   },
   {
    "duration": 10,
    "start_time": "2022-02-02T20:53:48.128Z"
   },
   {
    "duration": 71,
    "start_time": "2022-02-02T20:58:13.703Z"
   },
   {
    "duration": 13,
    "start_time": "2022-02-02T21:01:28.288Z"
   },
   {
    "duration": 13,
    "start_time": "2022-02-02T21:01:42.221Z"
   },
   {
    "duration": 11,
    "start_time": "2022-02-02T21:02:03.777Z"
   },
   {
    "duration": 2120,
    "start_time": "2022-02-03T05:32:09.552Z"
   },
   {
    "duration": 16,
    "start_time": "2022-02-03T05:32:11.674Z"
   },
   {
    "duration": 13,
    "start_time": "2022-02-03T05:32:11.693Z"
   },
   {
    "duration": 13,
    "start_time": "2022-02-03T05:32:11.709Z"
   },
   {
    "duration": 47,
    "start_time": "2022-02-03T05:32:11.724Z"
   },
   {
    "duration": 18,
    "start_time": "2022-02-03T05:32:11.774Z"
   },
   {
    "duration": 29,
    "start_time": "2022-02-03T05:32:11.794Z"
   },
   {
    "duration": 51,
    "start_time": "2022-02-03T05:32:11.825Z"
   },
   {
    "duration": 19,
    "start_time": "2022-02-03T05:32:11.880Z"
   },
   {
    "duration": 9,
    "start_time": "2022-02-03T05:32:11.904Z"
   },
   {
    "duration": 53,
    "start_time": "2022-02-03T05:32:11.916Z"
   },
   {
    "duration": 18,
    "start_time": "2022-02-03T05:32:11.973Z"
   },
   {
    "duration": 15,
    "start_time": "2022-02-03T05:32:11.994Z"
   },
   {
    "duration": 15,
    "start_time": "2022-02-03T05:32:12.012Z"
   },
   {
    "duration": 81,
    "start_time": "2022-02-03T05:32:12.069Z"
   },
   {
    "duration": 35,
    "start_time": "2022-02-03T05:32:12.169Z"
   },
   {
    "duration": 85,
    "start_time": "2022-02-03T05:32:12.206Z"
   },
   {
    "duration": 8,
    "start_time": "2022-02-03T05:32:12.293Z"
   },
   {
    "duration": 68,
    "start_time": "2022-02-03T05:32:12.303Z"
   },
   {
    "duration": 9,
    "start_time": "2022-02-03T05:32:12.373Z"
   },
   {
    "duration": 19,
    "start_time": "2022-02-03T05:32:12.384Z"
   },
   {
    "duration": 9,
    "start_time": "2022-02-03T05:32:12.405Z"
   },
   {
    "duration": 85,
    "start_time": "2022-02-03T05:32:12.417Z"
   },
   {
    "duration": 23,
    "start_time": "2022-02-03T05:32:12.505Z"
   },
   {
    "duration": 57,
    "start_time": "2022-02-03T05:32:12.530Z"
   },
   {
    "duration": 43,
    "start_time": "2022-02-03T05:32:12.590Z"
   },
   {
    "duration": 30,
    "start_time": "2022-02-03T05:32:12.639Z"
   },
   {
    "duration": 63,
    "start_time": "2022-02-03T05:32:12.673Z"
   },
   {
    "duration": 47,
    "start_time": "2022-02-03T05:32:12.738Z"
   },
   {
    "duration": 38,
    "start_time": "2022-02-03T05:32:12.787Z"
   },
   {
    "duration": 7,
    "start_time": "2022-02-03T05:32:12.827Z"
   },
   {
    "duration": 40,
    "start_time": "2022-02-03T05:32:12.837Z"
   },
   {
    "duration": 8,
    "start_time": "2022-02-03T05:32:12.880Z"
   },
   {
    "duration": 49,
    "start_time": "2022-02-03T05:32:12.890Z"
   },
   {
    "duration": 35,
    "start_time": "2022-02-03T05:32:12.942Z"
   },
   {
    "duration": 8,
    "start_time": "2022-02-03T05:32:12.980Z"
   },
   {
    "duration": 19,
    "start_time": "2022-02-03T05:32:12.990Z"
   },
   {
    "duration": 58,
    "start_time": "2022-02-03T05:32:13.011Z"
   },
   {
    "duration": 1019,
    "start_time": "2022-02-03T05:32:13.072Z"
   },
   {
    "duration": 21,
    "start_time": "2022-02-03T05:32:14.093Z"
   },
   {
    "duration": 10,
    "start_time": "2022-02-03T05:32:14.116Z"
   },
   {
    "duration": 55,
    "start_time": "2022-02-03T05:32:14.129Z"
   },
   {
    "duration": 8,
    "start_time": "2022-02-03T05:32:14.187Z"
   },
   {
    "duration": 28,
    "start_time": "2022-02-03T05:32:14.197Z"
   },
   {
    "duration": 8,
    "start_time": "2022-02-03T05:32:14.227Z"
   },
   {
    "duration": 65,
    "start_time": "2022-02-03T05:32:14.237Z"
   },
   {
    "duration": 11,
    "start_time": "2022-02-03T05:32:14.304Z"
   },
   {
    "duration": 21,
    "start_time": "2022-02-03T05:32:14.317Z"
   },
   {
    "duration": 52,
    "start_time": "2022-02-03T05:32:14.340Z"
   },
   {
    "duration": 99,
    "start_time": "2022-02-03T05:32:14.395Z"
   },
   {
    "duration": 377,
    "start_time": "2022-02-03T05:32:14.497Z"
   },
   {
    "duration": 373,
    "start_time": "2022-02-03T05:32:14.877Z"
   },
   {
    "duration": 366,
    "start_time": "2022-02-03T05:32:15.253Z"
   },
   {
    "duration": 19,
    "start_time": "2022-02-03T05:32:15.622Z"
   },
   {
    "duration": 45,
    "start_time": "2022-02-03T05:32:15.643Z"
   },
   {
    "duration": 17,
    "start_time": "2022-02-03T05:32:15.691Z"
   },
   {
    "duration": 20,
    "start_time": "2022-02-03T05:32:15.711Z"
   },
   {
    "duration": 44,
    "start_time": "2022-02-03T05:32:15.734Z"
   },
   {
    "duration": 26,
    "start_time": "2022-02-03T05:32:15.780Z"
   },
   {
    "duration": 25,
    "start_time": "2022-02-03T05:32:15.809Z"
   },
   {
    "duration": 36,
    "start_time": "2022-02-03T05:32:15.836Z"
   },
   {
    "duration": 6332,
    "start_time": "2022-02-03T06:13:34.617Z"
   },
   {
    "duration": 19,
    "start_time": "2022-02-03T06:13:54.481Z"
   },
   {
    "duration": 331,
    "start_time": "2022-02-03T06:40:34.339Z"
   },
   {
    "duration": 905,
    "start_time": "2022-02-03T06:42:58.119Z"
   },
   {
    "duration": 169,
    "start_time": "2022-02-03T06:43:23.153Z"
   },
   {
    "duration": 163,
    "start_time": "2022-02-03T06:43:47.601Z"
   },
   {
    "duration": 10,
    "start_time": "2022-02-03T06:44:07.735Z"
   },
   {
    "duration": 435,
    "start_time": "2022-02-03T06:44:47.536Z"
   },
   {
    "duration": 15,
    "start_time": "2022-02-03T06:46:07.192Z"
   },
   {
    "duration": 10,
    "start_time": "2022-02-03T06:52:02.314Z"
   },
   {
    "duration": 5938,
    "start_time": "2022-02-03T06:59:20.995Z"
   },
   {
    "duration": 5984,
    "start_time": "2022-02-03T07:00:24.246Z"
   },
   {
    "duration": 5979,
    "start_time": "2022-02-03T07:01:40.230Z"
   },
   {
    "duration": 530,
    "start_time": "2022-02-03T07:02:06.528Z"
   },
   {
    "duration": 11,
    "start_time": "2022-02-03T07:02:07.060Z"
   },
   {
    "duration": 17,
    "start_time": "2022-02-03T07:02:07.074Z"
   },
   {
    "duration": 9,
    "start_time": "2022-02-03T07:02:07.094Z"
   },
   {
    "duration": 13,
    "start_time": "2022-02-03T07:02:07.106Z"
   },
   {
    "duration": 50,
    "start_time": "2022-02-03T07:02:07.121Z"
   },
   {
    "duration": 29,
    "start_time": "2022-02-03T07:02:07.173Z"
   },
   {
    "duration": 23,
    "start_time": "2022-02-03T07:02:07.206Z"
   },
   {
    "duration": 47,
    "start_time": "2022-02-03T07:02:07.233Z"
   },
   {
    "duration": 8,
    "start_time": "2022-02-03T07:02:07.282Z"
   },
   {
    "duration": 10,
    "start_time": "2022-02-03T07:02:07.293Z"
   },
   {
    "duration": 14,
    "start_time": "2022-02-03T07:02:07.306Z"
   },
   {
    "duration": 49,
    "start_time": "2022-02-03T07:02:07.323Z"
   },
   {
    "duration": 13,
    "start_time": "2022-02-03T07:02:07.375Z"
   },
   {
    "duration": 104,
    "start_time": "2022-02-03T07:02:07.390Z"
   },
   {
    "duration": 32,
    "start_time": "2022-02-03T07:02:07.497Z"
   },
   {
    "duration": 79,
    "start_time": "2022-02-03T07:02:07.531Z"
   },
   {
    "duration": 8,
    "start_time": "2022-02-03T07:02:07.612Z"
   },
   {
    "duration": 63,
    "start_time": "2022-02-03T07:02:07.622Z"
   },
   {
    "duration": 11,
    "start_time": "2022-02-03T07:02:07.688Z"
   },
   {
    "duration": 20,
    "start_time": "2022-02-03T07:02:07.701Z"
   },
   {
    "duration": 9,
    "start_time": "2022-02-03T07:02:07.723Z"
   },
   {
    "duration": 53,
    "start_time": "2022-02-03T07:02:07.774Z"
   },
   {
    "duration": 38,
    "start_time": "2022-02-03T07:02:07.831Z"
   },
   {
    "duration": 28,
    "start_time": "2022-02-03T07:02:07.872Z"
   },
   {
    "duration": 41,
    "start_time": "2022-02-03T07:02:07.902Z"
   },
   {
    "duration": 8,
    "start_time": "2022-02-03T07:02:07.969Z"
   },
   {
    "duration": 64,
    "start_time": "2022-02-03T07:02:07.979Z"
   },
   {
    "duration": 45,
    "start_time": "2022-02-03T07:02:08.046Z"
   },
   {
    "duration": 33,
    "start_time": "2022-02-03T07:02:08.094Z"
   },
   {
    "duration": 8,
    "start_time": "2022-02-03T07:02:08.129Z"
   },
   {
    "duration": 41,
    "start_time": "2022-02-03T07:02:08.139Z"
   },
   {
    "duration": 8,
    "start_time": "2022-02-03T07:02:08.182Z"
   },
   {
    "duration": 50,
    "start_time": "2022-02-03T07:02:08.192Z"
   },
   {
    "duration": 10,
    "start_time": "2022-02-03T07:02:08.270Z"
   },
   {
    "duration": 25,
    "start_time": "2022-02-03T07:02:08.282Z"
   },
   {
    "duration": 21,
    "start_time": "2022-02-03T07:02:08.310Z"
   },
   {
    "duration": 42,
    "start_time": "2022-02-03T07:02:08.333Z"
   },
   {
    "duration": 905,
    "start_time": "2022-02-03T07:02:08.378Z"
   },
   {
    "duration": 21,
    "start_time": "2022-02-03T07:02:09.286Z"
   },
   {
    "duration": 7,
    "start_time": "2022-02-03T07:02:09.310Z"
   },
   {
    "duration": 55,
    "start_time": "2022-02-03T07:02:09.320Z"
   },
   {
    "duration": 8,
    "start_time": "2022-02-03T07:02:09.378Z"
   },
   {
    "duration": 23,
    "start_time": "2022-02-03T07:02:09.388Z"
   },
   {
    "duration": 15,
    "start_time": "2022-02-03T07:02:09.414Z"
   },
   {
    "duration": 60,
    "start_time": "2022-02-03T07:02:09.431Z"
   },
   {
    "duration": 11,
    "start_time": "2022-02-03T07:02:09.494Z"
   },
   {
    "duration": 17,
    "start_time": "2022-02-03T07:02:09.508Z"
   },
   {
    "duration": 63,
    "start_time": "2022-02-03T07:02:09.528Z"
   },
   {
    "duration": 82,
    "start_time": "2022-02-03T07:02:09.594Z"
   },
   {
    "duration": 174,
    "start_time": "2022-02-03T07:02:09.679Z"
   },
   {
    "duration": 20,
    "start_time": "2022-02-03T07:02:09.855Z"
   },
   {
    "duration": 359,
    "start_time": "2022-02-03T07:02:09.878Z"
   },
   {
    "duration": 389,
    "start_time": "2022-02-03T07:02:10.239Z"
   },
   {
    "duration": 386,
    "start_time": "2022-02-03T07:02:10.632Z"
   },
   {
    "duration": 371,
    "start_time": "2022-02-03T07:02:11.020Z"
   },
   {
    "duration": 398,
    "start_time": "2022-02-03T07:02:11.394Z"
   },
   {
    "duration": 363,
    "start_time": "2022-02-03T07:02:11.794Z"
   },
   {
    "duration": 26,
    "start_time": "2022-02-03T07:02:12.159Z"
   },
   {
    "duration": 28,
    "start_time": "2022-02-03T07:02:12.187Z"
   },
   {
    "duration": 15,
    "start_time": "2022-02-03T07:02:12.218Z"
   },
   {
    "duration": 17,
    "start_time": "2022-02-03T07:02:12.236Z"
   },
   {
    "duration": 24,
    "start_time": "2022-02-03T07:02:12.256Z"
   },
   {
    "duration": 17,
    "start_time": "2022-02-03T07:02:12.282Z"
   },
   {
    "duration": 19,
    "start_time": "2022-02-03T07:02:12.302Z"
   },
   {
    "duration": 18,
    "start_time": "2022-02-03T07:02:12.324Z"
   },
   {
    "duration": 356,
    "start_time": "2022-02-03T07:22:54.816Z"
   },
   {
    "duration": 80,
    "start_time": "2022-02-03T07:36:59.157Z"
   },
   {
    "duration": 24,
    "start_time": "2022-02-03T07:37:51.520Z"
   },
   {
    "duration": 29,
    "start_time": "2022-02-03T07:38:14.168Z"
   },
   {
    "duration": 23,
    "start_time": "2022-02-03T07:38:35.433Z"
   },
   {
    "duration": 18,
    "start_time": "2022-02-03T07:50:37.749Z"
   },
   {
    "duration": 15,
    "start_time": "2022-02-03T07:50:53.927Z"
   },
   {
    "duration": 536,
    "start_time": "2022-02-03T07:51:57.579Z"
   },
   {
    "duration": 11,
    "start_time": "2022-02-03T07:51:58.118Z"
   },
   {
    "duration": 15,
    "start_time": "2022-02-03T07:51:58.131Z"
   },
   {
    "duration": 10,
    "start_time": "2022-02-03T07:51:58.149Z"
   },
   {
    "duration": 17,
    "start_time": "2022-02-03T07:51:58.161Z"
   },
   {
    "duration": 21,
    "start_time": "2022-02-03T07:51:58.181Z"
   },
   {
    "duration": 66,
    "start_time": "2022-02-03T07:51:58.204Z"
   },
   {
    "duration": 25,
    "start_time": "2022-02-03T07:51:58.276Z"
   },
   {
    "duration": 19,
    "start_time": "2022-02-03T07:51:58.304Z"
   },
   {
    "duration": 8,
    "start_time": "2022-02-03T07:51:58.326Z"
   },
   {
    "duration": 9,
    "start_time": "2022-02-03T07:51:58.369Z"
   },
   {
    "duration": 16,
    "start_time": "2022-02-03T07:51:58.381Z"
   },
   {
    "duration": 13,
    "start_time": "2022-02-03T07:51:58.400Z"
   },
   {
    "duration": 62,
    "start_time": "2022-02-03T07:51:58.416Z"
   },
   {
    "duration": 99,
    "start_time": "2022-02-03T07:51:58.481Z"
   },
   {
    "duration": 31,
    "start_time": "2022-02-03T07:51:58.583Z"
   },
   {
    "duration": 92,
    "start_time": "2022-02-03T07:51:58.616Z"
   },
   {
    "duration": 10,
    "start_time": "2022-02-03T07:51:58.710Z"
   },
   {
    "duration": 64,
    "start_time": "2022-02-03T07:51:58.723Z"
   },
   {
    "duration": 9,
    "start_time": "2022-02-03T07:51:58.789Z"
   },
   {
    "duration": 23,
    "start_time": "2022-02-03T07:51:58.800Z"
   },
   {
    "duration": 9,
    "start_time": "2022-02-03T07:51:58.826Z"
   },
   {
    "duration": 53,
    "start_time": "2022-02-03T07:51:58.870Z"
   },
   {
    "duration": 48,
    "start_time": "2022-02-03T07:51:58.927Z"
   },
   {
    "duration": 29,
    "start_time": "2022-02-03T07:51:58.978Z"
   },
   {
    "duration": 67,
    "start_time": "2022-02-03T07:51:59.010Z"
   },
   {
    "duration": 9,
    "start_time": "2022-02-03T07:51:59.079Z"
   },
   {
    "duration": 80,
    "start_time": "2022-02-03T07:51:59.091Z"
   },
   {
    "duration": 26,
    "start_time": "2022-02-03T07:51:59.173Z"
   },
   {
    "duration": 34,
    "start_time": "2022-02-03T07:51:59.201Z"
   },
   {
    "duration": 37,
    "start_time": "2022-02-03T07:51:59.237Z"
   },
   {
    "duration": 12,
    "start_time": "2022-02-03T07:51:59.277Z"
   },
   {
    "duration": 9,
    "start_time": "2022-02-03T07:51:59.292Z"
   },
   {
    "duration": 86,
    "start_time": "2022-02-03T07:51:59.303Z"
   },
   {
    "duration": 12,
    "start_time": "2022-02-03T07:51:59.392Z"
   },
   {
    "duration": 12,
    "start_time": "2022-02-03T07:51:59.408Z"
   },
   {
    "duration": 57,
    "start_time": "2022-02-03T07:51:59.423Z"
   },
   {
    "duration": 23,
    "start_time": "2022-02-03T07:51:59.483Z"
   },
   {
    "duration": 981,
    "start_time": "2022-02-03T07:51:59.509Z"
   },
   {
    "duration": 25,
    "start_time": "2022-02-03T07:52:00.493Z"
   },
   {
    "duration": 50,
    "start_time": "2022-02-03T07:52:00.521Z"
   },
   {
    "duration": 23,
    "start_time": "2022-02-03T07:52:00.574Z"
   },
   {
    "duration": 7,
    "start_time": "2022-02-03T07:52:00.600Z"
   },
   {
    "duration": 30,
    "start_time": "2022-02-03T07:52:00.609Z"
   },
   {
    "duration": 8,
    "start_time": "2022-02-03T07:52:00.670Z"
   },
   {
    "duration": 32,
    "start_time": "2022-02-03T07:52:00.681Z"
   },
   {
    "duration": 10,
    "start_time": "2022-02-03T07:52:00.717Z"
   },
   {
    "duration": 63,
    "start_time": "2022-02-03T07:52:00.730Z"
   },
   {
    "duration": 11,
    "start_time": "2022-02-03T07:52:00.796Z"
   },
   {
    "duration": 19,
    "start_time": "2022-02-03T07:52:00.810Z"
   },
   {
    "duration": 56,
    "start_time": "2022-02-03T07:52:00.832Z"
   },
   {
    "duration": 84,
    "start_time": "2022-02-03T07:52:00.891Z"
   },
   {
    "duration": 177,
    "start_time": "2022-02-03T07:52:00.977Z"
   },
   {
    "duration": 20,
    "start_time": "2022-02-03T07:52:01.157Z"
   },
   {
    "duration": 377,
    "start_time": "2022-02-03T07:52:01.180Z"
   },
   {
    "duration": 474,
    "start_time": "2022-02-03T07:52:01.559Z"
   },
   {
    "duration": 394,
    "start_time": "2022-02-03T07:52:02.037Z"
   },
   {
    "duration": 17,
    "start_time": "2022-02-03T07:52:02.434Z"
   },
   {
    "duration": 25,
    "start_time": "2022-02-03T07:52:02.470Z"
   },
   {
    "duration": 14,
    "start_time": "2022-02-03T07:52:02.498Z"
   },
   {
    "duration": 55,
    "start_time": "2022-02-03T07:52:02.514Z"
   },
   {
    "duration": 15,
    "start_time": "2022-02-03T07:52:02.572Z"
   },
   {
    "duration": 18,
    "start_time": "2022-02-03T07:52:02.590Z"
   },
   {
    "duration": 62,
    "start_time": "2022-02-03T07:52:02.610Z"
   },
   {
    "duration": 26,
    "start_time": "2022-02-03T07:52:02.674Z"
   },
   {
    "duration": 11,
    "start_time": "2022-02-03T07:52:50.022Z"
   },
   {
    "duration": 3,
    "start_time": "2022-02-03T08:15:05.009Z"
   },
   {
    "duration": 22,
    "start_time": "2022-02-03T08:15:13.265Z"
   },
   {
    "duration": 23,
    "start_time": "2022-02-03T08:16:33.946Z"
   },
   {
    "duration": 22,
    "start_time": "2022-02-03T08:17:05.921Z"
   },
   {
    "duration": 299,
    "start_time": "2022-02-03T08:20:42.195Z"
   },
   {
    "duration": 599,
    "start_time": "2022-02-03T08:24:48.339Z"
   },
   {
    "duration": 11,
    "start_time": "2022-02-03T08:24:48.941Z"
   },
   {
    "duration": 14,
    "start_time": "2022-02-03T08:24:48.955Z"
   },
   {
    "duration": 10,
    "start_time": "2022-02-03T08:24:48.972Z"
   },
   {
    "duration": 13,
    "start_time": "2022-02-03T08:24:48.985Z"
   },
   {
    "duration": 15,
    "start_time": "2022-02-03T08:24:49.001Z"
   },
   {
    "duration": 63,
    "start_time": "2022-02-03T08:24:49.018Z"
   },
   {
    "duration": 23,
    "start_time": "2022-02-03T08:24:49.083Z"
   },
   {
    "duration": 20,
    "start_time": "2022-02-03T08:24:49.110Z"
   },
   {
    "duration": 35,
    "start_time": "2022-02-03T08:24:49.134Z"
   },
   {
    "duration": 10,
    "start_time": "2022-02-03T08:24:49.172Z"
   },
   {
    "duration": 14,
    "start_time": "2022-02-03T08:24:49.185Z"
   },
   {
    "duration": 11,
    "start_time": "2022-02-03T08:24:49.202Z"
   },
   {
    "duration": 53,
    "start_time": "2022-02-03T08:24:49.216Z"
   },
   {
    "duration": 80,
    "start_time": "2022-02-03T08:24:49.272Z"
   },
   {
    "duration": 35,
    "start_time": "2022-02-03T08:24:49.369Z"
   },
   {
    "duration": 80,
    "start_time": "2022-02-03T08:24:49.407Z"
   },
   {
    "duration": 8,
    "start_time": "2022-02-03T08:24:49.489Z"
   },
   {
    "duration": 38,
    "start_time": "2022-02-03T08:24:49.499Z"
   },
   {
    "duration": 32,
    "start_time": "2022-02-03T08:24:49.540Z"
   },
   {
    "duration": 16,
    "start_time": "2022-02-03T08:24:49.574Z"
   },
   {
    "duration": 9,
    "start_time": "2022-02-03T08:24:49.592Z"
   },
   {
    "duration": 83,
    "start_time": "2022-02-03T08:24:49.603Z"
   },
   {
    "duration": 20,
    "start_time": "2022-02-03T08:24:49.689Z"
   },
   {
    "duration": 30,
    "start_time": "2022-02-03T08:24:49.711Z"
   },
   {
    "duration": 66,
    "start_time": "2022-02-03T08:24:49.743Z"
   },
   {
    "duration": 7,
    "start_time": "2022-02-03T08:24:49.816Z"
   },
   {
    "duration": 99,
    "start_time": "2022-02-03T08:24:49.827Z"
   },
   {
    "duration": 27,
    "start_time": "2022-02-03T08:24:49.928Z"
   },
   {
    "duration": 34,
    "start_time": "2022-02-03T08:24:49.970Z"
   },
   {
    "duration": 8,
    "start_time": "2022-02-03T08:24:50.006Z"
   },
   {
    "duration": 20,
    "start_time": "2022-02-03T08:24:50.017Z"
   },
   {
    "duration": 33,
    "start_time": "2022-02-03T08:24:50.039Z"
   },
   {
    "duration": 49,
    "start_time": "2022-02-03T08:24:50.075Z"
   },
   {
    "duration": 43,
    "start_time": "2022-02-03T08:24:50.126Z"
   },
   {
    "duration": 9,
    "start_time": "2022-02-03T08:24:50.172Z"
   },
   {
    "duration": 25,
    "start_time": "2022-02-03T08:24:50.183Z"
   },
   {
    "duration": 21,
    "start_time": "2022-02-03T08:24:50.210Z"
   },
   {
    "duration": 961,
    "start_time": "2022-02-03T08:24:50.234Z"
   },
   {
    "duration": 22,
    "start_time": "2022-02-03T08:24:51.197Z"
   },
   {
    "duration": 9,
    "start_time": "2022-02-03T08:24:51.221Z"
   },
   {
    "duration": 47,
    "start_time": "2022-02-03T08:24:51.232Z"
   },
   {
    "duration": 8,
    "start_time": "2022-02-03T08:24:51.282Z"
   },
   {
    "duration": 22,
    "start_time": "2022-02-03T08:24:51.292Z"
   },
   {
    "duration": 8,
    "start_time": "2022-02-03T08:24:51.316Z"
   },
   {
    "duration": 38,
    "start_time": "2022-02-03T08:24:51.370Z"
   },
   {
    "duration": 10,
    "start_time": "2022-02-03T08:24:51.410Z"
   },
   {
    "duration": 47,
    "start_time": "2022-02-03T08:24:51.423Z"
   },
   {
    "duration": 26,
    "start_time": "2022-02-03T08:24:51.472Z"
   },
   {
    "duration": 78,
    "start_time": "2022-02-03T08:24:51.500Z"
   },
   {
    "duration": 185,
    "start_time": "2022-02-03T08:24:51.580Z"
   },
   {
    "duration": 11,
    "start_time": "2022-02-03T08:24:51.769Z"
   },
   {
    "duration": 383,
    "start_time": "2022-02-03T08:24:51.783Z"
   },
   {
    "duration": 399,
    "start_time": "2022-02-03T08:24:52.170Z"
   },
   {
    "duration": 390,
    "start_time": "2022-02-03T08:24:52.572Z"
   },
   {
    "duration": 20,
    "start_time": "2022-02-03T08:24:52.965Z"
   },
   {
    "duration": 11,
    "start_time": "2022-02-03T08:24:52.988Z"
   },
   {
    "duration": 25,
    "start_time": "2022-02-03T08:24:53.001Z"
   },
   {
    "duration": 57,
    "start_time": "2022-02-03T08:24:53.028Z"
   },
   {
    "duration": 274,
    "start_time": "2022-02-03T08:24:53.088Z"
   },
   {
    "duration": 17173,
    "start_time": "2022-02-03T08:24:36.192Z"
   },
   {
    "duration": 17171,
    "start_time": "2022-02-03T08:24:36.195Z"
   },
   {
    "duration": 17155,
    "start_time": "2022-02-03T08:24:36.213Z"
   },
   {
    "duration": 17153,
    "start_time": "2022-02-03T08:24:36.216Z"
   },
   {
    "duration": 17150,
    "start_time": "2022-02-03T08:24:36.220Z"
   },
   {
    "duration": 15,
    "start_time": "2022-02-03T08:26:19.235Z"
   },
   {
    "duration": 10,
    "start_time": "2022-02-03T08:32:52.384Z"
   },
   {
    "duration": 23,
    "start_time": "2022-02-03T08:33:28.490Z"
   },
   {
    "duration": 316,
    "start_time": "2022-02-03T08:33:37.857Z"
   },
   {
    "duration": 20,
    "start_time": "2022-02-03T08:36:49.646Z"
   },
   {
    "duration": 520,
    "start_time": "2022-02-03T08:37:04.349Z"
   },
   {
    "duration": 11,
    "start_time": "2022-02-03T08:37:04.872Z"
   },
   {
    "duration": 13,
    "start_time": "2022-02-03T08:37:04.886Z"
   },
   {
    "duration": 16,
    "start_time": "2022-02-03T08:37:04.902Z"
   },
   {
    "duration": 12,
    "start_time": "2022-02-03T08:37:04.920Z"
   },
   {
    "duration": 43,
    "start_time": "2022-02-03T08:37:04.934Z"
   },
   {
    "duration": 30,
    "start_time": "2022-02-03T08:37:04.979Z"
   },
   {
    "duration": 22,
    "start_time": "2022-02-03T08:37:05.012Z"
   },
   {
    "duration": 48,
    "start_time": "2022-02-03T08:37:05.038Z"
   },
   {
    "duration": 13,
    "start_time": "2022-02-03T08:37:05.088Z"
   },
   {
    "duration": 12,
    "start_time": "2022-02-03T08:37:05.104Z"
   },
   {
    "duration": 18,
    "start_time": "2022-02-03T08:37:05.118Z"
   },
   {
    "duration": 38,
    "start_time": "2022-02-03T08:37:05.138Z"
   },
   {
    "duration": 16,
    "start_time": "2022-02-03T08:37:05.179Z"
   },
   {
    "duration": 103,
    "start_time": "2022-02-03T08:37:05.198Z"
   },
   {
    "duration": 33,
    "start_time": "2022-02-03T08:37:05.303Z"
   },
   {
    "duration": 82,
    "start_time": "2022-02-03T08:37:05.338Z"
   },
   {
    "duration": 9,
    "start_time": "2022-02-03T08:37:05.422Z"
   },
   {
    "duration": 70,
    "start_time": "2022-02-03T08:37:05.434Z"
   },
   {
    "duration": 9,
    "start_time": "2022-02-03T08:37:05.507Z"
   },
   {
    "duration": 19,
    "start_time": "2022-02-03T08:37:05.520Z"
   },
   {
    "duration": 11,
    "start_time": "2022-02-03T08:37:05.571Z"
   },
   {
    "duration": 81,
    "start_time": "2022-02-03T08:37:05.590Z"
   },
   {
    "duration": 21,
    "start_time": "2022-02-03T08:37:05.676Z"
   },
   {
    "duration": 30,
    "start_time": "2022-02-03T08:37:05.699Z"
   },
   {
    "duration": 71,
    "start_time": "2022-02-03T08:37:05.732Z"
   },
   {
    "duration": 8,
    "start_time": "2022-02-03T08:37:05.806Z"
   },
   {
    "duration": 84,
    "start_time": "2022-02-03T08:37:05.816Z"
   },
   {
    "duration": 27,
    "start_time": "2022-02-03T08:37:05.902Z"
   },
   {
    "duration": 70,
    "start_time": "2022-02-03T08:37:05.931Z"
   },
   {
    "duration": 11,
    "start_time": "2022-02-03T08:37:06.004Z"
   },
   {
    "duration": 19,
    "start_time": "2022-02-03T08:37:06.018Z"
   },
   {
    "duration": 9,
    "start_time": "2022-02-03T08:37:06.069Z"
   },
   {
    "duration": 50,
    "start_time": "2022-02-03T08:37:06.081Z"
   },
   {
    "duration": 36,
    "start_time": "2022-02-03T08:37:06.134Z"
   },
   {
    "duration": 8,
    "start_time": "2022-02-03T08:37:06.172Z"
   },
   {
    "duration": 19,
    "start_time": "2022-02-03T08:37:06.183Z"
   },
   {
    "duration": 21,
    "start_time": "2022-02-03T08:37:06.205Z"
   },
   {
    "duration": 965,
    "start_time": "2022-02-03T08:37:06.229Z"
   },
   {
    "duration": 22,
    "start_time": "2022-02-03T08:37:07.196Z"
   },
   {
    "duration": 7,
    "start_time": "2022-02-03T08:37:07.221Z"
   },
   {
    "duration": 53,
    "start_time": "2022-02-03T08:37:07.230Z"
   },
   {
    "duration": 9,
    "start_time": "2022-02-03T08:37:07.286Z"
   },
   {
    "duration": 22,
    "start_time": "2022-02-03T08:37:07.298Z"
   },
   {
    "duration": 9,
    "start_time": "2022-02-03T08:37:07.323Z"
   },
   {
    "duration": 38,
    "start_time": "2022-02-03T08:37:07.371Z"
   },
   {
    "duration": 11,
    "start_time": "2022-02-03T08:37:07.411Z"
   },
   {
    "duration": 52,
    "start_time": "2022-02-03T08:37:07.425Z"
   },
   {
    "duration": 28,
    "start_time": "2022-02-03T08:37:07.479Z"
   },
   {
    "duration": 87,
    "start_time": "2022-02-03T08:37:07.510Z"
   },
   {
    "duration": 177,
    "start_time": "2022-02-03T08:37:07.600Z"
   },
   {
    "duration": 11,
    "start_time": "2022-02-03T08:37:07.779Z"
   },
   {
    "duration": 370,
    "start_time": "2022-02-03T08:37:07.793Z"
   },
   {
    "duration": 377,
    "start_time": "2022-02-03T08:37:08.169Z"
   },
   {
    "duration": 393,
    "start_time": "2022-02-03T08:37:08.549Z"
   },
   {
    "duration": 26,
    "start_time": "2022-02-03T08:37:08.945Z"
   },
   {
    "duration": 14,
    "start_time": "2022-02-03T08:37:08.974Z"
   },
   {
    "duration": 35,
    "start_time": "2022-02-03T08:37:08.991Z"
   },
   {
    "duration": 51,
    "start_time": "2022-02-03T08:37:09.029Z"
   },
   {
    "duration": 12,
    "start_time": "2022-02-03T08:37:09.083Z"
   },
   {
    "duration": 19,
    "start_time": "2022-02-03T08:37:09.098Z"
   },
   {
    "duration": 52,
    "start_time": "2022-02-03T08:37:09.120Z"
   },
   {
    "duration": 17,
    "start_time": "2022-02-03T08:37:09.176Z"
   },
   {
    "duration": 11,
    "start_time": "2022-02-03T08:37:09.196Z"
   },
   {
    "duration": 294,
    "start_time": "2022-02-03T08:37:09.209Z"
   },
   {
    "duration": 333,
    "start_time": "2022-02-03T08:52:03.226Z"
   },
   {
    "duration": 10,
    "start_time": "2022-02-03T08:52:33.914Z"
   },
   {
    "duration": 477,
    "start_time": "2022-02-03T09:02:18.269Z"
   },
   {
    "duration": 359,
    "start_time": "2022-02-03T09:02:44.417Z"
   },
   {
    "duration": 359,
    "start_time": "2022-02-03T09:03:28.114Z"
   },
   {
    "duration": 214,
    "start_time": "2022-02-03T09:05:50.097Z"
   },
   {
    "duration": 236,
    "start_time": "2022-02-03T09:06:44.721Z"
   },
   {
    "duration": 490,
    "start_time": "2022-02-03T09:10:03.642Z"
   },
   {
    "duration": 269,
    "start_time": "2022-02-03T09:12:03.667Z"
   },
   {
    "duration": 273,
    "start_time": "2022-02-03T09:16:03.027Z"
   },
   {
    "duration": 270,
    "start_time": "2022-02-03T09:16:30.629Z"
   },
   {
    "duration": 279,
    "start_time": "2022-02-03T09:19:49.207Z"
   },
   {
    "duration": 272,
    "start_time": "2022-02-03T09:21:38.535Z"
   },
   {
    "duration": 216,
    "start_time": "2022-02-03T10:15:22.829Z"
   },
   {
    "duration": 239,
    "start_time": "2022-02-03T10:15:32.711Z"
   },
   {
    "duration": 248,
    "start_time": "2022-02-03T10:18:56.485Z"
   },
   {
    "duration": 374,
    "start_time": "2022-02-03T10:19:14.434Z"
   },
   {
    "duration": 238,
    "start_time": "2022-02-03T10:19:39.465Z"
   },
   {
    "duration": 248,
    "start_time": "2022-02-03T10:20:10.098Z"
   },
   {
    "duration": 250,
    "start_time": "2022-02-03T10:22:10.249Z"
   },
   {
    "duration": 265,
    "start_time": "2022-02-03T10:22:13.613Z"
   },
   {
    "duration": 88,
    "start_time": "2022-02-03T10:33:15.153Z"
   },
   {
    "duration": 327,
    "start_time": "2022-02-03T10:47:32.260Z"
   },
   {
    "duration": 533,
    "start_time": "2022-02-03T11:25:16.642Z"
   },
   {
    "duration": 11,
    "start_time": "2022-02-03T11:25:17.178Z"
   },
   {
    "duration": 24,
    "start_time": "2022-02-03T11:25:17.191Z"
   },
   {
    "duration": 19,
    "start_time": "2022-02-03T11:25:17.217Z"
   },
   {
    "duration": 32,
    "start_time": "2022-02-03T11:25:17.239Z"
   },
   {
    "duration": 19,
    "start_time": "2022-02-03T11:25:17.274Z"
   },
   {
    "duration": 43,
    "start_time": "2022-02-03T11:25:17.295Z"
   },
   {
    "duration": 40,
    "start_time": "2022-02-03T11:25:17.341Z"
   },
   {
    "duration": 20,
    "start_time": "2022-02-03T11:25:17.385Z"
   },
   {
    "duration": 17,
    "start_time": "2022-02-03T11:25:17.407Z"
   },
   {
    "duration": 20,
    "start_time": "2022-02-03T11:25:17.426Z"
   },
   {
    "duration": 13,
    "start_time": "2022-02-03T11:25:17.470Z"
   },
   {
    "duration": 30,
    "start_time": "2022-02-03T11:25:17.485Z"
   },
   {
    "duration": 20,
    "start_time": "2022-02-03T11:25:17.518Z"
   },
   {
    "duration": 97,
    "start_time": "2022-02-03T11:25:17.541Z"
   },
   {
    "duration": 40,
    "start_time": "2022-02-03T11:25:17.640Z"
   },
   {
    "duration": 58,
    "start_time": "2022-02-03T11:25:17.682Z"
   },
   {
    "duration": 30,
    "start_time": "2022-02-03T11:25:17.742Z"
   },
   {
    "duration": 46,
    "start_time": "2022-02-03T11:25:17.775Z"
   },
   {
    "duration": 8,
    "start_time": "2022-02-03T11:25:17.823Z"
   },
   {
    "duration": 37,
    "start_time": "2022-02-03T11:25:17.834Z"
   },
   {
    "duration": 10,
    "start_time": "2022-02-03T11:25:17.873Z"
   },
   {
    "duration": 53,
    "start_time": "2022-02-03T11:25:17.889Z"
   },
   {
    "duration": 22,
    "start_time": "2022-02-03T11:25:17.970Z"
   },
   {
    "duration": 31,
    "start_time": "2022-02-03T11:25:17.994Z"
   },
   {
    "duration": 74,
    "start_time": "2022-02-03T11:25:18.028Z"
   },
   {
    "duration": 8,
    "start_time": "2022-02-03T11:25:18.104Z"
   },
   {
    "duration": 93,
    "start_time": "2022-02-03T11:25:18.114Z"
   },
   {
    "duration": 26,
    "start_time": "2022-02-03T11:25:18.209Z"
   },
   {
    "duration": 56,
    "start_time": "2022-02-03T11:25:18.237Z"
   },
   {
    "duration": 8,
    "start_time": "2022-02-03T11:25:18.296Z"
   },
   {
    "duration": 13,
    "start_time": "2022-02-03T11:25:18.307Z"
   },
   {
    "duration": 50,
    "start_time": "2022-02-03T11:25:18.323Z"
   },
   {
    "duration": 50,
    "start_time": "2022-02-03T11:25:18.376Z"
   },
   {
    "duration": 11,
    "start_time": "2022-02-03T11:25:18.428Z"
   },
   {
    "duration": 9,
    "start_time": "2022-02-03T11:25:18.470Z"
   },
   {
    "duration": 19,
    "start_time": "2022-02-03T11:25:18.482Z"
   },
   {
    "duration": 22,
    "start_time": "2022-02-03T11:25:18.504Z"
   },
   {
    "duration": 954,
    "start_time": "2022-02-03T11:25:18.529Z"
   },
   {
    "duration": 22,
    "start_time": "2022-02-03T11:25:19.485Z"
   },
   {
    "duration": 11,
    "start_time": "2022-02-03T11:25:19.509Z"
   },
   {
    "duration": 50,
    "start_time": "2022-02-03T11:25:19.522Z"
   },
   {
    "duration": 7,
    "start_time": "2022-02-03T11:25:19.575Z"
   },
   {
    "duration": 24,
    "start_time": "2022-02-03T11:25:19.584Z"
   },
   {
    "duration": 8,
    "start_time": "2022-02-03T11:25:19.610Z"
   },
   {
    "duration": 76,
    "start_time": "2022-02-03T11:25:19.620Z"
   },
   {
    "duration": 11,
    "start_time": "2022-02-03T11:25:19.698Z"
   },
   {
    "duration": 21,
    "start_time": "2022-02-03T11:25:19.712Z"
   },
   {
    "duration": 59,
    "start_time": "2022-02-03T11:25:19.736Z"
   },
   {
    "duration": 83,
    "start_time": "2022-02-03T11:25:19.798Z"
   },
   {
    "duration": 180,
    "start_time": "2022-02-03T11:25:19.883Z"
   },
   {
    "duration": 11,
    "start_time": "2022-02-03T11:25:20.069Z"
   },
   {
    "duration": 370,
    "start_time": "2022-02-03T11:25:20.083Z"
   },
   {
    "duration": 379,
    "start_time": "2022-02-03T11:25:20.456Z"
   },
   {
    "duration": 407,
    "start_time": "2022-02-03T11:25:20.837Z"
   },
   {
    "duration": 25,
    "start_time": "2022-02-03T11:25:21.246Z"
   },
   {
    "duration": 13,
    "start_time": "2022-02-03T11:25:21.273Z"
   },
   {
    "duration": 23,
    "start_time": "2022-02-03T11:25:21.288Z"
   },
   {
    "duration": 56,
    "start_time": "2022-02-03T11:25:21.314Z"
   },
   {
    "duration": 13,
    "start_time": "2022-02-03T11:25:21.373Z"
   },
   {
    "duration": 18,
    "start_time": "2022-02-03T11:25:21.388Z"
   },
   {
    "duration": 13,
    "start_time": "2022-02-03T11:25:21.409Z"
   },
   {
    "duration": 52,
    "start_time": "2022-02-03T11:25:21.425Z"
   },
   {
    "duration": 15,
    "start_time": "2022-02-03T11:25:21.480Z"
   },
   {
    "duration": 16,
    "start_time": "2022-02-03T11:25:21.498Z"
   },
   {
    "duration": 12,
    "start_time": "2022-02-03T11:38:52.377Z"
   },
   {
    "duration": 12,
    "start_time": "2022-02-03T11:39:17.581Z"
   },
   {
    "duration": 12,
    "start_time": "2022-02-03T11:40:59.206Z"
   },
   {
    "duration": 13,
    "start_time": "2022-02-03T11:41:17.645Z"
   },
   {
    "duration": 21,
    "start_time": "2022-02-03T11:48:50.982Z"
   },
   {
    "duration": 9,
    "start_time": "2022-02-03T11:49:57.209Z"
   },
   {
    "duration": 7,
    "start_time": "2022-02-03T11:50:29.249Z"
   },
   {
    "duration": 21,
    "start_time": "2022-02-03T11:53:29.105Z"
   },
   {
    "duration": 35,
    "start_time": "2022-02-03T11:54:21.075Z"
   },
   {
    "duration": 4,
    "start_time": "2022-02-03T11:55:40.347Z"
   },
   {
    "duration": 6,
    "start_time": "2022-02-03T11:55:54.067Z"
   },
   {
    "duration": 11,
    "start_time": "2022-02-03T11:56:24.219Z"
   },
   {
    "duration": 35,
    "start_time": "2022-02-03T11:56:57.739Z"
   },
   {
    "duration": 16,
    "start_time": "2022-02-03T11:57:51.035Z"
   },
   {
    "duration": 12,
    "start_time": "2022-02-03T11:58:21.043Z"
   },
   {
    "duration": 12,
    "start_time": "2022-02-03T11:58:35.245Z"
   },
   {
    "duration": 13,
    "start_time": "2022-02-03T11:59:06.165Z"
   },
   {
    "duration": 12,
    "start_time": "2022-02-03T12:32:05.733Z"
   },
   {
    "duration": 12,
    "start_time": "2022-02-03T12:57:19.968Z"
   },
   {
    "duration": 12,
    "start_time": "2022-02-03T12:57:29.890Z"
   },
   {
    "duration": 12,
    "start_time": "2022-02-03T12:57:36.465Z"
   },
   {
    "duration": 80,
    "start_time": "2022-02-03T13:17:22.694Z"
   },
   {
    "duration": 273,
    "start_time": "2022-02-03T13:17:55.480Z"
   },
   {
    "duration": 16,
    "start_time": "2022-02-03T13:18:06.930Z"
   },
   {
    "duration": 328,
    "start_time": "2022-02-03T13:28:58.791Z"
   },
   {
    "duration": 14,
    "start_time": "2022-02-03T13:45:45.302Z"
   },
   {
    "duration": 13,
    "start_time": "2022-02-03T13:46:09.256Z"
   },
   {
    "duration": 12,
    "start_time": "2022-02-03T13:47:36.328Z"
   },
   {
    "duration": 20,
    "start_time": "2022-02-03T13:48:55.386Z"
   },
   {
    "duration": 35,
    "start_time": "2022-02-03T13:50:11.913Z"
   },
   {
    "duration": 13,
    "start_time": "2022-02-03T13:50:55.689Z"
   },
   {
    "duration": 1574,
    "start_time": "2022-02-12T09:05:53.314Z"
   },
   {
    "duration": 12,
    "start_time": "2022-02-12T09:05:54.890Z"
   },
   {
    "duration": 9,
    "start_time": "2022-02-12T09:05:54.904Z"
   },
   {
    "duration": 9,
    "start_time": "2022-02-12T09:05:54.915Z"
   },
   {
    "duration": 12,
    "start_time": "2022-02-12T09:05:54.926Z"
   },
   {
    "duration": 10,
    "start_time": "2022-02-12T09:05:54.940Z"
   },
   {
    "duration": 46,
    "start_time": "2022-02-12T09:05:54.952Z"
   },
   {
    "duration": 22,
    "start_time": "2022-02-12T09:05:55.001Z"
   },
   {
    "duration": 15,
    "start_time": "2022-02-12T09:05:55.025Z"
   },
   {
    "duration": 18,
    "start_time": "2022-02-12T09:05:55.042Z"
   },
   {
    "duration": 10,
    "start_time": "2022-02-12T09:05:55.062Z"
   },
   {
    "duration": 36,
    "start_time": "2022-02-12T09:05:55.074Z"
   },
   {
    "duration": 13,
    "start_time": "2022-02-12T09:05:55.112Z"
   },
   {
    "duration": 9,
    "start_time": "2022-02-12T09:05:55.127Z"
   },
   {
    "duration": 84,
    "start_time": "2022-02-12T09:05:55.138Z"
   },
   {
    "duration": 27,
    "start_time": "2022-02-12T09:05:55.224Z"
   },
   {
    "duration": 64,
    "start_time": "2022-02-12T09:05:55.252Z"
   },
   {
    "duration": 6,
    "start_time": "2022-02-12T09:05:55.317Z"
   },
   {
    "duration": 37,
    "start_time": "2022-02-12T09:05:55.324Z"
   },
   {
    "duration": 5,
    "start_time": "2022-02-12T09:05:55.363Z"
   },
   {
    "duration": 37,
    "start_time": "2022-02-12T09:05:55.369Z"
   },
   {
    "duration": 6,
    "start_time": "2022-02-12T09:05:55.408Z"
   },
   {
    "duration": 40,
    "start_time": "2022-02-12T09:05:55.417Z"
   },
   {
    "duration": 39,
    "start_time": "2022-02-12T09:05:55.460Z"
   },
   {
    "duration": 21,
    "start_time": "2022-02-12T09:05:55.501Z"
   },
   {
    "duration": 29,
    "start_time": "2022-02-12T09:05:55.524Z"
   },
   {
    "duration": 5,
    "start_time": "2022-02-12T09:05:55.555Z"
   },
   {
    "duration": 79,
    "start_time": "2022-02-12T09:05:55.561Z"
   },
   {
    "duration": 21,
    "start_time": "2022-02-12T09:05:55.642Z"
   },
   {
    "duration": 44,
    "start_time": "2022-02-12T09:05:55.664Z"
   },
   {
    "duration": 6,
    "start_time": "2022-02-12T09:05:55.710Z"
   },
   {
    "duration": 11,
    "start_time": "2022-02-12T09:05:55.718Z"
   },
   {
    "duration": 8,
    "start_time": "2022-02-12T09:05:55.731Z"
   },
   {
    "duration": 58,
    "start_time": "2022-02-12T09:05:55.741Z"
   },
   {
    "duration": 9,
    "start_time": "2022-02-12T09:05:55.801Z"
   },
   {
    "duration": 6,
    "start_time": "2022-02-12T09:05:55.812Z"
   },
   {
    "duration": 12,
    "start_time": "2022-02-12T09:05:55.820Z"
   },
   {
    "duration": 13,
    "start_time": "2022-02-12T09:05:55.834Z"
   },
   {
    "duration": 526,
    "start_time": "2022-02-12T09:05:55.848Z"
   },
   {
    "duration": 27,
    "start_time": "2022-02-12T09:05:56.376Z"
   },
   {
    "duration": 6,
    "start_time": "2022-02-12T09:05:56.405Z"
   },
   {
    "duration": 17,
    "start_time": "2022-02-12T09:05:56.414Z"
   },
   {
    "duration": 6,
    "start_time": "2022-02-12T09:05:56.434Z"
   },
   {
    "duration": 17,
    "start_time": "2022-02-12T09:05:56.442Z"
   },
   {
    "duration": 43,
    "start_time": "2022-02-12T09:05:56.461Z"
   },
   {
    "duration": 28,
    "start_time": "2022-02-12T09:05:56.506Z"
   },
   {
    "duration": 7,
    "start_time": "2022-02-12T09:05:56.535Z"
   },
   {
    "duration": 11,
    "start_time": "2022-02-12T09:05:56.544Z"
   },
   {
    "duration": 48,
    "start_time": "2022-02-12T09:05:56.557Z"
   },
   {
    "duration": 34,
    "start_time": "2022-02-12T09:05:56.607Z"
   },
   {
    "duration": 117,
    "start_time": "2022-02-12T09:05:56.643Z"
   },
   {
    "duration": 7,
    "start_time": "2022-02-12T09:05:56.761Z"
   },
   {
    "duration": 266,
    "start_time": "2022-02-12T09:05:56.770Z"
   },
   {
    "duration": 255,
    "start_time": "2022-02-12T09:05:57.037Z"
   },
   {
    "duration": 255,
    "start_time": "2022-02-12T09:05:57.294Z"
   },
   {
    "duration": 11,
    "start_time": "2022-02-12T09:05:57.551Z"
   },
   {
    "duration": 13,
    "start_time": "2022-02-12T09:05:57.563Z"
   },
   {
    "duration": 34,
    "start_time": "2022-02-12T09:05:57.577Z"
   },
   {
    "duration": 15,
    "start_time": "2022-02-12T09:05:57.612Z"
   },
   {
    "duration": 8,
    "start_time": "2022-02-12T09:05:57.628Z"
   },
   {
    "duration": 15,
    "start_time": "2022-02-12T09:05:57.638Z"
   },
   {
    "duration": 11,
    "start_time": "2022-02-12T09:05:57.655Z"
   },
   {
    "duration": 34,
    "start_time": "2022-02-12T09:05:57.668Z"
   },
   {
    "duration": 8,
    "start_time": "2022-02-12T09:05:57.704Z"
   },
   {
    "duration": 14,
    "start_time": "2022-02-12T09:05:57.714Z"
   },
   {
    "duration": 22,
    "start_time": "2022-02-12T09:05:57.730Z"
   },
   {
    "duration": 11,
    "start_time": "2022-02-12T09:05:57.754Z"
   },
   {
    "duration": 2289,
    "start_time": "2022-02-12T16:40:16.172Z"
   },
   {
    "duration": 25,
    "start_time": "2022-02-12T16:40:18.464Z"
   },
   {
    "duration": 16,
    "start_time": "2022-02-12T16:40:18.493Z"
   },
   {
    "duration": 30,
    "start_time": "2022-02-12T16:40:18.512Z"
   },
   {
    "duration": 20,
    "start_time": "2022-02-12T16:40:18.546Z"
   },
   {
    "duration": 23,
    "start_time": "2022-02-12T16:40:18.569Z"
   },
   {
    "duration": 56,
    "start_time": "2022-02-12T16:40:18.595Z"
   },
   {
    "duration": 22,
    "start_time": "2022-02-12T16:40:18.656Z"
   },
   {
    "duration": 58,
    "start_time": "2022-02-12T16:40:18.683Z"
   },
   {
    "duration": 11,
    "start_time": "2022-02-12T16:40:18.744Z"
   },
   {
    "duration": 14,
    "start_time": "2022-02-12T16:40:18.758Z"
   },
   {
    "duration": 25,
    "start_time": "2022-02-12T16:40:18.775Z"
   },
   {
    "duration": 18,
    "start_time": "2022-02-12T16:40:18.834Z"
   },
   {
    "duration": 17,
    "start_time": "2022-02-12T16:40:18.855Z"
   },
   {
    "duration": 117,
    "start_time": "2022-02-12T16:40:18.875Z"
   },
   {
    "duration": 45,
    "start_time": "2022-02-12T16:40:18.994Z"
   },
   {
    "duration": 97,
    "start_time": "2022-02-12T16:40:19.041Z"
   },
   {
    "duration": 8,
    "start_time": "2022-02-12T16:40:19.141Z"
   },
   {
    "duration": 51,
    "start_time": "2022-02-12T16:40:19.154Z"
   },
   {
    "duration": 10,
    "start_time": "2022-02-12T16:40:19.233Z"
   },
   {
    "duration": 21,
    "start_time": "2022-02-12T16:40:19.245Z"
   },
   {
    "duration": 11,
    "start_time": "2022-02-12T16:40:19.269Z"
   },
   {
    "duration": 85,
    "start_time": "2022-02-12T16:40:19.286Z"
   },
   {
    "duration": 32,
    "start_time": "2022-02-12T16:40:19.376Z"
   },
   {
    "duration": 63,
    "start_time": "2022-02-12T16:40:19.410Z"
   },
   {
    "duration": 78,
    "start_time": "2022-02-12T16:40:19.475Z"
   },
   {
    "duration": 7,
    "start_time": "2022-02-12T16:40:19.556Z"
   },
   {
    "duration": 89,
    "start_time": "2022-02-12T16:40:19.566Z"
   },
   {
    "duration": 33,
    "start_time": "2022-02-12T16:40:19.657Z"
   },
   {
    "duration": 60,
    "start_time": "2022-02-12T16:40:19.692Z"
   },
   {
    "duration": 10,
    "start_time": "2022-02-12T16:40:19.755Z"
   },
   {
    "duration": 27,
    "start_time": "2022-02-12T16:40:19.767Z"
   },
   {
    "duration": 22,
    "start_time": "2022-02-12T16:40:19.796Z"
   },
   {
    "duration": 63,
    "start_time": "2022-02-12T16:40:19.820Z"
   },
   {
    "duration": 13,
    "start_time": "2022-02-12T16:40:19.886Z"
   },
   {
    "duration": 9,
    "start_time": "2022-02-12T16:40:19.902Z"
   },
   {
    "duration": 22,
    "start_time": "2022-02-12T16:40:19.933Z"
   },
   {
    "duration": 30,
    "start_time": "2022-02-12T16:40:19.959Z"
   },
   {
    "duration": 1016,
    "start_time": "2022-02-12T16:40:19.994Z"
   },
   {
    "duration": 34,
    "start_time": "2022-02-12T16:40:21.013Z"
   },
   {
    "duration": 11,
    "start_time": "2022-02-12T16:40:21.050Z"
   },
   {
    "duration": 29,
    "start_time": "2022-02-12T16:40:21.064Z"
   },
   {
    "duration": 8,
    "start_time": "2022-02-12T16:40:21.095Z"
   },
   {
    "duration": 24,
    "start_time": "2022-02-12T16:40:21.133Z"
   },
   {
    "duration": 10,
    "start_time": "2022-02-12T16:40:21.160Z"
   },
   {
    "duration": 75,
    "start_time": "2022-02-12T16:40:21.173Z"
   },
   {
    "duration": 12,
    "start_time": "2022-02-12T16:40:21.252Z"
   },
   {
    "duration": 26,
    "start_time": "2022-02-12T16:40:21.266Z"
   },
   {
    "duration": 57,
    "start_time": "2022-02-12T16:40:21.295Z"
   },
   {
    "duration": 57,
    "start_time": "2022-02-12T16:40:21.355Z"
   },
   {
    "duration": 188,
    "start_time": "2022-02-12T16:40:21.433Z"
   },
   {
    "duration": 22,
    "start_time": "2022-02-12T16:40:21.623Z"
   },
   {
    "duration": 384,
    "start_time": "2022-02-12T16:40:21.648Z"
   },
   {
    "duration": 388,
    "start_time": "2022-02-12T16:40:22.036Z"
   },
   {
    "duration": 387,
    "start_time": "2022-02-12T16:40:22.432Z"
   },
   {
    "duration": 22,
    "start_time": "2022-02-12T16:40:22.822Z"
   },
   {
    "duration": 17,
    "start_time": "2022-02-12T16:40:22.846Z"
   },
   {
    "duration": 42,
    "start_time": "2022-02-12T16:40:22.866Z"
   },
   {
    "duration": 35,
    "start_time": "2022-02-12T16:40:22.933Z"
   },
   {
    "duration": 13,
    "start_time": "2022-02-12T16:40:22.970Z"
   },
   {
    "duration": 54,
    "start_time": "2022-02-12T16:40:22.986Z"
   },
   {
    "duration": 17,
    "start_time": "2022-02-12T16:40:23.043Z"
   },
   {
    "duration": 22,
    "start_time": "2022-02-12T16:40:23.064Z"
   },
   {
    "duration": 46,
    "start_time": "2022-02-12T16:40:23.089Z"
   },
   {
    "duration": 39,
    "start_time": "2022-02-12T16:40:23.138Z"
   },
   {
    "duration": 68,
    "start_time": "2022-02-12T16:40:23.181Z"
   },
   {
    "duration": 27,
    "start_time": "2022-02-12T16:40:23.252Z"
   },
   {
    "duration": 180,
    "start_time": "2022-02-12T16:46:24.173Z"
   },
   {
    "duration": 178,
    "start_time": "2022-02-12T16:47:35.869Z"
   },
   {
    "duration": 378,
    "start_time": "2022-02-12T16:49:22.620Z"
   },
   {
    "duration": 176,
    "start_time": "2022-02-12T16:49:40.560Z"
   },
   {
    "duration": 84,
    "start_time": "2022-02-12T16:54:43.961Z"
   },
   {
    "duration": 174,
    "start_time": "2022-02-12T16:54:58.392Z"
   },
   {
    "duration": 196,
    "start_time": "2022-02-12T16:56:19.851Z"
   },
   {
    "duration": 228,
    "start_time": "2022-02-12T16:57:55.594Z"
   },
   {
    "duration": 194,
    "start_time": "2022-02-12T16:58:10.910Z"
   },
   {
    "duration": 223,
    "start_time": "2022-02-13T09:36:35.968Z"
   },
   {
    "duration": 1448,
    "start_time": "2022-02-13T09:36:40.435Z"
   },
   {
    "duration": 11,
    "start_time": "2022-02-13T09:36:41.885Z"
   },
   {
    "duration": 8,
    "start_time": "2022-02-13T09:36:41.898Z"
   },
   {
    "duration": 7,
    "start_time": "2022-02-13T09:36:41.907Z"
   },
   {
    "duration": 8,
    "start_time": "2022-02-13T09:36:41.915Z"
   },
   {
    "duration": 10,
    "start_time": "2022-02-13T09:36:41.925Z"
   },
   {
    "duration": 22,
    "start_time": "2022-02-13T09:36:41.936Z"
   },
   {
    "duration": 15,
    "start_time": "2022-02-13T09:36:41.961Z"
   },
   {
    "duration": 39,
    "start_time": "2022-02-13T09:36:41.978Z"
   },
   {
    "duration": 6,
    "start_time": "2022-02-13T09:36:42.018Z"
   },
   {
    "duration": 8,
    "start_time": "2022-02-13T09:36:42.025Z"
   },
   {
    "duration": 226,
    "start_time": "2022-02-13T09:36:42.034Z"
   },
   {
    "duration": 8,
    "start_time": "2022-02-13T09:36:42.262Z"
   },
   {
    "duration": 8,
    "start_time": "2022-02-13T09:36:42.272Z"
   },
   {
    "duration": 37,
    "start_time": "2022-02-13T09:36:42.282Z"
   },
   {
    "duration": 56,
    "start_time": "2022-02-13T09:36:42.321Z"
   },
   {
    "duration": 40,
    "start_time": "2022-02-13T09:36:42.379Z"
   },
   {
    "duration": 43,
    "start_time": "2022-02-13T09:36:42.421Z"
   },
   {
    "duration": 5,
    "start_time": "2022-02-13T09:36:42.466Z"
   },
   {
    "duration": 56,
    "start_time": "2022-02-13T09:36:42.473Z"
   },
   {
    "duration": 5,
    "start_time": "2022-02-13T09:36:42.530Z"
   },
   {
    "duration": 11,
    "start_time": "2022-02-13T09:36:42.537Z"
   },
   {
    "duration": 5,
    "start_time": "2022-02-13T09:36:42.552Z"
   },
   {
    "duration": 62,
    "start_time": "2022-02-13T09:36:42.560Z"
   },
   {
    "duration": 17,
    "start_time": "2022-02-13T09:36:42.624Z"
   },
   {
    "duration": 22,
    "start_time": "2022-02-13T09:36:42.642Z"
   },
   {
    "duration": 54,
    "start_time": "2022-02-13T09:36:42.665Z"
   },
   {
    "duration": 5,
    "start_time": "2022-02-13T09:36:42.721Z"
   },
   {
    "duration": 46,
    "start_time": "2022-02-13T09:36:42.728Z"
   },
   {
    "duration": 38,
    "start_time": "2022-02-13T09:36:42.776Z"
   },
   {
    "duration": 26,
    "start_time": "2022-02-13T09:36:42.816Z"
   },
   {
    "duration": 5,
    "start_time": "2022-02-13T09:36:42.843Z"
   },
   {
    "duration": 15,
    "start_time": "2022-02-13T09:36:42.850Z"
   },
   {
    "duration": 11,
    "start_time": "2022-02-13T09:36:42.867Z"
   },
   {
    "duration": 53,
    "start_time": "2022-02-13T09:36:42.880Z"
   },
   {
    "duration": 8,
    "start_time": "2022-02-13T09:36:42.934Z"
   },
   {
    "duration": 13,
    "start_time": "2022-02-13T09:36:42.943Z"
   },
   {
    "duration": 19,
    "start_time": "2022-02-13T09:36:42.957Z"
   },
   {
    "duration": 15,
    "start_time": "2022-02-13T09:36:42.978Z"
   },
   {
    "duration": 472,
    "start_time": "2022-02-13T09:36:42.994Z"
   },
   {
    "duration": 13,
    "start_time": "2022-02-13T09:36:43.467Z"
   },
   {
    "duration": 4,
    "start_time": "2022-02-13T09:36:43.481Z"
   },
   {
    "duration": 34,
    "start_time": "2022-02-13T09:36:43.487Z"
   },
   {
    "duration": 5,
    "start_time": "2022-02-13T09:36:43.522Z"
   },
   {
    "duration": 14,
    "start_time": "2022-02-13T09:36:43.529Z"
   },
   {
    "duration": 5,
    "start_time": "2022-02-13T09:36:43.544Z"
   },
   {
    "duration": 23,
    "start_time": "2022-02-13T09:36:43.550Z"
   },
   {
    "duration": 6,
    "start_time": "2022-02-13T09:36:43.575Z"
   },
   {
    "duration": 10,
    "start_time": "2022-02-13T09:36:43.612Z"
   },
   {
    "duration": 16,
    "start_time": "2022-02-13T09:36:43.623Z"
   },
   {
    "duration": 40,
    "start_time": "2022-02-13T09:36:43.641Z"
   },
   {
    "duration": 110,
    "start_time": "2022-02-13T09:36:43.682Z"
   },
   {
    "duration": 18,
    "start_time": "2022-02-13T09:36:43.794Z"
   },
   {
    "duration": 235,
    "start_time": "2022-02-13T09:36:43.813Z"
   },
   {
    "duration": 235,
    "start_time": "2022-02-13T09:36:44.050Z"
   },
   {
    "duration": 228,
    "start_time": "2022-02-13T09:36:44.286Z"
   },
   {
    "duration": 11,
    "start_time": "2022-02-13T09:36:44.515Z"
   },
   {
    "duration": 11,
    "start_time": "2022-02-13T09:36:44.527Z"
   },
   {
    "duration": 32,
    "start_time": "2022-02-13T09:36:44.540Z"
   },
   {
    "duration": 14,
    "start_time": "2022-02-13T09:36:44.573Z"
   },
   {
    "duration": 10,
    "start_time": "2022-02-13T09:36:44.589Z"
   },
   {
    "duration": 9,
    "start_time": "2022-02-13T09:36:44.613Z"
   },
   {
    "duration": 25,
    "start_time": "2022-02-13T09:36:44.623Z"
   },
   {
    "duration": 27,
    "start_time": "2022-02-13T09:36:44.649Z"
   },
   {
    "duration": 16,
    "start_time": "2022-02-13T09:36:44.678Z"
   },
   {
    "duration": 13,
    "start_time": "2022-02-13T09:36:44.696Z"
   },
   {
    "duration": 20,
    "start_time": "2022-02-13T09:36:44.711Z"
   },
   {
    "duration": 8,
    "start_time": "2022-02-13T09:36:44.736Z"
   },
   {
    "duration": 83,
    "start_time": "2022-02-13T09:40:42.548Z"
   },
   {
    "duration": 98,
    "start_time": "2022-02-13T09:42:53.617Z"
   }
  ],
  "kernelspec": {
   "display_name": "Python 3",
   "language": "python",
   "name": "python3"
  },
  "language_info": {
   "codemirror_mode": {
    "name": "ipython",
    "version": 3
   },
   "file_extension": ".py",
   "mimetype": "text/x-python",
   "name": "python",
   "nbconvert_exporter": "python",
   "pygments_lexer": "ipython3",
   "version": "3.7.8"
  },
  "toc": {
   "base_numbering": 1,
   "nav_menu": {},
   "number_sections": true,
   "sideBar": true,
   "skip_h1_title": true,
   "title_cell": "Table of Contents",
   "title_sidebar": "Contents",
   "toc_cell": false,
   "toc_position": {},
   "toc_section_display": true,
   "toc_window_display": false
  }
 },
 "nbformat": 4,
 "nbformat_minor": 2
}
