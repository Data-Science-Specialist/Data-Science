{
 "cells": [
  {
   "cell_type": "markdown",
   "metadata": {},
   "source": [
    "# Исследование объявлений о продаже квартир"
   ]
  },
  {
   "cell_type": "markdown",
   "metadata": {},
   "source": [
    "Изучим данные, предоставленные сервисом для проекта."
   ]
  },
  {
   "cell_type": "markdown",
   "metadata": {},
   "source": [
    "## Изучение данных из файла"
   ]
  },
  {
   "cell_type": "code",
   "execution_count": 121,
   "metadata": {},
   "outputs": [
    {
     "data": {
      "text/html": [
       "<div>\n",
       "<style scoped>\n",
       "    .dataframe tbody tr th:only-of-type {\n",
       "        vertical-align: middle;\n",
       "    }\n",
       "\n",
       "    .dataframe tbody tr th {\n",
       "        vertical-align: top;\n",
       "    }\n",
       "\n",
       "    .dataframe thead th {\n",
       "        text-align: right;\n",
       "    }\n",
       "</style>\n",
       "<table border=\"1\" class=\"dataframe\">\n",
       "  <thead>\n",
       "    <tr style=\"text-align: right;\">\n",
       "      <th></th>\n",
       "      <th>total_images</th>\n",
       "      <th>last_price</th>\n",
       "      <th>total_area</th>\n",
       "      <th>first_day_exposition</th>\n",
       "      <th>rooms</th>\n",
       "      <th>ceiling_height</th>\n",
       "      <th>floors_total</th>\n",
       "      <th>living_area</th>\n",
       "      <th>floor</th>\n",
       "      <th>is_apartment</th>\n",
       "      <th>...</th>\n",
       "      <th>kitchen_area</th>\n",
       "      <th>balcony</th>\n",
       "      <th>locality_name</th>\n",
       "      <th>airports_nearest</th>\n",
       "      <th>cityCenters_nearest</th>\n",
       "      <th>parks_around3000</th>\n",
       "      <th>parks_nearest</th>\n",
       "      <th>ponds_around3000</th>\n",
       "      <th>ponds_nearest</th>\n",
       "      <th>days_exposition</th>\n",
       "    </tr>\n",
       "  </thead>\n",
       "  <tbody>\n",
       "    <tr>\n",
       "      <td>0</td>\n",
       "      <td>20</td>\n",
       "      <td>13000000.0</td>\n",
       "      <td>108.0</td>\n",
       "      <td>2019-03-07T00:00:00</td>\n",
       "      <td>3</td>\n",
       "      <td>2.70</td>\n",
       "      <td>16.0</td>\n",
       "      <td>51.0</td>\n",
       "      <td>8</td>\n",
       "      <td>NaN</td>\n",
       "      <td>...</td>\n",
       "      <td>25.0</td>\n",
       "      <td>NaN</td>\n",
       "      <td>Санкт-Петербург</td>\n",
       "      <td>18863.0</td>\n",
       "      <td>16028.0</td>\n",
       "      <td>1.0</td>\n",
       "      <td>482.0</td>\n",
       "      <td>2.0</td>\n",
       "      <td>755.0</td>\n",
       "      <td>NaN</td>\n",
       "    </tr>\n",
       "    <tr>\n",
       "      <td>1</td>\n",
       "      <td>7</td>\n",
       "      <td>3350000.0</td>\n",
       "      <td>40.4</td>\n",
       "      <td>2018-12-04T00:00:00</td>\n",
       "      <td>1</td>\n",
       "      <td>NaN</td>\n",
       "      <td>11.0</td>\n",
       "      <td>18.6</td>\n",
       "      <td>1</td>\n",
       "      <td>NaN</td>\n",
       "      <td>...</td>\n",
       "      <td>11.0</td>\n",
       "      <td>2.0</td>\n",
       "      <td>посёлок Шушары</td>\n",
       "      <td>12817.0</td>\n",
       "      <td>18603.0</td>\n",
       "      <td>0.0</td>\n",
       "      <td>NaN</td>\n",
       "      <td>0.0</td>\n",
       "      <td>NaN</td>\n",
       "      <td>81.0</td>\n",
       "    </tr>\n",
       "    <tr>\n",
       "      <td>2</td>\n",
       "      <td>10</td>\n",
       "      <td>5196000.0</td>\n",
       "      <td>56.0</td>\n",
       "      <td>2015-08-20T00:00:00</td>\n",
       "      <td>2</td>\n",
       "      <td>NaN</td>\n",
       "      <td>5.0</td>\n",
       "      <td>34.3</td>\n",
       "      <td>4</td>\n",
       "      <td>NaN</td>\n",
       "      <td>...</td>\n",
       "      <td>8.3</td>\n",
       "      <td>0.0</td>\n",
       "      <td>Санкт-Петербург</td>\n",
       "      <td>21741.0</td>\n",
       "      <td>13933.0</td>\n",
       "      <td>1.0</td>\n",
       "      <td>90.0</td>\n",
       "      <td>2.0</td>\n",
       "      <td>574.0</td>\n",
       "      <td>558.0</td>\n",
       "    </tr>\n",
       "    <tr>\n",
       "      <td>3</td>\n",
       "      <td>0</td>\n",
       "      <td>64900000.0</td>\n",
       "      <td>159.0</td>\n",
       "      <td>2015-07-24T00:00:00</td>\n",
       "      <td>3</td>\n",
       "      <td>NaN</td>\n",
       "      <td>14.0</td>\n",
       "      <td>NaN</td>\n",
       "      <td>9</td>\n",
       "      <td>NaN</td>\n",
       "      <td>...</td>\n",
       "      <td>NaN</td>\n",
       "      <td>0.0</td>\n",
       "      <td>Санкт-Петербург</td>\n",
       "      <td>28098.0</td>\n",
       "      <td>6800.0</td>\n",
       "      <td>2.0</td>\n",
       "      <td>84.0</td>\n",
       "      <td>3.0</td>\n",
       "      <td>234.0</td>\n",
       "      <td>424.0</td>\n",
       "    </tr>\n",
       "    <tr>\n",
       "      <td>4</td>\n",
       "      <td>2</td>\n",
       "      <td>10000000.0</td>\n",
       "      <td>100.0</td>\n",
       "      <td>2018-06-19T00:00:00</td>\n",
       "      <td>2</td>\n",
       "      <td>3.03</td>\n",
       "      <td>14.0</td>\n",
       "      <td>32.0</td>\n",
       "      <td>13</td>\n",
       "      <td>NaN</td>\n",
       "      <td>...</td>\n",
       "      <td>41.0</td>\n",
       "      <td>NaN</td>\n",
       "      <td>Санкт-Петербург</td>\n",
       "      <td>31856.0</td>\n",
       "      <td>8098.0</td>\n",
       "      <td>2.0</td>\n",
       "      <td>112.0</td>\n",
       "      <td>1.0</td>\n",
       "      <td>48.0</td>\n",
       "      <td>121.0</td>\n",
       "    </tr>\n",
       "  </tbody>\n",
       "</table>\n",
       "<p>5 rows × 22 columns</p>\n",
       "</div>"
      ],
      "text/plain": [
       "   total_images  last_price  total_area first_day_exposition  rooms  \\\n",
       "0            20  13000000.0       108.0  2019-03-07T00:00:00      3   \n",
       "1             7   3350000.0        40.4  2018-12-04T00:00:00      1   \n",
       "2            10   5196000.0        56.0  2015-08-20T00:00:00      2   \n",
       "3             0  64900000.0       159.0  2015-07-24T00:00:00      3   \n",
       "4             2  10000000.0       100.0  2018-06-19T00:00:00      2   \n",
       "\n",
       "   ceiling_height  floors_total  living_area  floor is_apartment  ...  \\\n",
       "0            2.70          16.0         51.0      8          NaN  ...   \n",
       "1             NaN          11.0         18.6      1          NaN  ...   \n",
       "2             NaN           5.0         34.3      4          NaN  ...   \n",
       "3             NaN          14.0          NaN      9          NaN  ...   \n",
       "4            3.03          14.0         32.0     13          NaN  ...   \n",
       "\n",
       "   kitchen_area  balcony    locality_name  airports_nearest  \\\n",
       "0          25.0      NaN  Санкт-Петербург           18863.0   \n",
       "1          11.0      2.0   посёлок Шушары           12817.0   \n",
       "2           8.3      0.0  Санкт-Петербург           21741.0   \n",
       "3           NaN      0.0  Санкт-Петербург           28098.0   \n",
       "4          41.0      NaN  Санкт-Петербург           31856.0   \n",
       "\n",
       "  cityCenters_nearest  parks_around3000  parks_nearest  ponds_around3000  \\\n",
       "0             16028.0               1.0          482.0               2.0   \n",
       "1             18603.0               0.0            NaN               0.0   \n",
       "2             13933.0               1.0           90.0               2.0   \n",
       "3              6800.0               2.0           84.0               3.0   \n",
       "4              8098.0               2.0          112.0               1.0   \n",
       "\n",
       "   ponds_nearest  days_exposition  \n",
       "0          755.0              NaN  \n",
       "1            NaN             81.0  \n",
       "2          574.0            558.0  \n",
       "3          234.0            424.0  \n",
       "4           48.0            121.0  \n",
       "\n",
       "[5 rows x 22 columns]"
      ]
     },
     "execution_count": 121,
     "metadata": {},
     "output_type": "execute_result"
    }
   ],
   "source": [
    "import pandas as pd\n",
    "import matplotlib.pyplot as plt\n",
    "import seaborn as sns\n",
    "\n",
    "df = pd.read_csv('/datasets/real_estate_data.csv', sep='\\t')\n",
    "df.head()"
   ]
  },
  {
   "cell_type": "markdown",
   "metadata": {},
   "source": [
    "Открыли файл с данными с учётом разделителя '\\t' и вывели на экран первые пять строк. Сразу видны пропуски в значениях NaN, а также стилистическое нарушение в именовании столбца cityCenters_nearest. Посмотрим на файл с помощью метода .info()"
   ]
  },
  {
   "cell_type": "code",
   "execution_count": 122,
   "metadata": {},
   "outputs": [
    {
     "name": "stdout",
     "output_type": "stream",
     "text": [
      "<class 'pandas.core.frame.DataFrame'>\n",
      "RangeIndex: 23699 entries, 0 to 23698\n",
      "Data columns (total 22 columns):\n",
      "total_images            23699 non-null int64\n",
      "last_price              23699 non-null float64\n",
      "total_area              23699 non-null float64\n",
      "first_day_exposition    23699 non-null object\n",
      "rooms                   23699 non-null int64\n",
      "ceiling_height          14504 non-null float64\n",
      "floors_total            23613 non-null float64\n",
      "living_area             21796 non-null float64\n",
      "floor                   23699 non-null int64\n",
      "is_apartment            2775 non-null object\n",
      "studio                  23699 non-null bool\n",
      "open_plan               23699 non-null bool\n",
      "kitchen_area            21421 non-null float64\n",
      "balcony                 12180 non-null float64\n",
      "locality_name           23650 non-null object\n",
      "airports_nearest        18157 non-null float64\n",
      "cityCenters_nearest     18180 non-null float64\n",
      "parks_around3000        18181 non-null float64\n",
      "parks_nearest           8079 non-null float64\n",
      "ponds_around3000        18181 non-null float64\n",
      "ponds_nearest           9110 non-null float64\n",
      "days_exposition         20518 non-null float64\n",
      "dtypes: bool(2), float64(14), int64(3), object(3)\n",
      "memory usage: 3.7+ MB\n"
     ]
    }
   ],
   "source": [
    "df.info()"
   ]
  },
  {
   "cell_type": "markdown",
   "metadata": {},
   "source": [
    "<html>\n",
    "    <body>\n",
    "        <p>Изучив информацию о датафрейме можно сказать следующее: количество столбцов 22.</p>\n",
    "        <p>Согласно описания данных:</p>\n",
    "&#9679; airports_nearest — расстояние до ближайшего аэропорта в метрах (м),<br>\n",
    "&#9679; balcony — число балконов,<br>\n",
    "&#9679; ceiling_height — высота потолков (м),<br>\n",
    "&#9679; cityCenters_nearest — расстояние до центра города (м),<br>\n",
    "&#9679; days_exposition — сколько дней было размещено объявление (от публикации до снятия),<br>\n",
    "&#9679; first_day_exposition — дата публикации,<br>\n",
    "&#9679; floor — этаж,<br>\n",
    "&#9679; floors_total — всего этажей в доме,<br>\n",
    "&#9679; is_apartment — апартаменты (булев тип),<br>\n",
    "&#9679; kitchen_area — площадь кухни в квадратных метрах (м²),<br>\n",
    "&#9679; last_price — цена на момент снятия с публикации,<br>\n",
    "&#9679; living_area — жилая площадь в квадратных метрах (м²),<br>\n",
    "&#9679; locality_name — название населённого пункта,<br>\n",
    "&#9679; open_plan — свободная планировка (булев тип),<br>\n",
    "&#9679; parks_around3000 — число парков в радиусе 3 км,<br>\n",
    "&#9679; parks_nearest — расстояние до ближайшего парка (м),<br>\n",
    "&#9679; ponds_around3000 — число водоёмов в радиусе 3 км,<br>\n",
    "&#9679; ponds_nearest — расстояние до ближайшего водоёма (м),<br>\n",
    "&#9679; rooms — число комнат,<br>\n",
    "&#9679; studio — квартира-студия (булев тип),<br>\n",
    "&#9679; total_area — площадь квартиры в квадратных метрах (м²),<br>\n",
    "&#9679; total_images — число фотографий квартиры в объявлении.<br>\n",
    "        <p>Количество значений различается, что говорит о наличии пропусков. В описании данных проекта показано три столбца с булевым типом, а по информации столбец is_apartment имеет тип object. Также имеется стилистическое нарушение в названии столбца cityCenters_nearest. Также есть столбец с цифрами в названии, но они стоят вконце. Соответственно такое название не нарушает ни синтаксиса, ни стиля. В датафрейме есть столбец с датой публикации, однако его отображение не удобочитаемо.</p>\n",
    "        <p>Также необходимо изменить тип данных у столбцов: floors_total, days_exposition, last_price - этажей в доме не может быть дробно, размещение объявления считается также в целых дня, а цену лучше читать в целочисленном формате (погрешность не повлияет на исследование).\n",
    "        </p>\n",
    "    </body>\n",
    "    </html>"
   ]
  },
  {
   "cell_type": "markdown",
   "metadata": {},
   "source": [
    "### Вывод"
   ]
  },
  {
   "cell_type": "markdown",
   "metadata": {},
   "source": [
    "Таким образом, необходимо провести предобработку данных: исправить стилистические нарушения, привести определённые данные к нужному типу, изменить отображение даты публикации. Однако, для дальнейшего анализа данных не все столбцы нужны, поэтому разумно удалить часть столбуов: total_images, balcony,  is_apartment, open_plan, studio совершенно не повлияют на анализ данных, покольку задача касается только ценообразования квартир, площадей квартир, этажности, комнат, локализации, удалённости квартиры от центра, даты и продолжительности публикации."
   ]
  },
  {
   "cell_type": "markdown",
   "metadata": {},
   "source": [
    "## Предобработка данных"
   ]
  },
  {
   "cell_type": "code",
   "execution_count": 123,
   "metadata": {},
   "outputs": [
    {
     "name": "stdout",
     "output_type": "stream",
     "text": [
      "<class 'pandas.core.frame.DataFrame'>\n",
      "RangeIndex: 23699 entries, 0 to 23698\n",
      "Data columns (total 12 columns):\n",
      "last_price              23699 non-null float64\n",
      "total_area              23699 non-null float64\n",
      "first_day_exposition    23699 non-null object\n",
      "rooms                   23699 non-null int64\n",
      "ceiling_height          14504 non-null float64\n",
      "floors_total            23613 non-null float64\n",
      "living_area             21796 non-null float64\n",
      "floor                   23699 non-null int64\n",
      "kitchen_area            21421 non-null float64\n",
      "locality_name           23650 non-null object\n",
      "cityCenters_nearest     18180 non-null float64\n",
      "days_exposition         20518 non-null float64\n",
      "dtypes: float64(8), int64(2), object(2)\n",
      "memory usage: 2.2+ MB\n"
     ]
    }
   ],
   "source": [
    "df = df.drop(columns=['total_images', 'balcony', 'is_apartment', 'open_plan', 'studio', 'airports_nearest', 'parks_around3000', 'parks_nearest', 'ponds_around3000', 'ponds_nearest'], axis=1) \n",
    "df.info()"
   ]
  },
  {
   "cell_type": "code",
   "execution_count": 124,
   "metadata": {
    "scrolled": true
   },
   "outputs": [
    {
     "data": {
      "text/plain": [
       "Index(['last_price', 'total_area', 'first_day_exposition', 'rooms',\n",
       "       'ceiling_height', 'floors_total', 'living_area', 'floor',\n",
       "       'kitchen_area', 'locality_name', 'cityCenters_nearest',\n",
       "       'days_exposition'],\n",
       "      dtype='object')"
      ]
     },
     "execution_count": 124,
     "metadata": {},
     "output_type": "execute_result"
    }
   ],
   "source": [
    "df.columns #посмотрим на названия столбцов"
   ]
  },
  {
   "cell_type": "markdown",
   "metadata": {},
   "source": [
    "Изменим наименование столбца cityCenters_nearest на правильное."
   ]
  },
  {
   "cell_type": "code",
   "execution_count": 125,
   "metadata": {},
   "outputs": [
    {
     "data": {
      "text/plain": [
       "Index(['last_price', 'total_area', 'first_day_exposition', 'rooms',\n",
       "       'ceiling_height', 'floors_total', 'living_area', 'floor',\n",
       "       'kitchen_area', 'locality_name', 'city_centers_nearest',\n",
       "       'days_exposition'],\n",
       "      dtype='object')"
      ]
     },
     "execution_count": 125,
     "metadata": {},
     "output_type": "execute_result"
    }
   ],
   "source": [
    "df = df.rename(columns={'cityCenters_nearest':'city_centers_nearest'})\n",
    "df.columns #ещё раз посмотрим на названия столбцов"
   ]
  },
  {
   "cell_type": "markdown",
   "metadata": {},
   "source": [
    "Как видим переименование столбцов прошло успешно. Приведём дату в соответствующий формат."
   ]
  },
  {
   "cell_type": "code",
   "execution_count": 126,
   "metadata": {
    "scrolled": false
   },
   "outputs": [
    {
     "data": {
      "text/html": [
       "<div>\n",
       "<style scoped>\n",
       "    .dataframe tbody tr th:only-of-type {\n",
       "        vertical-align: middle;\n",
       "    }\n",
       "\n",
       "    .dataframe tbody tr th {\n",
       "        vertical-align: top;\n",
       "    }\n",
       "\n",
       "    .dataframe thead th {\n",
       "        text-align: right;\n",
       "    }\n",
       "</style>\n",
       "<table border=\"1\" class=\"dataframe\">\n",
       "  <thead>\n",
       "    <tr style=\"text-align: right;\">\n",
       "      <th></th>\n",
       "      <th>last_price</th>\n",
       "      <th>total_area</th>\n",
       "      <th>first_day_exposition</th>\n",
       "      <th>rooms</th>\n",
       "      <th>ceiling_height</th>\n",
       "      <th>floors_total</th>\n",
       "      <th>living_area</th>\n",
       "      <th>floor</th>\n",
       "      <th>kitchen_area</th>\n",
       "      <th>locality_name</th>\n",
       "      <th>city_centers_nearest</th>\n",
       "      <th>days_exposition</th>\n",
       "    </tr>\n",
       "  </thead>\n",
       "  <tbody>\n",
       "    <tr>\n",
       "      <td>0</td>\n",
       "      <td>13000000.0</td>\n",
       "      <td>108.0</td>\n",
       "      <td>2019-03-07</td>\n",
       "      <td>3</td>\n",
       "      <td>2.70</td>\n",
       "      <td>16.0</td>\n",
       "      <td>51.0</td>\n",
       "      <td>8</td>\n",
       "      <td>25.0</td>\n",
       "      <td>Санкт-Петербург</td>\n",
       "      <td>16028.0</td>\n",
       "      <td>NaN</td>\n",
       "    </tr>\n",
       "    <tr>\n",
       "      <td>1</td>\n",
       "      <td>3350000.0</td>\n",
       "      <td>40.4</td>\n",
       "      <td>2018-12-04</td>\n",
       "      <td>1</td>\n",
       "      <td>NaN</td>\n",
       "      <td>11.0</td>\n",
       "      <td>18.6</td>\n",
       "      <td>1</td>\n",
       "      <td>11.0</td>\n",
       "      <td>посёлок Шушары</td>\n",
       "      <td>18603.0</td>\n",
       "      <td>81.0</td>\n",
       "    </tr>\n",
       "    <tr>\n",
       "      <td>2</td>\n",
       "      <td>5196000.0</td>\n",
       "      <td>56.0</td>\n",
       "      <td>2015-08-20</td>\n",
       "      <td>2</td>\n",
       "      <td>NaN</td>\n",
       "      <td>5.0</td>\n",
       "      <td>34.3</td>\n",
       "      <td>4</td>\n",
       "      <td>8.3</td>\n",
       "      <td>Санкт-Петербург</td>\n",
       "      <td>13933.0</td>\n",
       "      <td>558.0</td>\n",
       "    </tr>\n",
       "    <tr>\n",
       "      <td>3</td>\n",
       "      <td>64900000.0</td>\n",
       "      <td>159.0</td>\n",
       "      <td>2015-07-24</td>\n",
       "      <td>3</td>\n",
       "      <td>NaN</td>\n",
       "      <td>14.0</td>\n",
       "      <td>NaN</td>\n",
       "      <td>9</td>\n",
       "      <td>NaN</td>\n",
       "      <td>Санкт-Петербург</td>\n",
       "      <td>6800.0</td>\n",
       "      <td>424.0</td>\n",
       "    </tr>\n",
       "    <tr>\n",
       "      <td>4</td>\n",
       "      <td>10000000.0</td>\n",
       "      <td>100.0</td>\n",
       "      <td>2018-06-19</td>\n",
       "      <td>2</td>\n",
       "      <td>3.03</td>\n",
       "      <td>14.0</td>\n",
       "      <td>32.0</td>\n",
       "      <td>13</td>\n",
       "      <td>41.0</td>\n",
       "      <td>Санкт-Петербург</td>\n",
       "      <td>8098.0</td>\n",
       "      <td>121.0</td>\n",
       "    </tr>\n",
       "  </tbody>\n",
       "</table>\n",
       "</div>"
      ],
      "text/plain": [
       "   last_price  total_area first_day_exposition  rooms  ceiling_height  \\\n",
       "0  13000000.0       108.0           2019-03-07      3            2.70   \n",
       "1   3350000.0        40.4           2018-12-04      1             NaN   \n",
       "2   5196000.0        56.0           2015-08-20      2             NaN   \n",
       "3  64900000.0       159.0           2015-07-24      3             NaN   \n",
       "4  10000000.0       100.0           2018-06-19      2            3.03   \n",
       "\n",
       "   floors_total  living_area  floor  kitchen_area    locality_name  \\\n",
       "0          16.0         51.0      8          25.0  Санкт-Петербург   \n",
       "1          11.0         18.6      1          11.0   посёлок Шушары   \n",
       "2           5.0         34.3      4           8.3  Санкт-Петербург   \n",
       "3          14.0          NaN      9           NaN  Санкт-Петербург   \n",
       "4          14.0         32.0     13          41.0  Санкт-Петербург   \n",
       "\n",
       "   city_centers_nearest  days_exposition  \n",
       "0               16028.0              NaN  \n",
       "1               18603.0             81.0  \n",
       "2               13933.0            558.0  \n",
       "3                6800.0            424.0  \n",
       "4                8098.0            121.0  "
      ]
     },
     "execution_count": 126,
     "metadata": {},
     "output_type": "execute_result"
    }
   ],
   "source": [
    "df['first_day_exposition'] = pd.to_datetime(df['first_day_exposition'], format='%Y-%m-%d')\n",
    "df.head()"
   ]
  },
  {
   "cell_type": "code",
   "execution_count": 127,
   "metadata": {
    "scrolled": true
   },
   "outputs": [
    {
     "data": {
      "text/html": [
       "<div>\n",
       "<style scoped>\n",
       "    .dataframe tbody tr th:only-of-type {\n",
       "        vertical-align: middle;\n",
       "    }\n",
       "\n",
       "    .dataframe tbody tr th {\n",
       "        vertical-align: top;\n",
       "    }\n",
       "\n",
       "    .dataframe thead th {\n",
       "        text-align: right;\n",
       "    }\n",
       "</style>\n",
       "<table border=\"1\" class=\"dataframe\">\n",
       "  <thead>\n",
       "    <tr style=\"text-align: right;\">\n",
       "      <th></th>\n",
       "      <th>last_price</th>\n",
       "      <th>total_area</th>\n",
       "      <th>rooms</th>\n",
       "      <th>ceiling_height</th>\n",
       "      <th>floors_total</th>\n",
       "      <th>living_area</th>\n",
       "      <th>floor</th>\n",
       "      <th>kitchen_area</th>\n",
       "      <th>city_centers_nearest</th>\n",
       "      <th>days_exposition</th>\n",
       "    </tr>\n",
       "  </thead>\n",
       "  <tbody>\n",
       "    <tr>\n",
       "      <td>count</td>\n",
       "      <td>2.369900e+04</td>\n",
       "      <td>23699.000000</td>\n",
       "      <td>23699.000000</td>\n",
       "      <td>14504.000000</td>\n",
       "      <td>23613.000000</td>\n",
       "      <td>21796.000000</td>\n",
       "      <td>23699.000000</td>\n",
       "      <td>21421.000000</td>\n",
       "      <td>18180.000000</td>\n",
       "      <td>20518.000000</td>\n",
       "    </tr>\n",
       "    <tr>\n",
       "      <td>mean</td>\n",
       "      <td>6.541549e+06</td>\n",
       "      <td>60.348651</td>\n",
       "      <td>2.070636</td>\n",
       "      <td>2.771499</td>\n",
       "      <td>10.673824</td>\n",
       "      <td>34.457852</td>\n",
       "      <td>5.892358</td>\n",
       "      <td>10.569807</td>\n",
       "      <td>14191.277833</td>\n",
       "      <td>180.888634</td>\n",
       "    </tr>\n",
       "    <tr>\n",
       "      <td>std</td>\n",
       "      <td>1.088701e+07</td>\n",
       "      <td>35.654083</td>\n",
       "      <td>1.078405</td>\n",
       "      <td>1.261056</td>\n",
       "      <td>6.597173</td>\n",
       "      <td>22.030445</td>\n",
       "      <td>4.885249</td>\n",
       "      <td>5.905438</td>\n",
       "      <td>8608.386210</td>\n",
       "      <td>219.727988</td>\n",
       "    </tr>\n",
       "    <tr>\n",
       "      <td>min</td>\n",
       "      <td>1.219000e+04</td>\n",
       "      <td>12.000000</td>\n",
       "      <td>0.000000</td>\n",
       "      <td>1.000000</td>\n",
       "      <td>1.000000</td>\n",
       "      <td>2.000000</td>\n",
       "      <td>1.000000</td>\n",
       "      <td>1.300000</td>\n",
       "      <td>181.000000</td>\n",
       "      <td>1.000000</td>\n",
       "    </tr>\n",
       "    <tr>\n",
       "      <td>25%</td>\n",
       "      <td>3.400000e+06</td>\n",
       "      <td>40.000000</td>\n",
       "      <td>1.000000</td>\n",
       "      <td>2.520000</td>\n",
       "      <td>5.000000</td>\n",
       "      <td>18.600000</td>\n",
       "      <td>2.000000</td>\n",
       "      <td>7.000000</td>\n",
       "      <td>9238.000000</td>\n",
       "      <td>45.000000</td>\n",
       "    </tr>\n",
       "    <tr>\n",
       "      <td>50%</td>\n",
       "      <td>4.650000e+06</td>\n",
       "      <td>52.000000</td>\n",
       "      <td>2.000000</td>\n",
       "      <td>2.650000</td>\n",
       "      <td>9.000000</td>\n",
       "      <td>30.000000</td>\n",
       "      <td>4.000000</td>\n",
       "      <td>9.100000</td>\n",
       "      <td>13098.500000</td>\n",
       "      <td>95.000000</td>\n",
       "    </tr>\n",
       "    <tr>\n",
       "      <td>75%</td>\n",
       "      <td>6.800000e+06</td>\n",
       "      <td>69.900000</td>\n",
       "      <td>3.000000</td>\n",
       "      <td>2.800000</td>\n",
       "      <td>16.000000</td>\n",
       "      <td>42.300000</td>\n",
       "      <td>8.000000</td>\n",
       "      <td>12.000000</td>\n",
       "      <td>16293.000000</td>\n",
       "      <td>232.000000</td>\n",
       "    </tr>\n",
       "    <tr>\n",
       "      <td>max</td>\n",
       "      <td>7.630000e+08</td>\n",
       "      <td>900.000000</td>\n",
       "      <td>19.000000</td>\n",
       "      <td>100.000000</td>\n",
       "      <td>60.000000</td>\n",
       "      <td>409.700000</td>\n",
       "      <td>33.000000</td>\n",
       "      <td>112.000000</td>\n",
       "      <td>65968.000000</td>\n",
       "      <td>1580.000000</td>\n",
       "    </tr>\n",
       "  </tbody>\n",
       "</table>\n",
       "</div>"
      ],
      "text/plain": [
       "         last_price    total_area         rooms  ceiling_height  floors_total  \\\n",
       "count  2.369900e+04  23699.000000  23699.000000    14504.000000  23613.000000   \n",
       "mean   6.541549e+06     60.348651      2.070636        2.771499     10.673824   \n",
       "std    1.088701e+07     35.654083      1.078405        1.261056      6.597173   \n",
       "min    1.219000e+04     12.000000      0.000000        1.000000      1.000000   \n",
       "25%    3.400000e+06     40.000000      1.000000        2.520000      5.000000   \n",
       "50%    4.650000e+06     52.000000      2.000000        2.650000      9.000000   \n",
       "75%    6.800000e+06     69.900000      3.000000        2.800000     16.000000   \n",
       "max    7.630000e+08    900.000000     19.000000      100.000000     60.000000   \n",
       "\n",
       "        living_area         floor  kitchen_area  city_centers_nearest  \\\n",
       "count  21796.000000  23699.000000  21421.000000          18180.000000   \n",
       "mean      34.457852      5.892358     10.569807          14191.277833   \n",
       "std       22.030445      4.885249      5.905438           8608.386210   \n",
       "min        2.000000      1.000000      1.300000            181.000000   \n",
       "25%       18.600000      2.000000      7.000000           9238.000000   \n",
       "50%       30.000000      4.000000      9.100000          13098.500000   \n",
       "75%       42.300000      8.000000     12.000000          16293.000000   \n",
       "max      409.700000     33.000000    112.000000          65968.000000   \n",
       "\n",
       "       days_exposition  \n",
       "count     20518.000000  \n",
       "mean        180.888634  \n",
       "std         219.727988  \n",
       "min           1.000000  \n",
       "25%          45.000000  \n",
       "50%          95.000000  \n",
       "75%         232.000000  \n",
       "max        1580.000000  "
      ]
     },
     "execution_count": 127,
     "metadata": {},
     "output_type": "execute_result"
    }
   ],
   "source": [
    "df.describe() #посмотрим на значения столбцов датафрейма"
   ]
  },
  {
   "cell_type": "markdown",
   "metadata": {},
   "source": [
    "Стандартное отклонение в столбцах last_price, total_area, living_area, kitchen_area, rooms, ceiling_height отличается от среднего, что говорит о возможных выбросах. Посмотрим на каждый столбец подробнее построив гистограммы и диаграммы размаха."
   ]
  },
  {
   "cell_type": "code",
   "execution_count": 128,
   "metadata": {},
   "outputs": [
    {
     "data": {
      "image/png": "[encoded data removed]",
      "text/plain": [
       "<Figure size 432x288 with 1 Axes>"
      ]
     },
     "metadata": {
      "needs_background": "light"
     },
     "output_type": "display_data"
    }
   ],
   "source": [
    "df['last_price'].hist(bins=150, range=(0, 2*10e+6))\n",
    "plt.title(\"Цена на момент снятия с публикации\") \n",
    "plt.show()"
   ]
  },
  {
   "cell_type": "code",
   "execution_count": 129,
   "metadata": {},
   "outputs": [
    {
     "data": {
      "image/png": "[encoded data removed]",
      "text/plain": [
       "<Figure size 432x288 with 1 Axes>"
      ]
     },
     "metadata": {
      "needs_background": "light"
     },
     "output_type": "display_data"
    }
   ],
   "source": [
    "df.boxplot(['last_price'])\n",
    "plt.title(\"Цена на момент снятия с публикации\") \n",
    "plt.show()"
   ]
  },
  {
   "cell_type": "markdown",
   "metadata": {},
   "source": [
    "По диаграмме размаха виден выброс. Посмотрим на значения столбца, отсортировав по убыванию."
   ]
  },
  {
   "cell_type": "code",
   "execution_count": 130,
   "metadata": {
    "scrolled": true
   },
   "outputs": [
    {
     "data": {
      "text/html": [
       "<div>\n",
       "<style scoped>\n",
       "    .dataframe tbody tr th:only-of-type {\n",
       "        vertical-align: middle;\n",
       "    }\n",
       "\n",
       "    .dataframe tbody tr th {\n",
       "        vertical-align: top;\n",
       "    }\n",
       "\n",
       "    .dataframe thead th {\n",
       "        text-align: right;\n",
       "    }\n",
       "</style>\n",
       "<table border=\"1\" class=\"dataframe\">\n",
       "  <thead>\n",
       "    <tr style=\"text-align: right;\">\n",
       "      <th></th>\n",
       "      <th>last_price</th>\n",
       "      <th>total_area</th>\n",
       "      <th>first_day_exposition</th>\n",
       "      <th>rooms</th>\n",
       "      <th>ceiling_height</th>\n",
       "      <th>floors_total</th>\n",
       "      <th>living_area</th>\n",
       "      <th>floor</th>\n",
       "      <th>kitchen_area</th>\n",
       "      <th>locality_name</th>\n",
       "      <th>city_centers_nearest</th>\n",
       "      <th>days_exposition</th>\n",
       "    </tr>\n",
       "  </thead>\n",
       "  <tbody>\n",
       "    <tr>\n",
       "      <td>12971</td>\n",
       "      <td>763000000.0</td>\n",
       "      <td>400.0</td>\n",
       "      <td>2017-09-30</td>\n",
       "      <td>7</td>\n",
       "      <td>NaN</td>\n",
       "      <td>10.0</td>\n",
       "      <td>250.0</td>\n",
       "      <td>10</td>\n",
       "      <td>NaN</td>\n",
       "      <td>Санкт-Петербург</td>\n",
       "      <td>3956.0</td>\n",
       "      <td>33.0</td>\n",
       "    </tr>\n",
       "    <tr>\n",
       "      <td>19540</td>\n",
       "      <td>420000000.0</td>\n",
       "      <td>900.0</td>\n",
       "      <td>2017-12-06</td>\n",
       "      <td>12</td>\n",
       "      <td>2.8</td>\n",
       "      <td>25.0</td>\n",
       "      <td>409.7</td>\n",
       "      <td>25</td>\n",
       "      <td>112.0</td>\n",
       "      <td>Санкт-Петербург</td>\n",
       "      <td>7877.0</td>\n",
       "      <td>106.0</td>\n",
       "    </tr>\n",
       "    <tr>\n",
       "      <td>14706</td>\n",
       "      <td>401300000.0</td>\n",
       "      <td>401.0</td>\n",
       "      <td>2016-02-20</td>\n",
       "      <td>5</td>\n",
       "      <td>NaN</td>\n",
       "      <td>9.0</td>\n",
       "      <td>204.0</td>\n",
       "      <td>9</td>\n",
       "      <td>24.0</td>\n",
       "      <td>Санкт-Петербург</td>\n",
       "      <td>2389.0</td>\n",
       "      <td>393.0</td>\n",
       "    </tr>\n",
       "    <tr>\n",
       "      <td>1436</td>\n",
       "      <td>330000000.0</td>\n",
       "      <td>190.0</td>\n",
       "      <td>2018-04-04</td>\n",
       "      <td>3</td>\n",
       "      <td>3.5</td>\n",
       "      <td>7.0</td>\n",
       "      <td>95.0</td>\n",
       "      <td>5</td>\n",
       "      <td>40.0</td>\n",
       "      <td>Санкт-Петербург</td>\n",
       "      <td>1197.0</td>\n",
       "      <td>233.0</td>\n",
       "    </tr>\n",
       "    <tr>\n",
       "      <td>15651</td>\n",
       "      <td>300000000.0</td>\n",
       "      <td>618.0</td>\n",
       "      <td>2017-12-18</td>\n",
       "      <td>7</td>\n",
       "      <td>3.4</td>\n",
       "      <td>7.0</td>\n",
       "      <td>258.0</td>\n",
       "      <td>5</td>\n",
       "      <td>70.0</td>\n",
       "      <td>Санкт-Петербург</td>\n",
       "      <td>5297.0</td>\n",
       "      <td>111.0</td>\n",
       "    </tr>\n",
       "  </tbody>\n",
       "</table>\n",
       "</div>"
      ],
      "text/plain": [
       "        last_price  total_area first_day_exposition  rooms  ceiling_height  \\\n",
       "12971  763000000.0       400.0           2017-09-30      7             NaN   \n",
       "19540  420000000.0       900.0           2017-12-06     12             2.8   \n",
       "14706  401300000.0       401.0           2016-02-20      5             NaN   \n",
       "1436   330000000.0       190.0           2018-04-04      3             3.5   \n",
       "15651  300000000.0       618.0           2017-12-18      7             3.4   \n",
       "\n",
       "       floors_total  living_area  floor  kitchen_area    locality_name  \\\n",
       "12971          10.0        250.0     10           NaN  Санкт-Петербург   \n",
       "19540          25.0        409.7     25         112.0  Санкт-Петербург   \n",
       "14706           9.0        204.0      9          24.0  Санкт-Петербург   \n",
       "1436            7.0         95.0      5          40.0  Санкт-Петербург   \n",
       "15651           7.0        258.0      5          70.0  Санкт-Петербург   \n",
       "\n",
       "       city_centers_nearest  days_exposition  \n",
       "12971                3956.0             33.0  \n",
       "19540                7877.0            106.0  \n",
       "14706                2389.0            393.0  \n",
       "1436                 1197.0            233.0  \n",
       "15651                5297.0            111.0  "
      ]
     },
     "execution_count": 130,
     "metadata": {},
     "output_type": "execute_result"
    }
   ],
   "source": [
    "df.sort_values(by=['last_price'], ascending=False).head()"
   ]
  },
  {
   "cell_type": "markdown",
   "metadata": {},
   "source": [
    "В столбце last_price выбросом можно считать значение 763000000, поскольку значения ниже 400000000 идут последовательно."
   ]
  },
  {
   "cell_type": "code",
   "execution_count": 131,
   "metadata": {},
   "outputs": [
    {
     "data": {
      "image/png": "[encoded data removed]",
      "text/plain": [
       "<Figure size 432x288 with 1 Axes>"
      ]
     },
     "metadata": {
      "needs_background": "light"
     },
     "output_type": "display_data"
    }
   ],
   "source": [
    "df['living_area'].hist(bins=100, range=(0, 400))\n",
    "plt.title(\"Жилая площадь в квадратных метрах\") \n",
    "plt.show()"
   ]
  },
  {
   "cell_type": "code",
   "execution_count": 132,
   "metadata": {},
   "outputs": [
    {
     "data": {
      "image/png": "[encoded data removed]",
      "text/plain": [
       "<Figure size 432x288 with 1 Axes>"
      ]
     },
     "metadata": {
      "needs_background": "light"
     },
     "output_type": "display_data"
    }
   ],
   "source": [
    "df.boxplot(['living_area'])\n",
    "plt.title(\"Жилая площадь в квадратных метрах\") \n",
    "plt.show()"
   ]
  },
  {
   "cell_type": "code",
   "execution_count": 133,
   "metadata": {},
   "outputs": [
    {
     "data": {
      "text/html": [
       "<div>\n",
       "<style scoped>\n",
       "    .dataframe tbody tr th:only-of-type {\n",
       "        vertical-align: middle;\n",
       "    }\n",
       "\n",
       "    .dataframe tbody tr th {\n",
       "        vertical-align: top;\n",
       "    }\n",
       "\n",
       "    .dataframe thead th {\n",
       "        text-align: right;\n",
       "    }\n",
       "</style>\n",
       "<table border=\"1\" class=\"dataframe\">\n",
       "  <thead>\n",
       "    <tr style=\"text-align: right;\">\n",
       "      <th></th>\n",
       "      <th>last_price</th>\n",
       "      <th>total_area</th>\n",
       "      <th>first_day_exposition</th>\n",
       "      <th>rooms</th>\n",
       "      <th>ceiling_height</th>\n",
       "      <th>floors_total</th>\n",
       "      <th>living_area</th>\n",
       "      <th>floor</th>\n",
       "      <th>kitchen_area</th>\n",
       "      <th>locality_name</th>\n",
       "      <th>city_centers_nearest</th>\n",
       "      <th>days_exposition</th>\n",
       "    </tr>\n",
       "  </thead>\n",
       "  <tbody>\n",
       "    <tr>\n",
       "      <td>19540</td>\n",
       "      <td>420000000.0</td>\n",
       "      <td>900.0</td>\n",
       "      <td>2017-12-06</td>\n",
       "      <td>12</td>\n",
       "      <td>2.80</td>\n",
       "      <td>25.0</td>\n",
       "      <td>409.7</td>\n",
       "      <td>25</td>\n",
       "      <td>112.0</td>\n",
       "      <td>Санкт-Петербург</td>\n",
       "      <td>7877.0</td>\n",
       "      <td>106.0</td>\n",
       "    </tr>\n",
       "    <tr>\n",
       "      <td>5358</td>\n",
       "      <td>65000000.0</td>\n",
       "      <td>590.0</td>\n",
       "      <td>2019-02-14</td>\n",
       "      <td>15</td>\n",
       "      <td>3.50</td>\n",
       "      <td>6.0</td>\n",
       "      <td>409.0</td>\n",
       "      <td>3</td>\n",
       "      <td>100.0</td>\n",
       "      <td>Санкт-Петербург</td>\n",
       "      <td>4666.0</td>\n",
       "      <td>14.0</td>\n",
       "    </tr>\n",
       "    <tr>\n",
       "      <td>12401</td>\n",
       "      <td>91500000.0</td>\n",
       "      <td>495.0</td>\n",
       "      <td>2017-06-19</td>\n",
       "      <td>7</td>\n",
       "      <td>4.65</td>\n",
       "      <td>7.0</td>\n",
       "      <td>347.5</td>\n",
       "      <td>7</td>\n",
       "      <td>25.0</td>\n",
       "      <td>Санкт-Петербург</td>\n",
       "      <td>5735.0</td>\n",
       "      <td>14.0</td>\n",
       "    </tr>\n",
       "    <tr>\n",
       "      <td>4237</td>\n",
       "      <td>50000000.0</td>\n",
       "      <td>517.0</td>\n",
       "      <td>2017-10-14</td>\n",
       "      <td>7</td>\n",
       "      <td>NaN</td>\n",
       "      <td>4.0</td>\n",
       "      <td>332.0</td>\n",
       "      <td>3</td>\n",
       "      <td>22.0</td>\n",
       "      <td>Санкт-Петербург</td>\n",
       "      <td>1847.0</td>\n",
       "      <td>NaN</td>\n",
       "    </tr>\n",
       "    <tr>\n",
       "      <td>12859</td>\n",
       "      <td>140000000.0</td>\n",
       "      <td>631.2</td>\n",
       "      <td>2019-04-09</td>\n",
       "      <td>7</td>\n",
       "      <td>3.90</td>\n",
       "      <td>4.0</td>\n",
       "      <td>322.3</td>\n",
       "      <td>4</td>\n",
       "      <td>19.5</td>\n",
       "      <td>Санкт-Петербург</td>\n",
       "      <td>4972.0</td>\n",
       "      <td>NaN</td>\n",
       "    </tr>\n",
       "  </tbody>\n",
       "</table>\n",
       "</div>"
      ],
      "text/plain": [
       "        last_price  total_area first_day_exposition  rooms  ceiling_height  \\\n",
       "19540  420000000.0       900.0           2017-12-06     12            2.80   \n",
       "5358    65000000.0       590.0           2019-02-14     15            3.50   \n",
       "12401   91500000.0       495.0           2017-06-19      7            4.65   \n",
       "4237    50000000.0       517.0           2017-10-14      7             NaN   \n",
       "12859  140000000.0       631.2           2019-04-09      7            3.90   \n",
       "\n",
       "       floors_total  living_area  floor  kitchen_area    locality_name  \\\n",
       "19540          25.0        409.7     25         112.0  Санкт-Петербург   \n",
       "5358            6.0        409.0      3         100.0  Санкт-Петербург   \n",
       "12401           7.0        347.5      7          25.0  Санкт-Петербург   \n",
       "4237            4.0        332.0      3          22.0  Санкт-Петербург   \n",
       "12859           4.0        322.3      4          19.5  Санкт-Петербург   \n",
       "\n",
       "       city_centers_nearest  days_exposition  \n",
       "19540                7877.0            106.0  \n",
       "5358                 4666.0             14.0  \n",
       "12401                5735.0             14.0  \n",
       "4237                 1847.0              NaN  \n",
       "12859                4972.0              NaN  "
      ]
     },
     "execution_count": 133,
     "metadata": {},
     "output_type": "execute_result"
    }
   ],
   "source": [
    "df.sort_values(by=['living_area'], ascending=False).head()"
   ]
  },
  {
   "cell_type": "markdown",
   "metadata": {},
   "source": [
    "В столбце living_area значения 409,7 и 409 стоят достаточно обособленно, отдельной точн=кой на диаграмме размахе. Думаю их тоже можно признать выбросами."
   ]
  },
  {
   "cell_type": "code",
   "execution_count": 134,
   "metadata": {},
   "outputs": [
    {
     "data": {
      "image/png": "[encoded data removed]",
      "text/plain": [
       "<Figure size 432x288 with 1 Axes>"
      ]
     },
     "metadata": {
      "needs_background": "light"
     },
     "output_type": "display_data"
    }
   ],
   "source": [
    "df['kitchen_area'].hist(bins=100, range=(0, 100))\n",
    "plt.title(\"Площадь кухни в квадратных метрах \") \n",
    "plt.show()"
   ]
  },
  {
   "cell_type": "code",
   "execution_count": 135,
   "metadata": {},
   "outputs": [
    {
     "data": {
      "image/png": "[encoded data removed]",
      "text/plain": [
       "<Figure size 432x288 with 1 Axes>"
      ]
     },
     "metadata": {
      "needs_background": "light"
     },
     "output_type": "display_data"
    }
   ],
   "source": [
    "df.boxplot(['kitchen_area'])\n",
    "plt.title(\"Площадь кухни в квадратных метрах \") \n",
    "plt.show()"
   ]
  },
  {
   "cell_type": "code",
   "execution_count": 21,
   "metadata": {
    "scrolled": true
   },
   "outputs": [
    {
     "data": {},
     "execution_count": 21,
     "metadata": {},
     "output_type": "execute_result"
    }
   ],
   "source": [
    "df.sort_values(by=['kitchen_area'], ascending=False).head()"
   ]
  },
  {
   "cell_type": "markdown",
   "metadata": {},
   "source": [
    "В столбце kitchen_area особо нет выбросов, более менее значения идут последовательно. Точки на диаграмме размаха отражаются равномерно рядышком."
   ]
  },
  {
   "cell_type": "code",
   "execution_count": 136,
   "metadata": {
    "scrolled": true
   },
   "outputs": [
    {
     "data": {
      "image/png": "[encoded data removed]",
      "text/plain": [
       "<Figure size 432x288 with 1 Axes>"
      ]
     },
     "metadata": {
      "needs_background": "light"
     },
     "output_type": "display_data"
    }
   ],
   "source": [
    "df['total_area'].hist(bins=100, range=(0, 800))\n",
    "plt.title(\"Площадь квартиры в квадратных метрах\") \n",
    "plt.show()"
   ]
  },
  {
   "cell_type": "code",
   "execution_count": 137,
   "metadata": {},
   "outputs": [
    {
     "data": {
      "image/png": "[encoded data removed]",
      "text/plain": [
       "<Figure size 432x288 with 1 Axes>"
      ]
     },
     "metadata": {
      "needs_background": "light"
     },
     "output_type": "display_data"
    }
   ],
   "source": [
    "df.boxplot(['total_area'])\n",
    "plt.title(\"Площадь квартиры в квадратных метрах\") \n",
    "plt.show()"
   ]
  },
  {
   "cell_type": "code",
   "execution_count": 138,
   "metadata": {},
   "outputs": [
    {
     "data": {
      "text/html": [
       "<div>\n",
       "<style scoped>\n",
       "    .dataframe tbody tr th:only-of-type {\n",
       "        vertical-align: middle;\n",
       "    }\n",
       "\n",
       "    .dataframe tbody tr th {\n",
       "        vertical-align: top;\n",
       "    }\n",
       "\n",
       "    .dataframe thead th {\n",
       "        text-align: right;\n",
       "    }\n",
       "</style>\n",
       "<table border=\"1\" class=\"dataframe\">\n",
       "  <thead>\n",
       "    <tr style=\"text-align: right;\">\n",
       "      <th></th>\n",
       "      <th>last_price</th>\n",
       "      <th>total_area</th>\n",
       "      <th>first_day_exposition</th>\n",
       "      <th>rooms</th>\n",
       "      <th>ceiling_height</th>\n",
       "      <th>floors_total</th>\n",
       "      <th>living_area</th>\n",
       "      <th>floor</th>\n",
       "      <th>kitchen_area</th>\n",
       "      <th>locality_name</th>\n",
       "      <th>city_centers_nearest</th>\n",
       "      <th>days_exposition</th>\n",
       "    </tr>\n",
       "  </thead>\n",
       "  <tbody>\n",
       "    <tr>\n",
       "      <td>19540</td>\n",
       "      <td>420000000.0</td>\n",
       "      <td>900.0</td>\n",
       "      <td>2017-12-06</td>\n",
       "      <td>12</td>\n",
       "      <td>2.8</td>\n",
       "      <td>25.0</td>\n",
       "      <td>409.7</td>\n",
       "      <td>25</td>\n",
       "      <td>112.0</td>\n",
       "      <td>Санкт-Петербург</td>\n",
       "      <td>7877.0</td>\n",
       "      <td>106.0</td>\n",
       "    </tr>\n",
       "    <tr>\n",
       "      <td>12859</td>\n",
       "      <td>140000000.0</td>\n",
       "      <td>631.2</td>\n",
       "      <td>2019-04-09</td>\n",
       "      <td>7</td>\n",
       "      <td>3.9</td>\n",
       "      <td>4.0</td>\n",
       "      <td>322.3</td>\n",
       "      <td>4</td>\n",
       "      <td>19.5</td>\n",
       "      <td>Санкт-Петербург</td>\n",
       "      <td>4972.0</td>\n",
       "      <td>NaN</td>\n",
       "    </tr>\n",
       "    <tr>\n",
       "      <td>3117</td>\n",
       "      <td>140000000.0</td>\n",
       "      <td>631.0</td>\n",
       "      <td>2019-03-30</td>\n",
       "      <td>7</td>\n",
       "      <td>NaN</td>\n",
       "      <td>5.0</td>\n",
       "      <td>NaN</td>\n",
       "      <td>5</td>\n",
       "      <td>60.0</td>\n",
       "      <td>Санкт-Петербург</td>\n",
       "      <td>4972.0</td>\n",
       "      <td>NaN</td>\n",
       "    </tr>\n",
       "    <tr>\n",
       "      <td>15651</td>\n",
       "      <td>300000000.0</td>\n",
       "      <td>618.0</td>\n",
       "      <td>2017-12-18</td>\n",
       "      <td>7</td>\n",
       "      <td>3.4</td>\n",
       "      <td>7.0</td>\n",
       "      <td>258.0</td>\n",
       "      <td>5</td>\n",
       "      <td>70.0</td>\n",
       "      <td>Санкт-Петербург</td>\n",
       "      <td>5297.0</td>\n",
       "      <td>111.0</td>\n",
       "    </tr>\n",
       "    <tr>\n",
       "      <td>5358</td>\n",
       "      <td>65000000.0</td>\n",
       "      <td>590.0</td>\n",
       "      <td>2019-02-14</td>\n",
       "      <td>15</td>\n",
       "      <td>3.5</td>\n",
       "      <td>6.0</td>\n",
       "      <td>409.0</td>\n",
       "      <td>3</td>\n",
       "      <td>100.0</td>\n",
       "      <td>Санкт-Петербург</td>\n",
       "      <td>4666.0</td>\n",
       "      <td>14.0</td>\n",
       "    </tr>\n",
       "  </tbody>\n",
       "</table>\n",
       "</div>"
      ],
      "text/plain": [
       "        last_price  total_area first_day_exposition  rooms  ceiling_height  \\\n",
       "19540  420000000.0       900.0           2017-12-06     12             2.8   \n",
       "12859  140000000.0       631.2           2019-04-09      7             3.9   \n",
       "3117   140000000.0       631.0           2019-03-30      7             NaN   \n",
       "15651  300000000.0       618.0           2017-12-18      7             3.4   \n",
       "5358    65000000.0       590.0           2019-02-14     15             3.5   \n",
       "\n",
       "       floors_total  living_area  floor  kitchen_area    locality_name  \\\n",
       "19540          25.0        409.7     25         112.0  Санкт-Петербург   \n",
       "12859           4.0        322.3      4          19.5  Санкт-Петербург   \n",
       "3117            5.0          NaN      5          60.0  Санкт-Петербург   \n",
       "15651           7.0        258.0      5          70.0  Санкт-Петербург   \n",
       "5358            6.0        409.0      3         100.0  Санкт-Петербург   \n",
       "\n",
       "       city_centers_nearest  days_exposition  \n",
       "19540                7877.0            106.0  \n",
       "12859                4972.0              NaN  \n",
       "3117                 4972.0              NaN  \n",
       "15651                5297.0            111.0  \n",
       "5358                 4666.0             14.0  "
      ]
     },
     "execution_count": 138,
     "metadata": {},
     "output_type": "execute_result"
    }
   ],
   "source": [
    "df.sort_values(by=['total_area'], ascending=False).head()"
   ]
  },
  {
   "cell_type": "markdown",
   "metadata": {},
   "source": [
    "А вот в столбце total_area явно есть выброс, отдельная точка на диаграмме размаха со значением 900."
   ]
  },
  {
   "cell_type": "code",
   "execution_count": 139,
   "metadata": {},
   "outputs": [
    {
     "data": {
      "image/png": "[encoded data removed]",
      "text/plain": [
       "<Figure size 432x288 with 1 Axes>"
      ]
     },
     "metadata": {
      "needs_background": "light"
     },
     "output_type": "display_data"
    }
   ],
   "source": [
    "df['rooms'].hist(bins=100, range=(0, 20))\n",
    "plt.title(\"Число комнат\") \n",
    "plt.show()"
   ]
  },
  {
   "cell_type": "code",
   "execution_count": 140,
   "metadata": {},
   "outputs": [
    {
     "data": {
      "image/png": "[encoded data removed]",
      "text/plain": [
       "<Figure size 432x288 with 1 Axes>"
      ]
     },
     "metadata": {
      "needs_background": "light"
     },
     "output_type": "display_data"
    }
   ],
   "source": [
    "df.boxplot(['rooms'])\n",
    "plt.title(\"Число комнат\") \n",
    "plt.show()"
   ]
  },
  {
   "cell_type": "code",
   "execution_count": 141,
   "metadata": {},
   "outputs": [
    {
     "data": {
      "text/html": [
       "<div>\n",
       "<style scoped>\n",
       "    .dataframe tbody tr th:only-of-type {\n",
       "        vertical-align: middle;\n",
       "    }\n",
       "\n",
       "    .dataframe tbody tr th {\n",
       "        vertical-align: top;\n",
       "    }\n",
       "\n",
       "    .dataframe thead th {\n",
       "        text-align: right;\n",
       "    }\n",
       "</style>\n",
       "<table border=\"1\" class=\"dataframe\">\n",
       "  <thead>\n",
       "    <tr style=\"text-align: right;\">\n",
       "      <th></th>\n",
       "      <th>last_price</th>\n",
       "      <th>total_area</th>\n",
       "      <th>first_day_exposition</th>\n",
       "      <th>rooms</th>\n",
       "      <th>ceiling_height</th>\n",
       "      <th>floors_total</th>\n",
       "      <th>living_area</th>\n",
       "      <th>floor</th>\n",
       "      <th>kitchen_area</th>\n",
       "      <th>locality_name</th>\n",
       "      <th>city_centers_nearest</th>\n",
       "      <th>days_exposition</th>\n",
       "    </tr>\n",
       "  </thead>\n",
       "  <tbody>\n",
       "    <tr>\n",
       "      <td>14498</td>\n",
       "      <td>32250000.0</td>\n",
       "      <td>374.6</td>\n",
       "      <td>2018-06-09</td>\n",
       "      <td>19</td>\n",
       "      <td>NaN</td>\n",
       "      <td>5.0</td>\n",
       "      <td>264.5</td>\n",
       "      <td>2</td>\n",
       "      <td>27.6</td>\n",
       "      <td>Санкт-Петербург</td>\n",
       "      <td>3574.0</td>\n",
       "      <td>114.0</td>\n",
       "    </tr>\n",
       "    <tr>\n",
       "      <td>18848</td>\n",
       "      <td>28500000.0</td>\n",
       "      <td>270.0</td>\n",
       "      <td>2015-03-02</td>\n",
       "      <td>16</td>\n",
       "      <td>3.00</td>\n",
       "      <td>4.0</td>\n",
       "      <td>180.0</td>\n",
       "      <td>4</td>\n",
       "      <td>13.0</td>\n",
       "      <td>Санкт-Петербург</td>\n",
       "      <td>4142.0</td>\n",
       "      <td>1365.0</td>\n",
       "    </tr>\n",
       "    <tr>\n",
       "      <td>5358</td>\n",
       "      <td>65000000.0</td>\n",
       "      <td>590.0</td>\n",
       "      <td>2019-02-14</td>\n",
       "      <td>15</td>\n",
       "      <td>3.50</td>\n",
       "      <td>6.0</td>\n",
       "      <td>409.0</td>\n",
       "      <td>3</td>\n",
       "      <td>100.0</td>\n",
       "      <td>Санкт-Петербург</td>\n",
       "      <td>4666.0</td>\n",
       "      <td>14.0</td>\n",
       "    </tr>\n",
       "    <tr>\n",
       "      <td>20829</td>\n",
       "      <td>28659000.0</td>\n",
       "      <td>245.4</td>\n",
       "      <td>2016-03-31</td>\n",
       "      <td>14</td>\n",
       "      <td>NaN</td>\n",
       "      <td>4.0</td>\n",
       "      <td>168.3</td>\n",
       "      <td>2</td>\n",
       "      <td>25.9</td>\n",
       "      <td>Санкт-Петербург</td>\n",
       "      <td>2054.0</td>\n",
       "      <td>95.0</td>\n",
       "    </tr>\n",
       "    <tr>\n",
       "      <td>866</td>\n",
       "      <td>25000000.0</td>\n",
       "      <td>363.0</td>\n",
       "      <td>2017-12-23</td>\n",
       "      <td>14</td>\n",
       "      <td>3.16</td>\n",
       "      <td>5.0</td>\n",
       "      <td>222.0</td>\n",
       "      <td>4</td>\n",
       "      <td>16.6</td>\n",
       "      <td>Санкт-Петербург</td>\n",
       "      <td>7950.0</td>\n",
       "      <td>418.0</td>\n",
       "    </tr>\n",
       "  </tbody>\n",
       "</table>\n",
       "</div>"
      ],
      "text/plain": [
       "       last_price  total_area first_day_exposition  rooms  ceiling_height  \\\n",
       "14498  32250000.0       374.6           2018-06-09     19             NaN   \n",
       "18848  28500000.0       270.0           2015-03-02     16            3.00   \n",
       "5358   65000000.0       590.0           2019-02-14     15            3.50   \n",
       "20829  28659000.0       245.4           2016-03-31     14             NaN   \n",
       "866    25000000.0       363.0           2017-12-23     14            3.16   \n",
       "\n",
       "       floors_total  living_area  floor  kitchen_area    locality_name  \\\n",
       "14498           5.0        264.5      2          27.6  Санкт-Петербург   \n",
       "18848           4.0        180.0      4          13.0  Санкт-Петербург   \n",
       "5358            6.0        409.0      3         100.0  Санкт-Петербург   \n",
       "20829           4.0        168.3      2          25.9  Санкт-Петербург   \n",
       "866             5.0        222.0      4          16.6  Санкт-Петербург   \n",
       "\n",
       "       city_centers_nearest  days_exposition  \n",
       "14498                3574.0            114.0  \n",
       "18848                4142.0           1365.0  \n",
       "5358                 4666.0             14.0  \n",
       "20829                2054.0             95.0  \n",
       "866                  7950.0            418.0  "
      ]
     },
     "execution_count": 141,
     "metadata": {},
     "output_type": "execute_result"
    }
   ],
   "source": [
    "df.sort_values(by=['rooms'], ascending=False).head()"
   ]
  },
  {
   "cell_type": "markdown",
   "metadata": {},
   "source": [
    "Здесь тоже есть небольшой выброс со значением 19."
   ]
  },
  {
   "cell_type": "code",
   "execution_count": 142,
   "metadata": {},
   "outputs": [
    {
     "data": {
      "image/png": "[encoded data removed]",
      "text/plain": [
       "<Figure size 432x288 with 1 Axes>"
      ]
     },
     "metadata": {
      "needs_background": "light"
     },
     "output_type": "display_data"
    }
   ],
   "source": [
    "df['ceiling_height'].hist(bins=100, range=(0, 100))\n",
    "plt.title(\"Высота потолков\") \n",
    "plt.show()"
   ]
  },
  {
   "cell_type": "code",
   "execution_count": 143,
   "metadata": {},
   "outputs": [
    {
     "data": {
      "image/png": "[encoded data removed]",
      "text/plain": [
       "<Figure size 432x288 with 1 Axes>"
      ]
     },
     "metadata": {
      "needs_background": "light"
     },
     "output_type": "display_data"
    }
   ],
   "source": [
    "df.boxplot(['ceiling_height'])\n",
    "plt.title(\"Высота потолков\") \n",
    "plt.show()"
   ]
  },
  {
   "cell_type": "code",
   "execution_count": 144,
   "metadata": {},
   "outputs": [
    {
     "data": {
      "text/html": [
       "<div>\n",
       "<style scoped>\n",
       "    .dataframe tbody tr th:only-of-type {\n",
       "        vertical-align: middle;\n",
       "    }\n",
       "\n",
       "    .dataframe tbody tr th {\n",
       "        vertical-align: top;\n",
       "    }\n",
       "\n",
       "    .dataframe thead th {\n",
       "        text-align: right;\n",
       "    }\n",
       "</style>\n",
       "<table border=\"1\" class=\"dataframe\">\n",
       "  <thead>\n",
       "    <tr style=\"text-align: right;\">\n",
       "      <th></th>\n",
       "      <th>last_price</th>\n",
       "      <th>total_area</th>\n",
       "      <th>first_day_exposition</th>\n",
       "      <th>rooms</th>\n",
       "      <th>ceiling_height</th>\n",
       "      <th>floors_total</th>\n",
       "      <th>living_area</th>\n",
       "      <th>floor</th>\n",
       "      <th>kitchen_area</th>\n",
       "      <th>locality_name</th>\n",
       "      <th>city_centers_nearest</th>\n",
       "      <th>days_exposition</th>\n",
       "    </tr>\n",
       "  </thead>\n",
       "  <tbody>\n",
       "    <tr>\n",
       "      <td>22869</td>\n",
       "      <td>15000000.0</td>\n",
       "      <td>25.0</td>\n",
       "      <td>2018-07-25</td>\n",
       "      <td>1</td>\n",
       "      <td>100.0</td>\n",
       "      <td>5.0</td>\n",
       "      <td>14.0</td>\n",
       "      <td>5</td>\n",
       "      <td>11.0</td>\n",
       "      <td>Санкт-Петербург</td>\n",
       "      <td>8283.0</td>\n",
       "      <td>19.0</td>\n",
       "    </tr>\n",
       "    <tr>\n",
       "      <td>22336</td>\n",
       "      <td>9999000.0</td>\n",
       "      <td>92.4</td>\n",
       "      <td>2019-04-05</td>\n",
       "      <td>2</td>\n",
       "      <td>32.0</td>\n",
       "      <td>6.0</td>\n",
       "      <td>55.5</td>\n",
       "      <td>5</td>\n",
       "      <td>16.5</td>\n",
       "      <td>Санкт-Петербург</td>\n",
       "      <td>3506.0</td>\n",
       "      <td>NaN</td>\n",
       "    </tr>\n",
       "    <tr>\n",
       "      <td>3148</td>\n",
       "      <td>2900000.0</td>\n",
       "      <td>75.0</td>\n",
       "      <td>2018-11-12</td>\n",
       "      <td>3</td>\n",
       "      <td>32.0</td>\n",
       "      <td>3.0</td>\n",
       "      <td>53.0</td>\n",
       "      <td>2</td>\n",
       "      <td>8.0</td>\n",
       "      <td>Волхов</td>\n",
       "      <td>NaN</td>\n",
       "      <td>NaN</td>\n",
       "    </tr>\n",
       "    <tr>\n",
       "      <td>21377</td>\n",
       "      <td>4900000.0</td>\n",
       "      <td>42.0</td>\n",
       "      <td>2017-04-18</td>\n",
       "      <td>1</td>\n",
       "      <td>27.5</td>\n",
       "      <td>24.0</td>\n",
       "      <td>37.7</td>\n",
       "      <td>19</td>\n",
       "      <td>11.0</td>\n",
       "      <td>Санкт-Петербург</td>\n",
       "      <td>9760.0</td>\n",
       "      <td>61.0</td>\n",
       "    </tr>\n",
       "    <tr>\n",
       "      <td>20478</td>\n",
       "      <td>8000000.0</td>\n",
       "      <td>45.0</td>\n",
       "      <td>2017-07-18</td>\n",
       "      <td>1</td>\n",
       "      <td>27.0</td>\n",
       "      <td>4.0</td>\n",
       "      <td>22.0</td>\n",
       "      <td>2</td>\n",
       "      <td>10.0</td>\n",
       "      <td>Санкт-Петербург</td>\n",
       "      <td>3246.0</td>\n",
       "      <td>429.0</td>\n",
       "    </tr>\n",
       "  </tbody>\n",
       "</table>\n",
       "</div>"
      ],
      "text/plain": [
       "       last_price  total_area first_day_exposition  rooms  ceiling_height  \\\n",
       "22869  15000000.0        25.0           2018-07-25      1           100.0   \n",
       "22336   9999000.0        92.4           2019-04-05      2            32.0   \n",
       "3148    2900000.0        75.0           2018-11-12      3            32.0   \n",
       "21377   4900000.0        42.0           2017-04-18      1            27.5   \n",
       "20478   8000000.0        45.0           2017-07-18      1            27.0   \n",
       "\n",
       "       floors_total  living_area  floor  kitchen_area    locality_name  \\\n",
       "22869           5.0         14.0      5          11.0  Санкт-Петербург   \n",
       "22336           6.0         55.5      5          16.5  Санкт-Петербург   \n",
       "3148            3.0         53.0      2           8.0           Волхов   \n",
       "21377          24.0         37.7     19          11.0  Санкт-Петербург   \n",
       "20478           4.0         22.0      2          10.0  Санкт-Петербург   \n",
       "\n",
       "       city_centers_nearest  days_exposition  \n",
       "22869                8283.0             19.0  \n",
       "22336                3506.0              NaN  \n",
       "3148                    NaN              NaN  \n",
       "21377                9760.0             61.0  \n",
       "20478                3246.0            429.0  "
      ]
     },
     "execution_count": 144,
     "metadata": {},
     "output_type": "execute_result"
    }
   ],
   "source": [
    "df.sort_values(by=['ceiling_height'], ascending=False).head()"
   ]
  },
  {
   "cell_type": "markdown",
   "metadata": {},
   "source": [
    "Тут видно, что значение 100 показывается на графике отдельной точкой, выбросом."
   ]
  },
  {
   "cell_type": "markdown",
   "metadata": {},
   "source": [
    "<html>\n",
    "    <body>\n",
    "        <p>Итак, необходимо подвести итоги по вышепоказанным графикам: чёткие выбросы есть в столбцах ceiling_height, total_area, living_area, last_price.</p>\n",
    "        <p>Высота потолков в 100 метров с общей площадью в 25 кв.метров, очень подозрительна. Возможно какая-то техническая ошибка при внесении данных, поэтому и учитывать такие данные нельзя.<br> \n",
    "           Цена квартиры в 763 миллиона тоже очень настораживает, да и потом мало заполнено значяений, вполне возможна ошибка в данных.<br>\n",
    "           По общей площади тоже непонятно, 900 кв.метров на одном этаже и с кухней в 112 кв.метров. Больше похоже на гостиницу возможно. Такие данные не интересуют. \n",
    "           <br>А в жилой площади есть два выброса с близкими значениями в 409 и 409,7 кв.метров, также на одном этаже. Также можно взять в выброс.</p>\n",
    "        <p>Остальные столбцы не показывают сильных выбросов, поэтому и резать данные по ним, не стоит. \n",
    "            А вот убрать из датасета данные с резкими выбросами можно.</p>\n",
    "    </body>\n",
    "    </html>"
   ]
  },
  {
   "cell_type": "code",
   "execution_count": 145,
   "metadata": {
    "scrolled": true
   },
   "outputs": [
    {
     "data": {
      "text/html": [
       "<div>\n",
       "<style scoped>\n",
       "    .dataframe tbody tr th:only-of-type {\n",
       "        vertical-align: middle;\n",
       "    }\n",
       "\n",
       "    .dataframe tbody tr th {\n",
       "        vertical-align: top;\n",
       "    }\n",
       "\n",
       "    .dataframe thead th {\n",
       "        text-align: right;\n",
       "    }\n",
       "</style>\n",
       "<table border=\"1\" class=\"dataframe\">\n",
       "  <thead>\n",
       "    <tr style=\"text-align: right;\">\n",
       "      <th></th>\n",
       "      <th>last_price</th>\n",
       "      <th>total_area</th>\n",
       "      <th>rooms</th>\n",
       "      <th>ceiling_height</th>\n",
       "      <th>floors_total</th>\n",
       "      <th>living_area</th>\n",
       "      <th>floor</th>\n",
       "      <th>kitchen_area</th>\n",
       "      <th>city_centers_nearest</th>\n",
       "      <th>days_exposition</th>\n",
       "    </tr>\n",
       "  </thead>\n",
       "  <tbody>\n",
       "    <tr>\n",
       "      <td>count</td>\n",
       "      <td>1.370400e+04</td>\n",
       "      <td>13704.000000</td>\n",
       "      <td>13704.000000</td>\n",
       "      <td>13704.000000</td>\n",
       "      <td>13698.000000</td>\n",
       "      <td>13704.000000</td>\n",
       "      <td>13704.000000</td>\n",
       "      <td>13333.000000</td>\n",
       "      <td>10973.000000</td>\n",
       "      <td>11353.000000</td>\n",
       "    </tr>\n",
       "    <tr>\n",
       "      <td>mean</td>\n",
       "      <td>6.751502e+06</td>\n",
       "      <td>61.545517</td>\n",
       "      <td>2.135362</td>\n",
       "      <td>2.766107</td>\n",
       "      <td>10.197839</td>\n",
       "      <td>35.626687</td>\n",
       "      <td>5.637040</td>\n",
       "      <td>10.511664</td>\n",
       "      <td>14105.598925</td>\n",
       "      <td>192.510174</td>\n",
       "    </tr>\n",
       "    <tr>\n",
       "      <td>std</td>\n",
       "      <td>9.436799e+06</td>\n",
       "      <td>34.997247</td>\n",
       "      <td>1.089510</td>\n",
       "      <td>0.993609</td>\n",
       "      <td>6.201714</td>\n",
       "      <td>22.403996</td>\n",
       "      <td>4.617174</td>\n",
       "      <td>5.900550</td>\n",
       "      <td>8787.281443</td>\n",
       "      <td>229.089818</td>\n",
       "    </tr>\n",
       "    <tr>\n",
       "      <td>min</td>\n",
       "      <td>1.219000e+04</td>\n",
       "      <td>12.000000</td>\n",
       "      <td>0.000000</td>\n",
       "      <td>1.000000</td>\n",
       "      <td>1.000000</td>\n",
       "      <td>2.000000</td>\n",
       "      <td>1.000000</td>\n",
       "      <td>1.300000</td>\n",
       "      <td>181.000000</td>\n",
       "      <td>1.000000</td>\n",
       "    </tr>\n",
       "    <tr>\n",
       "      <td>25%</td>\n",
       "      <td>3.599750e+06</td>\n",
       "      <td>41.000000</td>\n",
       "      <td>1.000000</td>\n",
       "      <td>2.520000</td>\n",
       "      <td>5.000000</td>\n",
       "      <td>19.200000</td>\n",
       "      <td>2.000000</td>\n",
       "      <td>7.000000</td>\n",
       "      <td>9148.000000</td>\n",
       "      <td>45.000000</td>\n",
       "    </tr>\n",
       "    <tr>\n",
       "      <td>50%</td>\n",
       "      <td>4.850000e+06</td>\n",
       "      <td>53.400000</td>\n",
       "      <td>2.000000</td>\n",
       "      <td>2.650000</td>\n",
       "      <td>9.000000</td>\n",
       "      <td>30.800000</td>\n",
       "      <td>4.000000</td>\n",
       "      <td>9.000000</td>\n",
       "      <td>12990.000000</td>\n",
       "      <td>106.000000</td>\n",
       "    </tr>\n",
       "    <tr>\n",
       "      <td>75%</td>\n",
       "      <td>7.000000e+06</td>\n",
       "      <td>71.340000</td>\n",
       "      <td>3.000000</td>\n",
       "      <td>2.800000</td>\n",
       "      <td>14.000000</td>\n",
       "      <td>43.300000</td>\n",
       "      <td>7.000000</td>\n",
       "      <td>12.000000</td>\n",
       "      <td>16032.000000</td>\n",
       "      <td>251.000000</td>\n",
       "    </tr>\n",
       "    <tr>\n",
       "      <td>max</td>\n",
       "      <td>3.300000e+08</td>\n",
       "      <td>631.200000</td>\n",
       "      <td>16.000000</td>\n",
       "      <td>32.000000</td>\n",
       "      <td>60.000000</td>\n",
       "      <td>347.500000</td>\n",
       "      <td>30.000000</td>\n",
       "      <td>93.200000</td>\n",
       "      <td>65968.000000</td>\n",
       "      <td>1580.000000</td>\n",
       "    </tr>\n",
       "  </tbody>\n",
       "</table>\n",
       "</div>"
      ],
      "text/plain": [
       "         last_price    total_area         rooms  ceiling_height  floors_total  \\\n",
       "count  1.370400e+04  13704.000000  13704.000000    13704.000000  13698.000000   \n",
       "mean   6.751502e+06     61.545517      2.135362        2.766107     10.197839   \n",
       "std    9.436799e+06     34.997247      1.089510        0.993609      6.201714   \n",
       "min    1.219000e+04     12.000000      0.000000        1.000000      1.000000   \n",
       "25%    3.599750e+06     41.000000      1.000000        2.520000      5.000000   \n",
       "50%    4.850000e+06     53.400000      2.000000        2.650000      9.000000   \n",
       "75%    7.000000e+06     71.340000      3.000000        2.800000     14.000000   \n",
       "max    3.300000e+08    631.200000     16.000000       32.000000     60.000000   \n",
       "\n",
       "        living_area         floor  kitchen_area  city_centers_nearest  \\\n",
       "count  13704.000000  13704.000000  13333.000000          10973.000000   \n",
       "mean      35.626687      5.637040     10.511664          14105.598925   \n",
       "std       22.403996      4.617174      5.900550           8787.281443   \n",
       "min        2.000000      1.000000      1.300000            181.000000   \n",
       "25%       19.200000      2.000000      7.000000           9148.000000   \n",
       "50%       30.800000      4.000000      9.000000          12990.000000   \n",
       "75%       43.300000      7.000000     12.000000          16032.000000   \n",
       "max      347.500000     30.000000     93.200000          65968.000000   \n",
       "\n",
       "       days_exposition  \n",
       "count     11353.000000  \n",
       "mean        192.510174  \n",
       "std         229.089818  \n",
       "min           1.000000  \n",
       "25%          45.000000  \n",
       "50%         106.000000  \n",
       "75%         251.000000  \n",
       "max        1580.000000  "
      ]
     },
     "execution_count": 145,
     "metadata": {},
     "output_type": "execute_result"
    }
   ],
   "source": [
    "#Сформируем новый датафрейм с отсечёнными выросами.\n",
    "df = df[(df['last_price'] < 763000000.0)&(df['ceiling_height'] < 100.0)&(df['living_area'] < 400.0)]\n",
    "df.describe()"
   ]
  },
  {
   "cell_type": "markdown",
   "metadata": {},
   "source": [
    "Теперь посмотрим на пропуски в значениях."
   ]
  },
  {
   "cell_type": "code",
   "execution_count": 146,
   "metadata": {},
   "outputs": [
    {
     "data": {
      "text/plain": [
       "last_price                 0\n",
       "total_area                 0\n",
       "first_day_exposition       0\n",
       "rooms                      0\n",
       "ceiling_height             0\n",
       "floors_total               6\n",
       "living_area                0\n",
       "floor                      0\n",
       "kitchen_area             371\n",
       "locality_name             14\n",
       "city_centers_nearest    2731\n",
       "days_exposition         2351\n",
       "dtype: int64"
      ]
     },
     "execution_count": 146,
     "metadata": {},
     "output_type": "execute_result"
    }
   ],
   "source": [
    "df.isna().sum()"
   ]
  },
  {
   "cell_type": "markdown",
   "metadata": {},
   "source": [
    "<html>\n",
    "    <body>\n",
    "    <p>Видим много пропусков в столбцах: всего этажей в доме, площадь кухни в квадратных метрах, название населённого пункта, расстояние до центра города, сколько дней было размещено объявление (от публикации до снятия).</p>\n",
    "     <p>Стоит определить как будем заменять пропуски, для этого посмотрм корреляцию.\n",
    "    </body>\n",
    "    </html>"
   ]
  },
  {
   "cell_type": "code",
   "execution_count": 147,
   "metadata": {},
   "outputs": [
    {
     "data": {
      "text/plain": [
       "<matplotlib.axes._subplots.AxesSubplot at 0x7f347b3ea490>"
      ]
     },
     "execution_count": 147,
     "metadata": {},
     "output_type": "execute_result"
    },
    {
     "data": {
      "image/png": "[encoded data removed]",
      "text/plain": [
       "<Figure size 720x720 with 2 Axes>"
      ]
     },
     "metadata": {
      "needs_background": "light"
     },
     "output_type": "display_data"
    }
   ],
   "source": [
    "fig, ax = plt.subplots(figsize=(10, 10))\n",
    "sns.heatmap(df.corr(), annot = True, fmt='.1g', vmin=-1, vmax=1, center= 0, cmap= 'coolwarm', square=True, ax = ax)"
   ]
  },
  {
   "cell_type": "markdown",
   "metadata": {},
   "source": [
    "Как видим корреляция слабая. Заменим все значения на ноль, а locality_name оставим пустыми."
   ]
  },
  {
   "cell_type": "code",
   "execution_count": 148,
   "metadata": {},
   "outputs": [
    {
     "data": {
      "text/plain": [
       "last_price              0\n",
       "total_area              0\n",
       "first_day_exposition    0\n",
       "rooms                   0\n",
       "ceiling_height          0\n",
       "floors_total            0\n",
       "living_area             0\n",
       "floor                   0\n",
       "kitchen_area            0\n",
       "locality_name           0\n",
       "city_centers_nearest    0\n",
       "days_exposition         0\n",
       "dtype: int64"
      ]
     },
     "execution_count": 148,
     "metadata": {},
     "output_type": "execute_result"
    }
   ],
   "source": [
    "df['locality_name'] = df['locality_name'].fillna('')\n",
    "\n",
    "columns = ['days_exposition', 'floors_total', 'kitchen_area', 'city_centers_nearest']\n",
    "\n",
    "for i in columns:\n",
    "    df[i] = df[i].fillna(0)\n",
    "    \n",
    "df.isna().sum()"
   ]
  },
  {
   "cell_type": "markdown",
   "metadata": {},
   "source": [
    "Прежде чем переходить к следующему шагу, стоит заменить тип данных, для удобства работы. Еще раз посмотрим на них."
   ]
  },
  {
   "cell_type": "code",
   "execution_count": 149,
   "metadata": {},
   "outputs": [
    {
     "name": "stdout",
     "output_type": "stream",
     "text": [
      "<class 'pandas.core.frame.DataFrame'>\n",
      "Int64Index: 13704 entries, 0 to 23698\n",
      "Data columns (total 12 columns):\n",
      "last_price              13704 non-null float64\n",
      "total_area              13704 non-null float64\n",
      "first_day_exposition    13704 non-null datetime64[ns]\n",
      "rooms                   13704 non-null int64\n",
      "ceiling_height          13704 non-null float64\n",
      "floors_total            13704 non-null float64\n",
      "living_area             13704 non-null float64\n",
      "floor                   13704 non-null int64\n",
      "kitchen_area            13704 non-null float64\n",
      "locality_name           13704 non-null object\n",
      "city_centers_nearest    13704 non-null float64\n",
      "days_exposition         13704 non-null float64\n",
      "dtypes: datetime64[ns](1), float64(8), int64(2), object(1)\n",
      "memory usage: 1.4+ MB\n"
     ]
    }
   ],
   "source": [
    "df.info()"
   ]
  },
  {
   "cell_type": "code",
   "execution_count": 150,
   "metadata": {},
   "outputs": [
    {
     "name": "stdout",
     "output_type": "stream",
     "text": [
      "<class 'pandas.core.frame.DataFrame'>\n",
      "Int64Index: 13704 entries, 0 to 23698\n",
      "Data columns (total 12 columns):\n",
      "last_price              13704 non-null int64\n",
      "total_area              13704 non-null float64\n",
      "first_day_exposition    13704 non-null datetime64[ns]\n",
      "rooms                   13704 non-null int64\n",
      "ceiling_height          13704 non-null float64\n",
      "floors_total            13704 non-null int64\n",
      "living_area             13704 non-null float64\n",
      "floor                   13704 non-null int64\n",
      "kitchen_area            13704 non-null float64\n",
      "locality_name           13704 non-null object\n",
      "city_centers_nearest    13704 non-null int64\n",
      "days_exposition         13704 non-null int64\n",
      "dtypes: datetime64[ns](1), float64(4), int64(6), object(1)\n",
      "memory usage: 1.4+ MB\n"
     ]
    }
   ],
   "source": [
    "#заменим тип данных в соответствующих столбцах\n",
    "columns = ['floors_total', 'days_exposition', 'last_price', 'city_centers_nearest']\n",
    "\n",
    "for i in columns:\n",
    "    df[i] = df[i].astype('int')\n",
    "    \n",
    "df.info()"
   ]
  },
  {
   "cell_type": "markdown",
   "metadata": {},
   "source": [
    "Заменили тип данных в этих столбцах на целочисленный, поскольку этажей и дней публикации явно не может быть дробным числом, а цену и расстояние удобнее воспринимать также целым числом."
   ]
  },
  {
   "cell_type": "markdown",
   "metadata": {},
   "source": [
    "## Расчёты и добавление результатов в таблицу"
   ]
  },
  {
   "cell_type": "markdown",
   "metadata": {},
   "source": [
    "<html>\n",
    "    <body>\n",
    "        Для проведения дальнейшего исследования и выполнения поставленных задач необходимо добавить в таблицу следующие столбцы:<br>\n",
    "&#8729; цена квадратного метра;<br>\n",
    "&#8729; день недели, месяц и год публикации объявления;<br>\n",
    "&#8729; этаж квартиры: варианты — первый, последний, другой;<br>\n",
    "&#8729; соотношение жилой и общей площади, а также отношение площади кухни к общей.<br>\n",
    "    </body>\n",
    "    </html>"
   ]
  },
  {
   "cell_type": "code",
   "execution_count": 151,
   "metadata": {},
   "outputs": [
    {
     "data": {
      "text/html": [
       "<div>\n",
       "<style scoped>\n",
       "    .dataframe tbody tr th:only-of-type {\n",
       "        vertical-align: middle;\n",
       "    }\n",
       "\n",
       "    .dataframe tbody tr th {\n",
       "        vertical-align: top;\n",
       "    }\n",
       "\n",
       "    .dataframe thead th {\n",
       "        text-align: right;\n",
       "    }\n",
       "</style>\n",
       "<table border=\"1\" class=\"dataframe\">\n",
       "  <thead>\n",
       "    <tr style=\"text-align: right;\">\n",
       "      <th></th>\n",
       "      <th>last_price</th>\n",
       "      <th>total_area</th>\n",
       "      <th>first_day_exposition</th>\n",
       "      <th>rooms</th>\n",
       "      <th>ceiling_height</th>\n",
       "      <th>floors_total</th>\n",
       "      <th>living_area</th>\n",
       "      <th>floor</th>\n",
       "      <th>kitchen_area</th>\n",
       "      <th>locality_name</th>\n",
       "      <th>city_centers_nearest</th>\n",
       "      <th>days_exposition</th>\n",
       "      <th>metr_price</th>\n",
       "    </tr>\n",
       "  </thead>\n",
       "  <tbody>\n",
       "    <tr>\n",
       "      <td>0</td>\n",
       "      <td>13000000</td>\n",
       "      <td>108.0</td>\n",
       "      <td>2019-03-07</td>\n",
       "      <td>3</td>\n",
       "      <td>2.70</td>\n",
       "      <td>16</td>\n",
       "      <td>51.0</td>\n",
       "      <td>8</td>\n",
       "      <td>25.0</td>\n",
       "      <td>Санкт-Петербург</td>\n",
       "      <td>16028</td>\n",
       "      <td>0</td>\n",
       "      <td>120370</td>\n",
       "    </tr>\n",
       "    <tr>\n",
       "      <td>4</td>\n",
       "      <td>10000000</td>\n",
       "      <td>100.0</td>\n",
       "      <td>2018-06-19</td>\n",
       "      <td>2</td>\n",
       "      <td>3.03</td>\n",
       "      <td>14</td>\n",
       "      <td>32.0</td>\n",
       "      <td>13</td>\n",
       "      <td>41.0</td>\n",
       "      <td>Санкт-Петербург</td>\n",
       "      <td>8098</td>\n",
       "      <td>121</td>\n",
       "      <td>100000</td>\n",
       "    </tr>\n",
       "    <tr>\n",
       "      <td>9</td>\n",
       "      <td>5400000</td>\n",
       "      <td>61.0</td>\n",
       "      <td>2017-02-26</td>\n",
       "      <td>3</td>\n",
       "      <td>2.50</td>\n",
       "      <td>9</td>\n",
       "      <td>43.6</td>\n",
       "      <td>7</td>\n",
       "      <td>6.5</td>\n",
       "      <td>Санкт-Петербург</td>\n",
       "      <td>15008</td>\n",
       "      <td>289</td>\n",
       "      <td>88524</td>\n",
       "    </tr>\n",
       "    <tr>\n",
       "      <td>10</td>\n",
       "      <td>5050000</td>\n",
       "      <td>39.6</td>\n",
       "      <td>2017-11-16</td>\n",
       "      <td>1</td>\n",
       "      <td>2.67</td>\n",
       "      <td>12</td>\n",
       "      <td>20.3</td>\n",
       "      <td>3</td>\n",
       "      <td>8.5</td>\n",
       "      <td>Санкт-Петербург</td>\n",
       "      <td>13878</td>\n",
       "      <td>137</td>\n",
       "      <td>127525</td>\n",
       "    </tr>\n",
       "    <tr>\n",
       "      <td>13</td>\n",
       "      <td>3550000</td>\n",
       "      <td>42.8</td>\n",
       "      <td>2017-07-01</td>\n",
       "      <td>2</td>\n",
       "      <td>2.56</td>\n",
       "      <td>5</td>\n",
       "      <td>27.0</td>\n",
       "      <td>5</td>\n",
       "      <td>5.2</td>\n",
       "      <td>Петергоф</td>\n",
       "      <td>33058</td>\n",
       "      <td>366</td>\n",
       "      <td>82943</td>\n",
       "    </tr>\n",
       "  </tbody>\n",
       "</table>\n",
       "</div>"
      ],
      "text/plain": [
       "    last_price  total_area first_day_exposition  rooms  ceiling_height  \\\n",
       "0     13000000       108.0           2019-03-07      3            2.70   \n",
       "4     10000000       100.0           2018-06-19      2            3.03   \n",
       "9      5400000        61.0           2017-02-26      3            2.50   \n",
       "10     5050000        39.6           2017-11-16      1            2.67   \n",
       "13     3550000        42.8           2017-07-01      2            2.56   \n",
       "\n",
       "    floors_total  living_area  floor  kitchen_area    locality_name  \\\n",
       "0             16         51.0      8          25.0  Санкт-Петербург   \n",
       "4             14         32.0     13          41.0  Санкт-Петербург   \n",
       "9              9         43.6      7           6.5  Санкт-Петербург   \n",
       "10            12         20.3      3           8.5  Санкт-Петербург   \n",
       "13             5         27.0      5           5.2         Петергоф   \n",
       "\n",
       "    city_centers_nearest  days_exposition  metr_price  \n",
       "0                  16028                0      120370  \n",
       "4                   8098              121      100000  \n",
       "9                  15008              289       88524  \n",
       "10                 13878              137      127525  \n",
       "13                 33058              366       82943  "
      ]
     },
     "execution_count": 151,
     "metadata": {},
     "output_type": "execute_result"
    }
   ],
   "source": [
    "df['metr_price'] = (df['last_price'] / df['total_area']).astype('int') #добавим  цену квадратного метра\n",
    "df.head()"
   ]
  },
  {
   "cell_type": "code",
   "execution_count": 152,
   "metadata": {},
   "outputs": [
    {
     "data": {
      "text/html": [
       "<div>\n",
       "<style scoped>\n",
       "    .dataframe tbody tr th:only-of-type {\n",
       "        vertical-align: middle;\n",
       "    }\n",
       "\n",
       "    .dataframe tbody tr th {\n",
       "        vertical-align: top;\n",
       "    }\n",
       "\n",
       "    .dataframe thead th {\n",
       "        text-align: right;\n",
       "    }\n",
       "</style>\n",
       "<table border=\"1\" class=\"dataframe\">\n",
       "  <thead>\n",
       "    <tr style=\"text-align: right;\">\n",
       "      <th></th>\n",
       "      <th>last_price</th>\n",
       "      <th>total_area</th>\n",
       "      <th>first_day_exposition</th>\n",
       "      <th>rooms</th>\n",
       "      <th>ceiling_height</th>\n",
       "      <th>floors_total</th>\n",
       "      <th>living_area</th>\n",
       "      <th>floor</th>\n",
       "      <th>kitchen_area</th>\n",
       "      <th>locality_name</th>\n",
       "      <th>city_centers_nearest</th>\n",
       "      <th>days_exposition</th>\n",
       "      <th>metr_price</th>\n",
       "      <th>date</th>\n",
       "      <th>month</th>\n",
       "      <th>year</th>\n",
       "    </tr>\n",
       "  </thead>\n",
       "  <tbody>\n",
       "    <tr>\n",
       "      <td>0</td>\n",
       "      <td>13000000</td>\n",
       "      <td>108.0</td>\n",
       "      <td>2019-03-07</td>\n",
       "      <td>3</td>\n",
       "      <td>2.70</td>\n",
       "      <td>16</td>\n",
       "      <td>51.0</td>\n",
       "      <td>8</td>\n",
       "      <td>25.0</td>\n",
       "      <td>Санкт-Петербург</td>\n",
       "      <td>16028</td>\n",
       "      <td>0</td>\n",
       "      <td>120370</td>\n",
       "      <td>7</td>\n",
       "      <td>3</td>\n",
       "      <td>2019</td>\n",
       "    </tr>\n",
       "    <tr>\n",
       "      <td>4</td>\n",
       "      <td>10000000</td>\n",
       "      <td>100.0</td>\n",
       "      <td>2018-06-19</td>\n",
       "      <td>2</td>\n",
       "      <td>3.03</td>\n",
       "      <td>14</td>\n",
       "      <td>32.0</td>\n",
       "      <td>13</td>\n",
       "      <td>41.0</td>\n",
       "      <td>Санкт-Петербург</td>\n",
       "      <td>8098</td>\n",
       "      <td>121</td>\n",
       "      <td>100000</td>\n",
       "      <td>19</td>\n",
       "      <td>6</td>\n",
       "      <td>2018</td>\n",
       "    </tr>\n",
       "    <tr>\n",
       "      <td>9</td>\n",
       "      <td>5400000</td>\n",
       "      <td>61.0</td>\n",
       "      <td>2017-02-26</td>\n",
       "      <td>3</td>\n",
       "      <td>2.50</td>\n",
       "      <td>9</td>\n",
       "      <td>43.6</td>\n",
       "      <td>7</td>\n",
       "      <td>6.5</td>\n",
       "      <td>Санкт-Петербург</td>\n",
       "      <td>15008</td>\n",
       "      <td>289</td>\n",
       "      <td>88524</td>\n",
       "      <td>26</td>\n",
       "      <td>2</td>\n",
       "      <td>2017</td>\n",
       "    </tr>\n",
       "    <tr>\n",
       "      <td>10</td>\n",
       "      <td>5050000</td>\n",
       "      <td>39.6</td>\n",
       "      <td>2017-11-16</td>\n",
       "      <td>1</td>\n",
       "      <td>2.67</td>\n",
       "      <td>12</td>\n",
       "      <td>20.3</td>\n",
       "      <td>3</td>\n",
       "      <td>8.5</td>\n",
       "      <td>Санкт-Петербург</td>\n",
       "      <td>13878</td>\n",
       "      <td>137</td>\n",
       "      <td>127525</td>\n",
       "      <td>16</td>\n",
       "      <td>11</td>\n",
       "      <td>2017</td>\n",
       "    </tr>\n",
       "    <tr>\n",
       "      <td>13</td>\n",
       "      <td>3550000</td>\n",
       "      <td>42.8</td>\n",
       "      <td>2017-07-01</td>\n",
       "      <td>2</td>\n",
       "      <td>2.56</td>\n",
       "      <td>5</td>\n",
       "      <td>27.0</td>\n",
       "      <td>5</td>\n",
       "      <td>5.2</td>\n",
       "      <td>Петергоф</td>\n",
       "      <td>33058</td>\n",
       "      <td>366</td>\n",
       "      <td>82943</td>\n",
       "      <td>1</td>\n",
       "      <td>7</td>\n",
       "      <td>2017</td>\n",
       "    </tr>\n",
       "  </tbody>\n",
       "</table>\n",
       "</div>"
      ],
      "text/plain": [
       "    last_price  total_area first_day_exposition  rooms  ceiling_height  \\\n",
       "0     13000000       108.0           2019-03-07      3            2.70   \n",
       "4     10000000       100.0           2018-06-19      2            3.03   \n",
       "9      5400000        61.0           2017-02-26      3            2.50   \n",
       "10     5050000        39.6           2017-11-16      1            2.67   \n",
       "13     3550000        42.8           2017-07-01      2            2.56   \n",
       "\n",
       "    floors_total  living_area  floor  kitchen_area    locality_name  \\\n",
       "0             16         51.0      8          25.0  Санкт-Петербург   \n",
       "4             14         32.0     13          41.0  Санкт-Петербург   \n",
       "9              9         43.6      7           6.5  Санкт-Петербург   \n",
       "10            12         20.3      3           8.5  Санкт-Петербург   \n",
       "13             5         27.0      5           5.2         Петергоф   \n",
       "\n",
       "    city_centers_nearest  days_exposition  metr_price  date  month  year  \n",
       "0                  16028                0      120370     7      3  2019  \n",
       "4                   8098              121      100000    19      6  2018  \n",
       "9                  15008              289       88524    26      2  2017  \n",
       "10                 13878              137      127525    16     11  2017  \n",
       "13                 33058              366       82943     1      7  2017  "
      ]
     },
     "execution_count": 152,
     "metadata": {},
     "output_type": "execute_result"
    }
   ],
   "source": [
    "#добавим день недели, месяц и год публикации объявления\n",
    "df['date'] = df['first_day_exposition'].dt.day # Получаем день\n",
    "df['month'] = df['first_day_exposition'].dt.month # Получаем месяц\n",
    "df['year'] = df['first_day_exposition'].dt.year # Получаем год\n",
    "df.head()"
   ]
  },
  {
   "cell_type": "code",
   "execution_count": 153,
   "metadata": {},
   "outputs": [
    {
     "data": {
      "text/html": [
       "<div>\n",
       "<style scoped>\n",
       "    .dataframe tbody tr th:only-of-type {\n",
       "        vertical-align: middle;\n",
       "    }\n",
       "\n",
       "    .dataframe tbody tr th {\n",
       "        vertical-align: top;\n",
       "    }\n",
       "\n",
       "    .dataframe thead th {\n",
       "        text-align: right;\n",
       "    }\n",
       "</style>\n",
       "<table border=\"1\" class=\"dataframe\">\n",
       "  <thead>\n",
       "    <tr style=\"text-align: right;\">\n",
       "      <th></th>\n",
       "      <th>last_price</th>\n",
       "      <th>total_area</th>\n",
       "      <th>first_day_exposition</th>\n",
       "      <th>rooms</th>\n",
       "      <th>ceiling_height</th>\n",
       "      <th>floors_total</th>\n",
       "      <th>living_area</th>\n",
       "      <th>floor</th>\n",
       "      <th>kitchen_area</th>\n",
       "      <th>locality_name</th>\n",
       "      <th>city_centers_nearest</th>\n",
       "      <th>days_exposition</th>\n",
       "      <th>metr_price</th>\n",
       "      <th>date</th>\n",
       "      <th>month</th>\n",
       "      <th>year</th>\n",
       "      <th>apartment_floor</th>\n",
       "    </tr>\n",
       "  </thead>\n",
       "  <tbody>\n",
       "    <tr>\n",
       "      <td>0</td>\n",
       "      <td>13000000</td>\n",
       "      <td>108.0</td>\n",
       "      <td>2019-03-07</td>\n",
       "      <td>3</td>\n",
       "      <td>2.70</td>\n",
       "      <td>16</td>\n",
       "      <td>51.0</td>\n",
       "      <td>8</td>\n",
       "      <td>25.0</td>\n",
       "      <td>Санкт-Петербург</td>\n",
       "      <td>16028</td>\n",
       "      <td>0</td>\n",
       "      <td>120370</td>\n",
       "      <td>7</td>\n",
       "      <td>3</td>\n",
       "      <td>2019</td>\n",
       "      <td>другой</td>\n",
       "    </tr>\n",
       "    <tr>\n",
       "      <td>4</td>\n",
       "      <td>10000000</td>\n",
       "      <td>100.0</td>\n",
       "      <td>2018-06-19</td>\n",
       "      <td>2</td>\n",
       "      <td>3.03</td>\n",
       "      <td>14</td>\n",
       "      <td>32.0</td>\n",
       "      <td>13</td>\n",
       "      <td>41.0</td>\n",
       "      <td>Санкт-Петербург</td>\n",
       "      <td>8098</td>\n",
       "      <td>121</td>\n",
       "      <td>100000</td>\n",
       "      <td>19</td>\n",
       "      <td>6</td>\n",
       "      <td>2018</td>\n",
       "      <td>другой</td>\n",
       "    </tr>\n",
       "    <tr>\n",
       "      <td>9</td>\n",
       "      <td>5400000</td>\n",
       "      <td>61.0</td>\n",
       "      <td>2017-02-26</td>\n",
       "      <td>3</td>\n",
       "      <td>2.50</td>\n",
       "      <td>9</td>\n",
       "      <td>43.6</td>\n",
       "      <td>7</td>\n",
       "      <td>6.5</td>\n",
       "      <td>Санкт-Петербург</td>\n",
       "      <td>15008</td>\n",
       "      <td>289</td>\n",
       "      <td>88524</td>\n",
       "      <td>26</td>\n",
       "      <td>2</td>\n",
       "      <td>2017</td>\n",
       "      <td>другой</td>\n",
       "    </tr>\n",
       "    <tr>\n",
       "      <td>10</td>\n",
       "      <td>5050000</td>\n",
       "      <td>39.6</td>\n",
       "      <td>2017-11-16</td>\n",
       "      <td>1</td>\n",
       "      <td>2.67</td>\n",
       "      <td>12</td>\n",
       "      <td>20.3</td>\n",
       "      <td>3</td>\n",
       "      <td>8.5</td>\n",
       "      <td>Санкт-Петербург</td>\n",
       "      <td>13878</td>\n",
       "      <td>137</td>\n",
       "      <td>127525</td>\n",
       "      <td>16</td>\n",
       "      <td>11</td>\n",
       "      <td>2017</td>\n",
       "      <td>другой</td>\n",
       "    </tr>\n",
       "    <tr>\n",
       "      <td>13</td>\n",
       "      <td>3550000</td>\n",
       "      <td>42.8</td>\n",
       "      <td>2017-07-01</td>\n",
       "      <td>2</td>\n",
       "      <td>2.56</td>\n",
       "      <td>5</td>\n",
       "      <td>27.0</td>\n",
       "      <td>5</td>\n",
       "      <td>5.2</td>\n",
       "      <td>Петергоф</td>\n",
       "      <td>33058</td>\n",
       "      <td>366</td>\n",
       "      <td>82943</td>\n",
       "      <td>1</td>\n",
       "      <td>7</td>\n",
       "      <td>2017</td>\n",
       "      <td>последний</td>\n",
       "    </tr>\n",
       "  </tbody>\n",
       "</table>\n",
       "</div>"
      ],
      "text/plain": [
       "    last_price  total_area first_day_exposition  rooms  ceiling_height  \\\n",
       "0     13000000       108.0           2019-03-07      3            2.70   \n",
       "4     10000000       100.0           2018-06-19      2            3.03   \n",
       "9      5400000        61.0           2017-02-26      3            2.50   \n",
       "10     5050000        39.6           2017-11-16      1            2.67   \n",
       "13     3550000        42.8           2017-07-01      2            2.56   \n",
       "\n",
       "    floors_total  living_area  floor  kitchen_area    locality_name  \\\n",
       "0             16         51.0      8          25.0  Санкт-Петербург   \n",
       "4             14         32.0     13          41.0  Санкт-Петербург   \n",
       "9              9         43.6      7           6.5  Санкт-Петербург   \n",
       "10            12         20.3      3           8.5  Санкт-Петербург   \n",
       "13             5         27.0      5           5.2         Петергоф   \n",
       "\n",
       "    city_centers_nearest  days_exposition  metr_price  date  month  year  \\\n",
       "0                  16028                0      120370     7      3  2019   \n",
       "4                   8098              121      100000    19      6  2018   \n",
       "9                  15008              289       88524    26      2  2017   \n",
       "10                 13878              137      127525    16     11  2017   \n",
       "13                 33058              366       82943     1      7  2017   \n",
       "\n",
       "   apartment_floor  \n",
       "0           другой  \n",
       "4           другой  \n",
       "9           другой  \n",
       "10          другой  \n",
       "13       последний  "
      ]
     },
     "execution_count": 153,
     "metadata": {},
     "output_type": "execute_result"
    }
   ],
   "source": [
    "#добавим этаж квартиры: варианты — первый, последний, другой\n",
    "def apartment_floor(df):\n",
    "    if df['floor'] == 1:\n",
    "        return 'первый'\n",
    "    if (df['floor'] == df['floors_total'])&(df['floors_total'] != 1):\n",
    "        return 'последний'\n",
    "    return 'другой'\n",
    " \n",
    "df['apartment_floor'] = df.apply(apartment_floor, axis=1)\n",
    "\n",
    "df.head()"
   ]
  },
  {
   "cell_type": "code",
   "execution_count": 154,
   "metadata": {
    "scrolled": true
   },
   "outputs": [
    {
     "data": {
      "text/html": [
       "<div>\n",
       "<style scoped>\n",
       "    .dataframe tbody tr th:only-of-type {\n",
       "        vertical-align: middle;\n",
       "    }\n",
       "\n",
       "    .dataframe tbody tr th {\n",
       "        vertical-align: top;\n",
       "    }\n",
       "\n",
       "    .dataframe thead th {\n",
       "        text-align: right;\n",
       "    }\n",
       "</style>\n",
       "<table border=\"1\" class=\"dataframe\">\n",
       "  <thead>\n",
       "    <tr style=\"text-align: right;\">\n",
       "      <th></th>\n",
       "      <th>last_price</th>\n",
       "      <th>total_area</th>\n",
       "      <th>first_day_exposition</th>\n",
       "      <th>rooms</th>\n",
       "      <th>ceiling_height</th>\n",
       "      <th>floors_total</th>\n",
       "      <th>living_area</th>\n",
       "      <th>floor</th>\n",
       "      <th>kitchen_area</th>\n",
       "      <th>locality_name</th>\n",
       "      <th>city_centers_nearest</th>\n",
       "      <th>days_exposition</th>\n",
       "      <th>metr_price</th>\n",
       "      <th>date</th>\n",
       "      <th>month</th>\n",
       "      <th>year</th>\n",
       "      <th>apartment_floor</th>\n",
       "      <th>liv_tot_per</th>\n",
       "      <th>kit_tot_per</th>\n",
       "    </tr>\n",
       "  </thead>\n",
       "  <tbody>\n",
       "    <tr>\n",
       "      <td>0</td>\n",
       "      <td>13000000</td>\n",
       "      <td>108.0</td>\n",
       "      <td>2019-03-07</td>\n",
       "      <td>3</td>\n",
       "      <td>2.70</td>\n",
       "      <td>16</td>\n",
       "      <td>51.0</td>\n",
       "      <td>8</td>\n",
       "      <td>25.0</td>\n",
       "      <td>Санкт-Петербург</td>\n",
       "      <td>16028</td>\n",
       "      <td>0</td>\n",
       "      <td>120370</td>\n",
       "      <td>7</td>\n",
       "      <td>3</td>\n",
       "      <td>2019</td>\n",
       "      <td>другой</td>\n",
       "      <td>47%</td>\n",
       "      <td>23%</td>\n",
       "    </tr>\n",
       "    <tr>\n",
       "      <td>4</td>\n",
       "      <td>10000000</td>\n",
       "      <td>100.0</td>\n",
       "      <td>2018-06-19</td>\n",
       "      <td>2</td>\n",
       "      <td>3.03</td>\n",
       "      <td>14</td>\n",
       "      <td>32.0</td>\n",
       "      <td>13</td>\n",
       "      <td>41.0</td>\n",
       "      <td>Санкт-Петербург</td>\n",
       "      <td>8098</td>\n",
       "      <td>121</td>\n",
       "      <td>100000</td>\n",
       "      <td>19</td>\n",
       "      <td>6</td>\n",
       "      <td>2018</td>\n",
       "      <td>другой</td>\n",
       "      <td>32%</td>\n",
       "      <td>41%</td>\n",
       "    </tr>\n",
       "    <tr>\n",
       "      <td>9</td>\n",
       "      <td>5400000</td>\n",
       "      <td>61.0</td>\n",
       "      <td>2017-02-26</td>\n",
       "      <td>3</td>\n",
       "      <td>2.50</td>\n",
       "      <td>9</td>\n",
       "      <td>43.6</td>\n",
       "      <td>7</td>\n",
       "      <td>6.5</td>\n",
       "      <td>Санкт-Петербург</td>\n",
       "      <td>15008</td>\n",
       "      <td>289</td>\n",
       "      <td>88524</td>\n",
       "      <td>26</td>\n",
       "      <td>2</td>\n",
       "      <td>2017</td>\n",
       "      <td>другой</td>\n",
       "      <td>71%</td>\n",
       "      <td>11%</td>\n",
       "    </tr>\n",
       "    <tr>\n",
       "      <td>10</td>\n",
       "      <td>5050000</td>\n",
       "      <td>39.6</td>\n",
       "      <td>2017-11-16</td>\n",
       "      <td>1</td>\n",
       "      <td>2.67</td>\n",
       "      <td>12</td>\n",
       "      <td>20.3</td>\n",
       "      <td>3</td>\n",
       "      <td>8.5</td>\n",
       "      <td>Санкт-Петербург</td>\n",
       "      <td>13878</td>\n",
       "      <td>137</td>\n",
       "      <td>127525</td>\n",
       "      <td>16</td>\n",
       "      <td>11</td>\n",
       "      <td>2017</td>\n",
       "      <td>другой</td>\n",
       "      <td>51%</td>\n",
       "      <td>21%</td>\n",
       "    </tr>\n",
       "    <tr>\n",
       "      <td>13</td>\n",
       "      <td>3550000</td>\n",
       "      <td>42.8</td>\n",
       "      <td>2017-07-01</td>\n",
       "      <td>2</td>\n",
       "      <td>2.56</td>\n",
       "      <td>5</td>\n",
       "      <td>27.0</td>\n",
       "      <td>5</td>\n",
       "      <td>5.2</td>\n",
       "      <td>Петергоф</td>\n",
       "      <td>33058</td>\n",
       "      <td>366</td>\n",
       "      <td>82943</td>\n",
       "      <td>1</td>\n",
       "      <td>7</td>\n",
       "      <td>2017</td>\n",
       "      <td>последний</td>\n",
       "      <td>63%</td>\n",
       "      <td>12%</td>\n",
       "    </tr>\n",
       "  </tbody>\n",
       "</table>\n",
       "</div>"
      ],
      "text/plain": [
       "    last_price  total_area first_day_exposition  rooms  ceiling_height  \\\n",
       "0     13000000       108.0           2019-03-07      3            2.70   \n",
       "4     10000000       100.0           2018-06-19      2            3.03   \n",
       "9      5400000        61.0           2017-02-26      3            2.50   \n",
       "10     5050000        39.6           2017-11-16      1            2.67   \n",
       "13     3550000        42.8           2017-07-01      2            2.56   \n",
       "\n",
       "    floors_total  living_area  floor  kitchen_area    locality_name  \\\n",
       "0             16         51.0      8          25.0  Санкт-Петербург   \n",
       "4             14         32.0     13          41.0  Санкт-Петербург   \n",
       "9              9         43.6      7           6.5  Санкт-Петербург   \n",
       "10            12         20.3      3           8.5  Санкт-Петербург   \n",
       "13             5         27.0      5           5.2         Петергоф   \n",
       "\n",
       "    city_centers_nearest  days_exposition  metr_price  date  month  year  \\\n",
       "0                  16028                0      120370     7      3  2019   \n",
       "4                   8098              121      100000    19      6  2018   \n",
       "9                  15008              289       88524    26      2  2017   \n",
       "10                 13878              137      127525    16     11  2017   \n",
       "13                 33058              366       82943     1      7  2017   \n",
       "\n",
       "   apartment_floor liv_tot_per kit_tot_per  \n",
       "0           другой         47%         23%  \n",
       "4           другой         32%         41%  \n",
       "9           другой         71%         11%  \n",
       "10          другой         51%         21%  \n",
       "13       последний         63%         12%  "
      ]
     },
     "execution_count": 154,
     "metadata": {},
     "output_type": "execute_result"
    }
   ],
   "source": [
    "#добавим соотношение жилой и общей площади, а также отношение площади кухни к общей, выразим в процентах.\n",
    "fmt='{:.0%}'.format\n",
    "df['liv_tot_per'] = (df['living_area'] / df['total_area']).map(fmt)\n",
    "df['kit_tot_per'] = (df['kitchen_area'] / df['total_area']).map(fmt)\n",
    "df.head()"
   ]
  },
  {
   "cell_type": "markdown",
   "metadata": {},
   "source": [
    "## Исследовательский анализ данных"
   ]
  },
  {
   "cell_type": "markdown",
   "metadata": {},
   "source": [
    "Изучим время продажи квартиры, построив гистограмму."
   ]
  },
  {
   "cell_type": "code",
   "execution_count": 155,
   "metadata": {
    "scrolled": true
   },
   "outputs": [
    {
     "data": {
      "image/png": "[encoded data removed]",
      "text/plain": [
       "<Figure size 432x288 with 1 Axes>"
      ]
     },
     "metadata": {
      "needs_background": "light"
     },
     "output_type": "display_data"
    }
   ],
   "source": [
    "df['days_exposition'].hist(bins=100, range=(0, 1700))\n",
    "plt.title(\"Сколько дней было размещено объявление (от публикации до снятия)\") \n",
    "plt.show()"
   ]
  },
  {
   "cell_type": "code",
   "execution_count": 156,
   "metadata": {
    "scrolled": false
   },
   "outputs": [
    {
     "data": {
      "image/png": "[encoded data removed]",
      "text/plain": [
       "<Figure size 432x288 with 1 Axes>"
      ]
     },
     "metadata": {
      "needs_background": "light"
     },
     "output_type": "display_data"
    }
   ],
   "source": [
    "df.boxplot(['days_exposition']) #для наглядности посмотрим на диаграмму размаха\n",
    "plt.title(\"Сколько дней было размещено объявление (от публикации до снятия)\") \n",
    "plt.show()"
   ]
  },
  {
   "cell_type": "code",
   "execution_count": 157,
   "metadata": {},
   "outputs": [
    {
     "data": {
      "text/plain": [
       "count    13704.000000\n",
       "mean       159.483946\n",
       "std        220.783631\n",
       "min          0.000000\n",
       "25%         16.000000\n",
       "50%         74.000000\n",
       "75%        205.000000\n",
       "max       1580.000000\n",
       "Name: days_exposition, dtype: float64"
      ]
     },
     "execution_count": 157,
     "metadata": {},
     "output_type": "execute_result"
    }
   ],
   "source": [
    "df['days_exposition'].describe() #выведем статистические значения"
   ]
  },
  {
   "cell_type": "markdown",
   "metadata": {},
   "source": [
    "Судя по гистограмме, имеетя длинный хвост до значения 3500 дней. Такие данные очень подозрительны, продажи шли очень долго, более восьми лет.  На диаграмме размаха выбросы начинаются уже с 400 дней, что вполне логично, более года. Но есть и нулевые значения, это уж слишком быстрые продажи. Медиана расположена на 74 днях, это чуть более 2 месяцев, а среднее арифметическое - 159, это почти полгода."
   ]
  },
  {
   "cell_type": "markdown",
   "metadata": {},
   "source": [
    "Определим какие факторы больше всего влияют на стоимость квартиры: зависит ли цена от квадратного метра, числа комнат, этажа (первого или последнего), удалённости от центра, от даты размещения (дня недели, месяца и года)."
   ]
  },
  {
   "cell_type": "code",
   "execution_count": 158,
   "metadata": {},
   "outputs": [],
   "source": [
    "#подготовим столбец с этажами \n",
    "df['apartment_floor'] = df['apartment_floor'].replace('первый', 1)\n",
    "df['apartment_floor'] = df['apartment_floor'].replace('последний', 2)\n",
    "df['apartment_floor'] = df['apartment_floor'].replace('другой', 0)"
   ]
  },
  {
   "cell_type": "code",
   "execution_count": 159,
   "metadata": {
    "scrolled": false
   },
   "outputs": [
    {
     "data": {
      "image/png": "[encoded data removed]",
      "text/plain": [
       "<Figure size 576x432 with 1 Axes>"
      ]
     },
     "metadata": {
      "needs_background": "light"
     },
     "output_type": "display_data"
    },
    {
     "data": {
      "image/png": "[encoded data removed]",
      "text/plain": [
       "<Figure size 576x432 with 1 Axes>"
      ]
     },
     "metadata": {
      "needs_background": "light"
     },
     "output_type": "display_data"
    },
    {
     "data": {
      "image/png": "[encoded data removed]",
      "text/plain": [
       "<Figure size 576x432 with 1 Axes>"
      ]
     },
     "metadata": {
      "needs_background": "light"
     },
     "output_type": "display_data"
    },
    {
     "data": {
      "image/png": "[encoded data removed]",
      "text/plain": [
       "<Figure size 576x432 with 1 Axes>"
      ]
     },
     "metadata": {
      "needs_background": "light"
     },
     "output_type": "display_data"
    },
    {
     "data": {
      "image/png": "[encoded data removed]",
      "text/plain": [
       "<Figure size 576x432 with 1 Axes>"
      ]
     },
     "metadata": {
      "needs_background": "light"
     },
     "output_type": "display_data"
    },
    {
     "data": {
      "image/png": "[encoded data removed]",
      "text/plain": [
       "<Figure size 576x432 with 1 Axes>"
      ]
     },
     "metadata": {
      "needs_background": "light"
     },
     "output_type": "display_data"
    },
    {
     "data": {
      "image/png": "[encoded data removed]",
      "text/plain": [
       "<Figure size 576x432 with 1 Axes>"
      ]
     },
     "metadata": {
      "needs_background": "light"
     },
     "output_type": "display_data"
    }
   ],
   "source": [
    "def scatter (df, x, y, name):\n",
    "    df.plot(x, y, kind='scatter', figsize=(8,6))\n",
    "    plt.title(name)\n",
    "    plt.show()\n",
    "    \n",
    "scatter (df, x='last_price', y='total_area', name = 'зависимость цены от площади квартиры')\n",
    "scatter (df, x='last_price', y='rooms', name = 'зависимость цены от количества комнат')\n",
    "scatter (df, x='last_price', y='apartment_floor', name = 'зависимость цены от этажа')\n",
    "scatter (df, x='last_price', y='city_centers_nearest', name = 'зависимость цены от удалённости от центра')\n",
    "scatter (df, x='last_price', y='date', name = 'зависимость цены от дня размещения объявления')\n",
    "scatter (df, x='last_price', y='month', name = 'зависимость цены от месяца размещения объявления')\n",
    "scatter (df, x='last_price', y='year', name = 'зависимость цены от года размещения объявления')"
   ]
  },
  {
   "cell_type": "markdown",
   "metadata": {},
   "source": [
    "<html>\n",
    "    <body>\n",
    "        По графикам делаем выводы.<br>\n",
    "        Рост цены начинается после значения 100 по оси у. Хотя и увеличивается цена не пропорционально площади.<br>\n",
    "        С увеличением количества комнат и растёт цена. Достаточно пропорционально<br>\n",
    "        С удалением от центра цена не растет, виден явный пик около нуля.<br>\n",
    "        Среди дней в месяце распределение цены равномерно, что говорит об отсутствии влияния. Более равномерная зависимость у месяца года и цены, но в декабре виден небольшой рост цены. С 2017 года наблюдается рост цены, далее заметен небольшой спад в цене.<br>\n",
    "        За первый этаж цена ниже, чем за последний. Самая большая цена за другой этаж. Что вполне реалистично. При покупке жилья предпочтение отдают ни первому, ни последнему этажу.\n",
    "    </body>\n",
    "    </html>"
   ]
  },
  {
   "cell_type": "markdown",
   "metadata": {},
   "source": [
    "Выберим 10 населённых пунктов с наибольшим числом объявлений, посчитаем среднюю цену квадратного метра в этих населённых пунктах. Выделим населённые пункты с самой высокой и низкой стоимостью жилья."
   ]
  },
  {
   "cell_type": "code",
   "execution_count": 160,
   "metadata": {},
   "outputs": [
    {
     "data": {
      "text/html": [
       "<div>\n",
       "<style scoped>\n",
       "    .dataframe tbody tr th:only-of-type {\n",
       "        vertical-align: middle;\n",
       "    }\n",
       "\n",
       "    .dataframe tbody tr th {\n",
       "        vertical-align: top;\n",
       "    }\n",
       "\n",
       "    .dataframe thead tr th {\n",
       "        text-align: left;\n",
       "    }\n",
       "\n",
       "    .dataframe thead tr:last-of-type th {\n",
       "        text-align: right;\n",
       "    }\n",
       "</style>\n",
       "<table border=\"1\" class=\"dataframe\">\n",
       "  <thead>\n",
       "    <tr>\n",
       "      <th></th>\n",
       "      <th>count</th>\n",
       "      <th>mean</th>\n",
       "      <th>max</th>\n",
       "      <th>min</th>\n",
       "    </tr>\n",
       "    <tr>\n",
       "      <th></th>\n",
       "      <th>metr_price</th>\n",
       "      <th>metr_price</th>\n",
       "      <th>metr_price</th>\n",
       "      <th>metr_price</th>\n",
       "    </tr>\n",
       "    <tr>\n",
       "      <th>locality_name</th>\n",
       "      <th></th>\n",
       "      <th></th>\n",
       "      <th></th>\n",
       "      <th></th>\n",
       "    </tr>\n",
       "  </thead>\n",
       "  <tbody>\n",
       "    <tr>\n",
       "      <td>All</td>\n",
       "      <td>13704</td>\n",
       "      <td>101413.86</td>\n",
       "      <td>1736842</td>\n",
       "      <td>111</td>\n",
       "    </tr>\n",
       "    <tr>\n",
       "      <td>Санкт-Петербург</td>\n",
       "      <td>9576</td>\n",
       "      <td>115031.54</td>\n",
       "      <td>1736842</td>\n",
       "      <td>111</td>\n",
       "    </tr>\n",
       "    <tr>\n",
       "      <td>Всеволожск</td>\n",
       "      <td>255</td>\n",
       "      <td>67506.92</td>\n",
       "      <td>136423</td>\n",
       "      <td>31400</td>\n",
       "    </tr>\n",
       "    <tr>\n",
       "      <td>Пушкин</td>\n",
       "      <td>222</td>\n",
       "      <td>103779.44</td>\n",
       "      <td>256521</td>\n",
       "      <td>59836</td>\n",
       "    </tr>\n",
       "    <tr>\n",
       "      <td>посёлок Шушары</td>\n",
       "      <td>207</td>\n",
       "      <td>79442.93</td>\n",
       "      <td>134000</td>\n",
       "      <td>47700</td>\n",
       "    </tr>\n",
       "    <tr>\n",
       "      <td>Колпино</td>\n",
       "      <td>197</td>\n",
       "      <td>75891.12</td>\n",
       "      <td>125000</td>\n",
       "      <td>53333</td>\n",
       "    </tr>\n",
       "    <tr>\n",
       "      <td>посёлок Мурино</td>\n",
       "      <td>190</td>\n",
       "      <td>87628.94</td>\n",
       "      <td>138580</td>\n",
       "      <td>53133</td>\n",
       "    </tr>\n",
       "    <tr>\n",
       "      <td>Петергоф</td>\n",
       "      <td>142</td>\n",
       "      <td>85227.69</td>\n",
       "      <td>225971</td>\n",
       "      <td>57692</td>\n",
       "    </tr>\n",
       "    <tr>\n",
       "      <td>Гатчина</td>\n",
       "      <td>137</td>\n",
       "      <td>69675.11</td>\n",
       "      <td>146315</td>\n",
       "      <td>18103</td>\n",
       "    </tr>\n",
       "    <tr>\n",
       "      <td>посёлок Парголово</td>\n",
       "      <td>134</td>\n",
       "      <td>90938.66</td>\n",
       "      <td>138522</td>\n",
       "      <td>48543</td>\n",
       "    </tr>\n",
       "    <tr>\n",
       "      <td>Сестрорецк</td>\n",
       "      <td>120</td>\n",
       "      <td>102199.21</td>\n",
       "      <td>182688</td>\n",
       "      <td>53333</td>\n",
       "    </tr>\n",
       "  </tbody>\n",
       "</table>\n",
       "</div>"
      ],
      "text/plain": [
       "                       count       mean        max        min\n",
       "                  metr_price metr_price metr_price metr_price\n",
       "locality_name                                                \n",
       "All                    13704  101413.86    1736842        111\n",
       "Санкт-Петербург         9576  115031.54    1736842        111\n",
       "Всеволожск               255   67506.92     136423      31400\n",
       "Пушкин                   222  103779.44     256521      59836\n",
       "посёлок Шушары           207   79442.93     134000      47700\n",
       "Колпино                  197   75891.12     125000      53333\n",
       "посёлок Мурино           190   87628.94     138580      53133\n",
       "Петергоф                 142   85227.69     225971      57692\n",
       "Гатчина                  137   69675.11     146315      18103\n",
       "посёлок Парголово        134   90938.66     138522      48543\n",
       "Сестрорецк               120  102199.21     182688      53333"
      ]
     },
     "execution_count": 160,
     "metadata": {},
     "output_type": "execute_result"
    }
   ],
   "source": [
    "df_pivot = df.pivot_table(values='metr_price',\n",
    "                         index='locality_name',\n",
    "                         aggfunc=['count', 'mean', 'max', 'min'],\n",
    "                         margins=True).sort_values(('count', 'metr_price'), ascending=False).head(11).round({('mean', 'metr_price'):2})\n",
    "\n",
    "df_pivot"
   ]
  },
  {
   "cell_type": "markdown",
   "metadata": {},
   "source": [
    "Как видим из получившейся таблицы конечно больше всего объявлений приходится на Санкт-Петребург, а из топ-10 Сестрорецк занимает последнее место по количеству объявлений. Также, по минимальным и максимальным значениям Санкт-Петербург занимает первое место."
   ]
  },
  {
   "cell_type": "markdown",
   "metadata": {},
   "source": [
    "Изучим предложения квартир. Выделим квартиры в Санкт-Петербурге и выясним, какая область входит в центр. Создадим столбец с расстоянием до центра в километрах. После этого посчитаем среднюю цену для каждого километра. Построим график: он должен показывать, как цена зависит от удалённости от центра. Определим границу, где график сильно меняется — это и будет центральная зона."
   ]
  },
  {
   "cell_type": "code",
   "execution_count": 161,
   "metadata": {
    "scrolled": true
   },
   "outputs": [
    {
     "data": {
      "text/plain": [
       "0     0.8\n",
       "4     1.2\n",
       "9     0.4\n",
       "10    0.4\n",
       "16    0.7\n",
       "Name: km_price, dtype: float64"
      ]
     },
     "execution_count": 161,
     "metadata": {},
     "output_type": "execute_result"
    }
   ],
   "source": [
    "pd.set_option('mode.chained_assignment', None)\n",
    "\n",
    "df_spb = df.query(\"locality_name == 'Санкт-Петербург'\") #сформируем новый датафрейм только с Санкт-Петербургом\n",
    "df_spb['city_centers_km'] = df_spb['city_centers_nearest'] / 1000 #создадим столбец со значениями в километрах\n",
    "df_spb['city_centers_km'] = (df_spb['city_centers_km']).astype('int') #переведём в целочисленнй формат\n",
    "df_spb['last_price'] = df_spb['last_price'] / 1000000 #для удобства дальнейшей работы переведём цену в млн.руб.\n",
    "df_spb['km_price'] = (df_spb['last_price'] / df_spb['city_centers_km']).round(1) #округлим до однного знака, после запятой\n",
    "df_spb['km_price'].head() #выведем первые пять строк на экран"
   ]
  },
  {
   "cell_type": "code",
   "execution_count": 162,
   "metadata": {
    "scrolled": true
   },
   "outputs": [
    {
     "data": {
      "image/png": "[encoded data removed]",
      "text/plain": [
       "<Figure size 576x432 with 1 Axes>"
      ]
     },
     "metadata": {
      "needs_background": "light"
     },
     "output_type": "display_data"
    }
   ],
   "source": [
    "df_spb.plot(x='city_centers_km', y='km_price', kind='scatter', figsize=(8, 6))\n",
    "plt.title(\"Зависимость цены от удалённости от центра\") \n",
    "plt.show()"
   ]
  },
  {
   "cell_type": "markdown",
   "metadata": {},
   "source": [
    "Видим отдельные выбросы по значения оси y выше 250. Следует посмотреть на график более детально, ограничив значения по оси."
   ]
  },
  {
   "cell_type": "code",
   "execution_count": 163,
   "metadata": {},
   "outputs": [
    {
     "data": {
      "image/png": "[encoded data removed]",
      "text/plain": [
       "<Figure size 576x432 with 1 Axes>"
      ]
     },
     "metadata": {
      "needs_background": "light"
     },
     "output_type": "display_data"
    }
   ],
   "source": [
    "df_spb.plot(x='city_centers_km', y='km_price', kind='scatter', figsize=(8, 6))\n",
    "plt.xlim(0, 30)\n",
    "plt.ylim(0, 100)\n",
    "plt.title(\"Зависимость цены от удалённости от центра\") \n",
    "plt.show()"
   ]
  },
  {
   "cell_type": "markdown",
   "metadata": {},
   "source": [
    "Здесь явно видно, что с 3 до 7 км цены за километр растут равномерно, этот квадрат можно сказать является более насыщенным. Значит это можно назвать центром города. Что касается роста цены за километр, то начиная уже с 6 км видно пиковое повышение цены."
   ]
  },
  {
   "cell_type": "markdown",
   "metadata": {},
   "source": [
    "Выделим сегмент квартир в центре. Проанализируем эту территорию и изучим следующие параметры: площадь, цена, число комнат, высота потолков. Также выделим факторы, которые влияют на стоимость квартиры (число комнат, этаж, удалённость от центра, дата размещения объявления). Отличаются ли они от общих выводов по всему городу?"
   ]
  },
  {
   "cell_type": "code",
   "execution_count": 164,
   "metadata": {
    "scrolled": true
   },
   "outputs": [
    {
     "data": {
      "text/html": [
       "<div>\n",
       "<style scoped>\n",
       "    .dataframe tbody tr th:only-of-type {\n",
       "        vertical-align: middle;\n",
       "    }\n",
       "\n",
       "    .dataframe tbody tr th {\n",
       "        vertical-align: top;\n",
       "    }\n",
       "\n",
       "    .dataframe thead th {\n",
       "        text-align: right;\n",
       "    }\n",
       "</style>\n",
       "<table border=\"1\" class=\"dataframe\">\n",
       "  <thead>\n",
       "    <tr style=\"text-align: right;\">\n",
       "      <th></th>\n",
       "      <th>last_price</th>\n",
       "      <th>total_area</th>\n",
       "      <th>first_day_exposition</th>\n",
       "      <th>rooms</th>\n",
       "      <th>ceiling_height</th>\n",
       "      <th>floors_total</th>\n",
       "      <th>living_area</th>\n",
       "      <th>floor</th>\n",
       "      <th>kitchen_area</th>\n",
       "      <th>locality_name</th>\n",
       "      <th>...</th>\n",
       "      <th>days_exposition</th>\n",
       "      <th>metr_price</th>\n",
       "      <th>date</th>\n",
       "      <th>month</th>\n",
       "      <th>year</th>\n",
       "      <th>apartment_floor</th>\n",
       "      <th>liv_tot_per</th>\n",
       "      <th>kit_tot_per</th>\n",
       "      <th>city_centers_km</th>\n",
       "      <th>km_price</th>\n",
       "    </tr>\n",
       "  </thead>\n",
       "  <tbody>\n",
       "    <tr>\n",
       "      <td>4</td>\n",
       "      <td>10.000</td>\n",
       "      <td>100.0</td>\n",
       "      <td>2018-06-19</td>\n",
       "      <td>2</td>\n",
       "      <td>3.03</td>\n",
       "      <td>14</td>\n",
       "      <td>32.0</td>\n",
       "      <td>13</td>\n",
       "      <td>41.0</td>\n",
       "      <td>Санкт-Петербург</td>\n",
       "      <td>...</td>\n",
       "      <td>121</td>\n",
       "      <td>100000</td>\n",
       "      <td>19</td>\n",
       "      <td>6</td>\n",
       "      <td>2018</td>\n",
       "      <td>0</td>\n",
       "      <td>32%</td>\n",
       "      <td>41%</td>\n",
       "      <td>8</td>\n",
       "      <td>1.2</td>\n",
       "    </tr>\n",
       "    <tr>\n",
       "      <td>51</td>\n",
       "      <td>45.000</td>\n",
       "      <td>161.0</td>\n",
       "      <td>2017-10-17</td>\n",
       "      <td>3</td>\n",
       "      <td>3.20</td>\n",
       "      <td>8</td>\n",
       "      <td>38.0</td>\n",
       "      <td>4</td>\n",
       "      <td>50.0</td>\n",
       "      <td>Санкт-Петербург</td>\n",
       "      <td>...</td>\n",
       "      <td>541</td>\n",
       "      <td>279503</td>\n",
       "      <td>17</td>\n",
       "      <td>10</td>\n",
       "      <td>2017</td>\n",
       "      <td>0</td>\n",
       "      <td>24%</td>\n",
       "      <td>31%</td>\n",
       "      <td>6</td>\n",
       "      <td>7.5</td>\n",
       "    </tr>\n",
       "    <tr>\n",
       "      <td>52</td>\n",
       "      <td>11.795</td>\n",
       "      <td>136.0</td>\n",
       "      <td>2017-09-22</td>\n",
       "      <td>6</td>\n",
       "      <td>3.00</td>\n",
       "      <td>2</td>\n",
       "      <td>94.0</td>\n",
       "      <td>2</td>\n",
       "      <td>11.0</td>\n",
       "      <td>Санкт-Петербург</td>\n",
       "      <td>...</td>\n",
       "      <td>0</td>\n",
       "      <td>86727</td>\n",
       "      <td>22</td>\n",
       "      <td>9</td>\n",
       "      <td>2017</td>\n",
       "      <td>2</td>\n",
       "      <td>69%</td>\n",
       "      <td>8%</td>\n",
       "      <td>6</td>\n",
       "      <td>2.0</td>\n",
       "    </tr>\n",
       "    <tr>\n",
       "      <td>56</td>\n",
       "      <td>4.350</td>\n",
       "      <td>41.0</td>\n",
       "      <td>2016-03-28</td>\n",
       "      <td>1</td>\n",
       "      <td>2.80</td>\n",
       "      <td>7</td>\n",
       "      <td>18.1</td>\n",
       "      <td>4</td>\n",
       "      <td>11.1</td>\n",
       "      <td>Санкт-Петербург</td>\n",
       "      <td>...</td>\n",
       "      <td>152</td>\n",
       "      <td>106097</td>\n",
       "      <td>28</td>\n",
       "      <td>3</td>\n",
       "      <td>2016</td>\n",
       "      <td>0</td>\n",
       "      <td>44%</td>\n",
       "      <td>27%</td>\n",
       "      <td>9</td>\n",
       "      <td>0.5</td>\n",
       "    </tr>\n",
       "    <tr>\n",
       "      <td>63</td>\n",
       "      <td>20.000</td>\n",
       "      <td>118.0</td>\n",
       "      <td>2018-09-11</td>\n",
       "      <td>3</td>\n",
       "      <td>3.00</td>\n",
       "      <td>9</td>\n",
       "      <td>68.0</td>\n",
       "      <td>7</td>\n",
       "      <td>16.0</td>\n",
       "      <td>Санкт-Петербург</td>\n",
       "      <td>...</td>\n",
       "      <td>37</td>\n",
       "      <td>169491</td>\n",
       "      <td>11</td>\n",
       "      <td>9</td>\n",
       "      <td>2018</td>\n",
       "      <td>0</td>\n",
       "      <td>58%</td>\n",
       "      <td>14%</td>\n",
       "      <td>4</td>\n",
       "      <td>5.0</td>\n",
       "    </tr>\n",
       "  </tbody>\n",
       "</table>\n",
       "<p>5 rows × 21 columns</p>\n",
       "</div>"
      ],
      "text/plain": [
       "    last_price  total_area first_day_exposition  rooms  ceiling_height  \\\n",
       "4       10.000       100.0           2018-06-19      2            3.03   \n",
       "51      45.000       161.0           2017-10-17      3            3.20   \n",
       "52      11.795       136.0           2017-09-22      6            3.00   \n",
       "56       4.350        41.0           2016-03-28      1            2.80   \n",
       "63      20.000       118.0           2018-09-11      3            3.00   \n",
       "\n",
       "    floors_total  living_area  floor  kitchen_area    locality_name  ...  \\\n",
       "4             14         32.0     13          41.0  Санкт-Петербург  ...   \n",
       "51             8         38.0      4          50.0  Санкт-Петербург  ...   \n",
       "52             2         94.0      2          11.0  Санкт-Петербург  ...   \n",
       "56             7         18.1      4          11.1  Санкт-Петербург  ...   \n",
       "63             9         68.0      7          16.0  Санкт-Петербург  ...   \n",
       "\n",
       "    days_exposition  metr_price  date  month  year  apartment_floor  \\\n",
       "4               121      100000    19      6  2018                0   \n",
       "51              541      279503    17     10  2017                0   \n",
       "52                0       86727    22      9  2017                2   \n",
       "56              152      106097    28      3  2016                0   \n",
       "63               37      169491    11      9  2018                0   \n",
       "\n",
       "    liv_tot_per kit_tot_per city_centers_km  km_price  \n",
       "4           32%         41%               8       1.2  \n",
       "51          24%         31%               6       7.5  \n",
       "52          69%          8%               6       2.0  \n",
       "56          44%         27%               9       0.5  \n",
       "63          58%         14%               4       5.0  \n",
       "\n",
       "[5 rows x 21 columns]"
      ]
     },
     "execution_count": 164,
     "metadata": {},
     "output_type": "execute_result"
    }
   ],
   "source": [
    "df_spb_с = df_spb.loc[(df_spb['city_centers_km'] > 3) & (df_spb['city_centers_km'] < 10)] #создадим новый датафрейм по центру Санкт-Петербурга\n",
    "df_spb_с.head()"
   ]
  },
  {
   "cell_type": "code",
   "execution_count": 165,
   "metadata": {
    "scrolled": true
   },
   "outputs": [
    {
     "data": {
      "image/png": "[encoded data removed]",
      "text/plain": [
       "<Figure size 432x288 with 1 Axes>"
      ]
     },
     "metadata": {
      "needs_background": "light"
     },
     "output_type": "display_data"
    },
    {
     "data": {
      "image/png": "[encoded data removed]",
      "text/plain": [
       "<Figure size 432x288 with 1 Axes>"
      ]
     },
     "metadata": {
      "needs_background": "light"
     },
     "output_type": "display_data"
    },
    {
     "data": {
      "image/png": "[encoded data removed]",
      "text/plain": [
       "<Figure size 432x288 with 1 Axes>"
      ]
     },
     "metadata": {
      "needs_background": "light"
     },
     "output_type": "display_data"
    },
    {
     "data": {
      "image/png": "[encoded data removed]",
      "text/plain": [
       "<Figure size 432x288 with 1 Axes>"
      ]
     },
     "metadata": {
      "needs_background": "light"
     },
     "output_type": "display_data"
    }
   ],
   "source": [
    "columns = ['total_area', 'last_price', 'rooms', 'ceiling_height']\n",
    "name = ['площадь квартиры в квадратных метрах', 'цена квартиры', 'количество комнат', 'высота потолков']\n",
    "\n",
    "for i in range(len(columns)):\n",
    "    df_spb_с[columns[i]].hist()\n",
    "    plt.title(name[i])\n",
    "    plt.show()"
   ]
  },
  {
   "cell_type": "markdown",
   "metadata": {},
   "source": [
    "<html>\n",
    "    <body>По таким данным можно сделать следующие выводы:<br>\n",
    "        квартир с большой площадью не так много из общей массы, меньше 100 квадратных метров квартир больше всего;<br>\n",
    "        также и распределяется цена, достаточно высокая на квартиры с большей площадью;<br>\n",
    "        больше всего квартир с двумя и тремя комнатами и с высотой потолков окло 3 метров.\n",
    "    </body>\n",
    "    </html>"
   ]
  },
  {
   "cell_type": "markdown",
   "metadata": {},
   "source": [
    "Выделим факторы, которые влияют на стоимость квартиры (число комнат, этаж, удалённость от центра, дата размещения объявления)."
   ]
  },
  {
   "cell_type": "code",
   "execution_count": 166,
   "metadata": {},
   "outputs": [
    {
     "data": {
      "image/png": "[encoded data removed]",
      "text/plain": [
       "<Figure size 576x432 with 1 Axes>"
      ]
     },
     "metadata": {
      "needs_background": "light"
     },
     "output_type": "display_data"
    },
    {
     "data": {
      "image/png": "[encoded data removed]",
      "text/plain": [
       "<Figure size 576x432 with 1 Axes>"
      ]
     },
     "metadata": {
      "needs_background": "light"
     },
     "output_type": "display_data"
    },
    {
     "data": {
      "image/png": "[encoded data removed]",
      "text/plain": [
       "<Figure size 576x432 with 1 Axes>"
      ]
     },
     "metadata": {
      "needs_background": "light"
     },
     "output_type": "display_data"
    },
    {
     "data": {
      "image/png": "[encoded data removed]",
      "text/plain": [
       "<Figure size 576x432 with 1 Axes>"
      ]
     },
     "metadata": {
      "needs_background": "light"
     },
     "output_type": "display_data"
    },
    {
     "data": {
      "image/png": "[encoded data removed]",
      "text/plain": [
       "<Figure size 576x432 with 1 Axes>"
      ]
     },
     "metadata": {
      "needs_background": "light"
     },
     "output_type": "display_data"
    },
    {
     "data": {
      "image/png": "[encoded data removed]",
      "text/plain": [
       "<Figure size 576x432 with 1 Axes>"
      ]
     },
     "metadata": {
      "needs_background": "light"
     },
     "output_type": "display_data"
    }
   ],
   "source": [
    "def scatter (df_spb_с, x, y, name):\n",
    "    df_spb_с.plot(x, y, kind='scatter', figsize=(8,6))\n",
    "    plt.title(name)\n",
    "    plt.show()\n",
    "    \n",
    "scatter (df_spb_с, x='last_price', y='rooms', name = 'зависимость цены от количества комнат')\n",
    "scatter (df_spb_с, x='last_price', y='apartment_floor', name = 'зависимость цены от этажа')\n",
    "scatter (df_spb_с, x='last_price', y='city_centers_nearest', name = 'зависимость цены от удалённости от центра')\n",
    "scatter (df_spb_с, x='last_price', y='date', name = 'зависимость цены от дня размещения объявления')\n",
    "scatter (df_spb_с, x='last_price', y='month', name = 'зависимость цены от месяца размещения объявления')\n",
    "scatter (df_spb_с, x='last_price', y='year', name = 'зависимость цены от года размещения объявления')"
   ]
  },
  {
   "cell_type": "markdown",
   "metadata": {},
   "source": [
    "По зависимости цены и количества комнат, цена за квартиры с 3 и 4 комнатами растёт. Хотя и есть снижение цены за 6,7,8-комнатные квартиры. Самая низкая цена у первого этажа, другие этажи и последний растут в цене в равной степени. По зависимости цены от удалённости от центра - тут виден резкий пик в цене в самом центре. Цена особо не зависит от дня в месяце. Также цена и по месяцам распределяется, более мене равномерно. А с 2017 года было увеличение в цене."
   ]
  },
  {
   "cell_type": "markdown",
   "metadata": {},
   "source": [
    "Посмотрим на матрицу корреляции по центральной выборке"
   ]
  },
  {
   "cell_type": "code",
   "execution_count": 167,
   "metadata": {},
   "outputs": [
    {
     "data": {
      "text/plain": [
       "<matplotlib.axes._subplots.AxesSubplot at 0x7f3473d77150>"
      ]
     },
     "execution_count": 167,
     "metadata": {},
     "output_type": "execute_result"
    },
    {
     "data": {
      "image/png": "[encoded data removed]",
      "text/plain": [
       "<Figure size 720x720 with 2 Axes>"
      ]
     },
     "metadata": {
      "needs_background": "light"
     },
     "output_type": "display_data"
    }
   ],
   "source": [
    "fig, ax = plt.subplots(figsize=(10, 10))\n",
    "sns.heatmap(df_spb_с.corr(), annot = True, fmt='.1g', vmin=-1, vmax=1, center= 0, cmap= 'coolwarm', square=True, ax = ax)"
   ]
  },
  {
   "cell_type": "markdown",
   "metadata": {},
   "source": [
    "На матрице корреляции появилась зависимость величиной в единицу, это зависимсоть цены от цены за километр. Такая зависимость предсказуема, поскольку и расчёт значений столбца цена за километр, состоял из отношения цены к удалённости от центра. Также и зависимость в единицу между столбцами удалённость от центра города в метрах и удалённость от центра города в км. Также в нижней части матрицы появились небольшие отрицательные значения, что не показывает новых зависимостей."
   ]
  },
  {
   "cell_type": "markdown",
   "metadata": {},
   "source": [
    "## Общий вывод"
   ]
  },
  {
   "cell_type": "markdown",
   "metadata": {},
   "source": [
    "<html>\n",
    "    <body>\n",
    "        <p>Больше всего объявлений приходится на Санкт-Петребург, а из топ-10 городов Сестрорецк занимает последнее место по количеству объявлений.</p>\n",
    "        <p>Если сравнивать общую картину по объявлениям с центром Санкт-Петербурга, то много общего:<br>\n",
    "с 2017 года было увеличение в цене,<br>\n",
    "цена по месяцам распределяется, более мене равномерно,<br>\n",
    "цена особо не зависит от дня в месяце,<br>\n",
    "самая низкая цена у первого этажа, другие этажи и последний растут в цене в равной степени,<br>\n",
    "в центре Санкт-Петербурга По зависимости цены и количества комнат, цена за квартиры с 3 и 4 комнатами растёт,<br>\n",
    "больше всего квартир в Санкт-Петербурге с высотой потолков окло 3 метров,<br>\n",
    "больше всего квартир в Санкт-Петербурге с двумя и тремя комнатами.</p>\n",
    "        <p>Среди факторов больше всего влияющих на стоимость квартиры:<br> \n",
    "удалённость отцентра,<br>\n",
    "площадь квартиры и количество комнат,<br>\n",
    "            этаж квартиры.</p>\n",
    "    </body>\n",
    "    </html>"
   ]
  }
 ],
 "metadata": {
  "ExecuteTimeLog": [
   {
    "duration": 640,
    "start_time": "2022-01-15T22:24:39.125Z"
   },
   {
    "duration": 69,
    "start_time": "2022-01-15T22:24:49.262Z"
   },
   {
    "duration": 85,
    "start_time": "2022-01-15T22:25:40.233Z"
   },
   {
    "duration": 88,
    "start_time": "2022-01-15T22:25:57.868Z"
   },
   {
    "duration": 91,
    "start_time": "2022-01-15T22:27:19.482Z"
   },
   {
    "duration": 62,
    "start_time": "2022-01-15T22:27:37.931Z"
   },
   {
    "duration": 64,
    "start_time": "2022-01-15T22:28:29.716Z"
   },
   {
    "duration": 61,
    "start_time": "2022-01-15T22:30:00.821Z"
   },
   {
    "duration": 62,
    "start_time": "2022-01-15T22:32:05.817Z"
   },
   {
    "duration": 351,
    "start_time": "2022-01-15T22:32:30.910Z"
   },
   {
    "duration": 89,
    "start_time": "2022-01-15T22:32:41.556Z"
   },
   {
    "duration": 85,
    "start_time": "2022-01-15T22:45:40.872Z"
   },
   {
    "duration": 12,
    "start_time": "2022-01-15T22:51:00.005Z"
   },
   {
    "duration": 12,
    "start_time": "2022-01-15T23:08:53.960Z"
   },
   {
    "duration": 323,
    "start_time": "2022-01-15T23:48:52.072Z"
   },
   {
    "duration": 4,
    "start_time": "2022-01-15T23:49:16.397Z"
   },
   {
    "duration": 4,
    "start_time": "2022-01-15T23:51:48.703Z"
   },
   {
    "duration": 94,
    "start_time": "2022-01-15T23:59:29.470Z"
   },
   {
    "duration": 85,
    "start_time": "2022-01-15T23:59:43.776Z"
   },
   {
    "duration": 7,
    "start_time": "2022-01-16T00:00:00.878Z"
   },
   {
    "duration": 9,
    "start_time": "2022-01-16T00:00:25.050Z"
   },
   {
    "duration": 8,
    "start_time": "2022-01-16T00:00:58.030Z"
   },
   {
    "duration": 24,
    "start_time": "2022-01-16T00:02:35.037Z"
   },
   {
    "duration": 9,
    "start_time": "2022-01-16T00:02:44.799Z"
   },
   {
    "duration": 9,
    "start_time": "2022-01-16T00:13:53.602Z"
   },
   {
    "duration": 4,
    "start_time": "2022-01-16T00:28:54.109Z"
   },
   {
    "duration": 353,
    "start_time": "2022-01-16T14:34:10.152Z"
   },
   {
    "duration": 850,
    "start_time": "2022-01-16T14:34:32.677Z"
   },
   {
    "duration": 15,
    "start_time": "2022-01-16T14:34:35.897Z"
   },
   {
    "duration": 6,
    "start_time": "2022-01-16T14:34:40.168Z"
   },
   {
    "duration": 12,
    "start_time": "2022-01-16T14:34:42.176Z"
   },
   {
    "duration": 12,
    "start_time": "2022-01-16T14:34:44.080Z"
   },
   {
    "duration": 12,
    "start_time": "2022-01-16T14:34:46.618Z"
   },
   {
    "duration": 13,
    "start_time": "2022-01-16T14:35:22.001Z"
   },
   {
    "duration": 20,
    "start_time": "2022-01-16T14:41:30.744Z"
   },
   {
    "duration": 26,
    "start_time": "2022-01-16T14:42:46.027Z"
   },
   {
    "duration": 208,
    "start_time": "2022-01-17T06:23:16.531Z"
   },
   {
    "duration": 655,
    "start_time": "2022-01-17T06:23:27.094Z"
   },
   {
    "duration": 11,
    "start_time": "2022-01-17T06:23:30.100Z"
   },
   {
    "duration": 4,
    "start_time": "2022-01-17T06:23:33.646Z"
   },
   {
    "duration": 11,
    "start_time": "2022-01-17T06:23:36.000Z"
   },
   {
    "duration": 9,
    "start_time": "2022-01-17T06:23:39.337Z"
   },
   {
    "duration": 21,
    "start_time": "2022-01-17T06:23:43.065Z"
   },
   {
    "duration": 5,
    "start_time": "2022-01-17T06:23:45.224Z"
   },
   {
    "duration": 16,
    "start_time": "2022-01-17T06:44:30.197Z"
   },
   {
    "duration": 4915,
    "start_time": "2022-01-17T07:33:09.262Z"
   },
   {
    "duration": 56,
    "start_time": "2022-01-17T07:33:36.120Z"
   },
   {
    "duration": 4539,
    "start_time": "2022-01-17T07:34:01.369Z"
   },
   {
    "duration": 6,
    "start_time": "2022-01-17T07:35:29.083Z"
   },
   {
    "duration": 11,
    "start_time": "2022-01-17T07:35:44.088Z"
   },
   {
    "duration": 14,
    "start_time": "2022-01-17T07:36:13.496Z"
   },
   {
    "duration": 14,
    "start_time": "2022-01-17T07:36:20.984Z"
   },
   {
    "duration": 11,
    "start_time": "2022-01-17T07:36:24.157Z"
   },
   {
    "duration": 14,
    "start_time": "2022-01-17T07:36:40.551Z"
   },
   {
    "duration": 87,
    "start_time": "2022-01-17T07:36:50.650Z"
   },
   {
    "duration": 10,
    "start_time": "2022-01-17T07:36:53.226Z"
   },
   {
    "duration": 5,
    "start_time": "2022-01-17T07:36:57.310Z"
   },
   {
    "duration": 11,
    "start_time": "2022-01-17T07:37:00.024Z"
   },
   {
    "duration": 9,
    "start_time": "2022-01-17T07:37:02.088Z"
   },
   {
    "duration": 17,
    "start_time": "2022-01-17T07:37:08.447Z"
   },
   {
    "duration": 26,
    "start_time": "2022-01-17T07:37:13.719Z"
   },
   {
    "duration": 6,
    "start_time": "2022-01-17T08:01:56.414Z"
   },
   {
    "duration": 184,
    "start_time": "2022-01-17T08:02:48.444Z"
   },
   {
    "duration": 168,
    "start_time": "2022-01-17T08:03:07.632Z"
   },
   {
    "duration": 50,
    "start_time": "2022-01-17T08:03:17.902Z"
   },
   {
    "duration": 25,
    "start_time": "2022-01-17T08:23:42.192Z"
   },
   {
    "duration": 26,
    "start_time": "2022-01-17T08:24:48.398Z"
   },
   {
    "duration": 16,
    "start_time": "2022-01-17T09:08:23.541Z"
   },
   {
    "duration": 7,
    "start_time": "2022-01-17T09:12:32.168Z"
   },
   {
    "duration": 33,
    "start_time": "2022-01-17T09:14:53.177Z"
   },
   {
    "duration": 5,
    "start_time": "2022-01-17T09:19:02.379Z"
   },
   {
    "duration": 5,
    "start_time": "2022-01-17T09:29:28.003Z"
   },
   {
    "duration": 10,
    "start_time": "2022-01-17T09:29:31.093Z"
   },
   {
    "duration": 11,
    "start_time": "2022-01-17T09:29:33.667Z"
   },
   {
    "duration": 5,
    "start_time": "2022-01-17T09:29:59.221Z"
   },
   {
    "duration": 11,
    "start_time": "2022-01-17T09:30:01.652Z"
   },
   {
    "duration": 10,
    "start_time": "2022-01-17T09:30:04.327Z"
   },
   {
    "duration": 38,
    "start_time": "2022-01-17T09:30:13.173Z"
   },
   {
    "duration": 31,
    "start_time": "2022-01-17T09:30:15.693Z"
   },
   {
    "duration": 176,
    "start_time": "2022-01-17T09:32:28.268Z"
   },
   {
    "duration": 87,
    "start_time": "2022-01-17T09:33:43.706Z"
   },
   {
    "duration": 11,
    "start_time": "2022-01-17T09:33:45.892Z"
   },
   {
    "duration": 4,
    "start_time": "2022-01-17T09:33:49.308Z"
   },
   {
    "duration": 13,
    "start_time": "2022-01-17T09:33:51.227Z"
   },
   {
    "duration": 277,
    "start_time": "2022-01-17T09:33:53.686Z"
   },
   {
    "duration": 8,
    "start_time": "2022-01-17T09:34:29.707Z"
   },
   {
    "duration": 36,
    "start_time": "2022-01-17T09:34:54.947Z"
   },
   {
    "duration": 7,
    "start_time": "2022-01-17T10:13:55.523Z"
   },
   {
    "duration": 7,
    "start_time": "2022-01-17T10:14:03.763Z"
   },
   {
    "duration": 7,
    "start_time": "2022-01-17T10:14:09.114Z"
   },
   {
    "duration": 6,
    "start_time": "2022-01-17T10:32:11.092Z"
   },
   {
    "duration": 5,
    "start_time": "2022-01-17T10:33:15.876Z"
   },
   {
    "duration": 4,
    "start_time": "2022-01-17T11:11:56.234Z"
   },
   {
    "duration": 7,
    "start_time": "2022-01-17T11:12:09.301Z"
   },
   {
    "duration": 6,
    "start_time": "2022-01-17T11:20:56.743Z"
   },
   {
    "duration": 25,
    "start_time": "2022-01-17T11:37:17.745Z"
   },
   {
    "duration": 26,
    "start_time": "2022-01-17T11:37:20.107Z"
   },
   {
    "duration": 100,
    "start_time": "2022-01-17T11:37:33.899Z"
   },
   {
    "duration": 11,
    "start_time": "2022-01-17T11:37:35.819Z"
   },
   {
    "duration": 4,
    "start_time": "2022-01-17T11:37:40.548Z"
   },
   {
    "duration": 10,
    "start_time": "2022-01-17T11:37:43.003Z"
   },
   {
    "duration": 9,
    "start_time": "2022-01-17T11:37:45.426Z"
   },
   {
    "duration": 20,
    "start_time": "2022-01-17T11:37:50.141Z"
   },
   {
    "duration": 871,
    "start_time": "2022-01-17T11:47:48.320Z"
   },
   {
    "duration": 111,
    "start_time": "2022-01-17T11:48:29.934Z"
   },
   {
    "duration": 11,
    "start_time": "2022-01-17T11:48:32.470Z"
   },
   {
    "duration": 5,
    "start_time": "2022-01-17T11:48:36.453Z"
   },
   {
    "duration": 9,
    "start_time": "2022-01-17T11:48:38.734Z"
   },
   {
    "duration": 10,
    "start_time": "2022-01-17T11:48:41.141Z"
   },
   {
    "duration": 25,
    "start_time": "2022-01-17T11:48:45.679Z"
   },
   {
    "duration": 879,
    "start_time": "2022-01-17T11:48:51.463Z"
   },
   {
    "duration": 405,
    "start_time": "2022-01-17T11:49:59.855Z"
   },
   {
    "duration": 2342,
    "start_time": "2022-01-17T11:50:15.670Z"
   },
   {
    "duration": 915,
    "start_time": "2022-01-17T11:50:43.447Z"
   },
   {
    "duration": 184,
    "start_time": "2022-01-17T11:51:27.974Z"
   },
   {
    "duration": 726,
    "start_time": "2022-01-17T11:52:20.712Z"
   },
   {
    "duration": 850,
    "start_time": "2022-01-17T11:52:58.464Z"
   },
   {
    "duration": 762,
    "start_time": "2022-01-17T11:54:48.924Z"
   },
   {
    "duration": 769,
    "start_time": "2022-01-17T11:55:14.253Z"
   },
   {
    "duration": 480,
    "start_time": "2022-01-17T12:08:17.461Z"
   },
   {
    "duration": 722,
    "start_time": "2022-01-17T12:08:33.861Z"
   },
   {
    "duration": 180,
    "start_time": "2022-01-17T12:42:02.580Z"
   },
   {
    "duration": 746,
    "start_time": "2022-01-17T12:42:24.212Z"
   },
   {
    "duration": 68,
    "start_time": "2022-01-17T12:56:33.249Z"
   },
   {
    "duration": 2722,
    "start_time": "2022-01-17T13:02:40.289Z"
   },
   {
    "duration": 158,
    "start_time": "2022-01-17T13:13:58.100Z"
   },
   {
    "duration": 5,
    "start_time": "2022-01-17T13:20:31.941Z"
   },
   {
    "duration": 147,
    "start_time": "2022-01-17T13:57:31.897Z"
   },
   {
    "duration": 142,
    "start_time": "2022-01-17T13:57:38.101Z"
   },
   {
    "duration": 148,
    "start_time": "2022-01-17T13:58:00.613Z"
   },
   {
    "duration": 143,
    "start_time": "2022-01-17T13:58:17.398Z"
   },
   {
    "duration": 739,
    "start_time": "2022-01-17T17:00:58.226Z"
   },
   {
    "duration": 10,
    "start_time": "2022-01-17T17:01:53.235Z"
   },
   {
    "duration": 4,
    "start_time": "2022-01-17T17:01:57.306Z"
   },
   {
    "duration": 13,
    "start_time": "2022-01-17T17:02:00.194Z"
   },
   {
    "duration": 15,
    "start_time": "2022-01-17T17:02:05.585Z"
   },
   {
    "duration": 20,
    "start_time": "2022-01-17T17:02:13.288Z"
   },
   {
    "duration": 21,
    "start_time": "2022-01-17T17:06:37.994Z"
   },
   {
    "duration": 39,
    "start_time": "2022-01-17T17:08:54.474Z"
   },
   {
    "duration": 5,
    "start_time": "2022-01-17T17:10:47.935Z"
   },
   {
    "duration": 389,
    "start_time": "2022-01-17T17:11:24.170Z"
   },
   {
    "duration": 5,
    "start_time": "2022-01-17T17:11:29.569Z"
   },
   {
    "duration": 4,
    "start_time": "2022-01-17T17:11:47.735Z"
   },
   {
    "duration": 31,
    "start_time": "2022-01-17T17:17:20.356Z"
   },
   {
    "duration": 26,
    "start_time": "2022-01-17T17:17:38.048Z"
   },
   {
    "duration": 29,
    "start_time": "2022-01-17T17:18:18.365Z"
   },
   {
    "duration": 32,
    "start_time": "2022-01-17T17:19:30.606Z"
   },
   {
    "duration": 126,
    "start_time": "2022-01-17T17:20:30.044Z"
   },
   {
    "duration": 116,
    "start_time": "2022-01-17T17:23:01.891Z"
   },
   {
    "duration": 574,
    "start_time": "2022-01-17T17:27:01.918Z"
   },
   {
    "duration": 360,
    "start_time": "2022-01-17T17:28:49.922Z"
   },
   {
    "duration": 8382,
    "start_time": "2022-01-17T17:32:01.742Z"
   },
   {
    "duration": 337,
    "start_time": "2022-01-17T17:32:25.931Z"
   },
   {
    "duration": 95,
    "start_time": "2022-01-17T17:43:17.844Z"
   },
   {
    "duration": 20,
    "start_time": "2022-01-17T17:43:45.125Z"
   },
   {
    "duration": 5,
    "start_time": "2022-01-17T17:43:51.363Z"
   },
   {
    "duration": 15,
    "start_time": "2022-01-17T17:44:00.595Z"
   },
   {
    "duration": 18,
    "start_time": "2022-01-17T17:44:04.674Z"
   },
   {
    "duration": 33,
    "start_time": "2022-01-17T17:44:10.345Z"
   },
   {
    "duration": 1310,
    "start_time": "2022-01-17T17:44:20.487Z"
   },
   {
    "duration": 414,
    "start_time": "2022-01-17T17:44:41.733Z"
   },
   {
    "duration": 50,
    "start_time": "2022-01-17T17:45:10.644Z"
   },
   {
    "duration": 5,
    "start_time": "2022-01-17T17:45:13.255Z"
   },
   {
    "duration": 473,
    "start_time": "2022-01-17T17:45:22.478Z"
   },
   {
    "duration": 457,
    "start_time": "2022-01-17T17:45:24.806Z"
   },
   {
    "duration": 486,
    "start_time": "2022-01-17T17:45:40.339Z"
   },
   {
    "duration": 78,
    "start_time": "2022-01-17T17:46:38.858Z"
   },
   {
    "duration": 10,
    "start_time": "2022-01-17T17:46:42.720Z"
   },
   {
    "duration": 4,
    "start_time": "2022-01-17T17:46:48.951Z"
   },
   {
    "duration": 9,
    "start_time": "2022-01-17T17:46:50.943Z"
   },
   {
    "duration": 10,
    "start_time": "2022-01-17T17:46:53.007Z"
   },
   {
    "duration": 33,
    "start_time": "2022-01-17T17:46:56.086Z"
   },
   {
    "duration": 5,
    "start_time": "2022-01-17T17:47:13.772Z"
   },
   {
    "duration": 126,
    "start_time": "2022-01-17T17:47:16.724Z"
   },
   {
    "duration": 333,
    "start_time": "2022-01-17T17:47:24.827Z"
   },
   {
    "duration": 130,
    "start_time": "2022-01-17T17:53:24.169Z"
   },
   {
    "duration": 26,
    "start_time": "2022-01-17T17:57:07.207Z"
   },
   {
    "duration": 29,
    "start_time": "2022-01-17T17:58:04.231Z"
   },
   {
    "duration": 12,
    "start_time": "2022-01-17T17:58:10.061Z"
   },
   {
    "duration": 8,
    "start_time": "2022-01-17T18:04:52.868Z"
   },
   {
    "duration": 29,
    "start_time": "2022-01-17T18:17:33.714Z"
   },
   {
    "duration": 15,
    "start_time": "2022-01-17T18:18:45.583Z"
   },
   {
    "duration": 29,
    "start_time": "2022-01-17T18:18:55.285Z"
   },
   {
    "duration": 5,
    "start_time": "2022-01-17T18:19:07.242Z"
   },
   {
    "duration": 969,
    "start_time": "2022-01-18T05:17:21.968Z"
   },
   {
    "duration": 15,
    "start_time": "2022-01-18T05:22:10.196Z"
   },
   {
    "duration": 56,
    "start_time": "2022-01-18T05:22:26.449Z"
   },
   {
    "duration": 21,
    "start_time": "2022-01-18T05:23:05.138Z"
   },
   {
    "duration": 44,
    "start_time": "2022-01-18T05:23:23.505Z"
   },
   {
    "duration": 19,
    "start_time": "2022-01-18T05:23:48.092Z"
   },
   {
    "duration": 43,
    "start_time": "2022-01-18T05:24:12.663Z"
   },
   {
    "duration": 44,
    "start_time": "2022-01-18T05:24:38.282Z"
   },
   {
    "duration": 50,
    "start_time": "2022-01-18T05:25:51.210Z"
   },
   {
    "duration": 479,
    "start_time": "2022-01-18T05:29:52.468Z"
   },
   {
    "duration": 140,
    "start_time": "2022-01-18T05:30:01.454Z"
   },
   {
    "duration": 110,
    "start_time": "2022-01-18T05:31:57.431Z"
   },
   {
    "duration": 5,
    "start_time": "2022-01-18T05:32:03.750Z"
   },
   {
    "duration": 10,
    "start_time": "2022-01-18T05:32:06.148Z"
   },
   {
    "duration": 43,
    "start_time": "2022-01-18T05:32:09.104Z"
   },
   {
    "duration": 14,
    "start_time": "2022-01-18T05:32:11.494Z"
   },
   {
    "duration": 56,
    "start_time": "2022-01-18T05:33:05.270Z"
   },
   {
    "duration": 248,
    "start_time": "2022-01-18T05:33:47.732Z"
   },
   {
    "duration": 852,
    "start_time": "2022-01-18T05:34:21.468Z"
   },
   {
    "duration": 112,
    "start_time": "2022-01-18T05:34:36.642Z"
   },
   {
    "duration": 16,
    "start_time": "2022-01-18T05:34:38.512Z"
   },
   {
    "duration": 6,
    "start_time": "2022-01-18T05:34:42.673Z"
   },
   {
    "duration": 12,
    "start_time": "2022-01-18T05:34:44.764Z"
   },
   {
    "duration": 41,
    "start_time": "2022-01-18T05:34:48.178Z"
   },
   {
    "duration": 11,
    "start_time": "2022-01-18T05:34:50.594Z"
   },
   {
    "duration": 93,
    "start_time": "2022-01-18T05:34:56.763Z"
   },
   {
    "duration": 881,
    "start_time": "2022-01-18T05:35:12.709Z"
   },
   {
    "duration": 236,
    "start_time": "2022-01-18T05:36:10.670Z"
   },
   {
    "duration": 3,
    "start_time": "2022-01-18T05:36:46.233Z"
   },
   {
    "duration": 82,
    "start_time": "2022-01-18T05:36:51.404Z"
   },
   {
    "duration": 47,
    "start_time": "2022-01-18T05:37:10.251Z"
   },
   {
    "duration": 111,
    "start_time": "2022-01-18T07:49:42.746Z"
   },
   {
    "duration": 254,
    "start_time": "2022-01-18T07:50:00.215Z"
   },
   {
    "duration": 47,
    "start_time": "2022-01-18T07:52:13.789Z"
   },
   {
    "duration": 902,
    "start_time": "2022-01-18T07:52:17.763Z"
   },
   {
    "duration": 260,
    "start_time": "2022-01-18T07:52:21.932Z"
   },
   {
    "duration": 12,
    "start_time": "2022-01-18T07:52:24.797Z"
   },
   {
    "duration": 50,
    "start_time": "2022-01-18T07:52:27.617Z"
   },
   {
    "duration": 758,
    "start_time": "2022-01-18T07:52:30.595Z"
   },
   {
    "duration": 985,
    "start_time": "2022-01-18T07:59:04.728Z"
   },
   {
    "duration": 937,
    "start_time": "2022-01-18T07:59:20.057Z"
   },
   {
    "duration": 1053,
    "start_time": "2022-01-18T07:59:30.231Z"
   },
   {
    "duration": 930,
    "start_time": "2022-01-18T07:59:40.582Z"
   },
   {
    "duration": 930,
    "start_time": "2022-01-18T07:59:48.786Z"
   },
   {
    "duration": 1112,
    "start_time": "2022-01-18T08:00:02.846Z"
   },
   {
    "duration": 48,
    "start_time": "2022-01-18T08:02:06.146Z"
   },
   {
    "duration": 43,
    "start_time": "2022-01-18T08:02:38.653Z"
   },
   {
    "duration": 55,
    "start_time": "2022-01-18T08:21:16.643Z"
   },
   {
    "duration": 43,
    "start_time": "2022-01-18T08:21:38.730Z"
   },
   {
    "duration": 36,
    "start_time": "2022-01-18T08:26:49.154Z"
   },
   {
    "duration": 72,
    "start_time": "2022-01-18T08:36:18.305Z"
   },
   {
    "duration": 43,
    "start_time": "2022-01-18T09:42:27.459Z"
   },
   {
    "duration": 37,
    "start_time": "2022-01-18T09:42:44.883Z"
   },
   {
    "duration": 882,
    "start_time": "2022-01-18T09:51:32.351Z"
   },
   {
    "duration": 498,
    "start_time": "2022-01-18T09:52:46.571Z"
   },
   {
    "duration": 994,
    "start_time": "2022-01-18T09:52:55.775Z"
   },
   {
    "duration": 883,
    "start_time": "2022-01-18T09:53:15.852Z"
   },
   {
    "duration": 242,
    "start_time": "2022-01-18T09:53:49.246Z"
   },
   {
    "duration": 12,
    "start_time": "2022-01-18T09:54:24.414Z"
   },
   {
    "duration": 48,
    "start_time": "2022-01-18T09:54:48.209Z"
   },
   {
    "duration": 66,
    "start_time": "2022-01-18T09:55:25.053Z"
   },
   {
    "duration": 246,
    "start_time": "2022-01-18T09:56:18.238Z"
   },
   {
    "duration": 58,
    "start_time": "2022-01-18T09:57:54.120Z"
   },
   {
    "duration": 2340,
    "start_time": "2022-01-18T10:10:30.983Z"
   },
   {
    "duration": 774,
    "start_time": "2022-01-18T10:11:04.750Z"
   },
   {
    "duration": 8,
    "start_time": "2022-01-18T10:12:15.977Z"
   },
   {
    "duration": 282,
    "start_time": "2022-01-18T10:12:50.042Z"
   },
   {
    "duration": 237,
    "start_time": "2022-01-18T10:13:06.585Z"
   },
   {
    "duration": 254,
    "start_time": "2022-01-18T10:13:12.266Z"
   },
   {
    "duration": 22,
    "start_time": "2022-01-18T10:13:26.733Z"
   },
   {
    "duration": 7,
    "start_time": "2022-01-18T10:15:26.832Z"
   },
   {
    "duration": 23,
    "start_time": "2022-01-18T10:15:57.958Z"
   },
   {
    "duration": 8,
    "start_time": "2022-01-18T10:17:50.422Z"
   },
   {
    "duration": 6,
    "start_time": "2022-01-18T10:17:57.773Z"
   },
   {
    "duration": 948,
    "start_time": "2022-01-18T10:18:09.400Z"
   },
   {
    "duration": 129,
    "start_time": "2022-01-18T10:21:05.251Z"
   },
   {
    "duration": 929,
    "start_time": "2022-01-18T10:22:11.467Z"
   },
   {
    "duration": 679,
    "start_time": "2022-01-18T11:34:46.236Z"
   },
   {
    "duration": 269,
    "start_time": "2022-01-18T11:35:18.145Z"
   },
   {
    "duration": 244,
    "start_time": "2022-01-18T11:35:46.308Z"
   },
   {
    "duration": 293,
    "start_time": "2022-01-18T11:36:16.776Z"
   },
   {
    "duration": 41,
    "start_time": "2022-01-18T11:40:25.669Z"
   },
   {
    "duration": 27,
    "start_time": "2022-01-18T11:40:50.607Z"
   },
   {
    "duration": 113,
    "start_time": "2022-01-18T11:41:24.301Z"
   },
   {
    "duration": 21,
    "start_time": "2022-01-18T11:41:26.487Z"
   },
   {
    "duration": 17,
    "start_time": "2022-01-18T11:41:31.308Z"
   },
   {
    "duration": 29,
    "start_time": "2022-01-18T11:46:16.601Z"
   },
   {
    "duration": 257,
    "start_time": "2022-01-18T11:47:34.848Z"
   },
   {
    "duration": 247,
    "start_time": "2022-01-18T11:47:51.251Z"
   },
   {
    "duration": 287,
    "start_time": "2022-01-18T11:48:09.600Z"
   },
   {
    "duration": 113,
    "start_time": "2022-01-18T11:48:23.486Z"
   },
   {
    "duration": 15,
    "start_time": "2022-01-18T11:48:26.729Z"
   },
   {
    "duration": 17,
    "start_time": "2022-01-18T11:48:31.798Z"
   },
   {
    "duration": 7,
    "start_time": "2022-01-18T11:49:06.516Z"
   },
   {
    "duration": 9,
    "start_time": "2022-01-18T11:49:47.875Z"
   },
   {
    "duration": 33,
    "start_time": "2022-01-18T11:49:58.997Z"
   },
   {
    "duration": 656,
    "start_time": "2022-01-18T11:50:30.544Z"
   },
   {
    "duration": 236,
    "start_time": "2022-01-18T11:51:03.071Z"
   },
   {
    "duration": 111,
    "start_time": "2022-01-18T12:53:26.234Z"
   },
   {
    "duration": 15,
    "start_time": "2022-01-18T12:53:32.014Z"
   },
   {
    "duration": 17,
    "start_time": "2022-01-18T12:53:39.390Z"
   },
   {
    "duration": 241,
    "start_time": "2022-01-18T12:58:22.619Z"
   },
   {
    "duration": 111,
    "start_time": "2022-01-18T12:58:39.092Z"
   },
   {
    "duration": 15,
    "start_time": "2022-01-18T12:58:42.132Z"
   },
   {
    "duration": 16,
    "start_time": "2022-01-18T12:58:56.201Z"
   },
   {
    "duration": 6,
    "start_time": "2022-01-18T12:59:04.183Z"
   },
   {
    "duration": 8,
    "start_time": "2022-01-18T12:59:08.696Z"
   },
   {
    "duration": 28,
    "start_time": "2022-01-18T12:59:23.419Z"
   },
   {
    "duration": 521,
    "start_time": "2022-01-18T12:59:26.222Z"
   },
   {
    "duration": 497,
    "start_time": "2022-01-18T13:08:08.841Z"
   },
   {
    "duration": 495,
    "start_time": "2022-01-18T13:08:21.927Z"
   },
   {
    "duration": 520,
    "start_time": "2022-01-18T13:08:31.915Z"
   },
   {
    "duration": 10,
    "start_time": "2022-01-18T13:11:01.883Z"
   },
   {
    "duration": 30,
    "start_time": "2022-01-18T13:11:25.809Z"
   },
   {
    "duration": 23,
    "start_time": "2022-01-18T13:13:28.781Z"
   },
   {
    "duration": 298,
    "start_time": "2022-01-18T13:21:01.466Z"
   },
   {
    "duration": 199,
    "start_time": "2022-01-18T13:21:21.644Z"
   },
   {
    "duration": 283,
    "start_time": "2022-01-18T13:21:47.617Z"
   },
   {
    "duration": 286,
    "start_time": "2022-01-18T13:22:15.258Z"
   },
   {
    "duration": 320,
    "start_time": "2022-01-18T13:23:12.717Z"
   },
   {
    "duration": 290,
    "start_time": "2022-01-18T13:37:31.370Z"
   },
   {
    "duration": 11,
    "start_time": "2022-01-18T13:37:43.758Z"
   },
   {
    "duration": 7,
    "start_time": "2022-01-18T13:37:58.531Z"
   },
   {
    "duration": 124,
    "start_time": "2022-01-18T13:38:13.296Z"
   },
   {
    "duration": 24,
    "start_time": "2022-01-18T13:38:16.876Z"
   },
   {
    "duration": 19,
    "start_time": "2022-01-18T13:38:22.215Z"
   },
   {
    "duration": 7,
    "start_time": "2022-01-18T13:38:25.709Z"
   },
   {
    "duration": 13,
    "start_time": "2022-01-18T13:38:34.615Z"
   },
   {
    "duration": 29,
    "start_time": "2022-01-18T13:38:40.881Z"
   },
   {
    "duration": 7,
    "start_time": "2022-01-18T13:38:46.014Z"
   },
   {
    "duration": 243,
    "start_time": "2022-01-18T13:39:13.830Z"
   },
   {
    "duration": 254,
    "start_time": "2022-01-18T13:39:30.613Z"
   },
   {
    "duration": 823,
    "start_time": "2022-01-18T13:39:39.579Z"
   },
   {
    "duration": 881,
    "start_time": "2022-01-18T13:39:46.042Z"
   },
   {
    "duration": 716,
    "start_time": "2022-01-18T13:40:24.127Z"
   },
   {
    "duration": 627,
    "start_time": "2022-01-18T13:40:35.237Z"
   },
   {
    "duration": 526,
    "start_time": "2022-01-18T13:40:51.293Z"
   },
   {
    "duration": 582,
    "start_time": "2022-01-18T13:41:17.377Z"
   },
   {
    "duration": 268,
    "start_time": "2022-01-18T13:44:10.877Z"
   },
   {
    "duration": 113,
    "start_time": "2022-01-18T13:44:33.546Z"
   },
   {
    "duration": 24,
    "start_time": "2022-01-18T13:44:35.563Z"
   },
   {
    "duration": 21,
    "start_time": "2022-01-18T13:44:38.844Z"
   },
   {
    "duration": 5,
    "start_time": "2022-01-18T13:44:42.008Z"
   },
   {
    "duration": 9,
    "start_time": "2022-01-18T13:44:43.916Z"
   },
   {
    "duration": 28,
    "start_time": "2022-01-18T13:44:46.073Z"
   },
   {
    "duration": 7,
    "start_time": "2022-01-18T13:44:51.871Z"
   },
   {
    "duration": 243,
    "start_time": "2022-01-18T13:45:25.613Z"
   },
   {
    "duration": 269,
    "start_time": "2022-01-18T13:46:19.005Z"
   },
   {
    "duration": 252,
    "start_time": "2022-01-18T13:47:01.472Z"
   },
   {
    "duration": 65,
    "start_time": "2022-01-18T13:47:38.137Z"
   },
   {
    "duration": 212,
    "start_time": "2022-01-18T13:54:34.626Z"
   },
   {
    "duration": 23,
    "start_time": "2022-01-18T13:55:19.201Z"
   },
   {
    "duration": 470,
    "start_time": "2022-01-18T14:02:41.949Z"
   },
   {
    "duration": 219,
    "start_time": "2022-01-18T14:02:59.253Z"
   },
   {
    "duration": 223,
    "start_time": "2022-01-18T14:03:37.329Z"
   },
   {
    "duration": 229,
    "start_time": "2022-01-18T14:04:17.607Z"
   },
   {
    "duration": 215,
    "start_time": "2022-01-18T14:04:56.333Z"
   },
   {
    "duration": 212,
    "start_time": "2022-01-18T14:05:14.541Z"
   },
   {
    "duration": 230,
    "start_time": "2022-01-18T14:05:34.215Z"
   },
   {
    "duration": 710,
    "start_time": "2022-01-18T17:19:23.513Z"
   },
   {
    "duration": 12,
    "start_time": "2022-01-18T17:19:29.470Z"
   },
   {
    "duration": 12,
    "start_time": "2022-01-18T17:25:06.804Z"
   },
   {
    "duration": 4,
    "start_time": "2022-01-18T17:25:10.691Z"
   },
   {
    "duration": 9,
    "start_time": "2022-01-18T17:25:13.914Z"
   },
   {
    "duration": 20,
    "start_time": "2022-01-18T17:25:19.379Z"
   },
   {
    "duration": 5,
    "start_time": "2022-01-18T17:26:10.131Z"
   },
   {
    "duration": 247,
    "start_time": "2022-01-18T17:26:45.656Z"
   },
   {
    "duration": 186,
    "start_time": "2022-01-18T17:27:40.388Z"
   },
   {
    "duration": 182,
    "start_time": "2022-01-18T17:27:54.977Z"
   },
   {
    "duration": 390,
    "start_time": "2022-01-18T17:39:11.610Z"
   },
   {
    "duration": 348,
    "start_time": "2022-01-18T17:39:24.325Z"
   },
   {
    "duration": 45,
    "start_time": "2022-01-18T17:39:31.667Z"
   },
   {
    "duration": 428,
    "start_time": "2022-01-18T17:42:01.413Z"
   },
   {
    "duration": 49,
    "start_time": "2022-01-18T17:43:16.953Z"
   },
   {
    "duration": 173,
    "start_time": "2022-01-18T18:15:13.608Z"
   },
   {
    "duration": 153,
    "start_time": "2022-01-18T18:15:24.680Z"
   },
   {
    "duration": 18,
    "start_time": "2022-01-18T18:16:08.712Z"
   },
   {
    "duration": 155,
    "start_time": "2022-01-18T18:17:17.379Z"
   },
   {
    "duration": 18,
    "start_time": "2022-01-18T18:17:41.801Z"
   },
   {
    "duration": 19,
    "start_time": "2022-01-18T18:17:43.256Z"
   },
   {
    "duration": 17,
    "start_time": "2022-01-18T18:17:48.871Z"
   },
   {
    "duration": 165,
    "start_time": "2022-01-18T18:18:21.258Z"
   },
   {
    "duration": 17,
    "start_time": "2022-01-18T18:18:42.142Z"
   },
   {
    "duration": 167,
    "start_time": "2022-01-18T18:19:34.350Z"
   },
   {
    "duration": 17,
    "start_time": "2022-01-18T18:19:54.115Z"
   },
   {
    "duration": 157,
    "start_time": "2022-01-18T18:20:24.374Z"
   },
   {
    "duration": 17,
    "start_time": "2022-01-18T18:20:45.419Z"
   },
   {
    "duration": 168,
    "start_time": "2022-01-18T18:21:20.933Z"
   },
   {
    "duration": 25,
    "start_time": "2022-01-18T18:22:14.485Z"
   },
   {
    "duration": 18,
    "start_time": "2022-01-18T18:23:45.153Z"
   },
   {
    "duration": 18,
    "start_time": "2022-01-18T18:24:10.657Z"
   },
   {
    "duration": 20,
    "start_time": "2022-01-18T18:29:49.636Z"
   },
   {
    "duration": 176,
    "start_time": "2022-01-18T18:33:59.933Z"
   },
   {
    "duration": 1017,
    "start_time": "2022-01-19T05:24:18.747Z"
   },
   {
    "duration": 24,
    "start_time": "2022-01-19T05:24:45.262Z"
   },
   {
    "duration": 15,
    "start_time": "2022-01-19T05:24:54.392Z"
   },
   {
    "duration": 6,
    "start_time": "2022-01-19T05:25:01.880Z"
   },
   {
    "duration": 11,
    "start_time": "2022-01-19T05:25:08.699Z"
   },
   {
    "duration": 27,
    "start_time": "2022-01-19T05:25:15.450Z"
   },
   {
    "duration": 6,
    "start_time": "2022-01-19T05:25:18.788Z"
   },
   {
    "duration": 385,
    "start_time": "2022-01-19T05:25:36.306Z"
   },
   {
    "duration": 353,
    "start_time": "2022-01-19T05:25:42.014Z"
   },
   {
    "duration": 531,
    "start_time": "2022-01-19T05:25:52.969Z"
   },
   {
    "duration": 63,
    "start_time": "2022-01-19T05:25:57.053Z"
   },
   {
    "duration": 253,
    "start_time": "2022-01-19T05:25:59.604Z"
   },
   {
    "duration": 23,
    "start_time": "2022-01-19T05:26:04.487Z"
   },
   {
    "duration": 197,
    "start_time": "2022-01-19T05:26:07.882Z"
   },
   {
    "duration": 24,
    "start_time": "2022-01-19T05:26:12.466Z"
   },
   {
    "duration": 260,
    "start_time": "2022-01-19T05:26:16.357Z"
   },
   {
    "duration": 300,
    "start_time": "2022-01-19T05:26:34.951Z"
   },
   {
    "duration": 30,
    "start_time": "2022-01-19T05:28:27.131Z"
   },
   {
    "duration": 199,
    "start_time": "2022-01-19T05:28:29.494Z"
   },
   {
    "duration": 26,
    "start_time": "2022-01-19T05:28:33.863Z"
   },
   {
    "duration": 239,
    "start_time": "2022-01-19T05:28:36.861Z"
   },
   {
    "duration": 27,
    "start_time": "2022-01-19T05:28:38.942Z"
   },
   {
    "duration": 332,
    "start_time": "2022-01-19T05:28:42.404Z"
   },
   {
    "duration": 290,
    "start_time": "2022-01-19T05:36:48.834Z"
   },
   {
    "duration": 290,
    "start_time": "2022-01-19T05:36:59.003Z"
   },
   {
    "duration": 924,
    "start_time": "2022-01-19T05:43:56.352Z"
   },
   {
    "duration": 317,
    "start_time": "2022-01-19T05:45:57.822Z"
   },
   {
    "duration": 343,
    "start_time": "2022-01-19T05:46:16.913Z"
   },
   {
    "duration": 294,
    "start_time": "2022-01-19T05:46:42.446Z"
   },
   {
    "duration": 310,
    "start_time": "2022-01-19T05:46:47.078Z"
   },
   {
    "duration": 9,
    "start_time": "2022-01-19T05:49:05.248Z"
   },
   {
    "duration": 48008,
    "start_time": "2022-01-19T05:50:32.500Z"
   },
   {
    "duration": 292,
    "start_time": "2022-01-19T06:03:29.406Z"
   },
   {
    "duration": 5,
    "start_time": "2022-01-19T06:07:34.702Z"
   },
   {
    "duration": 20,
    "start_time": "2022-01-19T06:07:52.500Z"
   },
   {
    "duration": 24,
    "start_time": "2022-01-19T06:08:22.841Z"
   },
   {
    "duration": 4,
    "start_time": "2022-01-19T06:21:08.480Z"
   },
   {
    "duration": 28,
    "start_time": "2022-01-19T06:32:13.553Z"
   },
   {
    "duration": 26,
    "start_time": "2022-01-19T06:32:22.018Z"
   },
   {
    "duration": 51,
    "start_time": "2022-01-19T06:32:58.664Z"
   },
   {
    "duration": 371,
    "start_time": "2022-01-19T06:41:45.112Z"
   },
   {
    "duration": 4,
    "start_time": "2022-01-19T06:42:47.942Z"
   },
   {
    "duration": 136,
    "start_time": "2022-01-19T06:43:15.852Z"
   },
   {
    "duration": 15,
    "start_time": "2022-01-19T06:43:15.991Z"
   },
   {
    "duration": 14,
    "start_time": "2022-01-19T06:43:16.009Z"
   },
   {
    "duration": 9,
    "start_time": "2022-01-19T06:43:16.026Z"
   },
   {
    "duration": 35,
    "start_time": "2022-01-19T06:43:16.037Z"
   },
   {
    "duration": 27,
    "start_time": "2022-01-19T06:43:16.074Z"
   },
   {
    "duration": 560,
    "start_time": "2022-01-19T06:43:16.103Z"
   },
   {
    "duration": 64,
    "start_time": "2022-01-19T06:43:16.668Z"
   },
   {
    "duration": 260,
    "start_time": "2022-01-19T06:43:16.735Z"
   },
   {
    "duration": 26,
    "start_time": "2022-01-19T06:43:16.998Z"
   },
   {
    "duration": 229,
    "start_time": "2022-01-19T06:43:17.027Z"
   },
   {
    "duration": 32,
    "start_time": "2022-01-19T06:43:17.259Z"
   },
   {
    "duration": 236,
    "start_time": "2022-01-19T06:43:17.293Z"
   },
   {
    "duration": 40,
    "start_time": "2022-01-19T06:43:17.531Z"
   },
   {
    "duration": 242,
    "start_time": "2022-01-19T06:43:17.573Z"
   },
   {
    "duration": 29,
    "start_time": "2022-01-19T06:43:17.817Z"
   },
   {
    "duration": 232,
    "start_time": "2022-01-19T06:43:17.865Z"
   },
   {
    "duration": 31,
    "start_time": "2022-01-19T06:43:18.099Z"
   },
   {
    "duration": 248,
    "start_time": "2022-01-19T06:43:18.133Z"
   },
   {
    "duration": 31,
    "start_time": "2022-01-19T06:43:18.383Z"
   },
   {
    "duration": 317,
    "start_time": "2022-01-19T06:43:18.417Z"
   },
   {
    "duration": 3,
    "start_time": "2022-01-19T06:43:18.737Z"
   },
   {
    "duration": 24,
    "start_time": "2022-01-19T06:43:18.744Z"
   },
   {
    "duration": 29,
    "start_time": "2022-01-19T06:43:18.771Z"
   },
   {
    "duration": 14,
    "start_time": "2022-01-19T06:43:18.802Z"
   },
   {
    "duration": 113,
    "start_time": "2022-01-19T06:43:25.262Z"
   },
   {
    "duration": 16,
    "start_time": "2022-01-19T06:43:33.349Z"
   },
   {
    "duration": 16,
    "start_time": "2022-01-19T06:43:36.945Z"
   },
   {
    "duration": 6,
    "start_time": "2022-01-19T06:43:40.764Z"
   },
   {
    "duration": 14,
    "start_time": "2022-01-19T06:43:42.978Z"
   },
   {
    "duration": 27,
    "start_time": "2022-01-19T06:43:46.928Z"
   },
   {
    "duration": 507,
    "start_time": "2022-01-19T06:43:49.448Z"
   },
   {
    "duration": 62,
    "start_time": "2022-01-19T06:43:52.373Z"
   },
   {
    "duration": 372,
    "start_time": "2022-01-19T06:43:54.979Z"
   },
   {
    "duration": 25,
    "start_time": "2022-01-19T06:43:57.488Z"
   },
   {
    "duration": 213,
    "start_time": "2022-01-19T06:43:59.264Z"
   },
   {
    "duration": 26,
    "start_time": "2022-01-19T06:44:01.445Z"
   },
   {
    "duration": 198,
    "start_time": "2022-01-19T06:44:03.222Z"
   },
   {
    "duration": 31,
    "start_time": "2022-01-19T06:44:05.207Z"
   },
   {
    "duration": 226,
    "start_time": "2022-01-19T06:44:07.774Z"
   },
   {
    "duration": 26,
    "start_time": "2022-01-19T06:44:09.654Z"
   },
   {
    "duration": 201,
    "start_time": "2022-01-19T06:44:11.848Z"
   },
   {
    "duration": 29,
    "start_time": "2022-01-19T06:44:13.806Z"
   },
   {
    "duration": 226,
    "start_time": "2022-01-19T06:44:15.667Z"
   },
   {
    "duration": 28,
    "start_time": "2022-01-19T06:44:18.361Z"
   },
   {
    "duration": 661,
    "start_time": "2022-01-19T06:45:06.392Z"
   },
   {
    "duration": 295,
    "start_time": "2022-01-19T06:45:27.592Z"
   },
   {
    "duration": 973,
    "start_time": "2022-01-19T09:38:36.885Z"
   },
   {
    "duration": 15,
    "start_time": "2022-01-19T09:38:46.371Z"
   },
   {
    "duration": 16,
    "start_time": "2022-01-19T09:38:50.855Z"
   },
   {
    "duration": 5,
    "start_time": "2022-01-19T09:38:55.502Z"
   },
   {
    "duration": 11,
    "start_time": "2022-01-19T09:38:58.575Z"
   },
   {
    "duration": 10,
    "start_time": "2022-01-19T09:39:12.257Z"
   },
   {
    "duration": 27,
    "start_time": "2022-01-19T09:39:14.422Z"
   },
   {
    "duration": 531,
    "start_time": "2022-01-19T09:39:19.985Z"
   },
   {
    "duration": 65,
    "start_time": "2022-01-19T09:39:44.503Z"
   },
   {
    "duration": 216,
    "start_time": "2022-01-19T09:39:47.784Z"
   },
   {
    "duration": 28,
    "start_time": "2022-01-19T09:39:50.378Z"
   },
   {
    "duration": 197,
    "start_time": "2022-01-19T09:39:52.524Z"
   },
   {
    "duration": 31,
    "start_time": "2022-01-19T09:39:54.926Z"
   },
   {
    "duration": 255,
    "start_time": "2022-01-19T09:39:56.518Z"
   },
   {
    "duration": 29,
    "start_time": "2022-01-19T09:39:59.437Z"
   },
   {
    "duration": 244,
    "start_time": "2022-01-19T09:40:03.844Z"
   },
   {
    "duration": 27,
    "start_time": "2022-01-19T09:40:06.507Z"
   },
   {
    "duration": 214,
    "start_time": "2022-01-19T09:40:08.315Z"
   },
   {
    "duration": 32,
    "start_time": "2022-01-19T09:40:10.288Z"
   },
   {
    "duration": 228,
    "start_time": "2022-01-19T09:40:13.304Z"
   },
   {
    "duration": 31,
    "start_time": "2022-01-19T09:40:14.935Z"
   },
   {
    "duration": 810,
    "start_time": "2022-01-19T09:40:18.663Z"
   },
   {
    "duration": 5,
    "start_time": "2022-01-19T09:40:29.929Z"
   },
   {
    "duration": 10,
    "start_time": "2022-01-19T09:40:52.421Z"
   },
   {
    "duration": 9,
    "start_time": "2022-01-19T09:41:15.918Z"
   },
   {
    "duration": 125,
    "start_time": "2022-01-19T09:48:31.674Z"
   },
   {
    "duration": 128,
    "start_time": "2022-01-19T09:50:54.867Z"
   },
   {
    "duration": 234,
    "start_time": "2022-01-19T09:52:10.826Z"
   },
   {
    "duration": 128,
    "start_time": "2022-01-19T09:52:17.978Z"
   },
   {
    "duration": 13,
    "start_time": "2022-01-19T10:02:10.082Z"
   },
   {
    "duration": 15,
    "start_time": "2022-01-19T10:02:12.902Z"
   },
   {
    "duration": 22,
    "start_time": "2022-01-19T10:25:41.053Z"
   },
   {
    "duration": 11,
    "start_time": "2022-01-19T10:25:43.502Z"
   },
   {
    "duration": 28,
    "start_time": "2022-01-19T10:27:27.218Z"
   },
   {
    "duration": 41,
    "start_time": "2022-01-19T10:31:23.193Z"
   },
   {
    "duration": 93,
    "start_time": "2022-01-19T10:38:16.993Z"
   },
   {
    "duration": 1117,
    "start_time": "2022-01-19T10:38:42.933Z"
   },
   {
    "duration": 1364,
    "start_time": "2022-01-19T10:39:32.474Z"
   },
   {
    "duration": 41,
    "start_time": "2022-01-19T10:55:59.194Z"
   },
   {
    "duration": 113,
    "start_time": "2022-01-19T12:35:24.922Z"
   },
   {
    "duration": 15,
    "start_time": "2022-01-19T12:35:30.803Z"
   },
   {
    "duration": 17,
    "start_time": "2022-01-19T12:35:33.761Z"
   },
   {
    "duration": 6,
    "start_time": "2022-01-19T12:35:37.493Z"
   },
   {
    "duration": 13,
    "start_time": "2022-01-19T12:35:41.298Z"
   },
   {
    "duration": 28,
    "start_time": "2022-01-19T12:35:44.933Z"
   },
   {
    "duration": 12,
    "start_time": "2022-01-19T12:35:54.085Z"
   },
   {
    "duration": 31,
    "start_time": "2022-01-19T12:35:59.596Z"
   },
   {
    "duration": 45,
    "start_time": "2022-01-19T12:36:57.926Z"
   },
   {
    "duration": 49,
    "start_time": "2022-01-19T12:38:09.696Z"
   },
   {
    "duration": 40,
    "start_time": "2022-01-19T12:40:01.390Z"
   },
   {
    "duration": 20,
    "start_time": "2022-01-19T12:42:00.952Z"
   },
   {
    "duration": 42,
    "start_time": "2022-01-19T12:52:49.919Z"
   },
   {
    "duration": 13,
    "start_time": "2022-01-19T12:54:20.275Z"
   },
   {
    "duration": 10,
    "start_time": "2022-01-19T12:55:51.082Z"
   },
   {
    "duration": 13,
    "start_time": "2022-01-19T12:56:48.235Z"
   },
   {
    "duration": 17,
    "start_time": "2022-01-19T13:15:22.350Z"
   },
   {
    "duration": 308,
    "start_time": "2022-01-19T13:21:33.768Z"
   },
   {
    "duration": 20,
    "start_time": "2022-01-19T13:22:46.630Z"
   },
   {
    "duration": 300,
    "start_time": "2022-01-19T13:22:48.983Z"
   },
   {
    "duration": 6,
    "start_time": "2022-01-19T13:25:28.822Z"
   },
   {
    "duration": 8,
    "start_time": "2022-01-19T13:25:43.750Z"
   },
   {
    "duration": 325,
    "start_time": "2022-01-19T13:26:23.138Z"
   },
   {
    "duration": 297,
    "start_time": "2022-01-19T13:26:28.092Z"
   },
   {
    "duration": 286,
    "start_time": "2022-01-19T13:26:43.835Z"
   },
   {
    "duration": 15,
    "start_time": "2022-01-19T13:26:51.198Z"
   },
   {
    "duration": 7,
    "start_time": "2022-01-19T13:27:25.887Z"
   },
   {
    "duration": 15,
    "start_time": "2022-01-19T13:27:34.426Z"
   },
   {
    "duration": 20,
    "start_time": "2022-01-19T13:31:01.338Z"
   },
   {
    "duration": 16,
    "start_time": "2022-01-19T13:32:27.052Z"
   },
   {
    "duration": 21,
    "start_time": "2022-01-19T13:32:46.331Z"
   },
   {
    "duration": 31,
    "start_time": "2022-01-19T13:35:14.507Z"
   },
   {
    "duration": 138,
    "start_time": "2022-01-19T13:46:17.213Z"
   },
   {
    "duration": 1142,
    "start_time": "2022-01-19T13:46:23.682Z"
   },
   {
    "duration": 31,
    "start_time": "2022-01-19T13:46:57.688Z"
   },
   {
    "duration": 24,
    "start_time": "2022-01-19T13:47:14.681Z"
   },
   {
    "duration": 33,
    "start_time": "2022-01-19T13:48:34.246Z"
   },
   {
    "duration": 31,
    "start_time": "2022-01-19T13:49:11.669Z"
   },
   {
    "duration": 363,
    "start_time": "2022-01-19T14:01:04.433Z"
   },
   {
    "duration": 1141,
    "start_time": "2022-01-19T14:01:39.562Z"
   },
   {
    "duration": 37,
    "start_time": "2022-01-19T14:13:42.701Z"
   },
   {
    "duration": 49,
    "start_time": "2022-01-19T14:15:57.912Z"
   },
   {
    "duration": 54,
    "start_time": "2022-01-19T14:20:48.089Z"
   },
   {
    "duration": 288,
    "start_time": "2022-01-19T14:24:26.900Z"
   },
   {
    "duration": 366,
    "start_time": "2022-01-19T14:26:21.912Z"
   },
   {
    "duration": 406,
    "start_time": "2022-01-19T14:27:05.325Z"
   },
   {
    "duration": 1419,
    "start_time": "2022-01-19T14:27:19.957Z"
   },
   {
    "duration": 282,
    "start_time": "2022-01-19T14:27:28.277Z"
   },
   {
    "duration": 682,
    "start_time": "2022-01-19T17:11:42.956Z"
   },
   {
    "duration": 11,
    "start_time": "2022-01-19T17:11:52.232Z"
   },
   {
    "duration": 10,
    "start_time": "2022-01-19T17:11:57.073Z"
   },
   {
    "duration": 4,
    "start_time": "2022-01-19T17:12:03.111Z"
   },
   {
    "duration": 8,
    "start_time": "2022-01-19T17:12:21.028Z"
   },
   {
    "duration": 17,
    "start_time": "2022-01-19T17:12:26.595Z"
   },
   {
    "duration": 7,
    "start_time": "2022-01-19T17:12:33.673Z"
   },
   {
    "duration": 20,
    "start_time": "2022-01-19T17:12:39.680Z"
   },
   {
    "duration": 28,
    "start_time": "2022-01-19T17:12:49.422Z"
   },
   {
    "duration": 26,
    "start_time": "2022-01-19T17:12:57.704Z"
   },
   {
    "duration": 17,
    "start_time": "2022-01-19T17:13:17.139Z"
   },
   {
    "duration": 26,
    "start_time": "2022-01-19T17:13:21.712Z"
   },
   {
    "duration": 26,
    "start_time": "2022-01-19T17:14:08.985Z"
   },
   {
    "duration": 26,
    "start_time": "2022-01-19T17:14:21.959Z"
   },
   {
    "duration": 27,
    "start_time": "2022-01-19T17:14:36.941Z"
   },
   {
    "duration": 18,
    "start_time": "2022-01-19T17:15:00.699Z"
   },
   {
    "duration": 27,
    "start_time": "2022-01-19T17:15:03.161Z"
   },
   {
    "duration": 26,
    "start_time": "2022-01-19T17:17:05.215Z"
   },
   {
    "duration": 25,
    "start_time": "2022-01-19T17:17:46.694Z"
   },
   {
    "duration": 60,
    "start_time": "2022-01-19T17:18:14.035Z"
   },
   {
    "duration": 11,
    "start_time": "2022-01-19T17:19:32.006Z"
   },
   {
    "duration": 24,
    "start_time": "2022-01-19T17:19:44.927Z"
   },
   {
    "duration": 23,
    "start_time": "2022-01-19T17:20:24.686Z"
   },
   {
    "duration": 679,
    "start_time": "2022-01-19T17:20:30.981Z"
   },
   {
    "duration": 34,
    "start_time": "2022-01-19T17:20:51.274Z"
   },
   {
    "duration": 165,
    "start_time": "2022-01-19T17:21:17.149Z"
   },
   {
    "duration": 813,
    "start_time": "2022-01-19T17:22:54.342Z"
   },
   {
    "duration": 624,
    "start_time": "2022-01-19T17:23:04.917Z"
   },
   {
    "duration": 396,
    "start_time": "2022-01-19T17:23:45.541Z"
   },
   {
    "duration": 465,
    "start_time": "2022-01-19T17:29:36.095Z"
   },
   {
    "duration": 202,
    "start_time": "2022-01-19T17:29:43.791Z"
   },
   {
    "duration": 506,
    "start_time": "2022-01-19T17:30:20.327Z"
   },
   {
    "duration": 315,
    "start_time": "2022-01-19T17:30:30.029Z"
   },
   {
    "duration": 163,
    "start_time": "2022-01-19T17:30:53.220Z"
   },
   {
    "duration": 403,
    "start_time": "2022-01-19T17:31:07.191Z"
   },
   {
    "duration": 165,
    "start_time": "2022-01-19T17:31:23.493Z"
   },
   {
    "duration": 353,
    "start_time": "2022-01-19T17:31:37.823Z"
   },
   {
    "duration": 177,
    "start_time": "2022-01-19T17:31:47.697Z"
   },
   {
    "duration": 324,
    "start_time": "2022-01-19T17:32:02.302Z"
   },
   {
    "duration": 61,
    "start_time": "2022-01-19T17:32:20.277Z"
   },
   {
    "duration": 158,
    "start_time": "2022-01-19T17:32:25.194Z"
   },
   {
    "duration": 72,
    "start_time": "2022-01-19T17:32:37.633Z"
   },
   {
    "duration": 138,
    "start_time": "2022-01-19T17:32:53.095Z"
   },
   {
    "duration": 329,
    "start_time": "2022-01-19T17:33:11.252Z"
   },
   {
    "duration": 4647,
    "start_time": "2022-01-19T17:39:24.585Z"
   },
   {
    "duration": 119,
    "start_time": "2022-01-19T17:41:50.394Z"
   },
   {
    "duration": 53,
    "start_time": "2022-01-19T17:48:08.399Z"
   },
   {
    "duration": 51,
    "start_time": "2022-01-19T17:50:31.719Z"
   },
   {
    "duration": 213,
    "start_time": "2022-01-19T17:50:47.614Z"
   },
   {
    "duration": 76,
    "start_time": "2022-01-19T17:50:52.653Z"
   },
   {
    "duration": 10,
    "start_time": "2022-01-19T17:50:56.100Z"
   },
   {
    "duration": 11,
    "start_time": "2022-01-19T17:50:59.525Z"
   },
   {
    "duration": 4,
    "start_time": "2022-01-19T17:51:03.003Z"
   },
   {
    "duration": 4,
    "start_time": "2022-01-19T17:51:05.907Z"
   },
   {
    "duration": 8,
    "start_time": "2022-01-19T17:51:08.210Z"
   },
   {
    "duration": 20,
    "start_time": "2022-01-19T17:51:10.258Z"
   },
   {
    "duration": 41,
    "start_time": "2022-01-19T17:51:13.970Z"
   },
   {
    "duration": 451,
    "start_time": "2022-01-19T17:56:17.705Z"
   },
   {
    "duration": 318,
    "start_time": "2022-01-19T17:56:40.213Z"
   },
   {
    "duration": 341,
    "start_time": "2022-01-19T17:56:58.322Z"
   },
   {
    "duration": 290,
    "start_time": "2022-01-19T17:57:11.640Z"
   },
   {
    "duration": 305,
    "start_time": "2022-01-19T17:57:25.134Z"
   },
   {
    "duration": 401,
    "start_time": "2022-01-19T17:57:36.869Z"
   },
   {
    "duration": 187,
    "start_time": "2022-01-19T17:58:15.830Z"
   },
   {
    "duration": 132,
    "start_time": "2022-01-19T17:58:32.152Z"
   },
   {
    "duration": 134,
    "start_time": "2022-01-19T17:59:07.230Z"
   },
   {
    "duration": 118,
    "start_time": "2022-01-19T17:59:29.259Z"
   },
   {
    "duration": 154,
    "start_time": "2022-01-19T18:00:39.039Z"
   },
   {
    "duration": 142,
    "start_time": "2022-01-19T18:00:56.829Z"
   },
   {
    "duration": 125,
    "start_time": "2022-01-19T18:04:16.358Z"
   },
   {
    "duration": 47,
    "start_time": "2022-01-19T18:04:52.871Z"
   },
   {
    "duration": 185,
    "start_time": "2022-01-19T18:06:06.604Z"
   },
   {
    "duration": 187,
    "start_time": "2022-01-19T18:06:15.474Z"
   },
   {
    "duration": 23,
    "start_time": "2022-01-19T18:06:23.842Z"
   },
   {
    "duration": 19,
    "start_time": "2022-01-19T18:06:32.536Z"
   },
   {
    "duration": 19,
    "start_time": "2022-01-19T18:09:16.589Z"
   },
   {
    "duration": 18,
    "start_time": "2022-01-19T18:12:03.076Z"
   },
   {
    "duration": 19,
    "start_time": "2022-01-19T18:13:47.028Z"
   },
   {
    "duration": 19,
    "start_time": "2022-01-19T18:17:38.740Z"
   },
   {
    "duration": 19,
    "start_time": "2022-01-19T18:18:38.564Z"
   },
   {
    "duration": 41,
    "start_time": "2022-01-19T18:45:39.802Z"
   },
   {
    "duration": 13,
    "start_time": "2022-01-19T18:47:06.899Z"
   },
   {
    "duration": 6,
    "start_time": "2022-01-19T18:47:46.469Z"
   },
   {
    "duration": 17,
    "start_time": "2022-01-19T18:48:55.547Z"
   },
   {
    "duration": 23,
    "start_time": "2022-01-19T18:50:10.782Z"
   },
   {
    "duration": 19,
    "start_time": "2022-01-19T18:51:06.645Z"
   },
   {
    "duration": 21,
    "start_time": "2022-01-19T18:52:47.093Z"
   },
   {
    "duration": 43,
    "start_time": "2022-01-19T18:53:03.020Z"
   },
   {
    "duration": 6,
    "start_time": "2022-01-19T18:53:07.721Z"
   },
   {
    "duration": 6,
    "start_time": "2022-01-19T18:53:14.289Z"
   },
   {
    "duration": 44,
    "start_time": "2022-01-19T18:53:42.420Z"
   },
   {
    "duration": 7,
    "start_time": "2022-01-19T18:53:45.611Z"
   },
   {
    "duration": 17,
    "start_time": "2022-01-19T18:53:58.137Z"
   },
   {
    "duration": 6,
    "start_time": "2022-01-19T18:54:10.463Z"
   },
   {
    "duration": 6,
    "start_time": "2022-01-19T18:55:02.967Z"
   },
   {
    "duration": 17,
    "start_time": "2022-01-19T18:55:05.966Z"
   },
   {
    "duration": 22,
    "start_time": "2022-01-19T18:55:50.029Z"
   },
   {
    "duration": 86,
    "start_time": "2022-01-19T18:56:20.318Z"
   },
   {
    "duration": 9,
    "start_time": "2022-01-19T18:56:20.413Z"
   },
   {
    "duration": 14,
    "start_time": "2022-01-19T18:56:20.425Z"
   },
   {
    "duration": 3,
    "start_time": "2022-01-19T18:56:20.441Z"
   },
   {
    "duration": 8,
    "start_time": "2022-01-19T18:56:20.446Z"
   },
   {
    "duration": 59,
    "start_time": "2022-01-19T18:56:20.455Z"
   },
   {
    "duration": 53,
    "start_time": "2022-01-19T18:56:20.516Z"
   },
   {
    "duration": 557,
    "start_time": "2022-01-19T18:56:20.573Z"
   },
   {
    "duration": 200,
    "start_time": "2022-01-19T18:56:21.133Z"
   },
   {
    "duration": 23,
    "start_time": "2022-01-19T18:56:21.336Z"
   },
   {
    "duration": 440,
    "start_time": "2022-01-19T18:56:21.361Z"
   },
   {
    "duration": 192,
    "start_time": "2022-01-19T18:56:21.804Z"
   },
   {
    "duration": 36,
    "start_time": "2022-01-19T18:56:21.998Z"
   },
   {
    "duration": 538,
    "start_time": "2022-01-19T18:56:22.036Z"
   },
   {
    "duration": 159,
    "start_time": "2022-01-19T18:56:22.576Z"
   },
   {
    "duration": 20,
    "start_time": "2022-01-19T18:56:22.737Z"
   },
   {
    "duration": 405,
    "start_time": "2022-01-19T18:56:22.759Z"
   },
   {
    "duration": 149,
    "start_time": "2022-01-19T18:56:23.166Z"
   },
   {
    "duration": 18,
    "start_time": "2022-01-19T18:56:23.317Z"
   },
   {
    "duration": 397,
    "start_time": "2022-01-19T18:56:23.338Z"
   },
   {
    "duration": 155,
    "start_time": "2022-01-19T18:56:23.737Z"
   },
   {
    "duration": 31,
    "start_time": "2022-01-19T18:56:23.894Z"
   },
   {
    "duration": 366,
    "start_time": "2022-01-19T18:56:23.928Z"
   },
   {
    "duration": 150,
    "start_time": "2022-01-19T18:56:24.296Z"
   },
   {
    "duration": 19,
    "start_time": "2022-01-19T18:56:24.448Z"
   },
   {
    "duration": 61,
    "start_time": "2022-01-19T18:56:24.469Z"
   },
   {
    "duration": 6,
    "start_time": "2022-01-19T18:56:24.531Z"
   },
   {
    "duration": 17,
    "start_time": "2022-01-19T18:56:24.538Z"
   },
   {
    "duration": 19,
    "start_time": "2022-01-19T18:56:24.556Z"
   },
   {
    "duration": 7,
    "start_time": "2022-01-19T18:56:24.576Z"
   },
   {
    "duration": 11,
    "start_time": "2022-01-19T18:56:24.612Z"
   },
   {
    "duration": 15,
    "start_time": "2022-01-19T18:56:24.624Z"
   },
   {
    "duration": 21,
    "start_time": "2022-01-19T18:56:24.640Z"
   },
   {
    "duration": 404,
    "start_time": "2022-01-19T18:56:24.663Z"
   },
   {
    "duration": 24,
    "start_time": "2022-01-19T18:56:25.069Z"
   },
   {
    "duration": 86,
    "start_time": "2022-01-19T18:56:32.657Z"
   },
   {
    "duration": 11,
    "start_time": "2022-01-19T18:56:34.840Z"
   },
   {
    "duration": 11,
    "start_time": "2022-01-19T18:56:40.447Z"
   },
   {
    "duration": 3,
    "start_time": "2022-01-19T18:56:42.935Z"
   },
   {
    "duration": 9,
    "start_time": "2022-01-19T18:56:45.134Z"
   },
   {
    "duration": 18,
    "start_time": "2022-01-19T18:56:47.133Z"
   },
   {
    "duration": 49,
    "start_time": "2022-01-19T18:56:49.238Z"
   },
   {
    "duration": 426,
    "start_time": "2022-01-19T18:56:54.916Z"
   },
   {
    "duration": 252,
    "start_time": "2022-01-19T18:56:56.924Z"
   },
   {
    "duration": 18,
    "start_time": "2022-01-19T18:56:59.261Z"
   },
   {
    "duration": 300,
    "start_time": "2022-01-19T18:57:01.435Z"
   },
   {
    "duration": 134,
    "start_time": "2022-01-19T18:57:03.612Z"
   },
   {
    "duration": 18,
    "start_time": "2022-01-19T18:57:05.627Z"
   },
   {
    "duration": 290,
    "start_time": "2022-01-19T18:57:07.579Z"
   },
   {
    "duration": 132,
    "start_time": "2022-01-19T18:57:09.443Z"
   },
   {
    "duration": 17,
    "start_time": "2022-01-19T18:57:11.771Z"
   },
   {
    "duration": 345,
    "start_time": "2022-01-19T18:57:13.786Z"
   },
   {
    "duration": 134,
    "start_time": "2022-01-19T18:57:16.002Z"
   },
   {
    "duration": 18,
    "start_time": "2022-01-19T18:57:19.849Z"
   },
   {
    "duration": 346,
    "start_time": "2022-01-19T18:57:29.711Z"
   },
   {
    "duration": 121,
    "start_time": "2022-01-19T18:57:32.367Z"
   },
   {
    "duration": 16,
    "start_time": "2022-01-19T18:57:34.929Z"
   },
   {
    "duration": 324,
    "start_time": "2022-01-19T18:57:38.174Z"
   },
   {
    "duration": 151,
    "start_time": "2022-01-19T18:57:40.255Z"
   },
   {
    "duration": 16,
    "start_time": "2022-01-19T18:57:42.750Z"
   },
   {
    "duration": 44,
    "start_time": "2022-01-19T18:57:49.620Z"
   },
   {
    "duration": 6,
    "start_time": "2022-01-19T18:58:00.347Z"
   },
   {
    "duration": 7,
    "start_time": "2022-01-19T18:58:04.530Z"
   },
   {
    "duration": 14,
    "start_time": "2022-01-19T18:58:13.593Z"
   },
   {
    "duration": 16,
    "start_time": "2022-01-19T18:58:59.194Z"
   },
   {
    "duration": 16,
    "start_time": "2022-01-19T18:59:24.053Z"
   },
   {
    "duration": 17,
    "start_time": "2022-01-19T19:00:14.461Z"
   },
   {
    "duration": 9,
    "start_time": "2022-01-19T19:25:30.476Z"
   },
   {
    "duration": 16,
    "start_time": "2022-01-19T19:35:34.118Z"
   },
   {
    "duration": 19,
    "start_time": "2022-01-19T19:36:06.489Z"
   },
   {
    "duration": 28,
    "start_time": "2022-01-19T19:36:26.909Z"
   },
   {
    "duration": 20,
    "start_time": "2022-01-19T19:36:53.968Z"
   },
   {
    "duration": 409,
    "start_time": "2022-01-19T19:37:30.915Z"
   },
   {
    "duration": 11,
    "start_time": "2022-01-19T19:39:10.275Z"
   },
   {
    "duration": 16,
    "start_time": "2022-01-19T19:39:19.618Z"
   },
   {
    "duration": 19,
    "start_time": "2022-01-19T19:39:26.456Z"
   },
   {
    "duration": 549,
    "start_time": "2022-01-19T19:39:30.976Z"
   },
   {
    "duration": 411,
    "start_time": "2022-01-19T19:40:42.597Z"
   },
   {
    "duration": 67,
    "start_time": "2022-01-19T19:41:14.921Z"
   },
   {
    "duration": 70,
    "start_time": "2022-01-19T19:41:25.143Z"
   },
   {
    "duration": 453,
    "start_time": "2022-01-19T19:41:37.947Z"
   },
   {
    "duration": 389,
    "start_time": "2022-01-19T19:44:21.298Z"
   },
   {
    "duration": 29,
    "start_time": "2022-01-19T19:47:26.726Z"
   },
   {
    "duration": 27,
    "start_time": "2022-01-19T19:48:46.799Z"
   },
   {
    "duration": 184,
    "start_time": "2022-01-19T19:58:32.276Z"
   },
   {
    "duration": 342,
    "start_time": "2022-01-19T19:59:05.085Z"
   },
   {
    "duration": 140,
    "start_time": "2022-01-19T20:00:05.043Z"
   },
   {
    "duration": 8,
    "start_time": "2022-01-19T20:00:52.051Z"
   },
   {
    "duration": 362,
    "start_time": "2022-01-19T20:10:27.799Z"
   },
   {
    "duration": 146,
    "start_time": "2022-01-19T20:10:30.776Z"
   },
   {
    "duration": 7,
    "start_time": "2022-01-19T20:10:35.047Z"
   },
   {
    "duration": 18,
    "start_time": "2022-01-19T20:22:53.761Z"
   },
   {
    "duration": 12,
    "start_time": "2022-01-19T20:23:16.917Z"
   },
   {
    "duration": 13,
    "start_time": "2022-01-19T20:25:05.245Z"
   },
   {
    "duration": 5241,
    "start_time": "2022-01-19T20:33:40.483Z"
   },
   {
    "duration": 4774,
    "start_time": "2022-01-19T20:35:07.895Z"
   },
   {
    "duration": 527,
    "start_time": "2022-01-19T20:40:42.498Z"
   },
   {
    "duration": 13,
    "start_time": "2022-01-19T20:42:24.449Z"
   },
   {
    "duration": 15,
    "start_time": "2022-01-19T20:42:28.902Z"
   },
   {
    "duration": 18,
    "start_time": "2022-01-19T20:42:35.929Z"
   },
   {
    "duration": 401,
    "start_time": "2022-01-19T20:42:40.950Z"
   },
   {
    "duration": 27,
    "start_time": "2022-01-19T20:42:49.636Z"
   },
   {
    "duration": 298,
    "start_time": "2022-01-19T20:42:53.178Z"
   },
   {
    "duration": 142,
    "start_time": "2022-01-19T20:42:55.259Z"
   },
   {
    "duration": 8,
    "start_time": "2022-01-19T20:42:57.179Z"
   },
   {
    "duration": 360,
    "start_time": "2022-01-19T20:43:05.937Z"
   },
   {
    "duration": 249,
    "start_time": "2022-01-19T20:43:24.238Z"
   },
   {
    "duration": 405,
    "start_time": "2022-01-19T20:44:29.028Z"
   },
   {
    "duration": 246,
    "start_time": "2022-01-19T20:45:05.934Z"
   },
   {
    "duration": 9,
    "start_time": "2022-01-19T20:55:16.862Z"
   },
   {
    "duration": 18,
    "start_time": "2022-01-19T20:58:12.186Z"
   },
   {
    "duration": 211,
    "start_time": "2022-01-19T20:59:58.769Z"
   },
   {
    "duration": 18,
    "start_time": "2022-01-19T21:00:53.474Z"
   },
   {
    "duration": 20,
    "start_time": "2022-01-19T21:01:51.222Z"
   },
   {
    "duration": 18,
    "start_time": "2022-01-19T21:03:58.156Z"
   },
   {
    "duration": 18,
    "start_time": "2022-01-19T21:09:21.542Z"
   },
   {
    "duration": 3,
    "start_time": "2022-01-19T21:09:40.195Z"
   },
   {
    "duration": 19,
    "start_time": "2022-01-19T21:09:42.308Z"
   },
   {
    "duration": 19,
    "start_time": "2022-01-19T21:10:37.939Z"
   },
   {
    "duration": 19,
    "start_time": "2022-01-19T21:11:00.631Z"
   },
   {
    "duration": 216,
    "start_time": "2022-01-19T21:11:44.824Z"
   },
   {
    "duration": 19,
    "start_time": "2022-01-19T21:24:01.916Z"
   },
   {
    "duration": 19,
    "start_time": "2022-01-19T21:24:32.165Z"
   },
   {
    "duration": 1014,
    "start_time": "2022-01-20T03:50:55.128Z"
   },
   {
    "duration": 16,
    "start_time": "2022-01-20T03:50:58.133Z"
   },
   {
    "duration": 16,
    "start_time": "2022-01-20T03:51:01.381Z"
   },
   {
    "duration": 5,
    "start_time": "2022-01-20T03:51:03.708Z"
   },
   {
    "duration": 10,
    "start_time": "2022-01-20T03:51:07.180Z"
   },
   {
    "duration": 27,
    "start_time": "2022-01-20T03:51:09.316Z"
   },
   {
    "duration": 65,
    "start_time": "2022-01-20T03:51:11.694Z"
   },
   {
    "duration": 653,
    "start_time": "2022-01-20T03:51:13.914Z"
   },
   {
    "duration": 220,
    "start_time": "2022-01-20T03:51:16.586Z"
   },
   {
    "duration": 27,
    "start_time": "2022-01-20T03:51:18.450Z"
   },
   {
    "duration": 578,
    "start_time": "2022-01-20T03:51:20.844Z"
   },
   {
    "duration": 231,
    "start_time": "2022-01-20T03:51:23.338Z"
   },
   {
    "duration": 29,
    "start_time": "2022-01-20T03:51:25.440Z"
   },
   {
    "duration": 519,
    "start_time": "2022-01-20T03:51:27.960Z"
   },
   {
    "duration": 217,
    "start_time": "2022-01-20T03:51:31.257Z"
   },
   {
    "duration": 27,
    "start_time": "2022-01-20T03:51:33.671Z"
   },
   {
    "duration": 551,
    "start_time": "2022-01-20T03:51:35.511Z"
   },
   {
    "duration": 200,
    "start_time": "2022-01-20T03:51:37.574Z"
   },
   {
    "duration": 29,
    "start_time": "2022-01-20T03:51:39.566Z"
   },
   {
    "duration": 569,
    "start_time": "2022-01-20T03:51:41.254Z"
   },
   {
    "duration": 295,
    "start_time": "2022-01-20T03:51:43.526Z"
   },
   {
    "duration": 26,
    "start_time": "2022-01-20T03:51:45.838Z"
   },
   {
    "duration": 523,
    "start_time": "2022-01-20T03:51:55.548Z"
   },
   {
    "duration": 221,
    "start_time": "2022-01-20T03:52:00.811Z"
   },
   {
    "duration": 204,
    "start_time": "2022-01-20T03:52:09.797Z"
   },
   {
    "duration": 26,
    "start_time": "2022-01-20T03:52:12.289Z"
   },
   {
    "duration": 65,
    "start_time": "2022-01-20T03:52:18.954Z"
   },
   {
    "duration": 9,
    "start_time": "2022-01-20T03:52:24.455Z"
   },
   {
    "duration": 24,
    "start_time": "2022-01-20T03:52:28.023Z"
   },
   {
    "duration": 25,
    "start_time": "2022-01-20T03:52:30.142Z"
   },
   {
    "duration": 25,
    "start_time": "2022-01-20T03:52:35.429Z"
   },
   {
    "duration": 25,
    "start_time": "2022-01-20T03:53:01.498Z"
   },
   {
    "duration": 11,
    "start_time": "2022-01-20T03:53:12.503Z"
   },
   {
    "duration": 16,
    "start_time": "2022-01-20T03:53:14.704Z"
   },
   {
    "duration": 26,
    "start_time": "2022-01-20T03:53:24.833Z"
   },
   {
    "duration": 29,
    "start_time": "2022-01-20T03:53:27.094Z"
   },
   {
    "duration": 663,
    "start_time": "2022-01-20T03:53:29.173Z"
   },
   {
    "duration": 534,
    "start_time": "2022-01-20T03:53:32.979Z"
   },
   {
    "duration": 222,
    "start_time": "2022-01-20T03:53:35.012Z"
   },
   {
    "duration": 12,
    "start_time": "2022-01-20T03:53:37.380Z"
   },
   {
    "duration": 28,
    "start_time": "2022-01-20T03:54:55.008Z"
   },
   {
    "duration": 30,
    "start_time": "2022-01-20T03:56:07.544Z"
   },
   {
    "duration": 33,
    "start_time": "2022-01-20T03:56:37.031Z"
   },
   {
    "duration": 117,
    "start_time": "2022-01-20T05:13:28.207Z"
   },
   {
    "duration": 15,
    "start_time": "2022-01-20T05:13:30.686Z"
   },
   {
    "duration": 15,
    "start_time": "2022-01-20T05:13:34.767Z"
   },
   {
    "duration": 6,
    "start_time": "2022-01-20T05:13:37.791Z"
   },
   {
    "duration": 10,
    "start_time": "2022-01-20T05:13:40.116Z"
   },
   {
    "duration": 26,
    "start_time": "2022-01-20T05:13:42.750Z"
   },
   {
    "duration": 63,
    "start_time": "2022-01-20T05:13:45.384Z"
   },
   {
    "duration": 755,
    "start_time": "2022-01-20T05:13:48.065Z"
   },
   {
    "duration": 236,
    "start_time": "2022-01-20T05:13:52.439Z"
   },
   {
    "duration": 29,
    "start_time": "2022-01-20T05:13:55.326Z"
   },
   {
    "duration": 512,
    "start_time": "2022-01-20T05:13:58.240Z"
   },
   {
    "duration": 307,
    "start_time": "2022-01-20T05:14:00.927Z"
   },
   {
    "duration": 28,
    "start_time": "2022-01-20T05:14:03.979Z"
   },
   {
    "duration": 528,
    "start_time": "2022-01-20T05:14:07.158Z"
   },
   {
    "duration": 212,
    "start_time": "2022-01-20T05:14:10.403Z"
   },
   {
    "duration": 27,
    "start_time": "2022-01-20T05:14:13.050Z"
   },
   {
    "duration": 521,
    "start_time": "2022-01-20T05:14:17.353Z"
   },
   {
    "duration": 215,
    "start_time": "2022-01-20T05:14:21.076Z"
   },
   {
    "duration": 28,
    "start_time": "2022-01-20T05:14:24.109Z"
   },
   {
    "duration": 660,
    "start_time": "2022-01-20T05:14:26.815Z"
   },
   {
    "duration": 225,
    "start_time": "2022-01-20T05:14:29.624Z"
   },
   {
    "duration": 25,
    "start_time": "2022-01-20T05:14:32.288Z"
   },
   {
    "duration": 515,
    "start_time": "2022-01-20T05:14:35.329Z"
   },
   {
    "duration": 212,
    "start_time": "2022-01-20T05:14:40.808Z"
   },
   {
    "duration": 26,
    "start_time": "2022-01-20T05:14:44.887Z"
   },
   {
    "duration": 65,
    "start_time": "2022-01-20T05:14:48.820Z"
   },
   {
    "duration": 9,
    "start_time": "2022-01-20T05:14:52.112Z"
   },
   {
    "duration": 24,
    "start_time": "2022-01-20T05:14:55.658Z"
   },
   {
    "duration": 24,
    "start_time": "2022-01-20T05:14:58.946Z"
   },
   {
    "duration": 25,
    "start_time": "2022-01-20T05:15:12.107Z"
   },
   {
    "duration": 11,
    "start_time": "2022-01-20T05:15:19.875Z"
   },
   {
    "duration": 17,
    "start_time": "2022-01-20T05:15:22.663Z"
   },
   {
    "duration": 23,
    "start_time": "2022-01-20T05:15:31.098Z"
   },
   {
    "duration": 30,
    "start_time": "2022-01-20T05:15:34.106Z"
   },
   {
    "duration": 666,
    "start_time": "2022-01-20T05:15:38.479Z"
   },
   {
    "duration": 41,
    "start_time": "2022-01-20T05:15:42.442Z"
   },
   {
    "duration": 520,
    "start_time": "2022-01-20T05:15:48.588Z"
   },
   {
    "duration": 258,
    "start_time": "2022-01-20T05:15:51.037Z"
   },
   {
    "duration": 13,
    "start_time": "2022-01-20T05:15:53.884Z"
   },
   {
    "duration": 35,
    "start_time": "2022-01-20T05:26:25.700Z"
   },
   {
    "duration": 32,
    "start_time": "2022-01-20T05:34:15.816Z"
   },
   {
    "duration": 34,
    "start_time": "2022-01-20T05:35:18.099Z"
   },
   {
    "duration": 16,
    "start_time": "2022-01-20T05:36:03.825Z"
   },
   {
    "duration": 35,
    "start_time": "2022-01-20T05:36:15.603Z"
   },
   {
    "duration": 32,
    "start_time": "2022-01-20T07:13:07.804Z"
   },
   {
    "duration": 25,
    "start_time": "2022-01-20T07:13:21.323Z"
   },
   {
    "duration": 17,
    "start_time": "2022-01-20T07:13:45.302Z"
   },
   {
    "duration": 15,
    "start_time": "2022-01-20T07:13:47.511Z"
   },
   {
    "duration": 15,
    "start_time": "2022-01-20T07:13:51.751Z"
   },
   {
    "duration": 15,
    "start_time": "2022-01-20T07:13:56.507Z"
   },
   {
    "duration": 494,
    "start_time": "2022-01-20T07:14:32.546Z"
   },
   {
    "duration": 439,
    "start_time": "2022-01-20T07:14:42.171Z"
   },
   {
    "duration": 17,
    "start_time": "2022-01-20T07:14:51.722Z"
   },
   {
    "duration": 32,
    "start_time": "2022-01-20T07:15:08.514Z"
   },
   {
    "duration": 43,
    "start_time": "2022-01-20T07:16:37.740Z"
   },
   {
    "duration": 43,
    "start_time": "2022-01-20T07:17:26.253Z"
   },
   {
    "duration": 16,
    "start_time": "2022-01-20T07:17:47.660Z"
   },
   {
    "duration": 19,
    "start_time": "2022-01-20T07:30:31.913Z"
   },
   {
    "duration": 20,
    "start_time": "2022-01-20T07:31:30.429Z"
   },
   {
    "duration": 19,
    "start_time": "2022-01-20T07:31:36.166Z"
   },
   {
    "duration": 380,
    "start_time": "2022-01-20T07:32:10.645Z"
   },
   {
    "duration": 19,
    "start_time": "2022-01-20T07:32:17.285Z"
   },
   {
    "duration": 329,
    "start_time": "2022-01-20T07:33:12.367Z"
   },
   {
    "duration": 388,
    "start_time": "2022-01-20T07:33:35.358Z"
   },
   {
    "duration": 20,
    "start_time": "2022-01-20T07:33:58.602Z"
   },
   {
    "duration": 20,
    "start_time": "2022-01-20T08:22:03.358Z"
   },
   {
    "duration": 19,
    "start_time": "2022-01-20T08:22:21.483Z"
   },
   {
    "duration": 19,
    "start_time": "2022-01-20T08:23:29.989Z"
   },
   {
    "duration": 19,
    "start_time": "2022-01-20T08:23:42.107Z"
   },
   {
    "duration": 20,
    "start_time": "2022-01-20T08:24:03.711Z"
   },
   {
    "duration": 20,
    "start_time": "2022-01-20T08:24:18.233Z"
   },
   {
    "duration": 20,
    "start_time": "2022-01-20T08:26:23.855Z"
   },
   {
    "duration": 19,
    "start_time": "2022-01-20T08:26:48.609Z"
   },
   {
    "duration": 18,
    "start_time": "2022-01-20T08:27:47.000Z"
   },
   {
    "duration": 20,
    "start_time": "2022-01-20T08:28:26.945Z"
   },
   {
    "duration": 18,
    "start_time": "2022-01-20T08:28:43.627Z"
   },
   {
    "duration": 19,
    "start_time": "2022-01-20T08:53:20.937Z"
   },
   {
    "duration": 19,
    "start_time": "2022-01-20T08:55:05.987Z"
   },
   {
    "duration": 19,
    "start_time": "2022-01-20T08:55:09.492Z"
   },
   {
    "duration": 18,
    "start_time": "2022-01-20T08:55:20.667Z"
   },
   {
    "duration": 28,
    "start_time": "2022-01-20T08:55:37.068Z"
   },
   {
    "duration": 20,
    "start_time": "2022-01-20T08:55:52.845Z"
   },
   {
    "duration": 19,
    "start_time": "2022-01-20T09:05:03.941Z"
   },
   {
    "duration": 887,
    "start_time": "2022-01-20T09:13:50.146Z"
   },
   {
    "duration": 13,
    "start_time": "2022-01-20T09:14:30.628Z"
   },
   {
    "duration": 3,
    "start_time": "2022-01-20T09:14:39.322Z"
   },
   {
    "duration": 37,
    "start_time": "2022-01-20T09:14:56.810Z"
   },
   {
    "duration": 10,
    "start_time": "2022-01-20T09:15:06.328Z"
   },
   {
    "duration": 755,
    "start_time": "2022-01-20T09:15:32.994Z"
   },
   {
    "duration": 487,
    "start_time": "2022-01-20T09:17:11.883Z"
   },
   {
    "duration": 315,
    "start_time": "2022-01-20T09:19:40.523Z"
   },
   {
    "duration": 283,
    "start_time": "2022-01-20T09:20:07.472Z"
   },
   {
    "duration": 370,
    "start_time": "2022-01-20T09:20:26.138Z"
   },
   {
    "duration": 599,
    "start_time": "2022-01-20T09:20:54.725Z"
   },
   {
    "duration": 318,
    "start_time": "2022-01-20T09:21:05.353Z"
   },
   {
    "duration": 303,
    "start_time": "2022-01-20T09:27:57.685Z"
   },
   {
    "duration": 1285,
    "start_time": "2022-01-20T09:32:16.914Z"
   },
   {
    "duration": 864,
    "start_time": "2022-01-20T09:32:24.154Z"
   },
   {
    "duration": 806,
    "start_time": "2022-01-20T09:32:44.023Z"
   },
   {
    "duration": 514,
    "start_time": "2022-01-20T09:37:14.549Z"
   },
   {
    "duration": 491,
    "start_time": "2022-01-20T09:39:37.016Z"
   },
   {
    "duration": 628,
    "start_time": "2022-01-20T09:46:17.482Z"
   },
   {
    "duration": 675,
    "start_time": "2022-01-20T09:46:35.444Z"
   },
   {
    "duration": 535,
    "start_time": "2022-01-20T09:49:04.518Z"
   },
   {
    "duration": 685,
    "start_time": "2022-01-20T09:53:00.607Z"
   },
   {
    "duration": 578,
    "start_time": "2022-01-20T10:07:05.418Z"
   },
   {
    "duration": 784,
    "start_time": "2022-01-20T10:07:27.770Z"
   },
   {
    "duration": 680,
    "start_time": "2022-01-20T10:07:46.057Z"
   },
   {
    "duration": 617,
    "start_time": "2022-01-20T10:08:19.769Z"
   },
   {
    "duration": 662,
    "start_time": "2022-01-20T10:08:35.833Z"
   },
   {
    "duration": 522,
    "start_time": "2022-01-20T10:09:54.167Z"
   },
   {
    "duration": 536,
    "start_time": "2022-01-20T10:10:27.339Z"
   },
   {
    "duration": 575,
    "start_time": "2022-01-20T10:12:19.648Z"
   },
   {
    "duration": 528,
    "start_time": "2022-01-20T10:12:34.653Z"
   },
   {
    "duration": 640,
    "start_time": "2022-01-20T10:13:15.046Z"
   },
   {
    "duration": 565,
    "start_time": "2022-01-20T10:13:28.231Z"
   },
   {
    "duration": 2769,
    "start_time": "2022-01-20T10:18:06.149Z"
   },
   {
    "duration": 33,
    "start_time": "2022-01-20T11:43:57.745Z"
   },
   {
    "duration": 10,
    "start_time": "2022-01-20T11:44:32.274Z"
   },
   {
    "duration": 363,
    "start_time": "2022-01-20T11:45:42.255Z"
   },
   {
    "duration": 384,
    "start_time": "2022-01-20T11:46:15.210Z"
   },
   {
    "duration": 24,
    "start_time": "2022-01-20T11:47:17.388Z"
   },
   {
    "duration": 11,
    "start_time": "2022-01-20T11:47:41.417Z"
   },
   {
    "duration": 10,
    "start_time": "2022-01-20T11:52:27.472Z"
   },
   {
    "duration": 386,
    "start_time": "2022-01-20T11:52:34.141Z"
   },
   {
    "duration": 12,
    "start_time": "2022-01-20T12:20:58.129Z"
   },
   {
    "duration": 6,
    "start_time": "2022-01-20T12:31:22.879Z"
   },
   {
    "duration": 10,
    "start_time": "2022-01-20T12:31:48.370Z"
   },
   {
    "duration": 15,
    "start_time": "2022-01-20T12:33:15.857Z"
   },
   {
    "duration": 13,
    "start_time": "2022-01-20T12:33:23.960Z"
   },
   {
    "duration": 501,
    "start_time": "2022-01-20T12:47:18.810Z"
   },
   {
    "duration": 88,
    "start_time": "2022-01-20T12:47:42.181Z"
   },
   {
    "duration": 97,
    "start_time": "2022-01-20T12:48:03.945Z"
   },
   {
    "duration": 102,
    "start_time": "2022-01-20T12:48:30.786Z"
   },
   {
    "duration": 745,
    "start_time": "2022-01-21T01:15:00.095Z"
   },
   {
    "duration": 11,
    "start_time": "2022-01-21T01:15:03.912Z"
   },
   {
    "duration": 11,
    "start_time": "2022-01-21T01:15:09.226Z"
   },
   {
    "duration": 4,
    "start_time": "2022-01-21T01:15:17.811Z"
   },
   {
    "duration": 9,
    "start_time": "2022-01-21T01:15:20.873Z"
   },
   {
    "duration": 18,
    "start_time": "2022-01-21T01:15:23.721Z"
   },
   {
    "duration": 41,
    "start_time": "2022-01-21T01:15:26.808Z"
   },
   {
    "duration": 377,
    "start_time": "2022-01-21T01:15:31.942Z"
   },
   {
    "duration": 135,
    "start_time": "2022-01-21T01:15:35.047Z"
   },
   {
    "duration": 17,
    "start_time": "2022-01-21T01:15:42.734Z"
   },
   {
    "duration": 323,
    "start_time": "2022-01-21T01:15:45.607Z"
   },
   {
    "duration": 131,
    "start_time": "2022-01-21T01:15:48.588Z"
   },
   {
    "duration": 18,
    "start_time": "2022-01-21T01:15:52.820Z"
   },
   {
    "duration": 298,
    "start_time": "2022-01-21T01:16:00.275Z"
   },
   {
    "duration": 115,
    "start_time": "2022-01-21T01:16:05.631Z"
   },
   {
    "duration": 18,
    "start_time": "2022-01-21T01:16:10.650Z"
   },
   {
    "duration": 284,
    "start_time": "2022-01-21T01:16:14.438Z"
   },
   {
    "duration": 126,
    "start_time": "2022-01-21T01:16:20.991Z"
   },
   {
    "duration": 308,
    "start_time": "2022-01-21T01:16:24.695Z"
   },
   {
    "duration": 185,
    "start_time": "2022-01-21T01:16:41.676Z"
   },
   {
    "duration": 17,
    "start_time": "2022-01-21T01:16:55.594Z"
   },
   {
    "duration": 298,
    "start_time": "2022-01-21T01:17:00.537Z"
   },
   {
    "duration": 122,
    "start_time": "2022-01-21T01:17:04.417Z"
   },
   {
    "duration": 19,
    "start_time": "2022-01-21T01:17:12.576Z"
   },
   {
    "duration": 42,
    "start_time": "2022-01-21T01:17:19.343Z"
   },
   {
    "duration": 7,
    "start_time": "2022-01-21T01:17:35.699Z"
   },
   {
    "duration": 15,
    "start_time": "2022-01-21T01:17:40.733Z"
   },
   {
    "duration": 19,
    "start_time": "2022-01-21T01:17:45.290Z"
   },
   {
    "duration": 16,
    "start_time": "2022-01-21T01:18:07.623Z"
   },
   {
    "duration": 7,
    "start_time": "2022-01-21T01:18:16.302Z"
   },
   {
    "duration": 12,
    "start_time": "2022-01-21T01:18:20.061Z"
   },
   {
    "duration": 17,
    "start_time": "2022-01-21T01:18:23.950Z"
   },
   {
    "duration": 19,
    "start_time": "2022-01-21T01:18:34.492Z"
   },
   {
    "duration": 403,
    "start_time": "2022-01-21T01:18:38.738Z"
   },
   {
    "duration": 308,
    "start_time": "2022-01-21T01:18:44.880Z"
   },
   {
    "duration": 127,
    "start_time": "2022-01-21T01:18:49.480Z"
   },
   {
    "duration": 8,
    "start_time": "2022-01-21T01:18:53.136Z"
   },
   {
    "duration": 686,
    "start_time": "2022-01-21T01:20:31.785Z"
   },
   {
    "duration": 433,
    "start_time": "2022-01-21T01:20:47.646Z"
   },
   {
    "duration": 197,
    "start_time": "2022-01-21T01:21:33.983Z"
   },
   {
    "duration": 336,
    "start_time": "2022-01-21T01:22:31.895Z"
   },
   {
    "duration": 257,
    "start_time": "2022-01-21T01:22:57.385Z"
   },
   {
    "duration": 335,
    "start_time": "2022-01-21T01:28:05.513Z"
   },
   {
    "duration": 319,
    "start_time": "2022-01-21T01:28:40.908Z"
   },
   {
    "duration": 203,
    "start_time": "2022-01-21T01:29:54.337Z"
   },
   {
    "duration": 221,
    "start_time": "2022-01-21T01:30:43.241Z"
   },
   {
    "duration": 226,
    "start_time": "2022-01-21T01:31:10.549Z"
   },
   {
    "duration": 2961,
    "start_time": "2022-01-21T01:38:38.335Z"
   },
   {
    "duration": 2,
    "start_time": "2022-01-21T01:39:35.495Z"
   },
   {
    "duration": 297,
    "start_time": "2022-01-21T01:42:41.416Z"
   },
   {
    "duration": 316,
    "start_time": "2022-01-21T01:43:14.923Z"
   },
   {
    "duration": 3,
    "start_time": "2022-01-21T01:44:40.781Z"
   },
   {
    "duration": 311,
    "start_time": "2022-01-21T01:45:02.721Z"
   },
   {
    "duration": 299,
    "start_time": "2022-01-21T01:45:10.360Z"
   },
   {
    "duration": 229,
    "start_time": "2022-01-21T01:53:00.950Z"
   },
   {
    "duration": 473,
    "start_time": "2022-01-21T01:53:21.587Z"
   },
   {
    "duration": 434,
    "start_time": "2022-01-21T01:53:43.319Z"
   },
   {
    "duration": 377,
    "start_time": "2022-01-21T01:54:46.108Z"
   },
   {
    "duration": 381,
    "start_time": "2022-01-21T01:54:59.306Z"
   },
   {
    "duration": 412,
    "start_time": "2022-01-21T01:56:56.647Z"
   },
   {
    "duration": 326,
    "start_time": "2022-01-21T01:57:27.644Z"
   },
   {
    "duration": 7482,
    "start_time": "2022-01-21T01:58:13.307Z"
   },
   {
    "duration": 411,
    "start_time": "2022-01-21T01:58:26.923Z"
   },
   {
    "duration": 419,
    "start_time": "2022-01-21T01:58:36.833Z"
   },
   {
    "duration": 382,
    "start_time": "2022-01-21T01:59:52.412Z"
   },
   {
    "duration": 371,
    "start_time": "2022-01-21T01:59:54.683Z"
   },
   {
    "duration": 394,
    "start_time": "2022-01-21T01:59:57.258Z"
   },
   {
    "duration": 302,
    "start_time": "2022-01-21T02:01:19.462Z"
   },
   {
    "duration": 171,
    "start_time": "2022-01-21T02:01:31.062Z"
   },
   {
    "duration": 373,
    "start_time": "2022-01-21T02:02:43.082Z"
   },
   {
    "duration": 419,
    "start_time": "2022-01-21T02:12:46.239Z"
   },
   {
    "duration": 61,
    "start_time": "2022-01-21T02:25:37.277Z"
   },
   {
    "duration": 13,
    "start_time": "2022-01-21T02:25:46.299Z"
   },
   {
    "duration": 376,
    "start_time": "2022-01-21T02:25:49.523Z"
   },
   {
    "duration": 349,
    "start_time": "2022-01-21T02:25:59.105Z"
   },
   {
    "duration": 24,
    "start_time": "2022-01-21T02:28:46.231Z"
   },
   {
    "duration": 532,
    "start_time": "2022-01-21T02:35:00.149Z"
   },
   {
    "duration": 341,
    "start_time": "2022-01-21T02:36:05.562Z"
   },
   {
    "duration": 434,
    "start_time": "2022-01-21T02:36:12.368Z"
   },
   {
    "duration": 974,
    "start_time": "2022-01-21T02:37:11.703Z"
   },
   {
    "duration": 100,
    "start_time": "2022-01-21T02:44:26.226Z"
   },
   {
    "duration": 20,
    "start_time": "2022-01-21T02:44:55.789Z"
   },
   {
    "duration": 17,
    "start_time": "2022-01-21T02:51:12.395Z"
   },
   {
    "duration": 15,
    "start_time": "2022-01-21T02:51:26.927Z"
   },
   {
    "duration": 299,
    "start_time": "2022-01-21T02:52:57.753Z"
   },
   {
    "duration": 277,
    "start_time": "2022-01-21T02:53:08.719Z"
   },
   {
    "duration": 330,
    "start_time": "2022-01-21T02:54:42.559Z"
   },
   {
    "duration": 320,
    "start_time": "2022-01-21T02:55:13.452Z"
   },
   {
    "duration": 458,
    "start_time": "2022-01-21T02:55:59.925Z"
   },
   {
    "duration": 273,
    "start_time": "2022-01-21T02:56:15.521Z"
   },
   {
    "duration": 334,
    "start_time": "2022-01-21T02:56:24.255Z"
   },
   {
    "duration": 164,
    "start_time": "2022-01-21T03:01:23.129Z"
   },
   {
    "duration": 153,
    "start_time": "2022-01-21T03:02:46.555Z"
   },
   {
    "duration": 171,
    "start_time": "2022-01-21T03:03:21.143Z"
   },
   {
    "duration": 154,
    "start_time": "2022-01-21T03:03:23.382Z"
   },
   {
    "duration": 16,
    "start_time": "2022-01-21T03:05:45.185Z"
   },
   {
    "duration": 380,
    "start_time": "2022-01-21T03:14:06.608Z"
   },
   {
    "duration": 389,
    "start_time": "2022-01-21T03:14:23.149Z"
   },
   {
    "duration": 96,
    "start_time": "2022-01-21T03:19:20.454Z"
   },
   {
    "duration": 18,
    "start_time": "2022-01-21T03:39:06.210Z"
   },
   {
    "duration": 17,
    "start_time": "2022-01-21T03:39:39.821Z"
   },
   {
    "duration": 129,
    "start_time": "2022-01-21T03:42:55.352Z"
   },
   {
    "duration": 8,
    "start_time": "2022-01-21T03:43:19.040Z"
   },
   {
    "duration": 281,
    "start_time": "2022-01-26T09:15:50.739Z"
   },
   {
    "duration": 806,
    "start_time": "2022-01-26T09:16:00.606Z"
   },
   {
    "duration": 14,
    "start_time": "2022-01-26T09:16:04.289Z"
   },
   {
    "duration": 14,
    "start_time": "2022-01-26T09:16:10.832Z"
   },
   {
    "duration": 13,
    "start_time": "2022-01-26T09:16:34.018Z"
   },
   {
    "duration": 276,
    "start_time": "2022-01-26T09:25:46.126Z"
   },
   {
    "duration": 236,
    "start_time": "2022-01-26T09:28:46.007Z"
   },
   {
    "duration": 259,
    "start_time": "2022-01-26T09:29:35.526Z"
   },
   {
    "duration": 103,
    "start_time": "2022-01-26T09:29:43.929Z"
   },
   {
    "duration": 13,
    "start_time": "2022-01-26T09:29:46.547Z"
   },
   {
    "duration": 12,
    "start_time": "2022-01-26T09:29:50.632Z"
   },
   {
    "duration": 282,
    "start_time": "2022-01-26T09:55:43.806Z"
   },
   {
    "duration": 99,
    "start_time": "2022-01-26T09:55:56.230Z"
   },
   {
    "duration": 12,
    "start_time": "2022-01-26T09:55:58.958Z"
   },
   {
    "duration": 13,
    "start_time": "2022-01-26T09:56:04.148Z"
   },
   {
    "duration": 4,
    "start_time": "2022-01-26T09:56:30.532Z"
   },
   {
    "duration": 5,
    "start_time": "2022-01-26T09:59:31.604Z"
   },
   {
    "duration": 9,
    "start_time": "2022-01-26T09:59:34.643Z"
   },
   {
    "duration": 22,
    "start_time": "2022-01-26T09:59:53.836Z"
   },
   {
    "duration": 47,
    "start_time": "2022-01-26T09:59:57.299Z"
   },
   {
    "duration": 460,
    "start_time": "2022-01-26T10:07:18.479Z"
   },
   {
    "duration": 475,
    "start_time": "2022-01-26T11:06:17.825Z"
   },
   {
    "duration": 445,
    "start_time": "2022-01-26T11:11:47.788Z"
   },
   {
    "duration": 167,
    "start_time": "2022-01-26T11:11:52.897Z"
   },
   {
    "duration": 22,
    "start_time": "2022-01-26T11:17:46.229Z"
   },
   {
    "duration": 444,
    "start_time": "2022-01-26T11:18:48.792Z"
   },
   {
    "duration": 155,
    "start_time": "2022-01-26T11:19:05.549Z"
   },
   {
    "duration": 166,
    "start_time": "2022-01-26T11:22:52.609Z"
   },
   {
    "duration": 20,
    "start_time": "2022-01-26T11:22:55.260Z"
   },
   {
    "duration": 344,
    "start_time": "2022-01-26T11:23:15.937Z"
   },
   {
    "duration": 152,
    "start_time": "2022-01-26T11:23:39.972Z"
   },
   {
    "duration": 21,
    "start_time": "2022-01-26T11:23:43.225Z"
   },
   {
    "duration": 461,
    "start_time": "2022-01-26T11:24:36.081Z"
   },
   {
    "duration": 141,
    "start_time": "2022-01-26T11:24:43.512Z"
   },
   {
    "duration": 21,
    "start_time": "2022-01-26T11:25:51.667Z"
   },
   {
    "duration": 341,
    "start_time": "2022-01-26T11:26:16.318Z"
   },
   {
    "duration": 142,
    "start_time": "2022-01-26T11:26:25.130Z"
   },
   {
    "duration": 19,
    "start_time": "2022-01-26T11:27:30.886Z"
   },
   {
    "duration": 347,
    "start_time": "2022-01-26T11:28:13.100Z"
   },
   {
    "duration": 338,
    "start_time": "2022-01-26T11:28:21.100Z"
   },
   {
    "duration": 209,
    "start_time": "2022-01-26T11:28:28.590Z"
   },
   {
    "duration": 19,
    "start_time": "2022-01-26T11:28:33.579Z"
   },
   {
    "duration": 651,
    "start_time": "2022-01-26T11:58:52.387Z"
   },
   {
    "duration": 12,
    "start_time": "2022-01-26T11:58:55.440Z"
   },
   {
    "duration": 13,
    "start_time": "2022-01-26T11:59:01.384Z"
   },
   {
    "duration": 4,
    "start_time": "2022-01-26T11:59:06.291Z"
   },
   {
    "duration": 9,
    "start_time": "2022-01-26T11:59:10.712Z"
   },
   {
    "duration": 21,
    "start_time": "2022-01-26T11:59:14.255Z"
   },
   {
    "duration": 46,
    "start_time": "2022-01-26T11:59:15.448Z"
   },
   {
    "duration": 50,
    "start_time": "2022-01-26T12:00:27.326Z"
   },
   {
    "duration": 448,
    "start_time": "2022-01-26T12:00:31.462Z"
   },
   {
    "duration": 162,
    "start_time": "2022-01-26T12:00:34.059Z"
   },
   {
    "duration": 19,
    "start_time": "2022-01-26T12:00:36.978Z"
   },
   {
    "duration": 418,
    "start_time": "2022-01-26T12:00:39.723Z"
   },
   {
    "duration": 155,
    "start_time": "2022-01-26T12:00:44.414Z"
   },
   {
    "duration": 22,
    "start_time": "2022-01-26T12:00:47.631Z"
   },
   {
    "duration": 349,
    "start_time": "2022-01-26T12:00:51.385Z"
   },
   {
    "duration": 156,
    "start_time": "2022-01-26T12:00:54.351Z"
   },
   {
    "duration": 24,
    "start_time": "2022-01-26T12:00:58.024Z"
   },
   {
    "duration": 354,
    "start_time": "2022-01-26T12:01:00.231Z"
   },
   {
    "duration": 147,
    "start_time": "2022-01-26T12:01:03.967Z"
   },
   {
    "duration": 22,
    "start_time": "2022-01-26T12:01:07.292Z"
   },
   {
    "duration": 357,
    "start_time": "2022-01-26T12:01:13.960Z"
   },
   {
    "duration": 239,
    "start_time": "2022-01-26T12:01:17.554Z"
   },
   {
    "duration": 24,
    "start_time": "2022-01-26T12:01:19.737Z"
   },
   {
    "duration": 472,
    "start_time": "2022-01-26T12:01:21.838Z"
   },
   {
    "duration": 189,
    "start_time": "2022-01-26T12:01:24.633Z"
   },
   {
    "duration": 24,
    "start_time": "2022-01-26T12:01:26.766Z"
   },
   {
    "duration": 64,
    "start_time": "2022-01-26T12:01:30.214Z"
   },
   {
    "duration": 8,
    "start_time": "2022-01-26T12:01:47.357Z"
   },
   {
    "duration": 402,
    "start_time": "2022-01-26T12:02:20.212Z"
   },
   {
    "duration": 904,
    "start_time": "2022-01-26T12:03:51.742Z"
   },
   {
    "duration": 82,
    "start_time": "2022-01-26T12:04:04.438Z"
   },
   {
    "duration": 700,
    "start_time": "2022-01-26T12:04:54.543Z"
   },
   {
    "duration": 700,
    "start_time": "2022-01-26T12:06:13.413Z"
   },
   {
    "duration": 738,
    "start_time": "2022-01-26T12:08:22.059Z"
   },
   {
    "duration": 689,
    "start_time": "2022-01-26T12:09:10.695Z"
   },
   {
    "duration": 666,
    "start_time": "2022-01-26T12:10:24.719Z"
   },
   {
    "duration": 423,
    "start_time": "2022-01-26T12:11:08.971Z"
   },
   {
    "duration": 678,
    "start_time": "2022-01-26T12:11:19.931Z"
   },
   {
    "duration": 97,
    "start_time": "2022-01-26T12:25:45.388Z"
   },
   {
    "duration": 969,
    "start_time": "2022-01-26T12:25:54.874Z"
   },
   {
    "duration": 1101,
    "start_time": "2022-01-26T12:26:17.792Z"
   },
   {
    "duration": 504,
    "start_time": "2022-01-26T12:26:44.882Z"
   },
   {
    "duration": 655,
    "start_time": "2022-01-26T12:27:02.240Z"
   },
   {
    "duration": 243,
    "start_time": "2022-01-26T12:27:41.105Z"
   },
   {
    "duration": 1272,
    "start_time": "2022-01-26T16:43:22.893Z"
   },
   {
    "duration": 11,
    "start_time": "2022-01-26T16:43:26.620Z"
   },
   {
    "duration": 11,
    "start_time": "2022-01-26T16:43:31.946Z"
   },
   {
    "duration": 4,
    "start_time": "2022-01-26T16:43:38.474Z"
   },
   {
    "duration": 7,
    "start_time": "2022-01-26T16:43:41.162Z"
   },
   {
    "duration": 22,
    "start_time": "2022-01-26T16:43:59.679Z"
   },
   {
    "duration": 17,
    "start_time": "2022-01-26T16:44:06.046Z"
   },
   {
    "duration": 38,
    "start_time": "2022-01-26T16:44:09.829Z"
   },
   {
    "duration": 361,
    "start_time": "2022-01-26T16:44:15.485Z"
   },
   {
    "duration": 204,
    "start_time": "2022-01-26T16:44:38.490Z"
   },
   {
    "duration": 17,
    "start_time": "2022-01-26T16:44:41.888Z"
   },
   {
    "duration": 299,
    "start_time": "2022-01-26T16:44:54.423Z"
   },
   {
    "duration": 125,
    "start_time": "2022-01-26T16:45:00.687Z"
   },
   {
    "duration": 342,
    "start_time": "2022-01-26T16:45:03.956Z"
   },
   {
    "duration": 117,
    "start_time": "2022-01-26T16:45:07.723Z"
   },
   {
    "duration": 17,
    "start_time": "2022-01-26T16:45:12.923Z"
   },
   {
    "duration": 288,
    "start_time": "2022-01-26T16:45:16.530Z"
   },
   {
    "duration": 117,
    "start_time": "2022-01-26T16:45:37.903Z"
   },
   {
    "duration": 17,
    "start_time": "2022-01-26T16:45:48.358Z"
   },
   {
    "duration": 290,
    "start_time": "2022-01-26T16:45:51.341Z"
   },
   {
    "duration": 124,
    "start_time": "2022-01-26T16:45:54.484Z"
   },
   {
    "duration": 16,
    "start_time": "2022-01-26T16:45:57.388Z"
   },
   {
    "duration": 283,
    "start_time": "2022-01-26T16:46:00.612Z"
   },
   {
    "duration": 119,
    "start_time": "2022-01-26T16:46:03.091Z"
   },
   {
    "duration": 18,
    "start_time": "2022-01-26T16:46:05.899Z"
   },
   {
    "duration": 38,
    "start_time": "2022-01-26T16:46:11.194Z"
   },
   {
    "duration": 7,
    "start_time": "2022-01-26T16:46:15.193Z"
   },
   {
    "duration": 746,
    "start_time": "2022-01-26T16:46:48.877Z"
   },
   {
    "duration": 665,
    "start_time": "2022-01-26T16:49:27.331Z"
   },
   {
    "duration": 672,
    "start_time": "2022-01-26T16:49:59.757Z"
   },
   {
    "duration": 399,
    "start_time": "2022-01-26T16:59:44.402Z"
   },
   {
    "duration": 345,
    "start_time": "2022-01-26T16:59:56.328Z"
   },
   {
    "duration": 328,
    "start_time": "2022-01-26T17:00:45.824Z"
   },
   {
    "duration": 351,
    "start_time": "2022-01-26T17:06:23.874Z"
   },
   {
    "duration": 1272,
    "start_time": "2022-01-26T17:06:40.073Z"
   },
   {
    "duration": 6,
    "start_time": "2022-01-26T17:07:22.440Z"
   },
   {
    "duration": 14,
    "start_time": "2022-01-26T17:07:35.326Z"
   },
   {
    "duration": 9,
    "start_time": "2022-01-26T17:10:54.801Z"
   },
   {
    "duration": 6,
    "start_time": "2022-01-26T17:11:39.560Z"
   },
   {
    "duration": 9,
    "start_time": "2022-01-26T17:11:54.917Z"
   },
   {
    "duration": 19,
    "start_time": "2022-01-26T17:14:02.347Z"
   },
   {
    "duration": 17,
    "start_time": "2022-01-26T17:14:12.687Z"
   },
   {
    "duration": 360,
    "start_time": "2022-01-26T17:14:21.280Z"
   },
   {
    "duration": 24,
    "start_time": "2022-01-26T17:14:32.980Z"
   },
   {
    "duration": 306,
    "start_time": "2022-01-26T17:14:53.321Z"
   },
   {
    "duration": 143,
    "start_time": "2022-01-26T17:15:00.703Z"
   },
   {
    "duration": 8,
    "start_time": "2022-01-26T17:15:06.189Z"
   },
   {
    "duration": 352,
    "start_time": "2022-01-26T17:16:30.378Z"
   },
   {
    "duration": 129,
    "start_time": "2022-01-26T17:16:36.184Z"
   },
   {
    "duration": 368,
    "start_time": "2022-01-26T17:17:32.471Z"
   },
   {
    "duration": 352,
    "start_time": "2022-01-26T17:18:29.437Z"
   },
   {
    "duration": 691,
    "start_time": "2022-01-26T17:18:46.916Z"
   },
   {
    "duration": 358,
    "start_time": "2022-01-26T17:18:58.841Z"
   },
   {
    "duration": 392,
    "start_time": "2022-01-26T17:20:15.093Z"
   },
   {
    "duration": 389,
    "start_time": "2022-01-26T17:20:38.577Z"
   },
   {
    "duration": 364,
    "start_time": "2022-01-26T17:20:55.736Z"
   },
   {
    "duration": 411,
    "start_time": "2022-01-26T17:21:40.367Z"
   },
   {
    "duration": 527,
    "start_time": "2022-01-26T17:22:26.618Z"
   },
   {
    "duration": 524,
    "start_time": "2022-01-26T17:22:56.708Z"
   },
   {
    "duration": 433,
    "start_time": "2022-01-26T17:23:23.584Z"
   },
   {
    "duration": 428,
    "start_time": "2022-01-26T17:23:56.994Z"
   },
   {
    "duration": 409,
    "start_time": "2022-01-26T17:24:00.122Z"
   },
   {
    "duration": 438,
    "start_time": "2022-01-26T17:24:35.220Z"
   },
   {
    "duration": 444,
    "start_time": "2022-01-26T17:24:41.707Z"
   },
   {
    "duration": 422,
    "start_time": "2022-01-26T17:24:50.210Z"
   },
   {
    "duration": 422,
    "start_time": "2022-01-26T17:24:54.473Z"
   },
   {
    "duration": 438,
    "start_time": "2022-01-26T17:24:57.679Z"
   },
   {
    "duration": 383,
    "start_time": "2022-01-26T17:25:04.959Z"
   },
   {
    "duration": 423,
    "start_time": "2022-01-26T17:25:43.448Z"
   },
   {
    "duration": 56,
    "start_time": "2022-01-26T17:26:55.785Z"
   },
   {
    "duration": 13,
    "start_time": "2022-01-26T17:27:36.127Z"
   },
   {
    "duration": 331,
    "start_time": "2022-01-26T17:27:42.063Z"
   },
   {
    "duration": 418,
    "start_time": "2022-01-26T17:28:14.369Z"
   },
   {
    "duration": 432,
    "start_time": "2022-01-26T17:28:24.071Z"
   },
   {
    "duration": 417,
    "start_time": "2022-01-26T17:28:30.982Z"
   },
   {
    "duration": 489,
    "start_time": "2022-01-26T17:28:37.318Z"
   },
   {
    "duration": 428,
    "start_time": "2022-01-26T17:28:43.397Z"
   },
   {
    "duration": 388,
    "start_time": "2022-01-26T17:28:51.244Z"
   },
   {
    "duration": 407,
    "start_time": "2022-01-26T17:28:57.939Z"
   },
   {
    "duration": 54,
    "start_time": "2022-01-26T17:29:03.313Z"
   },
   {
    "duration": 13,
    "start_time": "2022-01-26T17:29:07.753Z"
   },
   {
    "duration": 398,
    "start_time": "2022-01-26T17:29:11.100Z"
   },
   {
    "duration": 381,
    "start_time": "2022-01-26T17:29:15.183Z"
   },
   {
    "duration": 21,
    "start_time": "2022-01-26T17:30:19.661Z"
   },
   {
    "duration": 171,
    "start_time": "2022-01-26T17:30:26.781Z"
   },
   {
    "duration": 149,
    "start_time": "2022-01-26T17:30:39.978Z"
   },
   {
    "duration": 168,
    "start_time": "2022-01-26T17:31:05.350Z"
   },
   {
    "duration": 141,
    "start_time": "2022-01-26T17:31:12.657Z"
   },
   {
    "duration": 21,
    "start_time": "2022-01-26T17:34:18.123Z"
   },
   {
    "duration": 159,
    "start_time": "2022-01-26T17:34:19.863Z"
   },
   {
    "duration": 384,
    "start_time": "2022-01-26T17:36:17.134Z"
   },
   {
    "duration": 628,
    "start_time": "2022-01-26T17:36:36.642Z"
   },
   {
    "duration": 336,
    "start_time": "2022-01-26T17:37:39.362Z"
   },
   {
    "duration": 425,
    "start_time": "2022-01-26T17:38:00.990Z"
   },
   {
    "duration": 239,
    "start_time": "2022-01-26T17:38:46.221Z"
   },
   {
    "duration": 149,
    "start_time": "2022-01-26T17:39:08.036Z"
   },
   {
    "duration": 170,
    "start_time": "2022-01-26T17:39:24.687Z"
   },
   {
    "duration": 143,
    "start_time": "2022-01-26T17:39:39.246Z"
   },
   {
    "duration": 353,
    "start_time": "2022-01-26T17:40:15.910Z"
   },
   {
    "duration": 327,
    "start_time": "2022-01-26T17:41:34.410Z"
   },
   {
    "duration": 292,
    "start_time": "2022-01-26T17:42:00.255Z"
   },
   {
    "duration": 288,
    "start_time": "2022-01-26T17:42:34.049Z"
   },
   {
    "duration": 288,
    "start_time": "2022-01-26T17:42:54.679Z"
   },
   {
    "duration": 318,
    "start_time": "2022-01-26T17:43:33.727Z"
   },
   {
    "duration": 1219,
    "start_time": "2022-01-26T17:45:00.579Z"
   },
   {
    "duration": 1303,
    "start_time": "2022-01-26T17:46:55.936Z"
   },
   {
    "duration": 1140,
    "start_time": "2022-01-26T17:52:53.911Z"
   },
   {
    "duration": 1207,
    "start_time": "2022-01-26T17:57:04.825Z"
   },
   {
    "duration": 1272,
    "start_time": "2022-01-26T17:57:59.359Z"
   },
   {
    "duration": 8673,
    "start_time": "2022-01-26T18:21:04.680Z"
   },
   {
    "duration": 8454,
    "start_time": "2022-01-26T18:21:25.430Z"
   },
   {
    "duration": 8623,
    "start_time": "2022-01-26T18:31:55.003Z"
   },
   {
    "duration": 544,
    "start_time": "2022-01-26T18:48:41.368Z"
   },
   {
    "duration": 393,
    "start_time": "2022-01-26T18:54:56.901Z"
   },
   {
    "duration": 10548,
    "start_time": "2022-01-26T18:58:52.705Z"
   },
   {
    "duration": 8691,
    "start_time": "2022-01-26T18:59:23.819Z"
   },
   {
    "duration": 1653,
    "start_time": "2022-01-26T19:01:21.296Z"
   },
   {
    "duration": 8181,
    "start_time": "2022-01-26T19:02:11.521Z"
   },
   {
    "duration": 12204,
    "start_time": "2022-01-26T19:04:08.133Z"
   },
   {
    "duration": 8663,
    "start_time": "2022-01-26T19:05:47.095Z"
   },
   {
    "duration": 523,
    "start_time": "2022-01-26T19:21:27.256Z"
   },
   {
    "duration": 154,
    "start_time": "2022-01-26T19:22:55.282Z"
   },
   {
    "duration": 517,
    "start_time": "2022-01-26T19:23:15.742Z"
   },
   {
    "duration": 314,
    "start_time": "2022-01-26T19:27:18.808Z"
   },
   {
    "duration": 327,
    "start_time": "2022-01-26T19:28:54.240Z"
   },
   {
    "duration": 314,
    "start_time": "2022-01-26T19:32:21.231Z"
   },
   {
    "duration": 333,
    "start_time": "2022-01-26T19:32:39.933Z"
   },
   {
    "duration": 279,
    "start_time": "2022-01-27T05:06:45.891Z"
   },
   {
    "duration": 265,
    "start_time": "2022-01-27T05:07:30.020Z"
   },
   {
    "duration": 240,
    "start_time": "2022-01-27T05:07:38.803Z"
   },
   {
    "duration": 235,
    "start_time": "2022-01-27T05:07:50.739Z"
   },
   {
    "duration": 261,
    "start_time": "2022-01-27T05:08:57.956Z"
   },
   {
    "duration": 1307,
    "start_time": "2022-01-27T05:09:08.991Z"
   },
   {
    "duration": 12,
    "start_time": "2022-01-27T05:09:12.371Z"
   },
   {
    "duration": 12,
    "start_time": "2022-01-27T05:09:17.136Z"
   },
   {
    "duration": 4,
    "start_time": "2022-01-27T05:09:20.735Z"
   },
   {
    "duration": 9,
    "start_time": "2022-01-27T05:09:23.981Z"
   },
   {
    "duration": 21,
    "start_time": "2022-01-27T05:09:26.443Z"
   },
   {
    "duration": 50,
    "start_time": "2022-01-27T05:09:29.466Z"
   },
   {
    "duration": 441,
    "start_time": "2022-01-27T05:09:36.036Z"
   },
   {
    "duration": 159,
    "start_time": "2022-01-27T05:09:39.105Z"
   },
   {
    "duration": 21,
    "start_time": "2022-01-27T05:09:41.595Z"
   },
   {
    "duration": 350,
    "start_time": "2022-01-27T05:09:44.059Z"
   },
   {
    "duration": 162,
    "start_time": "2022-01-27T05:09:47.250Z"
   },
   {
    "duration": 21,
    "start_time": "2022-01-27T05:09:49.538Z"
   },
   {
    "duration": 421,
    "start_time": "2022-01-27T05:09:52.318Z"
   },
   {
    "duration": 150,
    "start_time": "2022-01-27T05:09:55.337Z"
   },
   {
    "duration": 21,
    "start_time": "2022-01-27T05:09:58.411Z"
   },
   {
    "duration": 348,
    "start_time": "2022-01-27T05:10:00.666Z"
   },
   {
    "duration": 155,
    "start_time": "2022-01-27T05:10:03.553Z"
   },
   {
    "duration": 22,
    "start_time": "2022-01-27T05:10:06.251Z"
   },
   {
    "duration": 361,
    "start_time": "2022-01-27T05:10:08.650Z"
   },
   {
    "duration": 154,
    "start_time": "2022-01-27T05:10:11.065Z"
   },
   {
    "duration": 20,
    "start_time": "2022-01-27T05:10:13.339Z"
   },
   {
    "duration": 340,
    "start_time": "2022-01-27T05:10:16.058Z"
   },
   {
    "duration": 148,
    "start_time": "2022-01-27T05:10:19.130Z"
   },
   {
    "duration": 21,
    "start_time": "2022-01-27T05:10:22.245Z"
   },
   {
    "duration": 48,
    "start_time": "2022-01-27T05:10:25.730Z"
   },
   {
    "duration": 8,
    "start_time": "2022-01-27T05:10:28.601Z"
   },
   {
    "duration": 907,
    "start_time": "2022-01-27T05:10:34.752Z"
   },
   {
    "duration": 12,
    "start_time": "2022-01-27T05:10:39.674Z"
   },
   {
    "duration": 8,
    "start_time": "2022-01-27T05:10:43.366Z"
   },
   {
    "duration": 13,
    "start_time": "2022-01-27T05:10:45.601Z"
   },
   {
    "duration": 16,
    "start_time": "2022-01-27T05:10:49.515Z"
   },
   {
    "duration": 23,
    "start_time": "2022-01-27T05:10:53.331Z"
   },
   {
    "duration": 428,
    "start_time": "2022-01-27T05:10:56.862Z"
   },
   {
    "duration": 32,
    "start_time": "2022-01-27T05:10:59.919Z"
   },
   {
    "duration": 361,
    "start_time": "2022-01-27T05:11:03.106Z"
   },
   {
    "duration": 165,
    "start_time": "2022-01-27T05:11:06.048Z"
   },
   {
    "duration": 9,
    "start_time": "2022-01-27T05:11:10.210Z"
   },
   {
    "duration": 471,
    "start_time": "2022-01-27T05:11:12.649Z"
   },
   {
    "duration": 487,
    "start_time": "2022-01-27T05:11:15.058Z"
   },
   {
    "duration": 451,
    "start_time": "2022-01-27T05:11:45.723Z"
   },
   {
    "duration": 467,
    "start_time": "2022-01-27T05:11:53.084Z"
   },
   {
    "duration": 570,
    "start_time": "2022-01-27T05:11:55.697Z"
   },
   {
    "duration": 466,
    "start_time": "2022-01-27T05:12:00.189Z"
   },
   {
    "duration": 503,
    "start_time": "2022-01-27T05:12:07.665Z"
   },
   {
    "duration": 72,
    "start_time": "2022-01-27T05:12:12.075Z"
   },
   {
    "duration": 17,
    "start_time": "2022-01-27T05:12:16.169Z"
   },
   {
    "duration": 444,
    "start_time": "2022-01-27T05:12:18.266Z"
   },
   {
    "duration": 420,
    "start_time": "2022-01-27T05:12:21.088Z"
   },
   {
    "duration": 28,
    "start_time": "2022-01-27T05:12:25.625Z"
   },
   {
    "duration": 244,
    "start_time": "2022-01-27T05:12:28.221Z"
   },
   {
    "duration": 721,
    "start_time": "2022-01-27T05:35:17.149Z"
   },
   {
    "duration": 503,
    "start_time": "2022-01-27T05:42:45.971Z"
   },
   {
    "duration": 528,
    "start_time": "2022-01-27T05:48:45.947Z"
   },
   {
    "duration": 723,
    "start_time": "2022-01-27T05:48:59.398Z"
   },
   {
    "duration": 483,
    "start_time": "2022-01-27T05:56:08.875Z"
   },
   {
    "duration": 773,
    "start_time": "2022-01-27T05:56:21.501Z"
   },
   {
    "duration": 468,
    "start_time": "2022-01-27T05:57:32.691Z"
   },
   {
    "duration": 567,
    "start_time": "2022-01-27T05:58:13.061Z"
   },
   {
    "duration": 729,
    "start_time": "2022-01-27T05:58:43.890Z"
   },
   {
    "duration": 446,
    "start_time": "2022-01-27T05:59:31.682Z"
   },
   {
    "duration": 736,
    "start_time": "2022-01-27T05:59:55.434Z"
   },
   {
    "duration": 862,
    "start_time": "2022-01-27T06:00:57.516Z"
   },
   {
    "duration": 248,
    "start_time": "2022-01-27T06:01:49.177Z"
   },
   {
    "duration": 443,
    "start_time": "2022-01-27T06:02:51.198Z"
   },
   {
    "duration": 243,
    "start_time": "2022-01-27T06:02:56.570Z"
   },
   {
    "duration": 448,
    "start_time": "2022-01-27T06:09:57.398Z"
   },
   {
    "duration": 448,
    "start_time": "2022-01-27T06:10:25.142Z"
   },
   {
    "duration": 436,
    "start_time": "2022-01-27T06:10:31.838Z"
   },
   {
    "duration": 766,
    "start_time": "2022-01-27T06:10:40.461Z"
   },
   {
    "duration": 894,
    "start_time": "2022-01-27T06:11:25.401Z"
   },
   {
    "duration": 424,
    "start_time": "2022-01-27T06:16:52.332Z"
   },
   {
    "duration": 793,
    "start_time": "2022-01-27T06:17:11.817Z"
   },
   {
    "duration": 1064,
    "start_time": "2022-01-27T06:18:05.392Z"
   },
   {
    "duration": 809,
    "start_time": "2022-01-27T06:19:07.016Z"
   },
   {
    "duration": 772,
    "start_time": "2022-01-27T06:19:31.704Z"
   },
   {
    "duration": 767,
    "start_time": "2022-01-27T06:20:40.248Z"
   },
   {
    "duration": 758,
    "start_time": "2022-01-27T06:20:57.073Z"
   },
   {
    "duration": 886,
    "start_time": "2022-01-27T06:22:04.214Z"
   },
   {
    "duration": 838,
    "start_time": "2022-01-27T06:30:04.508Z"
   },
   {
    "duration": 850,
    "start_time": "2022-01-27T06:30:27.763Z"
   },
   {
    "duration": 821,
    "start_time": "2022-01-27T06:30:39.115Z"
   },
   {
    "duration": 758,
    "start_time": "2022-01-27T06:31:33.639Z"
   },
   {
    "duration": 673,
    "start_time": "2022-01-27T06:32:16.898Z"
   },
   {
    "duration": 602,
    "start_time": "2022-01-27T06:32:29.986Z"
   },
   {
    "duration": 855,
    "start_time": "2022-01-27T06:32:52.123Z"
   },
   {
    "duration": 509,
    "start_time": "2022-01-27T07:10:24.559Z"
   },
   {
    "duration": 1033,
    "start_time": "2022-01-27T07:14:14.965Z"
   },
   {
    "duration": 448,
    "start_time": "2022-01-27T07:14:24.421Z"
   },
   {
    "duration": 256,
    "start_time": "2022-01-27T07:17:58.868Z"
   },
   {
    "duration": 254,
    "start_time": "2022-01-27T07:18:12.972Z"
   },
   {
    "duration": 458,
    "start_time": "2022-01-27T07:18:27.804Z"
   },
   {
    "duration": 877,
    "start_time": "2022-01-27T07:27:44.967Z"
   },
   {
    "duration": 680,
    "start_time": "2022-01-27T08:26:01.057Z"
   },
   {
    "duration": 764,
    "start_time": "2022-01-27T08:26:32.017Z"
   },
   {
    "duration": 1872,
    "start_time": "2022-01-27T08:26:59.377Z"
   },
   {
    "duration": 2063,
    "start_time": "2022-01-27T08:30:14.463Z"
   },
   {
    "duration": 1968,
    "start_time": "2022-01-27T08:32:34.286Z"
   },
   {
    "duration": 1929,
    "start_time": "2022-01-27T08:32:49.917Z"
   },
   {
    "duration": 1853,
    "start_time": "2022-01-27T08:33:27.316Z"
   },
   {
    "duration": 2043,
    "start_time": "2022-01-27T08:33:33.804Z"
   },
   {
    "duration": 1841,
    "start_time": "2022-01-27T08:33:58.302Z"
   },
   {
    "duration": 86,
    "start_time": "2022-01-27T08:36:22.559Z"
   },
   {
    "duration": 104,
    "start_time": "2022-01-27T08:36:30.604Z"
   },
   {
    "duration": 817,
    "start_time": "2022-01-27T08:36:42.619Z"
   },
   {
    "duration": 1926,
    "start_time": "2022-01-27T08:37:56.629Z"
   },
   {
    "duration": 1881,
    "start_time": "2022-01-27T08:38:22.402Z"
   },
   {
    "duration": 2746,
    "start_time": "2022-01-27T08:42:11.561Z"
   },
   {
    "duration": 3569,
    "start_time": "2022-01-27T08:50:47.011Z"
   },
   {
    "duration": 16,
    "start_time": "2022-01-27T08:58:43.200Z"
   },
   {
    "duration": 13,
    "start_time": "2022-01-27T09:18:09.517Z"
   },
   {
    "duration": 3059,
    "start_time": "2022-01-27T09:26:41.219Z"
   },
   {
    "duration": 2486,
    "start_time": "2022-01-27T09:27:31.048Z"
   },
   {
    "duration": 398,
    "start_time": "2022-01-27T09:56:29.420Z"
   },
   {
    "duration": 407,
    "start_time": "2022-01-27T09:56:35.620Z"
   },
   {
    "duration": 104,
    "start_time": "2022-01-27T10:06:23.575Z"
   },
   {
    "duration": 14,
    "start_time": "2022-01-27T10:06:26.325Z"
   },
   {
    "duration": 15,
    "start_time": "2022-01-27T10:06:29.143Z"
   },
   {
    "duration": 5,
    "start_time": "2022-01-27T10:06:42.383Z"
   },
   {
    "duration": 9,
    "start_time": "2022-01-27T10:06:58.222Z"
   },
   {
    "duration": 35,
    "start_time": "2022-01-27T10:07:01.037Z"
   },
   {
    "duration": 51,
    "start_time": "2022-01-27T10:07:04.103Z"
   },
   {
    "duration": 471,
    "start_time": "2022-01-27T10:07:06.853Z"
   },
   {
    "duration": 176,
    "start_time": "2022-01-27T10:07:10.686Z"
   },
   {
    "duration": 29,
    "start_time": "2022-01-27T10:07:13.181Z"
   },
   {
    "duration": 372,
    "start_time": "2022-01-27T10:07:15.852Z"
   },
   {
    "duration": 255,
    "start_time": "2022-01-27T10:07:21.798Z"
   },
   {
    "duration": 22,
    "start_time": "2022-01-27T10:07:24.597Z"
   },
   {
    "duration": 679,
    "start_time": "2022-01-27T10:07:26.861Z"
   },
   {
    "duration": 156,
    "start_time": "2022-01-27T10:07:30.636Z"
   },
   {
    "duration": 369,
    "start_time": "2022-01-27T10:07:33.220Z"
   },
   {
    "duration": 152,
    "start_time": "2022-01-27T10:07:36.291Z"
   },
   {
    "duration": 31,
    "start_time": "2022-01-27T10:07:39.732Z"
   },
   {
    "duration": 372,
    "start_time": "2022-01-27T10:07:42.044Z"
   },
   {
    "duration": 162,
    "start_time": "2022-01-27T10:07:45.156Z"
   },
   {
    "duration": 21,
    "start_time": "2022-01-27T10:07:48.517Z"
   },
   {
    "duration": 371,
    "start_time": "2022-01-27T10:07:51.500Z"
   },
   {
    "duration": 155,
    "start_time": "2022-01-27T10:07:54.523Z"
   },
   {
    "duration": 21,
    "start_time": "2022-01-27T10:07:57.771Z"
   },
   {
    "duration": 56,
    "start_time": "2022-01-27T10:08:00.979Z"
   },
   {
    "duration": 8,
    "start_time": "2022-01-27T10:08:06.621Z"
   },
   {
    "duration": 972,
    "start_time": "2022-01-27T10:08:13.440Z"
   },
   {
    "duration": 14,
    "start_time": "2022-01-27T10:08:24.699Z"
   },
   {
    "duration": 10,
    "start_time": "2022-01-27T10:08:27.836Z"
   },
   {
    "duration": 18,
    "start_time": "2022-01-27T10:08:30.491Z"
   },
   {
    "duration": 25,
    "start_time": "2022-01-27T10:08:35.395Z"
   },
   {
    "duration": 25,
    "start_time": "2022-01-27T10:08:37.243Z"
   },
   {
    "duration": 448,
    "start_time": "2022-01-27T10:08:41.060Z"
   },
   {
    "duration": 34,
    "start_time": "2022-01-27T10:08:55.283Z"
   },
   {
    "duration": 394,
    "start_time": "2022-01-27T10:09:17.083Z"
   },
   {
    "duration": 183,
    "start_time": "2022-01-27T10:09:20.738Z"
   },
   {
    "duration": 10,
    "start_time": "2022-01-27T10:09:23.229Z"
   },
   {
    "duration": 11,
    "start_time": "2022-01-27T10:09:26.554Z"
   },
   {
    "duration": 3782,
    "start_time": "2022-01-27T10:09:29.804Z"
   },
   {
    "duration": 77,
    "start_time": "2022-01-27T10:09:39.362Z"
   },
   {
    "duration": 18,
    "start_time": "2022-01-27T10:09:44.371Z"
   },
   {
    "duration": 486,
    "start_time": "2022-01-27T10:09:48.963Z"
   },
   {
    "duration": 417,
    "start_time": "2022-01-27T10:09:56.635Z"
   },
   {
    "duration": 27,
    "start_time": "2022-01-27T10:10:00.836Z"
   },
   {
    "duration": 981,
    "start_time": "2022-01-27T10:10:09.441Z"
   },
   {
    "duration": 2354,
    "start_time": "2022-01-27T10:10:16.532Z"
   },
   {
    "duration": 1440,
    "start_time": "2022-01-27T10:10:23.439Z"
   }
  ],
  "kernelspec": {
   "display_name": "Python 3",
   "language": "python",
   "name": "python3"
  },
  "language_info": {
   "codemirror_mode": {
    "name": "ipython",
    "version": 3
   },
   "file_extension": ".py",
   "mimetype": "text/x-python",
   "name": "python",
   "nbconvert_exporter": "python",
   "pygments_lexer": "ipython3",
   "version": "3.7.8"
  },
  "toc": {
   "base_numbering": 1,
   "nav_menu": {},
   "number_sections": true,
   "sideBar": true,
   "skip_h1_title": true,
   "title_cell": "Содержание",
   "title_sidebar": "Contents",
   "toc_cell": true,
   "toc_position": {
    "height": "calc(100% - 180px)",
    "left": "10px",
    "top": "150px",
    "width": "165px"
   },
   "toc_section_display": true,
   "toc_window_display": false
  }
 },
 "nbformat": 4,
 "nbformat_minor": 2
}
